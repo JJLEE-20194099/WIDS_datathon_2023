{
 "cells": [
  {
   "cell_type": "code",
   "execution_count": 1,
   "id": "d3b8b761",
   "metadata": {},
   "outputs": [],
   "source": [
    "import numpy as np\n",
    "import pandas as pd\n",
    "import seaborn as sns\n",
    "import torch\n",
    "import torch.nn as nn\n",
    "import torch.nn.functional as f\n",
    "pd.set_option('display.max_columns', None)\n",
    "import matplotlib.pyplot as plt\n",
    "from sklearn.model_selection import train_test_split\n",
    "from torch.utils.data import DataLoader\n",
    "from sklearn import preprocessing\n",
    "from tqdm import tqdm\n",
    "from sklearn.preprocessing import FunctionTransformer\n",
    "import seaborn as sns \n",
    "from scipy import stats\n",
    "import statsmodels.api as sm\n",
    "\n",
    "from sklearn.ensemble import RandomForestRegressor, ExtraTreesRegressor, AdaBoostRegressor, BaggingRegressor, GradientBoostingRegressor\n",
    "from sklearn.tree import DecisionTreeRegressor\n",
    "from sklearn.linear_model import ElasticNet, Lasso\n",
    "from sklearn.feature_selection import SelectFromModel\n",
    "from sklearn.svm import SVR\n",
    "from sklearn.model_selection import KFold, cross_val_score\n",
    "from sklearn.pipeline import make_pipeline\n",
    "from sklearn.decomposition import PCA\n",
    "from sklearn.preprocessing import RobustScaler\n",
    "import h2o\n",
    "from h2o.automl import H2OAutoML\n",
    "from sklearn.base import BaseEstimator, TransformerMixin, RegressorMixin, clone\n",
    "from sklearn.neural_network import MLPRegressor\n",
    "from scipy.stats import norm\n",
    "import copy\n",
    "from sklearn.model_selection import KFold\n",
    "from catboost import CatBoostRegressor, Pool, metrics, cv\n",
    "import xgboost as xgb\n",
    "from scipy.stats import gmean\n",
    "from sklearn.impute import KNNImputer\n",
    "from sklearn.metrics import mean_squared_error\n",
    "from sklearn.preprocessing import LabelEncoder"
   ]
  },
  {
   "cell_type": "code",
   "execution_count": 2,
   "id": "9ee5719a",
   "metadata": {},
   "outputs": [
    {
     "name": "stdout",
     "output_type": "stream",
     "text": [
      "startdate\n",
      "year\n",
      "quarter\n",
      "month\n",
      "week\n",
      "dayofyear\n",
      "season\n",
      "loc_group\n",
      "climateregions__climateregion\n"
     ]
    }
   ],
   "source": [
    "train_df =  pd.read_csv('n_train.csv')\n",
    "test_df  =  pd.read_csv('n_test.csv')\n",
    "for c in train_df.columns:\n",
    "    if train_df[c].dtypes != 'float64':\n",
    "        print(c)"
   ]
  },
  {
   "cell_type": "code",
   "execution_count": 6,
   "id": "f797c8d3",
   "metadata": {},
   "outputs": [
    {
     "name": "stdout",
     "output_type": "stream",
     "text": [
      "mei__mei\n",
      "mei__meirank\n",
      "mei__nip\n"
     ]
    }
   ],
   "source": [
    "for c in train_df.columns:\n",
    "    if('mei' in c):\n",
    "        print(c)"
   ]
  },
  {
   "cell_type": "code",
   "execution_count": 15,
   "id": "a4feab27",
   "metadata": {},
   "outputs": [
    {
     "name": "stdout",
     "output_type": "stream",
     "text": [
      "icec-2010-1\n",
      "icec-2010-2\n",
      "icec-2010-3\n",
      "icec-2010-4\n",
      "icec-2010-5\n",
      "icec-2010-6\n",
      "icec-2010-7\n",
      "icec-2010-8\n",
      "icec-2010-9\n",
      "icec-2010-10\n"
     ]
    }
   ],
   "source": [
    "for c in train_df.columns:\n",
    "    if('icec' in c):\n",
    "        print(c)"
   ]
  },
  {
   "cell_type": "code",
   "execution_count": 16,
   "id": "2c96fdce",
   "metadata": {},
   "outputs": [
    {
     "name": "stdout",
     "output_type": "stream",
     "text": [
      "sst-2010-1\n",
      "sst-2010-2\n",
      "sst-2010-3\n",
      "sst-2010-4\n",
      "sst-2010-5\n",
      "sst-2010-6\n",
      "sst-2010-7\n",
      "sst-2010-8\n",
      "sst-2010-9\n",
      "sst-2010-10\n"
     ]
    }
   ],
   "source": [
    "for c in train_df.columns:\n",
    "    if('sst' in c):\n",
    "        print(c)"
   ]
  },
  {
   "cell_type": "code",
   "execution_count": 18,
   "id": "84bc7ed7",
   "metadata": {},
   "outputs": [
    {
     "data": {
      "text/plain": [
       "31"
      ]
     },
     "execution_count": 18,
     "metadata": {},
     "output_type": "execute_result"
    }
   ],
   "source": [
    "len(train_df['lon'].unique())"
   ]
  }
 ],
 "metadata": {
  "kernelspec": {
   "display_name": "wids-env",
   "language": "python",
   "name": "wids-env"
  },
  "language_info": {
   "codemirror_mode": {
    "name": "ipython",
    "version": 3
   },
   "file_extension": ".py",
   "mimetype": "text/x-python",
   "name": "python",
   "nbconvert_exporter": "python",
   "pygments_lexer": "ipython3",
   "version": "3.7.15"
  }
 },
 "nbformat": 4,
 "nbformat_minor": 5
}
