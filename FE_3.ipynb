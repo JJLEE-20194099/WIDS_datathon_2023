{
 "cells": [
  {
   "cell_type": "code",
   "execution_count": 1,
   "id": "f63b11e7",
   "metadata": {},
   "outputs": [],
   "source": [
    "import numpy as np\n",
    "import pandas as pd\n",
    "import seaborn as sns\n",
    "import torch\n",
    "import torch.nn as nn\n",
    "import torch.nn.functional as f\n",
    "pd.set_option('display.max_columns', None)\n",
    "import matplotlib.pyplot as plt\n",
    "from sklearn.model_selection import train_test_split\n",
    "from torch.utils.data import DataLoader\n",
    "from sklearn import preprocessing\n",
    "from tqdm import tqdm\n",
    "from sklearn.preprocessing import FunctionTransformer\n",
    "import seaborn as sns \n",
    "from scipy import stats\n",
    "import statsmodels.api as sm\n",
    "\n",
    "from sklearn.ensemble import RandomForestRegressor, ExtraTreesRegressor, AdaBoostRegressor, BaggingRegressor, GradientBoostingRegressor\n",
    "from sklearn.tree import DecisionTreeRegressor\n",
    "from sklearn.linear_model import ElasticNet, Lasso\n",
    "from sklearn.feature_selection import SelectFromModel\n",
    "from sklearn.svm import SVR\n",
    "from sklearn.model_selection import KFold, cross_val_score\n",
    "from sklearn.pipeline import make_pipeline\n",
    "from sklearn.decomposition import PCA\n",
    "from sklearn.preprocessing import RobustScaler\n",
    "import h2o\n",
    "from h2o.automl import H2OAutoML\n",
    "from sklearn.base import BaseEstimator, TransformerMixin, RegressorMixin, clone\n",
    "from sklearn.neural_network import MLPRegressor\n",
    "from scipy.stats import norm\n",
    "import copy\n",
    "from sklearn.model_selection import KFold\n",
    "from catboost import CatBoostRegressor, Pool, metrics, cv\n",
    "import xgboost as xgb\n",
    "from scipy.stats import gmean\n",
    "from sklearn.impute import KNNImputer\n",
    "from sklearn.metrics import mean_squared_error\n",
    "from sklearn.preprocessing import LabelEncoder"
   ]
  },
  {
   "cell_type": "code",
   "execution_count": 2,
   "id": "b750100a",
   "metadata": {},
   "outputs": [],
   "source": [
    "add_train = pd.read_csv('./n_train.csv')\n",
    "add_test = pd.read_csv('./n_test.csv')"
   ]
  },
  {
   "cell_type": "code",
   "execution_count": 3,
   "id": "a47eb0e9",
   "metadata": {},
   "outputs": [],
   "source": [
    "climate_type_dict = {'1':'BSk',\n",
    " '9': 'Dfb',\n",
    " '4': 'Cfa',\n",
    " '7': 'Csb',\n",
    " '8': 'Dfa',\n",
    " '3': 'BWk',\n",
    " '10': 'Dfc',\n",
    " '2': 'BWh',\n",
    " '6': 'Csa',\n",
    " '11': 'Dsb',\n",
    " '0': 'BSh',\n",
    " '5': 'Cfb',\n",
    " '12': 'Dsc',\n",
    " '13': 'Dwa',\n",
    " '14': 'Dwb'}"
   ]
  },
  {
   "cell_type": "code",
   "execution_count": 4,
   "id": "6ab9423b",
   "metadata": {},
   "outputs": [],
   "source": [
    "all_cols = add_train.columns.tolist()"
   ]
  },
  {
   "cell_type": "code",
   "execution_count": 5,
   "id": "258cca0e",
   "metadata": {},
   "outputs": [],
   "source": [
    "target=[\"contest-tmp2m-14d__tmp2m\"]"
   ]
  },
  {
   "cell_type": "code",
   "execution_count": 6,
   "id": "657e29fb",
   "metadata": {},
   "outputs": [
    {
     "name": "stdout",
     "output_type": "stream",
     "text": [
      "climateregions__climateregion\n"
     ]
    }
   ],
   "source": [
    "train_df =  pd.read_csv('fe_v1_train.csv')\n",
    "test_df  =  pd.read_csv('fe_v1_test.csv')\n",
    "for c in train_df.columns:\n",
    "    if train_df[c].dtypes != 'float64':\n",
    "        print(c)"
   ]
  },
  {
   "cell_type": "code",
   "execution_count": 7,
   "id": "66b5ae01",
   "metadata": {},
   "outputs": [
    {
     "name": "stdout",
     "output_type": "stream",
     "text": [
      "Main features: 63\n"
     ]
    }
   ],
   "source": [
    "exclude_cols = ['index', 'startdate']\n",
    "best_cols = [c for c in train_df.columns if c not in exclude_cols and c not in target]\n",
    "print(\"Main features:\", len(best_cols))"
   ]
  },
  {
   "cell_type": "code",
   "execution_count": 8,
   "id": "d79003b9",
   "metadata": {},
   "outputs": [
    {
     "name": "stdout",
     "output_type": "stream",
     "text": [
      "contest-precip-14d__precip\n"
     ]
    }
   ],
   "source": [
    "for c in all_cols:\n",
    "    if 'contest-precip-14d' in c:\n",
    "        print(c)"
   ]
  },
  {
   "cell_type": "code",
   "execution_count": 9,
   "id": "281ff6e9",
   "metadata": {},
   "outputs": [],
   "source": [
    "def calculate_season(month):\n",
    "    if month == 12 or month == 1 or month == 2:\n",
    "        return 4\n",
    "    if month == 9 or month == 10 or month == 11:\n",
    "        return 3\n",
    "    if month == 7 or month == 8 or month == 6:\n",
    "        return 2\n",
    "    if month == 3 or month == 4 or month == 5:\n",
    "        return 1"
   ]
  },
  {
   "cell_type": "code",
   "execution_count": 10,
   "id": "55ccb6d1",
   "metadata": {},
   "outputs": [],
   "source": [
    "train_df['month'] = add_train['month']\n",
    "test_df['month'] = add_test['month']\n",
    "\n",
    "train_df['season'] = train_df['month'].apply(calculate_season)\n",
    "test_df['season'] = test_df['month'].apply(calculate_season)\n",
    "\n",
    "train_df['loc_group'] = add_train['loc_group']\n",
    "test_df['loc_group'] = add_test['loc_group']\n",
    "\n",
    "train_df['year'] = add_train['year']\n",
    "test_df['year'] = add_test['year']\n",
    "\n",
    "def map_climate_type(x):\n",
    "    return climate_type_dict[str(x)]\n",
    "\n",
    "train_df['climate_type'] = train_df['climateregions__climateregion'].apply(map_climate_type)\n",
    "test_df['climate_type'] = train_df['climateregions__climateregion'].apply(map_climate_type)\n",
    "\n",
    "precip_col = 'contest-precip-14d__precip'\n",
    "wind_col = 'contest-wind-h500-14d__wind-hgt-500'\n",
    "\n",
    "group_cols = ['loc_group', 'climate_type', 'year', 'season', 'month']\n",
    "season_group_cols = ['loc_group', 'climate_type', 'year', 'season']\n"
   ]
  },
  {
   "cell_type": "code",
   "execution_count": 11,
   "id": "89eba818",
   "metadata": {},
   "outputs": [],
   "source": [
    "slp_col = 'contest-slp-14d__slp'\n",
    "ccsm3_col = 'nmme-tmp2m-34w__ccsm3'\n",
    "pres_col = 'contest-pres-sfc-gauss-14d__pres'\n",
    "precip_col = 'contest-precip-14d__precip'\n",
    "stt_col = 'sst-2010-1'"
   ]
  },
  {
   "cell_type": "code",
   "execution_count": 12,
   "id": "f2835671",
   "metadata": {},
   "outputs": [
    {
     "name": "stdout",
     "output_type": "stream",
     "text": [
      "74839.94 102845.57\n",
      "75925.02 102119.93\n"
     ]
    }
   ],
   "source": [
    "print(train_df[pres_col].min(), train_df[pres_col].max())\n",
    "print(test_df[pres_col].min(), test_df[pres_col].max())"
   ]
  },
  {
   "cell_type": "code",
   "execution_count": 13,
   "id": "e4b5b1b8",
   "metadata": {},
   "outputs": [
    {
     "name": "stdout",
     "output_type": "stream",
     "text": [
      "-219.87 352.2\n",
      "89.73 345.33\n"
     ]
    }
   ],
   "source": [
    "print(train_df[stt_col].min(), train_df[stt_col].max())\n",
    "print(test_df[stt_col].min(), test_df[stt_col].max())"
   ]
  },
  {
   "cell_type": "code",
   "execution_count": 14,
   "id": "9f0f35cb",
   "metadata": {},
   "outputs": [
    {
     "name": "stdout",
     "output_type": "stream",
     "text": [
      "0.0 502.63\n",
      "0.0 439.54\n"
     ]
    }
   ],
   "source": [
    "print(train_df[precip_col].min(), train_df[precip_col].max())\n",
    "print(test_df[precip_col].min(), test_df[precip_col].max())"
   ]
  },
  {
   "cell_type": "code",
   "execution_count": 15,
   "id": "9cc45f65",
   "metadata": {},
   "outputs": [],
   "source": [
    "# train_df[pres_col] = train_df[pres_col] - 100000\n",
    "# test_df[pres_col] = test_df[pres_col] - 100000"
   ]
  },
  {
   "cell_type": "code",
   "execution_count": 16,
   "id": "2cad7d7a",
   "metadata": {},
   "outputs": [
    {
     "name": "stdout",
     "output_type": "stream",
     "text": [
      "100379.21 103275.84\n",
      "100593.22 102258.27\n"
     ]
    }
   ],
   "source": [
    "print(train_df[slp_col].min(), train_df[slp_col].max())\n",
    "print(test_df[slp_col].min(), test_df[slp_col].max())"
   ]
  },
  {
   "cell_type": "code",
   "execution_count": 17,
   "id": "469893f4",
   "metadata": {},
   "outputs": [
    {
     "name": "stdout",
     "output_type": "stream",
     "text": [
      "5289.25 5958.2\n",
      "5504.59 5925.56\n"
     ]
    }
   ],
   "source": [
    "print(train_df[wind_col].min(), train_df[wind_col].max())\n",
    "print(test_df[wind_col].min(), test_df[wind_col].max())"
   ]
  },
  {
   "cell_type": "code",
   "execution_count": 18,
   "id": "856be928",
   "metadata": {},
   "outputs": [],
   "source": [
    "train_df[wind_col] = train_df[wind_col] - 5000\n",
    "test_df[wind_col] = test_df[wind_col] - 5000"
   ]
  },
  {
   "cell_type": "code",
   "execution_count": 19,
   "id": "f2e36dcb",
   "metadata": {},
   "outputs": [],
   "source": [
    "train_df[slp_col] = train_df[slp_col] - 100000\n",
    "test_df[slp_col] = test_df[slp_col] - 100000"
   ]
  },
  {
   "cell_type": "code",
   "execution_count": 20,
   "id": "e00fe5ce",
   "metadata": {},
   "outputs": [
    {
     "data": {
      "text/plain": [
       "(407088, 68)"
      ]
     },
     "execution_count": 20,
     "metadata": {},
     "output_type": "execute_result"
    }
   ],
   "source": [
    "check_cols = [c for c in train_df.columns if c not in target and c not in exclude_cols]\n",
    "\n",
    "df = pd.concat([train_df[check_cols], test_df[check_cols]], axis=0)\n",
    "df.shape"
   ]
  },
  {
   "cell_type": "code",
   "execution_count": 21,
   "id": "93c0c117",
   "metadata": {},
   "outputs": [],
   "source": [
    "def create_df_by_group_and_agg(dataframe, grouped_cols, action, my_col, return_name):\n",
    "    if action == \"first\":\n",
    "        ans_df = dataframe.groupby(grouped_cols)[my_col].first().reset_index()\n",
    "    elif action == \"min\":\n",
    "        ans_df = dataframe.groupby(grouped_cols)[my_col].min().reset_index()\n",
    "    elif action == \"max\":\n",
    "        ans_df = dataframe.groupby(grouped_cols)[my_col].max().reset_index()\n",
    "    elif action == \"mean\":\n",
    "        ans_df = dataframe.groupby(grouped_cols)[my_col].mean().reset_index()\n",
    "    print(\"Nan\")\n",
    "    ans_df = ans_df.rename(columns={my_col: return_name})\n",
    "    for c in ans_df.columns:\n",
    "        if ans_df[c].isnull().sum() > 0:\n",
    "            print(c, ans_df[c].isnull().sum())\n",
    "    return ans_df"
   ]
  },
  {
   "cell_type": "code",
   "execution_count": 22,
   "id": "a52a1320",
   "metadata": {},
   "outputs": [],
   "source": [
    "def assign_train_test_df(my_col):\n",
    "    train_df[my_col] = df[:len(train_df)][my_col].tolist()\n",
    "    test_df[my_col] = df[len(train_df):][my_col].tolist()"
   ]
  },
  {
   "cell_type": "code",
   "execution_count": 23,
   "id": "d981dfd7",
   "metadata": {},
   "outputs": [
    {
     "name": "stdout",
     "output_type": "stream",
     "text": [
      "Nan\n"
     ]
    },
    {
     "data": {
      "text/html": [
       "<div>\n",
       "<style scoped>\n",
       "    .dataframe tbody tr th:only-of-type {\n",
       "        vertical-align: middle;\n",
       "    }\n",
       "\n",
       "    .dataframe tbody tr th {\n",
       "        vertical-align: top;\n",
       "    }\n",
       "\n",
       "    .dataframe thead th {\n",
       "        text-align: right;\n",
       "    }\n",
       "</style>\n",
       "<table border=\"1\" class=\"dataframe\">\n",
       "  <thead>\n",
       "    <tr style=\"text-align: right;\">\n",
       "      <th></th>\n",
       "      <th>loc_group</th>\n",
       "      <th>climate_type</th>\n",
       "      <th>year</th>\n",
       "      <th>season</th>\n",
       "      <th>first_slp</th>\n",
       "    </tr>\n",
       "  </thead>\n",
       "  <tbody>\n",
       "    <tr>\n",
       "      <th>0</th>\n",
       "      <td>0</td>\n",
       "      <td>BSh</td>\n",
       "      <td>2014</td>\n",
       "      <td>3</td>\n",
       "      <td>1352.08</td>\n",
       "    </tr>\n",
       "    <tr>\n",
       "      <th>1</th>\n",
       "      <td>0</td>\n",
       "      <td>BSh</td>\n",
       "      <td>2014</td>\n",
       "      <td>4</td>\n",
       "      <td>2072.81</td>\n",
       "    </tr>\n",
       "    <tr>\n",
       "      <th>2</th>\n",
       "      <td>0</td>\n",
       "      <td>BSh</td>\n",
       "      <td>2015</td>\n",
       "      <td>1</td>\n",
       "      <td>1917.24</td>\n",
       "    </tr>\n",
       "  </tbody>\n",
       "</table>\n",
       "</div>"
      ],
      "text/plain": [
       "   loc_group climate_type  year  season  first_slp\n",
       "0          0          BSh  2014       3    1352.08\n",
       "1          0          BSh  2014       4    2072.81\n",
       "2          0          BSh  2015       1    1917.24"
      ]
     },
     "execution_count": 23,
     "metadata": {},
     "output_type": "execute_result"
    }
   ],
   "source": [
    "first_slp_df = create_df_by_group_and_agg(df, season_group_cols, \"first\", slp_col, \"first_slp\")\n",
    "first_slp_df.head(3)"
   ]
  },
  {
   "cell_type": "code",
   "execution_count": 24,
   "id": "9af3e9fd",
   "metadata": {},
   "outputs": [
    {
     "name": "stdout",
     "output_type": "stream",
     "text": [
      "Nan\n"
     ]
    },
    {
     "data": {
      "text/html": [
       "<div>\n",
       "<style scoped>\n",
       "    .dataframe tbody tr th:only-of-type {\n",
       "        vertical-align: middle;\n",
       "    }\n",
       "\n",
       "    .dataframe tbody tr th {\n",
       "        vertical-align: top;\n",
       "    }\n",
       "\n",
       "    .dataframe thead th {\n",
       "        text-align: right;\n",
       "    }\n",
       "</style>\n",
       "<table border=\"1\" class=\"dataframe\">\n",
       "  <thead>\n",
       "    <tr style=\"text-align: right;\">\n",
       "      <th></th>\n",
       "      <th>loc_group</th>\n",
       "      <th>climate_type</th>\n",
       "      <th>year</th>\n",
       "      <th>season</th>\n",
       "      <th>first_wind</th>\n",
       "    </tr>\n",
       "  </thead>\n",
       "  <tbody>\n",
       "    <tr>\n",
       "      <th>0</th>\n",
       "      <td>0</td>\n",
       "      <td>BSh</td>\n",
       "      <td>2014</td>\n",
       "      <td>3</td>\n",
       "      <td>899.66</td>\n",
       "    </tr>\n",
       "    <tr>\n",
       "      <th>1</th>\n",
       "      <td>0</td>\n",
       "      <td>BSh</td>\n",
       "      <td>2014</td>\n",
       "      <td>4</td>\n",
       "      <td>847.35</td>\n",
       "    </tr>\n",
       "    <tr>\n",
       "      <th>2</th>\n",
       "      <td>0</td>\n",
       "      <td>BSh</td>\n",
       "      <td>2015</td>\n",
       "      <td>1</td>\n",
       "      <td>804.47</td>\n",
       "    </tr>\n",
       "  </tbody>\n",
       "</table>\n",
       "</div>"
      ],
      "text/plain": [
       "   loc_group climate_type  year  season  first_wind\n",
       "0          0          BSh  2014       3      899.66\n",
       "1          0          BSh  2014       4      847.35\n",
       "2          0          BSh  2015       1      804.47"
      ]
     },
     "execution_count": 24,
     "metadata": {},
     "output_type": "execute_result"
    }
   ],
   "source": [
    "first_wind_df = create_df_by_group_and_agg(df, season_group_cols, \"first\", wind_col, \"first_wind\")\n",
    "first_wind_df.head(3)"
   ]
  },
  {
   "cell_type": "code",
   "execution_count": 25,
   "id": "c0bdcedd",
   "metadata": {},
   "outputs": [
    {
     "name": "stdout",
     "output_type": "stream",
     "text": [
      "Nan\n"
     ]
    },
    {
     "data": {
      "text/html": [
       "<div>\n",
       "<style scoped>\n",
       "    .dataframe tbody tr th:only-of-type {\n",
       "        vertical-align: middle;\n",
       "    }\n",
       "\n",
       "    .dataframe tbody tr th {\n",
       "        vertical-align: top;\n",
       "    }\n",
       "\n",
       "    .dataframe thead th {\n",
       "        text-align: right;\n",
       "    }\n",
       "</style>\n",
       "<table border=\"1\" class=\"dataframe\">\n",
       "  <thead>\n",
       "    <tr style=\"text-align: right;\">\n",
       "      <th></th>\n",
       "      <th>loc_group</th>\n",
       "      <th>climate_type</th>\n",
       "      <th>year</th>\n",
       "      <th>season</th>\n",
       "      <th>first_precip</th>\n",
       "    </tr>\n",
       "  </thead>\n",
       "  <tbody>\n",
       "    <tr>\n",
       "      <th>0</th>\n",
       "      <td>0</td>\n",
       "      <td>BSh</td>\n",
       "      <td>2014</td>\n",
       "      <td>3</td>\n",
       "      <td>94.31</td>\n",
       "    </tr>\n",
       "    <tr>\n",
       "      <th>1</th>\n",
       "      <td>0</td>\n",
       "      <td>BSh</td>\n",
       "      <td>2014</td>\n",
       "      <td>4</td>\n",
       "      <td>25.53</td>\n",
       "    </tr>\n",
       "    <tr>\n",
       "      <th>2</th>\n",
       "      <td>0</td>\n",
       "      <td>BSh</td>\n",
       "      <td>2015</td>\n",
       "      <td>1</td>\n",
       "      <td>31.94</td>\n",
       "    </tr>\n",
       "  </tbody>\n",
       "</table>\n",
       "</div>"
      ],
      "text/plain": [
       "   loc_group climate_type  year  season  first_precip\n",
       "0          0          BSh  2014       3         94.31\n",
       "1          0          BSh  2014       4         25.53\n",
       "2          0          BSh  2015       1         31.94"
      ]
     },
     "execution_count": 25,
     "metadata": {},
     "output_type": "execute_result"
    }
   ],
   "source": [
    "first_precip_df = create_df_by_group_and_agg(df, season_group_cols, \"first\", precip_col, \"first_precip\")\n",
    "first_precip_df.head(3)"
   ]
  },
  {
   "cell_type": "code",
   "execution_count": 26,
   "id": "a38a50e1",
   "metadata": {},
   "outputs": [
    {
     "name": "stdout",
     "output_type": "stream",
     "text": [
      "Nan\n"
     ]
    },
    {
     "data": {
      "text/html": [
       "<div>\n",
       "<style scoped>\n",
       "    .dataframe tbody tr th:only-of-type {\n",
       "        vertical-align: middle;\n",
       "    }\n",
       "\n",
       "    .dataframe tbody tr th {\n",
       "        vertical-align: top;\n",
       "    }\n",
       "\n",
       "    .dataframe thead th {\n",
       "        text-align: right;\n",
       "    }\n",
       "</style>\n",
       "<table border=\"1\" class=\"dataframe\">\n",
       "  <thead>\n",
       "    <tr style=\"text-align: right;\">\n",
       "      <th></th>\n",
       "      <th>loc_group</th>\n",
       "      <th>climate_type</th>\n",
       "      <th>year</th>\n",
       "      <th>season</th>\n",
       "      <th>first_ccsm3</th>\n",
       "    </tr>\n",
       "  </thead>\n",
       "  <tbody>\n",
       "    <tr>\n",
       "      <th>0</th>\n",
       "      <td>0</td>\n",
       "      <td>BSh</td>\n",
       "      <td>2014</td>\n",
       "      <td>3</td>\n",
       "      <td>27.57</td>\n",
       "    </tr>\n",
       "    <tr>\n",
       "      <th>1</th>\n",
       "      <td>0</td>\n",
       "      <td>BSh</td>\n",
       "      <td>2014</td>\n",
       "      <td>4</td>\n",
       "      <td>6.66</td>\n",
       "    </tr>\n",
       "    <tr>\n",
       "      <th>2</th>\n",
       "      <td>0</td>\n",
       "      <td>BSh</td>\n",
       "      <td>2015</td>\n",
       "      <td>1</td>\n",
       "      <td>15.25</td>\n",
       "    </tr>\n",
       "  </tbody>\n",
       "</table>\n",
       "</div>"
      ],
      "text/plain": [
       "   loc_group climate_type  year  season  first_ccsm3\n",
       "0          0          BSh  2014       3        27.57\n",
       "1          0          BSh  2014       4         6.66\n",
       "2          0          BSh  2015       1        15.25"
      ]
     },
     "execution_count": 26,
     "metadata": {},
     "output_type": "execute_result"
    }
   ],
   "source": [
    "first_ccsm3_df = create_df_by_group_and_agg(df, season_group_cols, \"first\", ccsm3_col, \"first_ccsm3\")\n",
    "first_ccsm3_df.head(3)"
   ]
  },
  {
   "cell_type": "code",
   "execution_count": 27,
   "id": "ec6a5160",
   "metadata": {},
   "outputs": [
    {
     "name": "stdout",
     "output_type": "stream",
     "text": [
      "Nan\n"
     ]
    },
    {
     "data": {
      "text/html": [
       "<div>\n",
       "<style scoped>\n",
       "    .dataframe tbody tr th:only-of-type {\n",
       "        vertical-align: middle;\n",
       "    }\n",
       "\n",
       "    .dataframe tbody tr th {\n",
       "        vertical-align: top;\n",
       "    }\n",
       "\n",
       "    .dataframe thead th {\n",
       "        text-align: right;\n",
       "    }\n",
       "</style>\n",
       "<table border=\"1\" class=\"dataframe\">\n",
       "  <thead>\n",
       "    <tr style=\"text-align: right;\">\n",
       "      <th></th>\n",
       "      <th>loc_group</th>\n",
       "      <th>climate_type</th>\n",
       "      <th>year</th>\n",
       "      <th>season</th>\n",
       "      <th>first_pres</th>\n",
       "    </tr>\n",
       "  </thead>\n",
       "  <tbody>\n",
       "    <tr>\n",
       "      <th>0</th>\n",
       "      <td>0</td>\n",
       "      <td>BSh</td>\n",
       "      <td>2014</td>\n",
       "      <td>3</td>\n",
       "      <td>27.57</td>\n",
       "    </tr>\n",
       "    <tr>\n",
       "      <th>1</th>\n",
       "      <td>0</td>\n",
       "      <td>BSh</td>\n",
       "      <td>2014</td>\n",
       "      <td>4</td>\n",
       "      <td>6.66</td>\n",
       "    </tr>\n",
       "    <tr>\n",
       "      <th>2</th>\n",
       "      <td>0</td>\n",
       "      <td>BSh</td>\n",
       "      <td>2015</td>\n",
       "      <td>1</td>\n",
       "      <td>15.25</td>\n",
       "    </tr>\n",
       "  </tbody>\n",
       "</table>\n",
       "</div>"
      ],
      "text/plain": [
       "   loc_group climate_type  year  season  first_pres\n",
       "0          0          BSh  2014       3       27.57\n",
       "1          0          BSh  2014       4        6.66\n",
       "2          0          BSh  2015       1       15.25"
      ]
     },
     "execution_count": 27,
     "metadata": {},
     "output_type": "execute_result"
    }
   ],
   "source": [
    "first_pres_df = create_df_by_group_and_agg(df, season_group_cols, \"first\", ccsm3_col, \"first_pres\")\n",
    "first_pres_df.head(3)"
   ]
  },
  {
   "cell_type": "code",
   "execution_count": 28,
   "id": "49685bc2",
   "metadata": {},
   "outputs": [
    {
     "name": "stdout",
     "output_type": "stream",
     "text": [
      "Nan\n"
     ]
    },
    {
     "data": {
      "text/html": [
       "<div>\n",
       "<style scoped>\n",
       "    .dataframe tbody tr th:only-of-type {\n",
       "        vertical-align: middle;\n",
       "    }\n",
       "\n",
       "    .dataframe tbody tr th {\n",
       "        vertical-align: top;\n",
       "    }\n",
       "\n",
       "    .dataframe thead th {\n",
       "        text-align: right;\n",
       "    }\n",
       "</style>\n",
       "<table border=\"1\" class=\"dataframe\">\n",
       "  <thead>\n",
       "    <tr style=\"text-align: right;\">\n",
       "      <th></th>\n",
       "      <th>loc_group</th>\n",
       "      <th>climate_type</th>\n",
       "      <th>year</th>\n",
       "      <th>season</th>\n",
       "      <th>first_sst</th>\n",
       "    </tr>\n",
       "  </thead>\n",
       "  <tbody>\n",
       "    <tr>\n",
       "      <th>0</th>\n",
       "      <td>0</td>\n",
       "      <td>BSh</td>\n",
       "      <td>2014</td>\n",
       "      <td>3</td>\n",
       "      <td>352.20</td>\n",
       "    </tr>\n",
       "    <tr>\n",
       "      <th>1</th>\n",
       "      <td>0</td>\n",
       "      <td>BSh</td>\n",
       "      <td>2014</td>\n",
       "      <td>4</td>\n",
       "      <td>-27.73</td>\n",
       "    </tr>\n",
       "    <tr>\n",
       "      <th>2</th>\n",
       "      <td>0</td>\n",
       "      <td>BSh</td>\n",
       "      <td>2015</td>\n",
       "      <td>1</td>\n",
       "      <td>-182.10</td>\n",
       "    </tr>\n",
       "  </tbody>\n",
       "</table>\n",
       "</div>"
      ],
      "text/plain": [
       "   loc_group climate_type  year  season  first_sst\n",
       "0          0          BSh  2014       3     352.20\n",
       "1          0          BSh  2014       4     -27.73\n",
       "2          0          BSh  2015       1    -182.10"
      ]
     },
     "execution_count": 28,
     "metadata": {},
     "output_type": "execute_result"
    }
   ],
   "source": [
    "first_sst_df = create_df_by_group_and_agg(df, season_group_cols, \"first\", stt_col, \"first_sst\")\n",
    "first_sst_df.head(3)"
   ]
  },
  {
   "cell_type": "code",
   "execution_count": 29,
   "id": "82f437d2",
   "metadata": {
    "scrolled": true
   },
   "outputs": [
    {
     "name": "stdout",
     "output_type": "stream",
     "text": [
      "Nan\n"
     ]
    },
    {
     "data": {
      "text/html": [
       "<div>\n",
       "<style scoped>\n",
       "    .dataframe tbody tr th:only-of-type {\n",
       "        vertical-align: middle;\n",
       "    }\n",
       "\n",
       "    .dataframe tbody tr th {\n",
       "        vertical-align: top;\n",
       "    }\n",
       "\n",
       "    .dataframe thead th {\n",
       "        text-align: right;\n",
       "    }\n",
       "</style>\n",
       "<table border=\"1\" class=\"dataframe\">\n",
       "  <thead>\n",
       "    <tr style=\"text-align: right;\">\n",
       "      <th></th>\n",
       "      <th>loc_group</th>\n",
       "      <th>climate_type</th>\n",
       "      <th>year</th>\n",
       "      <th>season</th>\n",
       "      <th>month</th>\n",
       "      <th>first_slp_month</th>\n",
       "    </tr>\n",
       "  </thead>\n",
       "  <tbody>\n",
       "    <tr>\n",
       "      <th>0</th>\n",
       "      <td>0</td>\n",
       "      <td>BSh</td>\n",
       "      <td>2014</td>\n",
       "      <td>3</td>\n",
       "      <td>9</td>\n",
       "      <td>1352.08</td>\n",
       "    </tr>\n",
       "    <tr>\n",
       "      <th>1</th>\n",
       "      <td>0</td>\n",
       "      <td>BSh</td>\n",
       "      <td>2014</td>\n",
       "      <td>3</td>\n",
       "      <td>10</td>\n",
       "      <td>1254.96</td>\n",
       "    </tr>\n",
       "    <tr>\n",
       "      <th>2</th>\n",
       "      <td>0</td>\n",
       "      <td>BSh</td>\n",
       "      <td>2014</td>\n",
       "      <td>3</td>\n",
       "      <td>11</td>\n",
       "      <td>1952.19</td>\n",
       "    </tr>\n",
       "  </tbody>\n",
       "</table>\n",
       "</div>"
      ],
      "text/plain": [
       "   loc_group climate_type  year  season  month  first_slp_month\n",
       "0          0          BSh  2014       3      9          1352.08\n",
       "1          0          BSh  2014       3     10          1254.96\n",
       "2          0          BSh  2014       3     11          1952.19"
      ]
     },
     "execution_count": 29,
     "metadata": {},
     "output_type": "execute_result"
    }
   ],
   "source": [
    "first_slp_df_month = create_df_by_group_and_agg(df, group_cols, \"first\", slp_col, \"first_slp_month\")\n",
    "first_slp_df_month.head(3)"
   ]
  },
  {
   "cell_type": "code",
   "execution_count": 30,
   "id": "12de230a",
   "metadata": {},
   "outputs": [],
   "source": [
    "df = df.merge(first_slp_df, how='left', on=season_group_cols)\n",
    "df['diff_slp_first'] = df[slp_col] - df['first_slp']\n",
    "assign_train_test_df('diff_slp_first')"
   ]
  },
  {
   "cell_type": "code",
   "execution_count": 31,
   "id": "7c589eec",
   "metadata": {},
   "outputs": [],
   "source": [
    "df = df.merge(first_precip_df, how='left', on=season_group_cols)\n",
    "df['diff_precip_first'] = df[precip_col] - df['first_precip']\n",
    "assign_train_test_df('diff_precip_first')"
   ]
  },
  {
   "cell_type": "code",
   "execution_count": 32,
   "id": "61fcf9a5",
   "metadata": {},
   "outputs": [],
   "source": [
    "df = df.merge(first_sst_df, how='left', on=season_group_cols)\n",
    "df['diff_sst_first'] = df[stt_col] - df['first_sst']\n",
    "assign_train_test_df('diff_sst_first')"
   ]
  },
  {
   "cell_type": "code",
   "execution_count": 33,
   "id": "0df28569",
   "metadata": {},
   "outputs": [],
   "source": [
    "df = df.merge(first_pres_df, how='left', on=season_group_cols)\n",
    "df['diff_pres_first'] = df[pres_col] - df['first_pres']\n",
    "assign_train_test_df('diff_pres_first')"
   ]
  },
  {
   "cell_type": "code",
   "execution_count": 34,
   "id": "5f0c2fd8",
   "metadata": {},
   "outputs": [],
   "source": [
    "df = df.merge(first_wind_df, how='left', on=season_group_cols)\n",
    "df['diff_wind_first'] = df[wind_col] - df['first_wind']\n",
    "assign_train_test_df('diff_wind_first')"
   ]
  },
  {
   "cell_type": "code",
   "execution_count": 35,
   "id": "fbd4808f",
   "metadata": {},
   "outputs": [],
   "source": [
    "df = df.merge(first_ccsm3_df, how='left', on=season_group_cols)\n",
    "df['diff_ccsm3_first'] = df[ccsm3_col] - df['first_ccsm3']\n",
    "assign_train_test_df('diff_ccsm3_first')"
   ]
  },
  {
   "cell_type": "code",
   "execution_count": 36,
   "id": "f3fab9ab",
   "metadata": {},
   "outputs": [],
   "source": [
    "df[f'{precip_col}_bins'] = pd.qcut(df[precip_col], q=5, labels=[f'{precip_col}_{i}' for i in range(5)])\n",
    "le = LabelEncoder().fit(np.unique(df[f'{precip_col}_bins'].unique().tolist()))\n",
    "df[f'{precip_col}_bins'] = le.transform(df[f'{precip_col}_bins']) + 1\n",
    "df[f'{precip_col}_bins'] = df[f'{precip_col}_bins'].replace(np.nan, 0).astype('int').astype('category')\n",
    "assign_train_test_df(f'{precip_col}_bins')"
   ]
  },
  {
   "cell_type": "code",
   "execution_count": 41,
   "id": "a5ec3a09",
   "metadata": {},
   "outputs": [],
   "source": [
    "features = best_cols + [\n",
    "    'diff_slp_first',\n",
    "    'diff_wind_first',\n",
    "    'diff_sst_first',\n",
    "    'diff_precip_first'\n",
    "]"
   ]
  },
  {
   "cell_type": "code",
   "execution_count": 43,
   "id": "740db09f",
   "metadata": {},
   "outputs": [
    {
     "data": {
      "text/plain": [
       "['contest-wind-h500-14d__wind-hgt-500',\n",
       " 'contest-slp-14d__slp',\n",
       " 'nmme-tmp2m-34w__ccsm3',\n",
       " 'elevation__elevation',\n",
       " 'lon',\n",
       " 'contest-prwtr-eatm-14d__prwtr',\n",
       " 'lat',\n",
       " 'climateregions__climateregion',\n",
       " 'contest-pres-sfc-gauss-14d__pres',\n",
       " 'season_sin',\n",
       " 'day_of_year_sin',\n",
       " 'contest-precip-14d__precip',\n",
       " 'contest-wind-uwnd-250-14d__wind-uwnd-250',\n",
       " 'nmme-prate-34w__cfsv2',\n",
       " 'nmme-prate-34w__nasa',\n",
       " 'nmme-prate-56w__gfdlflora',\n",
       " 'wind-uwnd-250-2010-7',\n",
       " 'contest-wind-vwnd-925-14d__wind-vwnd-925',\n",
       " 'nmme-prate-34w__nmmemean',\n",
       " 'nmme0-prate-34w__ccsm30',\n",
       " 'contest-wind-h850-14d__wind-hgt-850',\n",
       " 'contest-wind-uwnd-925-14d__wind-uwnd-925',\n",
       " 'nmme0-prate-56w__cfsv20',\n",
       " 'nmme-prate-34w__cancm3',\n",
       " 'contest-rhum-sig995-14d__rhum',\n",
       " 'nmme-prate-34w__gfdlflorb',\n",
       " 'wind-hgt-850-2010-4',\n",
       " 'contest-wind-vwnd-250-14d__wind-vwnd-250',\n",
       " 'wind-hgt-100-2010-2',\n",
       " 'wind-uwnd-250-2010-18',\n",
       " 'wind-hgt-10-2010-5',\n",
       " 'wind-uwnd-250-2010-15',\n",
       " 'wind-uwnd-250-2010-4',\n",
       " 'nmme0-prate-56w__nasa0',\n",
       " 'nmme0-prate-34w__cfsv20',\n",
       " 'wind-vwnd-250-2010-10',\n",
       " 'contest-wind-h10-14d__wind-hgt-10',\n",
       " 'wind-uwnd-925-2010-15',\n",
       " 'wind-vwnd-250-2010-3',\n",
       " 'nmme-prate-34w__cancm4',\n",
       " 'sst-2010-4',\n",
       " 'nmme0-prate-56w__ccsm30',\n",
       " 'wind-uwnd-250-2010-16',\n",
       " 'nmme0-prate-34w__gfdl0',\n",
       " 'nmme0-prate-56w__cancm40',\n",
       " 'sst-2010-1',\n",
       " 'sst-2010-3',\n",
       " 'wind-uwnd-250-2010-14',\n",
       " 'nmme0-prate-34w__gfdlflora0',\n",
       " 'nmme-prate-34w__gfdl',\n",
       " 'wind-hgt-850-2010-9',\n",
       " 'wind-vwnd-250-2010-1',\n",
       " 'sst-2010-5',\n",
       " 'cancm30',\n",
       " 'nmme-prate-34w__ccsm4',\n",
       " 'nmme0-prate-34w__nasa0',\n",
       " 'wind-hgt-500-2010-9',\n",
       " 'nmme0-prate-34w__cancm30',\n",
       " 'wind-vwnd-250-2010-13',\n",
       " 'wind_diff',\n",
       " 'wind_diff_min',\n",
       " 'wind_diff_min_month',\n",
       " 'wind_diff_month']"
      ]
     },
     "execution_count": 43,
     "metadata": {},
     "output_type": "execute_result"
    }
   ],
   "source": [
    "best_cols"
   ]
  },
  {
   "cell_type": "code",
   "execution_count": 42,
   "id": "67bd89c6",
   "metadata": {},
   "outputs": [
    {
     "name": "stderr",
     "output_type": "stream",
     "text": [
      "5it [00:04,  1.12it/s]\n"
     ]
    },
    {
     "name": "stdout",
     "output_type": "stream",
     "text": [
      "(375734, 68) (375734,)\n"
     ]
    },
    {
     "name": "stderr",
     "output_type": "stream",
     "text": [
      "\r",
      "  0%|                                                                                                | 0/5 [00:00<?, ?it/s]"
     ]
    },
    {
     "name": "stdout",
     "output_type": "stream",
     "text": [
      "Learning rate set to 0.072699\n",
      "0:\tlearn: 9.2611105\ttest: 9.2407165\tbest: 9.2407165 (0)\ttotal: 5.91ms\tremaining: 29.5s\n",
      "200:\tlearn: 1.1779071\ttest: 1.1829674\tbest: 1.1829674 (200)\ttotal: 1.01s\tremaining: 24.3s\n",
      "400:\tlearn: 0.9256625\ttest: 0.9344083\tbest: 0.9344083 (400)\ttotal: 1.95s\tremaining: 22.4s\n",
      "600:\tlearn: 0.7892594\ttest: 0.8003668\tbest: 0.8003668 (600)\ttotal: 2.91s\tremaining: 21.3s\n",
      "800:\tlearn: 0.7036006\ttest: 0.7165281\tbest: 0.7165281 (800)\ttotal: 3.88s\tremaining: 20.3s\n",
      "1000:\tlearn: 0.6452584\ttest: 0.6595936\tbest: 0.6595936 (1000)\ttotal: 4.83s\tremaining: 19.3s\n",
      "1200:\tlearn: 0.6026241\ttest: 0.6184139\tbest: 0.6184139 (1200)\ttotal: 5.9s\tremaining: 18.7s\n",
      "1400:\tlearn: 0.5674995\ttest: 0.5843671\tbest: 0.5843671 (1400)\ttotal: 7.02s\tremaining: 18s\n",
      "1600:\tlearn: 0.5381448\ttest: 0.5560928\tbest: 0.5560928 (1600)\ttotal: 8.19s\tremaining: 17.4s\n",
      "1800:\tlearn: 0.5122026\ttest: 0.5311826\tbest: 0.5311826 (1800)\ttotal: 9.39s\tremaining: 16.7s\n",
      "2000:\tlearn: 0.4905743\ttest: 0.5105235\tbest: 0.5105235 (2000)\ttotal: 10.5s\tremaining: 15.7s\n",
      "2200:\tlearn: 0.4716022\ttest: 0.4923382\tbest: 0.4923382 (2200)\ttotal: 11.6s\tremaining: 14.8s\n",
      "2400:\tlearn: 0.4539460\ttest: 0.4755872\tbest: 0.4755872 (2400)\ttotal: 12.8s\tremaining: 13.8s\n",
      "2600:\tlearn: 0.4386641\ttest: 0.4610396\tbest: 0.4610396 (2600)\ttotal: 14s\tremaining: 12.9s\n",
      "2800:\tlearn: 0.4249392\ttest: 0.4481563\tbest: 0.4481563 (2800)\ttotal: 15.1s\tremaining: 11.9s\n",
      "3000:\tlearn: 0.4123317\ttest: 0.4363324\tbest: 0.4363324 (3000)\ttotal: 16.1s\tremaining: 10.7s\n",
      "3200:\tlearn: 0.4010166\ttest: 0.4256384\tbest: 0.4256384 (3200)\ttotal: 17s\tremaining: 9.56s\n",
      "3400:\tlearn: 0.3904269\ttest: 0.4157148\tbest: 0.4157148 (3400)\ttotal: 18s\tremaining: 8.45s\n",
      "3600:\tlearn: 0.3809594\ttest: 0.4069758\tbest: 0.4069758 (3600)\ttotal: 18.9s\tremaining: 7.35s\n",
      "3800:\tlearn: 0.3719092\ttest: 0.3984529\tbest: 0.3984529 (3800)\ttotal: 19.9s\tremaining: 6.26s\n",
      "4000:\tlearn: 0.3633425\ttest: 0.3904678\tbest: 0.3904678 (4000)\ttotal: 20.8s\tremaining: 5.19s\n",
      "4200:\tlearn: 0.3554813\ttest: 0.3832421\tbest: 0.3832421 (4200)\ttotal: 21.8s\tremaining: 4.14s\n",
      "4400:\tlearn: 0.3478851\ttest: 0.3763508\tbest: 0.3763508 (4400)\ttotal: 22.7s\tremaining: 3.09s\n",
      "4600:\tlearn: 0.3407461\ttest: 0.3697871\tbest: 0.3697871 (4600)\ttotal: 23.7s\tremaining: 2.06s\n",
      "4800:\tlearn: 0.3343050\ttest: 0.3639364\tbest: 0.3639364 (4800)\ttotal: 24.6s\tremaining: 1.02s\n",
      "4999:\tlearn: 0.3278770\ttest: 0.3580750\tbest: 0.3580750 (4999)\ttotal: 25.6s\tremaining: 0us\n",
      "bestTest = 0.3580750336\n",
      "bestIteration = 4999\n"
     ]
    },
    {
     "name": "stderr",
     "output_type": "stream",
     "text": [
      "\r",
      " 20%|█████████████████▌                                                                      | 1/5 [00:33<02:12, 33.11s/it]"
     ]
    },
    {
     "name": "stdout",
     "output_type": "stream",
     "text": [
      "Learning rate set to 0.072699\n",
      "0:\tlearn: 9.2537635\ttest: 9.2717026\tbest: 9.2717026 (0)\ttotal: 6.42ms\tremaining: 32.1s\n",
      "200:\tlearn: 1.1747438\ttest: 1.1762647\tbest: 1.1762647 (200)\ttotal: 1.02s\tremaining: 24.3s\n",
      "400:\tlearn: 0.9139822\ttest: 0.9181936\tbest: 0.9181936 (400)\ttotal: 1.96s\tremaining: 22.4s\n",
      "600:\tlearn: 0.7843223\ttest: 0.7911447\tbest: 0.7911447 (600)\ttotal: 2.84s\tremaining: 20.8s\n",
      "800:\tlearn: 0.7051808\ttest: 0.7139718\tbest: 0.7139718 (800)\ttotal: 3.8s\tremaining: 19.9s\n",
      "1000:\tlearn: 0.6456644\ttest: 0.6560986\tbest: 0.6560986 (1000)\ttotal: 4.77s\tremaining: 19.1s\n",
      "1200:\tlearn: 0.5991218\ttest: 0.6107162\tbest: 0.6107162 (1200)\ttotal: 5.79s\tremaining: 18.3s\n",
      "1400:\tlearn: 0.5646296\ttest: 0.5776438\tbest: 0.5776438 (1400)\ttotal: 6.71s\tremaining: 17.2s\n",
      "1600:\tlearn: 0.5354446\ttest: 0.5492997\tbest: 0.5492997 (1600)\ttotal: 7.67s\tremaining: 16.3s\n",
      "1800:\tlearn: 0.5102700\ttest: 0.5251432\tbest: 0.5251432 (1800)\ttotal: 8.85s\tremaining: 15.7s\n",
      "2000:\tlearn: 0.4887861\ttest: 0.5046724\tbest: 0.5046724 (2000)\ttotal: 9.94s\tremaining: 14.9s\n",
      "2200:\tlearn: 0.4703285\ttest: 0.4872217\tbest: 0.4872217 (2200)\ttotal: 11.1s\tremaining: 14.1s\n",
      "2400:\tlearn: 0.4532893\ttest: 0.4711576\tbest: 0.4711576 (2400)\ttotal: 12.2s\tremaining: 13.2s\n",
      "2600:\tlearn: 0.4383139\ttest: 0.4571831\tbest: 0.4571831 (2600)\ttotal: 13.4s\tremaining: 12.3s\n",
      "2800:\tlearn: 0.4245047\ttest: 0.4441099\tbest: 0.4441099 (2800)\ttotal: 14.5s\tremaining: 11.4s\n",
      "3000:\tlearn: 0.4114890\ttest: 0.4317899\tbest: 0.4317899 (3000)\ttotal: 15.6s\tremaining: 10.4s\n",
      "3200:\tlearn: 0.3999313\ttest: 0.4209191\tbest: 0.4209191 (3200)\ttotal: 16.6s\tremaining: 9.32s\n",
      "3400:\tlearn: 0.3894583\ttest: 0.4110639\tbest: 0.4110639 (3400)\ttotal: 17.5s\tremaining: 8.24s\n",
      "3600:\tlearn: 0.3797877\ttest: 0.4021247\tbest: 0.4021247 (3600)\ttotal: 18.5s\tremaining: 7.2s\n",
      "3800:\tlearn: 0.3705789\ttest: 0.3936070\tbest: 0.3936070 (3800)\ttotal: 19.5s\tremaining: 6.15s\n",
      "4000:\tlearn: 0.3620916\ttest: 0.3856551\tbest: 0.3856551 (4000)\ttotal: 20.5s\tremaining: 5.12s\n",
      "4200:\tlearn: 0.3537641\ttest: 0.3778776\tbest: 0.3778776 (4200)\ttotal: 21.4s\tremaining: 4.07s\n",
      "4400:\tlearn: 0.3463211\ttest: 0.3709450\tbest: 0.3709450 (4400)\ttotal: 22.4s\tremaining: 3.04s\n",
      "4600:\tlearn: 0.3394199\ttest: 0.3647286\tbest: 0.3647286 (4600)\ttotal: 23.4s\tremaining: 2.03s\n",
      "4800:\tlearn: 0.3328717\ttest: 0.3587324\tbest: 0.3587324 (4800)\ttotal: 24.4s\tremaining: 1.01s\n",
      "4999:\tlearn: 0.3263959\ttest: 0.3526645\tbest: 0.3526645 (4999)\ttotal: 25.3s\tremaining: 0us\n",
      "bestTest = 0.3526645318\n",
      "bestIteration = 4999\n"
     ]
    },
    {
     "name": "stderr",
     "output_type": "stream",
     "text": [
      "\r",
      " 40%|███████████████████████████████████▏                                                    | 2/5 [01:06<01:39, 33.21s/it]"
     ]
    },
    {
     "name": "stdout",
     "output_type": "stream",
     "text": [
      "Learning rate set to 0.072699\n",
      "0:\tlearn: 9.2531718\ttest: 9.2855747\tbest: 9.2855747 (0)\ttotal: 5.78ms\tremaining: 28.9s\n",
      "200:\tlearn: 1.1757660\ttest: 1.1780720\tbest: 1.1780720 (200)\ttotal: 992ms\tremaining: 23.7s\n",
      "400:\tlearn: 0.9154115\ttest: 0.9236564\tbest: 0.9236564 (400)\ttotal: 1.95s\tremaining: 22.3s\n",
      "600:\tlearn: 0.7831659\ttest: 0.7941369\tbest: 0.7941369 (600)\ttotal: 3s\tremaining: 21.9s\n",
      "800:\tlearn: 0.7027182\ttest: 0.7166474\tbest: 0.7166474 (800)\ttotal: 3.93s\tremaining: 20.6s\n",
      "1000:\tlearn: 0.6423898\ttest: 0.6578853\tbest: 0.6578853 (1000)\ttotal: 4.86s\tremaining: 19.4s\n",
      "1200:\tlearn: 0.5995660\ttest: 0.6162821\tbest: 0.6162821 (1200)\ttotal: 5.83s\tremaining: 18.4s\n",
      "1400:\tlearn: 0.5643631\ttest: 0.5822208\tbest: 0.5822208 (1400)\ttotal: 6.88s\tremaining: 17.7s\n",
      "1600:\tlearn: 0.5355562\ttest: 0.5541653\tbest: 0.5541653 (1600)\ttotal: 7.87s\tremaining: 16.7s\n",
      "1800:\tlearn: 0.5099287\ttest: 0.5294206\tbest: 0.5294206 (1800)\ttotal: 8.99s\tremaining: 16s\n",
      "2000:\tlearn: 0.4890443\ttest: 0.5093080\tbest: 0.5093080 (2000)\ttotal: 10.2s\tremaining: 15.2s\n",
      "2200:\tlearn: 0.4712882\ttest: 0.4922766\tbest: 0.4922766 (2200)\ttotal: 11.3s\tremaining: 14.4s\n",
      "2400:\tlearn: 0.4538311\ttest: 0.4753202\tbest: 0.4753202 (2400)\ttotal: 12.4s\tremaining: 13.4s\n",
      "2600:\tlearn: 0.4391677\ttest: 0.4612429\tbest: 0.4612429 (2600)\ttotal: 13.5s\tremaining: 12.5s\n",
      "2800:\tlearn: 0.4252882\ttest: 0.4480069\tbest: 0.4480069 (2800)\ttotal: 14.7s\tremaining: 11.5s\n",
      "3000:\tlearn: 0.4130598\ttest: 0.4361505\tbest: 0.4361505 (3000)\ttotal: 15.7s\tremaining: 10.5s\n",
      "3200:\tlearn: 0.4015398\ttest: 0.4251325\tbest: 0.4251325 (3200)\ttotal: 16.7s\tremaining: 9.38s\n",
      "3400:\tlearn: 0.3912443\ttest: 0.4155370\tbest: 0.4155370 (3400)\ttotal: 17.7s\tremaining: 8.32s\n",
      "3600:\tlearn: 0.3814882\ttest: 0.4062179\tbest: 0.4062179 (3600)\ttotal: 18.7s\tremaining: 7.25s\n",
      "3800:\tlearn: 0.3722701\ttest: 0.3974203\tbest: 0.3974203 (3800)\ttotal: 19.6s\tremaining: 6.18s\n",
      "4000:\tlearn: 0.3636462\ttest: 0.3892619\tbest: 0.3892619 (4000)\ttotal: 20.5s\tremaining: 5.13s\n",
      "4200:\tlearn: 0.3557531\ttest: 0.3817517\tbest: 0.3817517 (4200)\ttotal: 21.5s\tremaining: 4.09s\n",
      "4400:\tlearn: 0.3483629\ttest: 0.3748748\tbest: 0.3748748 (4400)\ttotal: 22.5s\tremaining: 3.06s\n",
      "4600:\tlearn: 0.3414860\ttest: 0.3684538\tbest: 0.3684538 (4600)\ttotal: 23.4s\tremaining: 2.03s\n",
      "4800:\tlearn: 0.3345779\ttest: 0.3619184\tbest: 0.3619184 (4800)\ttotal: 24.4s\tremaining: 1.01s\n",
      "4999:\tlearn: 0.3284156\ttest: 0.3562311\tbest: 0.3562311 (4999)\ttotal: 25.3s\tremaining: 0us\n",
      "bestTest = 0.3562311016\n",
      "bestIteration = 4999\n"
     ]
    },
    {
     "name": "stderr",
     "output_type": "stream",
     "text": [
      "\r",
      " 60%|████████████████████████████████████████████████████▊                                   | 3/5 [01:39<01:06, 33.18s/it]"
     ]
    },
    {
     "name": "stdout",
     "output_type": "stream",
     "text": [
      "Learning rate set to 0.072699\n",
      "0:\tlearn: 9.2604847\ttest: 9.2566518\tbest: 9.2566518 (0)\ttotal: 5.83ms\tremaining: 29.1s\n",
      "200:\tlearn: 1.1679634\ttest: 1.1825275\tbest: 1.1825275 (200)\ttotal: 1.02s\tremaining: 24.5s\n",
      "400:\tlearn: 0.9191806\ttest: 0.9327356\tbest: 0.9327356 (400)\ttotal: 1.95s\tremaining: 22.4s\n",
      "600:\tlearn: 0.7854239\ttest: 0.7994369\tbest: 0.7994369 (600)\ttotal: 2.96s\tremaining: 21.7s\n",
      "800:\tlearn: 0.7061838\ttest: 0.7211518\tbest: 0.7211518 (800)\ttotal: 3.99s\tremaining: 20.9s\n",
      "1000:\tlearn: 0.6450321\ttest: 0.6612958\tbest: 0.6612958 (1000)\ttotal: 4.94s\tremaining: 19.7s\n",
      "1200:\tlearn: 0.6033919\ttest: 0.6208225\tbest: 0.6208225 (1200)\ttotal: 5.89s\tremaining: 18.6s\n",
      "1400:\tlearn: 0.5661044\ttest: 0.5847533\tbest: 0.5847533 (1400)\ttotal: 6.88s\tremaining: 17.7s\n",
      "1600:\tlearn: 0.5362042\ttest: 0.5560059\tbest: 0.5560059 (1600)\ttotal: 7.83s\tremaining: 16.6s\n",
      "1800:\tlearn: 0.5112943\ttest: 0.5317213\tbest: 0.5317213 (1800)\ttotal: 8.89s\tremaining: 15.8s\n",
      "2000:\tlearn: 0.4895477\ttest: 0.5109915\tbest: 0.5109915 (2000)\ttotal: 9.96s\tremaining: 14.9s\n",
      "2200:\tlearn: 0.4702140\ttest: 0.4923586\tbest: 0.4923586 (2200)\ttotal: 11s\tremaining: 14.1s\n",
      "2400:\tlearn: 0.4538710\ttest: 0.4767481\tbest: 0.4767481 (2400)\ttotal: 12.6s\tremaining: 13.7s\n",
      "2600:\tlearn: 0.4388505\ttest: 0.4625828\tbest: 0.4625828 (2600)\ttotal: 15.2s\tremaining: 14s\n",
      "2800:\tlearn: 0.4248918\ttest: 0.4494595\tbest: 0.4494595 (2800)\ttotal: 16.5s\tremaining: 13s\n",
      "3000:\tlearn: 0.4123292\ttest: 0.4375754\tbest: 0.4375754 (3000)\ttotal: 17.7s\tremaining: 11.8s\n",
      "3200:\tlearn: 0.4006873\ttest: 0.4264851\tbest: 0.4264851 (3200)\ttotal: 18.7s\tremaining: 10.5s\n",
      "3400:\tlearn: 0.3901813\ttest: 0.4165061\tbest: 0.4165061 (3400)\ttotal: 19.7s\tremaining: 9.25s\n",
      "3600:\tlearn: 0.3807834\ttest: 0.4076839\tbest: 0.4076839 (3600)\ttotal: 20.6s\tremaining: 7.98s\n",
      "3800:\tlearn: 0.3714254\ttest: 0.3989046\tbest: 0.3989046 (3800)\ttotal: 21.5s\tremaining: 6.79s\n",
      "4000:\tlearn: 0.3630891\ttest: 0.3911449\tbest: 0.3911449 (4000)\ttotal: 22.5s\tremaining: 5.61s\n",
      "4200:\tlearn: 0.3552052\ttest: 0.3839763\tbest: 0.3839763 (4200)\ttotal: 23.4s\tremaining: 4.46s\n",
      "4400:\tlearn: 0.3477580\ttest: 0.3770210\tbest: 0.3770210 (4400)\ttotal: 24.4s\tremaining: 3.32s\n",
      "4600:\tlearn: 0.3409105\ttest: 0.3706131\tbest: 0.3706131 (4600)\ttotal: 25.3s\tremaining: 2.2s\n",
      "4800:\tlearn: 0.3340642\ttest: 0.3642410\tbest: 0.3642410 (4800)\ttotal: 26.3s\tremaining: 1.09s\n",
      "4999:\tlearn: 0.3277853\ttest: 0.3582939\tbest: 0.3582939 (4999)\ttotal: 27.2s\tremaining: 0us\n",
      "bestTest = 0.3582939181\n",
      "bestIteration = 4999\n"
     ]
    },
    {
     "name": "stderr",
     "output_type": "stream",
     "text": [
      "\r",
      " 80%|██████████████████████████████████████████████████████████████████████▍                 | 4/5 [02:14<00:34, 34.02s/it]"
     ]
    },
    {
     "name": "stdout",
     "output_type": "stream",
     "text": [
      "Learning rate set to 0.072699\n",
      "0:\tlearn: 9.2625918\ttest: 9.2370575\tbest: 9.2370575 (0)\ttotal: 6ms\tremaining: 30s\n",
      "200:\tlearn: 1.1658249\ttest: 1.1729349\tbest: 1.1729349 (200)\ttotal: 1.01s\tremaining: 24.2s\n",
      "400:\tlearn: 0.9121833\ttest: 0.9209001\tbest: 0.9209001 (400)\ttotal: 1.93s\tremaining: 22.2s\n",
      "600:\tlearn: 0.7808941\ttest: 0.7916817\tbest: 0.7916817 (600)\ttotal: 2.9s\tremaining: 21.2s\n",
      "800:\tlearn: 0.7034341\ttest: 0.7161577\tbest: 0.7161577 (800)\ttotal: 3.83s\tremaining: 20.1s\n",
      "1000:\tlearn: 0.6438365\ttest: 0.6581102\tbest: 0.6581102 (1000)\ttotal: 4.77s\tremaining: 19.1s\n",
      "1200:\tlearn: 0.5990449\ttest: 0.6143275\tbest: 0.6143275 (1200)\ttotal: 5.69s\tremaining: 18s\n",
      "1400:\tlearn: 0.5622990\ttest: 0.5788888\tbest: 0.5788888 (1400)\ttotal: 6.68s\tremaining: 17.2s\n",
      "1600:\tlearn: 0.5327785\ttest: 0.5503545\tbest: 0.5503545 (1600)\ttotal: 7.61s\tremaining: 16.2s\n",
      "1800:\tlearn: 0.5084866\ttest: 0.5271642\tbest: 0.5271642 (1800)\ttotal: 8.51s\tremaining: 15.1s\n",
      "2000:\tlearn: 0.4874190\ttest: 0.5070817\tbest: 0.5070817 (2000)\ttotal: 9.67s\tremaining: 14.5s\n",
      "2200:\tlearn: 0.4679747\ttest: 0.4885753\tbest: 0.4885753 (2200)\ttotal: 10.7s\tremaining: 13.6s\n",
      "2400:\tlearn: 0.4512094\ttest: 0.4724377\tbest: 0.4724377 (2400)\ttotal: 11.8s\tremaining: 12.8s\n",
      "2600:\tlearn: 0.4351475\ttest: 0.4571356\tbest: 0.4571356 (2600)\ttotal: 13s\tremaining: 12s\n",
      "2800:\tlearn: 0.4222897\ttest: 0.4450867\tbest: 0.4450867 (2800)\ttotal: 14.1s\tremaining: 11.1s\n",
      "3000:\tlearn: 0.4094725\ttest: 0.4327533\tbest: 0.4327533 (3000)\ttotal: 15.2s\tremaining: 10.1s\n",
      "3200:\tlearn: 0.3976238\ttest: 0.4213708\tbest: 0.4213708 (3200)\ttotal: 16.3s\tremaining: 9.18s\n",
      "3400:\tlearn: 0.3869611\ttest: 0.4114196\tbest: 0.4114196 (3400)\ttotal: 17.3s\tremaining: 8.14s\n",
      "3600:\tlearn: 0.3779622\ttest: 0.4029515\tbest: 0.4029515 (3600)\ttotal: 18.2s\tremaining: 7.08s\n",
      "3800:\tlearn: 0.3689294\ttest: 0.3945971\tbest: 0.3945971 (3800)\ttotal: 19.2s\tremaining: 6.05s\n",
      "4000:\tlearn: 0.3606080\ttest: 0.3867284\tbest: 0.3867284 (4000)\ttotal: 20.1s\tremaining: 5.03s\n",
      "4200:\tlearn: 0.3524051\ttest: 0.3791025\tbest: 0.3791025 (4200)\ttotal: 21.1s\tremaining: 4.02s\n",
      "4400:\tlearn: 0.3448790\ttest: 0.3721361\tbest: 0.3721361 (4400)\ttotal: 22.1s\tremaining: 3.01s\n",
      "4600:\tlearn: 0.3379657\ttest: 0.3657259\tbest: 0.3657259 (4600)\ttotal: 23s\tremaining: 2s\n",
      "4800:\tlearn: 0.3310939\ttest: 0.3593390\tbest: 0.3593390 (4800)\ttotal: 24.1s\tremaining: 998ms\n",
      "4999:\tlearn: 0.3252453\ttest: 0.3539533\tbest: 0.3539533 (4999)\ttotal: 25s\tremaining: 0us\n",
      "bestTest = 0.3539533187\n",
      "bestIteration = 4999\n"
     ]
    },
    {
     "name": "stderr",
     "output_type": "stream",
     "text": [
      "100%|████████████████████████████████████████████████████████████████████████████████████████| 5/5 [02:47<00:00, 33.55s/it]\n",
      "100%|████████████████████████████████████████████████████████████████████████████████████████| 5/5 [00:00<00:00, 26.34it/s]\n"
     ]
    },
    {
     "name": "stdout",
     "output_type": "stream",
     "text": [
      "cos_sim with best submission: 0.999829699777029\n"
     ]
    }
   ],
   "source": [
    "X = train_df[features].values\n",
    "y = train_df[target[0]].values\n",
    "\n",
    "skf = KFold(n_splits=5, random_state=2048, shuffle=True)\n",
    "skf.get_n_splits(X, y)\n",
    "\n",
    "train_index_list = []\n",
    "test_index_list = []\n",
    "train_x_list = []\n",
    "val_x_list = []\n",
    "train_y_list = []\n",
    "val_y_list = []\n",
    "\n",
    "for i, (train_index, test_index) in tqdm(enumerate(skf.split(X, y))):\n",
    "    train_index_list.append(train_index)\n",
    "    test_index_list.append(test_index)\n",
    "\n",
    "    train_x_list.append(X[train_index, :])\n",
    "    val_x_list.append(X[test_index, :])\n",
    "    train_y_list.append(y[train_index])\n",
    "    val_y_list.append(y[test_index])    \n",
    "def train_catboost(x, y):\n",
    "    print(x.shape, y.shape)\n",
    "    \n",
    "    cat_models = []\n",
    "    for i in tqdm(range(5)):\n",
    "        train_x, val_x = train_x_list[i], val_x_list[i]\n",
    "        train_y, val_y = train_y_list[i], val_y_list[i]\n",
    "        clf = CatBoostRegressor(iterations=5000, verbose=200, task_type=\"GPU\",\n",
    "                           devices='0:1')\n",
    "        clf.fit(train_x, train_y, eval_set=[(val_x, val_y)], verbose=200, early_stopping_rounds=100)\n",
    "        cat_models.append(clf)\n",
    "    \n",
    "    return cat_models\n",
    "cat_models = train_catboost(X, y)\n",
    "\n",
    "preds = []\n",
    "for cat_model in tqdm(cat_models):\n",
    "    preds.append(cat_model.predict(test_df[features].values))\n",
    "s = 0\n",
    "for pred in preds:\n",
    "    s += pred\n",
    "s = s/5\n",
    "res_df = pd.read_csv('./sample_solution.csv')\n",
    "res_df['contest-tmp2m-14d__tmp2m'] = s\n",
    "res_df.to_csv('submission_fe_v1.csv', index=False)\n",
    "\n",
    "best_df = pd.read_csv('best_sub.csv')\n",
    "y_best = best_df[target[0]].values\n",
    "\n",
    "from numpy import dot\n",
    "from numpy.linalg import norm\n",
    "\n",
    "cos_sim = dot(y_best, s)/(norm(y_best)*norm(s))\n",
    "print(\"cos_sim with best submission:\", cos_sim)"
   ]
  }
 ],
 "metadata": {
  "kernelspec": {
   "display_name": "wids-env",
   "language": "python",
   "name": "wids-env"
  },
  "language_info": {
   "codemirror_mode": {
    "name": "ipython",
    "version": 3
   },
   "file_extension": ".py",
   "mimetype": "text/x-python",
   "name": "python",
   "nbconvert_exporter": "python",
   "pygments_lexer": "ipython3",
   "version": "3.7.15"
  }
 },
 "nbformat": 4,
 "nbformat_minor": 5
}
