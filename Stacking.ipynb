{
 "cells": [
  {
   "cell_type": "code",
   "execution_count": 1,
   "id": "679741ec",
   "metadata": {},
   "outputs": [],
   "source": [
    "import numpy as np\n",
    "import pandas as pd\n",
    "import seaborn as sns\n",
    "pd.set_option('display.max_columns', None)\n",
    "import matplotlib.pyplot as plt\n",
    "from sklearn.model_selection import train_test_split\n",
    "from sklearn import preprocessing\n",
    "from tqdm import tqdm\n",
    "from sklearn.preprocessing import FunctionTransformer\n",
    "import seaborn as sns \n",
    "from scipy import stats\n",
    "import statsmodels.api as sm\n",
    "\n",
    "from sklearn.ensemble import RandomForestRegressor, ExtraTreesRegressor, AdaBoostRegressor, BaggingRegressor, GradientBoostingRegressor\n",
    "from sklearn.tree import DecisionTreeRegressor\n",
    "from lightgbm import LGBMRegressor\n",
    "from sklearn.linear_model import ElasticNet, Lasso\n",
    "from sklearn.feature_selection import SelectFromModel\n",
    "from sklearn.svm import SVR\n",
    "from sklearn.model_selection import KFold, cross_val_score\n",
    "from sklearn.pipeline import make_pipeline\n",
    "from sklearn.decomposition import PCA\n",
    "from sklearn.preprocessing import RobustScaler\n",
    "import h2o\n",
    "from h2o.automl import H2OAutoML\n",
    "from sklearn.base import BaseEstimator, TransformerMixin, RegressorMixin, clone\n",
    "from sklearn.neural_network import MLPRegressor\n",
    "from scipy.stats import norm\n",
    "import copy\n",
    "from sklearn.model_selection import KFold\n",
    "from catboost import CatBoostRegressor, Pool, metrics, cv\n",
    "import xgboost as xgb\n",
    "from scipy.stats import gmean\n",
    "from sklearn.impute import KNNImputer\n",
    "from sklearn.metrics import mean_squared_error\n",
    "from sklearn.preprocessing import LabelEncoder\n",
    "import pystacknet\n",
    "import joblib\n",
    "import sys\n",
    "sys.modules['sklearn.externals.joblib'] = joblib\n",
    "from pystacknet.pystacknet import StackNetRegressor\n"
   ]
  },
  {
   "cell_type": "code",
   "execution_count": 2,
   "id": "59bf97c2",
   "metadata": {},
   "outputs": [],
   "source": [
    "train_df = pd.read_csv('./best_train.csv')\n",
    "test_df = pd.read_csv('./best_test.csv')"
   ]
  },
  {
   "cell_type": "code",
   "execution_count": 3,
   "id": "b4cf18a8",
   "metadata": {},
   "outputs": [],
   "source": [
    "seed = 1234\n",
    "np.random.seed(seed)"
   ]
  },
  {
   "cell_type": "code",
   "execution_count": 4,
   "id": "8d7ac706",
   "metadata": {},
   "outputs": [],
   "source": [
    "features = ['contest-wind-h500-14d__wind-hgt-500',\n",
    " 'contest-slp-14d__slp',\n",
    " 'nmme-tmp2m-34w__ccsm3',\n",
    " 'elevation__elevation',\n",
    " 'lon',\n",
    " 'contest-prwtr-eatm-14d__prwtr',\n",
    " 'lat',\n",
    " 'climateregions__climateregion',\n",
    " 'contest-pres-sfc-gauss-14d__pres',\n",
    " 'season_sin',\n",
    " 'day_of_year_sin',\n",
    " 'contest-precip-14d__precip',\n",
    " 'contest-wind-uwnd-250-14d__wind-uwnd-250',\n",
    " 'nmme-prate-34w__cfsv2',\n",
    " 'nmme-prate-34w__nasa',\n",
    " 'nmme-prate-56w__gfdlflora',\n",
    " 'wind-uwnd-250-2010-7',\n",
    " 'contest-wind-vwnd-925-14d__wind-vwnd-925',\n",
    " 'nmme-prate-34w__nmmemean',\n",
    " 'nmme0-prate-34w__ccsm30',\n",
    " 'contest-wind-h850-14d__wind-hgt-850',\n",
    " 'contest-wind-uwnd-925-14d__wind-uwnd-925',\n",
    " 'nmme0-prate-56w__cfsv20',\n",
    " 'nmme-prate-34w__cancm3',\n",
    " 'contest-rhum-sig995-14d__rhum',\n",
    " 'nmme-prate-34w__gfdlflorb',\n",
    " 'wind-hgt-850-2010-4',\n",
    " 'contest-wind-vwnd-250-14d__wind-vwnd-250',\n",
    " 'wind-hgt-100-2010-2',\n",
    " 'wind-uwnd-250-2010-18',\n",
    " 'wind-hgt-10-2010-5',\n",
    " 'wind-uwnd-250-2010-15',\n",
    " 'wind-uwnd-250-2010-4',\n",
    " 'nmme0-prate-56w__nasa0',\n",
    " 'nmme0-prate-34w__cfsv20',\n",
    " 'wind-vwnd-250-2010-10',\n",
    " 'contest-wind-h10-14d__wind-hgt-10',\n",
    " 'wind-uwnd-925-2010-15',\n",
    " 'wind-vwnd-250-2010-3',\n",
    " 'nmme-prate-34w__cancm4',\n",
    " 'sst-2010-4',\n",
    " 'nmme0-prate-56w__ccsm30',\n",
    " 'wind-uwnd-250-2010-16',\n",
    " 'nmme0-prate-34w__gfdl0',\n",
    " 'nmme0-prate-56w__cancm40',\n",
    " 'sst-2010-1',\n",
    " 'sst-2010-3',\n",
    " 'wind-uwnd-250-2010-14',\n",
    " 'nmme0-prate-34w__gfdlflora0',\n",
    " 'nmme-prate-34w__gfdl',\n",
    " 'wind-hgt-850-2010-9',\n",
    " 'wind-vwnd-250-2010-1',\n",
    " 'sst-2010-5',\n",
    " 'cancm30',\n",
    " 'nmme-prate-34w__ccsm4',\n",
    " 'nmme0-prate-34w__nasa0',\n",
    " 'wind-hgt-500-2010-9',\n",
    " 'nmme0-prate-34w__cancm30',\n",
    " 'wind-vwnd-250-2010-13',\n",
    " 'wind_diff',\n",
    " 'wind_diff_min',\n",
    " 'wind_diff_min_month',\n",
    " 'wind_diff_month',\n",
    " 'diff_slp_first',\n",
    " 'diff_wind_first',\n",
    " 'diff_precip_first',\n",
    " 'diff_sst_10_first',\n",
    " 'diff_sst_10_min',\n",
    " 'diff_sst_10_max',\n",
    " 'range_sst_10',\n",
    " 'scale_sst_10',\n",
    " 'diff_sst_9_first',\n",
    " 'diff_sst_9_min',\n",
    " 'diff_sst_9_max',\n",
    " 'range_sst_9',\n",
    " 'scale_sst_9',\n",
    " 'diff_sst_8_first',\n",
    " 'diff_sst_8_min',\n",
    " 'diff_sst_8_max',\n",
    " 'range_sst_8',\n",
    " 'scale_sst_8',\n",
    " 'diff_sst_7_first',\n",
    " 'diff_sst_7_min',\n",
    " 'diff_sst_7_max',\n",
    " 'range_sst_7',\n",
    " 'scale_sst_7',\n",
    " 'diff_sst_6_first',\n",
    " 'diff_sst_6_min',\n",
    " 'diff_sst_6_max',\n",
    " 'range_sst_6',\n",
    " 'scale_sst_6',\n",
    " 'diff_sst_1_first',\n",
    " 'diff_sst_1_min',\n",
    " 'diff_sst_1_max',\n",
    " 'range_sst_1',\n",
    " 'scale_sst_1',\n",
    " 'diff_sst_2_first',\n",
    " 'diff_sst_2_min',\n",
    " 'diff_sst_2_max',\n",
    " 'range_sst_2',\n",
    " 'scale_sst_2',\n",
    " 'diff_sst_3_first',\n",
    " 'diff_sst_3_min',\n",
    " 'diff_sst_3_max',\n",
    " 'range_sst_3',\n",
    " 'scale_sst_3',\n",
    " 'diff_sst_4_first',\n",
    " 'diff_sst_4_min',\n",
    " 'diff_sst_4_max',\n",
    " 'range_sst_4',\n",
    " 'scale_sst_4',\n",
    " 'diff_sst_5_first',\n",
    " 'diff_sst_5_min',\n",
    " 'diff_sst_5_max',\n",
    " 'range_sst_5',\n",
    " 'scale_sst_5',\n",
    " 'diff_pres_1_first',\n",
    " 'diff_pres_1_min',\n",
    " 'diff_pres_1_max',\n",
    " 'range_pres_1',\n",
    " 'scale_pres_1',\n",
    " 'diff_ccsm3_month_1_first',\n",
    " 'diff_ccsm3_month_1_min',\n",
    " 'diff_ccsm3_month_1_max',\n",
    " 'range_ccsm3_month_1',\n",
    " 'scale_ccsm3_month_1',\n",
    " 'diff_sst_1_month_1_first',\n",
    " 'diff_sst_1_month_1_min',\n",
    " 'diff_sst_1_month_1_max',\n",
    " 'range_sst_1_month_1',\n",
    " 'scale_sst_1_month_1',\n",
    " 'sst_1_lag_1',\n",
    " 'sst_5_lag_1',\n",
    " 'sst_4_lag_1',\n",
    " 'sst_1_lag_1_season',\n",
    " 'sst_5_lag_1_season',\n",
    " 'sst_4_lag_1_season']\n",
    "exclude_cols = ['index', 'startdate']\n",
    "target=[\"contest-tmp2m-14d__tmp2m\"]"
   ]
  },
  {
   "cell_type": "code",
   "execution_count": 35,
   "id": "53a6dcc8",
   "metadata": {},
   "outputs": [],
   "source": [
    "l1_clf1 = CatBoostRegressor(\n",
    "                                verbose=200, task_type=\"GPU\",\n",
    "                                devices='0:1', \n",
    "                                iterations=5000,\n",
    "                                 early_stopping_rounds=100\n",
    "                            )"
   ]
  },
  {
   "cell_type": "code",
   "execution_count": 36,
   "id": "c8265bcd",
   "metadata": {},
   "outputs": [],
   "source": [
    "l1_clf2 = GradientBoostingRegressor(n_estimators=400,\n",
    "                                    min_samples_leaf=10,\n",
    "                                    max_depth=15, \n",
    "                                    max_features='sqrt', \n",
    "                                    subsample=0.85,\n",
    "                                    random_state=seed)"
   ]
  },
  {
   "cell_type": "code",
   "execution_count": 37,
   "id": "99d98e02",
   "metadata": {},
   "outputs": [],
   "source": [
    "l1_clf3 = LGBMRegressor(boosting_type='gbdt',\n",
    "                        boost_from_average=\"false\",\n",
    "                        num_leaves=491,\n",
    "                        max_depth=20,\n",
    "                        min_child_weight=0.035,\n",
    "                        feature_fraction=0.38,\n",
    "                        bagging_fraction=0.42,\n",
    "                        min_data_in_leaf=100,\n",
    "                        max_bin=255,\n",
    "                        importance_type='split',\n",
    "                        reg_alpha=0.4,\n",
    "                        reg_lambda=0.65,\n",
    "                        bagging_seed=seed,\n",
    "                        random_state=seed,\n",
    "                        verbosity=-1,\n",
    "                        subsample=0.85,\n",
    "                        colsample_bytree=0.8,\n",
    "                        min_child_samples=79)"
   ]
  },
  {
   "cell_type": "code",
   "execution_count": 38,
   "id": "879a5249",
   "metadata": {},
   "outputs": [],
   "source": [
    "l2_clf1 = RandomForestRegressor(n_estimators=250, \n",
    "                                max_depth=5, \n",
    "                                max_features='sqrt', \n",
    "                                random_state=seed)"
   ]
  },
  {
   "cell_type": "code",
   "execution_count": 44,
   "id": "126e6174",
   "metadata": {},
   "outputs": [],
   "source": [
    "models = [[l1_clf1,  l1_clf3], \n",
    "          [l2_clf1]]"
   ]
  },
  {
   "cell_type": "code",
   "execution_count": 45,
   "id": "30b08c5f",
   "metadata": {},
   "outputs": [],
   "source": [
    "model = StackNetRegressor(models, \n",
    "                          folds=5,\n",
    "                           restacking=False,\n",
    "                           use_retraining=True,\n",
    "                           random_state=seed,\n",
    "                           n_jobs=-1, \n",
    "                           verbose=1)"
   ]
  },
  {
   "cell_type": "code",
   "execution_count": 41,
   "id": "fc6dc941",
   "metadata": {},
   "outputs": [],
   "source": [
    "X = train_df[features].values\n",
    "y = train_df[target[0]].values"
   ]
  },
  {
   "cell_type": "code",
   "execution_count": 46,
   "id": "6de12b5f",
   "metadata": {},
   "outputs": [
    {
     "name": "stdout",
     "output_type": "stream",
     "text": [
      "====================== Start of Level 0 ======================\n",
      "Input Dimensionality 137 at Level 0 \n",
      "2 models included in Level 0 \n"
     ]
    },
    {
     "name": "stderr",
     "output_type": "stream",
     "text": [
      "/data/hieunm/anaconda3/envs/p5/lib/python3.9/site-packages/sklearn/externals/joblib/__init__.py:15: FutureWarning: sklearn.externals.joblib is deprecated in 0.21 and will be removed in 0.23. Please import this functionality directly from joblib, which can be installed with: pip install joblib. If this warning is raised when loading pickled models, you may need to re-serialize those models with scikit-learn 0.21+.\n",
      "  warnings.warn(msg, category=FutureWarning)\n",
      "/data/hieunm/anaconda3/envs/p5/lib/python3.9/site-packages/sklearn/externals/joblib/__init__.py:15: FutureWarning: sklearn.externals.joblib is deprecated in 0.21 and will be removed in 0.23. Please import this functionality directly from joblib, which can be installed with: pip install joblib. If this warning is raised when loading pickled models, you may need to re-serialize those models with scikit-learn 0.21+.\n",
      "  warnings.warn(msg, category=FutureWarning)\n",
      "Warning: less than 75% gpu memory available for training. Free: 1173.5625 Total: 24268.3125\n",
      "Warning: less than 75% gpu memory available for training. Free: 8380.5625 Total: 24268.3125\n"
     ]
    },
    {
     "name": "stdout",
     "output_type": "stream",
     "text": [
      "[LightGBM] [Warning] bagging_fraction is set=0.42, subsample=0.85 will be ignored. Current value: bagging_fraction=0.42\n",
      "[LightGBM] [Warning] min_data_in_leaf is set=100, min_child_samples=79 will be ignored. Current value: min_data_in_leaf=100\n",
      "[LightGBM] [Warning] feature_fraction is set=0.38, colsample_bytree=0.8 will be ignored. Current value: feature_fraction=0.38\n"
     ]
    },
    {
     "name": "stderr",
     "output_type": "stream",
     "text": [
      "/data/hieunm/anaconda3/envs/p5/lib/python3.9/site-packages/sklearn/externals/joblib/__init__.py:15: FutureWarning: sklearn.externals.joblib is deprecated in 0.21 and will be removed in 0.23. Please import this functionality directly from joblib, which can be installed with: pip install joblib. If this warning is raised when loading pickled models, you may need to re-serialize those models with scikit-learn 0.21+.\n",
      "  warnings.warn(msg, category=FutureWarning)\n"
     ]
    },
    {
     "name": "stdout",
     "output_type": "stream",
     "text": [
      "Fold 1/5 , model 0 , rmse===0.463557 \n",
      "Fold 1/5 , model 1 , rmse===0.445516 \n",
      "=========== end of fold 1 in level 0 ===========\n"
     ]
    },
    {
     "name": "stderr",
     "output_type": "stream",
     "text": [
      "/data/hieunm/anaconda3/envs/p5/lib/python3.9/site-packages/sklearn/externals/joblib/__init__.py:15: FutureWarning: sklearn.externals.joblib is deprecated in 0.21 and will be removed in 0.23. Please import this functionality directly from joblib, which can be installed with: pip install joblib. If this warning is raised when loading pickled models, you may need to re-serialize those models with scikit-learn 0.21+.\n",
      "  warnings.warn(msg, category=FutureWarning)\n",
      "/data/hieunm/anaconda3/envs/p5/lib/python3.9/site-packages/sklearn/externals/joblib/__init__.py:15: FutureWarning: sklearn.externals.joblib is deprecated in 0.21 and will be removed in 0.23. Please import this functionality directly from joblib, which can be installed with: pip install joblib. If this warning is raised when loading pickled models, you may need to re-serialize those models with scikit-learn 0.21+.\n",
      "  warnings.warn(msg, category=FutureWarning)\n",
      "Warning: less than 75% gpu memory available for training. Free: 1716.5625 Total: 24268.3125\n",
      "Warning: less than 75% gpu memory available for training. Free: 8101.5625 Total: 24268.3125\n"
     ]
    },
    {
     "name": "stdout",
     "output_type": "stream",
     "text": [
      "Learning rate set to 0.032632\n",
      "0:\tlearn: 9.5859863\ttotal: 235ms\tremaining: 19m 32s\n",
      "200:\tlearn: 1.4949676\ttotal: 46.6s\tremaining: 18m 33s\n",
      "400:\tlearn: 1.2028441\ttotal: 1m 33s\tremaining: 17m 55s\n",
      "600:\tlearn: 1.0491437\ttotal: 2m 20s\tremaining: 17m 4s\n",
      "800:\tlearn: 0.9454620\ttotal: 3m 6s\tremaining: 16m 18s\n",
      "1000:\tlearn: 0.8647953\ttotal: 3m 53s\tremaining: 15m 32s\n",
      "1200:\tlearn: 0.8042314\ttotal: 4m 40s\tremaining: 14m 45s\n",
      "1400:\tlearn: 0.7573156\ttotal: 5m 26s\tremaining: 13m 58s\n",
      "1600:\tlearn: 0.7172783\ttotal: 6m 13s\tremaining: 13m 12s\n",
      "1800:\tlearn: 0.6839304\ttotal: 6m 57s\tremaining: 12m 20s\n",
      "2000:\tlearn: 0.6547821\ttotal: 7m 40s\tremaining: 11m 30s\n",
      "2200:\tlearn: 0.6303596\ttotal: 8m 26s\tremaining: 10m 43s\n",
      "2400:\tlearn: 0.6086755\ttotal: 9m 10s\tremaining: 9m 55s\n",
      "2600:\tlearn: 0.5877842\ttotal: 9m 55s\tremaining: 9m 9s\n",
      "2800:\tlearn: 0.5701944\ttotal: 10m 40s\tremaining: 8m 23s\n",
      "3000:\tlearn: 0.5540251\ttotal: 11m 19s\tremaining: 7m 32s\n",
      "3200:\tlearn: 0.5389343\ttotal: 12m 4s\tremaining: 6m 47s\n",
      "3400:\tlearn: 0.5257429\ttotal: 12m 49s\tremaining: 6m 1s\n",
      "3600:\tlearn: 0.5127353\ttotal: 13m 35s\tremaining: 5m 16s\n",
      "3800:\tlearn: 0.5013153\ttotal: 14m 20s\tremaining: 4m 31s\n",
      "4000:\tlearn: 0.4902302\ttotal: 15m 5s\tremaining: 3m 46s\n",
      "4200:\tlearn: 0.4802715\ttotal: 15m 50s\tremaining: 3m\n",
      "4400:\tlearn: 0.4709458\ttotal: 16m 35s\tremaining: 2m 15s\n",
      "4600:\tlearn: 0.4617879\ttotal: 17m 21s\tremaining: 1m 30s\n",
      "4800:\tlearn: 0.4532846\ttotal: 18m 6s\tremaining: 45s\n",
      "4999:\tlearn: 0.4452003\ttotal: 18m 51s\tremaining: 0us\n",
      "[LightGBM] [Warning] bagging_fraction is set=0.42, subsample=0.85 will be ignored. Current value: bagging_fraction=0.42\n",
      "[LightGBM] [Warning] min_data_in_leaf is set=100, min_child_samples=79 will be ignored. Current value: min_data_in_leaf=100\n",
      "[LightGBM] [Warning] feature_fraction is set=0.38, colsample_bytree=0.8 will be ignored. Current value: feature_fraction=0.38\n"
     ]
    },
    {
     "name": "stderr",
     "output_type": "stream",
     "text": [
      "/data/hieunm/anaconda3/envs/p5/lib/python3.9/site-packages/sklearn/externals/joblib/__init__.py:15: FutureWarning: sklearn.externals.joblib is deprecated in 0.21 and will be removed in 0.23. Please import this functionality directly from joblib, which can be installed with: pip install joblib. If this warning is raised when loading pickled models, you may need to re-serialize those models with scikit-learn 0.21+.\n",
      "  warnings.warn(msg, category=FutureWarning)\n"
     ]
    },
    {
     "name": "stdout",
     "output_type": "stream",
     "text": [
      "Fold 2/5 , model 0 , rmse===0.464801 \n",
      "Fold 2/5 , model 1 , rmse===0.451094 \n",
      "=========== end of fold 2 in level 0 ===========\n"
     ]
    },
    {
     "name": "stderr",
     "output_type": "stream",
     "text": [
      "/data/hieunm/anaconda3/envs/p5/lib/python3.9/site-packages/sklearn/externals/joblib/__init__.py:15: FutureWarning: sklearn.externals.joblib is deprecated in 0.21 and will be removed in 0.23. Please import this functionality directly from joblib, which can be installed with: pip install joblib. If this warning is raised when loading pickled models, you may need to re-serialize those models with scikit-learn 0.21+.\n",
      "  warnings.warn(msg, category=FutureWarning)\n",
      "/data/hieunm/anaconda3/envs/p5/lib/python3.9/site-packages/sklearn/externals/joblib/__init__.py:15: FutureWarning: sklearn.externals.joblib is deprecated in 0.21 and will be removed in 0.23. Please import this functionality directly from joblib, which can be installed with: pip install joblib. If this warning is raised when loading pickled models, you may need to re-serialize those models with scikit-learn 0.21+.\n",
      "  warnings.warn(msg, category=FutureWarning)\n",
      "Warning: less than 75% gpu memory available for training. Free: 1716.5625 Total: 24268.3125\n",
      "Warning: less than 75% gpu memory available for training. Free: 8101.5625 Total: 24268.3125\n"
     ]
    },
    {
     "name": "stdout",
     "output_type": "stream",
     "text": [
      "Learning rate set to 0.032632\n",
      "0:\tlearn: 9.5916145\ttotal: 249ms\tremaining: 20m 44s\n",
      "200:\tlearn: 1.4993934\ttotal: 45.5s\tremaining: 18m 6s\n",
      "400:\tlearn: 1.2013081\ttotal: 1m 30s\tremaining: 17m 21s\n",
      "600:\tlearn: 1.0461403\ttotal: 2m 15s\tremaining: 16m 34s\n",
      "800:\tlearn: 0.9400857\ttotal: 2m 58s\tremaining: 15m 35s\n",
      "1000:\tlearn: 0.8640202\ttotal: 3m 33s\tremaining: 14m 13s\n",
      "1200:\tlearn: 0.8048973\ttotal: 3m 59s\tremaining: 12m 36s\n",
      "1400:\tlearn: 0.7580563\ttotal: 4m 12s\tremaining: 10m 49s\n",
      "1600:\tlearn: 0.7147601\ttotal: 4m 53s\tremaining: 10m 22s\n",
      "1800:\tlearn: 0.6815048\ttotal: 5m 33s\tremaining: 9m 53s\n",
      "2000:\tlearn: 0.6516807\ttotal: 6m 15s\tremaining: 9m 22s\n",
      "2200:\tlearn: 0.6249126\ttotal: 6m 55s\tremaining: 8m 49s\n",
      "2400:\tlearn: 0.6036967\ttotal: 7m 39s\tremaining: 8m 16s\n",
      "2600:\tlearn: 0.5839660\ttotal: 8m 25s\tremaining: 7m 46s\n",
      "2800:\tlearn: 0.5663332\ttotal: 9m 12s\tremaining: 7m 13s\n",
      "3000:\tlearn: 0.5508176\ttotal: 9m 59s\tremaining: 6m 39s\n",
      "3200:\tlearn: 0.5363540\ttotal: 10m 46s\tremaining: 6m 3s\n",
      "3400:\tlearn: 0.5231164\ttotal: 11m 33s\tremaining: 5m 26s\n",
      "3600:\tlearn: 0.5113726\ttotal: 12m 20s\tremaining: 4m 47s\n",
      "3800:\tlearn: 0.5003046\ttotal: 13m 4s\tremaining: 4m 7s\n",
      "4000:\tlearn: 0.4898734\ttotal: 13m 50s\tremaining: 3m 27s\n",
      "4200:\tlearn: 0.4793430\ttotal: 14m 37s\tremaining: 2m 46s\n",
      "4400:\tlearn: 0.4698209\ttotal: 15m 24s\tremaining: 2m 5s\n",
      "4600:\tlearn: 0.4605126\ttotal: 16m 11s\tremaining: 1m 24s\n",
      "4800:\tlearn: 0.4520041\ttotal: 16m 59s\tremaining: 42.2s\n",
      "4999:\tlearn: 0.4437077\ttotal: 17m 45s\tremaining: 0us\n",
      "[LightGBM] [Warning] bagging_fraction is set=0.42, subsample=0.85 will be ignored. Current value: bagging_fraction=0.42\n",
      "[LightGBM] [Warning] min_data_in_leaf is set=100, min_child_samples=79 will be ignored. Current value: min_data_in_leaf=100\n",
      "[LightGBM] [Warning] feature_fraction is set=0.38, colsample_bytree=0.8 will be ignored. Current value: feature_fraction=0.38\n"
     ]
    },
    {
     "name": "stderr",
     "output_type": "stream",
     "text": [
      "/data/hieunm/anaconda3/envs/p5/lib/python3.9/site-packages/sklearn/externals/joblib/__init__.py:15: FutureWarning: sklearn.externals.joblib is deprecated in 0.21 and will be removed in 0.23. Please import this functionality directly from joblib, which can be installed with: pip install joblib. If this warning is raised when loading pickled models, you may need to re-serialize those models with scikit-learn 0.21+.\n",
      "  warnings.warn(msg, category=FutureWarning)\n"
     ]
    },
    {
     "name": "stdout",
     "output_type": "stream",
     "text": [
      "Fold 3/5 , model 0 , rmse===0.464653 \n",
      "Fold 3/5 , model 1 , rmse===0.447400 \n",
      "=========== end of fold 3 in level 0 ===========\n"
     ]
    },
    {
     "name": "stderr",
     "output_type": "stream",
     "text": [
      "/data/hieunm/anaconda3/envs/p5/lib/python3.9/site-packages/sklearn/externals/joblib/__init__.py:15: FutureWarning: sklearn.externals.joblib is deprecated in 0.21 and will be removed in 0.23. Please import this functionality directly from joblib, which can be installed with: pip install joblib. If this warning is raised when loading pickled models, you may need to re-serialize those models with scikit-learn 0.21+.\n",
      "  warnings.warn(msg, category=FutureWarning)\n",
      "/data/hieunm/anaconda3/envs/p5/lib/python3.9/site-packages/sklearn/externals/joblib/__init__.py:15: FutureWarning: sklearn.externals.joblib is deprecated in 0.21 and will be removed in 0.23. Please import this functionality directly from joblib, which can be installed with: pip install joblib. If this warning is raised when loading pickled models, you may need to re-serialize those models with scikit-learn 0.21+.\n",
      "  warnings.warn(msg, category=FutureWarning)\n",
      "Warning: less than 75% gpu memory available for training. Free: 1788.5625 Total: 24268.3125\n",
      "/data/hieunm/anaconda3/envs/p5/lib/python3.9/site-packages/sklearn/externals/joblib/__init__.py:15: FutureWarning: sklearn.externals.joblib is deprecated in 0.21 and will be removed in 0.23. Please import this functionality directly from joblib, which can be installed with: pip install joblib. If this warning is raised when loading pickled models, you may need to re-serialize those models with scikit-learn 0.21+.\n",
      "  warnings.warn(msg, category=FutureWarning)\n",
      "/data/hieunm/anaconda3/envs/p5/lib/python3.9/site-packages/sklearn/externals/joblib/__init__.py:15: FutureWarning: sklearn.externals.joblib is deprecated in 0.21 and will be removed in 0.23. Please import this functionality directly from joblib, which can be installed with: pip install joblib. If this warning is raised when loading pickled models, you may need to re-serialize those models with scikit-learn 0.21+.\n",
      "  warnings.warn(msg, category=FutureWarning)\n"
     ]
    },
    {
     "name": "stdout",
     "output_type": "stream",
     "text": [
      "Fold 4/5 , model 0 , rmse===0.467727 \n",
      "Fold 4/5 , model 1 , rmse===0.451349 \n",
      "=========== end of fold 4 in level 0 ===========\n"
     ]
    },
    {
     "name": "stderr",
     "output_type": "stream",
     "text": [
      "/data/hieunm/anaconda3/envs/p5/lib/python3.9/site-packages/sklearn/externals/joblib/__init__.py:15: FutureWarning: sklearn.externals.joblib is deprecated in 0.21 and will be removed in 0.23. Please import this functionality directly from joblib, which can be installed with: pip install joblib. If this warning is raised when loading pickled models, you may need to re-serialize those models with scikit-learn 0.21+.\n",
      "  warnings.warn(msg, category=FutureWarning)\n",
      "/data/hieunm/anaconda3/envs/p5/lib/python3.9/site-packages/sklearn/externals/joblib/__init__.py:15: FutureWarning: sklearn.externals.joblib is deprecated in 0.21 and will be removed in 0.23. Please import this functionality directly from joblib, which can be installed with: pip install joblib. If this warning is raised when loading pickled models, you may need to re-serialize those models with scikit-learn 0.21+.\n",
      "  warnings.warn(msg, category=FutureWarning)\n"
     ]
    },
    {
     "name": "stdout",
     "output_type": "stream",
     "text": [
      "Learning rate set to 0.032632\n",
      "0:\tlearn: 9.5937987\ttotal: 248ms\tremaining: 20m 39s\n",
      "200:\tlearn: 1.5059385\ttotal: 47.1s\tremaining: 18m 43s\n",
      "400:\tlearn: 1.2090083\ttotal: 1m 33s\tremaining: 17m 54s\n",
      "600:\tlearn: 1.0490938\ttotal: 2m 19s\tremaining: 17m 3s\n",
      "800:\tlearn: 0.9411904\ttotal: 3m 5s\tremaining: 16m 12s\n",
      "1000:\tlearn: 0.8653851\ttotal: 3m 51s\tremaining: 15m 26s\n",
      "1200:\tlearn: 0.8046049\ttotal: 4m 38s\tremaining: 14m 41s\n",
      "1400:\tlearn: 0.7559864\ttotal: 5m 25s\tremaining: 13m 55s\n",
      "1600:\tlearn: 0.7164589\ttotal: 6m 11s\tremaining: 13m 7s\n",
      "1800:\tlearn: 0.6817186\ttotal: 6m 57s\tremaining: 12m 21s\n",
      "2000:\tlearn: 0.6533045\ttotal: 7m 44s\tremaining: 11m 36s\n",
      "2200:\tlearn: 0.6294036\ttotal: 8m 31s\tremaining: 10m 51s\n",
      "2400:\tlearn: 0.6066536\ttotal: 9m 19s\tremaining: 10m 5s\n",
      "2600:\tlearn: 0.5869737\ttotal: 10m 6s\tremaining: 9m 19s\n",
      "2800:\tlearn: 0.5693628\ttotal: 10m 53s\tremaining: 8m 32s\n",
      "3000:\tlearn: 0.5534999\ttotal: 11m 25s\tremaining: 7m 36s\n",
      "3200:\tlearn: 0.5385784\ttotal: 11m 36s\tremaining: 6m 31s\n",
      "3400:\tlearn: 0.5246580\ttotal: 11m 46s\tremaining: 5m 32s\n",
      "3600:\tlearn: 0.5118998\ttotal: 11m 57s\tremaining: 4m 38s\n",
      "3800:\tlearn: 0.5006759\ttotal: 12m 7s\tremaining: 3m 49s\n",
      "4000:\tlearn: 0.4900284\ttotal: 12m 18s\tremaining: 3m 4s\n",
      "4200:\tlearn: 0.4799338\ttotal: 12m 28s\tremaining: 2m 22s\n",
      "4400:\tlearn: 0.4703240\ttotal: 12m 39s\tremaining: 1m 43s\n",
      "4600:\tlearn: 0.4613060\ttotal: 12m 50s\tremaining: 1m 6s\n",
      "4800:\tlearn: 0.4527927\ttotal: 13m\tremaining: 32.4s\n",
      "4999:\tlearn: 0.4449076\ttotal: 13m 11s\tremaining: 0us\n"
     ]
    },
    {
     "name": "stderr",
     "output_type": "stream",
     "text": [
      "Warning: less than 75% gpu memory available for training. Free: 1788.5625 Total: 24268.3125\n"
     ]
    },
    {
     "name": "stdout",
     "output_type": "stream",
     "text": [
      "[LightGBM] [Warning] bagging_fraction is set=0.42, subsample=0.85 will be ignored. Current value: bagging_fraction=0.42\n",
      "[LightGBM] [Warning] min_data_in_leaf is set=100, min_child_samples=79 will be ignored. Current value: min_data_in_leaf=100\n",
      "[LightGBM] [Warning] feature_fraction is set=0.38, colsample_bytree=0.8 will be ignored. Current value: feature_fraction=0.38\n",
      "Learning rate set to 0.032632\n",
      "0:\tlearn: 9.6013171\ttotal: 106ms\tremaining: 8m 51s\n",
      "200:\tlearn: 1.4947982\ttotal: 11.1s\tremaining: 4m 24s\n",
      "400:\tlearn: 1.2078738\ttotal: 21.2s\tremaining: 4m 2s\n",
      "600:\tlearn: 1.0492974\ttotal: 32.5s\tremaining: 3m 57s\n",
      "800:\tlearn: 0.9410084\ttotal: 43.4s\tremaining: 3m 47s\n",
      "1000:\tlearn: 0.8632162\ttotal: 53.8s\tremaining: 3m 35s\n",
      "1200:\tlearn: 0.8052214\ttotal: 1m 5s\tremaining: 3m 26s\n",
      "1400:\tlearn: 0.7543185\ttotal: 1m 15s\tremaining: 3m 14s\n",
      "1600:\tlearn: 0.7152279\ttotal: 1m 26s\tremaining: 3m 3s\n",
      "1800:\tlearn: 0.6812265\ttotal: 1m 37s\tremaining: 2m 53s\n",
      "2000:\tlearn: 0.6539635\ttotal: 1m 47s\tremaining: 2m 41s\n",
      "2200:\tlearn: 0.6280288\ttotal: 1m 59s\tremaining: 2m 31s\n",
      "2400:\tlearn: 0.6066674\ttotal: 2m 10s\tremaining: 2m 21s\n",
      "2600:\tlearn: 0.5871831\ttotal: 2m 21s\tremaining: 2m 10s\n",
      "2800:\tlearn: 0.5698450\ttotal: 2m 32s\tremaining: 1m 59s\n",
      "3000:\tlearn: 0.5541396\ttotal: 2m 43s\tremaining: 1m 49s\n",
      "3200:\tlearn: 0.5396177\ttotal: 2m 50s\tremaining: 1m 35s\n",
      "3400:\tlearn: 0.5259553\ttotal: 2m 52s\tremaining: 1m 21s\n",
      "3600:\tlearn: 0.5133612\ttotal: 2m 53s\tremaining: 1m 7s\n",
      "3800:\tlearn: 0.5014012\ttotal: 2m 54s\tremaining: 55.1s\n",
      "4000:\tlearn: 0.4903718\ttotal: 3m 1s\tremaining: 45.4s\n",
      "4200:\tlearn: 0.4804553\ttotal: 3m 13s\tremaining: 36.8s\n",
      "4400:\tlearn: 0.4705295\ttotal: 3m 24s\tremaining: 27.8s\n",
      "4600:\tlearn: 0.4616373\ttotal: 3m 34s\tremaining: 18.6s\n",
      "4800:\tlearn: 0.4530169\ttotal: 3m 45s\tremaining: 9.34s\n",
      "4999:\tlearn: 0.4447782\ttotal: 3m 56s\tremaining: 0us\n",
      "Fold 5/5 , model 0 , rmse===0.461126 \n",
      "Fold 5/5 , model 1 , rmse===0.448708 \n",
      "=========== end of fold 5 in level 0 ===========\n"
     ]
    },
    {
     "name": "stderr",
     "output_type": "stream",
     "text": [
      "/data/hieunm/anaconda3/envs/p5/lib/python3.9/site-packages/sklearn/externals/joblib/__init__.py:15: FutureWarning: sklearn.externals.joblib is deprecated in 0.21 and will be removed in 0.23. Please import this functionality directly from joblib, which can be installed with: pip install joblib. If this warning is raised when loading pickled models, you may need to re-serialize those models with scikit-learn 0.21+.\n",
      "  warnings.warn(msg, category=FutureWarning)\n",
      "/data/hieunm/anaconda3/envs/p5/lib/python3.9/site-packages/sklearn/externals/joblib/__init__.py:15: FutureWarning: sklearn.externals.joblib is deprecated in 0.21 and will be removed in 0.23. Please import this functionality directly from joblib, which can be installed with: pip install joblib. If this warning is raised when loading pickled models, you may need to re-serialize those models with scikit-learn 0.21+.\n",
      "  warnings.warn(msg, category=FutureWarning)\n",
      "Warning: less than 75% gpu memory available for training. Free: 1788.5625 Total: 24268.3125\n"
     ]
    },
    {
     "name": "stdout",
     "output_type": "stream",
     "text": [
      "Output dimensionality of level 0 is 2 \n",
      "====================== End of Level 0 ======================\n",
      " level 0 lasted 3977.405770 seconds \n",
      "====================== Start of Level 1 ======================\n",
      "Input Dimensionality 2 at Level 1 \n",
      "1 models included in Level 1 \n"
     ]
    },
    {
     "name": "stderr",
     "output_type": "stream",
     "text": [
      "/data/hieunm/anaconda3/envs/p5/lib/python3.9/site-packages/sklearn/externals/joblib/__init__.py:15: FutureWarning: sklearn.externals.joblib is deprecated in 0.21 and will be removed in 0.23. Please import this functionality directly from joblib, which can be installed with: pip install joblib. If this warning is raised when loading pickled models, you may need to re-serialize those models with scikit-learn 0.21+.\n",
      "  warnings.warn(msg, category=FutureWarning)\n"
     ]
    },
    {
     "name": "stdout",
     "output_type": "stream",
     "text": [
      "Learning rate set to 0.032632\n",
      "0:\tlearn: 9.5935330\ttotal: 61.4ms\tremaining: 5m 6s\n",
      "200:\tlearn: 1.4979156\ttotal: 10.5s\tremaining: 4m 10s\n",
      "400:\tlearn: 1.2058552\ttotal: 21.8s\tremaining: 4m 10s\n",
      "600:\tlearn: 1.0516304\ttotal: 32.6s\tremaining: 3m 58s\n",
      "800:\tlearn: 0.9376608\ttotal: 42.8s\tremaining: 3m 44s\n",
      "1000:\tlearn: 0.8609830\ttotal: 53.7s\tremaining: 3m 34s\n",
      "1200:\tlearn: 0.7989886\ttotal: 1m 4s\tremaining: 3m 24s\n",
      "1400:\tlearn: 0.7508669\ttotal: 1m 15s\tremaining: 3m 13s\n",
      "1600:\tlearn: 0.7113878\ttotal: 1m 26s\tremaining: 3m 2s\n",
      "1800:\tlearn: 0.6770394\ttotal: 1m 37s\tremaining: 2m 52s\n",
      "2000:\tlearn: 0.6498737\ttotal: 1m 48s\tremaining: 2m 41s\n",
      "2200:\tlearn: 0.6251161\ttotal: 1m 59s\tremaining: 2m 31s\n",
      "2400:\tlearn: 0.6036929\ttotal: 2m 9s\tremaining: 2m 20s\n",
      "2600:\tlearn: 0.5848077\ttotal: 2m 20s\tremaining: 2m 9s\n",
      "2800:\tlearn: 0.5666329\ttotal: 2m 31s\tremaining: 1m 58s\n",
      "3000:\tlearn: 0.5503166\ttotal: 2m 42s\tremaining: 1m 47s\n",
      "3200:\tlearn: 0.5357229\ttotal: 2m 52s\tremaining: 1m 36s\n",
      "3400:\tlearn: 0.5219047\ttotal: 3m 2s\tremaining: 1m 25s\n",
      "3600:\tlearn: 0.5096747\ttotal: 3m 12s\tremaining: 1m 14s\n",
      "3800:\tlearn: 0.4983549\ttotal: 3m 21s\tremaining: 1m 3s\n",
      "4000:\tlearn: 0.4877250\ttotal: 3m 32s\tremaining: 53s\n",
      "4200:\tlearn: 0.4774740\ttotal: 3m 43s\tremaining: 42.5s\n",
      "4400:\tlearn: 0.4679478\ttotal: 3m 54s\tremaining: 31.9s\n",
      "4600:\tlearn: 0.4591231\ttotal: 4m 5s\tremaining: 21.3s\n",
      "4800:\tlearn: 0.4503945\ttotal: 4m 16s\tremaining: 10.6s\n",
      "4999:\tlearn: 0.4425260\ttotal: 4m 26s\tremaining: 0us\n",
      "[LightGBM] [Warning] bagging_fraction is set=0.42, subsample=0.85 will be ignored. Current value: bagging_fraction=0.42\n",
      "[LightGBM] [Warning] min_data_in_leaf is set=100, min_child_samples=79 will be ignored. Current value: min_data_in_leaf=100\n",
      "[LightGBM] [Warning] feature_fraction is set=0.38, colsample_bytree=0.8 will be ignored. Current value: feature_fraction=0.38\n",
      "Fold 1/5 , model 0 , rmse===0.504197 \n",
      "=========== end of fold 1 in level 1 ===========\n",
      "Fold 2/5 , model 0 , rmse===0.509631 \n",
      "=========== end of fold 2 in level 1 ===========\n"
     ]
    },
    {
     "name": "stderr",
     "output_type": "stream",
     "text": [
      "/data/hieunm/anaconda3/envs/p5/lib/python3.9/site-packages/sklearn/externals/joblib/__init__.py:15: FutureWarning: sklearn.externals.joblib is deprecated in 0.21 and will be removed in 0.23. Please import this functionality directly from joblib, which can be installed with: pip install joblib. If this warning is raised when loading pickled models, you may need to re-serialize those models with scikit-learn 0.21+.\n",
      "  warnings.warn(msg, category=FutureWarning)\n",
      "/data/hieunm/anaconda3/envs/p5/lib/python3.9/site-packages/sklearn/externals/joblib/__init__.py:15: FutureWarning: sklearn.externals.joblib is deprecated in 0.21 and will be removed in 0.23. Please import this functionality directly from joblib, which can be installed with: pip install joblib. If this warning is raised when loading pickled models, you may need to re-serialize those models with scikit-learn 0.21+.\n",
      "  warnings.warn(msg, category=FutureWarning)\n"
     ]
    },
    {
     "name": "stdout",
     "output_type": "stream",
     "text": [
      "Fold 3/5 , model 0 , rmse===0.503848 \n",
      "=========== end of fold 3 in level 1 ===========\n"
     ]
    },
    {
     "name": "stderr",
     "output_type": "stream",
     "text": [
      "/data/hieunm/anaconda3/envs/p5/lib/python3.9/site-packages/sklearn/externals/joblib/__init__.py:15: FutureWarning: sklearn.externals.joblib is deprecated in 0.21 and will be removed in 0.23. Please import this functionality directly from joblib, which can be installed with: pip install joblib. If this warning is raised when loading pickled models, you may need to re-serialize those models with scikit-learn 0.21+.\n",
      "  warnings.warn(msg, category=FutureWarning)\n",
      "/data/hieunm/anaconda3/envs/p5/lib/python3.9/site-packages/sklearn/externals/joblib/__init__.py:15: FutureWarning: sklearn.externals.joblib is deprecated in 0.21 and will be removed in 0.23. Please import this functionality directly from joblib, which can be installed with: pip install joblib. If this warning is raised when loading pickled models, you may need to re-serialize those models with scikit-learn 0.21+.\n",
      "  warnings.warn(msg, category=FutureWarning)\n"
     ]
    },
    {
     "name": "stdout",
     "output_type": "stream",
     "text": [
      "Fold 4/5 , model 0 , rmse===0.507386 \n",
      "=========== end of fold 4 in level 1 ===========\n"
     ]
    },
    {
     "name": "stderr",
     "output_type": "stream",
     "text": [
      "/data/hieunm/anaconda3/envs/p5/lib/python3.9/site-packages/sklearn/externals/joblib/__init__.py:15: FutureWarning: sklearn.externals.joblib is deprecated in 0.21 and will be removed in 0.23. Please import this functionality directly from joblib, which can be installed with: pip install joblib. If this warning is raised when loading pickled models, you may need to re-serialize those models with scikit-learn 0.21+.\n",
      "  warnings.warn(msg, category=FutureWarning)\n",
      "/data/hieunm/anaconda3/envs/p5/lib/python3.9/site-packages/sklearn/externals/joblib/__init__.py:15: FutureWarning: sklearn.externals.joblib is deprecated in 0.21 and will be removed in 0.23. Please import this functionality directly from joblib, which can be installed with: pip install joblib. If this warning is raised when loading pickled models, you may need to re-serialize those models with scikit-learn 0.21+.\n",
      "  warnings.warn(msg, category=FutureWarning)\n"
     ]
    },
    {
     "name": "stdout",
     "output_type": "stream",
     "text": [
      "Fold 5/5 , model 0 , rmse===0.502646 \n",
      "=========== end of fold 5 in level 1 ===========\n"
     ]
    },
    {
     "name": "stderr",
     "output_type": "stream",
     "text": [
      "/data/hieunm/anaconda3/envs/p5/lib/python3.9/site-packages/sklearn/externals/joblib/__init__.py:15: FutureWarning: sklearn.externals.joblib is deprecated in 0.21 and will be removed in 0.23. Please import this functionality directly from joblib, which can be installed with: pip install joblib. If this warning is raised when loading pickled models, you may need to re-serialize those models with scikit-learn 0.21+.\n",
      "  warnings.warn(msg, category=FutureWarning)\n"
     ]
    },
    {
     "name": "stdout",
     "output_type": "stream",
     "text": [
      "Output dimensionality of level 1 is 1 \n",
      "====================== End of Level 1 ======================\n",
      " level 1 lasted 298.304870 seconds \n",
      "====================== End of fit ======================\n",
      " fit() lasted 4275.712422 seconds \n",
      "[LightGBM] [Warning] bagging_fraction is set=0.42, subsample=0.85 will be ignored. Current value: bagging_fraction=0.42\n",
      "[LightGBM] [Warning] min_data_in_leaf is set=100, min_child_samples=79 will be ignored. Current value: min_data_in_leaf=100\n",
      "[LightGBM] [Warning] feature_fraction is set=0.38, colsample_bytree=0.8 will be ignored. Current value: feature_fraction=0.38\n",
      "Learning rate set to 0.0336\n",
      "0:\tlearn: 9.5849130\ttotal: 42.7ms\tremaining: 3m 33s\n",
      "200:\tlearn: 1.4852771\ttotal: 11.8s\tremaining: 4m 41s\n",
      "400:\tlearn: 1.1961458\ttotal: 22.5s\tremaining: 4m 17s\n",
      "600:\tlearn: 1.0326194\ttotal: 32.5s\tremaining: 3m 57s\n",
      "800:\tlearn: 0.9278262\ttotal: 43.2s\tremaining: 3m 46s\n",
      "1000:\tlearn: 0.8518391\ttotal: 54.1s\tremaining: 3m 35s\n",
      "1200:\tlearn: 0.7921581\ttotal: 1m 5s\tremaining: 3m 26s\n",
      "1400:\tlearn: 0.7461349\ttotal: 1m 16s\tremaining: 3m 15s\n",
      "1600:\tlearn: 0.7073456\ttotal: 1m 27s\tremaining: 3m 6s\n",
      "1800:\tlearn: 0.6725886\ttotal: 1m 39s\tremaining: 2m 55s\n",
      "2000:\tlearn: 0.6453437\ttotal: 1m 50s\tremaining: 2m 45s\n",
      "2200:\tlearn: 0.6204015\ttotal: 2m 1s\tremaining: 2m 34s\n",
      "2400:\tlearn: 0.5988708\ttotal: 2m 12s\tremaining: 2m 23s\n",
      "2600:\tlearn: 0.5792382\ttotal: 2m 22s\tremaining: 2m 11s\n",
      "2800:\tlearn: 0.5609923\ttotal: 2m 34s\tremaining: 2m 1s\n",
      "3000:\tlearn: 0.5439915\ttotal: 2m 45s\tremaining: 1m 49s\n",
      "3200:\tlearn: 0.5302287\ttotal: 2m 56s\tremaining: 1m 39s\n",
      "3400:\tlearn: 0.5172850\ttotal: 3m 7s\tremaining: 1m 28s\n",
      "3600:\tlearn: 0.5054630\ttotal: 3m 19s\tremaining: 1m 17s\n",
      "3800:\tlearn: 0.4938394\ttotal: 3m 30s\tremaining: 1m 6s\n",
      "4000:\tlearn: 0.4827770\ttotal: 3m 41s\tremaining: 55.2s\n",
      "4200:\tlearn: 0.4724973\ttotal: 3m 51s\tremaining: 44.1s\n",
      "4400:\tlearn: 0.4633463\ttotal: 4m 2s\tremaining: 33s\n",
      "4600:\tlearn: 0.4547695\ttotal: 4m 13s\tremaining: 22s\n",
      "4800:\tlearn: 0.4462943\ttotal: 4m 24s\tremaining: 11s\n",
      "4999:\tlearn: 0.4385187\ttotal: 4m 35s\tremaining: 0us\n"
     ]
    }
   ],
   "source": [
    "model.fit(X, y)"
   ]
  },
  {
   "cell_type": "code",
   "execution_count": 47,
   "id": "87720e76",
   "metadata": {},
   "outputs": [
    {
     "name": "stdout",
     "output_type": "stream",
     "text": [
      "====================== Start of Level 0 ======================\n",
      "1 estimators included in Level 0 \n"
     ]
    },
    {
     "name": "stderr",
     "output_type": "stream",
     "text": [
      "/data/hieunm/anaconda3/envs/p5/lib/python3.9/site-packages/sklearn/externals/joblib/__init__.py:15: FutureWarning: sklearn.externals.joblib is deprecated in 0.21 and will be removed in 0.23. Please import this functionality directly from joblib, which can be installed with: pip install joblib. If this warning is raised when loading pickled models, you may need to re-serialize those models with scikit-learn 0.21+.\n",
      "  warnings.warn(msg, category=FutureWarning)\n",
      "/data/hieunm/anaconda3/envs/p5/lib/python3.9/site-packages/sklearn/externals/joblib/__init__.py:15: FutureWarning: sklearn.externals.joblib is deprecated in 0.21 and will be removed in 0.23. Please import this functionality directly from joblib, which can be installed with: pip install joblib. If this warning is raised when loading pickled models, you may need to re-serialize those models with scikit-learn 0.21+.\n",
      "  warnings.warn(msg, category=FutureWarning)\n"
     ]
    },
    {
     "name": "stdout",
     "output_type": "stream",
     "text": [
      "====================== Start of Level 1 ======================\n",
      "1 estimators included in Level 1 \n"
     ]
    },
    {
     "name": "stderr",
     "output_type": "stream",
     "text": [
      "/data/hieunm/anaconda3/envs/p5/lib/python3.9/site-packages/sklearn/externals/joblib/__init__.py:15: FutureWarning: sklearn.externals.joblib is deprecated in 0.21 and will be removed in 0.23. Please import this functionality directly from joblib, which can be installed with: pip install joblib. If this warning is raised when loading pickled models, you may need to re-serialize those models with scikit-learn 0.21+.\n",
      "  warnings.warn(msg, category=FutureWarning)\n"
     ]
    }
   ],
   "source": [
    "s = model.predict(test_df[features].values)"
   ]
  },
  {
   "cell_type": "code",
   "execution_count": 48,
   "id": "c73178f6",
   "metadata": {},
   "outputs": [
    {
     "name": "stdout",
     "output_type": "stream",
     "text": [
      "cos_sim with best submission: [0.99907485]\n"
     ]
    }
   ],
   "source": [
    "res_df = pd.read_csv('./sample_solution.csv')\n",
    "res_df['contest-tmp2m-14d__tmp2m'] = s[:, 0]\n",
    "res_df.to_csv('submission_stacking.csv', index=False)\n",
    "\n",
    "best_df = pd.read_csv('best_sub.csv')\n",
    "y_best = best_df[target[0]].values\n",
    "\n",
    "from numpy import dot\n",
    "from numpy.linalg import norm\n",
    "\n",
    "cos_sim = dot(y_best, s)/(norm(y_best)*norm(s))\n",
    "print(\"cos_sim with best submission:\", cos_sim)"
   ]
  },
  {
   "cell_type": "code",
   "execution_count": null,
   "id": "7a00ee4f",
   "metadata": {},
   "outputs": [],
   "source": [
    "# X = train_df[features].values\n",
    "# y = train_df[target[0]].values\n",
    "\n",
    "# skf = KFold(n_splits=5, random_state=2048, shuffle=True)\n",
    "# skf.get_n_splits(X, y)\n",
    "\n",
    "# train_index_list = []\n",
    "# test_index_list = []\n",
    "# train_x_list = []\n",
    "# val_x_list = []\n",
    "# train_y_list = []\n",
    "# val_y_list = []\n",
    "\n",
    "# for i, (train_index, test_index) in tqdm(enumerate(skf.split(X, y))):\n",
    "#     train_index_list.append(train_index)\n",
    "#     test_index_list.append(test_index)\n",
    "\n",
    "#     train_x_list.append(X[train_index, :])\n",
    "#     val_x_list.append(X[test_index, :])\n",
    "#     train_y_list.append(y[train_index])\n",
    "#     val_y_list.append(y[test_index]) \n",
    "    \n",
    "   \n",
    "# def train_stack_model(x, y):\n",
    "#     print(x.shape, y.shape)\n",
    "    \n",
    "#     models = []\n",
    "#     for i in tqdm(range(5)):\n",
    "#         train_x, val_x = train_x_list[i], val_x_list[i]\n",
    "#         train_y, val_y = train_y_list[i], val_y_list[i]\n",
    "        \n",
    "#         model = StackNetRegressor(models, \n",
    "#                            restacking=False,\n",
    "#                            use_retraining=True,\n",
    "#                            random_state=seed,\n",
    "#                            n_jobs=-1, \n",
    "#                            verbose=1)\n",
    "#         model.fit(train_x, train_y, eval_set=[(val_x, val_y)], verbose=200, early_stopping_rounds=100)\n",
    "#         models.append(model)\n",
    "    \n",
    "#     return cat_models\n",
    "# models = train_stack_model(X, y)\n",
    "\n",
    "# preds = []\n",
    "# for model in tqdm(models):\n",
    "#     preds.append(model.predict(test_df[features].values))\n",
    "# s = 0\n",
    "# for pred in preds:\n",
    "#     s += pred\n",
    "# s = s/5\n",
    "# res_df = pd.read_csv('./sample_solution.csv')\n",
    "# res_df['contest-tmp2m-14d__tmp2m'] = s\n",
    "# res_df.to_csv('submission_stacking.csv', index=False)\n",
    "\n",
    "\n",
    "# from numpy import dot\n",
    "# from numpy.linalg import norm\n",
    "\n",
    "# cos_sim = dot(y_best, s)/(norm(y_best)*norm(s))\n",
    "# print(\"cos_sim with best submission:\", cos_sim)"
   ]
  }
 ],
 "metadata": {
  "kernelspec": {
   "display_name": "ml-env",
   "language": "python",
   "name": "ml-env"
  },
  "language_info": {
   "codemirror_mode": {
    "name": "ipython",
    "version": 3
   },
   "file_extension": ".py",
   "mimetype": "text/x-python",
   "name": "python",
   "nbconvert_exporter": "python",
   "pygments_lexer": "ipython3",
   "version": "3.9.7"
  }
 },
 "nbformat": 4,
 "nbformat_minor": 5
}
