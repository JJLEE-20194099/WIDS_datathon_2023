{
 "cells": [
  {
   "cell_type": "code",
   "execution_count": 1,
   "id": "3048a728",
   "metadata": {},
   "outputs": [],
   "source": [
    "import numpy as np\n",
    "import pandas as pd\n",
    "import seaborn as sns\n",
    "import torch\n",
    "import torch.nn as nn\n",
    "import torch.nn.functional as f\n",
    "pd.set_option('display.max_columns', None)\n",
    "import matplotlib.pyplot as plt\n",
    "from sklearn.model_selection import train_test_split\n",
    "from torch.utils.data import DataLoader\n",
    "from sklearn import preprocessing\n",
    "from tqdm import tqdm\n",
    "from sklearn.preprocessing import FunctionTransformer\n",
    "import seaborn as sns \n",
    "from scipy import stats\n",
    "import statsmodels.api as sm\n",
    "\n",
    "from sklearn.ensemble import RandomForestRegressor, ExtraTreesRegressor, AdaBoostRegressor, BaggingRegressor, GradientBoostingRegressor\n",
    "from sklearn.tree import DecisionTreeRegressor\n",
    "from sklearn.linear_model import ElasticNet, Lasso\n",
    "from sklearn.feature_selection import SelectFromModel\n",
    "from sklearn.svm import SVR\n",
    "from sklearn.model_selection import KFold, cross_val_score\n",
    "from sklearn.pipeline import make_pipeline\n",
    "from sklearn.decomposition import PCA\n",
    "from sklearn.preprocessing import RobustScaler\n",
    "import h2o\n",
    "from h2o.automl import H2OAutoML\n",
    "from sklearn.base import BaseEstimator, TransformerMixin, RegressorMixin, clone\n",
    "from sklearn.neural_network import MLPRegressor\n",
    "from scipy.stats import norm\n",
    "import copy\n",
    "from sklearn.model_selection import KFold\n",
    "from catboost import CatBoostRegressor, Pool, metrics, cv\n",
    "import xgboost as xgb\n",
    "from scipy.stats import gmean\n",
    "from sklearn.impute import KNNImputer\n",
    "from sklearn.metrics import mean_squared_error\n",
    "from sklearn.preprocessing import LabelEncoder\n"
   ]
  },
  {
   "cell_type": "code",
   "execution_count": 2,
   "id": "1f87d634",
   "metadata": {},
   "outputs": [],
   "source": [
    "train_df = pd.read_csv('./fe_v2_train_076.csv')\n",
    "test_df = pd.read_csv('./fe_v2_test_076.csv')"
   ]
  },
  {
   "cell_type": "code",
   "execution_count": 3,
   "id": "311af197",
   "metadata": {},
   "outputs": [],
   "source": [
    "exclude_cols = ['index', 'startdate']\n",
    "embedding_attrs = ['climateregions__climateregion']\n",
    "target=[\"contest-tmp2m-14d__tmp2m\"]"
   ]
  },
  {
   "cell_type": "code",
   "execution_count": 4,
   "id": "43f40a58",
   "metadata": {},
   "outputs": [
    {
     "name": "stdout",
     "output_type": "stream",
     "text": [
      "Main features: 129\n"
     ]
    }
   ],
   "source": [
    "main_attrs = [c for c in train_df.columns if c not in exclude_cols and c not in target]\n",
    "print(\"Main features:\", len(main_attrs))"
   ]
  },
  {
   "cell_type": "code",
   "execution_count": 5,
   "id": "f26e95f0",
   "metadata": {},
   "outputs": [],
   "source": [
    "group_cols = ['loc_group', 'climate_type', 'year', 'season', 'month']\n",
    "season_group_cols = ['loc_group', 'climate_type', 'year', 'season']"
   ]
  },
  {
   "cell_type": "code",
   "execution_count": 6,
   "id": "5af736a3",
   "metadata": {},
   "outputs": [],
   "source": [
    "best_cols = ['contest-wind-h500-14d__wind-hgt-500',\n",
    " 'contest-slp-14d__slp',\n",
    " 'nmme-tmp2m-34w__ccsm3',\n",
    " 'elevation__elevation',\n",
    " 'lon',\n",
    " 'contest-prwtr-eatm-14d__prwtr',\n",
    " 'lat',\n",
    " 'climateregions__climateregion',\n",
    " 'contest-pres-sfc-gauss-14d__pres',\n",
    " 'season_sin',\n",
    " 'day_of_year_sin',\n",
    " 'contest-precip-14d__precip',\n",
    " 'contest-wind-uwnd-250-14d__wind-uwnd-250',\n",
    " 'nmme-prate-34w__cfsv2',\n",
    " 'nmme-prate-34w__nasa',\n",
    " 'nmme-prate-56w__gfdlflora',\n",
    " 'wind-uwnd-250-2010-7',\n",
    " 'contest-wind-vwnd-925-14d__wind-vwnd-925',\n",
    " 'nmme-prate-34w__nmmemean',\n",
    " 'nmme0-prate-34w__ccsm30',\n",
    " 'contest-wind-h850-14d__wind-hgt-850',\n",
    " 'contest-wind-uwnd-925-14d__wind-uwnd-925',\n",
    " 'nmme0-prate-56w__cfsv20',\n",
    " 'nmme-prate-34w__cancm3',\n",
    " 'contest-rhum-sig995-14d__rhum',\n",
    " 'nmme-prate-34w__gfdlflorb',\n",
    " 'wind-hgt-850-2010-4',\n",
    " 'contest-wind-vwnd-250-14d__wind-vwnd-250',\n",
    " 'wind-hgt-100-2010-2',\n",
    " 'wind-uwnd-250-2010-18',\n",
    " 'wind-hgt-10-2010-5',\n",
    " 'wind-uwnd-250-2010-15',\n",
    " 'wind-uwnd-250-2010-4',\n",
    " 'nmme0-prate-56w__nasa0',\n",
    " 'nmme0-prate-34w__cfsv20',\n",
    " 'wind-vwnd-250-2010-10',\n",
    " 'contest-wind-h10-14d__wind-hgt-10',\n",
    " 'wind-uwnd-925-2010-15',\n",
    " 'wind-vwnd-250-2010-3',\n",
    " 'nmme-prate-34w__cancm4',\n",
    " 'sst-2010-4',\n",
    " 'nmme0-prate-56w__ccsm30',\n",
    " 'wind-uwnd-250-2010-16',\n",
    " 'nmme0-prate-34w__gfdl0',\n",
    " 'nmme0-prate-56w__cancm40',\n",
    " 'sst-2010-1',\n",
    " 'sst-2010-3',\n",
    " 'wind-uwnd-250-2010-14',\n",
    " 'nmme0-prate-34w__gfdlflora0',\n",
    " 'nmme-prate-34w__gfdl',\n",
    " 'wind-hgt-850-2010-9',\n",
    " 'wind-vwnd-250-2010-1',\n",
    " 'sst-2010-5',\n",
    " 'cancm30',\n",
    " 'nmme-prate-34w__ccsm4',\n",
    " 'nmme0-prate-34w__nasa0',\n",
    " 'wind-hgt-500-2010-9',\n",
    " 'nmme0-prate-34w__cancm30',\n",
    " 'wind-vwnd-250-2010-13',\n",
    " 'wind_diff',\n",
    " 'wind_diff_min',\n",
    " 'wind_diff_min_month',\n",
    " 'wind_diff_month',\n",
    " 'diff_slp_first',\n",
    " 'diff_wind_first',\n",
    " 'diff_precip_first',\n",
    " 'diff_sst_10_first',\n",
    " 'diff_sst_10_min',\n",
    " 'diff_sst_10_max',\n",
    " 'range_sst_10',\n",
    " 'scale_sst_10',\n",
    " 'diff_sst_9_first',\n",
    " 'diff_sst_9_min',\n",
    " 'diff_sst_9_max',\n",
    " 'range_sst_9',\n",
    " 'scale_sst_9',\n",
    " 'diff_sst_8_first',\n",
    " 'diff_sst_8_min',\n",
    " 'diff_sst_8_max',\n",
    " 'range_sst_8',\n",
    " 'scale_sst_8',\n",
    " 'diff_sst_7_first',\n",
    " 'diff_sst_7_min',\n",
    " 'diff_sst_7_max',\n",
    " 'range_sst_7',\n",
    " 'scale_sst_7',\n",
    " 'diff_sst_6_first',\n",
    " 'diff_sst_6_min',\n",
    " 'diff_sst_6_max',\n",
    " 'range_sst_6',\n",
    " 'scale_sst_6',\n",
    " 'diff_sst_1_first',\n",
    " 'diff_sst_1_min',\n",
    " 'diff_sst_1_max',\n",
    " 'range_sst_1',\n",
    " 'scale_sst_1',\n",
    " 'diff_sst_2_first',\n",
    " 'diff_sst_2_min',\n",
    " 'diff_sst_2_max',\n",
    " 'range_sst_2',\n",
    " 'scale_sst_2',\n",
    " 'diff_sst_3_first',\n",
    " 'diff_sst_3_min',\n",
    " 'diff_sst_3_max',\n",
    " 'range_sst_3',\n",
    " 'scale_sst_3',\n",
    " 'diff_sst_4_first',\n",
    " 'diff_sst_4_min',\n",
    " 'diff_sst_4_max',\n",
    " 'range_sst_4',\n",
    " 'scale_sst_4',\n",
    " 'diff_sst_5_first',\n",
    " 'diff_sst_5_min',\n",
    " 'diff_sst_5_max',\n",
    " 'range_sst_5',\n",
    " 'scale_sst_5']"
   ]
  },
  {
   "cell_type": "code",
   "execution_count": 7,
   "id": "53ec3e42",
   "metadata": {},
   "outputs": [
    {
     "name": "stdout",
     "output_type": "stream",
     "text": [
      "Len: 116\n"
     ]
    }
   ],
   "source": [
    "print(\"Len:\", len(best_cols))"
   ]
  },
  {
   "cell_type": "code",
   "execution_count": 8,
   "id": "5622c8be",
   "metadata": {},
   "outputs": [],
   "source": [
    "def assign_train_test_df(df, my_col):\n",
    "    train_df[my_col] = df[:len(train_df)][my_col].tolist()\n",
    "    test_df[my_col] = df[len(train_df):][my_col].tolist()\n",
    "    return df\n",
    "\n",
    "def create_df_by_group_and_agg(dataframe, grouped_cols, action, my_col, return_name):\n",
    "    if action == \"first\":\n",
    "        ans_df = dataframe.groupby(grouped_cols)[my_col].first().reset_index()\n",
    "    elif action == \"min\":\n",
    "        ans_df = dataframe.groupby(grouped_cols)[my_col].min().reset_index()\n",
    "    elif action == \"max\":\n",
    "        ans_df = dataframe.groupby(grouped_cols)[my_col].max().reset_index()\n",
    "    elif action == \"mean\":\n",
    "        ans_df = dataframe.groupby(grouped_cols)[my_col].mean().reset_index()\n",
    "    print(\"Nan\")\n",
    "    ans_df = ans_df.rename(columns={my_col: return_name})\n",
    "    for c in ans_df.columns:\n",
    "        if ans_df[c].isnull().sum() > 0:\n",
    "            print(c, ans_df[c].isnull().sum())\n",
    "    return ans_df\n",
    "\n",
    "def create_feature(df, alias_name, col_name, suffix_num, season_group_cols):\n",
    "    first_df = create_df_by_group_and_agg(df, season_group_cols, \"first\", col_name, f\"first_{alias_name}_{suffix_num}\")\n",
    "    min_df = create_df_by_group_and_agg(df, season_group_cols, \"min\", col_name, f\"min_{alias_name}_{suffix_num}\")\n",
    "    max_df = create_df_by_group_and_agg(df, season_group_cols, \"max\", col_name, f\"max_{alias_name}_{suffix_num}\")\n",
    "    \n",
    "    df = df.merge(first_df, how='left', on=season_group_cols)\n",
    "    df[f'diff_{alias_name}_{suffix_num}_first'] = df[col_name] - df[f\"first_{alias_name}_{suffix_num}\"]\n",
    "    df = assign_train_test_df(df, f'diff_{alias_name}_{suffix_num}_first')\n",
    "    \n",
    "    df = df.merge(min_df, how='left', on=season_group_cols)\n",
    "    df[f'diff_{alias_name}_{suffix_num}_min'] = df[col_name] - df[f\"min_{alias_name}_{suffix_num}\"]\n",
    "    df = assign_train_test_df(df, f'diff_{alias_name}_{suffix_num}_min')\n",
    "    \n",
    "    df = df.merge(max_df, how='left', on=season_group_cols)\n",
    "    df[f'diff_{alias_name}_{suffix_num}_max'] = df[col_name] - df[f\"max_{alias_name}_{suffix_num}\"]\n",
    "    df = assign_train_test_df(df, f'diff_{alias_name}_{suffix_num}_max')\n",
    "    \n",
    "    df[f'range_{alias_name}_{suffix_num}'] = df[f\"max_{alias_name}_{suffix_num}\"] - df[f\"min_{alias_name}_{suffix_num}\"]\n",
    "    df = assign_train_test_df(df, f'range_{alias_name}_{suffix_num}')\n",
    "    \n",
    "    df[f'scale_{alias_name}_{suffix_num}'] = (df[col_name] - df[f\"min_{alias_name}_{suffix_num}\"]) / df[f'range_{alias_name}_{suffix_num}']\n",
    "    df = assign_train_test_df(df, f'scale_{alias_name}_{suffix_num}')\n",
    "    \n",
    "    return [df, f'diff_{alias_name}_{suffix_num}_first',\n",
    "   f'diff_{alias_name}_{suffix_num}_min',\n",
    "    f'diff_{alias_name}_{suffix_num}_max',\n",
    "    f'range_{alias_name}_{suffix_num}', f'scale_{alias_name}_{suffix_num}']"
   ]
  },
  {
   "cell_type": "code",
   "execution_count": 21,
   "id": "c28e108e",
   "metadata": {},
   "outputs": [],
   "source": [
    "slp_col = 'contest-slp-14d__slp'\n",
    "ccsm3_col = 'nmme-tmp2m-34w__ccsm3'\n",
    "pres_col = 'contest-pres-sfc-gauss-14d__pres'\n",
    "precip_col = 'contest-precip-14d__precip'\n",
    "poten_col = 'contest-pevpr-sfc-gauss-14d__pevpr'\n",
    "rhum_col = 'contest-rhum-sig995-14d__rhum'\n",
    "elevation_col = 'elevation__elevation'\n",
    "wind_col_10 = 'contest-wind-h10-14d__wind-hgt-10'\n",
    "sst_1_col = 'sst-2010-1'"
   ]
  },
  {
   "cell_type": "code",
   "execution_count": 10,
   "id": "a8f1852d",
   "metadata": {},
   "outputs": [
    {
     "data": {
      "text/plain": [
       "(407088, 129)"
      ]
     },
     "execution_count": 10,
     "metadata": {},
     "output_type": "execute_result"
    }
   ],
   "source": [
    "df = pd.concat([train_df[main_attrs], test_df[main_attrs]], axis=0)\n",
    "df.shape"
   ]
  },
  {
   "cell_type": "code",
   "execution_count": 11,
   "id": "1afddcf4",
   "metadata": {},
   "outputs": [
    {
     "name": "stdout",
     "output_type": "stream",
     "text": [
      "Nan\n",
      "Nan\n",
      "Nan\n"
     ]
    }
   ],
   "source": [
    "pres_res = create_feature(df, 'pres', pres_col, 1, season_group_cols)\n",
    "df = pres_res[0]\n",
    "pres_feature = pres_res[1:]"
   ]
  },
  {
   "cell_type": "code",
   "execution_count": 18,
   "id": "26206a1b",
   "metadata": {},
   "outputs": [
    {
     "name": "stdout",
     "output_type": "stream",
     "text": [
      "Nan\n",
      "Nan\n",
      "Nan\n"
     ]
    }
   ],
   "source": [
    "slp_res = create_feature(df, 'slp', slp_col, 1, season_group_cols)\n",
    "df = slp_res[0]\n",
    "slp_feature = slp_res[1:]"
   ]
  },
  {
   "cell_type": "code",
   "execution_count": 12,
   "id": "89b9d27b",
   "metadata": {},
   "outputs": [
    {
     "name": "stdout",
     "output_type": "stream",
     "text": [
      "Nan\n",
      "Nan\n",
      "Nan\n"
     ]
    }
   ],
   "source": [
    "precip_res = create_feature(df, 'precip', precip_col, 1, season_group_cols)\n",
    "df = precip_res[0]\n",
    "precip_feature = precip_res[1:]"
   ]
  },
  {
   "cell_type": "code",
   "execution_count": 22,
   "id": "824d5a90",
   "metadata": {},
   "outputs": [
    {
     "name": "stdout",
     "output_type": "stream",
     "text": [
      "Nan\n",
      "Nan\n",
      "Nan\n"
     ]
    }
   ],
   "source": [
    "sst_1_month_res = create_feature(df, 'sst_1_month', sst_1_col, 1, group_cols)\n",
    "df = sst_1_month_res[0]\n",
    "sst_1_month_feature = sst_1_month_res[1:]"
   ]
  },
  {
   "cell_type": "code",
   "execution_count": 13,
   "id": "cf4c2248",
   "metadata": {},
   "outputs": [
    {
     "name": "stdout",
     "output_type": "stream",
     "text": [
      "Nan\n",
      "Nan\n",
      "Nan\n"
     ]
    }
   ],
   "source": [
    "wind_10_res = create_feature(df, 'wind_10', wind_col_10, 1, season_group_cols)\n",
    "df = wind_10_res[0]\n",
    "wind_10_feature = wind_10_res[1:]"
   ]
  },
  {
   "cell_type": "code",
   "execution_count": 14,
   "id": "33cca268",
   "metadata": {},
   "outputs": [
    {
     "name": "stdout",
     "output_type": "stream",
     "text": [
      "Nan\n",
      "Nan\n",
      "Nan\n"
     ]
    }
   ],
   "source": [
    "wind_10_res_month = create_feature(df, 'wind_10_month', wind_col_10, 1, group_cols)\n",
    "df = wind_10_res_month[0]\n",
    "wind_10_month_feature = wind_10_res_month[1:]"
   ]
  },
  {
   "cell_type": "code",
   "execution_count": 15,
   "id": "98dcfad1",
   "metadata": {},
   "outputs": [],
   "source": [
    "modified_best_cols = [c for c in best_cols]"
   ]
  },
  {
   "cell_type": "code",
   "execution_count": 27,
   "id": "975a1268",
   "metadata": {},
   "outputs": [],
   "source": [
    "features = modified_best_cols + pres_feature + sst_1_month_feature"
   ]
  },
  {
   "cell_type": "code",
   "execution_count": 28,
   "id": "f97c8fd2",
   "metadata": {},
   "outputs": [
    {
     "data": {
      "text/plain": [
       "['contest-wind-h500-14d__wind-hgt-500',\n",
       " 'contest-slp-14d__slp',\n",
       " 'nmme-tmp2m-34w__ccsm3',\n",
       " 'elevation__elevation',\n",
       " 'lon',\n",
       " 'contest-prwtr-eatm-14d__prwtr',\n",
       " 'lat',\n",
       " 'climateregions__climateregion',\n",
       " 'contest-pres-sfc-gauss-14d__pres',\n",
       " 'season_sin',\n",
       " 'day_of_year_sin',\n",
       " 'contest-precip-14d__precip',\n",
       " 'contest-wind-uwnd-250-14d__wind-uwnd-250',\n",
       " 'nmme-prate-34w__cfsv2',\n",
       " 'nmme-prate-34w__nasa',\n",
       " 'nmme-prate-56w__gfdlflora',\n",
       " 'wind-uwnd-250-2010-7',\n",
       " 'contest-wind-vwnd-925-14d__wind-vwnd-925',\n",
       " 'nmme-prate-34w__nmmemean',\n",
       " 'nmme0-prate-34w__ccsm30',\n",
       " 'contest-wind-h850-14d__wind-hgt-850',\n",
       " 'contest-wind-uwnd-925-14d__wind-uwnd-925',\n",
       " 'nmme0-prate-56w__cfsv20',\n",
       " 'nmme-prate-34w__cancm3',\n",
       " 'contest-rhum-sig995-14d__rhum',\n",
       " 'nmme-prate-34w__gfdlflorb',\n",
       " 'wind-hgt-850-2010-4',\n",
       " 'contest-wind-vwnd-250-14d__wind-vwnd-250',\n",
       " 'wind-hgt-100-2010-2',\n",
       " 'wind-uwnd-250-2010-18',\n",
       " 'wind-hgt-10-2010-5',\n",
       " 'wind-uwnd-250-2010-15',\n",
       " 'wind-uwnd-250-2010-4',\n",
       " 'nmme0-prate-56w__nasa0',\n",
       " 'nmme0-prate-34w__cfsv20',\n",
       " 'wind-vwnd-250-2010-10',\n",
       " 'contest-wind-h10-14d__wind-hgt-10',\n",
       " 'wind-uwnd-925-2010-15',\n",
       " 'wind-vwnd-250-2010-3',\n",
       " 'nmme-prate-34w__cancm4',\n",
       " 'sst-2010-4',\n",
       " 'nmme0-prate-56w__ccsm30',\n",
       " 'wind-uwnd-250-2010-16',\n",
       " 'nmme0-prate-34w__gfdl0',\n",
       " 'nmme0-prate-56w__cancm40',\n",
       " 'sst-2010-1',\n",
       " 'sst-2010-3',\n",
       " 'wind-uwnd-250-2010-14',\n",
       " 'nmme0-prate-34w__gfdlflora0',\n",
       " 'nmme-prate-34w__gfdl',\n",
       " 'wind-hgt-850-2010-9',\n",
       " 'wind-vwnd-250-2010-1',\n",
       " 'sst-2010-5',\n",
       " 'cancm30',\n",
       " 'nmme-prate-34w__ccsm4',\n",
       " 'nmme0-prate-34w__nasa0',\n",
       " 'wind-hgt-500-2010-9',\n",
       " 'nmme0-prate-34w__cancm30',\n",
       " 'wind-vwnd-250-2010-13',\n",
       " 'wind_diff',\n",
       " 'wind_diff_min',\n",
       " 'wind_diff_min_month',\n",
       " 'wind_diff_month',\n",
       " 'diff_slp_first',\n",
       " 'diff_wind_first',\n",
       " 'diff_precip_first',\n",
       " 'diff_sst_10_first',\n",
       " 'diff_sst_10_min',\n",
       " 'diff_sst_10_max',\n",
       " 'range_sst_10',\n",
       " 'scale_sst_10',\n",
       " 'diff_sst_9_first',\n",
       " 'diff_sst_9_min',\n",
       " 'diff_sst_9_max',\n",
       " 'range_sst_9',\n",
       " 'scale_sst_9',\n",
       " 'diff_sst_8_first',\n",
       " 'diff_sst_8_min',\n",
       " 'diff_sst_8_max',\n",
       " 'range_sst_8',\n",
       " 'scale_sst_8',\n",
       " 'diff_sst_7_first',\n",
       " 'diff_sst_7_min',\n",
       " 'diff_sst_7_max',\n",
       " 'range_sst_7',\n",
       " 'scale_sst_7',\n",
       " 'diff_sst_6_first',\n",
       " 'diff_sst_6_min',\n",
       " 'diff_sst_6_max',\n",
       " 'range_sst_6',\n",
       " 'scale_sst_6',\n",
       " 'diff_sst_1_first',\n",
       " 'diff_sst_1_min',\n",
       " 'diff_sst_1_max',\n",
       " 'range_sst_1',\n",
       " 'scale_sst_1',\n",
       " 'diff_sst_2_first',\n",
       " 'diff_sst_2_min',\n",
       " 'diff_sst_2_max',\n",
       " 'range_sst_2',\n",
       " 'scale_sst_2',\n",
       " 'diff_sst_3_first',\n",
       " 'diff_sst_3_min',\n",
       " 'diff_sst_3_max',\n",
       " 'range_sst_3',\n",
       " 'scale_sst_3',\n",
       " 'diff_sst_4_first',\n",
       " 'diff_sst_4_min',\n",
       " 'diff_sst_4_max',\n",
       " 'range_sst_4',\n",
       " 'scale_sst_4',\n",
       " 'diff_sst_5_first',\n",
       " 'diff_sst_5_min',\n",
       " 'diff_sst_5_max',\n",
       " 'range_sst_5',\n",
       " 'scale_sst_5',\n",
       " 'diff_pres_1_first',\n",
       " 'diff_pres_1_min',\n",
       " 'diff_pres_1_max',\n",
       " 'range_pres_1',\n",
       " 'scale_pres_1',\n",
       " 'diff_sst_1_month_1_first',\n",
       " 'diff_sst_1_month_1_min',\n",
       " 'diff_sst_1_month_1_max',\n",
       " 'range_sst_1_month_1',\n",
       " 'scale_sst_1_month_1']"
      ]
     },
     "execution_count": 28,
     "metadata": {},
     "output_type": "execute_result"
    }
   ],
   "source": [
    "features"
   ]
  },
  {
   "cell_type": "code",
   "execution_count": 29,
   "id": "54ae112e",
   "metadata": {},
   "outputs": [
    {
     "name": "stderr",
     "output_type": "stream",
     "text": [
      "5it [00:01,  3.71it/s]\n"
     ]
    },
    {
     "name": "stdout",
     "output_type": "stream",
     "text": [
      "(375734, 126) (375734,)\n"
     ]
    },
    {
     "name": "stderr",
     "output_type": "stream",
     "text": [
      "\r",
      "  0%|                                                                                                | 0/5 [00:00<?, ?it/s]"
     ]
    },
    {
     "name": "stdout",
     "output_type": "stream",
     "text": [
      "Learning rate set to 0.072699\n",
      "0:\tlearn: 9.2611105\ttest: 9.2407165\tbest: 9.2407165 (0)\ttotal: 7.29ms\tremaining: 36.4s\n",
      "200:\tlearn: 1.1772832\ttest: 1.1835740\tbest: 1.1835740 (200)\ttotal: 1.13s\tremaining: 26.9s\n",
      "400:\tlearn: 0.9140162\ttest: 0.9234808\tbest: 0.9234808 (400)\ttotal: 2.13s\tremaining: 24.4s\n",
      "600:\tlearn: 0.7870317\ttest: 0.7990677\tbest: 0.7990677 (600)\ttotal: 3.16s\tremaining: 23.1s\n",
      "800:\tlearn: 0.7026516\ttest: 0.7162924\tbest: 0.7162924 (800)\ttotal: 4.23s\tremaining: 22.2s\n",
      "1000:\tlearn: 0.6442753\ttest: 0.6593547\tbest: 0.6593547 (1000)\ttotal: 5.25s\tremaining: 21s\n",
      "1200:\tlearn: 0.5989021\ttest: 0.6151854\tbest: 0.6151854 (1200)\ttotal: 6.24s\tremaining: 19.7s\n",
      "1400:\tlearn: 0.5640462\ttest: 0.5815525\tbest: 0.5815525 (1400)\ttotal: 7.25s\tremaining: 18.6s\n",
      "1600:\tlearn: 0.5325581\ttest: 0.5510269\tbest: 0.5510269 (1600)\ttotal: 8.22s\tremaining: 17.5s\n",
      "1800:\tlearn: 0.5074423\ttest: 0.5269623\tbest: 0.5269623 (1800)\ttotal: 9.3s\tremaining: 16.5s\n",
      "2000:\tlearn: 0.4864530\ttest: 0.5069317\tbest: 0.5069317 (2000)\ttotal: 10.3s\tremaining: 15.4s\n",
      "2200:\tlearn: 0.4669511\ttest: 0.4880687\tbest: 0.4880687 (2200)\ttotal: 11.3s\tremaining: 14.4s\n",
      "2400:\tlearn: 0.4503813\ttest: 0.4722580\tbest: 0.4722580 (2400)\ttotal: 12.3s\tremaining: 13.3s\n",
      "2600:\tlearn: 0.4347773\ttest: 0.4575046\tbest: 0.4575046 (2600)\ttotal: 13.3s\tremaining: 12.3s\n",
      "2800:\tlearn: 0.4209562\ttest: 0.4445900\tbest: 0.4445900 (2800)\ttotal: 14.3s\tremaining: 11.2s\n",
      "3000:\tlearn: 0.4085615\ttest: 0.4327409\tbest: 0.4327409 (3000)\ttotal: 15.3s\tremaining: 10.2s\n",
      "3200:\tlearn: 0.3972375\ttest: 0.4218860\tbest: 0.4218860 (3200)\ttotal: 16.3s\tremaining: 9.16s\n",
      "3400:\tlearn: 0.3860415\ttest: 0.4112350\tbest: 0.4112350 (3400)\ttotal: 17.3s\tremaining: 8.12s\n",
      "3600:\tlearn: 0.3766115\ttest: 0.4024545\tbest: 0.4024545 (3600)\ttotal: 18.3s\tremaining: 7.1s\n",
      "3800:\tlearn: 0.3677363\ttest: 0.3940793\tbest: 0.3940793 (3800)\ttotal: 19.3s\tremaining: 6.08s\n",
      "4000:\tlearn: 0.3593394\ttest: 0.3863335\tbest: 0.3863335 (4000)\ttotal: 20.3s\tremaining: 5.07s\n",
      "4200:\tlearn: 0.3518415\ttest: 0.3793741\tbest: 0.3793741 (4200)\ttotal: 21.2s\tremaining: 4.04s\n",
      "4400:\tlearn: 0.3439938\ttest: 0.3720226\tbest: 0.3720226 (4400)\ttotal: 22.2s\tremaining: 3.03s\n",
      "4600:\tlearn: 0.3372837\ttest: 0.3657238\tbest: 0.3657238 (4600)\ttotal: 23.2s\tremaining: 2.01s\n",
      "4800:\tlearn: 0.3307611\ttest: 0.3597379\tbest: 0.3597379 (4800)\ttotal: 24.2s\tremaining: 1s\n",
      "4999:\tlearn: 0.3242597\ttest: 0.3537617\tbest: 0.3537617 (4999)\ttotal: 25.2s\tremaining: 0us\n",
      "bestTest = 0.3537616647\n",
      "bestIteration = 4999\n"
     ]
    },
    {
     "name": "stderr",
     "output_type": "stream",
     "text": [
      "\r",
      " 20%|█████████████████▌                                                                      | 1/5 [00:37<02:30, 37.54s/it]"
     ]
    },
    {
     "name": "stdout",
     "output_type": "stream",
     "text": [
      "Learning rate set to 0.072699\n",
      "0:\tlearn: 9.2537635\ttest: 9.2717026\tbest: 9.2717026 (0)\ttotal: 6.01ms\tremaining: 30.1s\n",
      "200:\tlearn: 1.1795230\ttest: 1.1802899\tbest: 1.1802899 (200)\ttotal: 1.08s\tremaining: 25.9s\n",
      "400:\tlearn: 0.9199696\ttest: 0.9224814\tbest: 0.9224814 (400)\ttotal: 2.08s\tremaining: 23.9s\n",
      "600:\tlearn: 0.7826788\ttest: 0.7889153\tbest: 0.7889153 (600)\ttotal: 3.13s\tremaining: 22.9s\n",
      "800:\tlearn: 0.6978244\ttest: 0.7069210\tbest: 0.7069210 (800)\ttotal: 4.14s\tremaining: 21.7s\n",
      "1000:\tlearn: 0.6389052\ttest: 0.6501019\tbest: 0.6501019 (1000)\ttotal: 5.15s\tremaining: 20.6s\n",
      "1200:\tlearn: 0.5950863\ttest: 0.6075007\tbest: 0.6075007 (1200)\ttotal: 6.19s\tremaining: 19.6s\n",
      "1400:\tlearn: 0.5594475\ttest: 0.5733322\tbest: 0.5733322 (1400)\ttotal: 7.21s\tremaining: 18.5s\n",
      "1600:\tlearn: 0.5304798\ttest: 0.5459389\tbest: 0.5459389 (1600)\ttotal: 8.23s\tremaining: 17.5s\n",
      "1800:\tlearn: 0.5049312\ttest: 0.5216348\tbest: 0.5216348 (1800)\ttotal: 9.21s\tremaining: 16.4s\n",
      "2000:\tlearn: 0.4836355\ttest: 0.5014150\tbest: 0.5014150 (2000)\ttotal: 10.2s\tremaining: 15.3s\n",
      "2200:\tlearn: 0.4650661\ttest: 0.4838063\tbest: 0.4838063 (2200)\ttotal: 11.2s\tremaining: 14.2s\n",
      "2400:\tlearn: 0.4481141\ttest: 0.4677915\tbest: 0.4677915 (2400)\ttotal: 12.2s\tremaining: 13.2s\n",
      "2600:\tlearn: 0.4331188\ttest: 0.4535179\tbest: 0.4535179 (2600)\ttotal: 13.1s\tremaining: 12.1s\n",
      "2800:\tlearn: 0.4193713\ttest: 0.4406164\tbest: 0.4406164 (2800)\ttotal: 14.1s\tremaining: 11.1s\n",
      "3000:\tlearn: 0.4067022\ttest: 0.4286904\tbest: 0.4286904 (3000)\ttotal: 15.1s\tremaining: 10.1s\n",
      "3200:\tlearn: 0.3956082\ttest: 0.4183478\tbest: 0.4183478 (3200)\ttotal: 16.1s\tremaining: 9.06s\n",
      "3400:\tlearn: 0.3854007\ttest: 0.4088576\tbest: 0.4088576 (3400)\ttotal: 17.1s\tremaining: 8.04s\n",
      "3600:\tlearn: 0.3754092\ttest: 0.3995877\tbest: 0.3995877 (3600)\ttotal: 18.2s\tremaining: 7.06s\n",
      "3800:\tlearn: 0.3663236\ttest: 0.3911151\tbest: 0.3911151 (3800)\ttotal: 19.1s\tremaining: 6.04s\n",
      "4000:\tlearn: 0.3576327\ttest: 0.3829890\tbest: 0.3829890 (4000)\ttotal: 20.1s\tremaining: 5.03s\n",
      "4200:\tlearn: 0.3499670\ttest: 0.3757387\tbest: 0.3757387 (4200)\ttotal: 21.2s\tremaining: 4.03s\n",
      "4400:\tlearn: 0.3427838\ttest: 0.3690186\tbest: 0.3690186 (4400)\ttotal: 22.2s\tremaining: 3.02s\n",
      "4600:\tlearn: 0.3359211\ttest: 0.3627050\tbest: 0.3627050 (4600)\ttotal: 23.2s\tremaining: 2.01s\n",
      "4800:\tlearn: 0.3296339\ttest: 0.3568837\tbest: 0.3568837 (4800)\ttotal: 24.3s\tremaining: 1s\n",
      "4999:\tlearn: 0.3230993\ttest: 0.3508469\tbest: 0.3508469 (4999)\ttotal: 25.3s\tremaining: 0us\n",
      "bestTest = 0.3508468916\n",
      "bestIteration = 4999\n"
     ]
    },
    {
     "name": "stderr",
     "output_type": "stream",
     "text": [
      "\r",
      " 40%|███████████████████████████████████▏                                                    | 2/5 [01:15<01:53, 37.74s/it]"
     ]
    },
    {
     "name": "stdout",
     "output_type": "stream",
     "text": [
      "Learning rate set to 0.072699\n",
      "0:\tlearn: 9.2531718\ttest: 9.2855747\tbest: 9.2855747 (0)\ttotal: 6.05ms\tremaining: 30.3s\n",
      "200:\tlearn: 1.1750099\ttest: 1.1779229\tbest: 1.1779229 (200)\ttotal: 1.03s\tremaining: 24.7s\n",
      "400:\tlearn: 0.9146988\ttest: 0.9223460\tbest: 0.9223460 (400)\ttotal: 2.02s\tremaining: 23.2s\n",
      "600:\tlearn: 0.7806012\ttest: 0.7922988\tbest: 0.7922988 (600)\ttotal: 3.05s\tremaining: 22.3s\n",
      "800:\tlearn: 0.6979569\ttest: 0.7123120\tbest: 0.7123120 (800)\ttotal: 4.07s\tremaining: 21.3s\n",
      "1000:\tlearn: 0.6419787\ttest: 0.6576713\tbest: 0.6576713 (1000)\ttotal: 5.1s\tremaining: 20.4s\n",
      "1200:\tlearn: 0.5966174\ttest: 0.6132646\tbest: 0.6132646 (1200)\ttotal: 6.1s\tremaining: 19.3s\n",
      "1400:\tlearn: 0.5600397\ttest: 0.5774998\tbest: 0.5774998 (1400)\ttotal: 7.11s\tremaining: 18.3s\n",
      "1600:\tlearn: 0.5313437\ttest: 0.5497407\tbest: 0.5497407 (1600)\ttotal: 8.1s\tremaining: 17.2s\n",
      "1800:\tlearn: 0.5068917\ttest: 0.5261367\tbest: 0.5261367 (1800)\ttotal: 9.16s\tremaining: 16.3s\n",
      "2000:\tlearn: 0.4849600\ttest: 0.5048719\tbest: 0.5048719 (2000)\ttotal: 10.3s\tremaining: 15.4s\n",
      "2200:\tlearn: 0.4665734\ttest: 0.4871922\tbest: 0.4871922 (2200)\ttotal: 11.3s\tremaining: 14.4s\n",
      "2400:\tlearn: 0.4499096\ttest: 0.4711360\tbest: 0.4711360 (2400)\ttotal: 12.3s\tremaining: 13.3s\n",
      "2600:\tlearn: 0.4343988\ttest: 0.4562672\tbest: 0.4562672 (2600)\ttotal: 13.3s\tremaining: 12.3s\n",
      "2800:\tlearn: 0.4204180\ttest: 0.4426819\tbest: 0.4426819 (2800)\ttotal: 14.3s\tremaining: 11.2s\n",
      "3000:\tlearn: 0.4084197\ttest: 0.4312929\tbest: 0.4312929 (3000)\ttotal: 15.3s\tremaining: 10.2s\n",
      "3200:\tlearn: 0.3970680\ttest: 0.4205322\tbest: 0.4205322 (3200)\ttotal: 16.3s\tremaining: 9.17s\n",
      "3400:\tlearn: 0.3864822\ttest: 0.4105858\tbest: 0.4105858 (3400)\ttotal: 17.3s\tremaining: 8.14s\n",
      "3600:\tlearn: 0.3767233\ttest: 0.4015100\tbest: 0.4015100 (3600)\ttotal: 18.3s\tremaining: 7.12s\n",
      "3800:\tlearn: 0.3678532\ttest: 0.3931173\tbest: 0.3931173 (3800)\ttotal: 19.3s\tremaining: 6.08s\n",
      "4000:\tlearn: 0.3593095\ttest: 0.3850372\tbest: 0.3850372 (4000)\ttotal: 20.3s\tremaining: 5.07s\n",
      "4200:\tlearn: 0.3514349\ttest: 0.3776461\tbest: 0.3776461 (4200)\ttotal: 21.3s\tremaining: 4.04s\n",
      "4400:\tlearn: 0.3440971\ttest: 0.3706865\tbest: 0.3706865 (4400)\ttotal: 22.3s\tremaining: 3.03s\n",
      "4600:\tlearn: 0.3370740\ttest: 0.3641629\tbest: 0.3641629 (4600)\ttotal: 23.3s\tremaining: 2.02s\n",
      "4800:\tlearn: 0.3306242\ttest: 0.3581722\tbest: 0.3581722 (4800)\ttotal: 24.3s\tremaining: 1.01s\n",
      "4999:\tlearn: 0.3243885\ttest: 0.3522881\tbest: 0.3522881 (4999)\ttotal: 25.3s\tremaining: 0us\n",
      "bestTest = 0.3522881387\n",
      "bestIteration = 4999\n"
     ]
    },
    {
     "name": "stderr",
     "output_type": "stream",
     "text": [
      "\r",
      " 60%|████████████████████████████████████████████████████▊                                   | 3/5 [01:53<01:15, 37.90s/it]"
     ]
    },
    {
     "name": "stdout",
     "output_type": "stream",
     "text": [
      "Learning rate set to 0.072699\n",
      "0:\tlearn: 9.2604847\ttest: 9.2566518\tbest: 9.2566518 (0)\ttotal: 5.96ms\tremaining: 29.8s\n",
      "200:\tlearn: 1.1609247\ttest: 1.1761170\tbest: 1.1761170 (200)\ttotal: 1.08s\tremaining: 25.9s\n",
      "400:\tlearn: 0.9128861\ttest: 0.9284839\tbest: 0.9284839 (400)\ttotal: 2.17s\tremaining: 24.9s\n",
      "600:\tlearn: 0.7833182\ttest: 0.7991784\tbest: 0.7991784 (600)\ttotal: 3.25s\tremaining: 23.8s\n",
      "800:\tlearn: 0.7010969\ttest: 0.7173244\tbest: 0.7173244 (800)\ttotal: 4.23s\tremaining: 22.2s\n",
      "1000:\tlearn: 0.6425653\ttest: 0.6593631\tbest: 0.6593631 (1000)\ttotal: 5.26s\tremaining: 21s\n",
      "1200:\tlearn: 0.5982812\ttest: 0.6158765\tbest: 0.6158765 (1200)\ttotal: 6.21s\tremaining: 19.6s\n",
      "1400:\tlearn: 0.5623325\ttest: 0.5808163\tbest: 0.5808163 (1400)\ttotal: 7.25s\tremaining: 18.6s\n",
      "1600:\tlearn: 0.5324432\ttest: 0.5520789\tbest: 0.5520789 (1600)\ttotal: 8.25s\tremaining: 17.5s\n",
      "1800:\tlearn: 0.5081601\ttest: 0.5286396\tbest: 0.5286396 (1800)\ttotal: 9.28s\tremaining: 16.5s\n",
      "2000:\tlearn: 0.4859665\ttest: 0.5072204\tbest: 0.5072204 (2000)\ttotal: 10.3s\tremaining: 15.4s\n",
      "2200:\tlearn: 0.4665004\ttest: 0.4886601\tbest: 0.4886601 (2200)\ttotal: 11.3s\tremaining: 14.4s\n",
      "2400:\tlearn: 0.4502176\ttest: 0.4731094\tbest: 0.4731094 (2400)\ttotal: 12.3s\tremaining: 13.3s\n",
      "2600:\tlearn: 0.4341474\ttest: 0.4577251\tbest: 0.4577251 (2600)\ttotal: 13.3s\tremaining: 12.3s\n",
      "2800:\tlearn: 0.4198554\ttest: 0.4439529\tbest: 0.4439529 (2800)\ttotal: 14.3s\tremaining: 11.2s\n",
      "3000:\tlearn: 0.4072762\ttest: 0.4321536\tbest: 0.4321536 (3000)\ttotal: 15.4s\tremaining: 10.2s\n",
      "3200:\tlearn: 0.3963135\ttest: 0.4217887\tbest: 0.4217887 (3200)\ttotal: 16.3s\tremaining: 9.18s\n",
      "3400:\tlearn: 0.3863259\ttest: 0.4123788\tbest: 0.4123788 (3400)\ttotal: 17.4s\tremaining: 8.19s\n",
      "3600:\tlearn: 0.3765953\ttest: 0.4032477\tbest: 0.4032477 (3600)\ttotal: 18.4s\tremaining: 7.14s\n",
      "3800:\tlearn: 0.3677780\ttest: 0.3947371\tbest: 0.3947371 (3800)\ttotal: 19.4s\tremaining: 6.12s\n",
      "4000:\tlearn: 0.3591453\ttest: 0.3866234\tbest: 0.3866234 (4000)\ttotal: 20.4s\tremaining: 5.1s\n",
      "4200:\tlearn: 0.3513324\ttest: 0.3792567\tbest: 0.3792567 (4200)\ttotal: 21.4s\tremaining: 4.07s\n",
      "4400:\tlearn: 0.3439698\ttest: 0.3723409\tbest: 0.3723409 (4400)\ttotal: 22.4s\tremaining: 3.05s\n",
      "4600:\tlearn: 0.3369728\ttest: 0.3658092\tbest: 0.3658092 (4600)\ttotal: 23.4s\tremaining: 2.03s\n",
      "4800:\tlearn: 0.3299363\ttest: 0.3591869\tbest: 0.3591869 (4800)\ttotal: 24.5s\tremaining: 1.01s\n",
      "4999:\tlearn: 0.3238003\ttest: 0.3535620\tbest: 0.3535620 (4999)\ttotal: 25.5s\tremaining: 0us\n",
      "bestTest = 0.3535619915\n",
      "bestIteration = 4999\n"
     ]
    },
    {
     "name": "stderr",
     "output_type": "stream",
     "text": [
      "\r",
      " 80%|██████████████████████████████████████████████████████████████████████▍                 | 4/5 [02:31<00:37, 37.96s/it]"
     ]
    },
    {
     "name": "stdout",
     "output_type": "stream",
     "text": [
      "Learning rate set to 0.072699\n",
      "0:\tlearn: 9.2625918\ttest: 9.2370575\tbest: 9.2370575 (0)\ttotal: 6.68ms\tremaining: 33.4s\n",
      "200:\tlearn: 1.1720694\ttest: 1.1769349\tbest: 1.1769349 (200)\ttotal: 1.03s\tremaining: 24.5s\n",
      "400:\tlearn: 0.9157651\ttest: 0.9234170\tbest: 0.9234170 (400)\ttotal: 2s\tremaining: 23s\n",
      "600:\tlearn: 0.7887940\ttest: 0.7978129\tbest: 0.7978129 (600)\ttotal: 2.98s\tremaining: 21.8s\n",
      "800:\tlearn: 0.7052048\ttest: 0.7156928\tbest: 0.7156928 (800)\ttotal: 3.97s\tremaining: 20.8s\n",
      "1000:\tlearn: 0.6446204\ttest: 0.6564607\tbest: 0.6564607 (1000)\ttotal: 4.93s\tremaining: 19.7s\n",
      "1200:\tlearn: 0.5979105\ttest: 0.6110703\tbest: 0.6110703 (1200)\ttotal: 5.96s\tremaining: 18.8s\n",
      "1400:\tlearn: 0.5620670\ttest: 0.5765016\tbest: 0.5765016 (1400)\ttotal: 7.02s\tremaining: 18s\n",
      "1600:\tlearn: 0.5320831\ttest: 0.5479938\tbest: 0.5479938 (1600)\ttotal: 8.05s\tremaining: 17.1s\n",
      "1800:\tlearn: 0.5076898\ttest: 0.5245161\tbest: 0.5245161 (1800)\ttotal: 9.08s\tremaining: 16.1s\n",
      "2000:\tlearn: 0.4849542\ttest: 0.5027704\tbest: 0.5027704 (2000)\ttotal: 10.1s\tremaining: 15.1s\n",
      "2200:\tlearn: 0.4650030\ttest: 0.4838640\tbest: 0.4838640 (2200)\ttotal: 11s\tremaining: 14s\n",
      "2400:\tlearn: 0.4484150\ttest: 0.4681768\tbest: 0.4681768 (2400)\ttotal: 12s\tremaining: 13s\n",
      "2600:\tlearn: 0.4331186\ttest: 0.4537060\tbest: 0.4537060 (2600)\ttotal: 12.9s\tremaining: 11.9s\n",
      "2800:\tlearn: 0.4192453\ttest: 0.4405334\tbest: 0.4405334 (2800)\ttotal: 14s\tremaining: 11s\n",
      "3000:\tlearn: 0.4068826\ttest: 0.4288629\tbest: 0.4288629 (3000)\ttotal: 15s\tremaining: 9.96s\n",
      "3200:\tlearn: 0.3956075\ttest: 0.4182279\tbest: 0.4182279 (3200)\ttotal: 16s\tremaining: 8.97s\n",
      "3400:\tlearn: 0.3851199\ttest: 0.4084329\tbest: 0.4084329 (3400)\ttotal: 17s\tremaining: 7.97s\n",
      "3600:\tlearn: 0.3756682\ttest: 0.3995998\tbest: 0.3995998 (3600)\ttotal: 17.9s\tremaining: 6.96s\n",
      "3800:\tlearn: 0.3664266\ttest: 0.3909606\tbest: 0.3909606 (3800)\ttotal: 18.9s\tremaining: 5.97s\n",
      "4000:\tlearn: 0.3582883\ttest: 0.3835876\tbest: 0.3835876 (4000)\ttotal: 19.9s\tremaining: 4.97s\n",
      "4200:\tlearn: 0.3505176\ttest: 0.3764627\tbest: 0.3764627 (4200)\ttotal: 20.9s\tremaining: 3.98s\n",
      "4400:\tlearn: 0.3430396\ttest: 0.3695636\tbest: 0.3695636 (4400)\ttotal: 21.9s\tremaining: 2.98s\n",
      "4600:\tlearn: 0.3362097\ttest: 0.3632268\tbest: 0.3632268 (4600)\ttotal: 22.9s\tremaining: 1.99s\n",
      "4800:\tlearn: 0.3295459\ttest: 0.3571717\tbest: 0.3571717 (4800)\ttotal: 24s\tremaining: 994ms\n",
      "4999:\tlearn: 0.3234788\ttest: 0.3515760\tbest: 0.3515760 (4999)\ttotal: 25s\tremaining: 0us\n",
      "bestTest = 0.3515760359\n",
      "bestIteration = 4999\n"
     ]
    },
    {
     "name": "stderr",
     "output_type": "stream",
     "text": [
      "100%|████████████████████████████████████████████████████████████████████████████████████████| 5/5 [03:09<00:00, 37.85s/it]\n",
      "100%|████████████████████████████████████████████████████████████████████████████████████████| 5/5 [00:00<00:00, 18.06it/s]\n"
     ]
    },
    {
     "name": "stdout",
     "output_type": "stream",
     "text": [
      "cos_sim with best submission: 0.9999544848739318\n"
     ]
    }
   ],
   "source": [
    "X = train_df[features].values\n",
    "y = train_df[target[0]].values\n",
    "\n",
    "skf = KFold(n_splits=5, random_state=2048, shuffle=True)\n",
    "skf.get_n_splits(X, y)\n",
    "\n",
    "train_index_list = []\n",
    "test_index_list = []\n",
    "train_x_list = []\n",
    "val_x_list = []\n",
    "train_y_list = []\n",
    "val_y_list = []\n",
    "\n",
    "for i, (train_index, test_index) in tqdm(enumerate(skf.split(X, y))):\n",
    "    train_index_list.append(train_index)\n",
    "    test_index_list.append(test_index)\n",
    "\n",
    "    train_x_list.append(X[train_index, :])\n",
    "    val_x_list.append(X[test_index, :])\n",
    "    train_y_list.append(y[train_index])\n",
    "    val_y_list.append(y[test_index])    \n",
    "def train_catboost(x, y):\n",
    "    print(x.shape, y.shape)\n",
    "    \n",
    "    cat_models = []\n",
    "    for i in tqdm(range(5)):\n",
    "        train_x, val_x = train_x_list[i], val_x_list[i]\n",
    "        train_y, val_y = train_y_list[i], val_y_list[i]\n",
    "        clf = CatBoostRegressor(iterations=5000, verbose=200, task_type=\"GPU\",\n",
    "                           devices='0:1')\n",
    "        clf.fit(train_x, train_y, eval_set=[(val_x, val_y)], verbose=200, early_stopping_rounds=100)\n",
    "        cat_models.append(clf)\n",
    "    \n",
    "    return cat_models\n",
    "cat_models = train_catboost(X, y)\n",
    "\n",
    "preds = []\n",
    "for cat_model in tqdm(cat_models):\n",
    "    preds.append(cat_model.predict(test_df[features].values))\n",
    "s = 0\n",
    "for pred in preds:\n",
    "    s += pred\n",
    "s = s/5\n",
    "res_df = pd.read_csv('./sample_solution.csv')\n",
    "res_df['contest-tmp2m-14d__tmp2m'] = s\n",
    "res_df.to_csv('submission_fe_v6.csv', index=False)\n",
    "\n",
    "best_df = pd.read_csv('best_sub.csv')\n",
    "y_best = best_df[target[0]].values\n",
    "\n",
    "from numpy import dot\n",
    "from numpy.linalg import norm\n",
    "\n",
    "cos_sim = dot(y_best, s)/(norm(y_best)*norm(s))\n",
    "print(\"cos_sim with best submission:\", cos_sim)"
   ]
  }
 ],
 "metadata": {
  "kernelspec": {
   "display_name": "wids-env",
   "language": "python",
   "name": "wids-env"
  },
  "language_info": {
   "codemirror_mode": {
    "name": "ipython",
    "version": 3
   },
   "file_extension": ".py",
   "mimetype": "text/x-python",
   "name": "python",
   "nbconvert_exporter": "python",
   "pygments_lexer": "ipython3",
   "version": "3.7.15"
  }
 },
 "nbformat": 4,
 "nbformat_minor": 5
}
