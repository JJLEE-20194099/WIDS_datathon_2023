{
 "cells": [
  {
   "cell_type": "code",
   "execution_count": 2,
   "id": "de940b72",
   "metadata": {},
   "outputs": [],
   "source": [
    "import numpy as np\n",
    "import pandas as pd\n",
    "import seaborn as sns\n",
    "import torch\n",
    "import torch.nn as nn\n",
    "import torch.nn.functional as f\n",
    "pd.set_option('display.max_columns', None)\n",
    "import matplotlib.pyplot as plt\n",
    "from sklearn.model_selection import train_test_split\n",
    "from torch.utils.data import DataLoader\n",
    "from sklearn import preprocessing\n",
    "from tqdm import tqdm\n",
    "from sklearn.preprocessing import FunctionTransformer\n",
    "import seaborn as sns \n",
    "from scipy import stats\n",
    "import statsmodels.api as sm\n",
    "\n",
    "from sklearn.ensemble import RandomForestRegressor, ExtraTreesRegressor, AdaBoostRegressor, BaggingRegressor, GradientBoostingRegressor\n",
    "from sklearn.tree import DecisionTreeRegressor\n",
    "from sklearn.linear_model import ElasticNet, Lasso\n",
    "from sklearn.feature_selection import SelectFromModel\n",
    "from sklearn.svm import SVR\n",
    "from sklearn.model_selection import KFold, cross_val_score\n",
    "from sklearn.pipeline import make_pipeline\n",
    "from sklearn.decomposition import PCA\n",
    "from sklearn.preprocessing import RobustScaler\n",
    "import h2o\n",
    "from h2o.automl import H2OAutoML\n",
    "from sklearn.base import BaseEstimator, TransformerMixin, RegressorMixin, clone\n",
    "from sklearn.neural_network import MLPRegressor\n",
    "from scipy.stats import norm\n",
    "import copy\n",
    "from sklearn.model_selection import KFold\n",
    "from catboost import CatBoostRegressor, Pool, metrics, cv\n",
    "import xgboost as xgb\n",
    "from scipy.stats import gmean\n",
    "from sklearn.impute import KNNImputer\n",
    "from sklearn.metrics import mean_squared_error\n",
    "from sklearn.preprocessing import LabelEncoder\n"
   ]
  },
  {
   "cell_type": "code",
   "execution_count": 3,
   "id": "d70dc8e7",
   "metadata": {},
   "outputs": [],
   "source": [
    "train_df = pd.read_csv('./new_train.csv', parse_dates=[\"startdate\"])\n",
    "test_df = pd.read_csv('./new_test.csv', parse_dates=[\"startdate\"])"
   ]
  },
  {
   "cell_type": "code",
   "execution_count": 4,
   "id": "52211dbb",
   "metadata": {},
   "outputs": [
    {
     "name": "stdout",
     "output_type": "stream",
     "text": [
      "Main features: 240\n"
     ]
    }
   ],
   "source": [
    "exclude_cols = ['index', 'startdate']\n",
    "temporal_attrs = ['year', 'month', 'day_of_year', 'season', 'day_of_year_sin', 'day_of_year_cos','month_sin', 'month_cos', 'season_sin', 'season_cos']\n",
    "loc_attrs = ['lat', 'lon', 'loc_group']\n",
    "embedding_attrs = ['climateregions__climateregion']\n",
    "target=[\"contest-tmp2m-14d__tmp2m\"]\n",
    "main_attrs = [c for c in train_df.columns if c not in exclude_cols and c not in temporal_attrs and c not in loc_attrs and c not in target and c not in embedding_attrs]\n",
    "print(\"Main features:\", len(main_attrs))"
   ]
  },
  {
   "cell_type": "code",
   "execution_count": 17,
   "id": "0cfa502e",
   "metadata": {},
   "outputs": [],
   "source": [
    "best_cols = ['contest-wind-h500-14d__wind-hgt-500', 'contest-slp-14d__slp',\n",
    "       'nmme-tmp2m-34w__ccsm3', 'elevation__elevation', 'lon',\n",
    "       'contest-prwtr-eatm-14d__prwtr', 'lat', 'climateregions__climateregion',\n",
    "       'contest-pres-sfc-gauss-14d__pres', 'season_sin', 'day_of_year_sin',\n",
    "       'contest-precip-14d__precip',\n",
    "       'contest-wind-uwnd-250-14d__wind-uwnd-250', 'nmme-prate-34w__cfsv2',\n",
    "       'nmme-prate-34w__nasa', 'nmme-prate-56w__gfdlflora',\n",
    "       'wind-uwnd-250-2010-7', 'contest-wind-vwnd-925-14d__wind-vwnd-925',\n",
    "       'nmme-prate-34w__nmmemean', 'nmme0-prate-34w__ccsm30',\n",
    "       'contest-wind-h850-14d__wind-hgt-850',\n",
    "       'contest-wind-uwnd-925-14d__wind-uwnd-925', 'nmme0-prate-56w__cfsv20',\n",
    "       'nmme-prate-34w__cancm3', 'contest-rhum-sig995-14d__rhum',\n",
    "       'nmme-prate-34w__gfdlflorb', 'wind-hgt-850-2010-4',\n",
    "       'contest-wind-vwnd-250-14d__wind-vwnd-250', 'wind-hgt-100-2010-2',\n",
    "       'wind-uwnd-250-2010-18', 'wind-hgt-10-2010-5', 'wind-uwnd-250-2010-15',\n",
    "       'wind-uwnd-250-2010-4', 'nmme0-prate-56w__nasa0',\n",
    "       'nmme0-prate-34w__cfsv20', 'wind-vwnd-250-2010-10',\n",
    "       'contest-wind-h10-14d__wind-hgt-10', 'wind-uwnd-925-2010-15',\n",
    "       'wind-vwnd-250-2010-3', 'nmme-prate-34w__cancm4', 'sst-2010-4',\n",
    "       'nmme0-prate-56w__ccsm30', 'wind-uwnd-250-2010-16',\n",
    "       'nmme0-prate-34w__gfdl0', 'nmme0-prate-56w__cancm40', 'sst-2010-1',\n",
    "       'sst-2010-3', 'wind-uwnd-250-2010-14', 'nmme0-prate-34w__gfdlflora0',\n",
    "       'nmme-prate-34w__gfdl', 'wind-hgt-850-2010-9', 'wind-vwnd-250-2010-1',\n",
    "       'sst-2010-5', 'cancm30', 'nmme-prate-34w__ccsm4',\n",
    "       'nmme0-prate-34w__nasa0', 'wind-hgt-500-2010-9',\n",
    "       'nmme0-prate-34w__cancm30', 'wind-vwnd-250-2010-13']\n",
    "\n",
    "# important_cols = ['contest-wind-h500-14d__wind-hgt-500']"
   ]
  },
  {
   "cell_type": "code",
   "execution_count": 18,
   "id": "5a4e0133",
   "metadata": {},
   "outputs": [],
   "source": [
    "train_df[['startdate'] + best_cols + target].to_csv('sub_train.csv', index=False)\n",
    "test_df[['startdate'] + best_cols + ['index']].to_csv('sub_test.csv', index=False)"
   ]
  }
 ],
 "metadata": {
  "kernelspec": {
   "display_name": "action-env",
   "language": "python",
   "name": "action-env"
  },
  "language_info": {
   "codemirror_mode": {
    "name": "ipython",
    "version": 3
   },
   "file_extension": ".py",
   "mimetype": "text/x-python",
   "name": "python",
   "nbconvert_exporter": "python",
   "pygments_lexer": "ipython3",
   "version": "3.7.15"
  }
 },
 "nbformat": 4,
 "nbformat_minor": 5
}
