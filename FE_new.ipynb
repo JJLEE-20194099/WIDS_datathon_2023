{
 "cells": [
  {
   "cell_type": "code",
   "execution_count": 1,
   "metadata": {
    "colab": {
     "base_uri": "https://localhost:8080/"
    },
    "id": "ybVms9cMXca-",
    "outputId": "187d03cd-6013-4962-9036-df375be0e3bb"
   },
   "outputs": [
    {
     "name": "stdout",
     "output_type": "stream",
     "text": [
      "Collecting h2o\n",
      "  Using cached h2o-3.40.0.1-py2.py3-none-any.whl (177.7 MB)\n",
      "Requirement already satisfied: tabulate in /data/hieunm/anaconda3/lib/python3.9/site-packages (from h2o) (0.8.10)\n",
      "Requirement already satisfied: requests in /data/hieunm/anaconda3/lib/python3.9/site-packages (from h2o) (2.28.1)\n",
      "Requirement already satisfied: future in /data/hieunm/anaconda3/lib/python3.9/site-packages (from h2o) (0.18.2)\n",
      "Requirement already satisfied: certifi>=2017.4.17 in /data/hieunm/anaconda3/lib/python3.9/site-packages (from requests->h2o) (2022.9.14)\n",
      "Requirement already satisfied: urllib3<1.27,>=1.21.1 in /data/hieunm/anaconda3/lib/python3.9/site-packages (from requests->h2o) (1.26.11)\n",
      "Requirement already satisfied: charset-normalizer<3,>=2 in /data/hieunm/anaconda3/lib/python3.9/site-packages (from requests->h2o) (2.0.4)\n",
      "Requirement already satisfied: idna<4,>=2.5 in /data/hieunm/anaconda3/lib/python3.9/site-packages (from requests->h2o) (3.3)\n",
      "Installing collected packages: h2o\n",
      "Successfully installed h2o-3.40.0.1\n",
      "Collecting catboost\n",
      "  Using cached catboost-1.1.1-cp39-none-manylinux1_x86_64.whl (76.6 MB)\n",
      "Requirement already satisfied: numpy>=1.16.0 in /data/hieunm/anaconda3/lib/python3.9/site-packages (from catboost) (1.21.5)\n",
      "Requirement already satisfied: scipy in /data/hieunm/anaconda3/lib/python3.9/site-packages (from catboost) (1.9.1)\n",
      "Requirement already satisfied: plotly in /data/hieunm/anaconda3/lib/python3.9/site-packages (from catboost) (5.9.0)\n",
      "Requirement already satisfied: matplotlib in /data/hieunm/anaconda3/lib/python3.9/site-packages (from catboost) (3.5.2)\n",
      "Requirement already satisfied: pandas>=0.24.0 in /data/hieunm/anaconda3/lib/python3.9/site-packages (from catboost) (1.4.4)\n",
      "Collecting graphviz\n",
      "  Using cached graphviz-0.20.1-py3-none-any.whl (47 kB)\n",
      "Requirement already satisfied: six in /data/hieunm/anaconda3/lib/python3.9/site-packages (from catboost) (1.16.0)\n",
      "Requirement already satisfied: python-dateutil>=2.8.1 in /data/hieunm/anaconda3/lib/python3.9/site-packages (from pandas>=0.24.0->catboost) (2.8.2)\n",
      "Requirement already satisfied: pytz>=2020.1 in /data/hieunm/anaconda3/lib/python3.9/site-packages (from pandas>=0.24.0->catboost) (2022.1)\n",
      "Requirement already satisfied: kiwisolver>=1.0.1 in /data/hieunm/anaconda3/lib/python3.9/site-packages (from matplotlib->catboost) (1.4.2)\n",
      "Requirement already satisfied: pillow>=6.2.0 in /data/hieunm/anaconda3/lib/python3.9/site-packages (from matplotlib->catboost) (9.2.0)\n",
      "Requirement already satisfied: fonttools>=4.22.0 in /data/hieunm/anaconda3/lib/python3.9/site-packages (from matplotlib->catboost) (4.25.0)\n",
      "Requirement already satisfied: cycler>=0.10 in /data/hieunm/anaconda3/lib/python3.9/site-packages (from matplotlib->catboost) (0.11.0)\n",
      "Requirement already satisfied: packaging>=20.0 in /data/hieunm/anaconda3/lib/python3.9/site-packages (from matplotlib->catboost) (21.3)\n",
      "Requirement already satisfied: pyparsing>=2.2.1 in /data/hieunm/anaconda3/lib/python3.9/site-packages (from matplotlib->catboost) (3.0.9)\n",
      "Requirement already satisfied: tenacity>=6.2.0 in /data/hieunm/anaconda3/lib/python3.9/site-packages (from plotly->catboost) (8.0.1)\n",
      "Installing collected packages: graphviz, catboost\n",
      "Successfully installed catboost-1.1.1 graphviz-0.20.1\n"
     ]
    }
   ],
   "source": [
    "import numpy as np\n",
    "import pandas as pd\n",
    "import seaborn as sns\n",
    "import torch\n",
    "import torch.nn as nn\n",
    "import torch.nn.functional as f\n",
    "pd.set_option('display.max_columns', None)\n",
    "import matplotlib.pyplot as plt\n",
    "from sklearn.model_selection import train_test_split\n",
    "from torch.utils.data import DataLoader\n",
    "from sklearn import preprocessing\n",
    "from tqdm import tqdm\n",
    "from sklearn.preprocessing import FunctionTransformer\n",
    "import seaborn as sns \n",
    "from scipy import stats\n",
    "import statsmodels.api as sm\n",
    "\n",
    "from sklearn.ensemble import RandomForestRegressor, ExtraTreesRegressor, AdaBoostRegressor, BaggingRegressor, GradientBoostingRegressor\n",
    "from sklearn.tree import DecisionTreeRegressor\n",
    "from sklearn.linear_model import ElasticNet, Lasso\n",
    "from sklearn.feature_selection import SelectFromModel\n",
    "from sklearn.svm import SVR\n",
    "from sklearn.model_selection import KFold, cross_val_score\n",
    "from sklearn.pipeline import make_pipeline\n",
    "from sklearn.decomposition import PCA\n",
    "from sklearn.preprocessing import RobustScaler\n",
    "import h2o\n",
    "from h2o.automl import H2OAutoML\n",
    "from sklearn.base import BaseEstimator, TransformerMixin, RegressorMixin, clone\n",
    "from sklearn.neural_network import MLPRegressor\n",
    "from scipy.stats import norm\n",
    "import copy\n",
    "from sklearn.model_selection import KFold\n",
    "from catboost import CatBoostRegressor, Pool, metrics, cv\n",
    "import xgboost as xgb\n",
    "from scipy.stats import gmean\n",
    "from sklearn.impute import KNNImputer\n",
    "from sklearn.metrics import mean_squared_error\n",
    "from sklearn.preprocessing import LabelEncoder\n",
    "from sklearn.model_selection import GridSearchCV\n",
    "from sklearn.model_selection import cross_val_score\n"
   ]
  },
  {
   "cell_type": "code",
   "execution_count": 2,
   "metadata": {
    "colab": {
     "base_uri": "https://localhost:8080/"
    },
    "id": "KPWwwE_9XgQ-",
    "outputId": "00cbf9cd-b9d7-4d92-fde1-b918f6ba6e33"
   },
   "outputs": [],
   "source": [
    "import xgboost\n",
    "from xgboost import XGBRegressor\n",
    "from lightgbm import LGBMRegressor\n",
    "from lightgbm import plot_importance\n"
   ]
  },
  {
   "cell_type": "code",
   "execution_count": 3,
   "metadata": {
    "id": "RbApduhLXhQM"
   },
   "outputs": [],
   "source": [
    "train_df = pd.read_csv('./fe_train.csv')\n",
    "test_df = pd.read_csv('./fe_test.csv')"
   ]
  },
  {
   "cell_type": "code",
   "execution_count": 4,
   "metadata": {
    "id": "Acb2h132XlWs"
   },
   "outputs": [],
   "source": [
    "best_cols = ['contest-wind-h500-14d__wind-hgt-500',\n",
    " 'contest-slp-14d__slp',\n",
    " 'nmme-tmp2m-34w__ccsm3',\n",
    " 'elevation__elevation',\n",
    " 'lon',\n",
    " 'contest-prwtr-eatm-14d__prwtr',\n",
    " 'lat',\n",
    " 'climateregions__climateregion',\n",
    " 'contest-pres-sfc-gauss-14d__pres',\n",
    " 'season_sin',\n",
    " 'day_of_year_sin',\n",
    " 'contest-precip-14d__precip',\n",
    " 'contest-wind-uwnd-250-14d__wind-uwnd-250',\n",
    " 'nmme-prate-34w__cfsv2',\n",
    " 'nmme-prate-34w__nasa',\n",
    " 'nmme-prate-56w__gfdlflora',\n",
    " 'wind-uwnd-250-2010-7',\n",
    " 'contest-wind-vwnd-925-14d__wind-vwnd-925',\n",
    " 'nmme-prate-34w__nmmemean',\n",
    " 'nmme0-prate-34w__ccsm30',\n",
    " 'contest-wind-h850-14d__wind-hgt-850',\n",
    " 'contest-wind-uwnd-925-14d__wind-uwnd-925',\n",
    " 'nmme0-prate-56w__cfsv20',\n",
    " 'nmme-prate-34w__cancm3',\n",
    " 'contest-rhum-sig995-14d__rhum',\n",
    " 'nmme-prate-34w__gfdlflorb',\n",
    " 'wind-hgt-850-2010-4',\n",
    " 'contest-wind-vwnd-250-14d__wind-vwnd-250',\n",
    " 'wind-hgt-100-2010-2',\n",
    " 'wind-uwnd-250-2010-18',\n",
    " 'wind-hgt-10-2010-5',\n",
    " 'wind-uwnd-250-2010-15',\n",
    " 'wind-uwnd-250-2010-4',\n",
    " 'nmme0-prate-56w__nasa0',\n",
    " 'nmme0-prate-34w__cfsv20',\n",
    " 'wind-vwnd-250-2010-10',\n",
    " 'contest-wind-h10-14d__wind-hgt-10',\n",
    " 'wind-uwnd-925-2010-15',\n",
    " 'wind-vwnd-250-2010-3',\n",
    " 'nmme-prate-34w__cancm4',\n",
    " 'sst-2010-4',\n",
    " 'nmme0-prate-56w__ccsm30',\n",
    " 'wind-uwnd-250-2010-16',\n",
    " 'nmme0-prate-34w__gfdl0',\n",
    " 'nmme0-prate-56w__cancm40',\n",
    " 'sst-2010-1',\n",
    " 'sst-2010-3',\n",
    " 'wind-uwnd-250-2010-14',\n",
    " 'nmme0-prate-34w__gfdlflora0',\n",
    " 'nmme-prate-34w__gfdl',\n",
    " 'wind-hgt-850-2010-9',\n",
    " 'wind-vwnd-250-2010-1',\n",
    " 'sst-2010-5',\n",
    " 'cancm30',\n",
    " 'nmme-prate-34w__ccsm4',\n",
    " 'nmme0-prate-34w__nasa0',\n",
    " 'wind-hgt-500-2010-9',\n",
    " 'nmme0-prate-34w__cancm30',\n",
    " 'wind-vwnd-250-2010-13',\n",
    " 'wind_diff',\n",
    " 'wind_diff_min',\n",
    " 'wind_diff_min_month',\n",
    " 'wind_diff_month',\n",
    " 'diff_slp_first',\n",
    " 'diff_wind_first',\n",
    " 'diff_precip_first',\n",
    " 'diff_sst_10_first',\n",
    " 'diff_sst_10_min',\n",
    " 'diff_sst_10_max',\n",
    " 'range_sst_10',\n",
    " 'scale_sst_10',\n",
    " 'diff_sst_9_first',\n",
    " 'diff_sst_9_min',\n",
    " 'diff_sst_9_max',\n",
    " 'range_sst_9',\n",
    " 'scale_sst_9',\n",
    " 'diff_sst_8_first',\n",
    " 'diff_sst_8_min',\n",
    " 'diff_sst_8_max',\n",
    " 'range_sst_8',\n",
    " 'scale_sst_8',\n",
    " 'diff_sst_7_first',\n",
    " 'diff_sst_7_min',\n",
    " 'diff_sst_7_max',\n",
    " 'range_sst_7',\n",
    " 'scale_sst_7',\n",
    " 'diff_sst_6_first',\n",
    " 'diff_sst_6_min',\n",
    " 'diff_sst_6_max',\n",
    " 'range_sst_6',\n",
    " 'scale_sst_6',\n",
    " 'diff_sst_1_first',\n",
    " 'diff_sst_1_min',\n",
    " 'diff_sst_1_max',\n",
    " 'range_sst_1',\n",
    " 'scale_sst_1',\n",
    " 'diff_sst_2_first',\n",
    " 'diff_sst_2_min',\n",
    " 'diff_sst_2_max',\n",
    " 'range_sst_2',\n",
    " 'scale_sst_2',\n",
    " 'diff_sst_3_first',\n",
    " 'diff_sst_3_min',\n",
    " 'diff_sst_3_max',\n",
    " 'range_sst_3',\n",
    " 'scale_sst_3',\n",
    " 'diff_sst_4_first',\n",
    " 'diff_sst_4_min',\n",
    " 'diff_sst_4_max',\n",
    " 'range_sst_4',\n",
    " 'scale_sst_4',\n",
    " 'diff_sst_5_first',\n",
    " 'diff_sst_5_min',\n",
    " 'diff_sst_5_max',\n",
    " 'range_sst_5',\n",
    " 'scale_sst_5',\n",
    " 'diff_pres_1_first',\n",
    " 'diff_pres_1_min',\n",
    " 'diff_pres_1_max',\n",
    " 'range_pres_1',\n",
    " 'scale_pres_1',\n",
    " 'diff_ccsm3_month_1_first',\n",
    " 'diff_ccsm3_month_1_min',\n",
    " 'diff_ccsm3_month_1_max',\n",
    " 'range_ccsm3_month_1',\n",
    " 'scale_ccsm3_month_1',\n",
    " 'diff_sst_1_month_1_first',\n",
    " 'diff_sst_1_month_1_min',\n",
    " 'diff_sst_1_month_1_max',\n",
    " 'range_sst_1_month_1',\n",
    " 'scale_sst_1_month_1',\n",
    " 'sst_1_lag_1',\n",
    " 'sst_5_lag_1',\n",
    " 'sst_4_lag_1',\n",
    " 'sst_1_lag_1_season',\n",
    " 'sst_5_lag_1_season',\n",
    " 'sst_4_lag_1_season',\n",
    " 'diff_wind_u_15_month_1_first',\n",
    " 'diff_wind_u_15_month_1_min',\n",
    " 'diff_wind_u_15_month_1_max',\n",
    " 'range_wind_u_15_month_1',\n",
    " 'scale_wind_u_15_month_1']"
   ]
  },
  {
   "cell_type": "code",
   "execution_count": 5,
   "metadata": {
    "colab": {
     "base_uri": "https://localhost:8080/"
    },
    "id": "hkVE3tT8XsrJ",
    "outputId": "2abb2333-6ddc-4f85-973c-1b4858dee6ef"
   },
   "outputs": [
    {
     "name": "stdout",
     "output_type": "stream",
     "text": [
      "Main features: 407\n"
     ]
    }
   ],
   "source": [
    "exclude_cols = ['index', 'startdate']\n",
    "target=[\"contest-tmp2m-14d__tmp2m\"]\n",
    "main_attrs = [c for c in train_df.columns if c not in exclude_cols and c not in target]\n",
    "print(\"Main features:\", len(main_attrs))"
   ]
  },
  {
   "cell_type": "code",
   "execution_count": 6,
   "metadata": {
    "id": "2DgB4pJkOFf9"
   },
   "outputs": [],
   "source": [
    "# n_train = pd.read_csv('./n_train.csv')\n",
    "# n_test = pd.read_csv('./n_test.csv')"
   ]
  },
  {
   "cell_type": "code",
   "execution_count": 7,
   "metadata": {
    "id": "PBFn-7b3Pqd0"
   },
   "outputs": [],
   "source": [
    "# remain_cols = [c for c in n_train.columns.tolist() if c not in best_cols]\n",
    "# remain_cols"
   ]
  },
  {
   "cell_type": "code",
   "execution_count": 8,
   "metadata": {
    "id": "fn5gb1voP6S6"
   },
   "outputs": [],
   "source": [
    "pevpr_col = 'contest-pevpr-sfc-gauss-14d__pevpr'\n",
    "prate_34_ccsm3_col = 'nmme-prate-34w__ccsm3'\n",
    "group_cols = ['loc_group', 'year', 'season', 'month']\n",
    "season_group_cols = ['loc_group', 'year', 'season']"
   ]
  },
  {
   "cell_type": "code",
   "execution_count": 9,
   "metadata": {
    "id": "mWEOfrOnQR0Q"
   },
   "outputs": [],
   "source": [
    "def assign_train_test_df(df, my_col):\n",
    "    train_df[my_col] = df[:len(train_df)][my_col].tolist()\n",
    "    test_df[my_col] = df[len(train_df):][my_col].tolist()\n",
    "    return df\n",
    "\n",
    "def create_df_by_group_and_agg(dataframe, grouped_cols, action, my_col, return_name):\n",
    "    if action == \"first\":\n",
    "        ans_df = dataframe.groupby(grouped_cols)[my_col].first().reset_index()\n",
    "    elif action == \"min\":\n",
    "        ans_df = dataframe.groupby(grouped_cols)[my_col].min().reset_index()\n",
    "    elif action == \"max\":\n",
    "        ans_df = dataframe.groupby(grouped_cols)[my_col].max().reset_index()\n",
    "    elif action == \"mean\":\n",
    "        ans_df = dataframe.groupby(grouped_cols)[my_col].mean().reset_index()\n",
    "    print(\"Nan\")\n",
    "    ans_df = ans_df.rename(columns={my_col: return_name})\n",
    "    for c in ans_df.columns:\n",
    "        if ans_df[c].isnull().sum() > 0:\n",
    "            print(c, ans_df[c].isnull().sum())\n",
    "    return ans_df\n",
    "\n",
    "def create_feature(df, alias_name, col_name, suffix_num, season_group_cols):\n",
    "    first_df = create_df_by_group_and_agg(df, season_group_cols, \"first\", col_name, f\"first_{alias_name}_{suffix_num}\")\n",
    "    min_df = create_df_by_group_and_agg(df, season_group_cols, \"min\", col_name, f\"min_{alias_name}_{suffix_num}\")\n",
    "    max_df = create_df_by_group_and_agg(df, season_group_cols, \"max\", col_name, f\"max_{alias_name}_{suffix_num}\")\n",
    "    \n",
    "    df = df.merge(first_df, how='left', on=season_group_cols)\n",
    "    df[f'diff_{alias_name}_{suffix_num}_first'] = df[col_name] - df[f\"first_{alias_name}_{suffix_num}\"]\n",
    "    df = assign_train_test_df(df, f'diff_{alias_name}_{suffix_num}_first')\n",
    "    \n",
    "    df = df.merge(min_df, how='left', on=season_group_cols)\n",
    "    df[f'diff_{alias_name}_{suffix_num}_min'] = df[col_name] - df[f\"min_{alias_name}_{suffix_num}\"]\n",
    "    df = assign_train_test_df(df, f'diff_{alias_name}_{suffix_num}_min')\n",
    "    \n",
    "    df = df.merge(max_df, how='left', on=season_group_cols)\n",
    "    df[f'diff_{alias_name}_{suffix_num}_max'] = df[col_name] - df[f\"max_{alias_name}_{suffix_num}\"]\n",
    "    df = assign_train_test_df(df, f'diff_{alias_name}_{suffix_num}_max')\n",
    "    \n",
    "    df[f'range_{alias_name}_{suffix_num}'] = df[f\"max_{alias_name}_{suffix_num}\"] - df[f\"min_{alias_name}_{suffix_num}\"]\n",
    "    df = assign_train_test_df(df, f'range_{alias_name}_{suffix_num}')\n",
    "    \n",
    "    df[f'scale_{alias_name}_{suffix_num}'] = (df[col_name] - df[f\"min_{alias_name}_{suffix_num}\"]) / df[f'range_{alias_name}_{suffix_num}']\n",
    "    df = assign_train_test_df(df, f'scale_{alias_name}_{suffix_num}')\n",
    "    \n",
    "    return [df, f'diff_{alias_name}_{suffix_num}_first',\n",
    "   f'diff_{alias_name}_{suffix_num}_min',\n",
    "    f'diff_{alias_name}_{suffix_num}_max',\n",
    "    f'range_{alias_name}_{suffix_num}', f'scale_{alias_name}_{suffix_num}']"
   ]
  },
  {
   "cell_type": "code",
   "execution_count": 10,
   "metadata": {
    "colab": {
     "base_uri": "https://localhost:8080/"
    },
    "id": "aYiTjhwsQmKq",
    "outputId": "2bab56ed-bdc3-4239-deb8-78a8fdc3e6f2"
   },
   "outputs": [
    {
     "data": {
      "text/plain": [
       "(407088, 407)"
      ]
     },
     "execution_count": 10,
     "metadata": {},
     "output_type": "execute_result"
    }
   ],
   "source": [
    "df = pd.concat([train_df[main_attrs], test_df[main_attrs]], axis=0)\n",
    "df.shape"
   ]
  },
  {
   "cell_type": "code",
   "execution_count": 11,
   "metadata": {
    "colab": {
     "base_uri": "https://localhost:8080/"
    },
    "id": "iPfjY0ajQiLl",
    "outputId": "4979c813-d37a-46de-dfc9-2fdecae91029"
   },
   "outputs": [
    {
     "name": "stdout",
     "output_type": "stream",
     "text": [
      "Nan\n",
      "Nan\n",
      "Nan\n"
     ]
    }
   ],
   "source": [
    "pevpr_res = create_feature(df, 'pevpr_col', pevpr_col, 1, group_cols)\n",
    "df = pevpr_res[0]\n",
    "pevpr_col_feature = pevpr_res[1:]"
   ]
  },
  {
   "cell_type": "code",
   "execution_count": 12,
   "metadata": {
    "id": "RpCMnz4oYR1H"
   },
   "outputs": [],
   "source": [
    "df['pevpr_lag_1'] = df.groupby(group_cols)[pevpr_col].shift(1)\n",
    "df = assign_train_test_df(df, 'pevpr_lag_1')"
   ]
  },
  {
   "cell_type": "code",
   "execution_count": 13,
   "metadata": {
    "id": "arMnEpRkVTsj"
   },
   "outputs": [],
   "source": [
    "df['pevpr_lag_2'] = df.groupby(group_cols)[pevpr_col].shift(2)\n",
    "df = assign_train_test_df(df, 'pevpr_lag_2')"
   ]
  },
  {
   "cell_type": "code",
   "execution_count": 26,
   "metadata": {
    "id": "REwwtFAtQ7PL"
   },
   "outputs": [],
   "source": [
    "# feature_list = best_cols + pevpr_col_feature + ['pevpr_lag_1', 'pevpr_lag_2']\n",
    "feature_list = best_cols[:-5]"
   ]
  },
  {
   "cell_type": "code",
   "execution_count": 15,
   "metadata": {
    "id": "xo5omjPJYJ1B"
   },
   "outputs": [],
   "source": [
    "# val_df = train_df[train_df['startdate'] >= '2016-07-01']\n",
    "# new_train_df = train_df[train_df['startdate'] < '2016-07-01']"
   ]
  },
  {
   "cell_type": "code",
   "execution_count": 16,
   "metadata": {
    "id": "g43u9qGtYoF1"
   },
   "outputs": [],
   "source": [
    "# X_train, X_val, y_train, y_val = new_train_df[feature_list].values, val_df[feature_list].values, new_train_df[target[0]].values, val_df[target[0]].values"
   ]
  },
  {
   "cell_type": "code",
   "execution_count": 17,
   "metadata": {
    "id": "N1vhK_48Y663"
   },
   "outputs": [],
   "source": [
    "# print(\"Size train:\", X_train.shape, y_train.shape)\n",
    "# print(\"Size val:\", X_val.shape, y_val.shape)"
   ]
  },
  {
   "cell_type": "code",
   "execution_count": 18,
   "metadata": {
    "id": "dObw3thtplHk"
   },
   "outputs": [],
   "source": [
    "# clf = CatBoostRegressor(iterations=5000, verbose=200, task_type=\"GPU\",\n",
    "#                            devices='0:1', learning_rate=0.08)\n",
    "# clf.fit(X_train, y_train, eval_set=[(X_val, y_val)], verbose=True, early_stopping_rounds=200)"
   ]
  },
  {
   "cell_type": "code",
   "execution_count": 19,
   "metadata": {
    "id": "fp42isEUogWZ"
   },
   "outputs": [],
   "source": [
    "# s = clf.predict(test_df[feature_list].values)\n",
    "# result_df = pd.read_csv('./sample_solution.csv')\n",
    "\n",
    "# best_df = pd.read_csv('best_sub.csv')\n",
    "# y_best = best_df[target[0]].values\n",
    "# result_df['contest-tmp2m-14d__tmp2m'] = s\n",
    "# result_df.to_csv('submission.csv', index=False)\n",
    "\n",
    "# from numpy import dot\n",
    "# from numpy.linalg import norm\n",
    "\n",
    "# cos_sim = dot(y_best, s)/(norm(y_best)*norm(s))\n",
    "# print(\"cos_sim with best submission:\", cos_sim)"
   ]
  },
  {
   "cell_type": "code",
   "execution_count": 27,
   "metadata": {
    "colab": {
     "base_uri": "https://localhost:8080/"
    },
    "id": "tOUoJBFGoh-j",
    "outputId": "b406ae6c-63c9-4654-87c1-e6af3652234b"
   },
   "outputs": [
    {
     "name": "stderr",
     "output_type": "stream",
     "text": [
      "5it [00:02,  2.02it/s]\n"
     ]
    },
    {
     "name": "stdout",
     "output_type": "stream",
     "text": [
      "(375734, 137) (375734,)\n"
     ]
    },
    {
     "name": "stderr",
     "output_type": "stream",
     "text": [
      "\r",
      "  0%|                                                                                                | 0/5 [00:00<?, ?it/s]"
     ]
    },
    {
     "name": "stdout",
     "output_type": "stream",
     "text": [
      "Learning rate set to 0.072699\n",
      "0:\tlearn: 9.2611105\ttest: 9.2407165\tbest: 9.2407165 (0)\ttotal: 6.5ms\tremaining: 32.5s\n",
      "1000:\tlearn: 0.6428072\ttest: 0.6581101\tbest: 0.6581101 (1000)\ttotal: 5.13s\tremaining: 20.5s\n",
      "2000:\tlearn: 0.4859984\ttest: 0.5056584\tbest: 0.5056584 (2000)\ttotal: 10.3s\tremaining: 15.4s\n",
      "3000:\tlearn: 0.4072355\ttest: 0.4303055\tbest: 0.4303055 (3000)\ttotal: 15.4s\tremaining: 10.2s\n",
      "4000:\tlearn: 0.3571109\ttest: 0.3831574\tbest: 0.3831574 (4000)\ttotal: 20.4s\tremaining: 5.1s\n",
      "4999:\tlearn: 0.3221851\ttest: 0.3510557\tbest: 0.3510557 (4999)\ttotal: 25.5s\tremaining: 0us\n",
      "bestTest = 0.3510556979\n",
      "bestIteration = 4999\n"
     ]
    },
    {
     "name": "stderr",
     "output_type": "stream",
     "text": [
      "\r",
      " 20%|█████████████████▌                                                                      | 1/5 [00:41<02:47, 41.89s/it]"
     ]
    },
    {
     "name": "stdout",
     "output_type": "stream",
     "text": [
      "Learning rate set to 0.072699\n",
      "0:\tlearn: 9.2537635\ttest: 9.2717026\tbest: 9.2717026 (0)\ttotal: 6.08ms\tremaining: 30.4s\n",
      "1000:\tlearn: 0.6376108\ttest: 0.6498531\tbest: 0.6498531 (1000)\ttotal: 5.1s\tremaining: 20.4s\n",
      "2000:\tlearn: 0.4843631\ttest: 0.5026641\tbest: 0.5026641 (2000)\ttotal: 10.3s\tremaining: 15.4s\n",
      "3000:\tlearn: 0.4072721\ttest: 0.4298662\tbest: 0.4298662 (3000)\ttotal: 15.3s\tremaining: 10.2s\n",
      "4000:\tlearn: 0.3579008\ttest: 0.3838454\tbest: 0.3838454 (4000)\ttotal: 20.5s\tremaining: 5.11s\n",
      "4999:\tlearn: 0.3236619\ttest: 0.3522157\tbest: 0.3522157 (4999)\ttotal: 25.5s\tremaining: 0us\n",
      "bestTest = 0.3522156824\n",
      "bestIteration = 4999\n"
     ]
    },
    {
     "name": "stderr",
     "output_type": "stream",
     "text": [
      "\r",
      " 40%|███████████████████████████████████▏                                                    | 2/5 [01:21<02:01, 40.43s/it]"
     ]
    },
    {
     "name": "stdout",
     "output_type": "stream",
     "text": [
      "Learning rate set to 0.072699\n",
      "0:\tlearn: 9.2531718\ttest: 9.2855747\tbest: 9.2855747 (0)\ttotal: 6.41ms\tremaining: 32s\n",
      "1000:\tlearn: 0.6364267\ttest: 0.6512715\tbest: 0.6512715 (1000)\ttotal: 5.33s\tremaining: 21.3s\n",
      "2000:\tlearn: 0.4804558\ttest: 0.4992745\tbest: 0.4992745 (2000)\ttotal: 10.6s\tremaining: 15.8s\n",
      "3000:\tlearn: 0.4032379\ttest: 0.4252751\tbest: 0.4252751 (3000)\ttotal: 15.8s\tremaining: 10.5s\n",
      "4000:\tlearn: 0.3556632\ttest: 0.3803337\tbest: 0.3803337 (4000)\ttotal: 20.8s\tremaining: 5.2s\n",
      "4999:\tlearn: 0.3211465\ttest: 0.3483171\tbest: 0.3483171 (4999)\ttotal: 26.2s\tremaining: 0us\n",
      "bestTest = 0.348317145\n",
      "bestIteration = 4999\n"
     ]
    },
    {
     "name": "stderr",
     "output_type": "stream",
     "text": [
      "\r",
      " 60%|████████████████████████████████████████████████████▊                                   | 3/5 [02:01<01:20, 40.19s/it]"
     ]
    },
    {
     "name": "stdout",
     "output_type": "stream",
     "text": [
      "Learning rate set to 0.072699\n",
      "0:\tlearn: 9.2604847\ttest: 9.2566518\tbest: 9.2566518 (0)\ttotal: 9.38ms\tremaining: 46.9s\n",
      "1000:\tlearn: 0.6380025\ttest: 0.6546888\tbest: 0.6546888 (1000)\ttotal: 5.13s\tremaining: 20.5s\n",
      "2000:\tlearn: 0.4836759\ttest: 0.5049941\tbest: 0.5049941 (2000)\ttotal: 10.1s\tremaining: 15.2s\n",
      "3000:\tlearn: 0.4059484\ttest: 0.4304623\tbest: 0.4304623 (3000)\ttotal: 15.3s\tremaining: 10.2s\n",
      "4000:\tlearn: 0.3565126\ttest: 0.3837076\tbest: 0.3837076 (4000)\ttotal: 20.5s\tremaining: 5.13s\n",
      "4999:\tlearn: 0.3214217\ttest: 0.3508999\tbest: 0.3508999 (4999)\ttotal: 25.7s\tremaining: 0us\n",
      "bestTest = 0.3508999474\n",
      "bestIteration = 4999\n"
     ]
    },
    {
     "name": "stderr",
     "output_type": "stream",
     "text": [
      "\r",
      " 80%|██████████████████████████████████████████████████████████████████████▍                 | 4/5 [02:40<00:39, 39.72s/it]"
     ]
    },
    {
     "name": "stdout",
     "output_type": "stream",
     "text": [
      "Learning rate set to 0.072699\n",
      "0:\tlearn: 9.2625918\ttest: 9.2370575\tbest: 9.2370575 (0)\ttotal: 6.02ms\tremaining: 30.1s\n",
      "1000:\tlearn: 0.6427253\ttest: 0.6556000\tbest: 0.6556000 (1000)\ttotal: 5.12s\tremaining: 20.4s\n",
      "2000:\tlearn: 0.4877959\ttest: 0.5063940\tbest: 0.5063940 (2000)\ttotal: 10.3s\tremaining: 15.5s\n",
      "3000:\tlearn: 0.4095738\ttest: 0.4323650\tbest: 0.4323650 (3000)\ttotal: 15.4s\tremaining: 10.3s\n",
      "4000:\tlearn: 0.3589905\ttest: 0.3846672\tbest: 0.3846672 (4000)\ttotal: 20.6s\tremaining: 5.15s\n",
      "4999:\tlearn: 0.3243605\ttest: 0.3528466\tbest: 0.3528466 (4999)\ttotal: 25.7s\tremaining: 0us\n",
      "bestTest = 0.3528465836\n",
      "bestIteration = 4999\n"
     ]
    },
    {
     "name": "stderr",
     "output_type": "stream",
     "text": [
      "100%|████████████████████████████████████████████████████████████████████████████████████████| 5/5 [03:19<00:00, 39.92s/it]\n"
     ]
    }
   ],
   "source": [
    "X = train_df[feature_list].values\n",
    "y = train_df[target[0]].values\n",
    "\n",
    "skf = KFold(n_splits=5, random_state=2048, shuffle=True)\n",
    "skf.get_n_splits(X, y)\n",
    "\n",
    "train_index_list = []\n",
    "test_index_list = []\n",
    "train_x_list = []\n",
    "val_x_list = []\n",
    "train_y_list = []\n",
    "val_y_list = []\n",
    "\n",
    "for i, (train_index, test_index) in tqdm(enumerate(skf.split(X, y))):\n",
    "    train_index_list.append(train_index)\n",
    "    test_index_list.append(test_index)\n",
    "\n",
    "    train_x_list.append(X[train_index, :])\n",
    "    val_x_list.append(X[test_index, :])\n",
    "    train_y_list.append(y[train_index])\n",
    "    val_y_list.append(y[test_index])    \n",
    "def train_catboost(x, y):\n",
    "    print(x.shape, y.shape)\n",
    "    \n",
    "    cat_models = []\n",
    "    for i in tqdm(range(5)):\n",
    "        train_x, val_x = train_x_list[i], val_x_list[i]\n",
    "        train_y, val_y = train_y_list[i], val_y_list[i]\n",
    "        clf = CatBoostRegressor(iterations=5000, verbose=200, task_type=\"GPU\",\n",
    "                           devices='0:1')\n",
    "        clf.fit(train_x, train_y, eval_set=[(val_x, val_y)], verbose=1000, early_stopping_rounds=200)\n",
    "        cat_models.append(clf)\n",
    "    \n",
    "    return cat_models\n",
    "cat_models = train_catboost(X, y)\n"
   ]
  },
  {
   "cell_type": "code",
   "execution_count": 29,
   "metadata": {
    "colab": {
     "base_uri": "https://localhost:8080/"
    },
    "id": "jtsBlbIgghT_",
    "outputId": "836dfd2c-f17b-44bb-b8ad-3a0bca9f7d70"
   },
   "outputs": [
    {
     "name": "stderr",
     "output_type": "stream",
     "text": [
      "100%|████████████████████████████████████████████████████████████████████████████████████████| 5/5 [00:01<00:00,  3.37it/s]\n"
     ]
    }
   ],
   "source": [
    "preds = []\n",
    "for cat_model in tqdm(cat_models):\n",
    "    preds.append(cat_model.predict(test_df[feature_list].values))\n",
    "s = 0\n",
    "for pred in preds:\n",
    "    s += pred\n",
    "s = s/5\n",
    "result_df = pd.read_csv('./sample_solution.csv')\n",
    "\n",
    "result_df['contest-tmp2m-14d__tmp2m'] = s\n",
    "result_df.to_csv('submission.csv', index=False)\n"
   ]
  }
 ],
 "metadata": {
  "accelerator": "GPU",
  "colab": {
   "provenance": []
  },
  "gpuClass": "standard",
  "kernelspec": {
   "display_name": "wids-env",
   "language": "python",
   "name": "wids-env"
  },
  "language_info": {
   "codemirror_mode": {
    "name": "ipython",
    "version": 3
   },
   "file_extension": ".py",
   "mimetype": "text/x-python",
   "name": "python",
   "nbconvert_exporter": "python",
   "pygments_lexer": "ipython3",
   "version": "3.7.15"
  }
 },
 "nbformat": 4,
 "nbformat_minor": 1
}
