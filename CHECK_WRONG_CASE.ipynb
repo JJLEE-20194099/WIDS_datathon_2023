{
 "cells": [
  {
   "cell_type": "code",
   "execution_count": 1,
   "id": "bc14f70c",
   "metadata": {},
   "outputs": [],
   "source": [
    "import numpy as np\n",
    "import pandas as pd\n",
    "pd.set_option('display.max_columns', None)\n",
    "import matplotlib.pyplot as plt\n",
    "from sklearn.model_selection import train_test_split\n",
    "from sklearn import preprocessing\n",
    "from tqdm import tqdm\n",
    "from sklearn.preprocessing import FunctionTransformer\n",
    "import seaborn as sns \n",
    "from scipy import stats\n",
    "import statsmodels.api as sm\n",
    "\n",
    "from sklearn.ensemble import RandomForestRegressor, ExtraTreesRegressor, AdaBoostRegressor, BaggingRegressor, GradientBoostingRegressor\n",
    "from sklearn.tree import DecisionTreeRegressor\n",
    "from sklearn.linear_model import ElasticNet, Lasso\n",
    "from sklearn.feature_selection import SelectFromModel\n",
    "from sklearn.svm import SVR\n",
    "from sklearn.model_selection import KFold, cross_val_score\n",
    "from sklearn.pipeline import make_pipeline\n",
    "from sklearn.decomposition import PCA\n",
    "from sklearn.preprocessing import RobustScaler\n",
    "import h2o\n",
    "from h2o.automl import H2OAutoML\n",
    "from sklearn.base import BaseEstimator, TransformerMixin, RegressorMixin, clone\n",
    "from sklearn.neural_network import MLPRegressor\n",
    "from scipy.stats import norm\n",
    "import copy\n",
    "from sklearn.model_selection import KFold\n",
    "from catboost import CatBoostRegressor, Pool, metrics, cv\n",
    "import xgboost as xgb\n",
    "from scipy.stats import gmean\n",
    "from sklearn.impute import KNNImputer\n",
    "from sklearn.metrics import mean_squared_error\n",
    "from sklearn.preprocessing import LabelEncoder\n"
   ]
  },
  {
   "cell_type": "code",
   "execution_count": 2,
   "id": "410d1bc3",
   "metadata": {},
   "outputs": [
    {
     "name": "stdout",
     "output_type": "stream",
     "text": [
      "startdate\n",
      "climateregions__climateregion\n"
     ]
    }
   ],
   "source": [
    "train_df =  pd.read_csv('sub_train.csv')\n",
    "test_df  =  pd.read_csv('sub_test.csv')\n",
    "for c in train_df.columns:\n",
    "    if train_df[c].dtypes != 'float64':\n",
    "        print(c)"
   ]
  },
  {
   "cell_type": "code",
   "execution_count": 3,
   "id": "54f03559",
   "metadata": {},
   "outputs": [
    {
     "name": "stdout",
     "output_type": "stream",
     "text": [
      "Main features: 59\n"
     ]
    }
   ],
   "source": [
    "exclude_cols = ['index', 'startdate']\n",
    "target=[\"contest-tmp2m-14d__tmp2m\"]\n",
    "main_attrs = [c for c in train_df.columns if c not in exclude_cols and c not in target]\n",
    "print(\"Main features:\", len(main_attrs))"
   ]
  },
  {
   "cell_type": "code",
   "execution_count": 6,
   "id": "2a947759",
   "metadata": {},
   "outputs": [],
   "source": [
    "def train_model_by_X_y(_X, _y, iterations=5000):\n",
    "    skf = KFold(n_splits=5, random_state=2048, shuffle=True)\n",
    "    skf.get_n_splits(_X, _y)\n",
    "\n",
    "    train_index_list = []\n",
    "    test_index_list = []\n",
    "    train_x_list = []\n",
    "    val_x_list = []\n",
    "    train_y_list = []\n",
    "    val_y_list = []\n",
    "\n",
    "    for i, (train_index, test_index) in enumerate(skf.split(_X, _y)):\n",
    "        train_index_list.append(train_index)\n",
    "        test_index_list.append(test_index)\n",
    "\n",
    "        train_x_list.append(_X[train_index, :])\n",
    "        val_x_list.append(_X[test_index, :])\n",
    "        train_y_list.append(_y[train_index])\n",
    "        val_y_list.append(_y[test_index])    \n",
    "   \n",
    "\n",
    "    cat_models = []\n",
    "    for i in range(5):\n",
    "        train_x, val_x = train_x_list[i], val_x_list[i]\n",
    "        train_y, val_y = train_y_list[i], val_y_list[i],\n",
    "        clf = CatBoostRegressor(iterations=iterations, task_type=\"GPU\",\n",
    "                           devices='0:1')\n",
    "        clf.fit(train_x, train_y, eval_set=[(val_x, val_y)], verbose=5000, early_stopping_rounds=100)\n",
    "        cat_models.append(clf)\n",
    "    \n",
    "    return cat_models\n"
   ]
  },
  {
   "cell_type": "code",
   "execution_count": 21,
   "id": "22d24e31",
   "metadata": {},
   "outputs": [],
   "source": [
    "def cal_train_pred(models, _X):\n",
    "    preds = []\n",
    "    for model in models:\n",
    "        preds.append(model.predict(_X))\n",
    "    s = 0\n",
    "    for pred in preds:\n",
    "        s += pred\n",
    "    s = s/5\n",
    "    return s"
   ]
  },
  {
   "cell_type": "code",
   "execution_count": 49,
   "id": "877049a0",
   "metadata": {},
   "outputs": [],
   "source": [
    "# y = train_df[target[0]].values\n",
    "# X = train_df[main_attrs].values\n",
    "# cat_models = train_model_by_X_y(X, y)"
   ]
  },
  {
   "cell_type": "code",
   "execution_count": 51,
   "id": "fd0f23dc",
   "metadata": {},
   "outputs": [],
   "source": [
    "check_col = 'contest-wind-h500-14d__wind-hgt-500'"
   ]
  },
  {
   "cell_type": "code",
   "execution_count": 54,
   "id": "56b6a124",
   "metadata": {},
   "outputs": [
    {
     "data": {
      "text/html": [
       "<div>\n",
       "<style scoped>\n",
       "    .dataframe tbody tr th:only-of-type {\n",
       "        vertical-align: middle;\n",
       "    }\n",
       "\n",
       "    .dataframe tbody tr th {\n",
       "        vertical-align: top;\n",
       "    }\n",
       "\n",
       "    .dataframe thead th {\n",
       "        text-align: right;\n",
       "    }\n",
       "</style>\n",
       "<table border=\"1\" class=\"dataframe\">\n",
       "  <thead>\n",
       "    <tr style=\"text-align: right;\">\n",
       "      <th></th>\n",
       "      <th>lat</th>\n",
       "      <th>lon</th>\n",
       "      <th>contest-wind-h500-14d__wind-hgt-500</th>\n",
       "    </tr>\n",
       "  </thead>\n",
       "  <tbody>\n",
       "    <tr>\n",
       "      <th>0</th>\n",
       "      <td>0.000000</td>\n",
       "      <td>0.833333</td>\n",
       "      <td>5856.087989</td>\n",
       "    </tr>\n",
       "    <tr>\n",
       "      <th>1</th>\n",
       "      <td>0.000000</td>\n",
       "      <td>0.866667</td>\n",
       "      <td>5855.675951</td>\n",
       "    </tr>\n",
       "    <tr>\n",
       "      <th>2</th>\n",
       "      <td>0.045455</td>\n",
       "      <td>0.833333</td>\n",
       "      <td>5844.286566</td>\n",
       "    </tr>\n",
       "    <tr>\n",
       "      <th>3</th>\n",
       "      <td>0.045455</td>\n",
       "      <td>0.866667</td>\n",
       "      <td>5845.395157</td>\n",
       "    </tr>\n",
       "    <tr>\n",
       "      <th>4</th>\n",
       "      <td>0.045455</td>\n",
       "      <td>0.900000</td>\n",
       "      <td>5846.219439</td>\n",
       "    </tr>\n",
       "    <tr>\n",
       "      <th>...</th>\n",
       "      <td>...</td>\n",
       "      <td>...</td>\n",
       "      <td>...</td>\n",
       "    </tr>\n",
       "    <tr>\n",
       "      <th>509</th>\n",
       "      <td>1.000000</td>\n",
       "      <td>0.733333</td>\n",
       "      <td>5594.640109</td>\n",
       "    </tr>\n",
       "    <tr>\n",
       "      <th>510</th>\n",
       "      <td>1.000000</td>\n",
       "      <td>0.766667</td>\n",
       "      <td>5593.227921</td>\n",
       "    </tr>\n",
       "    <tr>\n",
       "      <th>511</th>\n",
       "      <td>1.000000</td>\n",
       "      <td>0.800000</td>\n",
       "      <td>5579.298919</td>\n",
       "    </tr>\n",
       "    <tr>\n",
       "      <th>512</th>\n",
       "      <td>1.000000</td>\n",
       "      <td>0.833333</td>\n",
       "      <td>5581.151382</td>\n",
       "    </tr>\n",
       "    <tr>\n",
       "      <th>513</th>\n",
       "      <td>1.000000</td>\n",
       "      <td>0.866667</td>\n",
       "      <td>5579.344555</td>\n",
       "    </tr>\n",
       "  </tbody>\n",
       "</table>\n",
       "<p>514 rows × 3 columns</p>\n",
       "</div>"
      ],
      "text/plain": [
       "          lat       lon  contest-wind-h500-14d__wind-hgt-500\n",
       "0    0.000000  0.833333                          5856.087989\n",
       "1    0.000000  0.866667                          5855.675951\n",
       "2    0.045455  0.833333                          5844.286566\n",
       "3    0.045455  0.866667                          5845.395157\n",
       "4    0.045455  0.900000                          5846.219439\n",
       "..        ...       ...                                  ...\n",
       "509  1.000000  0.733333                          5594.640109\n",
       "510  1.000000  0.766667                          5593.227921\n",
       "511  1.000000  0.800000                          5579.298919\n",
       "512  1.000000  0.833333                          5581.151382\n",
       "513  1.000000  0.866667                          5579.344555\n",
       "\n",
       "[514 rows x 3 columns]"
      ]
     },
     "execution_count": 54,
     "metadata": {},
     "output_type": "execute_result"
    }
   ],
   "source": [
    "train_df.groupby(['lat', 'lon'])[check_col].mean().reset_index()"
   ]
  }
 ],
 "metadata": {
  "kernelspec": {
   "display_name": "wids-env",
   "language": "python",
   "name": "wids-env"
  },
  "language_info": {
   "codemirror_mode": {
    "name": "ipython",
    "version": 3
   },
   "file_extension": ".py",
   "mimetype": "text/x-python",
   "name": "python",
   "nbconvert_exporter": "python",
   "pygments_lexer": "ipython3",
   "version": "3.7.15"
  }
 },
 "nbformat": 4,
 "nbformat_minor": 5
}
