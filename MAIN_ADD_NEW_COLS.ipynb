{
 "cells": [
  {
   "cell_type": "code",
   "execution_count": 2,
   "id": "0ccac945",
   "metadata": {},
   "outputs": [],
   "source": [
    "import numpy as np\n",
    "import pandas as pd\n",
    "pd.set_option('display.max_columns', None)\n",
    "import matplotlib.pyplot as plt\n",
    "from sklearn.model_selection import train_test_split\n",
    "from sklearn import preprocessing\n",
    "from tqdm import tqdm\n",
    "from sklearn.preprocessing import FunctionTransformer\n",
    "import seaborn as sns \n",
    "from scipy import stats\n",
    "import statsmodels.api as sm\n",
    "\n",
    "from sklearn.ensemble import RandomForestRegressor, ExtraTreesRegressor, AdaBoostRegressor, BaggingRegressor, GradientBoostingRegressor\n",
    "from sklearn.tree import DecisionTreeRegressor\n",
    "from sklearn.linear_model import ElasticNet, Lasso\n",
    "from sklearn.feature_selection import SelectFromModel\n",
    "from sklearn.svm import SVR\n",
    "from sklearn.model_selection import KFold, cross_val_score\n",
    "from sklearn.pipeline import make_pipeline\n",
    "from sklearn.decomposition import PCA\n",
    "from sklearn.preprocessing import RobustScaler\n",
    "import h2o\n",
    "from h2o.automl import H2OAutoML\n",
    "from sklearn.base import BaseEstimator, TransformerMixin, RegressorMixin, clone\n",
    "from sklearn.neural_network import MLPRegressor\n",
    "from scipy.stats import norm\n",
    "import copy\n",
    "from sklearn.model_selection import KFold\n",
    "from catboost import CatBoostRegressor, Pool, metrics, cv\n",
    "import xgboost as xgb\n",
    "from scipy.stats import gmean\n",
    "from sklearn.impute import KNNImputer\n",
    "from sklearn.metrics import mean_squared_error\n",
    "from sklearn.preprocessing import LabelEncoder\n"
   ]
  },
  {
   "cell_type": "code",
   "execution_count": 58,
   "id": "f697be6e",
   "metadata": {},
   "outputs": [
    {
     "name": "stdout",
     "output_type": "stream",
     "text": [
      "startdate\n",
      "climateregions__climateregion\n"
     ]
    }
   ],
   "source": [
    "train_df =  pd.read_csv('sub_train.csv')\n",
    "test_df  =  pd.read_csv('sub_test.csv')\n",
    "for c in train_df.columns:\n",
    "    if train_df[c].dtypes != 'float64':\n",
    "        print(c)"
   ]
  },
  {
   "cell_type": "code",
   "execution_count": 21,
   "id": "9b5cbf8c",
   "metadata": {},
   "outputs": [
    {
     "name": "stdout",
     "output_type": "stream",
     "text": [
      "Main features: 59\n"
     ]
    }
   ],
   "source": [
    "exclude_cols = ['index', 'startdate']\n",
    "target=[\"contest-tmp2m-14d__tmp2m\"]\n",
    "main_attrs = [c for c in train_df.columns if c not in exclude_cols and c not in target]\n",
    "print(\"Main features:\", len(main_attrs))"
   ]
  },
  {
   "cell_type": "code",
   "execution_count": 27,
   "id": "0763b370",
   "metadata": {},
   "outputs": [],
   "source": [
    "n_train_df = pd.read_csv('n_train.csv')\n",
    "n_test_df = pd.read_csv('n_test.csv')"
   ]
  },
  {
   "cell_type": "code",
   "execution_count": 29,
   "id": "8e6ca38b",
   "metadata": {},
   "outputs": [
    {
     "name": "stdout",
     "output_type": "stream",
     "text": [
      "Main features: 260\n"
     ]
    }
   ],
   "source": [
    "exclude_cols = ['index', 'startdate']\n",
    "target=[\"contest-tmp2m-14d__tmp2m\"]\n",
    "n_main_attrs = [c for c in n_train_df.columns if c not in exclude_cols and c not in target]\n",
    "print(\"Main features:\", len(n_main_attrs))"
   ]
  },
  {
   "cell_type": "code",
   "execution_count": 36,
   "id": "a04c0c40",
   "metadata": {},
   "outputs": [],
   "source": [
    "diff_cols = ['contest-pevpr-sfc-gauss-14d__pevpr', 'year', 'nmme0-tmp2m-34w__cancm30']"
   ]
  },
  {
   "cell_type": "code",
   "execution_count": 56,
   "id": "898533e4",
   "metadata": {},
   "outputs": [
    {
     "data": {
      "text/plain": [
       "198"
      ]
     },
     "execution_count": 56,
     "metadata": {},
     "output_type": "execute_result"
    }
   ],
   "source": [
    "remain_cols = [c for c in n_main_attrs if c not in main_attrs and c not in diff_cols]\n",
    "len(remain_cols)"
   ]
  },
  {
   "cell_type": "code",
   "execution_count": 38,
   "id": "5b771539",
   "metadata": {},
   "outputs": [],
   "source": [
    "def train_model_by_X_y(_X, _y, iterations=5000):\n",
    "    skf = KFold(n_splits=5, random_state=2048, shuffle=True)\n",
    "    skf.get_n_splits(_X, _y)\n",
    "\n",
    "    train_index_list = []\n",
    "    test_index_list = []\n",
    "    train_x_list = []\n",
    "    val_x_list = []\n",
    "    train_y_list = []\n",
    "    val_y_list = []\n",
    "\n",
    "    for i, (train_index, test_index) in enumerate(skf.split(_X, _y)):\n",
    "        train_index_list.append(train_index)\n",
    "        test_index_list.append(test_index)\n",
    "\n",
    "        train_x_list.append(_X[train_index, :])\n",
    "        val_x_list.append(_X[test_index, :])\n",
    "        train_y_list.append(_y[train_index])\n",
    "        val_y_list.append(_y[test_index])    \n",
    "   \n",
    "\n",
    "    cat_models = []\n",
    "    for i in range(5):\n",
    "        train_x, val_x = train_x_list[i], val_x_list[i]\n",
    "        train_y, val_y = train_y_list[i], val_y_list[i],\n",
    "        clf = CatBoostRegressor(iterations=iterations, task_type=\"GPU\",\n",
    "                           devices='0:1')\n",
    "        clf.fit(train_x, train_y, eval_set=[(val_x, val_y)], verbose=5000, early_stopping_rounds=100)\n",
    "        cat_models.append(clf)\n",
    "    \n",
    "    return cat_models\n"
   ]
  },
  {
   "cell_type": "code",
   "execution_count": 39,
   "id": "1d5e0f93",
   "metadata": {},
   "outputs": [],
   "source": [
    "def cal_train_pred(models, _X):\n",
    "    preds = []\n",
    "    for model in models:\n",
    "        preds.append(model.predict(_X))\n",
    "    s = 0\n",
    "    for pred in preds:\n",
    "        s += pred\n",
    "    s = s/5\n",
    "    return s"
   ]
  },
  {
   "cell_type": "code",
   "execution_count": 40,
   "id": "139a73cf",
   "metadata": {},
   "outputs": [
    {
     "name": "stderr",
     "output_type": "stream",
     "text": [
      "\r",
      "0it [00:00, ?it/s]"
     ]
    },
    {
     "name": "stdout",
     "output_type": "stream",
     "text": [
      "Learning rate set to 0.072699\n",
      "0:\tlearn: 9.2412643\ttest: 9.2200410\tbest: 9.2200410 (0)\ttotal: 8.17ms\tremaining: 40.8s\n",
      "4999:\tlearn: 0.4021556\ttest: 0.4388699\tbest: 0.4388699 (4999)\ttotal: 27.4s\tremaining: 0us\n",
      "bestTest = 0.4388699426\n",
      "bestIteration = 4999\n",
      "Learning rate set to 0.072699\n",
      "0:\tlearn: 9.2327219\ttest: 9.2497618\tbest: 9.2497618 (0)\ttotal: 6.45ms\tremaining: 32.3s\n",
      "4999:\tlearn: 0.3997602\ttest: 0.4368011\tbest: 0.4368011 (4999)\ttotal: 27.6s\tremaining: 0us\n",
      "bestTest = 0.4368010784\n",
      "bestIteration = 4999\n",
      "Learning rate set to 0.072699\n",
      "0:\tlearn: 9.2294690\ttest: 9.2626367\tbest: 9.2626367 (0)\ttotal: 6.9ms\tremaining: 34.5s\n",
      "4999:\tlearn: 0.4008624\ttest: 0.4348661\tbest: 0.4348661 (4999)\ttotal: 27.8s\tremaining: 0us\n",
      "bestTest = 0.4348661472\n",
      "bestIteration = 4999\n",
      "Learning rate set to 0.072699\n",
      "0:\tlearn: 9.2364614\ttest: 9.2328684\tbest: 9.2328684 (0)\ttotal: 8.79ms\tremaining: 43.9s\n",
      "4999:\tlearn: 0.3997718\ttest: 0.4361639\tbest: 0.4361639 (4999)\ttotal: 28.1s\tremaining: 0us\n",
      "bestTest = 0.4361639228\n",
      "bestIteration = 4999\n",
      "Learning rate set to 0.072699\n",
      "0:\tlearn: 9.2419635\ttest: 9.2161663\tbest: 9.2161663 (0)\ttotal: 12.1ms\tremaining: 1m\n",
      "4999:\tlearn: 0.3960117\ttest: 0.4315487\tbest: 0.4315487 (4999)\ttotal: 27.7s\tremaining: 0us\n",
      "bestTest = 0.4315487074\n",
      "bestIteration = 4999\n"
     ]
    },
    {
     "name": "stderr",
     "output_type": "stream",
     "text": [
      "\r",
      "1it [03:26, 206.41s/it]"
     ]
    },
    {
     "name": "stdout",
     "output_type": "stream",
     "text": [
      "Learning rate set to 0.072699\n",
      "0:\tlearn: 9.2430576\ttest: 9.2218640\tbest: 9.2218640 (0)\ttotal: 13.8ms\tremaining: 1m 8s\n",
      "4999:\tlearn: 0.3934127\ttest: 0.4275707\tbest: 0.4275707 (4999)\ttotal: 29.2s\tremaining: 0us\n",
      "bestTest = 0.4275706869\n",
      "bestIteration = 4999\n",
      "Learning rate set to 0.072699\n",
      "0:\tlearn: 9.2343072\ttest: 9.2515312\tbest: 9.2515312 (0)\ttotal: 13ms\tremaining: 1m 5s\n",
      "4999:\tlearn: 0.3930593\ttest: 0.4278512\tbest: 0.4278512 (4999)\ttotal: 29.6s\tremaining: 0us\n",
      "bestTest = 0.4278511723\n",
      "bestIteration = 4999\n",
      "Learning rate set to 0.072699\n",
      "0:\tlearn: 9.2303827\ttest: 9.2642715\tbest: 9.2642715 (0)\ttotal: 8.13ms\tremaining: 40.7s\n",
      "4999:\tlearn: 0.3924475\ttest: 0.4252917\tbest: 0.4252917 (4999)\ttotal: 29.5s\tremaining: 0us\n",
      "bestTest = 0.4252917127\n",
      "bestIteration = 4999\n",
      "Learning rate set to 0.072699\n",
      "0:\tlearn: 9.2382092\ttest: 9.2349274\tbest: 9.2349274 (0)\ttotal: 6.94ms\tremaining: 34.7s\n",
      "4999:\tlearn: 0.3942015\ttest: 0.4297247\tbest: 0.4297247 (4999)\ttotal: 32s\tremaining: 0us\n",
      "bestTest = 0.4297247332\n",
      "bestIteration = 4999\n",
      "Learning rate set to 0.072699\n",
      "0:\tlearn: 9.2434075\ttest: 9.2171438\tbest: 9.2171438 (0)\ttotal: 8.83ms\tremaining: 44.1s\n",
      "4999:\tlearn: 0.3914955\ttest: 0.4278472\tbest: 0.4278472 (4999)\ttotal: 28.9s\tremaining: 0us\n",
      "bestTest = 0.4278472002\n",
      "bestIteration = 4999\n"
     ]
    },
    {
     "name": "stderr",
     "output_type": "stream",
     "text": [
      "\r",
      "2it [07:03, 212.76s/it]"
     ]
    },
    {
     "name": "stdout",
     "output_type": "stream",
     "text": [
      "Learning rate set to 0.072699\n",
      "0:\tlearn: 9.2391537\ttest: 9.2176412\tbest: 9.2176412 (0)\ttotal: 8.4ms\tremaining: 42s\n",
      "4999:\tlearn: 0.4091301\ttest: 0.4433913\tbest: 0.4433913 (4999)\ttotal: 28.3s\tremaining: 0us\n",
      "bestTest = 0.443391343\n",
      "bestIteration = 4999\n",
      "Learning rate set to 0.072699\n",
      "0:\tlearn: 9.2313695\ttest: 9.2479586\tbest: 9.2479586 (0)\ttotal: 7.09ms\tremaining: 35.5s\n",
      "4999:\tlearn: 0.4104239\ttest: 0.4451265\tbest: 0.4451265 (4999)\ttotal: 27.3s\tremaining: 0us\n",
      "bestTest = 0.4451264998\n",
      "bestIteration = 4999\n",
      "Learning rate set to 0.072699\n",
      "0:\tlearn: 9.2317000\ttest: 9.2655879\tbest: 9.2655879 (0)\ttotal: 6.97ms\tremaining: 34.8s\n",
      "4999:\tlearn: 0.4087512\ttest: 0.4441765\tbest: 0.4441765 (4999)\ttotal: 28s\tremaining: 0us\n",
      "bestTest = 0.4441765103\n",
      "bestIteration = 4999\n",
      "Learning rate set to 0.072699\n",
      "0:\tlearn: 9.2355083\ttest: 9.2332197\tbest: 9.2332197 (0)\ttotal: 6.36ms\tremaining: 31.8s\n",
      "4999:\tlearn: 0.4092102\ttest: 0.4455419\tbest: 0.4455419 (4999)\ttotal: 27.5s\tremaining: 0us\n",
      "bestTest = 0.4455419226\n",
      "bestIteration = 4999\n",
      "Learning rate set to 0.072699\n",
      "0:\tlearn: 9.2400248\ttest: 9.2135593\tbest: 9.2135593 (0)\ttotal: 7.18ms\tremaining: 35.9s\n",
      "4999:\tlearn: 0.4056688\ttest: 0.4422739\tbest: 0.4422739 (4999)\ttotal: 28.5s\tremaining: 0us\n",
      "bestTest = 0.4422739254\n",
      "bestIteration = 4999\n"
     ]
    },
    {
     "name": "stderr",
     "output_type": "stream",
     "text": [
      "\r",
      "3it [10:32, 210.87s/it]"
     ]
    },
    {
     "name": "stdout",
     "output_type": "stream",
     "text": [
      "Learning rate set to 0.072699\n",
      "0:\tlearn: 9.2399369\ttest: 9.2189216\tbest: 9.2189216 (0)\ttotal: 7.67ms\tremaining: 38.3s\n",
      "4999:\tlearn: 0.4044326\ttest: 0.4377866\tbest: 0.4377866 (4999)\ttotal: 29s\tremaining: 0us\n",
      "bestTest = 0.4377866061\n",
      "bestIteration = 4999\n",
      "Learning rate set to 0.072699\n",
      "0:\tlearn: 9.2328120\ttest: 9.2497528\tbest: 9.2497528 (0)\ttotal: 7.63ms\tremaining: 38.2s\n",
      "4999:\tlearn: 0.4048932\ttest: 0.4395789\tbest: 0.4395789 (4999)\ttotal: 27.6s\tremaining: 0us\n",
      "bestTest = 0.4395788932\n",
      "bestIteration = 4999\n",
      "Learning rate set to 0.072699\n",
      "0:\tlearn: 9.2306174\ttest: 9.2642683\tbest: 9.2642683 (0)\ttotal: 7.14ms\tremaining: 35.7s\n",
      "4999:\tlearn: 0.4054556\ttest: 0.4385410\tbest: 0.4385410 (4999)\ttotal: 26.7s\tremaining: 0us\n",
      "bestTest = 0.438541034\n",
      "bestIteration = 4999\n",
      "Learning rate set to 0.072699\n",
      "0:\tlearn: 9.2374137\ttest: 9.2350686\tbest: 9.2350686 (0)\ttotal: 7.4ms\tremaining: 37s\n",
      "4999:\tlearn: 0.4037815\ttest: 0.4381566\tbest: 0.4381566 (4999)\ttotal: 27.2s\tremaining: 0us\n",
      "bestTest = 0.4381566122\n",
      "bestIteration = 4999\n",
      "Learning rate set to 0.072699\n",
      "0:\tlearn: 9.2414944\ttest: 9.2150364\tbest: 9.2150364 (0)\ttotal: 6.65ms\tremaining: 33.2s\n",
      "4999:\tlearn: 0.4022290\ttest: 0.4394721\tbest: 0.4394721 (4999)\ttotal: 27.1s\tremaining: 0us\n",
      "bestTest = 0.4394721241\n",
      "bestIteration = 4999\n"
     ]
    },
    {
     "name": "stderr",
     "output_type": "stream",
     "text": [
      "\r",
      "4it [13:50, 205.94s/it]"
     ]
    },
    {
     "name": "stdout",
     "output_type": "stream",
     "text": [
      "Learning rate set to 0.072699\n",
      "0:\tlearn: 9.2404424\ttest: 9.2208279\tbest: 9.2208279 (0)\ttotal: 7.61ms\tremaining: 38s\n",
      "4999:\tlearn: 0.3884436\ttest: 0.4215482\tbest: 0.4215482 (4999)\ttotal: 29.5s\tremaining: 0us\n",
      "bestTest = 0.4215482027\n",
      "bestIteration = 4999\n",
      "Learning rate set to 0.072699\n",
      "0:\tlearn: 9.2334973\ttest: 9.2508896\tbest: 9.2508896 (0)\ttotal: 7.12ms\tremaining: 35.6s\n",
      "4999:\tlearn: 0.3882227\ttest: 0.4227087\tbest: 0.4227087 (4999)\ttotal: 29.5s\tremaining: 0us\n",
      "bestTest = 0.4227087018\n",
      "bestIteration = 4999\n",
      "Learning rate set to 0.072699\n",
      "0:\tlearn: 9.2300984\ttest: 9.2639648\tbest: 9.2639648 (0)\ttotal: 12.8ms\tremaining: 1m 4s\n",
      "4999:\tlearn: 0.3888803\ttest: 0.4226893\tbest: 0.4226893 (4999)\ttotal: 29.2s\tremaining: 0us\n",
      "bestTest = 0.4226892564\n",
      "bestIteration = 4999\n",
      "Learning rate set to 0.072699\n",
      "0:\tlearn: 9.2368007\ttest: 9.2340004\tbest: 9.2340004 (0)\ttotal: 7.16ms\tremaining: 35.8s\n",
      "4999:\tlearn: 0.3894633\ttest: 0.4231121\tbest: 0.4231121 (4999)\ttotal: 29.7s\tremaining: 0us\n",
      "bestTest = 0.4231120583\n",
      "bestIteration = 4999\n",
      "Learning rate set to 0.072699\n",
      "0:\tlearn: 9.2416928\ttest: 9.2148215\tbest: 9.2148215 (0)\ttotal: 7.33ms\tremaining: 36.6s\n",
      "4999:\tlearn: 0.3890521\ttest: 0.4259808\tbest: 0.4259808 (4999)\ttotal: 29.3s\tremaining: 0us\n",
      "bestTest = 0.4259807932\n",
      "bestIteration = 4999\n"
     ]
    },
    {
     "name": "stderr",
     "output_type": "stream",
     "text": [
      "5it [17:28, 209.65s/it]\n"
     ]
    }
   ],
   "source": [
    "number_features = np.random.randint(100, 202, 5)\n",
    "generate_feats = []\n",
    "list_features = []\n",
    "for i, num in tqdm(enumerate(number_features)):\n",
    "    list_feat = np.random.randint(0, len(remain_cols), num)\n",
    "    cols = []\n",
    "    for c in list_feat:\n",
    "        cols.append(remain_cols[c])\n",
    "    cols.append('contest-wind-h500-14d__wind-hgt-500')\n",
    "    cols = list(set(cols))\n",
    "    list_features.append(cols)\n",
    "    X = n_train_df[cols].values\n",
    "    y = np.array(n_train_df[target[0]].tolist())\n",
    "    cat_models = train_model_by_X_y(X, y)\n",
    "    generate_feats.append(f\"col_{i}\")\n",
    "    y_pred = cal_train_pred(cat_models, X)\n",
    "    train_df[f\"col_{i}\"] = y_pred\n",
    "    y_pred_test = cal_train_pred(cat_models, n_test_df[cols].values)\n",
    "    test_df[f\"col_{i}\"] = y_pred_test\n"
   ]
  },
  {
   "cell_type": "code",
   "execution_count": 48,
   "id": "94926519",
   "metadata": {},
   "outputs": [],
   "source": [
    "import pickle\n",
    "with open('./train_deep.pkl', 'wb') as fout:\n",
    "        pickle.dump(train_df[generate_feats], fout)\n",
    "\n",
    "with open('./test_deep.pkl', 'wb') as fout:\n",
    "    pickle.dump(test_df[generate_feats], fout)\n",
    "\n",
    "with open('./list_features.pkl', 'wb') as fout:\n",
    "    pickle.dump(list_features, fout)"
   ]
  },
  {
   "cell_type": "code",
   "execution_count": 49,
   "id": "333ed506",
   "metadata": {},
   "outputs": [
    {
     "name": "stdout",
     "output_type": "stream",
     "text": [
      "Main features: 64\n"
     ]
    }
   ],
   "source": [
    "exclude_cols = ['index', 'startdate']\n",
    "target=[\"contest-tmp2m-14d__tmp2m\"]\n",
    "main_attrs = [c for c in train_df.columns if c not in exclude_cols and c not in target]\n",
    "print(\"Main features:\", len(main_attrs))"
   ]
  },
  {
   "cell_type": "code",
   "execution_count": 60,
   "id": "31be772a",
   "metadata": {},
   "outputs": [],
   "source": [
    "X = n_train_df[remain_cols].values\n",
    "Xtest = n_test_df[remain_cols].values\n",
    "y = n_train_df[target[0]]"
   ]
  },
  {
   "cell_type": "code",
   "execution_count": 61,
   "id": "ab5ce79b",
   "metadata": {},
   "outputs": [
    {
     "name": "stdout",
     "output_type": "stream",
     "text": [
      "Learning rate set to 0.072699\n",
      "0:\tlearn: 9.2454976\ttest: 9.2249389\tbest: 9.2249389 (0)\ttotal: 7.57ms\tremaining: 37.9s\n",
      "4999:\tlearn: 0.3837964\ttest: 0.4185416\tbest: 0.4185416 (4999)\ttotal: 34s\tremaining: 0us\n",
      "bestTest = 0.4185415674\n",
      "bestIteration = 4999\n",
      "Learning rate set to 0.072699\n",
      "0:\tlearn: 9.2373877\ttest: 9.2540063\tbest: 9.2540063 (0)\ttotal: 10.2ms\tremaining: 51.2s\n",
      "4999:\tlearn: 0.3846511\ttest: 0.4208790\tbest: 0.4208790 (4999)\ttotal: 37.1s\tremaining: 0us\n",
      "bestTest = 0.4208789724\n",
      "bestIteration = 4999\n",
      "Learning rate set to 0.072699\n",
      "0:\tlearn: 9.2317342\ttest: 9.2654284\tbest: 9.2654284 (0)\ttotal: 7.75ms\tremaining: 38.8s\n",
      "4999:\tlearn: 0.3856827\ttest: 0.4196351\tbest: 0.4196351 (4999)\ttotal: 33.9s\tremaining: 0us\n",
      "bestTest = 0.4196351183\n",
      "bestIteration = 4999\n",
      "Learning rate set to 0.072699\n",
      "0:\tlearn: 9.2418356\ttest: 9.2387995\tbest: 9.2387995 (0)\ttotal: 8.02ms\tremaining: 40.1s\n",
      "4999:\tlearn: 0.3845962\ttest: 0.4205554\tbest: 0.4205554 (4999)\ttotal: 33.7s\tremaining: 0us\n",
      "bestTest = 0.420555399\n",
      "bestIteration = 4999\n",
      "Learning rate set to 0.072699\n",
      "0:\tlearn: 9.2462997\ttest: 9.2208878\tbest: 9.2208878 (0)\ttotal: 7.95ms\tremaining: 39.8s\n",
      "4999:\tlearn: 0.3856842\ttest: 0.4232334\tbest: 0.4232334 (4999)\ttotal: 33.6s\tremaining: 0us\n",
      "bestTest = 0.4232333975\n",
      "bestIteration = 4999\n"
     ]
    }
   ],
   "source": [
    "cat_models = train_model_by_X_y(X, y)"
   ]
  },
  {
   "cell_type": "code",
   "execution_count": 64,
   "id": "dee3912b",
   "metadata": {},
   "outputs": [
    {
     "name": "stderr",
     "output_type": "stream",
     "text": [
      "100%|████████████████████████████████████████████████████████████████████████████████████████| 5/5 [00:00<00:00, 39.02it/s]\n"
     ]
    },
    {
     "name": "stdout",
     "output_type": "stream",
     "text": [
      "cos_sim with best submission: 0.9936021707189874\n"
     ]
    }
   ],
   "source": [
    "preds = []\n",
    "for cat_model in tqdm(cat_models):\n",
    "    preds.append(cat_model.predict(Xtest))\n",
    "s = 0\n",
    "for pred in preds:\n",
    "    s += pred\n",
    "s = s/5\n",
    "best_df = pd.read_csv('best_sub.csv')\n",
    "y_best = best_df[target[0]].values\n",
    "df = pd.read_csv('./sample_solution.csv')\n",
    "df['contest-tmp2m-14d__tmp2m'] = s * 0.05 + y_best * 0.95\n",
    "df.to_csv('submission_corr_important_with_more.csv', index=False)\n",
    "\n",
    "\n",
    "\n",
    "from numpy import dot\n",
    "from numpy.linalg import norm\n",
    "\n",
    "cos_sim = dot(y_best, s)/(norm(y_best)*norm(s))\n",
    "print(\"cos_sim with best submission:\", cos_sim)"
   ]
  },
  {
   "cell_type": "code",
   "execution_count": 47,
   "id": "34399456",
   "metadata": {},
   "outputs": [
    {
     "data": {
      "text/plain": [
       "array([28.59100774, 28.47203279, 27.73160931, ...,  0.97160002,\n",
       "        0.4896039 ,  0.21563204])"
      ]
     },
     "execution_count": 47,
     "metadata": {},
     "output_type": "execute_result"
    }
   ],
   "source": [
    "s"
   ]
  }
 ],
 "metadata": {
  "kernelspec": {
   "display_name": "wids-env",
   "language": "python",
   "name": "wids-env"
  },
  "language_info": {
   "codemirror_mode": {
    "name": "ipython",
    "version": 3
   },
   "file_extension": ".py",
   "mimetype": "text/x-python",
   "name": "python",
   "nbconvert_exporter": "python",
   "pygments_lexer": "ipython3",
   "version": "3.7.15"
  }
 },
 "nbformat": 4,
 "nbformat_minor": 5
}
