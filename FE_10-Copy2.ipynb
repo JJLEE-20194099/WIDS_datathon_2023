{
 "cells": [
  {
   "cell_type": "code",
   "execution_count": 1,
   "id": "3048a728",
   "metadata": {},
   "outputs": [],
   "source": [
    "import numpy as np\n",
    "import pandas as pd\n",
    "import seaborn as sns\n",
    "import torch\n",
    "import torch.nn as nn\n",
    "import torch.nn.functional as f\n",
    "pd.set_option('display.max_columns', None)\n",
    "import matplotlib.pyplot as plt\n",
    "from sklearn.model_selection import train_test_split\n",
    "from torch.utils.data import DataLoader\n",
    "from sklearn import preprocessing\n",
    "from tqdm import tqdm\n",
    "from sklearn.preprocessing import FunctionTransformer\n",
    "import seaborn as sns \n",
    "from scipy import stats\n",
    "import statsmodels.api as sm\n",
    "\n",
    "from sklearn.ensemble import RandomForestRegressor, ExtraTreesRegressor, AdaBoostRegressor, BaggingRegressor, GradientBoostingRegressor\n",
    "from sklearn.tree import DecisionTreeRegressor\n",
    "from sklearn.linear_model import ElasticNet, Lasso\n",
    "from sklearn.feature_selection import SelectFromModel\n",
    "from sklearn.svm import SVR\n",
    "from sklearn.model_selection import KFold, cross_val_score\n",
    "from sklearn.pipeline import make_pipeline\n",
    "from sklearn.decomposition import PCA\n",
    "from sklearn.preprocessing import RobustScaler\n",
    "import h2o\n",
    "from h2o.automl import H2OAutoML\n",
    "from sklearn.base import BaseEstimator, TransformerMixin, RegressorMixin, clone\n",
    "from sklearn.neural_network import MLPRegressor\n",
    "from scipy.stats import norm\n",
    "import copy\n",
    "from sklearn.model_selection import KFold\n",
    "from catboost import CatBoostRegressor, Pool, metrics, cv\n",
    "import xgboost as xgb\n",
    "from scipy.stats import gmean\n",
    "from sklearn.impute import KNNImputer\n",
    "from sklearn.metrics import mean_squared_error\n",
    "from sklearn.preprocessing import LabelEncoder\n"
   ]
  },
  {
   "cell_type": "code",
   "execution_count": 2,
   "id": "f24442f2",
   "metadata": {},
   "outputs": [],
   "source": [
    "add_train = pd.read_csv('./n_train.csv')\n",
    "add_test = pd.read_csv('./n_test.csv')"
   ]
  },
  {
   "cell_type": "code",
   "execution_count": 3,
   "id": "1527c814",
   "metadata": {},
   "outputs": [
    {
     "data": {
      "text/plain": [
       "['sst-2010-1',\n",
       " 'sst-2010-2',\n",
       " 'sst-2010-3',\n",
       " 'sst-2010-4',\n",
       " 'sst-2010-5',\n",
       " 'sst-2010-6',\n",
       " 'sst-2010-7',\n",
       " 'sst-2010-8',\n",
       " 'sst-2010-9',\n",
       " 'sst-2010-10']"
      ]
     },
     "execution_count": 3,
     "metadata": {},
     "output_type": "execute_result"
    }
   ],
   "source": [
    "sst_col_list = [c for c in add_train.columns if 'sst' in c]\n",
    "sst_col_list"
   ]
  },
  {
   "cell_type": "code",
   "execution_count": 4,
   "id": "1f87d634",
   "metadata": {},
   "outputs": [],
   "source": [
    "train_df = pd.read_csv('./fe_v2_train_076.csv')\n",
    "test_df = pd.read_csv('./fe_v2_test_076.csv')"
   ]
  },
  {
   "cell_type": "code",
   "execution_count": 5,
   "id": "311af197",
   "metadata": {},
   "outputs": [],
   "source": [
    "exclude_cols = ['index', 'startdate']\n",
    "embedding_attrs = ['climateregions__climateregion']\n",
    "target=[\"contest-tmp2m-14d__tmp2m\"]"
   ]
  },
  {
   "cell_type": "code",
   "execution_count": 6,
   "id": "43f40a58",
   "metadata": {},
   "outputs": [
    {
     "name": "stdout",
     "output_type": "stream",
     "text": [
      "Main features: 129\n"
     ]
    }
   ],
   "source": [
    "main_attrs = [c for c in train_df.columns if c not in exclude_cols and c not in target]\n",
    "print(\"Main features:\", len(main_attrs))"
   ]
  },
  {
   "cell_type": "code",
   "execution_count": 7,
   "id": "f26e95f0",
   "metadata": {},
   "outputs": [],
   "source": [
    "group_cols = ['loc_group', 'climate_type', 'year', 'season', 'month']\n",
    "season_group_cols = ['loc_group', 'climate_type', 'year', 'season']"
   ]
  },
  {
   "cell_type": "code",
   "execution_count": 8,
   "id": "5af736a3",
   "metadata": {},
   "outputs": [],
   "source": [
    "best_cols = ['contest-wind-h500-14d__wind-hgt-500',\n",
    " 'contest-slp-14d__slp',\n",
    " 'nmme-tmp2m-34w__ccsm3',\n",
    " 'elevation__elevation',\n",
    " 'lon',\n",
    " 'contest-prwtr-eatm-14d__prwtr',\n",
    " 'lat',\n",
    " 'climateregions__climateregion',\n",
    " 'contest-pres-sfc-gauss-14d__pres',\n",
    " 'season_sin',\n",
    " 'day_of_year_sin',\n",
    " 'contest-precip-14d__precip',\n",
    " 'contest-wind-uwnd-250-14d__wind-uwnd-250',\n",
    " 'nmme-prate-34w__cfsv2',\n",
    " 'nmme-prate-34w__nasa',\n",
    " 'nmme-prate-56w__gfdlflora',\n",
    " 'wind-uwnd-250-2010-7',\n",
    " 'contest-wind-vwnd-925-14d__wind-vwnd-925',\n",
    " 'nmme-prate-34w__nmmemean',\n",
    " 'nmme0-prate-34w__ccsm30',\n",
    " 'contest-wind-h850-14d__wind-hgt-850',\n",
    " 'contest-wind-uwnd-925-14d__wind-uwnd-925',\n",
    " 'nmme0-prate-56w__cfsv20',\n",
    " 'nmme-prate-34w__cancm3',\n",
    " 'contest-rhum-sig995-14d__rhum',\n",
    " 'nmme-prate-34w__gfdlflorb',\n",
    " 'wind-hgt-850-2010-4',\n",
    " 'contest-wind-vwnd-250-14d__wind-vwnd-250',\n",
    " 'wind-hgt-100-2010-2',\n",
    " 'wind-uwnd-250-2010-18',\n",
    " 'wind-hgt-10-2010-5',\n",
    " 'wind-uwnd-250-2010-15',\n",
    " 'wind-uwnd-250-2010-4',\n",
    " 'nmme0-prate-56w__nasa0',\n",
    " 'nmme0-prate-34w__cfsv20',\n",
    " 'wind-vwnd-250-2010-10',\n",
    " 'contest-wind-h10-14d__wind-hgt-10',\n",
    " 'wind-uwnd-925-2010-15',\n",
    " 'wind-vwnd-250-2010-3',\n",
    " 'nmme-prate-34w__cancm4',\n",
    " 'sst-2010-4',\n",
    " 'nmme0-prate-56w__ccsm30',\n",
    " 'wind-uwnd-250-2010-16',\n",
    " 'nmme0-prate-34w__gfdl0',\n",
    " 'nmme0-prate-56w__cancm40',\n",
    " 'sst-2010-1',\n",
    " 'sst-2010-3',\n",
    " 'wind-uwnd-250-2010-14',\n",
    " 'nmme0-prate-34w__gfdlflora0',\n",
    " 'nmme-prate-34w__gfdl',\n",
    " 'wind-hgt-850-2010-9',\n",
    " 'wind-vwnd-250-2010-1',\n",
    " 'sst-2010-5',\n",
    " 'cancm30',\n",
    " 'nmme-prate-34w__ccsm4',\n",
    " 'nmme0-prate-34w__nasa0',\n",
    " 'wind-hgt-500-2010-9',\n",
    " 'nmme0-prate-34w__cancm30',\n",
    " 'wind-vwnd-250-2010-13',\n",
    " 'wind_diff',\n",
    " 'wind_diff_min',\n",
    " 'wind_diff_min_month',\n",
    " 'wind_diff_month',\n",
    " 'diff_slp_first',\n",
    " 'diff_wind_first',\n",
    " 'diff_precip_first',\n",
    " 'diff_sst_10_first',\n",
    " 'diff_sst_10_min',\n",
    " 'diff_sst_10_max',\n",
    " 'range_sst_10',\n",
    " 'scale_sst_10',\n",
    " 'diff_sst_9_first',\n",
    " 'diff_sst_9_min',\n",
    " 'diff_sst_9_max',\n",
    " 'range_sst_9',\n",
    " 'scale_sst_9',\n",
    " 'diff_sst_8_first',\n",
    " 'diff_sst_8_min',\n",
    " 'diff_sst_8_max',\n",
    " 'range_sst_8',\n",
    " 'scale_sst_8',\n",
    " 'diff_sst_7_first',\n",
    " 'diff_sst_7_min',\n",
    " 'diff_sst_7_max',\n",
    " 'range_sst_7',\n",
    " 'scale_sst_7',\n",
    " 'diff_sst_6_first',\n",
    " 'diff_sst_6_min',\n",
    " 'diff_sst_6_max',\n",
    " 'range_sst_6',\n",
    " 'scale_sst_6',\n",
    " 'diff_sst_1_first',\n",
    " 'diff_sst_1_min',\n",
    " 'diff_sst_1_max',\n",
    " 'range_sst_1',\n",
    " 'scale_sst_1',\n",
    " 'diff_sst_2_first',\n",
    " 'diff_sst_2_min',\n",
    " 'diff_sst_2_max',\n",
    " 'range_sst_2',\n",
    " 'scale_sst_2',\n",
    " 'diff_sst_3_first',\n",
    " 'diff_sst_3_min',\n",
    " 'diff_sst_3_max',\n",
    " 'range_sst_3',\n",
    " 'scale_sst_3',\n",
    " 'diff_sst_4_first',\n",
    " 'diff_sst_4_min',\n",
    " 'diff_sst_4_max',\n",
    " 'range_sst_4',\n",
    " 'scale_sst_4',\n",
    " 'diff_sst_5_first',\n",
    " 'diff_sst_5_min',\n",
    " 'diff_sst_5_max',\n",
    " 'range_sst_5',\n",
    " 'scale_sst_5']"
   ]
  },
  {
   "cell_type": "code",
   "execution_count": 9,
   "id": "53ec3e42",
   "metadata": {},
   "outputs": [
    {
     "name": "stdout",
     "output_type": "stream",
     "text": [
      "Len: 116\n"
     ]
    }
   ],
   "source": [
    "print(\"Len:\", len(best_cols))"
   ]
  },
  {
   "cell_type": "code",
   "execution_count": 10,
   "id": "5622c8be",
   "metadata": {},
   "outputs": [],
   "source": [
    "def assign_train_test_df(df, my_col):\n",
    "    train_df[my_col] = df[:len(train_df)][my_col].tolist()\n",
    "    test_df[my_col] = df[len(train_df):][my_col].tolist()\n",
    "    return df\n",
    "\n",
    "def create_df_by_group_and_agg(dataframe, grouped_cols, action, my_col, return_name):\n",
    "    if action == \"first\":\n",
    "        ans_df = dataframe.groupby(grouped_cols)[my_col].first().reset_index()\n",
    "    elif action == \"min\":\n",
    "        ans_df = dataframe.groupby(grouped_cols)[my_col].min().reset_index()\n",
    "    elif action == \"max\":\n",
    "        ans_df = dataframe.groupby(grouped_cols)[my_col].max().reset_index()\n",
    "    elif action == \"mean\":\n",
    "        ans_df = dataframe.groupby(grouped_cols)[my_col].mean().reset_index()\n",
    "    print(\"Nan\")\n",
    "    ans_df = ans_df.rename(columns={my_col: return_name})\n",
    "    for c in ans_df.columns:\n",
    "        if ans_df[c].isnull().sum() > 0:\n",
    "            print(c, ans_df[c].isnull().sum())\n",
    "    return ans_df\n",
    "\n",
    "def create_feature(df, alias_name, col_name, suffix_num, season_group_cols):\n",
    "    first_df = create_df_by_group_and_agg(df, season_group_cols, \"first\", col_name, f\"first_{alias_name}_{suffix_num}\")\n",
    "    min_df = create_df_by_group_and_agg(df, season_group_cols, \"min\", col_name, f\"min_{alias_name}_{suffix_num}\")\n",
    "    max_df = create_df_by_group_and_agg(df, season_group_cols, \"max\", col_name, f\"max_{alias_name}_{suffix_num}\")\n",
    "    \n",
    "    df = df.merge(first_df, how='left', on=season_group_cols)\n",
    "    df[f'diff_{alias_name}_{suffix_num}_first'] = df[col_name] - df[f\"first_{alias_name}_{suffix_num}\"]\n",
    "    df = assign_train_test_df(df, f'diff_{alias_name}_{suffix_num}_first')\n",
    "    \n",
    "    df = df.merge(min_df, how='left', on=season_group_cols)\n",
    "    df[f'diff_{alias_name}_{suffix_num}_min'] = df[col_name] - df[f\"min_{alias_name}_{suffix_num}\"]\n",
    "    df = assign_train_test_df(df, f'diff_{alias_name}_{suffix_num}_min')\n",
    "    \n",
    "    df = df.merge(max_df, how='left', on=season_group_cols)\n",
    "    df[f'diff_{alias_name}_{suffix_num}_max'] = df[col_name] - df[f\"max_{alias_name}_{suffix_num}\"]\n",
    "    df = assign_train_test_df(df, f'diff_{alias_name}_{suffix_num}_max')\n",
    "    \n",
    "    df[f'range_{alias_name}_{suffix_num}'] = df[f\"max_{alias_name}_{suffix_num}\"] - df[f\"min_{alias_name}_{suffix_num}\"]\n",
    "    df = assign_train_test_df(df, f'range_{alias_name}_{suffix_num}')\n",
    "    \n",
    "    df[f'scale_{alias_name}_{suffix_num}'] = (df[col_name] - df[f\"min_{alias_name}_{suffix_num}\"]) / df[f'range_{alias_name}_{suffix_num}']\n",
    "    df = assign_train_test_df(df, f'scale_{alias_name}_{suffix_num}')\n",
    "    \n",
    "    return [df, f'diff_{alias_name}_{suffix_num}_first',\n",
    "   f'diff_{alias_name}_{suffix_num}_min',\n",
    "    f'diff_{alias_name}_{suffix_num}_max',\n",
    "    f'range_{alias_name}_{suffix_num}', f'scale_{alias_name}_{suffix_num}']"
   ]
  },
  {
   "cell_type": "code",
   "execution_count": 11,
   "id": "c28e108e",
   "metadata": {},
   "outputs": [],
   "source": [
    "slp_col = 'contest-slp-14d__slp'\n",
    "ccsm3_col = 'nmme-tmp2m-34w__ccsm3'\n",
    "pres_col = 'contest-pres-sfc-gauss-14d__pres'\n",
    "precip_col = 'contest-precip-14d__precip'\n",
    "poten_col = 'contest-pevpr-sfc-gauss-14d__pevpr'\n",
    "rhum_col = 'contest-rhum-sig995-14d__rhum'\n",
    "elevation_col = 'elevation__elevation'\n",
    "wind_col_10 = 'contest-wind-h10-14d__wind-hgt-10'\n",
    "sst_1_col = 'sst-2010-1'\n",
    "sst_5_col = 'sst-2010-5'\n",
    "sst_3_col = 'sst-2010-3'\n",
    "sst_4_col = 'sst-2010-4'\n",
    "sst_6_col = 'sst-2010-6'\n",
    "sst_7_col = 'sst-2010-7'\n",
    "sst_8_col = 'sst-2010-8'\n",
    "sst_9_col = 'sst-2010-9'\n",
    "sst_10_col = 'sst-2010-10'"
   ]
  },
  {
   "cell_type": "code",
   "execution_count": 12,
   "id": "391b755f",
   "metadata": {},
   "outputs": [],
   "source": [
    "train_df[sst_col_list] = add_train[sst_col_list]\n",
    "test_df[sst_col_list] = add_test[sst_col_list]"
   ]
  },
  {
   "cell_type": "code",
   "execution_count": 13,
   "id": "a8f1852d",
   "metadata": {},
   "outputs": [
    {
     "data": {
      "text/plain": [
       "(407088, 129)"
      ]
     },
     "execution_count": 13,
     "metadata": {},
     "output_type": "execute_result"
    }
   ],
   "source": [
    "df = pd.concat([train_df[main_attrs], test_df[main_attrs]], axis=0)\n",
    "df.shape"
   ]
  },
  {
   "cell_type": "code",
   "execution_count": 14,
   "id": "1afddcf4",
   "metadata": {},
   "outputs": [
    {
     "name": "stdout",
     "output_type": "stream",
     "text": [
      "Nan\n",
      "Nan\n",
      "Nan\n"
     ]
    }
   ],
   "source": [
    "pres_res = create_feature(df, 'pres', pres_col, 1, season_group_cols)\n",
    "df = pres_res[0]\n",
    "pres_feature = pres_res[1:]"
   ]
  },
  {
   "cell_type": "code",
   "execution_count": 15,
   "id": "26206a1b",
   "metadata": {},
   "outputs": [
    {
     "name": "stdout",
     "output_type": "stream",
     "text": [
      "Nan\n",
      "Nan\n",
      "Nan\n"
     ]
    }
   ],
   "source": [
    "slp_res = create_feature(df, 'slp', slp_col, 1, season_group_cols)\n",
    "df = slp_res[0]\n",
    "slp_feature = slp_res[1:]"
   ]
  },
  {
   "cell_type": "code",
   "execution_count": 16,
   "id": "89b9d27b",
   "metadata": {},
   "outputs": [
    {
     "name": "stdout",
     "output_type": "stream",
     "text": [
      "Nan\n",
      "Nan\n",
      "Nan\n"
     ]
    }
   ],
   "source": [
    "precip_res = create_feature(df, 'precip', precip_col, 1, season_group_cols)\n",
    "df = precip_res[0]\n",
    "precip_feature = precip_res[1:]"
   ]
  },
  {
   "cell_type": "code",
   "execution_count": 17,
   "id": "824d5a90",
   "metadata": {},
   "outputs": [
    {
     "name": "stdout",
     "output_type": "stream",
     "text": [
      "Nan\n",
      "Nan\n",
      "Nan\n"
     ]
    }
   ],
   "source": [
    "sst_1_month_res = create_feature(df, 'sst_1_month', sst_1_col, 1, group_cols)\n",
    "df = sst_1_month_res[0]\n",
    "sst_1_month_feature = sst_1_month_res[1:]"
   ]
  },
  {
   "cell_type": "code",
   "execution_count": 18,
   "id": "24d5bc14",
   "metadata": {},
   "outputs": [
    {
     "name": "stdout",
     "output_type": "stream",
     "text": [
      "Nan\n",
      "Nan\n",
      "Nan\n"
     ]
    }
   ],
   "source": [
    "sst_5_month_res = create_feature(df, 'sst_5_month', sst_5_col, 1, group_cols)\n",
    "df = sst_5_month_res[0]\n",
    "sst_5_month_feature = sst_5_month_res[1:]"
   ]
  },
  {
   "cell_type": "code",
   "execution_count": 19,
   "id": "483eef71",
   "metadata": {},
   "outputs": [
    {
     "name": "stdout",
     "output_type": "stream",
     "text": [
      "Nan\n",
      "Nan\n",
      "Nan\n"
     ]
    }
   ],
   "source": [
    "sst_3_month_res = create_feature(df, 'sst_3_month', sst_3_col, 1, group_cols)\n",
    "df = sst_3_month_res[0]\n",
    "sst_3_month_feature = sst_3_month_res[1:]"
   ]
  },
  {
   "cell_type": "code",
   "execution_count": 20,
   "id": "7f571b0b",
   "metadata": {},
   "outputs": [
    {
     "name": "stdout",
     "output_type": "stream",
     "text": [
      "Nan\n",
      "Nan\n",
      "Nan\n"
     ]
    }
   ],
   "source": [
    "sst_4_month_res = create_feature(df, 'sst_4_month', sst_4_col, 1, group_cols)\n",
    "df = sst_4_month_res[0]\n",
    "sst_4_month_feature = sst_4_month_res[1:]"
   ]
  },
  {
   "cell_type": "code",
   "execution_count": 21,
   "id": "fae62d59",
   "metadata": {},
   "outputs": [
    {
     "name": "stdout",
     "output_type": "stream",
     "text": [
      "Nan\n",
      "Nan\n",
      "Nan\n"
     ]
    }
   ],
   "source": [
    "sst_6_month_res = create_feature(df, 'sst_6_month', sst_6_col, 1, group_cols)\n",
    "df = sst_6_month_res[0]\n",
    "sst_6_month_feature = sst_6_month_res[1:]"
   ]
  },
  {
   "cell_type": "code",
   "execution_count": 22,
   "id": "cf4c2248",
   "metadata": {},
   "outputs": [
    {
     "name": "stdout",
     "output_type": "stream",
     "text": [
      "Nan\n",
      "Nan\n",
      "Nan\n"
     ]
    }
   ],
   "source": [
    "wind_10_res = create_feature(df, 'wind_10', wind_col_10, 1, season_group_cols)\n",
    "df = wind_10_res[0]\n",
    "wind_10_feature = wind_10_res[1:]"
   ]
  },
  {
   "cell_type": "code",
   "execution_count": 23,
   "id": "33cca268",
   "metadata": {},
   "outputs": [
    {
     "name": "stdout",
     "output_type": "stream",
     "text": [
      "Nan\n",
      "Nan\n",
      "Nan\n"
     ]
    }
   ],
   "source": [
    "wind_10_res_month = create_feature(df, 'wind_10_month', wind_col_10, 1, group_cols)\n",
    "df = wind_10_res_month[0]\n",
    "wind_10_month_feature = wind_10_res_month[1:]"
   ]
  },
  {
   "cell_type": "code",
   "execution_count": 24,
   "id": "98dcfad1",
   "metadata": {},
   "outputs": [],
   "source": [
    "modified_best_cols = [c for c in best_cols]"
   ]
  },
  {
   "cell_type": "code",
   "execution_count": 42,
   "id": "ef39c53e",
   "metadata": {},
   "outputs": [],
   "source": [
    "# df['sst_1_lag_1'] = df.groupby(group_cols)[sst_1_col].shift(1)\n",
    "# df = assign_train_test_df(df, 'sst_1_lag_1')\n",
    "\n",
    "# df['sst_1_lag_2'] = df.groupby(group_cols)[sst_1_col].shift(2)\n",
    "# df = assign_train_test_df(df, 'sst_1_lag_2')\n",
    "\n",
    "# df['sst_1_lag_3'] = df.groupby(group_cols)[sst_1_col].shift(3)\n",
    "# df = assign_train_test_df(df, 'sst_1_lag_3')\n",
    "\n",
    "df['sst_5_lag_1'] = df.groupby(group_cols)[sst_5_col].shift(1)\n",
    "df = assign_train_test_df(df, 'sst_5_lag_1')"
   ]
  },
  {
   "cell_type": "code",
   "execution_count": null,
   "id": "5c6bb742",
   "metadata": {},
   "outputs": [],
   "source": []
  },
  {
   "cell_type": "code",
   "execution_count": 43,
   "id": "975a1268",
   "metadata": {},
   "outputs": [],
   "source": [
    "features = modified_best_cols + pres_feature + sst_1_month_feature + ['sst_1_lag_1', 'sst_5_lag_1']"
   ]
  },
  {
   "cell_type": "code",
   "execution_count": 45,
   "id": "f97c8fd2",
   "metadata": {},
   "outputs": [],
   "source": [
    "# features"
   ]
  },
  {
   "cell_type": "code",
   "execution_count": 46,
   "id": "54ae112e",
   "metadata": {},
   "outputs": [
    {
     "name": "stderr",
     "output_type": "stream",
     "text": [
      "5it [00:08,  1.74s/it]\n"
     ]
    },
    {
     "name": "stdout",
     "output_type": "stream",
     "text": [
      "(375734, 128) (375734,)\n"
     ]
    },
    {
     "name": "stderr",
     "output_type": "stream",
     "text": [
      "\r",
      "  0%|                                                                                                | 0/5 [00:00<?, ?it/s]"
     ]
    },
    {
     "name": "stdout",
     "output_type": "stream",
     "text": [
      "Learning rate set to 0.072699\n",
      "0:\tlearn: 9.2611105\ttest: 9.2407165\tbest: 9.2407165 (0)\ttotal: 6.42ms\tremaining: 32.1s\n",
      "200:\tlearn: 1.1674178\ttest: 1.1730383\tbest: 1.1730383 (200)\ttotal: 1.08s\tremaining: 25.9s\n",
      "400:\tlearn: 0.9139139\ttest: 0.9227852\tbest: 0.9227852 (400)\ttotal: 2.13s\tremaining: 24.4s\n",
      "600:\tlearn: 0.7886693\ttest: 0.7993508\tbest: 0.7993508 (600)\ttotal: 3.2s\tremaining: 23.4s\n",
      "800:\tlearn: 0.6999593\ttest: 0.7126921\tbest: 0.7126921 (800)\ttotal: 4.21s\tremaining: 22.1s\n",
      "1000:\tlearn: 0.6447686\ttest: 0.6590992\tbest: 0.6590992 (1000)\ttotal: 5.22s\tremaining: 20.9s\n",
      "1200:\tlearn: 0.5998430\ttest: 0.6154647\tbest: 0.6154647 (1200)\ttotal: 6.33s\tremaining: 20s\n",
      "1400:\tlearn: 0.5629173\ttest: 0.5797005\tbest: 0.5797005 (1400)\ttotal: 7.43s\tremaining: 19.1s\n",
      "1600:\tlearn: 0.5344115\ttest: 0.5519604\tbest: 0.5519604 (1600)\ttotal: 8.43s\tremaining: 17.9s\n",
      "1800:\tlearn: 0.5096265\ttest: 0.5282609\tbest: 0.5282609 (1800)\ttotal: 9.52s\tremaining: 16.9s\n",
      "2000:\tlearn: 0.4872345\ttest: 0.5065798\tbest: 0.5065798 (2000)\ttotal: 10.5s\tremaining: 15.7s\n",
      "2200:\tlearn: 0.4677581\ttest: 0.4878489\tbest: 0.4878489 (2200)\ttotal: 11.5s\tremaining: 14.6s\n",
      "2400:\tlearn: 0.4503793\ttest: 0.4712366\tbest: 0.4712366 (2400)\ttotal: 12.5s\tremaining: 13.5s\n",
      "2600:\tlearn: 0.4347288\ttest: 0.4563555\tbest: 0.4563555 (2600)\ttotal: 13.6s\tremaining: 12.5s\n",
      "2800:\tlearn: 0.4211121\ttest: 0.4435049\tbest: 0.4435049 (2800)\ttotal: 14.6s\tremaining: 11.4s\n",
      "3000:\tlearn: 0.4085617\ttest: 0.4315951\tbest: 0.4315951 (3000)\ttotal: 15.6s\tremaining: 10.4s\n",
      "3200:\tlearn: 0.3967723\ttest: 0.4204162\tbest: 0.4204162 (3200)\ttotal: 16.6s\tremaining: 9.35s\n",
      "3400:\tlearn: 0.3858114\ttest: 0.4100020\tbest: 0.4100020 (3400)\ttotal: 17.7s\tremaining: 8.31s\n",
      "3600:\tlearn: 0.3760067\ttest: 0.4009836\tbest: 0.4009836 (3600)\ttotal: 19.3s\tremaining: 7.49s\n",
      "3800:\tlearn: 0.3671281\ttest: 0.3926696\tbest: 0.3926696 (3800)\ttotal: 22.4s\tremaining: 7.08s\n",
      "4000:\tlearn: 0.3585010\ttest: 0.3845614\tbest: 0.3845614 (4000)\ttotal: 23.4s\tremaining: 5.85s\n",
      "4200:\tlearn: 0.3507922\ttest: 0.3773310\tbest: 0.3773310 (4200)\ttotal: 24.5s\tremaining: 4.66s\n",
      "4400:\tlearn: 0.3435454\ttest: 0.3706745\tbest: 0.3706745 (4400)\ttotal: 25.5s\tremaining: 3.48s\n",
      "4600:\tlearn: 0.3365262\ttest: 0.3642199\tbest: 0.3642199 (4600)\ttotal: 26.5s\tremaining: 2.3s\n",
      "4800:\tlearn: 0.3298660\ttest: 0.3580733\tbest: 0.3580733 (4800)\ttotal: 27.5s\tremaining: 1.14s\n",
      "4999:\tlearn: 0.3239072\ttest: 0.3527016\tbest: 0.3527016 (4999)\ttotal: 28.5s\tremaining: 0us\n",
      "bestTest = 0.3527015816\n",
      "bestIteration = 4999\n"
     ]
    },
    {
     "name": "stderr",
     "output_type": "stream",
     "text": [
      "\r",
      " 20%|█████████████████▌                                                                      | 1/5 [00:41<02:46, 41.52s/it]"
     ]
    },
    {
     "name": "stdout",
     "output_type": "stream",
     "text": [
      "Learning rate set to 0.072699\n",
      "0:\tlearn: 9.2537635\ttest: 9.2717026\tbest: 9.2717026 (0)\ttotal: 6.21ms\tremaining: 31s\n",
      "200:\tlearn: 1.1701090\ttest: 1.1707775\tbest: 1.1707775 (200)\ttotal: 1.04s\tremaining: 24.9s\n",
      "400:\tlearn: 0.9155365\ttest: 0.9183609\tbest: 0.9183609 (400)\ttotal: 2.03s\tremaining: 23.3s\n",
      "600:\tlearn: 0.7881123\ttest: 0.7937984\tbest: 0.7937984 (600)\ttotal: 3s\tremaining: 21.9s\n",
      "800:\tlearn: 0.7012573\ttest: 0.7094809\tbest: 0.7094809 (800)\ttotal: 4.01s\tremaining: 21s\n",
      "1000:\tlearn: 0.6424277\ttest: 0.6523786\tbest: 0.6523786 (1000)\ttotal: 5s\tremaining: 20s\n",
      "1200:\tlearn: 0.5967728\ttest: 0.6083440\tbest: 0.6083440 (1200)\ttotal: 6s\tremaining: 19s\n",
      "1400:\tlearn: 0.5610139\ttest: 0.5740243\tbest: 0.5740243 (1400)\ttotal: 7.02s\tremaining: 18s\n",
      "1600:\tlearn: 0.5318561\ttest: 0.5462523\tbest: 0.5462523 (1600)\ttotal: 8.09s\tremaining: 17.2s\n",
      "1800:\tlearn: 0.5063872\ttest: 0.5220713\tbest: 0.5220713 (1800)\ttotal: 9.13s\tremaining: 16.2s\n",
      "2000:\tlearn: 0.4850425\ttest: 0.5018314\tbest: 0.5018314 (2000)\ttotal: 10.3s\tremaining: 15.5s\n",
      "2200:\tlearn: 0.4662369\ttest: 0.4842091\tbest: 0.4842091 (2200)\ttotal: 11.4s\tremaining: 14.5s\n",
      "2400:\tlearn: 0.4484846\ttest: 0.4674852\tbest: 0.4674852 (2400)\ttotal: 12.4s\tremaining: 13.4s\n",
      "2600:\tlearn: 0.4329674\ttest: 0.4530211\tbest: 0.4530211 (2600)\ttotal: 13.4s\tremaining: 12.3s\n",
      "2800:\tlearn: 0.4199085\ttest: 0.4407625\tbest: 0.4407625 (2800)\ttotal: 14.4s\tremaining: 11.3s\n",
      "3000:\tlearn: 0.4067328\ttest: 0.4283478\tbest: 0.4283478 (3000)\ttotal: 15.3s\tremaining: 10.2s\n",
      "3200:\tlearn: 0.3956031\ttest: 0.4179294\tbest: 0.4179294 (3200)\ttotal: 16.4s\tremaining: 9.22s\n",
      "3400:\tlearn: 0.3852504\ttest: 0.4083736\tbest: 0.4083736 (3400)\ttotal: 17.4s\tremaining: 8.19s\n",
      "3600:\tlearn: 0.3754790\ttest: 0.3993131\tbest: 0.3993131 (3600)\ttotal: 18.5s\tremaining: 7.19s\n",
      "3800:\tlearn: 0.3669198\ttest: 0.3914118\tbest: 0.3914118 (3800)\ttotal: 19.6s\tremaining: 6.18s\n",
      "4000:\tlearn: 0.3582391\ttest: 0.3833163\tbest: 0.3833163 (4000)\ttotal: 20.7s\tremaining: 5.16s\n",
      "4200:\tlearn: 0.3505636\ttest: 0.3761162\tbest: 0.3761162 (4200)\ttotal: 21.7s\tremaining: 4.12s\n",
      "4400:\tlearn: 0.3433854\ttest: 0.3695559\tbest: 0.3695559 (4400)\ttotal: 22.7s\tremaining: 3.09s\n",
      "4600:\tlearn: 0.3365799\ttest: 0.3632916\tbest: 0.3632916 (4600)\ttotal: 23.7s\tremaining: 2.05s\n",
      "4800:\tlearn: 0.3299283\ttest: 0.3571001\tbest: 0.3571001 (4800)\ttotal: 24.8s\tremaining: 1.03s\n",
      "4999:\tlearn: 0.3237485\ttest: 0.3514110\tbest: 0.3514110 (4999)\ttotal: 25.7s\tremaining: 0us\n",
      "bestTest = 0.3514109645\n",
      "bestIteration = 4999\n"
     ]
    },
    {
     "name": "stderr",
     "output_type": "stream",
     "text": [
      "\r",
      " 40%|███████████████████████████████████▏                                                    | 2/5 [01:20<01:59, 39.91s/it]"
     ]
    },
    {
     "name": "stdout",
     "output_type": "stream",
     "text": [
      "Learning rate set to 0.072699\n",
      "0:\tlearn: 9.2531718\ttest: 9.2855747\tbest: 9.2855747 (0)\ttotal: 10.8ms\tremaining: 53.8s\n",
      "200:\tlearn: 1.1715897\ttest: 1.1739659\tbest: 1.1739659 (200)\ttotal: 1.07s\tremaining: 25.5s\n",
      "400:\tlearn: 0.9043990\ttest: 0.9116573\tbest: 0.9116573 (400)\ttotal: 2.13s\tremaining: 24.4s\n",
      "600:\tlearn: 0.7738928\ttest: 0.7843809\tbest: 0.7843809 (600)\ttotal: 3.18s\tremaining: 23.3s\n",
      "800:\tlearn: 0.6908597\ttest: 0.7031085\tbest: 0.7031085 (800)\ttotal: 4.24s\tremaining: 22.2s\n",
      "1000:\tlearn: 0.6350146\ttest: 0.6488482\tbest: 0.6488482 (1000)\ttotal: 5.28s\tremaining: 21.1s\n",
      "1200:\tlearn: 0.5891803\ttest: 0.6045068\tbest: 0.6045068 (1200)\ttotal: 6.36s\tremaining: 20.1s\n",
      "1400:\tlearn: 0.5539780\ttest: 0.5703829\tbest: 0.5703829 (1400)\ttotal: 7.34s\tremaining: 18.8s\n",
      "1600:\tlearn: 0.5263443\ttest: 0.5438174\tbest: 0.5438174 (1600)\ttotal: 8.51s\tremaining: 18.1s\n",
      "1800:\tlearn: 0.5026655\ttest: 0.5209039\tbest: 0.5209039 (1800)\ttotal: 9.51s\tremaining: 16.9s\n",
      "2000:\tlearn: 0.4816319\ttest: 0.5007226\tbest: 0.5007226 (2000)\ttotal: 10.6s\tremaining: 15.9s\n",
      "2200:\tlearn: 0.4634404\ttest: 0.4832370\tbest: 0.4832370 (2200)\ttotal: 11.6s\tremaining: 14.8s\n",
      "2400:\tlearn: 0.4465165\ttest: 0.4668483\tbest: 0.4668483 (2400)\ttotal: 12.6s\tremaining: 13.7s\n",
      "2600:\tlearn: 0.4318071\ttest: 0.4528197\tbest: 0.4528197 (2600)\ttotal: 13.6s\tremaining: 12.5s\n",
      "2800:\tlearn: 0.4177791\ttest: 0.4394486\tbest: 0.4394486 (2800)\ttotal: 14.6s\tremaining: 11.5s\n",
      "3000:\tlearn: 0.4058241\ttest: 0.4278805\tbest: 0.4278805 (3000)\ttotal: 15.7s\tremaining: 10.5s\n",
      "3200:\tlearn: 0.3941230\ttest: 0.4166306\tbest: 0.4166306 (3200)\ttotal: 16.7s\tremaining: 9.41s\n",
      "3400:\tlearn: 0.3837624\ttest: 0.4069083\tbest: 0.4069083 (3400)\ttotal: 17.8s\tremaining: 8.36s\n",
      "3600:\tlearn: 0.3741634\ttest: 0.3978962\tbest: 0.3978962 (3600)\ttotal: 18.9s\tremaining: 7.32s\n",
      "3800:\tlearn: 0.3653884\ttest: 0.3897782\tbest: 0.3897782 (3800)\ttotal: 19.8s\tremaining: 6.26s\n",
      "4000:\tlearn: 0.3571784\ttest: 0.3819956\tbest: 0.3819956 (4000)\ttotal: 20.9s\tremaining: 5.21s\n",
      "4200:\tlearn: 0.3495275\ttest: 0.3747959\tbest: 0.3747959 (4200)\ttotal: 21.9s\tremaining: 4.17s\n",
      "4400:\tlearn: 0.3421370\ttest: 0.3678880\tbest: 0.3678880 (4400)\ttotal: 22.9s\tremaining: 3.12s\n",
      "4600:\tlearn: 0.3350519\ttest: 0.3612664\tbest: 0.3612664 (4600)\ttotal: 23.9s\tremaining: 2.08s\n",
      "4800:\tlearn: 0.3285429\ttest: 0.3551611\tbest: 0.3551611 (4800)\ttotal: 25s\tremaining: 1.04s\n",
      "4999:\tlearn: 0.3223330\ttest: 0.3492936\tbest: 0.3492936 (4999)\ttotal: 26s\tremaining: 0us\n",
      "bestTest = 0.3492935706\n",
      "bestIteration = 4999\n"
     ]
    },
    {
     "name": "stderr",
     "output_type": "stream",
     "text": [
      "\r",
      " 60%|████████████████████████████████████████████████████▊                                   | 3/5 [01:59<01:19, 39.65s/it]"
     ]
    },
    {
     "name": "stdout",
     "output_type": "stream",
     "text": [
      "Learning rate set to 0.072699\n",
      "0:\tlearn: 9.2604847\ttest: 9.2566518\tbest: 9.2566518 (0)\ttotal: 7.26ms\tremaining: 36.3s\n",
      "200:\tlearn: 1.1609247\ttest: 1.1761170\tbest: 1.1761170 (200)\ttotal: 998ms\tremaining: 23.8s\n",
      "400:\tlearn: 0.9128861\ttest: 0.9284839\tbest: 0.9284839 (400)\ttotal: 1.99s\tremaining: 22.8s\n",
      "600:\tlearn: 0.7829628\ttest: 0.7987530\tbest: 0.7987530 (600)\ttotal: 3.02s\tremaining: 22.1s\n",
      "800:\tlearn: 0.7008547\ttest: 0.7167152\tbest: 0.7167152 (800)\ttotal: 4.06s\tremaining: 21.3s\n",
      "1000:\tlearn: 0.6401249\ttest: 0.6568936\tbest: 0.6568936 (1000)\ttotal: 5.15s\tremaining: 20.6s\n",
      "1200:\tlearn: 0.5963700\ttest: 0.6141095\tbest: 0.6141095 (1200)\ttotal: 6.09s\tremaining: 19.3s\n",
      "1400:\tlearn: 0.5601521\ttest: 0.5785666\tbest: 0.5785666 (1400)\ttotal: 7.09s\tremaining: 18.2s\n",
      "1600:\tlearn: 0.5308033\ttest: 0.5500638\tbest: 0.5500638 (1600)\ttotal: 8.15s\tremaining: 17.3s\n",
      "1800:\tlearn: 0.5059267\ttest: 0.5259758\tbest: 0.5259758 (1800)\ttotal: 9.22s\tremaining: 16.4s\n",
      "2000:\tlearn: 0.4837249\ttest: 0.5045642\tbest: 0.5045642 (2000)\ttotal: 10.3s\tremaining: 15.4s\n",
      "2200:\tlearn: 0.4642249\ttest: 0.4858318\tbest: 0.4858318 (2200)\ttotal: 11.3s\tremaining: 14.4s\n",
      "2400:\tlearn: 0.4473109\ttest: 0.4694491\tbest: 0.4694491 (2400)\ttotal: 12.3s\tremaining: 13.3s\n",
      "2600:\tlearn: 0.4324651\ttest: 0.4552295\tbest: 0.4552295 (2600)\ttotal: 13.3s\tremaining: 12.3s\n",
      "2800:\tlearn: 0.4184883\ttest: 0.4417800\tbest: 0.4417800 (2800)\ttotal: 14.4s\tremaining: 11.3s\n",
      "3000:\tlearn: 0.4064103\ttest: 0.4304973\tbest: 0.4304973 (3000)\ttotal: 15.4s\tremaining: 10.3s\n",
      "3200:\tlearn: 0.3954334\ttest: 0.4200607\tbest: 0.4200607 (3200)\ttotal: 16.4s\tremaining: 9.22s\n",
      "3400:\tlearn: 0.3846637\ttest: 0.4097238\tbest: 0.4097238 (3400)\ttotal: 17.4s\tremaining: 8.17s\n",
      "3600:\tlearn: 0.3748074\ttest: 0.4005544\tbest: 0.4005544 (3600)\ttotal: 18.4s\tremaining: 7.13s\n",
      "3800:\tlearn: 0.3660251\ttest: 0.3924343\tbest: 0.3924343 (3800)\ttotal: 19.4s\tremaining: 6.12s\n",
      "4000:\tlearn: 0.3576173\ttest: 0.3844190\tbest: 0.3844190 (4000)\ttotal: 20.4s\tremaining: 5.09s\n",
      "4200:\tlearn: 0.3495824\ttest: 0.3768685\tbest: 0.3768685 (4200)\ttotal: 21.6s\tremaining: 4.1s\n",
      "4400:\tlearn: 0.3423675\ttest: 0.3701562\tbest: 0.3701562 (4400)\ttotal: 22.6s\tremaining: 3.08s\n",
      "4600:\tlearn: 0.3355720\ttest: 0.3638017\tbest: 0.3638017 (4600)\ttotal: 23.7s\tremaining: 2.06s\n",
      "4800:\tlearn: 0.3291002\ttest: 0.3578007\tbest: 0.3578007 (4800)\ttotal: 24.7s\tremaining: 1.02s\n",
      "4999:\tlearn: 0.3229846\ttest: 0.3521710\tbest: 0.3521710 (4999)\ttotal: 25.7s\tremaining: 0us\n",
      "bestTest = 0.3521710354\n",
      "bestIteration = 4999\n"
     ]
    },
    {
     "name": "stderr",
     "output_type": "stream",
     "text": [
      "\r",
      " 80%|██████████████████████████████████████████████████████████████████████▍                 | 4/5 [02:38<00:39, 39.38s/it]"
     ]
    },
    {
     "name": "stdout",
     "output_type": "stream",
     "text": [
      "Learning rate set to 0.072699\n",
      "0:\tlearn: 9.2625918\ttest: 9.2370575\tbest: 9.2370575 (0)\ttotal: 5.99ms\tremaining: 29.9s\n",
      "200:\tlearn: 1.1662350\ttest: 1.1716899\tbest: 1.1716899 (200)\ttotal: 1.09s\tremaining: 26.1s\n",
      "400:\tlearn: 0.9129059\ttest: 0.9214787\tbest: 0.9214787 (400)\ttotal: 2.12s\tremaining: 24.3s\n",
      "600:\tlearn: 0.7835346\ttest: 0.7945985\tbest: 0.7945985 (600)\ttotal: 3.14s\tremaining: 23s\n",
      "800:\tlearn: 0.7031019\ttest: 0.7154806\tbest: 0.7154806 (800)\ttotal: 4.2s\tremaining: 22s\n",
      "1000:\tlearn: 0.6413422\ttest: 0.6549456\tbest: 0.6549456 (1000)\ttotal: 5.27s\tremaining: 21.1s\n",
      "1200:\tlearn: 0.5985152\ttest: 0.6134305\tbest: 0.6134305 (1200)\ttotal: 6.28s\tremaining: 19.9s\n",
      "1400:\tlearn: 0.5621220\ttest: 0.5778599\tbest: 0.5778599 (1400)\ttotal: 7.29s\tremaining: 18.7s\n",
      "1600:\tlearn: 0.5335300\ttest: 0.5505419\tbest: 0.5505419 (1600)\ttotal: 8.32s\tremaining: 17.7s\n",
      "1800:\tlearn: 0.5090980\ttest: 0.5272940\tbest: 0.5272940 (1800)\ttotal: 9.42s\tremaining: 16.7s\n",
      "2000:\tlearn: 0.4860141\ttest: 0.5052893\tbest: 0.5052893 (2000)\ttotal: 10.5s\tremaining: 15.7s\n",
      "2200:\tlearn: 0.4661576\ttest: 0.4863990\tbest: 0.4863990 (2200)\ttotal: 11.5s\tremaining: 14.6s\n",
      "2400:\tlearn: 0.4489002\ttest: 0.4701302\tbest: 0.4701302 (2400)\ttotal: 12.5s\tremaining: 13.5s\n",
      "2600:\tlearn: 0.4336384\ttest: 0.4555426\tbest: 0.4555426 (2600)\ttotal: 13.5s\tremaining: 12.4s\n",
      "2800:\tlearn: 0.4205142\ttest: 0.4430257\tbest: 0.4430257 (2800)\ttotal: 14.5s\tremaining: 11.4s\n",
      "3000:\tlearn: 0.4080454\ttest: 0.4312548\tbest: 0.4312548 (3000)\ttotal: 15.5s\tremaining: 10.3s\n",
      "3200:\tlearn: 0.3966730\ttest: 0.4205428\tbest: 0.4205428 (3200)\ttotal: 16.5s\tremaining: 9.26s\n",
      "3400:\tlearn: 0.3862070\ttest: 0.4105846\tbest: 0.4105846 (3400)\ttotal: 17.5s\tremaining: 8.23s\n",
      "3600:\tlearn: 0.3766617\ttest: 0.4016959\tbest: 0.4016959 (3600)\ttotal: 18.5s\tremaining: 7.2s\n",
      "3800:\tlearn: 0.3671582\ttest: 0.3926248\tbest: 0.3926248 (3800)\ttotal: 19.6s\tremaining: 6.18s\n",
      "4000:\tlearn: 0.3588463\ttest: 0.3848915\tbest: 0.3848915 (4000)\ttotal: 20.7s\tremaining: 5.17s\n",
      "4200:\tlearn: 0.3510874\ttest: 0.3778307\tbest: 0.3778307 (4200)\ttotal: 21.8s\tremaining: 4.15s\n",
      "4400:\tlearn: 0.3435749\ttest: 0.3708068\tbest: 0.3708068 (4400)\ttotal: 22.8s\tremaining: 3.1s\n",
      "4600:\tlearn: 0.3366344\ttest: 0.3644514\tbest: 0.3644514 (4600)\ttotal: 23.9s\tremaining: 2.07s\n",
      "4800:\tlearn: 0.3298474\ttest: 0.3581704\tbest: 0.3581704 (4800)\ttotal: 24.9s\tremaining: 1.03s\n",
      "4999:\tlearn: 0.3236903\ttest: 0.3523247\tbest: 0.3523247 (4999)\ttotal: 26s\tremaining: 0us\n",
      "bestTest = 0.3523246769\n",
      "bestIteration = 4999\n"
     ]
    },
    {
     "name": "stderr",
     "output_type": "stream",
     "text": [
      "100%|████████████████████████████████████████████████████████████████████████████████████████| 5/5 [03:17<00:00, 39.57s/it]\n",
      "100%|████████████████████████████████████████████████████████████████████████████████████████| 5/5 [00:00<00:00, 17.03it/s]\n"
     ]
    },
    {
     "name": "stdout",
     "output_type": "stream",
     "text": [
      "cos_sim with best submission: 0.9999547832446889\n"
     ]
    }
   ],
   "source": [
    "X = train_df[features].values\n",
    "y = train_df[target[0]].values\n",
    "\n",
    "skf = KFold(n_splits=5, random_state=2048, shuffle=True)\n",
    "skf.get_n_splits(X, y)\n",
    "\n",
    "train_index_list = []\n",
    "test_index_list = []\n",
    "train_x_list = []\n",
    "val_x_list = []\n",
    "train_y_list = []\n",
    "val_y_list = []\n",
    "\n",
    "for i, (train_index, test_index) in tqdm(enumerate(skf.split(X, y))):\n",
    "    train_index_list.append(train_index)\n",
    "    test_index_list.append(test_index)\n",
    "\n",
    "    train_x_list.append(X[train_index, :])\n",
    "    val_x_list.append(X[test_index, :])\n",
    "    train_y_list.append(y[train_index])\n",
    "    val_y_list.append(y[test_index])    \n",
    "def train_catboost(x, y):\n",
    "    print(x.shape, y.shape)\n",
    "    \n",
    "    cat_models = []\n",
    "    for i in tqdm(range(5)):\n",
    "        train_x, val_x = train_x_list[i], val_x_list[i]\n",
    "        train_y, val_y = train_y_list[i], val_y_list[i]\n",
    "        clf = CatBoostRegressor(iterations=5000, verbose=200, task_type=\"GPU\",\n",
    "                           devices='0:1')\n",
    "        clf.fit(train_x, train_y, eval_set=[(val_x, val_y)], verbose=200, early_stopping_rounds=100)\n",
    "        cat_models.append(clf)\n",
    "    \n",
    "    return cat_models\n",
    "cat_models = train_catboost(X, y)\n",
    "\n",
    "preds = []\n",
    "for cat_model in tqdm(cat_models):\n",
    "    preds.append(cat_model.predict(test_df[features].values))\n",
    "s = 0\n",
    "for pred in preds:\n",
    "    s += pred\n",
    "s = s/5\n",
    "res_df = pd.read_csv('./sample_solution.csv')\n",
    "res_df['contest-tmp2m-14d__tmp2m'] = s\n",
    "res_df.to_csv('submission_fe_v7.csv', index=False)\n",
    "\n",
    "best_df = pd.read_csv('best_sub.csv')\n",
    "y_best = best_df[target[0]].values\n",
    "\n",
    "from numpy import dot\n",
    "from numpy.linalg import norm\n",
    "\n",
    "cos_sim = dot(y_best, s)/(norm(y_best)*norm(s))\n",
    "print(\"cos_sim with best submission:\", cos_sim)"
   ]
  }
 ],
 "metadata": {
  "kernelspec": {
   "display_name": "wids-env",
   "language": "python",
   "name": "wids-env"
  },
  "language_info": {
   "codemirror_mode": {
    "name": "ipython",
    "version": 3
   },
   "file_extension": ".py",
   "mimetype": "text/x-python",
   "name": "python",
   "nbconvert_exporter": "python",
   "pygments_lexer": "ipython3",
   "version": "3.7.15"
  }
 },
 "nbformat": 4,
 "nbformat_minor": 5
}
