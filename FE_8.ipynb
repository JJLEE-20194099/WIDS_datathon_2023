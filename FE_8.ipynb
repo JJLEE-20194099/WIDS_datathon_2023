{
 "cells": [
  {
   "cell_type": "code",
   "execution_count": 1,
   "id": "f63b11e7",
   "metadata": {},
   "outputs": [],
   "source": [
    "import numpy as np\n",
    "import pandas as pd\n",
    "import seaborn as sns\n",
    "import torch\n",
    "import torch.nn as nn\n",
    "import torch.nn.functional as f\n",
    "pd.set_option('display.max_columns', None)\n",
    "import matplotlib.pyplot as plt\n",
    "from sklearn.model_selection import train_test_split\n",
    "from torch.utils.data import DataLoader\n",
    "from sklearn import preprocessing\n",
    "from tqdm import tqdm\n",
    "from sklearn.preprocessing import FunctionTransformer\n",
    "import seaborn as sns \n",
    "from scipy import stats\n",
    "import statsmodels.api as sm\n",
    "\n",
    "from sklearn.ensemble import RandomForestRegressor, ExtraTreesRegressor, AdaBoostRegressor, BaggingRegressor, GradientBoostingRegressor\n",
    "from sklearn.tree import DecisionTreeRegressor\n",
    "from sklearn.linear_model import ElasticNet, Lasso\n",
    "from sklearn.feature_selection import SelectFromModel\n",
    "from sklearn.svm import SVR\n",
    "from sklearn.model_selection import KFold, cross_val_score\n",
    "from sklearn.pipeline import make_pipeline\n",
    "from sklearn.decomposition import PCA\n",
    "from sklearn.preprocessing import RobustScaler\n",
    "import h2o\n",
    "from h2o.automl import H2OAutoML\n",
    "from sklearn.base import BaseEstimator, TransformerMixin, RegressorMixin, clone\n",
    "from sklearn.neural_network import MLPRegressor\n",
    "from scipy.stats import norm\n",
    "import copy\n",
    "from sklearn.model_selection import KFold\n",
    "from catboost import CatBoostRegressor, Pool, metrics, cv\n",
    "import xgboost as xgb\n",
    "from scipy.stats import gmean\n",
    "from sklearn.impute import KNNImputer\n",
    "from sklearn.metrics import mean_squared_error\n",
    "from sklearn.preprocessing import LabelEncoder"
   ]
  },
  {
   "cell_type": "code",
   "execution_count": 2,
   "id": "b750100a",
   "metadata": {},
   "outputs": [],
   "source": [
    "add_train = pd.read_csv('./n_train.csv')\n",
    "add_test = pd.read_csv('./n_test.csv')"
   ]
  },
  {
   "cell_type": "code",
   "execution_count": 3,
   "id": "88565020",
   "metadata": {},
   "outputs": [
    {
     "data": {
      "text/plain": [
       "['sst-2010-1',\n",
       " 'sst-2010-2',\n",
       " 'sst-2010-3',\n",
       " 'sst-2010-4',\n",
       " 'sst-2010-5',\n",
       " 'sst-2010-6',\n",
       " 'sst-2010-7',\n",
       " 'sst-2010-8',\n",
       " 'sst-2010-9',\n",
       " 'sst-2010-10']"
      ]
     },
     "execution_count": 3,
     "metadata": {},
     "output_type": "execute_result"
    }
   ],
   "source": [
    "sst_col_list = [c for c in add_train.columns if 'sst' in c]\n",
    "sst_col_list"
   ]
  },
  {
   "cell_type": "code",
   "execution_count": 4,
   "id": "a47eb0e9",
   "metadata": {},
   "outputs": [],
   "source": [
    "climate_type_dict = {'1':'BSk',\n",
    " '9': 'Dfb',\n",
    " '4': 'Cfa',\n",
    " '7': 'Csb',\n",
    " '8': 'Dfa',\n",
    " '3': 'BWk',\n",
    " '10': 'Dfc',\n",
    " '2': 'BWh',\n",
    " '6': 'Csa',\n",
    " '11': 'Dsb',\n",
    " '0': 'BSh',\n",
    " '5': 'Cfb',\n",
    " '12': 'Dsc',\n",
    " '13': 'Dwa',\n",
    " '14': 'Dwb'}"
   ]
  },
  {
   "cell_type": "code",
   "execution_count": 5,
   "id": "6ab9423b",
   "metadata": {},
   "outputs": [],
   "source": [
    "all_cols = add_train.columns.tolist()"
   ]
  },
  {
   "cell_type": "code",
   "execution_count": 6,
   "id": "258cca0e",
   "metadata": {},
   "outputs": [],
   "source": [
    "target=[\"contest-tmp2m-14d__tmp2m\"]"
   ]
  },
  {
   "cell_type": "code",
   "execution_count": 7,
   "id": "657e29fb",
   "metadata": {},
   "outputs": [
    {
     "name": "stdout",
     "output_type": "stream",
     "text": [
      "climateregions__climateregion\n"
     ]
    }
   ],
   "source": [
    "train_df =  pd.read_csv('fe_v1_train.csv')\n",
    "test_df  =  pd.read_csv('fe_v1_test.csv')\n",
    "for c in train_df.columns:\n",
    "    if train_df[c].dtypes != 'float64':\n",
    "        print(c)"
   ]
  },
  {
   "cell_type": "code",
   "execution_count": 8,
   "id": "66b5ae01",
   "metadata": {},
   "outputs": [
    {
     "name": "stdout",
     "output_type": "stream",
     "text": [
      "Main features: 63\n"
     ]
    }
   ],
   "source": [
    "exclude_cols = ['index', 'startdate']\n",
    "best_cols = [c for c in train_df.columns if c not in exclude_cols and c not in target]\n",
    "print(\"Main features:\", len(best_cols))"
   ]
  },
  {
   "cell_type": "code",
   "execution_count": 9,
   "id": "5c24adde",
   "metadata": {},
   "outputs": [],
   "source": [
    "train_df[sst_col_list] = add_train[sst_col_list]\n",
    "test_df[sst_col_list] = add_test[sst_col_list]"
   ]
  },
  {
   "cell_type": "code",
   "execution_count": 10,
   "id": "d79003b9",
   "metadata": {},
   "outputs": [
    {
     "name": "stdout",
     "output_type": "stream",
     "text": [
      "contest-precip-14d__precip\n"
     ]
    }
   ],
   "source": [
    "for c in all_cols:\n",
    "    if 'contest-precip-14d' in c:\n",
    "        print(c)"
   ]
  },
  {
   "cell_type": "code",
   "execution_count": 11,
   "id": "281ff6e9",
   "metadata": {},
   "outputs": [],
   "source": [
    "def calculate_season(month):\n",
    "    if month == 12 or month == 1 or month == 2:\n",
    "        return 4\n",
    "    if month == 9 or month == 10 or month == 11:\n",
    "        return 3\n",
    "    if month == 7 or month == 8 or month == 6:\n",
    "        return 2\n",
    "    if month == 3 or month == 4 or month == 5:\n",
    "        return 1"
   ]
  },
  {
   "cell_type": "code",
   "execution_count": 12,
   "id": "55ccb6d1",
   "metadata": {},
   "outputs": [],
   "source": [
    "train_df['month'] = add_train['month']\n",
    "test_df['month'] = add_test['month']\n",
    "\n",
    "train_df['season'] = train_df['month'].apply(calculate_season)\n",
    "test_df['season'] = test_df['month'].apply(calculate_season)\n",
    "\n",
    "train_df['loc_group'] = add_train['loc_group']\n",
    "test_df['loc_group'] = add_test['loc_group']\n",
    "\n",
    "train_df['year'] = add_train['year']\n",
    "test_df['year'] = add_test['year']\n",
    "\n",
    "def map_climate_type(x):\n",
    "    return climate_type_dict[str(x)]\n",
    "\n",
    "train_df['climate_type'] = train_df['climateregions__climateregion'].apply(map_climate_type)\n",
    "test_df['climate_type'] = train_df['climateregions__climateregion'].apply(map_climate_type)\n",
    "\n",
    "precip_col = 'contest-precip-14d__precip'\n",
    "wind_col = 'contest-wind-h500-14d__wind-hgt-500'\n",
    "\n",
    "group_cols = ['loc_group', 'climate_type', 'year', 'season', 'month']\n",
    "season_group_cols = ['loc_group', 'climate_type', 'year', 'season']\n"
   ]
  },
  {
   "cell_type": "code",
   "execution_count": 13,
   "id": "89eba818",
   "metadata": {},
   "outputs": [],
   "source": [
    "slp_col = 'contest-slp-14d__slp'\n",
    "ccsm3_col = 'nmme-tmp2m-34w__ccsm3'\n",
    "pres_col = 'contest-pres-sfc-gauss-14d__pres'\n",
    "precip_col = 'contest-precip-14d__precip'\n",
    "stt_col = 'sst-2010-1'\n",
    "sst_col_5 = 'sst-2010-5'\n",
    "sst_col_3 = 'sst-2010-3'\n",
    "sst_col_4 = 'sst-2010-4'"
   ]
  },
  {
   "cell_type": "code",
   "execution_count": 14,
   "id": "f2835671",
   "metadata": {},
   "outputs": [
    {
     "name": "stdout",
     "output_type": "stream",
     "text": [
      "74839.94 102845.57\n",
      "75925.02 102119.93\n"
     ]
    }
   ],
   "source": [
    "print(train_df[pres_col].min(), train_df[pres_col].max())\n",
    "print(test_df[pres_col].min(), test_df[pres_col].max())"
   ]
  },
  {
   "cell_type": "code",
   "execution_count": 15,
   "id": "e4b5b1b8",
   "metadata": {},
   "outputs": [
    {
     "name": "stdout",
     "output_type": "stream",
     "text": [
      "-219.87 352.2\n",
      "89.73 345.33\n"
     ]
    }
   ],
   "source": [
    "print(train_df[stt_col].min(), train_df[stt_col].max())\n",
    "print(test_df[stt_col].min(), test_df[stt_col].max())"
   ]
  },
  {
   "cell_type": "code",
   "execution_count": 16,
   "id": "c7578466",
   "metadata": {},
   "outputs": [
    {
     "name": "stdout",
     "output_type": "stream",
     "text": [
      "-32.81 40.97\n",
      "-4.62 21.5\n"
     ]
    }
   ],
   "source": [
    "print(train_df[sst_col_5].min(), train_df[sst_col_5].max())\n",
    "print(test_df[sst_col_5].min(), test_df[sst_col_5].max())"
   ]
  },
  {
   "cell_type": "code",
   "execution_count": 17,
   "id": "9f0f35cb",
   "metadata": {},
   "outputs": [
    {
     "name": "stdout",
     "output_type": "stream",
     "text": [
      "0.0 502.63\n",
      "0.0 439.54\n"
     ]
    }
   ],
   "source": [
    "print(train_df[precip_col].min(), train_df[precip_col].max())\n",
    "print(test_df[precip_col].min(), test_df[precip_col].max())"
   ]
  },
  {
   "cell_type": "code",
   "execution_count": 18,
   "id": "9cc45f65",
   "metadata": {},
   "outputs": [],
   "source": [
    "# train_df[pres_col] = train_df[pres_col] - 100000\n",
    "# test_df[pres_col] = test_df[pres_col] - 100000"
   ]
  },
  {
   "cell_type": "code",
   "execution_count": 19,
   "id": "2cad7d7a",
   "metadata": {},
   "outputs": [
    {
     "name": "stdout",
     "output_type": "stream",
     "text": [
      "100379.21 103275.84\n",
      "100593.22 102258.27\n"
     ]
    }
   ],
   "source": [
    "print(train_df[slp_col].min(), train_df[slp_col].max())\n",
    "print(test_df[slp_col].min(), test_df[slp_col].max())"
   ]
  },
  {
   "cell_type": "code",
   "execution_count": 20,
   "id": "469893f4",
   "metadata": {},
   "outputs": [
    {
     "name": "stdout",
     "output_type": "stream",
     "text": [
      "5289.25 5958.2\n",
      "5504.59 5925.56\n"
     ]
    }
   ],
   "source": [
    "print(train_df[wind_col].min(), train_df[wind_col].max())\n",
    "print(test_df[wind_col].min(), test_df[wind_col].max())"
   ]
  },
  {
   "cell_type": "code",
   "execution_count": 21,
   "id": "856be928",
   "metadata": {},
   "outputs": [],
   "source": [
    "train_df[wind_col] = train_df[wind_col] - 5000\n",
    "test_df[wind_col] = test_df[wind_col] - 5000"
   ]
  },
  {
   "cell_type": "code",
   "execution_count": 22,
   "id": "f2e36dcb",
   "metadata": {},
   "outputs": [],
   "source": [
    "train_df[slp_col] = train_df[slp_col] - 100000\n",
    "test_df[slp_col] = test_df[slp_col] - 100000"
   ]
  },
  {
   "cell_type": "code",
   "execution_count": 23,
   "id": "e00fe5ce",
   "metadata": {},
   "outputs": [
    {
     "data": {
      "text/plain": [
       "(407088, 74)"
      ]
     },
     "execution_count": 23,
     "metadata": {},
     "output_type": "execute_result"
    }
   ],
   "source": [
    "check_cols = [c for c in train_df.columns if c not in target and c not in exclude_cols]\n",
    "\n",
    "df = pd.concat([train_df[check_cols], test_df[check_cols]], axis=0)\n",
    "df.shape"
   ]
  },
  {
   "cell_type": "code",
   "execution_count": 24,
   "id": "93c0c117",
   "metadata": {},
   "outputs": [],
   "source": [
    "def create_df_by_group_and_agg(dataframe, grouped_cols, action, my_col, return_name):\n",
    "    if action == \"first\":\n",
    "        ans_df = dataframe.groupby(grouped_cols)[my_col].first().reset_index()\n",
    "    elif action == \"min\":\n",
    "        ans_df = dataframe.groupby(grouped_cols)[my_col].min().reset_index()\n",
    "    elif action == \"max\":\n",
    "        ans_df = dataframe.groupby(grouped_cols)[my_col].max().reset_index()\n",
    "    elif action == \"mean\":\n",
    "        ans_df = dataframe.groupby(grouped_cols)[my_col].mean().reset_index()\n",
    "    print(\"Nan\")\n",
    "    ans_df = ans_df.rename(columns={my_col: return_name})\n",
    "    for c in ans_df.columns:\n",
    "        if ans_df[c].isnull().sum() > 0:\n",
    "            print(c, ans_df[c].isnull().sum())\n",
    "    return ans_df"
   ]
  },
  {
   "cell_type": "code",
   "execution_count": 25,
   "id": "a52a1320",
   "metadata": {},
   "outputs": [],
   "source": [
    "def assign_train_test_df(my_col):\n",
    "    train_df[my_col] = df[:len(train_df)][my_col].tolist()\n",
    "    test_df[my_col] = df[len(train_df):][my_col].tolist()"
   ]
  },
  {
   "cell_type": "code",
   "execution_count": 26,
   "id": "d981dfd7",
   "metadata": {},
   "outputs": [
    {
     "name": "stdout",
     "output_type": "stream",
     "text": [
      "Nan\n"
     ]
    },
    {
     "data": {
      "text/html": [
       "<div>\n",
       "<style scoped>\n",
       "    .dataframe tbody tr th:only-of-type {\n",
       "        vertical-align: middle;\n",
       "    }\n",
       "\n",
       "    .dataframe tbody tr th {\n",
       "        vertical-align: top;\n",
       "    }\n",
       "\n",
       "    .dataframe thead th {\n",
       "        text-align: right;\n",
       "    }\n",
       "</style>\n",
       "<table border=\"1\" class=\"dataframe\">\n",
       "  <thead>\n",
       "    <tr style=\"text-align: right;\">\n",
       "      <th></th>\n",
       "      <th>loc_group</th>\n",
       "      <th>climate_type</th>\n",
       "      <th>year</th>\n",
       "      <th>season</th>\n",
       "      <th>first_slp</th>\n",
       "    </tr>\n",
       "  </thead>\n",
       "  <tbody>\n",
       "    <tr>\n",
       "      <th>0</th>\n",
       "      <td>0</td>\n",
       "      <td>BSh</td>\n",
       "      <td>2014</td>\n",
       "      <td>3</td>\n",
       "      <td>1352.08</td>\n",
       "    </tr>\n",
       "    <tr>\n",
       "      <th>1</th>\n",
       "      <td>0</td>\n",
       "      <td>BSh</td>\n",
       "      <td>2014</td>\n",
       "      <td>4</td>\n",
       "      <td>2072.81</td>\n",
       "    </tr>\n",
       "    <tr>\n",
       "      <th>2</th>\n",
       "      <td>0</td>\n",
       "      <td>BSh</td>\n",
       "      <td>2015</td>\n",
       "      <td>1</td>\n",
       "      <td>1917.24</td>\n",
       "    </tr>\n",
       "  </tbody>\n",
       "</table>\n",
       "</div>"
      ],
      "text/plain": [
       "   loc_group climate_type  year  season  first_slp\n",
       "0          0          BSh  2014       3    1352.08\n",
       "1          0          BSh  2014       4    2072.81\n",
       "2          0          BSh  2015       1    1917.24"
      ]
     },
     "execution_count": 26,
     "metadata": {},
     "output_type": "execute_result"
    }
   ],
   "source": [
    "first_slp_df = create_df_by_group_and_agg(df, season_group_cols, \"first\", slp_col, \"first_slp\")\n",
    "first_slp_df.head(3)"
   ]
  },
  {
   "cell_type": "code",
   "execution_count": 27,
   "id": "9af3e9fd",
   "metadata": {},
   "outputs": [
    {
     "name": "stdout",
     "output_type": "stream",
     "text": [
      "Nan\n"
     ]
    },
    {
     "data": {
      "text/html": [
       "<div>\n",
       "<style scoped>\n",
       "    .dataframe tbody tr th:only-of-type {\n",
       "        vertical-align: middle;\n",
       "    }\n",
       "\n",
       "    .dataframe tbody tr th {\n",
       "        vertical-align: top;\n",
       "    }\n",
       "\n",
       "    .dataframe thead th {\n",
       "        text-align: right;\n",
       "    }\n",
       "</style>\n",
       "<table border=\"1\" class=\"dataframe\">\n",
       "  <thead>\n",
       "    <tr style=\"text-align: right;\">\n",
       "      <th></th>\n",
       "      <th>loc_group</th>\n",
       "      <th>climate_type</th>\n",
       "      <th>year</th>\n",
       "      <th>season</th>\n",
       "      <th>first_wind</th>\n",
       "    </tr>\n",
       "  </thead>\n",
       "  <tbody>\n",
       "    <tr>\n",
       "      <th>0</th>\n",
       "      <td>0</td>\n",
       "      <td>BSh</td>\n",
       "      <td>2014</td>\n",
       "      <td>3</td>\n",
       "      <td>899.66</td>\n",
       "    </tr>\n",
       "    <tr>\n",
       "      <th>1</th>\n",
       "      <td>0</td>\n",
       "      <td>BSh</td>\n",
       "      <td>2014</td>\n",
       "      <td>4</td>\n",
       "      <td>847.35</td>\n",
       "    </tr>\n",
       "    <tr>\n",
       "      <th>2</th>\n",
       "      <td>0</td>\n",
       "      <td>BSh</td>\n",
       "      <td>2015</td>\n",
       "      <td>1</td>\n",
       "      <td>804.47</td>\n",
       "    </tr>\n",
       "  </tbody>\n",
       "</table>\n",
       "</div>"
      ],
      "text/plain": [
       "   loc_group climate_type  year  season  first_wind\n",
       "0          0          BSh  2014       3      899.66\n",
       "1          0          BSh  2014       4      847.35\n",
       "2          0          BSh  2015       1      804.47"
      ]
     },
     "execution_count": 27,
     "metadata": {},
     "output_type": "execute_result"
    }
   ],
   "source": [
    "first_wind_df = create_df_by_group_and_agg(df, season_group_cols, \"first\", wind_col, \"first_wind\")\n",
    "first_wind_df.head(3)"
   ]
  },
  {
   "cell_type": "code",
   "execution_count": 28,
   "id": "c0bdcedd",
   "metadata": {},
   "outputs": [
    {
     "name": "stdout",
     "output_type": "stream",
     "text": [
      "Nan\n"
     ]
    },
    {
     "data": {
      "text/html": [
       "<div>\n",
       "<style scoped>\n",
       "    .dataframe tbody tr th:only-of-type {\n",
       "        vertical-align: middle;\n",
       "    }\n",
       "\n",
       "    .dataframe tbody tr th {\n",
       "        vertical-align: top;\n",
       "    }\n",
       "\n",
       "    .dataframe thead th {\n",
       "        text-align: right;\n",
       "    }\n",
       "</style>\n",
       "<table border=\"1\" class=\"dataframe\">\n",
       "  <thead>\n",
       "    <tr style=\"text-align: right;\">\n",
       "      <th></th>\n",
       "      <th>loc_group</th>\n",
       "      <th>climate_type</th>\n",
       "      <th>year</th>\n",
       "      <th>season</th>\n",
       "      <th>first_precip</th>\n",
       "    </tr>\n",
       "  </thead>\n",
       "  <tbody>\n",
       "    <tr>\n",
       "      <th>0</th>\n",
       "      <td>0</td>\n",
       "      <td>BSh</td>\n",
       "      <td>2014</td>\n",
       "      <td>3</td>\n",
       "      <td>94.31</td>\n",
       "    </tr>\n",
       "    <tr>\n",
       "      <th>1</th>\n",
       "      <td>0</td>\n",
       "      <td>BSh</td>\n",
       "      <td>2014</td>\n",
       "      <td>4</td>\n",
       "      <td>25.53</td>\n",
       "    </tr>\n",
       "    <tr>\n",
       "      <th>2</th>\n",
       "      <td>0</td>\n",
       "      <td>BSh</td>\n",
       "      <td>2015</td>\n",
       "      <td>1</td>\n",
       "      <td>31.94</td>\n",
       "    </tr>\n",
       "  </tbody>\n",
       "</table>\n",
       "</div>"
      ],
      "text/plain": [
       "   loc_group climate_type  year  season  first_precip\n",
       "0          0          BSh  2014       3         94.31\n",
       "1          0          BSh  2014       4         25.53\n",
       "2          0          BSh  2015       1         31.94"
      ]
     },
     "execution_count": 28,
     "metadata": {},
     "output_type": "execute_result"
    }
   ],
   "source": [
    "first_precip_df = create_df_by_group_and_agg(df, season_group_cols, \"first\", precip_col, \"first_precip\")\n",
    "first_precip_df.head(3)"
   ]
  },
  {
   "cell_type": "code",
   "execution_count": 29,
   "id": "a38a50e1",
   "metadata": {},
   "outputs": [
    {
     "name": "stdout",
     "output_type": "stream",
     "text": [
      "Nan\n"
     ]
    },
    {
     "data": {
      "text/html": [
       "<div>\n",
       "<style scoped>\n",
       "    .dataframe tbody tr th:only-of-type {\n",
       "        vertical-align: middle;\n",
       "    }\n",
       "\n",
       "    .dataframe tbody tr th {\n",
       "        vertical-align: top;\n",
       "    }\n",
       "\n",
       "    .dataframe thead th {\n",
       "        text-align: right;\n",
       "    }\n",
       "</style>\n",
       "<table border=\"1\" class=\"dataframe\">\n",
       "  <thead>\n",
       "    <tr style=\"text-align: right;\">\n",
       "      <th></th>\n",
       "      <th>loc_group</th>\n",
       "      <th>climate_type</th>\n",
       "      <th>year</th>\n",
       "      <th>season</th>\n",
       "      <th>first_ccsm3</th>\n",
       "    </tr>\n",
       "  </thead>\n",
       "  <tbody>\n",
       "    <tr>\n",
       "      <th>0</th>\n",
       "      <td>0</td>\n",
       "      <td>BSh</td>\n",
       "      <td>2014</td>\n",
       "      <td>3</td>\n",
       "      <td>27.57</td>\n",
       "    </tr>\n",
       "    <tr>\n",
       "      <th>1</th>\n",
       "      <td>0</td>\n",
       "      <td>BSh</td>\n",
       "      <td>2014</td>\n",
       "      <td>4</td>\n",
       "      <td>6.66</td>\n",
       "    </tr>\n",
       "    <tr>\n",
       "      <th>2</th>\n",
       "      <td>0</td>\n",
       "      <td>BSh</td>\n",
       "      <td>2015</td>\n",
       "      <td>1</td>\n",
       "      <td>15.25</td>\n",
       "    </tr>\n",
       "  </tbody>\n",
       "</table>\n",
       "</div>"
      ],
      "text/plain": [
       "   loc_group climate_type  year  season  first_ccsm3\n",
       "0          0          BSh  2014       3        27.57\n",
       "1          0          BSh  2014       4         6.66\n",
       "2          0          BSh  2015       1        15.25"
      ]
     },
     "execution_count": 29,
     "metadata": {},
     "output_type": "execute_result"
    }
   ],
   "source": [
    "first_ccsm3_df = create_df_by_group_and_agg(df, season_group_cols, \"first\", ccsm3_col, \"first_ccsm3\")\n",
    "first_ccsm3_df.head(3)"
   ]
  },
  {
   "cell_type": "code",
   "execution_count": 30,
   "id": "ec6a5160",
   "metadata": {},
   "outputs": [
    {
     "name": "stdout",
     "output_type": "stream",
     "text": [
      "Nan\n"
     ]
    },
    {
     "data": {
      "text/html": [
       "<div>\n",
       "<style scoped>\n",
       "    .dataframe tbody tr th:only-of-type {\n",
       "        vertical-align: middle;\n",
       "    }\n",
       "\n",
       "    .dataframe tbody tr th {\n",
       "        vertical-align: top;\n",
       "    }\n",
       "\n",
       "    .dataframe thead th {\n",
       "        text-align: right;\n",
       "    }\n",
       "</style>\n",
       "<table border=\"1\" class=\"dataframe\">\n",
       "  <thead>\n",
       "    <tr style=\"text-align: right;\">\n",
       "      <th></th>\n",
       "      <th>loc_group</th>\n",
       "      <th>climate_type</th>\n",
       "      <th>year</th>\n",
       "      <th>season</th>\n",
       "      <th>first_pres</th>\n",
       "    </tr>\n",
       "  </thead>\n",
       "  <tbody>\n",
       "    <tr>\n",
       "      <th>0</th>\n",
       "      <td>0</td>\n",
       "      <td>BSh</td>\n",
       "      <td>2014</td>\n",
       "      <td>3</td>\n",
       "      <td>27.57</td>\n",
       "    </tr>\n",
       "    <tr>\n",
       "      <th>1</th>\n",
       "      <td>0</td>\n",
       "      <td>BSh</td>\n",
       "      <td>2014</td>\n",
       "      <td>4</td>\n",
       "      <td>6.66</td>\n",
       "    </tr>\n",
       "    <tr>\n",
       "      <th>2</th>\n",
       "      <td>0</td>\n",
       "      <td>BSh</td>\n",
       "      <td>2015</td>\n",
       "      <td>1</td>\n",
       "      <td>15.25</td>\n",
       "    </tr>\n",
       "  </tbody>\n",
       "</table>\n",
       "</div>"
      ],
      "text/plain": [
       "   loc_group climate_type  year  season  first_pres\n",
       "0          0          BSh  2014       3       27.57\n",
       "1          0          BSh  2014       4        6.66\n",
       "2          0          BSh  2015       1       15.25"
      ]
     },
     "execution_count": 30,
     "metadata": {},
     "output_type": "execute_result"
    }
   ],
   "source": [
    "first_pres_df = create_df_by_group_and_agg(df, season_group_cols, \"first\", ccsm3_col, \"first_pres\")\n",
    "first_pres_df.head(3)"
   ]
  },
  {
   "cell_type": "code",
   "execution_count": 31,
   "id": "e536c8bc",
   "metadata": {},
   "outputs": [],
   "source": [
    "def assign_train_test_sst_df(df, my_col):\n",
    "    train_df[my_col] = df[:len(train_df)][my_col].tolist()\n",
    "    test_df[my_col] = df[len(train_df):][my_col].tolist()\n",
    "    return df\n",
    "\n",
    "\n",
    "def create_sst_feature(df, sst_col_name, suffix_num, season_group_cols):\n",
    "    first_df = create_df_by_group_and_agg(df, season_group_cols, \"first\", sst_col_name, f\"first_sst_{suffix_num}\")\n",
    "    min_df = create_df_by_group_and_agg(df, season_group_cols, \"min\", sst_col_name, f\"min_sst_{suffix_num}\")\n",
    "    max_df = create_df_by_group_and_agg(df, season_group_cols, \"max\", sst_col_name, f\"max_sst_{suffix_num}\")\n",
    "    \n",
    "    df = df.merge(first_df, how='left', on=season_group_cols)\n",
    "    df[f'diff_sst_{suffix_num}_first'] = df[sst_col_name] - df[f\"first_sst_{suffix_num}\"]\n",
    "    print(\"Bug: \", df[f'diff_sst_{suffix_num}_first'].isnull().sum())\n",
    "    df = assign_train_test_sst_df(df, f'diff_sst_{suffix_num}_first')\n",
    "    \n",
    "    df = df.merge(min_df, how='left', on=season_group_cols)\n",
    "    df[f'diff_sst_{suffix_num}_min'] = df[sst_col_name] - df[f\"min_sst_{suffix_num}\"]\n",
    "    df = assign_train_test_sst_df(df, f'diff_sst_{suffix_num}_min')\n",
    "    \n",
    "    df = df.merge(max_df, how='left', on=season_group_cols)\n",
    "    df[f'diff_sst_{suffix_num}_max'] = df[sst_col_name] - df[f\"max_sst_{suffix_num}\"]\n",
    "    df = assign_train_test_sst_df(df, f'diff_sst_{suffix_num}_max')\n",
    "    \n",
    "    df[f'range_sst_{suffix_num}'] = df[f\"max_sst_{suffix_num}\"] - df[f\"min_sst_{suffix_num}\"]\n",
    "    df = assign_train_test_sst_df(df, f'range_sst_{suffix_num}')\n",
    "    \n",
    "    df[f'scale_sst_{suffix_num}'] = (df[sst_col_name] - df[f'diff_sst_{suffix_num}_min']) / df[f'range_sst_{suffix_num}']\n",
    "    df = assign_train_test_sst_df(df, f'scale_sst_{suffix_num}')\n",
    "    \n",
    "    return [df, f'diff_sst_{suffix_num}_first',\n",
    "    f'diff_sst_{suffix_num}_min',\n",
    "    f'diff_sst_{suffix_num}_max',\n",
    "    f'range_sst_{suffix_num}', f'scale_sst_{suffix_num}']\n",
    "    \n"
   ]
  },
  {
   "cell_type": "code",
   "execution_count": 32,
   "id": "49685bc2",
   "metadata": {},
   "outputs": [],
   "source": [
    "# first_sst_df = create_df_by_group_and_agg(df, season_group_cols, \"first\", stt_col, \"first_sst\")\n",
    "# first_sst_df.head(3)"
   ]
  },
  {
   "cell_type": "code",
   "execution_count": 33,
   "id": "a676e9bd",
   "metadata": {},
   "outputs": [],
   "source": [
    "# first_sst_5_df = create_df_by_group_and_agg(df, season_group_cols, \"first\", sst_col_5, \"first_sst_5\")\n",
    "# first_sst_5_df.head(3)"
   ]
  },
  {
   "cell_type": "code",
   "execution_count": 34,
   "id": "122776f7",
   "metadata": {},
   "outputs": [],
   "source": [
    "# first_sst_3_df = create_df_by_group_and_agg(df, season_group_cols, \"first\", sst_col_3, \"first_sst_3\")\n",
    "# first_sst_3_df.head(3)"
   ]
  },
  {
   "cell_type": "code",
   "execution_count": 35,
   "id": "e7cefe67",
   "metadata": {},
   "outputs": [],
   "source": [
    "# first_sst_4_df = create_df_by_group_and_agg(df, season_group_cols, \"first\", sst_col_4, \"first_sst_4\")\n",
    "# first_sst_4_df.head(3)"
   ]
  },
  {
   "cell_type": "code",
   "execution_count": 36,
   "id": "9119aee5",
   "metadata": {},
   "outputs": [],
   "source": [
    "# min_sst_df = create_df_by_group_and_agg(df, season_group_cols, \"min\", stt_col, \"min_sst\")\n",
    "# min_sst_df.head(3)"
   ]
  },
  {
   "cell_type": "code",
   "execution_count": 37,
   "id": "8538ddbe",
   "metadata": {},
   "outputs": [],
   "source": [
    "# min_sst_5_df = create_df_by_group_and_agg(df, season_group_cols, \"min\", sst_col_5, \"min_sst_5\")\n",
    "# min_sst_5_df.head(3)"
   ]
  },
  {
   "cell_type": "code",
   "execution_count": 38,
   "id": "9775ff6e",
   "metadata": {},
   "outputs": [],
   "source": [
    "# min_sst_3_df = create_df_by_group_and_agg(df, season_group_cols, \"min\", sst_col_3, \"min_sst_3\")\n",
    "# min_sst_3_df.head(3)"
   ]
  },
  {
   "cell_type": "code",
   "execution_count": 39,
   "id": "55f75bed",
   "metadata": {},
   "outputs": [],
   "source": [
    "# min_sst_4_df = create_df_by_group_and_agg(df, season_group_cols, \"min\", sst_col_4, \"min_sst_4\")\n",
    "# min_sst_4_df.head(3)"
   ]
  },
  {
   "cell_type": "code",
   "execution_count": 40,
   "id": "74bce092",
   "metadata": {},
   "outputs": [],
   "source": [
    "# max_sst_df = create_df_by_group_and_agg(df, season_group_cols, \"max\", stt_col, \"max_sst\")\n",
    "# max_sst_df.head(3)"
   ]
  },
  {
   "cell_type": "code",
   "execution_count": 41,
   "id": "21637e4c",
   "metadata": {},
   "outputs": [],
   "source": [
    "# max_sst_5_df = create_df_by_group_and_agg(df, season_group_cols, \"max\", sst_col_5, \"max_sst_5\")\n",
    "# max_sst_5_df.head(3)"
   ]
  },
  {
   "cell_type": "code",
   "execution_count": 42,
   "id": "4b1453cc",
   "metadata": {},
   "outputs": [],
   "source": [
    "# max_sst_3_df = create_df_by_group_and_agg(df, season_group_cols, \"max\", sst_col_3, \"max_sst_3\")\n",
    "# max_sst_3_df.head(3)"
   ]
  },
  {
   "cell_type": "code",
   "execution_count": 43,
   "id": "09a0025d",
   "metadata": {},
   "outputs": [],
   "source": [
    "# max_sst_4_df = create_df_by_group_and_agg(df, season_group_cols, \"max\", sst_col_4, \"max_sst_4\")\n",
    "# max_sst_4_df.head(3)"
   ]
  },
  {
   "cell_type": "code",
   "execution_count": 44,
   "id": "82f437d2",
   "metadata": {
    "scrolled": true
   },
   "outputs": [
    {
     "name": "stdout",
     "output_type": "stream",
     "text": [
      "Nan\n"
     ]
    },
    {
     "data": {
      "text/html": [
       "<div>\n",
       "<style scoped>\n",
       "    .dataframe tbody tr th:only-of-type {\n",
       "        vertical-align: middle;\n",
       "    }\n",
       "\n",
       "    .dataframe tbody tr th {\n",
       "        vertical-align: top;\n",
       "    }\n",
       "\n",
       "    .dataframe thead th {\n",
       "        text-align: right;\n",
       "    }\n",
       "</style>\n",
       "<table border=\"1\" class=\"dataframe\">\n",
       "  <thead>\n",
       "    <tr style=\"text-align: right;\">\n",
       "      <th></th>\n",
       "      <th>loc_group</th>\n",
       "      <th>climate_type</th>\n",
       "      <th>year</th>\n",
       "      <th>season</th>\n",
       "      <th>month</th>\n",
       "      <th>first_slp_month</th>\n",
       "    </tr>\n",
       "  </thead>\n",
       "  <tbody>\n",
       "    <tr>\n",
       "      <th>0</th>\n",
       "      <td>0</td>\n",
       "      <td>BSh</td>\n",
       "      <td>2014</td>\n",
       "      <td>3</td>\n",
       "      <td>9</td>\n",
       "      <td>1352.08</td>\n",
       "    </tr>\n",
       "    <tr>\n",
       "      <th>1</th>\n",
       "      <td>0</td>\n",
       "      <td>BSh</td>\n",
       "      <td>2014</td>\n",
       "      <td>3</td>\n",
       "      <td>10</td>\n",
       "      <td>1254.96</td>\n",
       "    </tr>\n",
       "    <tr>\n",
       "      <th>2</th>\n",
       "      <td>0</td>\n",
       "      <td>BSh</td>\n",
       "      <td>2014</td>\n",
       "      <td>3</td>\n",
       "      <td>11</td>\n",
       "      <td>1952.19</td>\n",
       "    </tr>\n",
       "  </tbody>\n",
       "</table>\n",
       "</div>"
      ],
      "text/plain": [
       "   loc_group climate_type  year  season  month  first_slp_month\n",
       "0          0          BSh  2014       3      9          1352.08\n",
       "1          0          BSh  2014       3     10          1254.96\n",
       "2          0          BSh  2014       3     11          1952.19"
      ]
     },
     "execution_count": 44,
     "metadata": {},
     "output_type": "execute_result"
    }
   ],
   "source": [
    "first_slp_df_month = create_df_by_group_and_agg(df, group_cols, \"first\", slp_col, \"first_slp_month\")\n",
    "first_slp_df_month.head(3)"
   ]
  },
  {
   "cell_type": "code",
   "execution_count": 45,
   "id": "12de230a",
   "metadata": {},
   "outputs": [],
   "source": [
    "df = df.merge(first_slp_df, how='left', on=season_group_cols)\n",
    "df['diff_slp_first'] = df[slp_col] - df['first_slp']\n",
    "assign_train_test_df('diff_slp_first')"
   ]
  },
  {
   "cell_type": "code",
   "execution_count": 46,
   "id": "7c589eec",
   "metadata": {},
   "outputs": [],
   "source": [
    "df = df.merge(first_precip_df, how='left', on=season_group_cols)\n",
    "df['diff_precip_first'] = df[precip_col] - df['first_precip']\n",
    "assign_train_test_df('diff_precip_first')"
   ]
  },
  {
   "cell_type": "code",
   "execution_count": 47,
   "id": "61fcf9a5",
   "metadata": {},
   "outputs": [],
   "source": [
    "# df = df.merge(first_sst_df, how='left', on=season_group_cols)\n",
    "# df['diff_sst_first'] = df[stt_col] - df['first_sst']\n",
    "# assign_train_test_df('diff_sst_first')"
   ]
  },
  {
   "cell_type": "code",
   "execution_count": 48,
   "id": "686fd1f7",
   "metadata": {},
   "outputs": [],
   "source": [
    "# df = df.merge(first_sst_5_df, how='left', on=season_group_cols)\n",
    "# df['diff_sst_5_first'] = df[sst_col_5] - df['first_sst_5']\n",
    "# assign_train_test_df('diff_sst_5_first')"
   ]
  },
  {
   "cell_type": "code",
   "execution_count": 49,
   "id": "0f27dae7",
   "metadata": {},
   "outputs": [],
   "source": [
    "# df = df.merge(first_sst_3_df, how='left', on=season_group_cols)\n",
    "# df['diff_sst_3_first'] = df[sst_col_3] - df['first_sst_3']\n",
    "# assign_train_test_df('diff_sst_3_first')"
   ]
  },
  {
   "cell_type": "code",
   "execution_count": 50,
   "id": "163b02ae",
   "metadata": {},
   "outputs": [],
   "source": [
    "# df = df.merge(first_sst_4_df, how='left', on=season_group_cols)\n",
    "# df['diff_sst_4_first'] = df[sst_col_4] - df['first_sst_4']\n",
    "# assign_train_test_df('diff_sst_4_first')"
   ]
  },
  {
   "cell_type": "code",
   "execution_count": 51,
   "id": "6c0d0889",
   "metadata": {},
   "outputs": [],
   "source": [
    "# df = df.merge(min_sst_df, how='left', on=season_group_cols)\n",
    "# df['diff_sst_min'] = df[stt_col] - df['min_sst']\n",
    "# assign_train_test_df('diff_sst_min')"
   ]
  },
  {
   "cell_type": "code",
   "execution_count": 52,
   "id": "8f2b200a",
   "metadata": {},
   "outputs": [],
   "source": [
    "# df = df.merge(max_sst_df, how='left', on=season_group_cols)\n",
    "# df['diff_sst_max'] = df['max_sst'] - df[stt_col]\n",
    "# assign_train_test_df('diff_sst_max')"
   ]
  },
  {
   "cell_type": "code",
   "execution_count": 53,
   "id": "45a87000",
   "metadata": {},
   "outputs": [],
   "source": [
    "# df = df.merge(max_sst_5_df, how='left', on=season_group_cols)\n",
    "# df['diff_sst_5_max'] = df[sst_col_5] - df['max_sst_5']\n",
    "# assign_train_test_df('diff_sst_5_max')"
   ]
  },
  {
   "cell_type": "code",
   "execution_count": 54,
   "id": "e1d444d3",
   "metadata": {},
   "outputs": [],
   "source": [
    "# df = df.merge(max_sst_3_df, how='left', on=season_group_cols)\n",
    "# df['diff_sst_3_max'] = df[sst_col_3] - df['max_sst_3']\n",
    "# assign_train_test_df('diff_sst_3_max')"
   ]
  },
  {
   "cell_type": "code",
   "execution_count": 55,
   "id": "a9e44bcc",
   "metadata": {},
   "outputs": [],
   "source": [
    "# df = df.merge(max_sst_4_df, how='left', on=season_group_cols)\n",
    "# df['diff_sst_4_max'] = df[sst_col_4] - df['max_sst_4']\n",
    "# assign_train_test_df('diff_sst_4_max')"
   ]
  },
  {
   "cell_type": "code",
   "execution_count": 56,
   "id": "21937156",
   "metadata": {},
   "outputs": [],
   "source": [
    "# df = df.merge(min_sst_5_df, how='left', on=season_group_cols)\n",
    "# df['diff_sst_5_min'] = df[sst_col_5] - df['min_sst_5']\n",
    "# assign_train_test_df('diff_sst_5_min')"
   ]
  },
  {
   "cell_type": "code",
   "execution_count": 57,
   "id": "57e35be4",
   "metadata": {},
   "outputs": [],
   "source": [
    "# df = df.merge(min_sst_3_df, how='left', on=season_group_cols)\n",
    "# df['diff_sst_3_min'] = df[sst_col_3] - df['min_sst_3']\n",
    "# assign_train_test_df('diff_sst_3_min')"
   ]
  },
  {
   "cell_type": "code",
   "execution_count": 58,
   "id": "96a2923c",
   "metadata": {},
   "outputs": [],
   "source": [
    "# df = df.merge(min_sst_4_df, how='left', on=season_group_cols)\n",
    "# df['diff_sst_4_min'] = df[sst_col_3] - df['min_sst_4']\n",
    "# assign_train_test_df('diff_sst_4_min')"
   ]
  },
  {
   "cell_type": "code",
   "execution_count": 59,
   "id": "0df28569",
   "metadata": {},
   "outputs": [],
   "source": [
    "df = df.merge(first_pres_df, how='left', on=season_group_cols)\n",
    "df['diff_pres_first'] = df[pres_col] - df['first_pres']\n",
    "assign_train_test_df('diff_pres_first')"
   ]
  },
  {
   "cell_type": "code",
   "execution_count": 60,
   "id": "5f0c2fd8",
   "metadata": {},
   "outputs": [],
   "source": [
    "df = df.merge(first_wind_df, how='left', on=season_group_cols)\n",
    "df['diff_wind_first'] = df[wind_col] - df['first_wind']\n",
    "assign_train_test_df('diff_wind_first')"
   ]
  },
  {
   "cell_type": "code",
   "execution_count": 61,
   "id": "fbd4808f",
   "metadata": {},
   "outputs": [],
   "source": [
    "df = df.merge(first_ccsm3_df, how='left', on=season_group_cols)\n",
    "df['diff_ccsm3_first'] = df[ccsm3_col] - df['first_ccsm3']\n",
    "assign_train_test_df('diff_ccsm3_first')"
   ]
  },
  {
   "cell_type": "code",
   "execution_count": 62,
   "id": "f3fab9ab",
   "metadata": {},
   "outputs": [],
   "source": [
    "# df[f'{precip_col}_bins'] = pd.qcut(df[precip_col], q=5, labels=[f'{precip_col}_{i}' for i in range(5)])\n",
    "# le = LabelEncoder().fit(np.unique(df[f'{precip_col}_bins'].unique().tolist()))\n",
    "# df[f'{precip_col}_bins'] = le.transform(df[f'{precip_col}_bins']) + 1\n",
    "# df[f'{precip_col}_bins'] = df[f'{precip_col}_bins'].replace(np.nan, 0).astype('int').astype('category')\n",
    "# assign_train_test_df(f'{precip_col}_bins')"
   ]
  },
  {
   "cell_type": "code",
   "execution_count": 63,
   "id": "c30565f9",
   "metadata": {},
   "outputs": [],
   "source": [
    "# df['range_sst'] = df['max_sst'] - df['min_sst']\n",
    "# assign_train_test_df('range_sst')"
   ]
  },
  {
   "cell_type": "code",
   "execution_count": 64,
   "id": "de107ae0",
   "metadata": {},
   "outputs": [],
   "source": [
    "# df['range_sst_5'] = df['max_sst_5'] - df['min_sst_5']\n",
    "# assign_train_test_df('range_sst_5')"
   ]
  },
  {
   "cell_type": "code",
   "execution_count": 65,
   "id": "4782c3a1",
   "metadata": {},
   "outputs": [],
   "source": [
    "# df['range_sst_3'] = df['max_sst_3'] - df['min_sst_3']\n",
    "# assign_train_test_df('range_sst_3')"
   ]
  },
  {
   "cell_type": "code",
   "execution_count": 66,
   "id": "b904077e",
   "metadata": {},
   "outputs": [],
   "source": [
    "# df['range_sst_4'] = df['max_sst_4'] - df['min_sst_4']\n",
    "# assign_train_test_df('range_sst_4')"
   ]
  },
  {
   "cell_type": "code",
   "execution_count": 67,
   "id": "7068d0e0",
   "metadata": {},
   "outputs": [
    {
     "data": {
      "text/plain": [
       "['sst-2010-1',\n",
       " 'sst-2010-2',\n",
       " 'sst-2010-3',\n",
       " 'sst-2010-4',\n",
       " 'sst-2010-5',\n",
       " 'sst-2010-6',\n",
       " 'sst-2010-7',\n",
       " 'sst-2010-8',\n",
       " 'sst-2010-9',\n",
       " 'sst-2010-10']"
      ]
     },
     "execution_count": 67,
     "metadata": {},
     "output_type": "execute_result"
    }
   ],
   "source": [
    "sst_col_list"
   ]
  },
  {
   "cell_type": "code",
   "execution_count": 68,
   "id": "403abed2",
   "metadata": {},
   "outputs": [
    {
     "name": "stdout",
     "output_type": "stream",
     "text": [
      "Nan\n",
      "Nan\n",
      "Nan\n",
      "Bug:  0\n",
      "Nan\n",
      "Nan\n",
      "Nan\n",
      "Bug:  0\n",
      "Nan\n",
      "Nan\n",
      "Nan\n",
      "Bug:  0\n",
      "Nan\n",
      "Nan\n",
      "Nan\n",
      "Bug:  0\n",
      "Nan\n",
      "Nan\n",
      "Nan\n",
      "Bug:  0\n",
      "Nan\n",
      "Nan\n",
      "Nan\n",
      "Bug:  0\n",
      "Nan\n",
      "Nan\n",
      "Nan\n",
      "Bug:  0\n",
      "Nan\n",
      "Nan\n",
      "Nan\n",
      "Bug:  0\n",
      "Nan\n",
      "Nan\n",
      "Nan\n",
      "Bug:  0\n",
      "Nan\n",
      "Nan\n",
      "Nan\n",
      "Bug:  0\n"
     ]
    }
   ],
   "source": [
    "sst_10_res = create_sst_feature(df, 'sst-2010-10', 10, season_group_cols)\n",
    "df = sst_10_res[0]\n",
    "sst_feature_10 = sst_10_res[1:]\n",
    "\n",
    "sst_9_res = create_sst_feature(df, 'sst-2010-9', 9, season_group_cols)\n",
    "df = sst_9_res[0]\n",
    "sst_feature_9 = sst_9_res[1:]\n",
    "\n",
    "sst_8_res = create_sst_feature(df, 'sst-2010-8', 8, season_group_cols)\n",
    "df = sst_8_res[0]\n",
    "sst_feature_8 = sst_8_res[1:]\n",
    "\n",
    "sst_7_res = create_sst_feature(df, 'sst-2010-7', 7, season_group_cols)\n",
    "df = sst_7_res[0]\n",
    "sst_feature_7 = sst_7_res[1:]\n",
    "\n",
    "sst_6_res = create_sst_feature(df, 'sst-2010-6', 6, season_group_cols)\n",
    "df = sst_6_res[0]\n",
    "sst_feature_6 = sst_6_res[1:]\n",
    "\n",
    "sst_1_res = create_sst_feature(df, 'sst-2010-1', 1, season_group_cols)\n",
    "df = sst_1_res[0]\n",
    "sst_feature_1 = sst_1_res[1:]\n",
    "\n",
    "sst_3_res = create_sst_feature(df, 'sst-2010-3', 3, season_group_cols)\n",
    "df = sst_3_res[0]\n",
    "sst_feature_3 = sst_3_res[1:]\n",
    "\n",
    "sst_2_res = create_sst_feature(df, 'sst-2010-2', 2, season_group_cols)\n",
    "df = sst_2_res[0]\n",
    "sst_feature_2 = sst_2_res[1:]\n",
    "\n",
    "\n",
    "sst_4_res = create_sst_feature(df, 'sst-2010-4', 4, season_group_cols)\n",
    "df = sst_4_res[0]\n",
    "sst_feature_4 = sst_4_res[1:]\n",
    "\n",
    "\n",
    "sst_5_res = create_sst_feature(df, 'sst-2010-5', 5, season_group_cols)\n",
    "df = sst_5_res[0]\n",
    "sst_feature_5 = sst_5_res[1:]\n"
   ]
  },
  {
   "cell_type": "code",
   "execution_count": 69,
   "id": "a5ec3a09",
   "metadata": {},
   "outputs": [],
   "source": [
    "features = best_cols + [\n",
    "    'diff_slp_first',\n",
    "    'diff_wind_first',\n",
    "#     'diff_sst_first',\n",
    "    'diff_precip_first',\n",
    "#     'diff_sst_min',\n",
    "#     'diff_sst_max',\n",
    "#     'range_sst',\n",
    "#     'diff_sst_5_first',\n",
    "#     'diff_sst_5_min',\n",
    "#     'diff_sst_5_max',\n",
    "#     'range_sst_5',\n",
    "#     'diff_sst_3_first',\n",
    "#     'diff_sst_3_min',\n",
    "#     'diff_sst_3_max',\n",
    "#     'range_sst_3',\n",
    "#     'diff_sst_4_first',\n",
    "#     'diff_sst_4_min',\n",
    "#     'diff_sst_4_max',\n",
    "#     'range_sst_4'\n",
    "] + sst_feature_10 + sst_feature_9 + sst_feature_8 + sst_feature_7 + sst_feature_6 + sst_feature_1 + sst_feature_2 + sst_feature_3 + sst_feature_4 + sst_feature_5"
   ]
  },
  {
   "cell_type": "code",
   "execution_count": 70,
   "id": "efa7ea4b",
   "metadata": {},
   "outputs": [
    {
     "data": {
      "text/plain": [
       "['contest-wind-h500-14d__wind-hgt-500',\n",
       " 'contest-slp-14d__slp',\n",
       " 'nmme-tmp2m-34w__ccsm3',\n",
       " 'elevation__elevation',\n",
       " 'lon',\n",
       " 'contest-prwtr-eatm-14d__prwtr',\n",
       " 'lat',\n",
       " 'climateregions__climateregion',\n",
       " 'contest-pres-sfc-gauss-14d__pres',\n",
       " 'season_sin',\n",
       " 'day_of_year_sin',\n",
       " 'contest-precip-14d__precip',\n",
       " 'contest-wind-uwnd-250-14d__wind-uwnd-250',\n",
       " 'nmme-prate-34w__cfsv2',\n",
       " 'nmme-prate-34w__nasa',\n",
       " 'nmme-prate-56w__gfdlflora',\n",
       " 'wind-uwnd-250-2010-7',\n",
       " 'contest-wind-vwnd-925-14d__wind-vwnd-925',\n",
       " 'nmme-prate-34w__nmmemean',\n",
       " 'nmme0-prate-34w__ccsm30',\n",
       " 'contest-wind-h850-14d__wind-hgt-850',\n",
       " 'contest-wind-uwnd-925-14d__wind-uwnd-925',\n",
       " 'nmme0-prate-56w__cfsv20',\n",
       " 'nmme-prate-34w__cancm3',\n",
       " 'contest-rhum-sig995-14d__rhum',\n",
       " 'nmme-prate-34w__gfdlflorb',\n",
       " 'wind-hgt-850-2010-4',\n",
       " 'contest-wind-vwnd-250-14d__wind-vwnd-250',\n",
       " 'wind-hgt-100-2010-2',\n",
       " 'wind-uwnd-250-2010-18',\n",
       " 'wind-hgt-10-2010-5',\n",
       " 'wind-uwnd-250-2010-15',\n",
       " 'wind-uwnd-250-2010-4',\n",
       " 'nmme0-prate-56w__nasa0',\n",
       " 'nmme0-prate-34w__cfsv20',\n",
       " 'wind-vwnd-250-2010-10',\n",
       " 'contest-wind-h10-14d__wind-hgt-10',\n",
       " 'wind-uwnd-925-2010-15',\n",
       " 'wind-vwnd-250-2010-3',\n",
       " 'nmme-prate-34w__cancm4',\n",
       " 'sst-2010-4',\n",
       " 'nmme0-prate-56w__ccsm30',\n",
       " 'wind-uwnd-250-2010-16',\n",
       " 'nmme0-prate-34w__gfdl0',\n",
       " 'nmme0-prate-56w__cancm40',\n",
       " 'sst-2010-1',\n",
       " 'sst-2010-3',\n",
       " 'wind-uwnd-250-2010-14',\n",
       " 'nmme0-prate-34w__gfdlflora0',\n",
       " 'nmme-prate-34w__gfdl',\n",
       " 'wind-hgt-850-2010-9',\n",
       " 'wind-vwnd-250-2010-1',\n",
       " 'sst-2010-5',\n",
       " 'cancm30',\n",
       " 'nmme-prate-34w__ccsm4',\n",
       " 'nmme0-prate-34w__nasa0',\n",
       " 'wind-hgt-500-2010-9',\n",
       " 'nmme0-prate-34w__cancm30',\n",
       " 'wind-vwnd-250-2010-13',\n",
       " 'wind_diff',\n",
       " 'wind_diff_min',\n",
       " 'wind_diff_min_month',\n",
       " 'wind_diff_month',\n",
       " 'diff_slp_first',\n",
       " 'diff_wind_first',\n",
       " 'diff_precip_first',\n",
       " 'diff_sst_10_first',\n",
       " 'diff_sst_10_min',\n",
       " 'diff_sst_10_max',\n",
       " 'range_sst_10',\n",
       " 'scale_sst_10',\n",
       " 'diff_sst_9_first',\n",
       " 'diff_sst_9_min',\n",
       " 'diff_sst_9_max',\n",
       " 'range_sst_9',\n",
       " 'scale_sst_9',\n",
       " 'diff_sst_8_first',\n",
       " 'diff_sst_8_min',\n",
       " 'diff_sst_8_max',\n",
       " 'range_sst_8',\n",
       " 'scale_sst_8',\n",
       " 'diff_sst_7_first',\n",
       " 'diff_sst_7_min',\n",
       " 'diff_sst_7_max',\n",
       " 'range_sst_7',\n",
       " 'scale_sst_7',\n",
       " 'diff_sst_6_first',\n",
       " 'diff_sst_6_min',\n",
       " 'diff_sst_6_max',\n",
       " 'range_sst_6',\n",
       " 'scale_sst_6',\n",
       " 'diff_sst_1_first',\n",
       " 'diff_sst_1_min',\n",
       " 'diff_sst_1_max',\n",
       " 'range_sst_1',\n",
       " 'scale_sst_1',\n",
       " 'diff_sst_2_first',\n",
       " 'diff_sst_2_min',\n",
       " 'diff_sst_2_max',\n",
       " 'range_sst_2',\n",
       " 'scale_sst_2',\n",
       " 'diff_sst_3_first',\n",
       " 'diff_sst_3_min',\n",
       " 'diff_sst_3_max',\n",
       " 'range_sst_3',\n",
       " 'scale_sst_3',\n",
       " 'diff_sst_4_first',\n",
       " 'diff_sst_4_min',\n",
       " 'diff_sst_4_max',\n",
       " 'range_sst_4',\n",
       " 'scale_sst_4',\n",
       " 'diff_sst_5_first',\n",
       " 'diff_sst_5_min',\n",
       " 'diff_sst_5_max',\n",
       " 'range_sst_5',\n",
       " 'scale_sst_5']"
      ]
     },
     "execution_count": 70,
     "metadata": {},
     "output_type": "execute_result"
    }
   ],
   "source": [
    "features"
   ]
  },
  {
   "cell_type": "code",
   "execution_count": 71,
   "id": "cfe64dcb",
   "metadata": {},
   "outputs": [],
   "source": [
    "test_df['index'] = add_test['index']"
   ]
  },
  {
   "cell_type": "code",
   "execution_count": 73,
   "id": "2c715754",
   "metadata": {},
   "outputs": [
    {
     "data": {
      "text/plain": [
       "True"
      ]
     },
     "execution_count": 73,
     "metadata": {},
     "output_type": "execute_result"
    }
   ],
   "source": [
    "'climate_type' in train_df.columns"
   ]
  },
  {
   "cell_type": "code",
   "execution_count": 74,
   "id": "d51df668",
   "metadata": {},
   "outputs": [],
   "source": [
    "train_df.to_csv('./fe_v2_train_076.csv', index=False)\n",
    "test_df.to_csv('./fe_v2_test_076.csv', index=False)"
   ]
  },
  {
   "cell_type": "code",
   "execution_count": null,
   "id": "67bd89c6",
   "metadata": {},
   "outputs": [],
   "source": [
    "X = train_df[features].values\n",
    "y = train_df[target[0]].values\n",
    "\n",
    "skf = KFold(n_splits=5, random_state=2048, shuffle=True)\n",
    "skf.get_n_splits(X, y)\n",
    "\n",
    "train_index_list = []\n",
    "test_index_list = []\n",
    "train_x_list = []\n",
    "val_x_list = []\n",
    "train_y_list = []\n",
    "val_y_list = []\n",
    "\n",
    "for i, (train_index, test_index) in tqdm(enumerate(skf.split(X, y))):\n",
    "    train_index_list.append(train_index)\n",
    "    test_index_list.append(test_index)\n",
    "\n",
    "    train_x_list.append(X[train_index, :])\n",
    "    val_x_list.append(X[test_index, :])\n",
    "    train_y_list.append(y[train_index])\n",
    "    val_y_list.append(y[test_index])    \n",
    "def train_catboost(x, y):\n",
    "    print(x.shape, y.shape)\n",
    "    \n",
    "    cat_models = []\n",
    "    for i in tqdm(range(5)):\n",
    "        train_x, val_x = train_x_list[i], val_x_list[i]\n",
    "        train_y, val_y = train_y_list[i], val_y_list[i]\n",
    "        clf = CatBoostRegressor(iterations=5000, verbose=200, task_type=\"GPU\",\n",
    "                           devices='0:1')\n",
    "        clf.fit(train_x, train_y, eval_set=[(val_x, val_y)], verbose=200, early_stopping_rounds=100)\n",
    "        cat_models.append(clf)\n",
    "    \n",
    "    return cat_models\n",
    "cat_models = train_catboost(X, y)\n",
    "\n",
    "preds = []\n",
    "for cat_model in tqdm(cat_models):\n",
    "    preds.append(cat_model.predict(test_df[features].values))\n",
    "s = 0\n",
    "for pred in preds:\n",
    "    s += pred\n",
    "s = s/5\n",
    "res_df = pd.read_csv('./sample_solution.csv')\n",
    "res_df['contest-tmp2m-14d__tmp2m'] = s\n",
    "res_df.to_csv('submission_fe_v4.csv', index=False)\n",
    "\n",
    "best_df = pd.read_csv('best_sub.csv')\n",
    "y_best = best_df[target[0]].values\n",
    "\n",
    "from numpy import dot\n",
    "from numpy.linalg import norm\n",
    "\n",
    "cos_sim = dot(y_best, s)/(norm(y_best)*norm(s))\n",
    "print(\"cos_sim with best submission:\", cos_sim)"
   ]
  }
 ],
 "metadata": {
  "kernelspec": {
   "display_name": "wids-env",
   "language": "python",
   "name": "wids-env"
  },
  "language_info": {
   "codemirror_mode": {
    "name": "ipython",
    "version": 3
   },
   "file_extension": ".py",
   "mimetype": "text/x-python",
   "name": "python",
   "nbconvert_exporter": "python",
   "pygments_lexer": "ipython3",
   "version": "3.7.15"
  }
 },
 "nbformat": 4,
 "nbformat_minor": 5
}
