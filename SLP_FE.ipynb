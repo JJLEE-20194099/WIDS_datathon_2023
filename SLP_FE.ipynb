{
 "cells": [
  {
   "cell_type": "code",
   "execution_count": 1,
   "id": "3386af7a",
   "metadata": {},
   "outputs": [],
   "source": [
    "import numpy as np\n",
    "import pandas as pd\n",
    "import seaborn as sns\n",
    "import torch\n",
    "import torch.nn as nn\n",
    "import torch.nn.functional as f\n",
    "pd.set_option('display.max_columns', None)\n",
    "import matplotlib.pyplot as plt\n",
    "from sklearn.model_selection import train_test_split\n",
    "from torch.utils.data import DataLoader\n",
    "from sklearn import preprocessing\n",
    "from tqdm import tqdm\n",
    "from sklearn.preprocessing import FunctionTransformer\n",
    "import seaborn as sns \n",
    "from scipy import stats\n",
    "import statsmodels.api as sm\n",
    "\n",
    "from sklearn.ensemble import RandomForestRegressor, ExtraTreesRegressor, AdaBoostRegressor, BaggingRegressor, GradientBoostingRegressor\n",
    "from sklearn.tree import DecisionTreeRegressor\n",
    "from sklearn.linear_model import ElasticNet, Lasso\n",
    "from sklearn.feature_selection import SelectFromModel\n",
    "from sklearn.svm import SVR\n",
    "from sklearn.model_selection import KFold, cross_val_score\n",
    "from sklearn.pipeline import make_pipeline\n",
    "from sklearn.decomposition import PCA\n",
    "from sklearn.preprocessing import RobustScaler\n",
    "import h2o\n",
    "from h2o.automl import H2OAutoML\n",
    "from sklearn.base import BaseEstimator, TransformerMixin, RegressorMixin, clone\n",
    "from sklearn.neural_network import MLPRegressor\n",
    "from scipy.stats import norm\n",
    "import copy\n",
    "from sklearn.model_selection import KFold\n",
    "from catboost import CatBoostRegressor, Pool, metrics, cv\n",
    "import xgboost as xgb\n",
    "from scipy.stats import gmean\n",
    "from sklearn.impute import KNNImputer\n",
    "from sklearn.metrics import mean_squared_error\n",
    "from sklearn.preprocessing import LabelEncoder"
   ]
  },
  {
   "cell_type": "code",
   "execution_count": 2,
   "id": "e9672bdb",
   "metadata": {},
   "outputs": [],
   "source": [
    "add_train = pd.read_csv('./n_train.csv')\n",
    "add_test = pd.read_csv('./n_test.csv')"
   ]
  },
  {
   "cell_type": "code",
   "execution_count": 3,
   "id": "bea71269",
   "metadata": {},
   "outputs": [],
   "source": [
    "climate_type_dict = {'1':'BSk',\n",
    " '9': 'Dfb',\n",
    " '4': 'Cfa',\n",
    " '7': 'Csb',\n",
    " '8': 'Dfa',\n",
    " '3': 'BWk',\n",
    " '10': 'Dfc',\n",
    " '2': 'BWh',\n",
    " '6': 'Csa',\n",
    " '11': 'Dsb',\n",
    " '0': 'BSh',\n",
    " '5': 'Cfb',\n",
    " '12': 'Dsc',\n",
    " '13': 'Dwa',\n",
    " '14': 'Dwb'}"
   ]
  },
  {
   "cell_type": "code",
   "execution_count": 4,
   "id": "9e51df3a",
   "metadata": {},
   "outputs": [],
   "source": [
    "all_cols = add_train.columns.tolist()"
   ]
  },
  {
   "cell_type": "code",
   "execution_count": 5,
   "id": "68ccb166",
   "metadata": {},
   "outputs": [],
   "source": [
    "target=[\"contest-tmp2m-14d__tmp2m\"]"
   ]
  },
  {
   "cell_type": "code",
   "execution_count": 6,
   "id": "b8e42904",
   "metadata": {},
   "outputs": [
    {
     "name": "stdout",
     "output_type": "stream",
     "text": [
      "climateregions__climateregion\n"
     ]
    }
   ],
   "source": [
    "train_df =  pd.read_csv('fe_v1_train.csv')\n",
    "test_df  =  pd.read_csv('fe_v1_test.csv')\n",
    "for c in train_df.columns:\n",
    "    if train_df[c].dtypes != 'float64':\n",
    "        print(c)"
   ]
  },
  {
   "cell_type": "code",
   "execution_count": 7,
   "id": "f30438f9",
   "metadata": {},
   "outputs": [
    {
     "name": "stdout",
     "output_type": "stream",
     "text": [
      "Main features: 63\n"
     ]
    }
   ],
   "source": [
    "exclude_cols = ['index', 'startdate']\n",
    "best_cols = [c for c in train_df.columns if c not in exclude_cols and c not in target]\n",
    "print(\"Main features:\", len(best_cols))"
   ]
  },
  {
   "cell_type": "code",
   "execution_count": 8,
   "id": "02dfe6bb",
   "metadata": {},
   "outputs": [
    {
     "name": "stdout",
     "output_type": "stream",
     "text": [
      "contest-precip-14d__precip\n"
     ]
    }
   ],
   "source": [
    "for c in all_cols:\n",
    "    if 'contest-precip-14d' in c:\n",
    "        print(c)"
   ]
  },
  {
   "cell_type": "code",
   "execution_count": 9,
   "id": "edc61c32",
   "metadata": {},
   "outputs": [],
   "source": [
    "def calculate_season(month):\n",
    "    if month == 12 or month == 1 or month == 2:\n",
    "        return 4\n",
    "    if month == 9 or month == 10 or month == 11:\n",
    "        return 3\n",
    "    if month == 7 or month == 8 or month == 6:\n",
    "        return 2\n",
    "    if month == 3 or month == 4 or month == 5:\n",
    "        return 1"
   ]
  },
  {
   "cell_type": "code",
   "execution_count": 10,
   "id": "0c4fe7f6",
   "metadata": {},
   "outputs": [],
   "source": [
    "train_df['month'] = add_train['month']\n",
    "test_df['month'] = add_test['month']\n",
    "\n",
    "train_df['season'] = train_df['month'].apply(calculate_season)\n",
    "test_df['season'] = test_df['month'].apply(calculate_season)\n",
    "\n",
    "train_df['loc_group'] = add_train['loc_group']\n",
    "test_df['loc_group'] = add_test['loc_group']\n",
    "\n",
    "train_df['year'] = add_train['year']\n",
    "test_df['year'] = add_test['year']\n",
    "\n",
    "def map_climate_type(x):\n",
    "    return climate_type_dict[str(x)]\n",
    "\n",
    "train_df['climate_type'] = train_df['climateregions__climateregion'].apply(map_climate_type)\n",
    "test_df['climate_type'] = train_df['climateregions__climateregion'].apply(map_climate_type)\n",
    "\n",
    "precip_col = 'contest-precip-14d__precip'\n",
    "wind_col = 'contest-wind-h500-14d__wind-hgt-500'\n",
    "\n",
    "group_cols = ['loc_group', 'climate_type', 'year', 'season', 'month']\n",
    "season_group_cols = ['loc_group', 'climate_type', 'year', 'season']\n"
   ]
  },
  {
   "cell_type": "code",
   "execution_count": 11,
   "id": "7dd14ae4",
   "metadata": {},
   "outputs": [],
   "source": [
    "slp_col = 'contest-slp-14d__slp'"
   ]
  },
  {
   "cell_type": "code",
   "execution_count": 12,
   "id": "c08ffb7b",
   "metadata": {},
   "outputs": [
    {
     "name": "stdout",
     "output_type": "stream",
     "text": [
      "100379.21 103275.84\n",
      "100593.22 102258.27\n"
     ]
    }
   ],
   "source": [
    "print(train_df[slp_col].min(), train_df[slp_col].max())\n",
    "print(test_df[slp_col].min(), test_df[slp_col].max())"
   ]
  },
  {
   "cell_type": "code",
   "execution_count": 13,
   "id": "6f70ee51",
   "metadata": {},
   "outputs": [],
   "source": [
    "train_df[slp_col] = train_df[slp_col] - 100000\n",
    "test_df[slp_col] = test_df[slp_col] - 100000"
   ]
  },
  {
   "cell_type": "code",
   "execution_count": 14,
   "id": "90c1275c",
   "metadata": {},
   "outputs": [
    {
     "data": {
      "text/plain": [
       "(407088, 68)"
      ]
     },
     "execution_count": 14,
     "metadata": {},
     "output_type": "execute_result"
    }
   ],
   "source": [
    "check_cols = [c for c in train_df.columns if c not in target and c not in exclude_cols]\n",
    "\n",
    "df = pd.concat([train_df[check_cols], test_df[check_cols]], axis=0)\n",
    "df.shape"
   ]
  },
  {
   "cell_type": "code",
   "execution_count": 15,
   "id": "512247d4",
   "metadata": {},
   "outputs": [],
   "source": [
    "def create_df_by_group_and_agg(dataframe, grouped_cols, action, my_col, return_name):\n",
    "    if action == \"first\":\n",
    "        ans_df = dataframe.groupby(grouped_cols)[my_col].first().reset_index()\n",
    "    elif action == \"min\":\n",
    "        ans_df = dataframe.groupby(grouped_cols)[my_col].min().reset_index()\n",
    "    elif action == \"max\":\n",
    "        ans_df = dataframe.groupby(grouped_cols)[my_col].max().reset_index()\n",
    "    elif action == \"mean\":\n",
    "        ans_df = dataframe.groupby(grouped_cols)[my_col].mean().reset_index()\n",
    "    print(\"Nan\")\n",
    "    ans_df = ans_df.rename(columns={my_col: return_name})\n",
    "    for c in ans_df.columns:\n",
    "        if ans_df[c].isnull().sum() > 0:\n",
    "            print(c, ans_df[c].isnull().sum())\n",
    "    return ans_df"
   ]
  },
  {
   "cell_type": "code",
   "execution_count": 16,
   "id": "bce5e02e",
   "metadata": {},
   "outputs": [],
   "source": [
    "def assign_train_test_df(my_col):\n",
    "    train_df[my_col] = df[:len(train_df)][my_col].tolist()\n",
    "    test_df[my_col] = df[len(train_df):][my_col].tolist()"
   ]
  },
  {
   "cell_type": "code",
   "execution_count": 17,
   "id": "c37c0973",
   "metadata": {},
   "outputs": [
    {
     "name": "stdout",
     "output_type": "stream",
     "text": [
      "Nan\n"
     ]
    },
    {
     "data": {
      "text/html": [
       "<div>\n",
       "<style scoped>\n",
       "    .dataframe tbody tr th:only-of-type {\n",
       "        vertical-align: middle;\n",
       "    }\n",
       "\n",
       "    .dataframe tbody tr th {\n",
       "        vertical-align: top;\n",
       "    }\n",
       "\n",
       "    .dataframe thead th {\n",
       "        text-align: right;\n",
       "    }\n",
       "</style>\n",
       "<table border=\"1\" class=\"dataframe\">\n",
       "  <thead>\n",
       "    <tr style=\"text-align: right;\">\n",
       "      <th></th>\n",
       "      <th>loc_group</th>\n",
       "      <th>climate_type</th>\n",
       "      <th>year</th>\n",
       "      <th>season</th>\n",
       "      <th>first_slp</th>\n",
       "    </tr>\n",
       "  </thead>\n",
       "  <tbody>\n",
       "    <tr>\n",
       "      <th>0</th>\n",
       "      <td>0</td>\n",
       "      <td>BSh</td>\n",
       "      <td>2014</td>\n",
       "      <td>3</td>\n",
       "      <td>1352.08</td>\n",
       "    </tr>\n",
       "    <tr>\n",
       "      <th>1</th>\n",
       "      <td>0</td>\n",
       "      <td>BSh</td>\n",
       "      <td>2014</td>\n",
       "      <td>4</td>\n",
       "      <td>2072.81</td>\n",
       "    </tr>\n",
       "    <tr>\n",
       "      <th>2</th>\n",
       "      <td>0</td>\n",
       "      <td>BSh</td>\n",
       "      <td>2015</td>\n",
       "      <td>1</td>\n",
       "      <td>1917.24</td>\n",
       "    </tr>\n",
       "  </tbody>\n",
       "</table>\n",
       "</div>"
      ],
      "text/plain": [
       "   loc_group climate_type  year  season  first_slp\n",
       "0          0          BSh  2014       3    1352.08\n",
       "1          0          BSh  2014       4    2072.81\n",
       "2          0          BSh  2015       1    1917.24"
      ]
     },
     "execution_count": 17,
     "metadata": {},
     "output_type": "execute_result"
    }
   ],
   "source": [
    "first_slp_df = create_df_by_group_and_agg(df, season_group_cols, \"first\", slp_col, \"first_slp\")\n",
    "first_slp_df.head(3)"
   ]
  },
  {
   "cell_type": "code",
   "execution_count": 18,
   "id": "e1c1b5f4",
   "metadata": {},
   "outputs": [],
   "source": [
    "df = df.merge(first_slp_df, how='left', on=season_group_cols)\n",
    "df['diff_slp_first'] = df[slp_col] - df['first_slp']\n",
    "assign_train_test_df('diff_slp_first')"
   ]
  },
  {
   "cell_type": "code",
   "execution_count": 19,
   "id": "fd94bd45",
   "metadata": {},
   "outputs": [],
   "source": [
    "features = best_cols + [\n",
    "    'diff_slp_first'\n",
    "]"
   ]
  },
  {
   "cell_type": "code",
   "execution_count": 20,
   "id": "6f87cb2c",
   "metadata": {},
   "outputs": [
    {
     "name": "stderr",
     "output_type": "stream",
     "text": [
      "10it [00:10,  1.07s/it]\n"
     ]
    },
    {
     "name": "stdout",
     "output_type": "stream",
     "text": [
      "(375734, 64) (375734,)\n"
     ]
    },
    {
     "name": "stderr",
     "output_type": "stream",
     "text": [
      "\r",
      "  0%|                                                                                               | 0/10 [00:00<?, ?it/s]"
     ]
    },
    {
     "name": "stdout",
     "output_type": "stream",
     "text": [
      "Learning rate set to 0.073629\n",
      "0:\tlearn: 9.2559190\ttest: 9.1895026\tbest: 9.1895026 (0)\ttotal: 11.8ms\tremaining: 59.1s\n",
      "200:\tlearn: 1.1652037\ttest: 1.1650151\tbest: 1.1650151 (200)\ttotal: 1.16s\tremaining: 27.8s\n",
      "400:\tlearn: 0.9089806\ttest: 0.9107516\tbest: 0.9107516 (400)\ttotal: 2.15s\tremaining: 24.7s\n",
      "600:\tlearn: 0.7797909\ttest: 0.7846072\tbest: 0.7846072 (600)\ttotal: 3.32s\tremaining: 24.3s\n",
      "800:\tlearn: 0.6960305\ttest: 0.7037020\tbest: 0.7037020 (800)\ttotal: 4.46s\tremaining: 23.4s\n",
      "1000:\tlearn: 0.6355540\ttest: 0.6456774\tbest: 0.6456774 (1000)\ttotal: 5.51s\tremaining: 22s\n",
      "1200:\tlearn: 0.5912868\ttest: 0.6030987\tbest: 0.6030987 (1200)\ttotal: 6.69s\tremaining: 21.2s\n",
      "1400:\tlearn: 0.5573031\ttest: 0.5704500\tbest: 0.5704500 (1400)\ttotal: 7.65s\tremaining: 19.7s\n",
      "1600:\tlearn: 0.5282239\ttest: 0.5423669\tbest: 0.5423669 (1600)\ttotal: 8.58s\tremaining: 18.2s\n",
      "1800:\tlearn: 0.5042303\ttest: 0.5192689\tbest: 0.5192689 (1800)\ttotal: 9.51s\tremaining: 16.9s\n",
      "2000:\tlearn: 0.4828347\ttest: 0.4991104\tbest: 0.4991104 (2000)\ttotal: 10.4s\tremaining: 15.6s\n",
      "2200:\tlearn: 0.4633763\ttest: 0.4805934\tbest: 0.4805934 (2200)\ttotal: 11.3s\tremaining: 14.4s\n",
      "2400:\tlearn: 0.4465500\ttest: 0.4649025\tbest: 0.4649025 (2400)\ttotal: 12.2s\tremaining: 13.2s\n",
      "2600:\tlearn: 0.4321310\ttest: 0.4515189\tbest: 0.4515189 (2600)\ttotal: 13.2s\tremaining: 12.2s\n",
      "2800:\tlearn: 0.4188985\ttest: 0.4391868\tbest: 0.4391868 (2800)\ttotal: 14.1s\tremaining: 11.1s\n",
      "3000:\tlearn: 0.4070510\ttest: 0.4277889\tbest: 0.4277889 (3000)\ttotal: 15s\tremaining: 10s\n",
      "3200:\tlearn: 0.3955614\ttest: 0.4169031\tbest: 0.4169031 (3200)\ttotal: 16s\tremaining: 8.97s\n",
      "3400:\tlearn: 0.3848137\ttest: 0.4069593\tbest: 0.4069593 (3400)\ttotal: 16.9s\tremaining: 7.95s\n",
      "3600:\tlearn: 0.3752058\ttest: 0.3978474\tbest: 0.3978474 (3600)\ttotal: 17.9s\tremaining: 6.94s\n",
      "3800:\tlearn: 0.3663872\ttest: 0.3895926\tbest: 0.3895926 (3800)\ttotal: 18.9s\tremaining: 5.97s\n",
      "4000:\tlearn: 0.3581722\ttest: 0.3818311\tbest: 0.3818311 (4000)\ttotal: 20.1s\tremaining: 5.01s\n",
      "4200:\tlearn: 0.3502838\ttest: 0.3744055\tbest: 0.3744055 (4200)\ttotal: 21.2s\tremaining: 4.03s\n",
      "4400:\tlearn: 0.3428108\ttest: 0.3674268\tbest: 0.3674268 (4400)\ttotal: 22.3s\tremaining: 3.03s\n",
      "4600:\tlearn: 0.3357030\ttest: 0.3606392\tbest: 0.3606392 (4600)\ttotal: 23.4s\tremaining: 2.02s\n",
      "4800:\tlearn: 0.3293945\ttest: 0.3548165\tbest: 0.3548165 (4800)\ttotal: 24.4s\tremaining: 1.01s\n",
      "4999:\tlearn: 0.3231782\ttest: 0.3489686\tbest: 0.3489686 (4999)\ttotal: 25.5s\tremaining: 0us\n",
      "bestTest = 0.3489685721\n",
      "bestIteration = 4999\n"
     ]
    },
    {
     "name": "stderr",
     "output_type": "stream",
     "text": [
      "\r",
      " 10%|████████▋                                                                              | 1/10 [00:33<05:03, 33.70s/it]"
     ]
    },
    {
     "name": "stdout",
     "output_type": "stream",
     "text": [
      "Learning rate set to 0.073629\n",
      "0:\tlearn: 9.2488409\ttest: 9.2802742\tbest: 9.2802742 (0)\ttotal: 6.46ms\tremaining: 32.3s\n",
      "200:\tlearn: 1.1660567\ttest: 1.1817141\tbest: 1.1817141 (200)\ttotal: 916ms\tremaining: 21.9s\n",
      "400:\tlearn: 0.9158632\ttest: 0.9328235\tbest: 0.9328235 (400)\ttotal: 1.78s\tremaining: 20.4s\n",
      "600:\tlearn: 0.7841437\ttest: 0.8017706\tbest: 0.8017706 (600)\ttotal: 2.67s\tremaining: 19.5s\n",
      "800:\tlearn: 0.6975871\ttest: 0.7144341\tbest: 0.7144341 (800)\ttotal: 3.56s\tremaining: 18.7s\n",
      "1000:\tlearn: 0.6393527\ttest: 0.6565558\tbest: 0.6565558 (1000)\ttotal: 4.43s\tremaining: 17.7s\n",
      "1200:\tlearn: 0.5962951\ttest: 0.6138773\tbest: 0.6138773 (1200)\ttotal: 5.53s\tremaining: 17.5s\n",
      "1400:\tlearn: 0.5626833\ttest: 0.5808480\tbest: 0.5808480 (1400)\ttotal: 6.59s\tremaining: 16.9s\n",
      "1600:\tlearn: 0.5321055\ttest: 0.5504029\tbest: 0.5504029 (1600)\ttotal: 7.69s\tremaining: 16.3s\n",
      "1800:\tlearn: 0.5076770\ttest: 0.5266022\tbest: 0.5266022 (1800)\ttotal: 8.88s\tremaining: 15.8s\n",
      "2000:\tlearn: 0.4858454\ttest: 0.5052616\tbest: 0.5052616 (2000)\ttotal: 10.1s\tremaining: 15.1s\n",
      "2200:\tlearn: 0.4673467\ttest: 0.4876879\tbest: 0.4876879 (2200)\ttotal: 11.2s\tremaining: 14.3s\n",
      "2400:\tlearn: 0.4506584\ttest: 0.4715166\tbest: 0.4715166 (2400)\ttotal: 12.4s\tremaining: 13.5s\n",
      "2600:\tlearn: 0.4361003\ttest: 0.4576225\tbest: 0.4576225 (2600)\ttotal: 13.6s\tremaining: 12.6s\n",
      "2800:\tlearn: 0.4227542\ttest: 0.4447921\tbest: 0.4447921 (2800)\ttotal: 14.5s\tremaining: 11.4s\n",
      "3000:\tlearn: 0.4102672\ttest: 0.4328809\tbest: 0.4328809 (3000)\ttotal: 15.4s\tremaining: 10.3s\n",
      "3200:\tlearn: 0.3983425\ttest: 0.4214912\tbest: 0.4214912 (3200)\ttotal: 16.4s\tremaining: 9.21s\n",
      "3400:\tlearn: 0.3877125\ttest: 0.4112902\tbest: 0.4112902 (3400)\ttotal: 17.4s\tremaining: 8.18s\n",
      "3600:\tlearn: 0.3782907\ttest: 0.4022510\tbest: 0.4022510 (3600)\ttotal: 18.3s\tremaining: 7.11s\n",
      "3800:\tlearn: 0.3693391\ttest: 0.3937661\tbest: 0.3937661 (3800)\ttotal: 19.2s\tremaining: 6.06s\n",
      "4000:\tlearn: 0.3606492\ttest: 0.3855927\tbest: 0.3855927 (4000)\ttotal: 20.1s\tremaining: 5.03s\n",
      "4200:\tlearn: 0.3528160\ttest: 0.3782763\tbest: 0.3782763 (4200)\ttotal: 21.1s\tremaining: 4.01s\n",
      "4400:\tlearn: 0.3454049\ttest: 0.3713433\tbest: 0.3713433 (4400)\ttotal: 22.1s\tremaining: 3.01s\n",
      "4600:\tlearn: 0.3382889\ttest: 0.3645881\tbest: 0.3645881 (4600)\ttotal: 23s\tremaining: 1.99s\n",
      "4800:\tlearn: 0.3313299\ttest: 0.3580183\tbest: 0.3580183 (4800)\ttotal: 23.9s\tremaining: 991ms\n",
      "4999:\tlearn: 0.3252702\ttest: 0.3524062\tbest: 0.3524062 (4999)\ttotal: 24.9s\tremaining: 0us\n",
      "bestTest = 0.3524061773\n",
      "bestIteration = 4999\n"
     ]
    },
    {
     "name": "stderr",
     "output_type": "stream",
     "text": [
      "\r",
      " 20%|█████████████████▍                                                                     | 2/10 [01:06<04:23, 32.92s/it]"
     ]
    },
    {
     "name": "stdout",
     "output_type": "stream",
     "text": [
      "Learning rate set to 0.073629\n",
      "0:\tlearn: 9.2496606\ttest: 9.2733846\tbest: 9.2733846 (0)\ttotal: 9.98ms\tremaining: 49.9s\n",
      "200:\tlearn: 1.1738879\ttest: 1.1736816\tbest: 1.1736816 (200)\ttotal: 946ms\tremaining: 22.6s\n",
      "400:\tlearn: 0.9202265\ttest: 0.9229963\tbest: 0.9229963 (400)\ttotal: 1.81s\tremaining: 20.8s\n",
      "600:\tlearn: 0.7844857\ttest: 0.7915159\tbest: 0.7915159 (600)\ttotal: 2.74s\tremaining: 20.1s\n",
      "800:\tlearn: 0.7011432\ttest: 0.7107401\tbest: 0.7107401 (800)\ttotal: 3.62s\tremaining: 19s\n",
      "1000:\tlearn: 0.6417546\ttest: 0.6527217\tbest: 0.6527217 (1000)\ttotal: 4.54s\tremaining: 18.2s\n",
      "1200:\tlearn: 0.5983370\ttest: 0.6109845\tbest: 0.6109845 (1200)\ttotal: 5.49s\tremaining: 17.4s\n",
      "1400:\tlearn: 0.5622999\ttest: 0.5760692\tbest: 0.5760692 (1400)\ttotal: 6.42s\tremaining: 16.5s\n",
      "1600:\tlearn: 0.5332880\ttest: 0.5483293\tbest: 0.5483293 (1600)\ttotal: 7.53s\tremaining: 16s\n",
      "1800:\tlearn: 0.5082863\ttest: 0.5242792\tbest: 0.5242792 (1800)\ttotal: 8.78s\tremaining: 15.6s\n",
      "2000:\tlearn: 0.4867463\ttest: 0.5039554\tbest: 0.5039554 (2000)\ttotal: 9.94s\tremaining: 14.9s\n",
      "2200:\tlearn: 0.4680327\ttest: 0.4861694\tbest: 0.4861694 (2200)\ttotal: 11.2s\tremaining: 14.2s\n",
      "2400:\tlearn: 0.4507564\ttest: 0.4696750\tbest: 0.4696750 (2400)\ttotal: 12.4s\tremaining: 13.4s\n",
      "2600:\tlearn: 0.4356542\ttest: 0.4555265\tbest: 0.4555265 (2600)\ttotal: 13.7s\tremaining: 12.6s\n",
      "2800:\tlearn: 0.4217520\ttest: 0.4425178\tbest: 0.4425178 (2800)\ttotal: 14.9s\tremaining: 11.7s\n",
      "3000:\tlearn: 0.4096449\ttest: 0.4310999\tbest: 0.4310999 (3000)\ttotal: 16.1s\tremaining: 10.7s\n",
      "3200:\tlearn: 0.3984545\ttest: 0.4206398\tbest: 0.4206398 (3200)\ttotal: 17.2s\tremaining: 9.66s\n",
      "3400:\tlearn: 0.3883391\ttest: 0.4111908\tbest: 0.4111908 (3400)\ttotal: 18.1s\tremaining: 8.49s\n",
      "3600:\tlearn: 0.3787873\ttest: 0.4022964\tbest: 0.4022964 (3600)\ttotal: 19.1s\tremaining: 7.42s\n",
      "3800:\tlearn: 0.3697436\ttest: 0.3938167\tbest: 0.3938167 (3800)\ttotal: 20s\tremaining: 6.32s\n",
      "4000:\tlearn: 0.3612926\ttest: 0.3858796\tbest: 0.3858796 (4000)\ttotal: 21s\tremaining: 5.24s\n",
      "4200:\tlearn: 0.3534292\ttest: 0.3786913\tbest: 0.3786913 (4200)\ttotal: 21.9s\tremaining: 4.17s\n",
      "4400:\tlearn: 0.3460804\ttest: 0.3717757\tbest: 0.3717757 (4400)\ttotal: 22.9s\tremaining: 3.11s\n",
      "4600:\tlearn: 0.3391288\ttest: 0.3651760\tbest: 0.3651760 (4600)\ttotal: 23.8s\tremaining: 2.06s\n",
      "4800:\tlearn: 0.3326887\ttest: 0.3592970\tbest: 0.3592970 (4800)\ttotal: 24.7s\tremaining: 1.02s\n",
      "4999:\tlearn: 0.3262410\ttest: 0.3533863\tbest: 0.3533863 (4999)\ttotal: 25.6s\tremaining: 0us\n",
      "bestTest = 0.3533862586\n",
      "bestIteration = 4999\n"
     ]
    },
    {
     "name": "stderr",
     "output_type": "stream",
     "text": [
      "\r",
      " 30%|██████████████████████████                                                             | 3/10 [01:39<03:50, 33.00s/it]"
     ]
    },
    {
     "name": "stdout",
     "output_type": "stream",
     "text": [
      "Learning rate set to 0.073629\n",
      "0:\tlearn: 9.2487974\ttest: 9.2566071\tbest: 9.2566071 (0)\ttotal: 6.85ms\tremaining: 34.2s\n",
      "200:\tlearn: 1.1687043\ttest: 1.1714755\tbest: 1.1714755 (200)\ttotal: 944ms\tremaining: 22.5s\n",
      "400:\tlearn: 0.9193692\ttest: 0.9216054\tbest: 0.9216054 (400)\ttotal: 2.04s\tremaining: 23.4s\n",
      "600:\tlearn: 0.7844487\ttest: 0.7892409\tbest: 0.7892409 (600)\ttotal: 3.11s\tremaining: 22.7s\n",
      "800:\tlearn: 0.7008852\ttest: 0.7076146\tbest: 0.7076146 (800)\ttotal: 4.19s\tremaining: 22s\n",
      "1000:\tlearn: 0.6412412\ttest: 0.6497308\tbest: 0.6497308 (1000)\ttotal: 5.26s\tremaining: 21s\n",
      "1200:\tlearn: 0.5954916\ttest: 0.6056389\tbest: 0.6056389 (1200)\ttotal: 6.29s\tremaining: 19.9s\n",
      "1400:\tlearn: 0.5612985\ttest: 0.5725247\tbest: 0.5725247 (1400)\ttotal: 7.41s\tremaining: 19s\n",
      "1600:\tlearn: 0.5313130\ttest: 0.5437209\tbest: 0.5437209 (1600)\ttotal: 8.46s\tremaining: 18s\n",
      "1800:\tlearn: 0.5074585\ttest: 0.5208700\tbest: 0.5208700 (1800)\ttotal: 9.55s\tremaining: 17s\n",
      "2000:\tlearn: 0.4850242\ttest: 0.4989413\tbest: 0.4989413 (2000)\ttotal: 10.5s\tremaining: 15.7s\n",
      "2200:\tlearn: 0.4667337\ttest: 0.4814002\tbest: 0.4814002 (2200)\ttotal: 11.4s\tremaining: 14.5s\n",
      "2400:\tlearn: 0.4500095\ttest: 0.4657795\tbest: 0.4657795 (2400)\ttotal: 12.3s\tremaining: 13.3s\n",
      "2600:\tlearn: 0.4349151\ttest: 0.4515864\tbest: 0.4515864 (2600)\ttotal: 13.2s\tremaining: 12.2s\n",
      "2800:\tlearn: 0.4215277\ttest: 0.4389066\tbest: 0.4389066 (2800)\ttotal: 14.1s\tremaining: 11s\n",
      "3000:\tlearn: 0.4092716\ttest: 0.4272950\tbest: 0.4272950 (3000)\ttotal: 15s\tremaining: 10s\n",
      "3200:\tlearn: 0.3978668\ttest: 0.4163959\tbest: 0.4163959 (3200)\ttotal: 15.9s\tremaining: 8.94s\n",
      "3400:\tlearn: 0.3864173\ttest: 0.4055283\tbest: 0.4055283 (3400)\ttotal: 16.9s\tremaining: 7.96s\n",
      "3600:\tlearn: 0.3763996\ttest: 0.3959299\tbest: 0.3959299 (3600)\ttotal: 17.8s\tremaining: 6.92s\n",
      "3800:\tlearn: 0.3676563\ttest: 0.3877085\tbest: 0.3877085 (3800)\ttotal: 18.8s\tremaining: 5.94s\n",
      "4000:\tlearn: 0.3593329\ttest: 0.3798206\tbest: 0.3798206 (4000)\ttotal: 19.7s\tremaining: 4.93s\n",
      "4200:\tlearn: 0.3513873\ttest: 0.3724864\tbest: 0.3724864 (4200)\ttotal: 20.7s\tremaining: 3.93s\n",
      "4400:\tlearn: 0.3440144\ttest: 0.3655191\tbest: 0.3655191 (4400)\ttotal: 21.6s\tremaining: 2.94s\n",
      "4600:\tlearn: 0.3372704\ttest: 0.3592572\tbest: 0.3592572 (4600)\ttotal: 22.5s\tremaining: 1.95s\n",
      "4800:\tlearn: 0.3306890\ttest: 0.3531917\tbest: 0.3531917 (4800)\ttotal: 23.6s\tremaining: 979ms\n",
      "4999:\tlearn: 0.3246513\ttest: 0.3476176\tbest: 0.3476176 (4999)\ttotal: 24.6s\tremaining: 0us\n",
      "bestTest = 0.3476175566\n",
      "bestIteration = 4999\n"
     ]
    },
    {
     "name": "stderr",
     "output_type": "stream",
     "text": [
      "\r",
      " 40%|██████████████████████████████████▊                                                    | 4/10 [02:11<03:17, 32.87s/it]"
     ]
    },
    {
     "name": "stdout",
     "output_type": "stream",
     "text": [
      "Learning rate set to 0.073629\n",
      "0:\tlearn: 9.2441208\ttest: 9.2870215\tbest: 9.2870215 (0)\ttotal: 7.33ms\tremaining: 36.7s\n",
      "200:\tlearn: 1.1698148\ttest: 1.1787032\tbest: 1.1787032 (200)\ttotal: 884ms\tremaining: 21.1s\n",
      "400:\tlearn: 0.9167563\ttest: 0.9285805\tbest: 0.9285805 (400)\ttotal: 1.94s\tremaining: 22.3s\n",
      "600:\tlearn: 0.7890203\ttest: 0.8029705\tbest: 0.8029705 (600)\ttotal: 3.01s\tremaining: 22s\n",
      "800:\tlearn: 0.7028794\ttest: 0.7175741\tbest: 0.7175741 (800)\ttotal: 3.95s\tremaining: 20.7s\n",
      "1000:\tlearn: 0.6438062\ttest: 0.6585623\tbest: 0.6585623 (1000)\ttotal: 4.87s\tremaining: 19.4s\n",
      "1200:\tlearn: 0.6006803\ttest: 0.6157177\tbest: 0.6157177 (1200)\ttotal: 5.78s\tremaining: 18.3s\n",
      "1400:\tlearn: 0.5638486\ttest: 0.5793447\tbest: 0.5793447 (1400)\ttotal: 6.75s\tremaining: 17.3s\n",
      "1600:\tlearn: 0.5346164\ttest: 0.5507176\tbest: 0.5507176 (1600)\ttotal: 7.75s\tremaining: 16.5s\n",
      "1800:\tlearn: 0.5087628\ttest: 0.5253546\tbest: 0.5253546 (1800)\ttotal: 9.3s\tremaining: 16.5s\n",
      "2000:\tlearn: 0.4877214\ttest: 0.5046966\tbest: 0.5046966 (2000)\ttotal: 12.1s\tremaining: 18.2s\n",
      "2200:\tlearn: 0.4691651\ttest: 0.4865979\tbest: 0.4865979 (2200)\ttotal: 13.1s\tremaining: 16.7s\n",
      "2400:\tlearn: 0.4527312\ttest: 0.4706016\tbest: 0.4706016 (2400)\ttotal: 14.2s\tremaining: 15.3s\n",
      "2600:\tlearn: 0.4375852\ttest: 0.4561347\tbest: 0.4561347 (2600)\ttotal: 15.1s\tremaining: 13.9s\n",
      "2800:\tlearn: 0.4241331\ttest: 0.4431847\tbest: 0.4431847 (2800)\ttotal: 16.1s\tremaining: 12.7s\n",
      "3000:\tlearn: 0.4112300\ttest: 0.4309182\tbest: 0.4309182 (3000)\ttotal: 17.1s\tremaining: 11.4s\n",
      "3200:\tlearn: 0.3994493\ttest: 0.4196022\tbest: 0.4196022 (3200)\ttotal: 18s\tremaining: 10.1s\n",
      "3400:\tlearn: 0.3887738\ttest: 0.4095194\tbest: 0.4095194 (3400)\ttotal: 18.9s\tremaining: 8.9s\n",
      "3600:\tlearn: 0.3789034\ttest: 0.3998770\tbest: 0.3998770 (3600)\ttotal: 19.8s\tremaining: 7.7s\n",
      "3800:\tlearn: 0.3695042\ttest: 0.3908964\tbest: 0.3908964 (3800)\ttotal: 20.7s\tremaining: 6.54s\n",
      "4000:\tlearn: 0.3600263\ttest: 0.3818525\tbest: 0.3818525 (4000)\ttotal: 21.7s\tremaining: 5.41s\n",
      "4200:\tlearn: 0.3520634\ttest: 0.3743366\tbest: 0.3743366 (4200)\ttotal: 22.9s\tremaining: 4.36s\n",
      "4400:\tlearn: 0.3444709\ttest: 0.3671869\tbest: 0.3671869 (4400)\ttotal: 23.8s\tremaining: 3.24s\n",
      "4600:\tlearn: 0.3378278\ttest: 0.3609702\tbest: 0.3609702 (4600)\ttotal: 24.7s\tremaining: 2.14s\n",
      "4800:\tlearn: 0.3310949\ttest: 0.3546851\tbest: 0.3546851 (4800)\ttotal: 25.6s\tremaining: 1.06s\n",
      "4999:\tlearn: 0.3248669\ttest: 0.3488847\tbest: 0.3488847 (4999)\ttotal: 26.7s\tremaining: 0us\n",
      "bestTest = 0.3488846868\n",
      "bestIteration = 4999\n"
     ]
    },
    {
     "name": "stderr",
     "output_type": "stream",
     "text": [
      "\r",
      " 50%|███████████████████████████████████████████▌                                           | 5/10 [02:45<02:46, 33.31s/it]"
     ]
    },
    {
     "name": "stdout",
     "output_type": "stream",
     "text": [
      "Learning rate set to 0.073629\n",
      "0:\tlearn: 9.2482734\ttest: 9.2627332\tbest: 9.2627332 (0)\ttotal: 9.73ms\tremaining: 48.7s\n",
      "200:\tlearn: 1.1691769\ttest: 1.1642691\tbest: 1.1642691 (200)\ttotal: 1.25s\tremaining: 29.9s\n",
      "400:\tlearn: 0.9193156\ttest: 0.9211297\tbest: 0.9211297 (400)\ttotal: 2.35s\tremaining: 27s\n",
      "600:\tlearn: 0.7885374\ttest: 0.7942060\tbest: 0.7942060 (600)\ttotal: 3.53s\tremaining: 25.8s\n",
      "800:\tlearn: 0.7025054\ttest: 0.7111045\tbest: 0.7111045 (800)\ttotal: 4.67s\tremaining: 24.5s\n",
      "1000:\tlearn: 0.6412813\ttest: 0.6510834\tbest: 0.6510834 (1000)\ttotal: 5.86s\tremaining: 23.4s\n",
      "1200:\tlearn: 0.5981883\ttest: 0.6101443\tbest: 0.6101443 (1200)\ttotal: 6.81s\tremaining: 21.5s\n",
      "1400:\tlearn: 0.5629586\ttest: 0.5763001\tbest: 0.5763001 (1400)\ttotal: 7.73s\tremaining: 19.9s\n",
      "1600:\tlearn: 0.5325246\ttest: 0.5467364\tbest: 0.5467364 (1600)\ttotal: 8.64s\tremaining: 18.3s\n",
      "1800:\tlearn: 0.5083768\ttest: 0.5235687\tbest: 0.5235687 (1800)\ttotal: 9.57s\tremaining: 17s\n",
      "2000:\tlearn: 0.4856945\ttest: 0.5017898\tbest: 0.5017898 (2000)\ttotal: 10.6s\tremaining: 15.8s\n",
      "2200:\tlearn: 0.4664070\ttest: 0.4831850\tbest: 0.4831850 (2200)\ttotal: 11.6s\tremaining: 14.7s\n",
      "2400:\tlearn: 0.4497350\ttest: 0.4675733\tbest: 0.4675733 (2400)\ttotal: 12.5s\tremaining: 13.5s\n",
      "2600:\tlearn: 0.4351739\ttest: 0.4536777\tbest: 0.4536777 (2600)\ttotal: 13.4s\tremaining: 12.4s\n",
      "2800:\tlearn: 0.4220307\ttest: 0.4412114\tbest: 0.4412114 (2800)\ttotal: 14.3s\tremaining: 11.2s\n",
      "3000:\tlearn: 0.4090978\ttest: 0.4287249\tbest: 0.4287249 (3000)\ttotal: 15.3s\tremaining: 10.2s\n",
      "3200:\tlearn: 0.3970132\ttest: 0.4169465\tbest: 0.4169465 (3200)\ttotal: 16.2s\tremaining: 9.09s\n",
      "3400:\tlearn: 0.3864518\ttest: 0.4070742\tbest: 0.4070742 (3400)\ttotal: 17.1s\tremaining: 8.03s\n",
      "3600:\tlearn: 0.3769210\ttest: 0.3981449\tbest: 0.3981449 (3600)\ttotal: 18s\tremaining: 7.01s\n",
      "3800:\tlearn: 0.3682183\ttest: 0.3900482\tbest: 0.3900482 (3800)\ttotal: 19.1s\tremaining: 6.04s\n",
      "4000:\tlearn: 0.3597626\ttest: 0.3818805\tbest: 0.3818805 (4000)\ttotal: 20.2s\tremaining: 5.05s\n",
      "4200:\tlearn: 0.3520056\ttest: 0.3745776\tbest: 0.3745776 (4200)\ttotal: 21.3s\tremaining: 4.05s\n",
      "4400:\tlearn: 0.3448106\ttest: 0.3678275\tbest: 0.3678275 (4400)\ttotal: 22.4s\tremaining: 3.05s\n",
      "4600:\tlearn: 0.3380401\ttest: 0.3615160\tbest: 0.3615160 (4600)\ttotal: 23.6s\tremaining: 2.04s\n",
      "4800:\tlearn: 0.3315819\ttest: 0.3554577\tbest: 0.3554577 (4800)\ttotal: 24.6s\tremaining: 1.02s\n",
      "4999:\tlearn: 0.3253011\ttest: 0.3494515\tbest: 0.3494515 (4999)\ttotal: 25.7s\tremaining: 0us\n",
      "bestTest = 0.3494515069\n",
      "bestIteration = 4999\n"
     ]
    },
    {
     "name": "stderr",
     "output_type": "stream",
     "text": [
      "\r",
      " 60%|████████████████████████████████████████████████████▏                                  | 6/10 [03:19<02:13, 33.33s/it]"
     ]
    },
    {
     "name": "stdout",
     "output_type": "stream",
     "text": [
      "Learning rate set to 0.073629\n",
      "0:\tlearn: 9.2474868\ttest: 9.2589630\tbest: 9.2589630 (0)\ttotal: 5.7ms\tremaining: 28.5s\n",
      "200:\tlearn: 1.1755578\ttest: 1.1891161\tbest: 1.1891161 (200)\ttotal: 962ms\tremaining: 23s\n",
      "400:\tlearn: 0.9159737\ttest: 0.9275802\tbest: 0.9275802 (400)\ttotal: 1.83s\tremaining: 21s\n",
      "600:\tlearn: 0.7801423\ttest: 0.7909231\tbest: 0.7909231 (600)\ttotal: 2.74s\tremaining: 20s\n",
      "800:\tlearn: 0.6997558\ttest: 0.7114133\tbest: 0.7114133 (800)\ttotal: 3.67s\tremaining: 19.2s\n",
      "1000:\tlearn: 0.6418107\ttest: 0.6547981\tbest: 0.6547981 (1000)\ttotal: 4.62s\tremaining: 18.5s\n",
      "1200:\tlearn: 0.5974006\ttest: 0.6112187\tbest: 0.6112187 (1200)\ttotal: 5.77s\tremaining: 18.2s\n",
      "1400:\tlearn: 0.5618783\ttest: 0.5764607\tbest: 0.5764607 (1400)\ttotal: 6.9s\tremaining: 17.7s\n",
      "1600:\tlearn: 0.5334336\ttest: 0.5488379\tbest: 0.5488379 (1600)\ttotal: 8.02s\tremaining: 17s\n",
      "1800:\tlearn: 0.5090164\ttest: 0.5255109\tbest: 0.5255109 (1800)\ttotal: 9.16s\tremaining: 16.3s\n",
      "2000:\tlearn: 0.4878073\ttest: 0.5049822\tbest: 0.5049822 (2000)\ttotal: 10.2s\tremaining: 15.3s\n",
      "2200:\tlearn: 0.4684813\ttest: 0.4866123\tbest: 0.4866123 (2200)\ttotal: 11.1s\tremaining: 14.1s\n",
      "2400:\tlearn: 0.4508469\ttest: 0.4698408\tbest: 0.4698408 (2400)\ttotal: 12s\tremaining: 13s\n",
      "2600:\tlearn: 0.4356433\ttest: 0.4551445\tbest: 0.4551445 (2600)\ttotal: 12.9s\tremaining: 11.9s\n",
      "2800:\tlearn: 0.4222685\ttest: 0.4424458\tbest: 0.4424458 (2800)\ttotal: 13.9s\tremaining: 10.9s\n",
      "3000:\tlearn: 0.4102527\ttest: 0.4310379\tbest: 0.4310379 (3000)\ttotal: 14.8s\tremaining: 9.86s\n",
      "3200:\tlearn: 0.3988165\ttest: 0.4200406\tbest: 0.4200406 (3200)\ttotal: 15.7s\tremaining: 8.82s\n",
      "3400:\tlearn: 0.3885156\ttest: 0.4102037\tbest: 0.4102037 (3400)\ttotal: 16.6s\tremaining: 7.8s\n",
      "3600:\tlearn: 0.3786064\ttest: 0.4009474\tbest: 0.4009474 (3600)\ttotal: 17.5s\tremaining: 6.81s\n",
      "3800:\tlearn: 0.3694091\ttest: 0.3921624\tbest: 0.3921624 (3800)\ttotal: 18.4s\tremaining: 5.8s\n",
      "4000:\tlearn: 0.3608065\ttest: 0.3840208\tbest: 0.3840208 (4000)\ttotal: 19.3s\tremaining: 4.81s\n",
      "4200:\tlearn: 0.3528136\ttest: 0.3765310\tbest: 0.3765310 (4200)\ttotal: 20.2s\tremaining: 3.84s\n",
      "4400:\tlearn: 0.3456048\ttest: 0.3699174\tbest: 0.3699174 (4400)\ttotal: 21.1s\tremaining: 2.87s\n",
      "4600:\tlearn: 0.3386414\ttest: 0.3635397\tbest: 0.3635397 (4600)\ttotal: 22s\tremaining: 1.91s\n",
      "4800:\tlearn: 0.3323942\ttest: 0.3577722\tbest: 0.3577722 (4800)\ttotal: 23.1s\tremaining: 958ms\n",
      "4999:\tlearn: 0.3260499\ttest: 0.3519729\tbest: 0.3519729 (4999)\ttotal: 24.2s\tremaining: 0us\n",
      "bestTest = 0.3519728755\n",
      "bestIteration = 4999\n"
     ]
    },
    {
     "name": "stderr",
     "output_type": "stream",
     "text": [
      "\r",
      " 70%|████████████████████████████████████████████████████████████▉                          | 7/10 [03:50<01:38, 32.79s/it]"
     ]
    },
    {
     "name": "stdout",
     "output_type": "stream",
     "text": [
      "Learning rate set to 0.073629\n",
      "0:\tlearn: 9.2509826\ttest: 9.2333798\tbest: 9.2333798 (0)\ttotal: 5.5ms\tremaining: 27.5s\n",
      "200:\tlearn: 1.1728987\ttest: 1.1817129\tbest: 1.1817129 (200)\ttotal: 958ms\tremaining: 22.9s\n",
      "400:\tlearn: 0.9200354\ttest: 0.9316930\tbest: 0.9316930 (400)\ttotal: 1.89s\tremaining: 21.6s\n",
      "600:\tlearn: 0.7854217\ttest: 0.7969678\tbest: 0.7969678 (600)\ttotal: 2.77s\tremaining: 20.3s\n",
      "800:\tlearn: 0.7012169\ttest: 0.7136039\tbest: 0.7136039 (800)\ttotal: 3.66s\tremaining: 19.2s\n",
      "1000:\tlearn: 0.6429607\ttest: 0.6564861\tbest: 0.6564861 (1000)\ttotal: 4.61s\tremaining: 18.4s\n",
      "1200:\tlearn: 0.5970132\ttest: 0.6112516\tbest: 0.6112516 (1200)\ttotal: 5.66s\tremaining: 17.9s\n",
      "1400:\tlearn: 0.5618141\ttest: 0.5769733\tbest: 0.5769733 (1400)\ttotal: 6.73s\tremaining: 17.3s\n",
      "1600:\tlearn: 0.5321860\ttest: 0.5481125\tbest: 0.5481125 (1600)\ttotal: 7.83s\tremaining: 16.6s\n",
      "1800:\tlearn: 0.5067078\ttest: 0.5234221\tbest: 0.5234221 (1800)\ttotal: 8.95s\tremaining: 15.9s\n",
      "2000:\tlearn: 0.4848059\ttest: 0.5023212\tbest: 0.5023212 (2000)\ttotal: 10s\tremaining: 15s\n",
      "2200:\tlearn: 0.4655142\ttest: 0.4835139\tbest: 0.4835139 (2200)\ttotal: 11.2s\tremaining: 14.2s\n",
      "2400:\tlearn: 0.4487955\ttest: 0.4675097\tbest: 0.4675097 (2400)\ttotal: 12.3s\tremaining: 13.3s\n",
      "2600:\tlearn: 0.4338146\ttest: 0.4533144\tbest: 0.4533144 (2600)\ttotal: 13.4s\tremaining: 12.3s\n",
      "2800:\tlearn: 0.4204007\ttest: 0.4407220\tbest: 0.4407220 (2800)\ttotal: 14.6s\tremaining: 11.4s\n",
      "3000:\tlearn: 0.4076436\ttest: 0.4286481\tbest: 0.4286481 (3000)\ttotal: 15.5s\tremaining: 10.3s\n",
      "3200:\tlearn: 0.3966114\ttest: 0.4180087\tbest: 0.4180087 (3200)\ttotal: 16.4s\tremaining: 9.2s\n",
      "3400:\tlearn: 0.3860436\ttest: 0.4078187\tbest: 0.4078187 (3400)\ttotal: 17.2s\tremaining: 8.1s\n",
      "3600:\tlearn: 0.3764499\ttest: 0.3988627\tbest: 0.3988627 (3600)\ttotal: 18.1s\tremaining: 7.03s\n",
      "3800:\tlearn: 0.3679563\ttest: 0.3910232\tbest: 0.3910232 (3800)\ttotal: 19s\tremaining: 6.01s\n",
      "4000:\tlearn: 0.3592114\ttest: 0.3829141\tbest: 0.3829141 (4000)\ttotal: 20s\tremaining: 4.99s\n",
      "4200:\tlearn: 0.3512053\ttest: 0.3753273\tbest: 0.3753273 (4200)\ttotal: 20.9s\tremaining: 3.97s\n",
      "4400:\tlearn: 0.3437829\ttest: 0.3684457\tbest: 0.3684457 (4400)\ttotal: 21.7s\tremaining: 2.96s\n",
      "4600:\tlearn: 0.3368584\ttest: 0.3619144\tbest: 0.3619144 (4600)\ttotal: 22.7s\tremaining: 1.97s\n",
      "4800:\tlearn: 0.3304750\ttest: 0.3559910\tbest: 0.3559910 (4800)\ttotal: 23.6s\tremaining: 977ms\n",
      "4999:\tlearn: 0.3243001\ttest: 0.3501899\tbest: 0.3501899 (4999)\ttotal: 24.5s\tremaining: 0us\n",
      "bestTest = 0.3501899016\n",
      "bestIteration = 4999\n"
     ]
    },
    {
     "name": "stderr",
     "output_type": "stream",
     "text": [
      "\r",
      " 80%|█████████████████████████████████████████████████████████████████████▌                 | 8/10 [04:23<01:05, 32.58s/it]"
     ]
    },
    {
     "name": "stdout",
     "output_type": "stream",
     "text": [
      "Learning rate set to 0.073629\n",
      "0:\tlearn: 9.2495159\ttest: 9.2538532\tbest: 9.2538532 (0)\ttotal: 5.54ms\tremaining: 27.7s\n",
      "200:\tlearn: 1.1794871\ttest: 1.1896459\tbest: 1.1896459 (200)\ttotal: 938ms\tremaining: 22.4s\n",
      "400:\tlearn: 0.9146083\ttest: 0.9241842\tbest: 0.9241842 (400)\ttotal: 1.84s\tremaining: 21.1s\n",
      "600:\tlearn: 0.7852367\ttest: 0.7950755\tbest: 0.7950755 (600)\ttotal: 2.79s\tremaining: 20.4s\n",
      "800:\tlearn: 0.6986290\ttest: 0.7098042\tbest: 0.7098042 (800)\ttotal: 3.74s\tremaining: 19.6s\n",
      "1000:\tlearn: 0.6403208\ttest: 0.6517476\tbest: 0.6517476 (1000)\ttotal: 4.63s\tremaining: 18.5s\n",
      "1200:\tlearn: 0.5966201\ttest: 0.6097004\tbest: 0.6097004 (1200)\ttotal: 5.51s\tremaining: 17.4s\n",
      "1400:\tlearn: 0.5593153\ttest: 0.5735533\tbest: 0.5735533 (1400)\ttotal: 6.45s\tremaining: 16.6s\n",
      "1600:\tlearn: 0.5298614\ttest: 0.5451194\tbest: 0.5451194 (1600)\ttotal: 7.36s\tremaining: 15.6s\n",
      "1800:\tlearn: 0.5062549\ttest: 0.5222190\tbest: 0.5222190 (1800)\ttotal: 8.43s\tremaining: 15s\n",
      "2000:\tlearn: 0.4848882\ttest: 0.5018915\tbest: 0.5018915 (2000)\ttotal: 9.53s\tremaining: 14.3s\n",
      "2200:\tlearn: 0.4663397\ttest: 0.4842058\tbest: 0.4842058 (2200)\ttotal: 10.6s\tremaining: 13.5s\n",
      "2400:\tlearn: 0.4500415\ttest: 0.4686899\tbest: 0.4686899 (2400)\ttotal: 11.8s\tremaining: 12.7s\n",
      "2600:\tlearn: 0.4351563\ttest: 0.4544041\tbest: 0.4544041 (2600)\ttotal: 13s\tremaining: 12s\n",
      "2800:\tlearn: 0.4213170\ttest: 0.4413874\tbest: 0.4413874 (2800)\ttotal: 14.2s\tremaining: 11.1s\n",
      "3000:\tlearn: 0.4089836\ttest: 0.4297365\tbest: 0.4297365 (3000)\ttotal: 15.4s\tremaining: 10.3s\n",
      "3200:\tlearn: 0.3976682\ttest: 0.4189398\tbest: 0.4189398 (3200)\ttotal: 16.6s\tremaining: 9.33s\n",
      "3400:\tlearn: 0.3871230\ttest: 0.4089795\tbest: 0.4089795 (3400)\ttotal: 17.5s\tremaining: 8.24s\n",
      "3600:\tlearn: 0.3775943\ttest: 0.3999731\tbest: 0.3999731 (3600)\ttotal: 18.4s\tremaining: 7.15s\n",
      "3800:\tlearn: 0.3687727\ttest: 0.3917095\tbest: 0.3917095 (3800)\ttotal: 19.3s\tremaining: 6.1s\n",
      "4000:\tlearn: 0.3603307\ttest: 0.3838611\tbest: 0.3838611 (4000)\ttotal: 20.3s\tremaining: 5.08s\n",
      "4200:\tlearn: 0.3520486\ttest: 0.3760810\tbest: 0.3760810 (4200)\ttotal: 21.2s\tremaining: 4.04s\n",
      "4400:\tlearn: 0.3449112\ttest: 0.3696052\tbest: 0.3696052 (4400)\ttotal: 22.2s\tremaining: 3.01s\n",
      "4600:\tlearn: 0.3375514\ttest: 0.3627605\tbest: 0.3627605 (4600)\ttotal: 23.1s\tremaining: 2s\n",
      "4800:\tlearn: 0.3310335\ttest: 0.3567144\tbest: 0.3567144 (4800)\ttotal: 24.1s\tremaining: 999ms\n",
      "4999:\tlearn: 0.3249134\ttest: 0.3510728\tbest: 0.3510728 (4999)\ttotal: 25.1s\tremaining: 0us\n",
      "bestTest = 0.3510728407\n",
      "bestIteration = 4999\n"
     ]
    },
    {
     "name": "stderr",
     "output_type": "stream",
     "text": [
      "\r",
      " 90%|██████████████████████████████████████████████████████████████████████████████▎        | 9/10 [04:56<00:32, 32.69s/it]"
     ]
    },
    {
     "name": "stdout",
     "output_type": "stream",
     "text": [
      "Learning rate set to 0.073629\n",
      "0:\tlearn: 9.2538744\ttest: 9.2035439\tbest: 9.2035439 (0)\ttotal: 6.42ms\tremaining: 32.1s\n",
      "200:\tlearn: 1.1654628\ttest: 1.1635299\tbest: 1.1635299 (200)\ttotal: 915ms\tremaining: 21.8s\n",
      "400:\tlearn: 0.9127642\ttest: 0.9162782\tbest: 0.9162782 (400)\ttotal: 1.87s\tremaining: 21.5s\n",
      "600:\tlearn: 0.7867641\ttest: 0.7923857\tbest: 0.7923857 (600)\ttotal: 2.84s\tremaining: 20.8s\n",
      "800:\tlearn: 0.7026553\ttest: 0.7093101\tbest: 0.7093101 (800)\ttotal: 3.72s\tremaining: 19.5s\n",
      "1000:\tlearn: 0.6429046\ttest: 0.6510273\tbest: 0.6510273 (1000)\ttotal: 4.65s\tremaining: 18.6s\n",
      "1200:\tlearn: 0.5995640\ttest: 0.6089357\tbest: 0.6089357 (1200)\ttotal: 5.61s\tremaining: 17.7s\n",
      "1400:\tlearn: 0.5641146\ttest: 0.5743703\tbest: 0.5743703 (1400)\ttotal: 6.5s\tremaining: 16.7s\n",
      "1600:\tlearn: 0.5357585\ttest: 0.5471772\tbest: 0.5471772 (1600)\ttotal: 7.39s\tremaining: 15.7s\n",
      "1800:\tlearn: 0.5094200\ttest: 0.5219097\tbest: 0.5219097 (1800)\ttotal: 8.33s\tremaining: 14.8s\n",
      "2000:\tlearn: 0.4881414\ttest: 0.5015184\tbest: 0.5015184 (2000)\ttotal: 9.2s\tremaining: 13.8s\n",
      "2200:\tlearn: 0.4695715\ttest: 0.4841003\tbest: 0.4841003 (2200)\ttotal: 10.4s\tremaining: 13.2s\n",
      "2400:\tlearn: 0.4524580\ttest: 0.4678861\tbest: 0.4678861 (2400)\ttotal: 11.4s\tremaining: 12.4s\n",
      "2600:\tlearn: 0.4370305\ttest: 0.4532837\tbest: 0.4532837 (2600)\ttotal: 12.6s\tremaining: 11.6s\n",
      "2800:\tlearn: 0.4234354\ttest: 0.4404173\tbest: 0.4404173 (2800)\ttotal: 13.7s\tremaining: 10.8s\n",
      "3000:\tlearn: 0.4108117\ttest: 0.4285335\tbest: 0.4285335 (3000)\ttotal: 14.8s\tremaining: 9.85s\n",
      "3200:\tlearn: 0.3996441\ttest: 0.4180761\tbest: 0.4180761 (3200)\ttotal: 15.9s\tremaining: 8.92s\n",
      "3400:\tlearn: 0.3890958\ttest: 0.4082626\tbest: 0.4082626 (3400)\ttotal: 16.8s\tremaining: 7.89s\n",
      "3600:\tlearn: 0.3801315\ttest: 0.3998727\tbest: 0.3998727 (3600)\ttotal: 17.7s\tremaining: 6.89s\n",
      "3800:\tlearn: 0.3708882\ttest: 0.3915204\tbest: 0.3915204 (3800)\ttotal: 18.7s\tremaining: 5.89s\n",
      "4000:\tlearn: 0.3624349\ttest: 0.3835593\tbest: 0.3835593 (4000)\ttotal: 19.6s\tremaining: 4.88s\n",
      "4200:\tlearn: 0.3548094\ttest: 0.3765018\tbest: 0.3765018 (4200)\ttotal: 20.5s\tremaining: 3.9s\n",
      "4400:\tlearn: 0.3476792\ttest: 0.3698763\tbest: 0.3698763 (4400)\ttotal: 21.4s\tremaining: 2.91s\n",
      "4600:\tlearn: 0.3408334\ttest: 0.3635479\tbest: 0.3635479 (4600)\ttotal: 22.3s\tremaining: 1.93s\n",
      "4800:\tlearn: 0.3340498\ttest: 0.3573154\tbest: 0.3573154 (4800)\ttotal: 23.3s\tremaining: 965ms\n",
      "4999:\tlearn: 0.3277003\ttest: 0.3514395\tbest: 0.3514395 (4999)\ttotal: 24.2s\tremaining: 0us\n",
      "bestTest = 0.3514395396\n",
      "bestIteration = 4999\n"
     ]
    },
    {
     "name": "stderr",
     "output_type": "stream",
     "text": [
      "100%|██████████████████████████████████████████████████████████████████████████████████████| 10/10 [05:27<00:00, 32.78s/it]\n",
      "100%|██████████████████████████████████████████████████████████████████████████████████████| 10/10 [00:00<00:00, 27.29it/s]\n"
     ]
    },
    {
     "name": "stdout",
     "output_type": "stream",
     "text": [
      "cos_sim with best submission: 0.9998581196819666\n"
     ]
    }
   ],
   "source": [
    "X = train_df[features].values\n",
    "y = train_df[target[0]].values\n",
    "\n",
    "skf = KFold(n_splits=10, random_state=2048, shuffle=True)\n",
    "skf.get_n_splits(X, y)\n",
    "\n",
    "train_index_list = []\n",
    "test_index_list = []\n",
    "train_x_list = []\n",
    "val_x_list = []\n",
    "train_y_list = []\n",
    "val_y_list = []\n",
    "\n",
    "for i, (train_index, test_index) in tqdm(enumerate(skf.split(X, y))):\n",
    "    train_index_list.append(train_index)\n",
    "    test_index_list.append(test_index)\n",
    "\n",
    "    train_x_list.append(X[train_index, :])\n",
    "    val_x_list.append(X[test_index, :])\n",
    "    train_y_list.append(y[train_index])\n",
    "    val_y_list.append(y[test_index])    \n",
    "def train_catboost(x, y):\n",
    "    print(x.shape, y.shape)\n",
    "    \n",
    "    cat_models = []\n",
    "    for i in tqdm(range(10)):\n",
    "        train_x, val_x = train_x_list[i], val_x_list[i]\n",
    "        train_y, val_y = train_y_list[i], val_y_list[i]\n",
    "        clf = CatBoostRegressor(iterations=5000, verbose=200, task_type=\"GPU\",\n",
    "                           devices='0:1')\n",
    "        clf.fit(train_x, train_y, eval_set=[(val_x, val_y)], verbose=200, early_stopping_rounds=100)\n",
    "        cat_models.append(clf)\n",
    "    \n",
    "    return cat_models\n",
    "cat_models = train_catboost(X, y)\n",
    "\n",
    "preds = []\n",
    "for cat_model in tqdm(cat_models):\n",
    "    preds.append(cat_model.predict(test_df[features].values))\n",
    "s = 0\n",
    "for pred in preds:\n",
    "    s += pred\n",
    "s = s/10\n",
    "df = pd.read_csv('./sample_solution.csv')\n",
    "df['contest-tmp2m-14d__tmp2m'] = s\n",
    "df.to_csv('submission_slp_v1.csv', index=False)\n",
    "\n",
    "best_df = pd.read_csv('best_sub.csv')\n",
    "y_best = best_df[target[0]].values\n",
    "\n",
    "from numpy import dot\n",
    "from numpy.linalg import norm\n",
    "\n",
    "cos_sim = dot(y_best, s)/(norm(y_best)*norm(s))\n",
    "print(\"cos_sim with best submission:\", cos_sim)"
   ]
  }
 ],
 "metadata": {
  "kernelspec": {
   "display_name": "wids-env",
   "language": "python",
   "name": "wids-env"
  },
  "language_info": {
   "codemirror_mode": {
    "name": "ipython",
    "version": 3
   },
   "file_extension": ".py",
   "mimetype": "text/x-python",
   "name": "python",
   "nbconvert_exporter": "python",
   "pygments_lexer": "ipython3",
   "version": "3.7.15"
  }
 },
 "nbformat": 4,
 "nbformat_minor": 5
}
