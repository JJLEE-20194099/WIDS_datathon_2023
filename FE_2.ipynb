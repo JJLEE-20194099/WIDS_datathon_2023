{
 "cells": [
  {
   "cell_type": "code",
   "execution_count": 1,
   "id": "f63b11e7",
   "metadata": {},
   "outputs": [],
   "source": [
    "import numpy as np\n",
    "import pandas as pd\n",
    "import seaborn as sns\n",
    "import torch\n",
    "import torch.nn as nn\n",
    "import torch.nn.functional as f\n",
    "pd.set_option('display.max_columns', None)\n",
    "import matplotlib.pyplot as plt\n",
    "from sklearn.model_selection import train_test_split\n",
    "from torch.utils.data import DataLoader\n",
    "from sklearn import preprocessing\n",
    "from tqdm import tqdm\n",
    "from sklearn.preprocessing import FunctionTransformer\n",
    "import seaborn as sns \n",
    "from scipy import stats\n",
    "import statsmodels.api as sm\n",
    "\n",
    "from sklearn.ensemble import RandomForestRegressor, ExtraTreesRegressor, AdaBoostRegressor, BaggingRegressor, GradientBoostingRegressor\n",
    "from sklearn.tree import DecisionTreeRegressor\n",
    "from sklearn.linear_model import ElasticNet, Lasso\n",
    "from sklearn.feature_selection import SelectFromModel\n",
    "from sklearn.svm import SVR\n",
    "from sklearn.model_selection import KFold, cross_val_score\n",
    "from sklearn.pipeline import make_pipeline\n",
    "from sklearn.decomposition import PCA\n",
    "from sklearn.preprocessing import RobustScaler\n",
    "import h2o\n",
    "from h2o.automl import H2OAutoML\n",
    "from sklearn.base import BaseEstimator, TransformerMixin, RegressorMixin, clone\n",
    "from sklearn.neural_network import MLPRegressor\n",
    "from scipy.stats import norm\n",
    "import copy\n",
    "from sklearn.model_selection import KFold\n",
    "from catboost import CatBoostRegressor, Pool, metrics, cv\n",
    "import xgboost as xgb\n",
    "from scipy.stats import gmean\n",
    "from sklearn.impute import KNNImputer\n",
    "from sklearn.metrics import mean_squared_error\n",
    "from sklearn.preprocessing import LabelEncoder"
   ]
  },
  {
   "cell_type": "code",
   "execution_count": 2,
   "id": "b750100a",
   "metadata": {},
   "outputs": [],
   "source": [
    "add_train = pd.read_csv('./n_train.csv')\n",
    "add_test = pd.read_csv('./n_test.csv')"
   ]
  },
  {
   "cell_type": "code",
   "execution_count": 3,
   "id": "a47eb0e9",
   "metadata": {},
   "outputs": [],
   "source": [
    "climate_type_dict = {'1':'BSk',\n",
    " '9': 'Dfb',\n",
    " '4': 'Cfa',\n",
    " '7': 'Csb',\n",
    " '8': 'Dfa',\n",
    " '3': 'BWk',\n",
    " '10': 'Dfc',\n",
    " '2': 'BWh',\n",
    " '6': 'Csa',\n",
    " '11': 'Dsb',\n",
    " '0': 'BSh',\n",
    " '5': 'Cfb',\n",
    " '12': 'Dsc',\n",
    " '13': 'Dwa',\n",
    " '14': 'Dwb'}"
   ]
  },
  {
   "cell_type": "code",
   "execution_count": 4,
   "id": "6ab9423b",
   "metadata": {},
   "outputs": [],
   "source": [
    "all_cols = add_train.columns.tolist()"
   ]
  },
  {
   "cell_type": "code",
   "execution_count": 5,
   "id": "258cca0e",
   "metadata": {},
   "outputs": [],
   "source": [
    "target=[\"contest-tmp2m-14d__tmp2m\"]"
   ]
  },
  {
   "cell_type": "code",
   "execution_count": 6,
   "id": "657e29fb",
   "metadata": {},
   "outputs": [
    {
     "name": "stdout",
     "output_type": "stream",
     "text": [
      "climateregions__climateregion\n"
     ]
    }
   ],
   "source": [
    "train_df =  pd.read_csv('fe_v1_train.csv')\n",
    "test_df  =  pd.read_csv('fe_v1_test.csv')\n",
    "for c in train_df.columns:\n",
    "    if train_df[c].dtypes != 'float64':\n",
    "        print(c)"
   ]
  },
  {
   "cell_type": "code",
   "execution_count": 7,
   "id": "66b5ae01",
   "metadata": {},
   "outputs": [
    {
     "name": "stdout",
     "output_type": "stream",
     "text": [
      "Main features: 63\n"
     ]
    }
   ],
   "source": [
    "exclude_cols = ['index', 'startdate']\n",
    "best_cols = [c for c in train_df.columns if c not in exclude_cols and c not in target]\n",
    "print(\"Main features:\", len(best_cols))"
   ]
  },
  {
   "cell_type": "code",
   "execution_count": 8,
   "id": "d79003b9",
   "metadata": {},
   "outputs": [
    {
     "name": "stdout",
     "output_type": "stream",
     "text": [
      "contest-precip-14d__precip\n"
     ]
    }
   ],
   "source": [
    "for c in all_cols:\n",
    "    if 'contest-precip-14d' in c:\n",
    "        print(c)"
   ]
  },
  {
   "cell_type": "code",
   "execution_count": 9,
   "id": "281ff6e9",
   "metadata": {},
   "outputs": [],
   "source": [
    "def calculate_season(month):\n",
    "    if month == 12 or month == 1 or month == 2:\n",
    "        return 4\n",
    "    if month == 9 or month == 10 or month == 11:\n",
    "        return 3\n",
    "    if month == 7 or month == 8 or month == 6:\n",
    "        return 2\n",
    "    if month == 3 or month == 4 or month == 5:\n",
    "        return 1"
   ]
  },
  {
   "cell_type": "code",
   "execution_count": 10,
   "id": "55ccb6d1",
   "metadata": {},
   "outputs": [],
   "source": [
    "train_df['month'] = add_train['month']\n",
    "test_df['month'] = add_test['month']\n",
    "\n",
    "train_df['season'] = train_df['month'].apply(calculate_season)\n",
    "test_df['season'] = test_df['month'].apply(calculate_season)\n",
    "\n",
    "train_df['loc_group'] = add_train['loc_group']\n",
    "test_df['loc_group'] = add_test['loc_group']\n",
    "\n",
    "train_df['year'] = add_train['year']\n",
    "test_df['year'] = add_test['year']\n",
    "\n",
    "def map_climate_type(x):\n",
    "    return climate_type_dict[str(x)]\n",
    "\n",
    "train_df['climate_type'] = train_df['climateregions__climateregion'].apply(map_climate_type)\n",
    "test_df['climate_type'] = train_df['climateregions__climateregion'].apply(map_climate_type)\n",
    "\n",
    "precip_col = 'contest-precip-14d__precip'\n",
    "wind_col = 'contest-wind-h500-14d__wind-hgt-500'\n",
    "\n",
    "group_cols = ['loc_group', 'climate_type', 'year', 'season', 'month']\n",
    "season_group_cols = ['loc_group', 'climate_type', 'year', 'season']\n"
   ]
  },
  {
   "cell_type": "code",
   "execution_count": 11,
   "id": "89eba818",
   "metadata": {},
   "outputs": [],
   "source": [
    "slp_col = 'contest-slp-14d__slp'"
   ]
  },
  {
   "cell_type": "code",
   "execution_count": 12,
   "id": "2cad7d7a",
   "metadata": {},
   "outputs": [
    {
     "name": "stdout",
     "output_type": "stream",
     "text": [
      "100379.21 103275.84\n",
      "100593.22 102258.27\n"
     ]
    }
   ],
   "source": [
    "print(train_df[slp_col].min(), train_df[slp_col].max())\n",
    "print(test_df[slp_col].min(), test_df[slp_col].max())"
   ]
  },
  {
   "cell_type": "code",
   "execution_count": 13,
   "id": "da193063",
   "metadata": {},
   "outputs": [
    {
     "name": "stdout",
     "output_type": "stream",
     "text": [
      "5289.25 5958.2\n",
      "5504.59 5925.56\n"
     ]
    }
   ],
   "source": [
    "print(train_df[wind_col].min(), train_df[wind_col].max())\n",
    "print(test_df[wind_col].min(), test_df[wind_col].max())"
   ]
  },
  {
   "cell_type": "code",
   "execution_count": 14,
   "id": "583c0678",
   "metadata": {},
   "outputs": [],
   "source": [
    "train_df[wind_col] = train_df[wind_col] - 5000\n",
    "test_df[wind_col] = test_df[wind_col] - 5000"
   ]
  },
  {
   "cell_type": "code",
   "execution_count": 15,
   "id": "f2e36dcb",
   "metadata": {},
   "outputs": [],
   "source": [
    "train_df[slp_col] = train_df[slp_col] - 100000\n",
    "test_df[slp_col] = test_df[slp_col] - 100000"
   ]
  },
  {
   "cell_type": "code",
   "execution_count": 16,
   "id": "e00fe5ce",
   "metadata": {},
   "outputs": [
    {
     "data": {
      "text/plain": [
       "(407088, 68)"
      ]
     },
     "execution_count": 16,
     "metadata": {},
     "output_type": "execute_result"
    }
   ],
   "source": [
    "check_cols = [c for c in train_df.columns if c not in target and c not in exclude_cols]\n",
    "\n",
    "df = pd.concat([train_df[check_cols], test_df[check_cols]], axis=0)\n",
    "df.shape"
   ]
  },
  {
   "cell_type": "code",
   "execution_count": 17,
   "id": "93c0c117",
   "metadata": {},
   "outputs": [],
   "source": [
    "def create_df_by_group_and_agg(dataframe, grouped_cols, action, my_col, return_name):\n",
    "    if action == \"first\":\n",
    "        ans_df = dataframe.groupby(grouped_cols)[my_col].first().reset_index()\n",
    "    elif action == \"min\":\n",
    "        ans_df = dataframe.groupby(grouped_cols)[my_col].min().reset_index()\n",
    "    elif action == \"max\":\n",
    "        ans_df = dataframe.groupby(grouped_cols)[my_col].max().reset_index()\n",
    "    elif action == \"mean\":\n",
    "        ans_df = dataframe.groupby(grouped_cols)[my_col].mean().reset_index()\n",
    "    print(\"Nan\")\n",
    "    ans_df = ans_df.rename(columns={my_col: return_name})\n",
    "    for c in ans_df.columns:\n",
    "        if ans_df[c].isnull().sum() > 0:\n",
    "            print(c, ans_df[c].isnull().sum())\n",
    "    return ans_df"
   ]
  },
  {
   "cell_type": "code",
   "execution_count": 18,
   "id": "a52a1320",
   "metadata": {},
   "outputs": [],
   "source": [
    "def assign_train_test_df(my_col):\n",
    "    train_df[my_col] = df[:len(train_df)][my_col].tolist()\n",
    "    test_df[my_col] = df[len(train_df):][my_col].tolist()"
   ]
  },
  {
   "cell_type": "code",
   "execution_count": 19,
   "id": "d981dfd7",
   "metadata": {},
   "outputs": [
    {
     "name": "stdout",
     "output_type": "stream",
     "text": [
      "Nan\n"
     ]
    },
    {
     "data": {
      "text/html": [
       "<div>\n",
       "<style scoped>\n",
       "    .dataframe tbody tr th:only-of-type {\n",
       "        vertical-align: middle;\n",
       "    }\n",
       "\n",
       "    .dataframe tbody tr th {\n",
       "        vertical-align: top;\n",
       "    }\n",
       "\n",
       "    .dataframe thead th {\n",
       "        text-align: right;\n",
       "    }\n",
       "</style>\n",
       "<table border=\"1\" class=\"dataframe\">\n",
       "  <thead>\n",
       "    <tr style=\"text-align: right;\">\n",
       "      <th></th>\n",
       "      <th>loc_group</th>\n",
       "      <th>climate_type</th>\n",
       "      <th>year</th>\n",
       "      <th>season</th>\n",
       "      <th>first_slp</th>\n",
       "    </tr>\n",
       "  </thead>\n",
       "  <tbody>\n",
       "    <tr>\n",
       "      <th>0</th>\n",
       "      <td>0</td>\n",
       "      <td>BSh</td>\n",
       "      <td>2014</td>\n",
       "      <td>3</td>\n",
       "      <td>1352.08</td>\n",
       "    </tr>\n",
       "    <tr>\n",
       "      <th>1</th>\n",
       "      <td>0</td>\n",
       "      <td>BSh</td>\n",
       "      <td>2014</td>\n",
       "      <td>4</td>\n",
       "      <td>2072.81</td>\n",
       "    </tr>\n",
       "    <tr>\n",
       "      <th>2</th>\n",
       "      <td>0</td>\n",
       "      <td>BSh</td>\n",
       "      <td>2015</td>\n",
       "      <td>1</td>\n",
       "      <td>1917.24</td>\n",
       "    </tr>\n",
       "  </tbody>\n",
       "</table>\n",
       "</div>"
      ],
      "text/plain": [
       "   loc_group climate_type  year  season  first_slp\n",
       "0          0          BSh  2014       3    1352.08\n",
       "1          0          BSh  2014       4    2072.81\n",
       "2          0          BSh  2015       1    1917.24"
      ]
     },
     "execution_count": 19,
     "metadata": {},
     "output_type": "execute_result"
    }
   ],
   "source": [
    "first_slp_df = create_df_by_group_and_agg(df, season_group_cols, \"first\", slp_col, \"first_slp\")\n",
    "first_slp_df.head(3)"
   ]
  },
  {
   "cell_type": "code",
   "execution_count": 20,
   "id": "a9f879de",
   "metadata": {},
   "outputs": [
    {
     "name": "stdout",
     "output_type": "stream",
     "text": [
      "Nan\n"
     ]
    },
    {
     "data": {
      "text/html": [
       "<div>\n",
       "<style scoped>\n",
       "    .dataframe tbody tr th:only-of-type {\n",
       "        vertical-align: middle;\n",
       "    }\n",
       "\n",
       "    .dataframe tbody tr th {\n",
       "        vertical-align: top;\n",
       "    }\n",
       "\n",
       "    .dataframe thead th {\n",
       "        text-align: right;\n",
       "    }\n",
       "</style>\n",
       "<table border=\"1\" class=\"dataframe\">\n",
       "  <thead>\n",
       "    <tr style=\"text-align: right;\">\n",
       "      <th></th>\n",
       "      <th>loc_group</th>\n",
       "      <th>climate_type</th>\n",
       "      <th>year</th>\n",
       "      <th>season</th>\n",
       "      <th>first_wind</th>\n",
       "    </tr>\n",
       "  </thead>\n",
       "  <tbody>\n",
       "    <tr>\n",
       "      <th>0</th>\n",
       "      <td>0</td>\n",
       "      <td>BSh</td>\n",
       "      <td>2014</td>\n",
       "      <td>3</td>\n",
       "      <td>899.66</td>\n",
       "    </tr>\n",
       "    <tr>\n",
       "      <th>1</th>\n",
       "      <td>0</td>\n",
       "      <td>BSh</td>\n",
       "      <td>2014</td>\n",
       "      <td>4</td>\n",
       "      <td>847.35</td>\n",
       "    </tr>\n",
       "    <tr>\n",
       "      <th>2</th>\n",
       "      <td>0</td>\n",
       "      <td>BSh</td>\n",
       "      <td>2015</td>\n",
       "      <td>1</td>\n",
       "      <td>804.47</td>\n",
       "    </tr>\n",
       "  </tbody>\n",
       "</table>\n",
       "</div>"
      ],
      "text/plain": [
       "   loc_group climate_type  year  season  first_wind\n",
       "0          0          BSh  2014       3      899.66\n",
       "1          0          BSh  2014       4      847.35\n",
       "2          0          BSh  2015       1      804.47"
      ]
     },
     "execution_count": 20,
     "metadata": {},
     "output_type": "execute_result"
    }
   ],
   "source": [
    "first_wind_df = create_df_by_group_and_agg(df, season_group_cols, \"first\", wind_col, \"first_wind\")\n",
    "first_wind_df.head(3)"
   ]
  },
  {
   "cell_type": "code",
   "execution_count": 21,
   "id": "917b3ca4",
   "metadata": {},
   "outputs": [
    {
     "name": "stdout",
     "output_type": "stream",
     "text": [
      "Nan\n"
     ]
    },
    {
     "data": {
      "text/html": [
       "<div>\n",
       "<style scoped>\n",
       "    .dataframe tbody tr th:only-of-type {\n",
       "        vertical-align: middle;\n",
       "    }\n",
       "\n",
       "    .dataframe tbody tr th {\n",
       "        vertical-align: top;\n",
       "    }\n",
       "\n",
       "    .dataframe thead th {\n",
       "        text-align: right;\n",
       "    }\n",
       "</style>\n",
       "<table border=\"1\" class=\"dataframe\">\n",
       "  <thead>\n",
       "    <tr style=\"text-align: right;\">\n",
       "      <th></th>\n",
       "      <th>loc_group</th>\n",
       "      <th>climate_type</th>\n",
       "      <th>year</th>\n",
       "      <th>season</th>\n",
       "      <th>month</th>\n",
       "      <th>first_slp_month</th>\n",
       "    </tr>\n",
       "  </thead>\n",
       "  <tbody>\n",
       "    <tr>\n",
       "      <th>0</th>\n",
       "      <td>0</td>\n",
       "      <td>BSh</td>\n",
       "      <td>2014</td>\n",
       "      <td>3</td>\n",
       "      <td>9</td>\n",
       "      <td>1352.08</td>\n",
       "    </tr>\n",
       "    <tr>\n",
       "      <th>1</th>\n",
       "      <td>0</td>\n",
       "      <td>BSh</td>\n",
       "      <td>2014</td>\n",
       "      <td>3</td>\n",
       "      <td>10</td>\n",
       "      <td>1254.96</td>\n",
       "    </tr>\n",
       "    <tr>\n",
       "      <th>2</th>\n",
       "      <td>0</td>\n",
       "      <td>BSh</td>\n",
       "      <td>2014</td>\n",
       "      <td>3</td>\n",
       "      <td>11</td>\n",
       "      <td>1952.19</td>\n",
       "    </tr>\n",
       "  </tbody>\n",
       "</table>\n",
       "</div>"
      ],
      "text/plain": [
       "   loc_group climate_type  year  season  month  first_slp_month\n",
       "0          0          BSh  2014       3      9          1352.08\n",
       "1          0          BSh  2014       3     10          1254.96\n",
       "2          0          BSh  2014       3     11          1952.19"
      ]
     },
     "execution_count": 21,
     "metadata": {},
     "output_type": "execute_result"
    }
   ],
   "source": [
    "first_slp_df_month = create_df_by_group_and_agg(df, group_cols, \"first\", slp_col, \"first_slp_month\")\n",
    "first_slp_df_month.head(3)"
   ]
  },
  {
   "cell_type": "code",
   "execution_count": 22,
   "id": "12de230a",
   "metadata": {},
   "outputs": [],
   "source": [
    "df = df.merge(first_slp_df, how='left', on=season_group_cols)\n",
    "df['diff_slp_first'] = df[slp_col] - df['first_slp']\n",
    "assign_train_test_df('diff_slp_first')"
   ]
  },
  {
   "cell_type": "code",
   "execution_count": 23,
   "id": "c7596dd8",
   "metadata": {},
   "outputs": [],
   "source": [
    "df = df.merge(first_wind_df, how='left', on=season_group_cols)\n",
    "df['diff_wind_first'] = df[wind_col] - df['first_wind']\n",
    "assign_train_test_df('diff_wind_first')"
   ]
  },
  {
   "cell_type": "code",
   "execution_count": 29,
   "id": "a5ec3a09",
   "metadata": {},
   "outputs": [],
   "source": [
    "features = best_cols + [\n",
    "    'diff_slp_first',\n",
    "    'diff_wind_first'\n",
    "]"
   ]
  },
  {
   "cell_type": "code",
   "execution_count": 30,
   "id": "67bd89c6",
   "metadata": {},
   "outputs": [
    {
     "name": "stderr",
     "output_type": "stream",
     "text": [
      "5it [00:04,  1.12it/s]\n"
     ]
    },
    {
     "name": "stdout",
     "output_type": "stream",
     "text": [
      "(375734, 65) (375734,)\n"
     ]
    },
    {
     "name": "stderr",
     "output_type": "stream",
     "text": [
      "\r",
      "  0%|                                                                                                | 0/5 [00:00<?, ?it/s]"
     ]
    },
    {
     "name": "stdout",
     "output_type": "stream",
     "text": [
      "Learning rate set to 0.072699\n",
      "0:\tlearn: 9.2611105\ttest: 9.2407165\tbest: 9.2407165 (0)\ttotal: 5.37ms\tremaining: 26.8s\n",
      "200:\tlearn: 1.1816269\ttest: 1.1877351\tbest: 1.1877351 (200)\ttotal: 962ms\tremaining: 23s\n",
      "400:\tlearn: 0.9299113\ttest: 0.9392899\tbest: 0.9392899 (400)\ttotal: 1.95s\tremaining: 22.4s\n",
      "600:\tlearn: 0.7944002\ttest: 0.8057680\tbest: 0.8057680 (600)\ttotal: 2.86s\tremaining: 21s\n",
      "800:\tlearn: 0.7099965\ttest: 0.7231896\tbest: 0.7231896 (800)\ttotal: 3.81s\tremaining: 20s\n",
      "1000:\tlearn: 0.6481700\ttest: 0.6623458\tbest: 0.6623458 (1000)\ttotal: 4.78s\tremaining: 19.1s\n",
      "1200:\tlearn: 0.6014709\ttest: 0.6166821\tbest: 0.6166821 (1200)\ttotal: 5.77s\tremaining: 18.3s\n",
      "1400:\tlearn: 0.5674466\ttest: 0.5836608\tbest: 0.5836608 (1400)\ttotal: 6.8s\tremaining: 17.5s\n",
      "1600:\tlearn: 0.5377588\ttest: 0.5551651\tbest: 0.5551651 (1600)\ttotal: 7.76s\tremaining: 16.5s\n",
      "1800:\tlearn: 0.5118741\ttest: 0.5301964\tbest: 0.5301964 (1800)\ttotal: 8.71s\tremaining: 15.5s\n",
      "2000:\tlearn: 0.4908837\ttest: 0.5100865\tbest: 0.5100865 (2000)\ttotal: 9.62s\tremaining: 14.4s\n",
      "2200:\tlearn: 0.4708485\ttest: 0.4909385\tbest: 0.4909385 (2200)\ttotal: 10.6s\tremaining: 13.5s\n",
      "2400:\tlearn: 0.4542170\ttest: 0.4750669\tbest: 0.4750669 (2400)\ttotal: 11.6s\tremaining: 12.6s\n",
      "2600:\tlearn: 0.4389496\ttest: 0.4605089\tbest: 0.4605089 (2600)\ttotal: 12.6s\tremaining: 11.6s\n",
      "2800:\tlearn: 0.4252238\ttest: 0.4474481\tbest: 0.4474481 (2800)\ttotal: 14s\tremaining: 11s\n",
      "3000:\tlearn: 0.4126245\ttest: 0.4354778\tbest: 0.4354778 (3000)\ttotal: 16.9s\tremaining: 11.2s\n",
      "3200:\tlearn: 0.4007970\ttest: 0.4241062\tbest: 0.4241062 (3200)\ttotal: 18s\tremaining: 10.1s\n",
      "3400:\tlearn: 0.3899322\ttest: 0.4137603\tbest: 0.4137603 (3400)\ttotal: 19s\tremaining: 8.92s\n",
      "3600:\tlearn: 0.3798863\ttest: 0.4044280\tbest: 0.4044280 (3600)\ttotal: 19.9s\tremaining: 7.74s\n",
      "3800:\tlearn: 0.3709511\ttest: 0.3960354\tbest: 0.3960354 (3800)\ttotal: 20.9s\tremaining: 6.59s\n",
      "4000:\tlearn: 0.3628263\ttest: 0.3885723\tbest: 0.3885723 (4000)\ttotal: 21.9s\tremaining: 5.47s\n",
      "4200:\tlearn: 0.3547246\ttest: 0.3809377\tbest: 0.3809377 (4200)\ttotal: 22.9s\tremaining: 4.35s\n",
      "4400:\tlearn: 0.3474666\ttest: 0.3742919\tbest: 0.3742919 (4400)\ttotal: 23.7s\tremaining: 3.23s\n",
      "4600:\tlearn: 0.3404500\ttest: 0.3677966\tbest: 0.3677966 (4600)\ttotal: 24.7s\tremaining: 2.14s\n",
      "4800:\tlearn: 0.3338585\ttest: 0.3617008\tbest: 0.3617008 (4800)\ttotal: 25.7s\tremaining: 1.06s\n",
      "4999:\tlearn: 0.3274289\ttest: 0.3557463\tbest: 0.3557463 (4999)\ttotal: 26.7s\tremaining: 0us\n",
      "bestTest = 0.3557463154\n",
      "bestIteration = 4999\n"
     ]
    },
    {
     "name": "stderr",
     "output_type": "stream",
     "text": [
      "\r",
      " 20%|█████████████████▌                                                                      | 1/5 [00:34<02:19, 34.97s/it]"
     ]
    },
    {
     "name": "stdout",
     "output_type": "stream",
     "text": [
      "Learning rate set to 0.072699\n",
      "0:\tlearn: 9.2537635\ttest: 9.2717026\tbest: 9.2717026 (0)\ttotal: 5.71ms\tremaining: 28.6s\n",
      "200:\tlearn: 1.1809709\ttest: 1.1813403\tbest: 1.1813403 (200)\ttotal: 1.16s\tremaining: 27.7s\n",
      "400:\tlearn: 0.9278235\ttest: 0.9314831\tbest: 0.9314831 (400)\ttotal: 2.3s\tremaining: 26.4s\n",
      "600:\tlearn: 0.7894304\ttest: 0.7956223\tbest: 0.7956223 (600)\ttotal: 3.42s\tremaining: 25.1s\n",
      "800:\tlearn: 0.7044564\ttest: 0.7127284\tbest: 0.7127284 (800)\ttotal: 4.59s\tremaining: 24.1s\n",
      "1000:\tlearn: 0.6456361\ttest: 0.6561140\tbest: 0.6561140 (1000)\ttotal: 5.65s\tremaining: 22.6s\n",
      "1200:\tlearn: 0.5999086\ttest: 0.6119909\tbest: 0.6119909 (1200)\ttotal: 6.86s\tremaining: 21.7s\n",
      "1400:\tlearn: 0.5636071\ttest: 0.5770011\tbest: 0.5770011 (1400)\ttotal: 8.12s\tremaining: 20.9s\n",
      "1600:\tlearn: 0.5351756\ttest: 0.5499381\tbest: 0.5499381 (1600)\ttotal: 9.27s\tremaining: 19.7s\n",
      "1800:\tlearn: 0.5093879\ttest: 0.5255227\tbest: 0.5255227 (1800)\ttotal: 10.5s\tremaining: 18.6s\n",
      "2000:\tlearn: 0.4879371\ttest: 0.5050372\tbest: 0.5050372 (2000)\ttotal: 11.9s\tremaining: 17.8s\n",
      "2200:\tlearn: 0.4694776\ttest: 0.4872930\tbest: 0.4872930 (2200)\ttotal: 13.2s\tremaining: 16.8s\n",
      "2400:\tlearn: 0.4536698\ttest: 0.4723277\tbest: 0.4723277 (2400)\ttotal: 14.6s\tremaining: 15.8s\n",
      "2600:\tlearn: 0.4388072\ttest: 0.4580904\tbest: 0.4580904 (2600)\ttotal: 15.9s\tremaining: 14.7s\n",
      "2800:\tlearn: 0.4252893\ttest: 0.4454704\tbest: 0.4454704 (2800)\ttotal: 17.3s\tremaining: 13.6s\n",
      "3000:\tlearn: 0.4121816\ttest: 0.4330124\tbest: 0.4330124 (3000)\ttotal: 18.7s\tremaining: 12.5s\n",
      "3200:\tlearn: 0.4006273\ttest: 0.4222347\tbest: 0.4222347 (3200)\ttotal: 20.2s\tremaining: 11.3s\n",
      "3400:\tlearn: 0.3902966\ttest: 0.4125372\tbest: 0.4125372 (3400)\ttotal: 21.6s\tremaining: 10.1s\n",
      "3600:\tlearn: 0.3802327\ttest: 0.4032971\tbest: 0.4032971 (3600)\ttotal: 22.9s\tremaining: 8.89s\n",
      "3800:\tlearn: 0.3714349\ttest: 0.3951316\tbest: 0.3951316 (3800)\ttotal: 24.3s\tremaining: 7.66s\n",
      "4000:\tlearn: 0.3627656\ttest: 0.3871314\tbest: 0.3871314 (4000)\ttotal: 25.5s\tremaining: 6.36s\n",
      "4200:\tlearn: 0.3544960\ttest: 0.3795780\tbest: 0.3795780 (4200)\ttotal: 26.4s\tremaining: 5.02s\n",
      "4400:\tlearn: 0.3471473\ttest: 0.3729368\tbest: 0.3729368 (4400)\ttotal: 27.4s\tremaining: 3.73s\n",
      "4600:\tlearn: 0.3398766\ttest: 0.3662465\tbest: 0.3662465 (4600)\ttotal: 28.4s\tremaining: 2.46s\n",
      "4800:\tlearn: 0.3333824\ttest: 0.3602121\tbest: 0.3602121 (4800)\ttotal: 29.4s\tremaining: 1.22s\n",
      "4999:\tlearn: 0.3269984\ttest: 0.3543404\tbest: 0.3543404 (4999)\ttotal: 30.3s\tremaining: 0us\n",
      "bestTest = 0.3543403889\n",
      "bestIteration = 4999\n"
     ]
    },
    {
     "name": "stderr",
     "output_type": "stream",
     "text": [
      "\r",
      " 40%|███████████████████████████████████▏                                                    | 2/5 [01:13<01:51, 37.21s/it]"
     ]
    },
    {
     "name": "stdout",
     "output_type": "stream",
     "text": [
      "Learning rate set to 0.072699\n",
      "0:\tlearn: 9.2531718\ttest: 9.2855747\tbest: 9.2855747 (0)\ttotal: 5.48ms\tremaining: 27.4s\n",
      "200:\tlearn: 1.1869078\ttest: 1.1886155\tbest: 1.1886155 (200)\ttotal: 904ms\tremaining: 21.6s\n",
      "400:\tlearn: 0.9298971\ttest: 0.9375164\tbest: 0.9375164 (400)\ttotal: 1.86s\tremaining: 21.3s\n",
      "600:\tlearn: 0.7897011\ttest: 0.8005639\tbest: 0.8005639 (600)\ttotal: 2.82s\tremaining: 20.7s\n",
      "800:\tlearn: 0.7065459\ttest: 0.7198077\tbest: 0.7198077 (800)\ttotal: 3.79s\tremaining: 19.9s\n",
      "1000:\tlearn: 0.6471473\ttest: 0.6622498\tbest: 0.6622498 (1000)\ttotal: 4.76s\tremaining: 19s\n",
      "1200:\tlearn: 0.6028536\ttest: 0.6191186\tbest: 0.6191186 (1200)\ttotal: 5.72s\tremaining: 18.1s\n",
      "1400:\tlearn: 0.5652039\ttest: 0.5825344\tbest: 0.5825344 (1400)\ttotal: 6.71s\tremaining: 17.2s\n",
      "1600:\tlearn: 0.5352514\ttest: 0.5533687\tbest: 0.5533687 (1600)\ttotal: 7.66s\tremaining: 16.3s\n",
      "1800:\tlearn: 0.5096272\ttest: 0.5284866\tbest: 0.5284866 (1800)\ttotal: 8.66s\tremaining: 15.4s\n",
      "2000:\tlearn: 0.4883998\ttest: 0.5080909\tbest: 0.5080909 (2000)\ttotal: 9.56s\tremaining: 14.3s\n",
      "2200:\tlearn: 0.4692090\ttest: 0.4895695\tbest: 0.4895695 (2200)\ttotal: 10.5s\tremaining: 13.3s\n",
      "2400:\tlearn: 0.4523272\ttest: 0.4734676\tbest: 0.4734676 (2400)\ttotal: 11.5s\tremaining: 12.4s\n",
      "2600:\tlearn: 0.4374601\ttest: 0.4592588\tbest: 0.4592588 (2600)\ttotal: 12.5s\tremaining: 11.5s\n",
      "2800:\tlearn: 0.4239036\ttest: 0.4462817\tbest: 0.4462817 (2800)\ttotal: 13.4s\tremaining: 10.5s\n",
      "3000:\tlearn: 0.4113798\ttest: 0.4343972\tbest: 0.4343972 (3000)\ttotal: 14.3s\tremaining: 9.53s\n",
      "3200:\tlearn: 0.4002277\ttest: 0.4238691\tbest: 0.4238691 (3200)\ttotal: 15.3s\tremaining: 8.57s\n",
      "3400:\tlearn: 0.3896992\ttest: 0.4137848\tbest: 0.4137848 (3400)\ttotal: 16.2s\tremaining: 7.62s\n",
      "3600:\tlearn: 0.3803418\ttest: 0.4050676\tbest: 0.4050676 (3600)\ttotal: 17.1s\tremaining: 6.65s\n",
      "3800:\tlearn: 0.3710623\ttest: 0.3962525\tbest: 0.3962525 (3800)\ttotal: 18s\tremaining: 5.68s\n",
      "4000:\tlearn: 0.3623246\ttest: 0.3879276\tbest: 0.3879276 (4000)\ttotal: 19s\tremaining: 4.74s\n",
      "4200:\tlearn: 0.3542563\ttest: 0.3804820\tbest: 0.3804820 (4200)\ttotal: 19.9s\tremaining: 3.79s\n",
      "4400:\tlearn: 0.3467841\ttest: 0.3734707\tbest: 0.3734707 (4400)\ttotal: 21s\tremaining: 2.85s\n",
      "4600:\tlearn: 0.3398378\ttest: 0.3669640\tbest: 0.3669640 (4600)\ttotal: 21.9s\tremaining: 1.9s\n",
      "4800:\tlearn: 0.3333049\ttest: 0.3608554\tbest: 0.3608554 (4800)\ttotal: 22.8s\tremaining: 947ms\n",
      "4999:\tlearn: 0.3271591\ttest: 0.3550362\tbest: 0.3550362 (4999)\ttotal: 23.8s\tremaining: 0us\n",
      "bestTest = 0.3550361602\n",
      "bestIteration = 4999\n"
     ]
    },
    {
     "name": "stderr",
     "output_type": "stream",
     "text": [
      "\r",
      " 60%|████████████████████████████████████████████████████▊                                   | 3/5 [01:45<01:09, 34.68s/it]"
     ]
    },
    {
     "name": "stdout",
     "output_type": "stream",
     "text": [
      "Learning rate set to 0.072699\n",
      "0:\tlearn: 9.2604847\ttest: 9.2566518\tbest: 9.2566518 (0)\ttotal: 5.64ms\tremaining: 28.2s\n",
      "200:\tlearn: 1.1689113\ttest: 1.1833073\tbest: 1.1833073 (200)\ttotal: 932ms\tremaining: 22.3s\n",
      "400:\tlearn: 0.9261163\ttest: 0.9410892\tbest: 0.9410892 (400)\ttotal: 1.9s\tremaining: 21.8s\n",
      "600:\tlearn: 0.7951683\ttest: 0.8098179\tbest: 0.8098179 (600)\ttotal: 2.8s\tremaining: 20.5s\n",
      "800:\tlearn: 0.7076744\ttest: 0.7223040\tbest: 0.7223040 (800)\ttotal: 3.72s\tremaining: 19.5s\n",
      "1000:\tlearn: 0.6464089\ttest: 0.6615705\tbest: 0.6615705 (1000)\ttotal: 4.67s\tremaining: 18.7s\n",
      "1200:\tlearn: 0.6014900\ttest: 0.6176572\tbest: 0.6176572 (1200)\ttotal: 5.59s\tremaining: 17.7s\n",
      "1400:\tlearn: 0.5654909\ttest: 0.5821292\tbest: 0.5821292 (1400)\ttotal: 6.55s\tremaining: 16.8s\n",
      "1600:\tlearn: 0.5354246\ttest: 0.5532895\tbest: 0.5532895 (1600)\ttotal: 7.42s\tremaining: 15.8s\n",
      "1800:\tlearn: 0.5098802\ttest: 0.5283577\tbest: 0.5283577 (1800)\ttotal: 8.36s\tremaining: 14.8s\n",
      "2000:\tlearn: 0.4880848\ttest: 0.5072815\tbest: 0.5072815 (2000)\ttotal: 9.28s\tremaining: 13.9s\n",
      "2200:\tlearn: 0.4699174\ttest: 0.4899713\tbest: 0.4899713 (2200)\ttotal: 10.3s\tremaining: 13s\n",
      "2400:\tlearn: 0.4530030\ttest: 0.4740123\tbest: 0.4740123 (2400)\ttotal: 11.3s\tremaining: 12.2s\n",
      "2600:\tlearn: 0.4382217\ttest: 0.4600536\tbest: 0.4600536 (2600)\ttotal: 12.2s\tremaining: 11.2s\n",
      "2800:\tlearn: 0.4248939\ttest: 0.4474308\tbest: 0.4474308 (2800)\ttotal: 13.1s\tremaining: 10.3s\n",
      "3000:\tlearn: 0.4129005\ttest: 0.4360035\tbest: 0.4360035 (3000)\ttotal: 14.2s\tremaining: 9.43s\n",
      "3200:\tlearn: 0.4014625\ttest: 0.4251650\tbest: 0.4251650 (3200)\ttotal: 15.1s\tremaining: 8.49s\n",
      "3400:\tlearn: 0.3909042\ttest: 0.4151886\tbest: 0.4151886 (3400)\ttotal: 16s\tremaining: 7.54s\n",
      "3600:\tlearn: 0.3811775\ttest: 0.4061609\tbest: 0.4061609 (3600)\ttotal: 17s\tremaining: 6.59s\n",
      "3800:\tlearn: 0.3721879\ttest: 0.3976449\tbest: 0.3976449 (3800)\ttotal: 17.9s\tremaining: 5.65s\n",
      "4000:\tlearn: 0.3635968\ttest: 0.3896482\tbest: 0.3896482 (4000)\ttotal: 18.9s\tremaining: 4.71s\n",
      "4200:\tlearn: 0.3556792\ttest: 0.3822479\tbest: 0.3822479 (4200)\ttotal: 19.9s\tremaining: 3.78s\n",
      "4400:\tlearn: 0.3478948\ttest: 0.3749822\tbest: 0.3749822 (4400)\ttotal: 20.8s\tremaining: 2.83s\n",
      "4600:\tlearn: 0.3411764\ttest: 0.3687298\tbest: 0.3687298 (4600)\ttotal: 21.8s\tremaining: 1.89s\n",
      "4800:\tlearn: 0.3345587\ttest: 0.3626145\tbest: 0.3626145 (4800)\ttotal: 22.7s\tremaining: 943ms\n",
      "4999:\tlearn: 0.3284352\ttest: 0.3569692\tbest: 0.3569692 (4999)\ttotal: 23.7s\tremaining: 0us\n",
      "bestTest = 0.3569691694\n",
      "bestIteration = 4999\n"
     ]
    },
    {
     "name": "stderr",
     "output_type": "stream",
     "text": [
      "\r",
      " 80%|██████████████████████████████████████████████████████████████████████▍                 | 4/5 [02:16<00:33, 33.36s/it]"
     ]
    },
    {
     "name": "stdout",
     "output_type": "stream",
     "text": [
      "Learning rate set to 0.072699\n",
      "0:\tlearn: 9.2625918\ttest: 9.2370575\tbest: 9.2370575 (0)\ttotal: 6.58ms\tremaining: 32.9s\n",
      "200:\tlearn: 1.1836220\ttest: 1.1894843\tbest: 1.1894843 (200)\ttotal: 918ms\tremaining: 21.9s\n",
      "400:\tlearn: 0.9304308\ttest: 0.9396926\tbest: 0.9396926 (400)\ttotal: 1.86s\tremaining: 21.3s\n",
      "600:\tlearn: 0.7988928\ttest: 0.8090954\tbest: 0.8090954 (600)\ttotal: 2.83s\tremaining: 20.7s\n",
      "800:\tlearn: 0.7136536\ttest: 0.7255573\tbest: 0.7255573 (800)\ttotal: 3.86s\tremaining: 20.2s\n",
      "1000:\tlearn: 0.6539405\ttest: 0.6668958\tbest: 0.6668958 (1000)\ttotal: 4.81s\tremaining: 19.2s\n",
      "1200:\tlearn: 0.6089804\ttest: 0.6231424\tbest: 0.6231424 (1200)\ttotal: 5.75s\tremaining: 18.2s\n",
      "1400:\tlearn: 0.5728738\ttest: 0.5881329\tbest: 0.5881329 (1400)\ttotal: 6.7s\tremaining: 17.2s\n",
      "1600:\tlearn: 0.5432479\ttest: 0.5594801\tbest: 0.5594801 (1600)\ttotal: 7.64s\tremaining: 16.2s\n",
      "1800:\tlearn: 0.5170494\ttest: 0.5343160\tbest: 0.5343160 (1800)\ttotal: 8.6s\tremaining: 15.3s\n",
      "2000:\tlearn: 0.4949861\ttest: 0.5131007\tbest: 0.5131007 (2000)\ttotal: 9.57s\tremaining: 14.3s\n",
      "2200:\tlearn: 0.4751660\ttest: 0.4941266\tbest: 0.4941266 (2200)\ttotal: 10.6s\tremaining: 13.5s\n",
      "2400:\tlearn: 0.4576050\ttest: 0.4773137\tbest: 0.4773137 (2400)\ttotal: 11.5s\tremaining: 12.5s\n",
      "2600:\tlearn: 0.4406614\ttest: 0.4609614\tbest: 0.4609614 (2600)\ttotal: 12.5s\tremaining: 11.5s\n",
      "2800:\tlearn: 0.4270689\ttest: 0.4480691\tbest: 0.4480691 (2800)\ttotal: 13.4s\tremaining: 10.5s\n",
      "3000:\tlearn: 0.4141203\ttest: 0.4357702\tbest: 0.4357702 (3000)\ttotal: 14.4s\tremaining: 9.56s\n",
      "3200:\tlearn: 0.4023963\ttest: 0.4247700\tbest: 0.4247700 (3200)\ttotal: 15.3s\tremaining: 8.57s\n",
      "3400:\tlearn: 0.3915106\ttest: 0.4146193\tbest: 0.4146193 (3400)\ttotal: 16.2s\tremaining: 7.6s\n",
      "3600:\tlearn: 0.3817409\ttest: 0.4054236\tbest: 0.4054236 (3600)\ttotal: 17.1s\tremaining: 6.63s\n",
      "3800:\tlearn: 0.3726110\ttest: 0.3968485\tbest: 0.3968485 (3800)\ttotal: 18s\tremaining: 5.69s\n",
      "4000:\tlearn: 0.3643539\ttest: 0.3892047\tbest: 0.3892047 (4000)\ttotal: 18.9s\tremaining: 4.73s\n",
      "4200:\tlearn: 0.3560030\ttest: 0.3813832\tbest: 0.3813832 (4200)\ttotal: 19.9s\tremaining: 3.77s\n",
      "4400:\tlearn: 0.3483299\ttest: 0.3742568\tbest: 0.3742568 (4400)\ttotal: 20.9s\tremaining: 2.84s\n",
      "4600:\tlearn: 0.3413806\ttest: 0.3679012\tbest: 0.3679012 (4600)\ttotal: 21.8s\tremaining: 1.89s\n",
      "4800:\tlearn: 0.3350129\ttest: 0.3620534\tbest: 0.3620534 (4800)\ttotal: 22.7s\tremaining: 941ms\n",
      "4999:\tlearn: 0.3281272\ttest: 0.3556039\tbest: 0.3556039 (4999)\ttotal: 23.6s\tremaining: 0us\n",
      "bestTest = 0.3556038842\n",
      "bestIteration = 4999\n"
     ]
    },
    {
     "name": "stderr",
     "output_type": "stream",
     "text": [
      "100%|████████████████████████████████████████████████████████████████████████████████████████| 5/5 [02:47<00:00, 33.58s/it]\n",
      "100%|████████████████████████████████████████████████████████████████████████████████████████| 5/5 [00:00<00:00, 27.25it/s]\n"
     ]
    },
    {
     "name": "stdout",
     "output_type": "stream",
     "text": [
      "cos_sim with best submission: 0.9998429815389569\n"
     ]
    }
   ],
   "source": [
    "X = train_df[features].values\n",
    "y = train_df[target[0]].values\n",
    "\n",
    "skf = KFold(n_splits=5, random_state=2048, shuffle=True)\n",
    "skf.get_n_splits(X, y)\n",
    "\n",
    "train_index_list = []\n",
    "test_index_list = []\n",
    "train_x_list = []\n",
    "val_x_list = []\n",
    "train_y_list = []\n",
    "val_y_list = []\n",
    "\n",
    "for i, (train_index, test_index) in tqdm(enumerate(skf.split(X, y))):\n",
    "    train_index_list.append(train_index)\n",
    "    test_index_list.append(test_index)\n",
    "\n",
    "    train_x_list.append(X[train_index, :])\n",
    "    val_x_list.append(X[test_index, :])\n",
    "    train_y_list.append(y[train_index])\n",
    "    val_y_list.append(y[test_index])    \n",
    "def train_catboost(x, y):\n",
    "    print(x.shape, y.shape)\n",
    "    \n",
    "    cat_models = []\n",
    "    for i in tqdm(range(5)):\n",
    "        train_x, val_x = train_x_list[i], val_x_list[i]\n",
    "        train_y, val_y = train_y_list[i], val_y_list[i]\n",
    "        clf = CatBoostRegressor(iterations=5000, verbose=200, task_type=\"GPU\",\n",
    "                           devices='0:1')\n",
    "        clf.fit(train_x, train_y, eval_set=[(val_x, val_y)], verbose=200, early_stopping_rounds=100)\n",
    "        cat_models.append(clf)\n",
    "    \n",
    "    return cat_models\n",
    "cat_models = train_catboost(X, y)\n",
    "\n",
    "preds = []\n",
    "for cat_model in tqdm(cat_models):\n",
    "    preds.append(cat_model.predict(test_df[features].values))\n",
    "s = 0\n",
    "for pred in preds:\n",
    "    s += pred\n",
    "s = s/5\n",
    "df = pd.read_csv('./sample_solution.csv')\n",
    "df['contest-tmp2m-14d__tmp2m'] = s\n",
    "df.to_csv('submission_wind_v2.csv', index=False)\n",
    "\n",
    "best_df = pd.read_csv('best_sub.csv')\n",
    "y_best = best_df[target[0]].values\n",
    "\n",
    "from numpy import dot\n",
    "from numpy.linalg import norm\n",
    "\n",
    "cos_sim = dot(y_best, s)/(norm(y_best)*norm(s))\n",
    "print(\"cos_sim with best submission:\", cos_sim)"
   ]
  }
 ],
 "metadata": {
  "kernelspec": {
   "display_name": "wids-env",
   "language": "python",
   "name": "wids-env"
  },
  "language_info": {
   "codemirror_mode": {
    "name": "ipython",
    "version": 3
   },
   "file_extension": ".py",
   "mimetype": "text/x-python",
   "name": "python",
   "nbconvert_exporter": "python",
   "pygments_lexer": "ipython3",
   "version": "3.7.15"
  }
 },
 "nbformat": 4,
 "nbformat_minor": 5
}
