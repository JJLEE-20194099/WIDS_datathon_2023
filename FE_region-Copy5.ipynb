{
 "cells": [
  {
   "cell_type": "code",
   "execution_count": 1,
   "metadata": {
    "colab": {
     "base_uri": "https://localhost:8080/"
    },
    "executionInfo": {
     "elapsed": 14684,
     "status": "ok",
     "timestamp": 1677245921092,
     "user": {
      "displayName": "Long Xam Lê",
      "userId": "15313526569768879738"
     },
     "user_tz": -420
    },
    "id": "uxS8iMtNqQ-Y",
    "outputId": "10541c44-d4d0-49d8-ddcf-a99d9451262d"
   },
   "outputs": [],
   "source": [
    "import numpy as np\n",
    "import pandas as pd\n",
    "import seaborn as sns\n",
    "pd.set_option('display.max_columns', None)\n",
    "import matplotlib.pyplot as plt\n",
    "from sklearn.model_selection import train_test_split\n",
    "from sklearn import preprocessing\n",
    "from tqdm import tqdm\n",
    "from sklearn.preprocessing import FunctionTransformer\n",
    "import seaborn as sns \n",
    "from scipy import stats\n",
    "import statsmodels.api as sm\n",
    "\n",
    "from sklearn.ensemble import RandomForestRegressor, ExtraTreesRegressor, AdaBoostRegressor, BaggingRegressor, GradientBoostingRegressor\n",
    "from sklearn.tree import DecisionTreeRegressor\n",
    "from sklearn.linear_model import ElasticNet, Lasso\n",
    "from sklearn.feature_selection import SelectFromModel\n",
    "from sklearn.svm import SVR\n",
    "from sklearn.model_selection import KFold, cross_val_score\n",
    "from sklearn.pipeline import make_pipeline\n",
    "from sklearn.decomposition import PCA\n",
    "from sklearn.preprocessing import RobustScaler\n",
    "from sklearn.base import BaseEstimator, TransformerMixin, RegressorMixin, clone\n",
    "from sklearn.neural_network import MLPRegressor\n",
    "from scipy.stats import norm\n",
    "import copy\n",
    "from sklearn.model_selection import KFold\n",
    "from catboost import CatBoostRegressor, Pool, metrics, cv\n",
    "from scipy.stats import gmean\n",
    "from sklearn.impute import KNNImputer\n",
    "from sklearn.metrics import mean_squared_error\n",
    "from sklearn.preprocessing import LabelEncoder\n",
    "from sklearn.model_selection import GridSearchCV\n",
    "from sklearn.model_selection import cross_val_score"
   ]
  },
  {
   "cell_type": "code",
   "execution_count": 2,
   "metadata": {
    "executionInfo": {
     "elapsed": 30,
     "status": "ok",
     "timestamp": 1677245921094,
     "user": {
      "displayName": "Long Xam Lê",
      "userId": "15313526569768879738"
     },
     "user_tz": -420
    },
    "id": "R8i0C0_TqWVg"
   },
   "outputs": [],
   "source": [
    "features = ['contest-wind-h500-14d__wind-hgt-500',\n",
    " 'contest-slp-14d__slp',\n",
    " 'nmme-tmp2m-34w__ccsm3', \n",
    " 'elevation__elevation',\n",
    " 'lon',\n",
    " 'contest-prwtr-eatm-14d__prwtr',\n",
    " 'lat',\n",
    " 'climateregions__climateregion',\n",
    " 'contest-pres-sfc-gauss-14d__pres',\n",
    " 'season_sin',\n",
    " 'day_of_year_sin',\n",
    " 'contest-precip-14d__precip',\n",
    " 'contest-wind-uwnd-250-14d__wind-uwnd-250',\n",
    " 'nmme-prate-34w__cfsv2',\n",
    " 'nmme-prate-34w__nasa',\n",
    " 'nmme-prate-56w__gfdlflora',\n",
    " 'wind-uwnd-250-2010-7',\n",
    " 'contest-wind-vwnd-925-14d__wind-vwnd-925',\n",
    " 'nmme-prate-34w__nmmemean',\n",
    " 'nmme0-prate-34w__ccsm30',\n",
    " 'contest-wind-h850-14d__wind-hgt-850',\n",
    " 'contest-wind-uwnd-925-14d__wind-uwnd-925',\n",
    " 'nmme0-prate-56w__cfsv20',\n",
    " 'nmme-prate-34w__cancm3',\n",
    " 'contest-rhum-sig995-14d__rhum',\n",
    " 'nmme-prate-34w__gfdlflorb',\n",
    " 'wind-hgt-850-2010-4',\n",
    " 'contest-wind-vwnd-250-14d__wind-vwnd-250',\n",
    " 'wind-hgt-100-2010-2',\n",
    " 'wind-uwnd-250-2010-18',\n",
    " 'wind-hgt-10-2010-5',\n",
    " 'wind-uwnd-250-2010-15',\n",
    " 'wind-uwnd-250-2010-4',\n",
    " 'nmme0-prate-56w__nasa0',\n",
    " 'nmme0-prate-34w__cfsv20',\n",
    " 'wind-vwnd-250-2010-10',\n",
    " 'contest-wind-h10-14d__wind-hgt-10',\n",
    " 'wind-uwnd-925-2010-15',\n",
    " 'wind-vwnd-250-2010-3',\n",
    " 'nmme-prate-34w__cancm4',\n",
    " 'sst-2010-4',\n",
    " 'nmme0-prate-56w__ccsm30',\n",
    " 'wind-uwnd-250-2010-16',\n",
    " 'nmme0-prate-34w__gfdl0',\n",
    " 'nmme0-prate-56w__cancm40',\n",
    " 'sst-2010-1',\n",
    " 'sst-2010-3',\n",
    " 'wind-uwnd-250-2010-14',\n",
    " 'nmme0-prate-34w__gfdlflora0',\n",
    " 'nmme-prate-34w__gfdl',\n",
    " 'wind-hgt-850-2010-9',\n",
    " 'wind-vwnd-250-2010-1',\n",
    " 'sst-2010-5',\n",
    " 'cancm30',\n",
    " 'nmme-prate-34w__ccsm4',\n",
    " 'nmme0-prate-34w__nasa0',\n",
    " 'wind-hgt-500-2010-9',\n",
    " 'nmme0-prate-34w__cancm30',\n",
    " 'wind-vwnd-250-2010-13',\n",
    " 'wind_diff',\n",
    " 'wind_diff_min',\n",
    " 'wind_diff_min_month',\n",
    " 'wind_diff_month',\n",
    " 'diff_slp_first',\n",
    " 'diff_wind_first',\n",
    " 'diff_precip_first',\n",
    " 'diff_sst_10_first',\n",
    " 'diff_sst_10_min',\n",
    " 'diff_sst_10_max',\n",
    " 'range_sst_10',\n",
    " 'scale_sst_10',\n",
    " 'diff_sst_9_first',\n",
    " 'diff_sst_9_min',\n",
    " 'diff_sst_9_max',\n",
    " 'range_sst_9',\n",
    " 'scale_sst_9',\n",
    " 'diff_sst_8_first',\n",
    " 'diff_sst_8_min',\n",
    " 'diff_sst_8_max',\n",
    " 'range_sst_8',\n",
    " 'scale_sst_8',\n",
    " 'diff_sst_7_first',\n",
    " 'diff_sst_7_min',\n",
    " 'diff_sst_7_max',\n",
    " 'range_sst_7',\n",
    " 'scale_sst_7',\n",
    " 'diff_sst_6_first',\n",
    " 'diff_sst_6_min',\n",
    " 'diff_sst_6_max',\n",
    " 'range_sst_6',\n",
    " 'scale_sst_6',\n",
    " 'diff_sst_1_first',\n",
    " 'diff_sst_1_min',\n",
    " 'diff_sst_1_max',\n",
    " 'range_sst_1',\n",
    " 'scale_sst_1',\n",
    " 'diff_sst_2_first',\n",
    " 'diff_sst_2_min',\n",
    " 'diff_sst_2_max',\n",
    " 'range_sst_2',\n",
    " 'scale_sst_2',\n",
    " 'diff_sst_3_first',\n",
    " 'diff_sst_3_min',\n",
    " 'diff_sst_3_max',\n",
    " 'range_sst_3',\n",
    " 'scale_sst_3',\n",
    " 'diff_sst_4_first',\n",
    " 'diff_sst_4_min',\n",
    " 'diff_sst_4_max',\n",
    " 'range_sst_4',\n",
    " 'scale_sst_4',\n",
    " 'diff_sst_5_first',\n",
    " 'diff_sst_5_min',\n",
    " 'diff_sst_5_max',\n",
    " 'range_sst_5',\n",
    " 'scale_sst_5',\n",
    " 'diff_pres_1_first',\n",
    " 'diff_pres_1_min',\n",
    " 'diff_pres_1_max',\n",
    " 'range_pres_1',\n",
    " 'scale_pres_1',\n",
    " 'diff_ccsm3_month_1_first',\n",
    " 'diff_ccsm3_month_1_min',\n",
    " 'diff_ccsm3_month_1_max',\n",
    " 'range_ccsm3_month_1',\n",
    " 'scale_ccsm3_month_1',\n",
    " 'diff_sst_1_month_1_first',\n",
    " 'diff_sst_1_month_1_min',\n",
    " 'diff_sst_1_month_1_max',\n",
    " 'range_sst_1_month_1',\n",
    " 'scale_sst_1_month_1',\n",
    " 'sst_1_lag_1',\n",
    " 'sst_5_lag_1',\n",
    " 'sst_4_lag_1',\n",
    " 'sst_1_lag_1_season',\n",
    " 'sst_5_lag_1_season',\n",
    " 'sst_4_lag_1_season']\n",
    "\n",
    "target=[\"contest-tmp2m-14d__tmp2m\"]\n",
    "\n",
    "slp_col = 'contest-slp-14d__slp'\n",
    "ccsm3_col = 'nmme-tmp2m-34w__ccsm3'\n",
    "pres_col = 'contest-pres-sfc-gauss-14d__pres'\n",
    "precip_col = 'contest-precip-14d__precip'\n",
    "poten_col = 'contest-pevpr-sfc-gauss-14d__pevpr'\n",
    "rhum_col = 'contest-rhum-sig995-14d__rhum'\n",
    "elevation_col = 'elevation__elevation'\n",
    "wind_col_500 = 'contest-wind-h500-14d__wind-hgt-500'\n",
    "sst_1_col = 'sst-2010-1'\n",
    "sst_5_col = 'sst-2010-5'\n",
    "sst_3_col = 'sst-2010-3'\n",
    "sst_4_col = 'sst-2010-4'\n",
    "sst_6_col = 'sst-2010-6'\n",
    "sst_7_col = 'sst-2010-7'\n",
    "sst_8_col = 'sst-2010-8'\n",
    "sst_9_col = 'sst-2010-9'\n",
    "sst_10_col = 'sst-2010-10'\n",
    "group_cols = ['startdate']"
   ]
  },
  {
   "cell_type": "code",
   "execution_count": 3,
   "metadata": {
    "executionInfo": {
     "elapsed": 28,
     "status": "ok",
     "timestamp": 1677245921096,
     "user": {
      "displayName": "Long Xam Lê",
      "userId": "15313526569768879738"
     },
     "user_tz": -420
    },
    "id": "v8jUzNabqgii"
   },
   "outputs": [],
   "source": [
    "def assign_train_test_df(df, my_col):\n",
    "    train_df[my_col] = df[:len(train_df)][my_col].tolist()\n",
    "    test_df[my_col] = df[len(train_df):][my_col].tolist()\n",
    "    return df\n",
    "\n",
    "def create_df_by_group_and_agg(dataframe, grouped_cols, action, my_col, return_name):\n",
    "    if action == \"first\":\n",
    "        ans_df = dataframe.groupby(grouped_cols)[my_col].first().reset_index()\n",
    "    elif action == \"min\":\n",
    "        ans_df = dataframe.groupby(grouped_cols)[my_col].min().reset_index()\n",
    "    elif action == \"max\":\n",
    "        ans_df = dataframe.groupby(grouped_cols)[my_col].max().reset_index()\n",
    "    elif action == \"mean\":\n",
    "        ans_df = dataframe.groupby(grouped_cols)[my_col].mean().reset_index()\n",
    "    print(\"Nan\")\n",
    "    ans_df = ans_df.rename(columns={my_col: return_name})\n",
    "    for c in ans_df.columns:\n",
    "        if ans_df[c].isnull().sum() > 0:\n",
    "            print(c, ans_df[c].isnull().sum())\n",
    "    return ans_df\n",
    "\n",
    "def create_feature(df, alias_name, col_name, suffix_num, group_cols):\n",
    "    min_df = create_df_by_group_and_agg(df, group_cols, \"min\", col_name, f\"min_{alias_name}_{suffix_num}\")\n",
    "    max_df = create_df_by_group_and_agg(df, group_cols, \"max\", col_name, f\"max_{alias_name}_{suffix_num}\")\n",
    "    \n",
    "    df = df.merge(min_df, how='left', on=group_cols)\n",
    "    df[f'diff_{alias_name}_{suffix_num}_min'] = df[col_name] - df[f\"min_{alias_name}_{suffix_num}\"]\n",
    "    df = assign_train_test_df(df, f'diff_{alias_name}_{suffix_num}_min')\n",
    "    \n",
    "    df = df.merge(max_df, how='left', on=group_cols)\n",
    "    df[f'diff_{alias_name}_{suffix_num}_max'] = df[col_name] - df[f\"max_{alias_name}_{suffix_num}\"]\n",
    "    df = assign_train_test_df(df, f'diff_{alias_name}_{suffix_num}_max')\n",
    "    \n",
    "    df[f'range_{alias_name}_{suffix_num}'] = df[f\"max_{alias_name}_{suffix_num}\"] - df[f\"min_{alias_name}_{suffix_num}\"]\n",
    "    df = assign_train_test_df(df, f'range_{alias_name}_{suffix_num}')\n",
    "    \n",
    "    df[f'scale_{alias_name}_{suffix_num}'] = (df[col_name] - df[f\"min_{alias_name}_{suffix_num}\"]) / df[f'range_{alias_name}_{suffix_num}']\n",
    "    df = assign_train_test_df(df, f'scale_{alias_name}_{suffix_num}')\n",
    "    \n",
    "    return [df,\n",
    "   f'diff_{alias_name}_{suffix_num}_min',\n",
    "    f'diff_{alias_name}_{suffix_num}_max',\n",
    "    f'range_{alias_name}_{suffix_num}', f'scale_{alias_name}_{suffix_num}']"
   ]
  },
  {
   "cell_type": "code",
   "execution_count": 4,
   "metadata": {
    "executionInfo": {
     "elapsed": 26,
     "status": "ok",
     "timestamp": 1677245921097,
     "user": {
      "displayName": "Long Xam Lê",
      "userId": "15313526569768879738"
     },
     "user_tz": -420
    },
    "id": "j3bpRR96zxcT"
   },
   "outputs": [],
   "source": [
    "# train_df = pd.read_csv('./fe_train_v2.csv')\n",
    "# test_df = pd.read_csv('./fe_test_v2.csv')"
   ]
  },
  {
   "cell_type": "code",
   "execution_count": 5,
   "metadata": {
    "executionInfo": {
     "elapsed": 46621,
     "status": "ok",
     "timestamp": 1677245967694,
     "user": {
      "displayName": "Long Xam Lê",
      "userId": "15313526569768879738"
     },
     "user_tz": -420
    },
    "id": "g4IDvTMabxwf"
   },
   "outputs": [],
   "source": [
    "# df = pd.concat([train_df, test_df])\n",
    "# print(df.shape)\n",
    "df = pd.read_csv('./df_fe_5_lon_neigh.csv')"
   ]
  },
  {
   "cell_type": "code",
   "execution_count": 6,
   "metadata": {
    "executionInfo": {
     "elapsed": 865,
     "status": "ok",
     "timestamp": 1677245968504,
     "user": {
      "displayName": "Long Xam Lê",
      "userId": "15313526569768879738"
     },
     "user_tz": -420
    },
    "id": "z8Fdg4_3sCHw"
   },
   "outputs": [],
   "source": [
    "region_df = pd.read_csv('./locations.csv')\n",
    "lat_lon_list = [(region_df['lat_index'].tolist()[i], region_df['lon_index'].tolist()[i]) for i in range(len(region_df))]"
   ]
  },
  {
   "cell_type": "code",
   "execution_count": 7,
   "metadata": {
    "executionInfo": {
     "elapsed": 8,
     "status": "ok",
     "timestamp": 1677245968505,
     "user": {
      "displayName": "Long Xam Lê",
      "userId": "15313526569768879738"
     },
     "user_tz": -420
    },
    "id": "LJWLoR2RoZXO"
   },
   "outputs": [],
   "source": [
    "lat_list = df[\"lat_index\"].tolist()\n",
    "lon_list = df[\"lon_index\"].tolist()"
   ]
  },
  {
   "cell_type": "code",
   "execution_count": 8,
   "metadata": {
    "executionInfo": {
     "elapsed": 2034,
     "status": "ok",
     "timestamp": 1677245970532,
     "user": {
      "displayName": "Long Xam Lê",
      "userId": "15313526569768879738"
     },
     "user_tz": -420
    },
    "id": "yMDgDHBInYm9"
   },
   "outputs": [],
   "source": [
    "df['lat-lon'] = [f'({lat_list[i]}, {lon_list[i]})' for i in range(len(df))]"
   ]
  },
  {
   "cell_type": "code",
   "execution_count": 9,
   "metadata": {
    "executionInfo": {
     "elapsed": 589,
     "status": "ok",
     "timestamp": 1677245971112,
     "user": {
      "displayName": "Long Xam Lê",
      "userId": "15313526569768879738"
     },
     "user_tz": -420
    },
    "id": "ehmedCTvsECq"
   },
   "outputs": [],
   "source": [
    "def get_neigh_region(lat_index, lon_index):\n",
    "    res = []\n",
    "    for i in [0, 1, 2, 3, 4]:\n",
    "      lat = lat_index + i\n",
    "      lon = lon_index + i\n",
    "      if (lat, lon) in lat_lon_list:\n",
    "          res.append((lat, lon))\n",
    "    return res          "
   ]
  },
  {
   "cell_type": "code",
   "execution_count": 10,
   "metadata": {
    "colab": {
     "base_uri": "https://localhost:8080/"
    },
    "executionInfo": {
     "elapsed": 77,
     "status": "ok",
     "timestamp": 1677245971113,
     "user": {
      "displayName": "Long Xam Lê",
      "userId": "15313526569768879738"
     },
     "user_tz": -420
    },
    "id": "XT3D9n5WsYx2",
    "outputId": "2439e185-b91a-4814-ce86-8b6981ae820f"
   },
   "outputs": [
    {
     "name": "stderr",
     "output_type": "stream",
     "text": [
      "100%|█████████████████████████████████████████████████████████████████████████████████| 514/514 [00:00<00:00, 25093.08it/s]\n"
     ]
    }
   ],
   "source": [
    "neigh_dict = dict()\n",
    "\n",
    "for lat_lon in tqdm(lat_lon_list):\n",
    "  neigh_list = get_neigh_region(lat_lon[0], lat_lon[1])\n",
    "  neigh_dict[f'{lat_lon[0]}, {lat_lon[1]}'] = neigh_list"
   ]
  },
  {
   "cell_type": "code",
   "execution_count": 11,
   "metadata": {
    "colab": {
     "base_uri": "https://localhost:8080/"
    },
    "executionInfo": {
     "elapsed": 584,
     "status": "ok",
     "timestamp": 1677245971652,
     "user": {
      "displayName": "Long Xam Lê",
      "userId": "15313526569768879738"
     },
     "user_tz": -420
    },
    "id": "uIKlxSGYtgM7",
    "outputId": "b1cda603-acbf-419b-f56e-130b8b797316"
   },
   "outputs": [
    {
     "name": "stdout",
     "output_type": "stream",
     "text": [
      "All dates: 792\n"
     ]
    }
   ],
   "source": [
    "all_dates = df['startdate'].unique().tolist()\n",
    "print(\"All dates:\", len(all_dates))"
   ]
  },
  {
   "cell_type": "code",
   "execution_count": 12,
   "metadata": {
    "executionInfo": {
     "elapsed": 22,
     "status": "ok",
     "timestamp": 1677245971653,
     "user": {
      "displayName": "Long Xam Lê",
      "userId": "15313526569768879738"
     },
     "user_tz": -420
    },
    "id": "Nbz-gPJTtq5Y"
   },
   "outputs": [],
   "source": [
    "date_df = pd.DataFrame(columns=['date', 'index'])\n",
    "date_df['date'] = all_dates\n",
    "date_df['index'] = range(len(all_dates))\n",
    "date_dict = dict()\n",
    "for i, date in enumerate(all_dates):\n",
    "  date_dict[date] = i"
   ]
  },
  {
   "cell_type": "code",
   "execution_count": 13,
   "metadata": {
    "colab": {
     "base_uri": "https://localhost:8080/"
    },
    "executionInfo": {
     "elapsed": 47322,
     "status": "ok",
     "timestamp": 1677246018954,
     "user": {
      "displayName": "Long Xam Lê",
      "userId": "15313526569768879738"
     },
     "user_tz": -420
    },
    "id": "FuN-qGoVt8Z2",
    "outputId": "04237d2f-bca2-4f79-9000-2dcee9eeef7c"
   },
   "outputs": [
    {
     "name": "stderr",
     "output_type": "stream",
     "text": [
      "100%|████████████████████████████████████████████████████████████████████████████████████| 792/792 [00:22<00:00, 35.25it/s]\n"
     ]
    }
   ],
   "source": [
    "df_by_date_list = []\n",
    "\n",
    "for date in tqdm(all_dates):\n",
    "  df_by_date = df[df['startdate'] == date]\n",
    "  df_by_date_list.append(df_by_date)"
   ]
  },
  {
   "cell_type": "code",
   "execution_count": 14,
   "metadata": {
    "executionInfo": {
     "elapsed": 233,
     "status": "ok",
     "timestamp": 1677246018984,
     "user": {
      "displayName": "Long Xam Lê",
      "userId": "15313526569768879738"
     },
     "user_tz": -420
    },
    "id": "bqcBKGPauwpi"
   },
   "outputs": [],
   "source": [
    "def cal_by_neigh(lat_index, lon_index, startdate, col_val, col_name):\n",
    "    date_idx = date_dict[startdate]\n",
    "    df_by_date = df_by_date_list[date_idx]\n",
    "    neigh_list = neigh_dict[f'{lat_index}, {lon_index}']\n",
    "    neigh_list = [str(t) for t in neigh_list]\n",
    "    sub_date_df = df_by_date[df_by_date['lat-lon'].isin(neigh_list)][col_name]\n",
    "    if len(sub_date_df) == 0:\n",
    "      return 0, 0, 0\n",
    "    return col_val - sub_date_df.mean(), col_val - sub_date_df.min(), col_val - sub_date_df.max()\n",
    "    \n",
    " "
   ]
  },
  {
   "cell_type": "code",
   "execution_count": 15,
   "metadata": {
    "executionInfo": {
     "elapsed": 245,
     "status": "ok",
     "timestamp": 1677246019016,
     "user": {
      "displayName": "Long Xam Lê",
      "userId": "15313526569768879738"
     },
     "user_tz": -420
    },
    "id": "0Qb-KjNfeVxF"
   },
   "outputs": [],
   "source": [
    "def cal_by_range_neigh(lat_index, lon_index, startdate, col_val, col_name):\n",
    "    date_idx = date_dict[startdate]\n",
    "    df_by_date = df_by_date_list[date_idx]\n",
    "    neigh_list = neigh_dict[f'{lat_index}, {lon_index}']\n",
    "    neigh_list = [str(t) for t in neigh_list]\n",
    "    sub_date_df = df_by_date[df_by_date['lat-lon'].isin(neigh_list)][col_name]\n",
    "    return sub_date_df.max() - sub_date_df.min()\n"
   ]
  },
  {
   "cell_type": "code",
   "execution_count": null,
   "metadata": {
    "executionInfo": {
     "elapsed": 1496236,
     "status": "ok",
     "timestamp": 1677247515013,
     "user": {
      "displayName": "Long Xam Lê",
      "userId": "15313526569768879738"
     },
     "user_tz": -420
    },
    "id": "_XDTSEt1sICw"
   },
   "outputs": [],
   "source": [
    "col = wind_col_500\n",
    "df['wind_500_neigh_5_diag_11_mean'], df['wind_500_neigh_5_diag_11_min'], df['wind_500_neigh_5_diag_11_max'] = zip(*df.apply(lambda x: cal_by_neigh(x['lat_index'], x['lon_index'], x['startdate'], x[col], col), axis=1))\n",
    "col = sst_1_col\n",
    "df['sst_1_neigh_5_diag_11_mean'], df['sst_1_neigh_5_diag_11_min'], df['sst_1_neigh_5_diag_11_max'] = zip(*df.apply(lambda x: cal_by_neigh(x['lat_index'], x['lon_index'], x['startdate'], x[col], col), axis=1))\n",
    "col = sst_5_col\n",
    "df['sst_5_neigh_5_diag_11_mean'], df['sst_5_neigh_5_diag_11_min'], df['sst_5_neigh_5_diag_11_max'] = zip(*df.apply(lambda x: cal_by_neigh(x['lat_index'], x['lon_index'], x['startdate'], x[col], col), axis=1))\n",
    "col = sst_3_col\n",
    "df['sst_3_neigh_5_diag_11_mean'], df['sst_3_neigh_5_diag_11_min'], df['sst_3_neigh_5_diag_11_max'] = zip(*df.apply(lambda x: cal_by_neigh(x['lat_index'], x['lon_index'], x['startdate'], x[col], col), axis=1))\n",
    "col = sst_4_col\n",
    "df['sst_4_neigh_5_diag_11_mean'], df['sst_4_neigh_5_diag_11_min'], df['sst_4_neigh_5_diag_11_max'] = zip(*df.apply(lambda x: cal_by_neigh(x['lat_index'], x['lon_index'], x['startdate'], x[col], col), axis=1))\n",
    "col = slp_col\n",
    "\n",
    "df['slp_neigh_5_diag_11_mean'], df['slp_neigh_5_diag_11_min'], df['slp_neigh_5_diag_11_max'] = zip(*df.apply(lambda x: cal_by_neigh(x['lat_index'], x['lon_index'], x['startdate'], x[col], col), axis=1))\n",
    "col = pres_col\n",
    "df['pres_neigh_5_diag_11_mean'], df['pres_neigh_5_diag_11_min'], df['pres_neigh_5_diag_11_max'] = zip(*df.apply(lambda x: cal_by_neigh(x['lat_index'], x['lon_index'], x['startdate'], x[col], col), axis=1))\n",
    "col = precip_col\n",
    "df['precip_neigh_5_diag_11_mean'], df['precip_neigh_5_diag_11_min'], df['precip_neigh_5_diag_11_max'] = zip(*df.apply(lambda x: cal_by_neigh(x['lat_index'], x['lon_index'], x['startdate'], x[col], col), axis=1))\n",
    "\n",
    "col = rhum_col\n",
    "df['rhum_neigh_5_diag_11_mean'], df['rhum_neigh_5_diag_11_min'], df['rhum_neigh_5_diag_11_max'] = zip(*df.apply(lambda x: cal_by_neigh(x['lat_index'], x['lon_index'], x['startdate'], x[col], col), axis=1))\n",
    "\n",
    "df.to_csv('df_fe_5_diag_11_neigh.csv', index=False)\n",
    "# !zip -r './df_fe_5_diag_11_neigh.zip' './df_fe_5_diag_11_neigh.csv'"
   ]
  },
  {
   "cell_type": "code",
   "execution_count": null,
   "metadata": {
    "executionInfo": {
     "elapsed": 49,
     "status": "ok",
     "timestamp": 1677247515015,
     "user": {
      "displayName": "Long Xam Lê",
      "userId": "15313526569768879738"
     },
     "user_tz": -420
    },
    "id": "UC-D6Z7mzUz6"
   },
   "outputs": [],
   "source": [
    "# train_df = df[:len(train_df)]\n",
    "# test_df = df[len(train_df):]"
   ]
  },
  {
   "cell_type": "code",
   "execution_count": null,
   "metadata": {
    "executionInfo": {
     "elapsed": 25,
     "status": "ok",
     "timestamp": 1677247515016,
     "user": {
      "displayName": "Long Xam Lê",
      "userId": "15313526569768879738"
     },
     "user_tz": -420
    },
    "id": "5uOjP5XzzPkB"
   },
   "outputs": [],
   "source": [
    "# X = train_df[selected_cols].values\n",
    "# y = train_df[target[0]].values\n",
    "\n",
    "# skf = KFold(n_splits=5, random_state=2048, shuffle=True)\n",
    "# skf.get_n_splits(X, y)\n",
    "\n",
    "# train_index_list = []\n",
    "# test_index_list = []\n",
    "# train_x_list = []\n",
    "# val_x_list = []\n",
    "# train_y_list = []\n",
    "# val_y_list = []\n",
    "\n",
    "# for i, (train_index, test_index) in tqdm(enumerate(skf.split(X, y))):\n",
    "#     train_index_list.append(train_index)\n",
    "#     test_index_list.append(test_index)\n",
    "\n",
    "#     train_x_list.append(X[train_index, :])\n",
    "#     val_x_list.append(X[test_index, :])\n",
    "#     train_y_list.append(y[train_index])\n",
    "#     val_y_list.append(y[test_index])    \n",
    "# def train_catboost(x, y):\n",
    "#     print(x.shape, y.shape)\n",
    "    \n",
    "#     cat_models = []\n",
    "#     for i in tqdm(range(5)):\n",
    "#         train_x, val_x = train_x_list[i], val_x_list[i]\n",
    "#         train_y, val_y = train_y_list[i], val_y_list[i]\n",
    "#         clf = CatBoostRegressor(iterations=5000, verbose=200, task_type=\"GPU\",\n",
    "#                            devices='0:1')\n",
    "#         clf.fit(train_x, train_y, eval_set=[(val_x, val_y)], verbose=1000, early_stopping_rounds=100)\n",
    "#         cat_models.append(clf)\n",
    "    \n",
    "#     return cat_models\n",
    "# cat_models = train_catboost(X, y)\n",
    "\n",
    "# preds = []\n",
    "# for cat_model in tqdm(cat_models):\n",
    "#     preds.append(cat_model.predict(test_df[selected_cols].values))\n",
    "# s = 0\n",
    "# for pred in preds:\n",
    "#     s += pred\n",
    "# s = s/5"
   ]
  },
  {
   "cell_type": "code",
   "execution_count": null,
   "metadata": {
    "executionInfo": {
     "elapsed": 24,
     "status": "ok",
     "timestamp": 1677247515017,
     "user": {
      "displayName": "Long Xam Lê",
      "userId": "15313526569768879738"
     },
     "user_tz": -420
    },
    "id": "r2UM1wTz00m4"
   },
   "outputs": [],
   "source": [
    "# output_df = pd.DataFrame(columns = ['index', 'pred'])\n",
    "# output_df['index'] = [int(i) for i in test_df['index']]\n",
    "# output_df['pred'] = s "
   ]
  },
  {
   "cell_type": "code",
   "execution_count": null,
   "metadata": {
    "executionInfo": {
     "elapsed": 24,
     "status": "ok",
     "timestamp": 1677247515017,
     "user": {
      "displayName": "Long Xam Lê",
      "userId": "15313526569768879738"
     },
     "user_tz": -420
    },
    "id": "TG_yFCJR2CN0"
   },
   "outputs": [],
   "source": [
    "# res_df = pd.read_csv('./sample_solution.csv')\n",
    "# res_df = res_df.merge(output_df, how='left', on = ['index'])\n",
    "# res_df['contest-tmp2m-14d__tmp2m'] = res_df['pred']\n",
    "# res_df[[target[0], 'index']].to_csv('submission_fe_date.csv', index=False)\n",
    "\n",
    "# best_df = pd.read_csv('best_sub.csv')\n",
    "# y_best = best_df[target[0]].values\n",
    "\n",
    "# from numpy import dot\n",
    "# from numpy.linalg import norm\n",
    "# t = np.array(res_df['contest-tmp2m-14d__tmp2m'].tolist())\n",
    "# cos_sim = dot(y_best, t)/(norm(y_best)*norm(t))\n",
    "# print(\"cos_sim with best submission:\", cos_sim)"
   ]
  }
 ],
 "metadata": {
  "accelerator": "GPU",
  "colab": {
   "provenance": []
  },
  "gpuClass": "standard",
  "kernelspec": {
   "display_name": "Python 3 (ipykernel)",
   "language": "python",
   "name": "python3"
  },
  "language_info": {
   "codemirror_mode": {
    "name": "ipython",
    "version": 3
   },
   "file_extension": ".py",
   "mimetype": "text/x-python",
   "name": "python",
   "nbconvert_exporter": "python",
   "pygments_lexer": "ipython3",
   "version": "3.9.13"
  }
 },
 "nbformat": 4,
 "nbformat_minor": 1
}
