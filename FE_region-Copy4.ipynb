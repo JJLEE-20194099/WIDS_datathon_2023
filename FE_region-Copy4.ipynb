{
 "cells": [
  {
   "cell_type": "code",
   "execution_count": 1,
   "metadata": {
    "colab": {
     "base_uri": "https://localhost:8080/"
    },
    "executionInfo": {
     "elapsed": 14684,
     "status": "ok",
     "timestamp": 1677245921092,
     "user": {
      "displayName": "Long Xam Lê",
      "userId": "15313526569768879738"
     },
     "user_tz": -420
    },
    "id": "uxS8iMtNqQ-Y",
    "outputId": "10541c44-d4d0-49d8-ddcf-a99d9451262d"
   },
   "outputs": [],
   "source": [
    "import numpy as np\n",
    "import pandas as pd\n",
    "import seaborn as sns\n",
    "pd.set_option('display.max_columns', None)\n",
    "import matplotlib.pyplot as plt\n",
    "from sklearn.model_selection import train_test_split\n",
    "from sklearn import preprocessing\n",
    "from tqdm import tqdm\n",
    "from sklearn.preprocessing import FunctionTransformer\n",
    "import seaborn as sns \n",
    "from scipy import stats\n",
    "import statsmodels.api as sm\n",
    "\n",
    "from sklearn.ensemble import RandomForestRegressor, ExtraTreesRegressor, AdaBoostRegressor, BaggingRegressor, GradientBoostingRegressor\n",
    "from sklearn.tree import DecisionTreeRegressor\n",
    "from sklearn.linear_model import ElasticNet, Lasso\n",
    "from sklearn.feature_selection import SelectFromModel\n",
    "from sklearn.svm import SVR\n",
    "from sklearn.model_selection import KFold, cross_val_score\n",
    "from sklearn.pipeline import make_pipeline\n",
    "from sklearn.decomposition import PCA\n",
    "from sklearn.preprocessing import RobustScaler\n",
    "from sklearn.base import BaseEstimator, TransformerMixin, RegressorMixin, clone\n",
    "from sklearn.neural_network import MLPRegressor\n",
    "from scipy.stats import norm\n",
    "import copy\n",
    "from sklearn.model_selection import KFold\n",
    "from catboost import CatBoostRegressor, Pool, metrics, cv\n",
    "from scipy.stats import gmean\n",
    "from sklearn.impute import KNNImputer\n",
    "from sklearn.metrics import mean_squared_error\n",
    "from sklearn.preprocessing import LabelEncoder\n",
    "from sklearn.model_selection import GridSearchCV\n",
    "from sklearn.model_selection import cross_val_score"
   ]
  },
  {
   "cell_type": "code",
   "execution_count": 2,
   "metadata": {
    "executionInfo": {
     "elapsed": 30,
     "status": "ok",
     "timestamp": 1677245921094,
     "user": {
      "displayName": "Long Xam Lê",
      "userId": "15313526569768879738"
     },
     "user_tz": -420
    },
    "id": "R8i0C0_TqWVg"
   },
   "outputs": [],
   "source": [
    "features = ['contest-wind-h500-14d__wind-hgt-500',\n",
    " 'contest-slp-14d__slp',\n",
    " 'nmme-tmp2m-34w__ccsm3', \n",
    " 'elevation__elevation',\n",
    " 'lon',\n",
    " 'contest-prwtr-eatm-14d__prwtr',\n",
    " 'lat',\n",
    " 'climateregions__climateregion',\n",
    " 'contest-pres-sfc-gauss-14d__pres',\n",
    " 'season_sin',\n",
    " 'day_of_year_sin',\n",
    " 'contest-precip-14d__precip',\n",
    " 'contest-wind-uwnd-250-14d__wind-uwnd-250',\n",
    " 'nmme-prate-34w__cfsv2',\n",
    " 'nmme-prate-34w__nasa',\n",
    " 'nmme-prate-56w__gfdlflora',\n",
    " 'wind-uwnd-250-2010-7',\n",
    " 'contest-wind-vwnd-925-14d__wind-vwnd-925',\n",
    " 'nmme-prate-34w__nmmemean',\n",
    " 'nmme0-prate-34w__ccsm30',\n",
    " 'contest-wind-h850-14d__wind-hgt-850',\n",
    " 'contest-wind-uwnd-925-14d__wind-uwnd-925',\n",
    " 'nmme0-prate-56w__cfsv20',\n",
    " 'nmme-prate-34w__cancm3',\n",
    " 'contest-rhum-sig995-14d__rhum',\n",
    " 'nmme-prate-34w__gfdlflorb',\n",
    " 'wind-hgt-850-2010-4',\n",
    " 'contest-wind-vwnd-250-14d__wind-vwnd-250',\n",
    " 'wind-hgt-100-2010-2',\n",
    " 'wind-uwnd-250-2010-18',\n",
    " 'wind-hgt-10-2010-5',\n",
    " 'wind-uwnd-250-2010-15',\n",
    " 'wind-uwnd-250-2010-4',\n",
    " 'nmme0-prate-56w__nasa0',\n",
    " 'nmme0-prate-34w__cfsv20',\n",
    " 'wind-vwnd-250-2010-10',\n",
    " 'contest-wind-h10-14d__wind-hgt-10',\n",
    " 'wind-uwnd-925-2010-15',\n",
    " 'wind-vwnd-250-2010-3',\n",
    " 'nmme-prate-34w__cancm4',\n",
    " 'sst-2010-4',\n",
    " 'nmme0-prate-56w__ccsm30',\n",
    " 'wind-uwnd-250-2010-16',\n",
    " 'nmme0-prate-34w__gfdl0',\n",
    " 'nmme0-prate-56w__cancm40',\n",
    " 'sst-2010-1',\n",
    " 'sst-2010-3',\n",
    " 'wind-uwnd-250-2010-14',\n",
    " 'nmme0-prate-34w__gfdlflora0',\n",
    " 'nmme-prate-34w__gfdl',\n",
    " 'wind-hgt-850-2010-9',\n",
    " 'wind-vwnd-250-2010-1',\n",
    " 'sst-2010-5',\n",
    " 'cancm30',\n",
    " 'nmme-prate-34w__ccsm4',\n",
    " 'nmme0-prate-34w__nasa0',\n",
    " 'wind-hgt-500-2010-9',\n",
    " 'nmme0-prate-34w__cancm30',\n",
    " 'wind-vwnd-250-2010-13',\n",
    " 'wind_diff',\n",
    " 'wind_diff_min',\n",
    " 'wind_diff_min_month',\n",
    " 'wind_diff_month',\n",
    " 'diff_slp_first',\n",
    " 'diff_wind_first',\n",
    " 'diff_precip_first',\n",
    " 'diff_sst_10_first',\n",
    " 'diff_sst_10_min',\n",
    " 'diff_sst_10_max',\n",
    " 'range_sst_10',\n",
    " 'scale_sst_10',\n",
    " 'diff_sst_9_first',\n",
    " 'diff_sst_9_min',\n",
    " 'diff_sst_9_max',\n",
    " 'range_sst_9',\n",
    " 'scale_sst_9',\n",
    " 'diff_sst_8_first',\n",
    " 'diff_sst_8_min',\n",
    " 'diff_sst_8_max',\n",
    " 'range_sst_8',\n",
    " 'scale_sst_8',\n",
    " 'diff_sst_7_first',\n",
    " 'diff_sst_7_min',\n",
    " 'diff_sst_7_max',\n",
    " 'range_sst_7',\n",
    " 'scale_sst_7',\n",
    " 'diff_sst_6_first',\n",
    " 'diff_sst_6_min',\n",
    " 'diff_sst_6_max',\n",
    " 'range_sst_6',\n",
    " 'scale_sst_6',\n",
    " 'diff_sst_1_first',\n",
    " 'diff_sst_1_min',\n",
    " 'diff_sst_1_max',\n",
    " 'range_sst_1',\n",
    " 'scale_sst_1',\n",
    " 'diff_sst_2_first',\n",
    " 'diff_sst_2_min',\n",
    " 'diff_sst_2_max',\n",
    " 'range_sst_2',\n",
    " 'scale_sst_2',\n",
    " 'diff_sst_3_first',\n",
    " 'diff_sst_3_min',\n",
    " 'diff_sst_3_max',\n",
    " 'range_sst_3',\n",
    " 'scale_sst_3',\n",
    " 'diff_sst_4_first',\n",
    " 'diff_sst_4_min',\n",
    " 'diff_sst_4_max',\n",
    " 'range_sst_4',\n",
    " 'scale_sst_4',\n",
    " 'diff_sst_5_first',\n",
    " 'diff_sst_5_min',\n",
    " 'diff_sst_5_max',\n",
    " 'range_sst_5',\n",
    " 'scale_sst_5',\n",
    " 'diff_pres_1_first',\n",
    " 'diff_pres_1_min',\n",
    " 'diff_pres_1_max',\n",
    " 'range_pres_1',\n",
    " 'scale_pres_1',\n",
    " 'diff_ccsm3_month_1_first',\n",
    " 'diff_ccsm3_month_1_min',\n",
    " 'diff_ccsm3_month_1_max',\n",
    " 'range_ccsm3_month_1',\n",
    " 'scale_ccsm3_month_1',\n",
    " 'diff_sst_1_month_1_first',\n",
    " 'diff_sst_1_month_1_min',\n",
    " 'diff_sst_1_month_1_max',\n",
    " 'range_sst_1_month_1',\n",
    " 'scale_sst_1_month_1',\n",
    " 'sst_1_lag_1',\n",
    " 'sst_5_lag_1',\n",
    " 'sst_4_lag_1',\n",
    " 'sst_1_lag_1_season',\n",
    " 'sst_5_lag_1_season',\n",
    " 'sst_4_lag_1_season']\n",
    "\n",
    "target=[\"contest-tmp2m-14d__tmp2m\"]\n",
    "\n",
    "slp_col = 'contest-slp-14d__slp'\n",
    "ccsm3_col = 'nmme-tmp2m-34w__ccsm3'\n",
    "pres_col = 'contest-pres-sfc-gauss-14d__pres'\n",
    "precip_col = 'contest-precip-14d__precip'\n",
    "poten_col = 'contest-pevpr-sfc-gauss-14d__pevpr'\n",
    "rhum_col = 'contest-rhum-sig995-14d__rhum'\n",
    "elevation_col = 'elevation__elevation'\n",
    "wind_col_500 = 'contest-wind-h500-14d__wind-hgt-500'\n",
    "sst_1_col = 'sst-2010-1'\n",
    "sst_5_col = 'sst-2010-5'\n",
    "sst_3_col = 'sst-2010-3'\n",
    "sst_4_col = 'sst-2010-4'\n",
    "sst_6_col = 'sst-2010-6'\n",
    "sst_7_col = 'sst-2010-7'\n",
    "sst_8_col = 'sst-2010-8'\n",
    "sst_9_col = 'sst-2010-9'\n",
    "sst_10_col = 'sst-2010-10'\n",
    "group_cols = ['startdate']"
   ]
  },
  {
   "cell_type": "code",
   "execution_count": 3,
   "metadata": {
    "executionInfo": {
     "elapsed": 28,
     "status": "ok",
     "timestamp": 1677245921096,
     "user": {
      "displayName": "Long Xam Lê",
      "userId": "15313526569768879738"
     },
     "user_tz": -420
    },
    "id": "v8jUzNabqgii"
   },
   "outputs": [],
   "source": [
    "def assign_train_test_df(df, my_col):\n",
    "    train_df[my_col] = df[:len(train_df)][my_col].tolist()\n",
    "    test_df[my_col] = df[len(train_df):][my_col].tolist()\n",
    "    return df\n",
    "\n",
    "def create_df_by_group_and_agg(dataframe, grouped_cols, action, my_col, return_name):\n",
    "    if action == \"first\":\n",
    "        ans_df = dataframe.groupby(grouped_cols)[my_col].first().reset_index()\n",
    "    elif action == \"min\":\n",
    "        ans_df = dataframe.groupby(grouped_cols)[my_col].min().reset_index()\n",
    "    elif action == \"max\":\n",
    "        ans_df = dataframe.groupby(grouped_cols)[my_col].max().reset_index()\n",
    "    elif action == \"mean\":\n",
    "        ans_df = dataframe.groupby(grouped_cols)[my_col].mean().reset_index()\n",
    "    print(\"Nan\")\n",
    "    ans_df = ans_df.rename(columns={my_col: return_name})\n",
    "    for c in ans_df.columns:\n",
    "        if ans_df[c].isnull().sum() > 0:\n",
    "            print(c, ans_df[c].isnull().sum())\n",
    "    return ans_df\n",
    "\n",
    "def create_feature(df, alias_name, col_name, suffix_num, group_cols):\n",
    "    min_df = create_df_by_group_and_agg(df, group_cols, \"min\", col_name, f\"min_{alias_name}_{suffix_num}\")\n",
    "    max_df = create_df_by_group_and_agg(df, group_cols, \"max\", col_name, f\"max_{alias_name}_{suffix_num}\")\n",
    "    \n",
    "    df = df.merge(min_df, how='left', on=group_cols)\n",
    "    df[f'diff_{alias_name}_{suffix_num}_min'] = df[col_name] - df[f\"min_{alias_name}_{suffix_num}\"]\n",
    "    df = assign_train_test_df(df, f'diff_{alias_name}_{suffix_num}_min')\n",
    "    \n",
    "    df = df.merge(max_df, how='left', on=group_cols)\n",
    "    df[f'diff_{alias_name}_{suffix_num}_max'] = df[col_name] - df[f\"max_{alias_name}_{suffix_num}\"]\n",
    "    df = assign_train_test_df(df, f'diff_{alias_name}_{suffix_num}_max')\n",
    "    \n",
    "    df[f'range_{alias_name}_{suffix_num}'] = df[f\"max_{alias_name}_{suffix_num}\"] - df[f\"min_{alias_name}_{suffix_num}\"]\n",
    "    df = assign_train_test_df(df, f'range_{alias_name}_{suffix_num}')\n",
    "    \n",
    "    df[f'scale_{alias_name}_{suffix_num}'] = (df[col_name] - df[f\"min_{alias_name}_{suffix_num}\"]) / df[f'range_{alias_name}_{suffix_num}']\n",
    "    df = assign_train_test_df(df, f'scale_{alias_name}_{suffix_num}')\n",
    "    \n",
    "    return [df,\n",
    "   f'diff_{alias_name}_{suffix_num}_min',\n",
    "    f'diff_{alias_name}_{suffix_num}_max',\n",
    "    f'range_{alias_name}_{suffix_num}', f'scale_{alias_name}_{suffix_num}']"
   ]
  },
  {
   "cell_type": "code",
   "execution_count": 4,
   "metadata": {
    "executionInfo": {
     "elapsed": 26,
     "status": "ok",
     "timestamp": 1677245921097,
     "user": {
      "displayName": "Long Xam Lê",
      "userId": "15313526569768879738"
     },
     "user_tz": -420
    },
    "id": "j3bpRR96zxcT"
   },
   "outputs": [],
   "source": [
    "# train_df = pd.read_csv('./fe_train_v2.csv')\n",
    "# test_df = pd.read_csv('./fe_test_v2.csv')"
   ]
  },
  {
   "cell_type": "code",
   "execution_count": 5,
   "metadata": {
    "executionInfo": {
     "elapsed": 46621,
     "status": "ok",
     "timestamp": 1677245967694,
     "user": {
      "displayName": "Long Xam Lê",
      "userId": "15313526569768879738"
     },
     "user_tz": -420
    },
    "id": "g4IDvTMabxwf"
   },
   "outputs": [],
   "source": [
    "# df = pd.concat([train_df, test_df])\n",
    "# print(df.shape)\n",
    "df = pd.read_csv('./df_fe_5_lon_neigh.csv')"
   ]
  },
  {
   "cell_type": "code",
   "execution_count": 6,
   "metadata": {
    "executionInfo": {
     "elapsed": 865,
     "status": "ok",
     "timestamp": 1677245968504,
     "user": {
      "displayName": "Long Xam Lê",
      "userId": "15313526569768879738"
     },
     "user_tz": -420
    },
    "id": "z8Fdg4_3sCHw"
   },
   "outputs": [],
   "source": [
    "region_df = pd.read_csv('./locations.csv')\n",
    "lat_lon_list = [(region_df['lat_index'].tolist()[i], region_df['lon_index'].tolist()[i]) for i in range(len(region_df))]"
   ]
  },
  {
   "cell_type": "code",
   "execution_count": 7,
   "metadata": {
    "executionInfo": {
     "elapsed": 8,
     "status": "ok",
     "timestamp": 1677245968505,
     "user": {
      "displayName": "Long Xam Lê",
      "userId": "15313526569768879738"
     },
     "user_tz": -420
    },
    "id": "LJWLoR2RoZXO"
   },
   "outputs": [],
   "source": [
    "lat_list = df[\"lat_index\"].tolist()\n",
    "lon_list = df[\"lon_index\"].tolist()"
   ]
  },
  {
   "cell_type": "code",
   "execution_count": 8,
   "metadata": {
    "executionInfo": {
     "elapsed": 2034,
     "status": "ok",
     "timestamp": 1677245970532,
     "user": {
      "displayName": "Long Xam Lê",
      "userId": "15313526569768879738"
     },
     "user_tz": -420
    },
    "id": "yMDgDHBInYm9"
   },
   "outputs": [],
   "source": [
    "df['lat-lon'] = [f'({lat_list[i]}, {lon_list[i]})' for i in range(len(df))]"
   ]
  },
  {
   "cell_type": "code",
   "execution_count": 9,
   "metadata": {
    "executionInfo": {
     "elapsed": 589,
     "status": "ok",
     "timestamp": 1677245971112,
     "user": {
      "displayName": "Long Xam Lê",
      "userId": "15313526569768879738"
     },
     "user_tz": -420
    },
    "id": "ehmedCTvsECq"
   },
   "outputs": [],
   "source": [
    "def get_neigh_region(lat_index, lon_index):\n",
    "    res = []\n",
    "    for i in [-2, -1, 0, 1, 2]:\n",
    "        for j in [-2, -1, 0, 1, 2]:\n",
    "          lat = lat_index + i\n",
    "          lon = lon_index + i\n",
    "          if (lat, lon) in lat_lon_list:\n",
    "              res.append((lat, lon))\n",
    "    return res          "
   ]
  },
  {
   "cell_type": "code",
   "execution_count": 10,
   "metadata": {
    "colab": {
     "base_uri": "https://localhost:8080/"
    },
    "executionInfo": {
     "elapsed": 77,
     "status": "ok",
     "timestamp": 1677245971113,
     "user": {
      "displayName": "Long Xam Lê",
      "userId": "15313526569768879738"
     },
     "user_tz": -420
    },
    "id": "XT3D9n5WsYx2",
    "outputId": "2439e185-b91a-4814-ce86-8b6981ae820f"
   },
   "outputs": [
    {
     "name": "stderr",
     "output_type": "stream",
     "text": [
      "100%|██████████████████████████████████████████████████████████████████████████████████| 514/514 [00:00<00:00, 6709.53it/s]\n"
     ]
    }
   ],
   "source": [
    "neigh_dict = dict()\n",
    "\n",
    "for lat_lon in tqdm(lat_lon_list):\n",
    "  neigh_list = get_neigh_region(lat_lon[0], lat_lon[1])\n",
    "  neigh_dict[f'{lat_lon[0]}, {lat_lon[1]}'] = neigh_list"
   ]
  },
  {
   "cell_type": "code",
   "execution_count": 11,
   "metadata": {
    "colab": {
     "base_uri": "https://localhost:8080/"
    },
    "executionInfo": {
     "elapsed": 584,
     "status": "ok",
     "timestamp": 1677245971652,
     "user": {
      "displayName": "Long Xam Lê",
      "userId": "15313526569768879738"
     },
     "user_tz": -420
    },
    "id": "uIKlxSGYtgM7",
    "outputId": "b1cda603-acbf-419b-f56e-130b8b797316"
   },
   "outputs": [
    {
     "name": "stdout",
     "output_type": "stream",
     "text": [
      "All dates: 792\n"
     ]
    }
   ],
   "source": [
    "all_dates = df['startdate'].unique().tolist()\n",
    "print(\"All dates:\", len(all_dates))"
   ]
  },
  {
   "cell_type": "code",
   "execution_count": 12,
   "metadata": {
    "executionInfo": {
     "elapsed": 22,
     "status": "ok",
     "timestamp": 1677245971653,
     "user": {
      "displayName": "Long Xam Lê",
      "userId": "15313526569768879738"
     },
     "user_tz": -420
    },
    "id": "Nbz-gPJTtq5Y"
   },
   "outputs": [],
   "source": [
    "date_df = pd.DataFrame(columns=['date', 'index'])\n",
    "date_df['date'] = all_dates\n",
    "date_df['index'] = range(len(all_dates))\n",
    "date_dict = dict()\n",
    "for i, date in enumerate(all_dates):\n",
    "  date_dict[date] = i"
   ]
  },
  {
   "cell_type": "code",
   "execution_count": 13,
   "metadata": {
    "colab": {
     "base_uri": "https://localhost:8080/"
    },
    "executionInfo": {
     "elapsed": 47322,
     "status": "ok",
     "timestamp": 1677246018954,
     "user": {
      "displayName": "Long Xam Lê",
      "userId": "15313526569768879738"
     },
     "user_tz": -420
    },
    "id": "FuN-qGoVt8Z2",
    "outputId": "04237d2f-bca2-4f79-9000-2dcee9eeef7c"
   },
   "outputs": [
    {
     "name": "stderr",
     "output_type": "stream",
     "text": [
      "100%|████████████████████████████████████████████████████████████████████████████████████| 792/792 [00:21<00:00, 36.19it/s]\n"
     ]
    }
   ],
   "source": [
    "df_by_date_list = []\n",
    "\n",
    "for date in tqdm(all_dates):\n",
    "  df_by_date = df[df['startdate'] == date]\n",
    "  df_by_date_list.append(df_by_date)"
   ]
  },
  {
   "cell_type": "code",
   "execution_count": 14,
   "metadata": {
    "executionInfo": {
     "elapsed": 233,
     "status": "ok",
     "timestamp": 1677246018984,
     "user": {
      "displayName": "Long Xam Lê",
      "userId": "15313526569768879738"
     },
     "user_tz": -420
    },
    "id": "bqcBKGPauwpi"
   },
   "outputs": [],
   "source": [
    "def cal_by_neigh(lat_index, lon_index, startdate, col_val, col_name):\n",
    "    date_idx = date_dict[startdate]\n",
    "    df_by_date = df_by_date_list[date_idx]\n",
    "    neigh_list = neigh_dict[f'{lat_index}, {lon_index}']\n",
    "    neigh_list = [str(t) for t in neigh_list]\n",
    "    sub_date_df = df_by_date[df_by_date['lat-lon'].isin(neigh_list)][col_name]\n",
    "    if len(sub_date_df) == 0:\n",
    "      return 0, 0, 0\n",
    "    return col_val - sub_date_df.mean(), col_val - sub_date_df.min(), col_val - sub_date_df.max()\n",
    "    \n",
    " "
   ]
  },
  {
   "cell_type": "code",
   "execution_count": 17,
   "metadata": {},
   "outputs": [],
   "source": [
    "features = ['contest-wind-h500-14d__wind-hgt-500',\n",
    " 'contest-slp-14d__slp',\n",
    " 'contest-prwtr-eatm-14d__prwtr',\n",
    " 'contest-pres-sfc-gauss-14d__pres',\n",
    " 'contest-precip-14d__precip',\n",
    " 'contest-wind-uwnd-250-14d__wind-uwnd-250',\n",
    " 'wind-uwnd-250-2010-7',\n",
    " 'contest-wind-vwnd-925-14d__wind-vwnd-925',\n",
    " 'contest-wind-h850-14d__wind-hgt-850',\n",
    " 'contest-wind-uwnd-925-14d__wind-uwnd-925',\n",
    " 'contest-rhum-sig995-14d__rhum',\n",
    " 'wind-hgt-850-2010-4',\n",
    " 'contest-wind-vwnd-250-14d__wind-vwnd-250',\n",
    " 'wind-hgt-100-2010-2',\n",
    " 'wind-uwnd-250-2010-18',\n",
    " 'wind-hgt-10-2010-5',\n",
    " 'wind-uwnd-250-2010-15',\n",
    " 'wind-uwnd-250-2010-4',\n",
    " 'wind-vwnd-250-2010-10',\n",
    " 'contest-wind-h10-14d__wind-hgt-10',\n",
    " 'wind-uwnd-925-2010-15',\n",
    " 'wind-vwnd-250-2010-3',\n",
    " 'wind-uwnd-250-2010-16',\n",
    " 'wind-uwnd-250-2010-14',\n",
    " 'wind-hgt-850-2010-9',\n",
    " 'wind-vwnd-250-2010-1',\n",
    " 'wind-hgt-500-2010-9',\n",
    " 'wind-vwnd-250-2010-13']"
   ]
  },
  {
   "cell_type": "code",
   "execution_count": 18,
   "metadata": {},
   "outputs": [
    {
     "name": "stderr",
     "output_type": "stream",
     "text": [
      "28it [1:52:29, 241.05s/it]\n"
     ]
    }
   ],
   "source": [
    "\n",
    "for i, c in tqdm(enumerate(features)):\n",
    "    if c not in [wind_col_500, sst_1_col, sst_5_col, sst_3_col, sst_4_col, slp_col, pres_col, precip_col, rhum_col]:\n",
    "        df[f'{i}_neigh_5_mean'], df[f'{i}_neigh_5_min'], df[f'{i}_neigh_5_max'] = zip(*df.apply(lambda x: cal_by_neigh(x['lat_index'], x['lon_index'], x['startdate'], x[c], c), axis=1))"
   ]
  },
  {
   "cell_type": "code",
   "execution_count": 19,
   "metadata": {
    "executionInfo": {
     "elapsed": 1496236,
     "status": "ok",
     "timestamp": 1677247515013,
     "user": {
      "displayName": "Long Xam Lê",
      "userId": "15313526569768879738"
     },
     "user_tz": -420
    },
    "id": "_XDTSEt1sICw"
   },
   "outputs": [],
   "source": [
    "df.to_csv('df_fe_5_neigh_sub.csv', index=False)\n"
   ]
  },
  {
   "cell_type": "code",
   "execution_count": 28,
   "metadata": {},
   "outputs": [
    {
     "name": "stderr",
     "output_type": "stream",
     "text": [
      "28it [00:00, 1529.97it/s]\n"
     ]
    }
   ],
   "source": [
    "from tqdm import tqdm\n",
    "more_cols = []\n",
    "for i, c in tqdm(enumerate(features)):\n",
    "    if c not in [wind_col_500, sst_1_col, sst_5_col, sst_3_col, sst_4_col, slp_col, pres_col, precip_col, rhum_col]:\n",
    "        if df[f'{i}_neigh_5_max'].mean() != 0:\n",
    "            more_cols.append(f'{i}_neigh_5_mean')\n",
    "            more_cols.append(f'{i}_neigh_5_min')            \n",
    "            more_cols.append(f'{i}_neigh_5_max')            "
   ]
  },
  {
   "cell_type": "code",
   "execution_count": 30,
   "metadata": {},
   "outputs": [
    {
     "data": {
      "text/plain": [
       "['2_neigh_5_mean',\n",
       " '2_neigh_5_min',\n",
       " '2_neigh_5_max',\n",
       " '5_neigh_5_mean',\n",
       " '5_neigh_5_min',\n",
       " '5_neigh_5_max',\n",
       " '7_neigh_5_mean',\n",
       " '7_neigh_5_min',\n",
       " '7_neigh_5_max',\n",
       " '8_neigh_5_mean',\n",
       " '8_neigh_5_min',\n",
       " '8_neigh_5_max',\n",
       " '9_neigh_5_mean',\n",
       " '9_neigh_5_min',\n",
       " '9_neigh_5_max',\n",
       " '12_neigh_5_mean',\n",
       " '12_neigh_5_min',\n",
       " '12_neigh_5_max',\n",
       " '19_neigh_5_mean',\n",
       " '19_neigh_5_min',\n",
       " '19_neigh_5_max']"
      ]
     },
     "execution_count": 30,
     "metadata": {},
     "output_type": "execute_result"
    }
   ],
   "source": [
    "more_cols"
   ]
  }
 ],
 "metadata": {
  "accelerator": "GPU",
  "colab": {
   "provenance": []
  },
  "gpuClass": "standard",
  "kernelspec": {
   "display_name": "Python 3 (ipykernel)",
   "language": "python",
   "name": "python3"
  },
  "language_info": {
   "codemirror_mode": {
    "name": "ipython",
    "version": 3
   },
   "file_extension": ".py",
   "mimetype": "text/x-python",
   "name": "python",
   "nbconvert_exporter": "python",
   "pygments_lexer": "ipython3",
   "version": "3.9.13"
  }
 },
 "nbformat": 4,
 "nbformat_minor": 1
}
