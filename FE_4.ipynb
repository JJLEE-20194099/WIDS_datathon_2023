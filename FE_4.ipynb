{
 "cells": [
  {
   "cell_type": "code",
   "execution_count": 1,
   "id": "f63b11e7",
   "metadata": {},
   "outputs": [],
   "source": [
    "import numpy as np\n",
    "import pandas as pd\n",
    "import seaborn as sns\n",
    "import torch\n",
    "import torch.nn as nn\n",
    "import torch.nn.functional as f\n",
    "pd.set_option('display.max_columns', None)\n",
    "import matplotlib.pyplot as plt\n",
    "from sklearn.model_selection import train_test_split\n",
    "from torch.utils.data import DataLoader\n",
    "from sklearn import preprocessing\n",
    "from tqdm import tqdm\n",
    "from sklearn.preprocessing import FunctionTransformer\n",
    "import seaborn as sns \n",
    "from scipy import stats\n",
    "import statsmodels.api as sm\n",
    "\n",
    "from sklearn.ensemble import RandomForestRegressor, ExtraTreesRegressor, AdaBoostRegressor, BaggingRegressor, GradientBoostingRegressor\n",
    "from sklearn.tree import DecisionTreeRegressor\n",
    "from sklearn.linear_model import ElasticNet, Lasso\n",
    "from sklearn.feature_selection import SelectFromModel\n",
    "from sklearn.svm import SVR\n",
    "from sklearn.model_selection import KFold, cross_val_score\n",
    "from sklearn.pipeline import make_pipeline\n",
    "from sklearn.decomposition import PCA\n",
    "from sklearn.preprocessing import RobustScaler\n",
    "import h2o\n",
    "from h2o.automl import H2OAutoML\n",
    "from sklearn.base import BaseEstimator, TransformerMixin, RegressorMixin, clone\n",
    "from sklearn.neural_network import MLPRegressor\n",
    "from scipy.stats import norm\n",
    "import copy\n",
    "from sklearn.model_selection import KFold\n",
    "from catboost import CatBoostRegressor, Pool, metrics, cv\n",
    "import xgboost as xgb\n",
    "from scipy.stats import gmean\n",
    "from sklearn.impute import KNNImputer\n",
    "from sklearn.metrics import mean_squared_error\n",
    "from sklearn.preprocessing import LabelEncoder"
   ]
  },
  {
   "cell_type": "code",
   "execution_count": 2,
   "id": "b750100a",
   "metadata": {},
   "outputs": [],
   "source": [
    "add_train = pd.read_csv('./n_train.csv')\n",
    "add_test = pd.read_csv('./n_test.csv')"
   ]
  },
  {
   "cell_type": "code",
   "execution_count": 3,
   "id": "a47eb0e9",
   "metadata": {},
   "outputs": [],
   "source": [
    "climate_type_dict = {'1':'BSk',\n",
    " '9': 'Dfb',\n",
    " '4': 'Cfa',\n",
    " '7': 'Csb',\n",
    " '8': 'Dfa',\n",
    " '3': 'BWk',\n",
    " '10': 'Dfc',\n",
    " '2': 'BWh',\n",
    " '6': 'Csa',\n",
    " '11': 'Dsb',\n",
    " '0': 'BSh',\n",
    " '5': 'Cfb',\n",
    " '12': 'Dsc',\n",
    " '13': 'Dwa',\n",
    " '14': 'Dwb'}"
   ]
  },
  {
   "cell_type": "code",
   "execution_count": 4,
   "id": "6ab9423b",
   "metadata": {},
   "outputs": [],
   "source": [
    "all_cols = add_train.columns.tolist()"
   ]
  },
  {
   "cell_type": "code",
   "execution_count": 5,
   "id": "258cca0e",
   "metadata": {},
   "outputs": [],
   "source": [
    "target=[\"contest-tmp2m-14d__tmp2m\"]"
   ]
  },
  {
   "cell_type": "code",
   "execution_count": 6,
   "id": "657e29fb",
   "metadata": {},
   "outputs": [
    {
     "name": "stdout",
     "output_type": "stream",
     "text": [
      "climateregions__climateregion\n"
     ]
    }
   ],
   "source": [
    "train_df =  pd.read_csv('fe_v1_train.csv')\n",
    "test_df  =  pd.read_csv('fe_v1_test.csv')\n",
    "for c in train_df.columns:\n",
    "    if train_df[c].dtypes != 'float64':\n",
    "        print(c)"
   ]
  },
  {
   "cell_type": "code",
   "execution_count": 7,
   "id": "66b5ae01",
   "metadata": {},
   "outputs": [
    {
     "name": "stdout",
     "output_type": "stream",
     "text": [
      "Main features: 63\n"
     ]
    }
   ],
   "source": [
    "exclude_cols = ['index', 'startdate']\n",
    "best_cols = [c for c in train_df.columns if c not in exclude_cols and c not in target]\n",
    "print(\"Main features:\", len(best_cols))"
   ]
  },
  {
   "cell_type": "code",
   "execution_count": 8,
   "id": "d79003b9",
   "metadata": {},
   "outputs": [
    {
     "name": "stdout",
     "output_type": "stream",
     "text": [
      "contest-precip-14d__precip\n"
     ]
    }
   ],
   "source": [
    "for c in all_cols:\n",
    "    if 'contest-precip-14d' in c:\n",
    "        print(c)"
   ]
  },
  {
   "cell_type": "code",
   "execution_count": 9,
   "id": "281ff6e9",
   "metadata": {},
   "outputs": [],
   "source": [
    "def calculate_season(month):\n",
    "    if month == 12 or month == 1 or month == 2:\n",
    "        return 4\n",
    "    if month == 9 or month == 10 or month == 11:\n",
    "        return 3\n",
    "    if month == 7 or month == 8 or month == 6:\n",
    "        return 2\n",
    "    if month == 3 or month == 4 or month == 5:\n",
    "        return 1"
   ]
  },
  {
   "cell_type": "code",
   "execution_count": 10,
   "id": "55ccb6d1",
   "metadata": {},
   "outputs": [],
   "source": [
    "train_df['month'] = add_train['month']\n",
    "test_df['month'] = add_test['month']\n",
    "\n",
    "train_df['season'] = train_df['month'].apply(calculate_season)\n",
    "test_df['season'] = test_df['month'].apply(calculate_season)\n",
    "\n",
    "train_df['loc_group'] = add_train['loc_group']\n",
    "test_df['loc_group'] = add_test['loc_group']\n",
    "\n",
    "train_df['year'] = add_train['year']\n",
    "test_df['year'] = add_test['year']\n",
    "\n",
    "def map_climate_type(x):\n",
    "    return climate_type_dict[str(x)]\n",
    "\n",
    "train_df['climate_type'] = train_df['climateregions__climateregion'].apply(map_climate_type)\n",
    "test_df['climate_type'] = train_df['climateregions__climateregion'].apply(map_climate_type)\n",
    "\n",
    "precip_col = 'contest-precip-14d__precip'\n",
    "wind_col = 'contest-wind-h500-14d__wind-hgt-500'\n",
    "\n",
    "group_cols = ['loc_group', 'climate_type', 'year', 'season', 'month']\n",
    "season_group_cols = ['loc_group', 'climate_type', 'year', 'season']\n"
   ]
  },
  {
   "cell_type": "code",
   "execution_count": 11,
   "id": "89eba818",
   "metadata": {},
   "outputs": [],
   "source": [
    "slp_col = 'contest-slp-14d__slp'\n",
    "ccsm3_col = 'nmme-tmp2m-34w__ccsm3'\n",
    "pres_col = 'contest-pres-sfc-gauss-14d__pres'\n",
    "precip_col = 'contest-precip-14d__precip'\n",
    "stt_col = 'sst-2010-1'"
   ]
  },
  {
   "cell_type": "code",
   "execution_count": 12,
   "id": "f2835671",
   "metadata": {},
   "outputs": [
    {
     "name": "stdout",
     "output_type": "stream",
     "text": [
      "74839.94 102845.57\n",
      "75925.02 102119.93\n"
     ]
    }
   ],
   "source": [
    "print(train_df[pres_col].min(), train_df[pres_col].max())\n",
    "print(test_df[pres_col].min(), test_df[pres_col].max())"
   ]
  },
  {
   "cell_type": "code",
   "execution_count": 13,
   "id": "e4b5b1b8",
   "metadata": {},
   "outputs": [
    {
     "name": "stdout",
     "output_type": "stream",
     "text": [
      "-219.87 352.2\n",
      "89.73 345.33\n"
     ]
    }
   ],
   "source": [
    "print(train_df[stt_col].min(), train_df[stt_col].max())\n",
    "print(test_df[stt_col].min(), test_df[stt_col].max())"
   ]
  },
  {
   "cell_type": "code",
   "execution_count": 14,
   "id": "9f0f35cb",
   "metadata": {},
   "outputs": [
    {
     "name": "stdout",
     "output_type": "stream",
     "text": [
      "0.0 502.63\n",
      "0.0 439.54\n"
     ]
    }
   ],
   "source": [
    "print(train_df[precip_col].min(), train_df[precip_col].max())\n",
    "print(test_df[precip_col].min(), test_df[precip_col].max())"
   ]
  },
  {
   "cell_type": "code",
   "execution_count": 15,
   "id": "9cc45f65",
   "metadata": {},
   "outputs": [],
   "source": [
    "# train_df[pres_col] = train_df[pres_col] - 100000\n",
    "# test_df[pres_col] = test_df[pres_col] - 100000"
   ]
  },
  {
   "cell_type": "code",
   "execution_count": 16,
   "id": "2cad7d7a",
   "metadata": {},
   "outputs": [
    {
     "name": "stdout",
     "output_type": "stream",
     "text": [
      "100379.21 103275.84\n",
      "100593.22 102258.27\n"
     ]
    }
   ],
   "source": [
    "print(train_df[slp_col].min(), train_df[slp_col].max())\n",
    "print(test_df[slp_col].min(), test_df[slp_col].max())"
   ]
  },
  {
   "cell_type": "code",
   "execution_count": 17,
   "id": "469893f4",
   "metadata": {},
   "outputs": [
    {
     "name": "stdout",
     "output_type": "stream",
     "text": [
      "5289.25 5958.2\n",
      "5504.59 5925.56\n"
     ]
    }
   ],
   "source": [
    "print(train_df[wind_col].min(), train_df[wind_col].max())\n",
    "print(test_df[wind_col].min(), test_df[wind_col].max())"
   ]
  },
  {
   "cell_type": "code",
   "execution_count": 18,
   "id": "856be928",
   "metadata": {},
   "outputs": [],
   "source": [
    "train_df[wind_col] = train_df[wind_col] - 5000\n",
    "test_df[wind_col] = test_df[wind_col] - 5000"
   ]
  },
  {
   "cell_type": "code",
   "execution_count": 19,
   "id": "f2e36dcb",
   "metadata": {},
   "outputs": [],
   "source": [
    "train_df[slp_col] = train_df[slp_col] - 100000\n",
    "test_df[slp_col] = test_df[slp_col] - 100000"
   ]
  },
  {
   "cell_type": "code",
   "execution_count": 20,
   "id": "e00fe5ce",
   "metadata": {},
   "outputs": [
    {
     "data": {
      "text/plain": [
       "(407088, 68)"
      ]
     },
     "execution_count": 20,
     "metadata": {},
     "output_type": "execute_result"
    }
   ],
   "source": [
    "check_cols = [c for c in train_df.columns if c not in target and c not in exclude_cols]\n",
    "\n",
    "df = pd.concat([train_df[check_cols], test_df[check_cols]], axis=0)\n",
    "df.shape"
   ]
  },
  {
   "cell_type": "code",
   "execution_count": 21,
   "id": "93c0c117",
   "metadata": {},
   "outputs": [],
   "source": [
    "def create_df_by_group_and_agg(dataframe, grouped_cols, action, my_col, return_name):\n",
    "    if action == \"first\":\n",
    "        ans_df = dataframe.groupby(grouped_cols)[my_col].first().reset_index()\n",
    "    elif action == \"min\":\n",
    "        ans_df = dataframe.groupby(grouped_cols)[my_col].min().reset_index()\n",
    "    elif action == \"max\":\n",
    "        ans_df = dataframe.groupby(grouped_cols)[my_col].max().reset_index()\n",
    "    elif action == \"mean\":\n",
    "        ans_df = dataframe.groupby(grouped_cols)[my_col].mean().reset_index()\n",
    "    print(\"Nan\")\n",
    "    ans_df = ans_df.rename(columns={my_col: return_name})\n",
    "    for c in ans_df.columns:\n",
    "        if ans_df[c].isnull().sum() > 0:\n",
    "            print(c, ans_df[c].isnull().sum())\n",
    "    return ans_df"
   ]
  },
  {
   "cell_type": "code",
   "execution_count": 22,
   "id": "a52a1320",
   "metadata": {},
   "outputs": [],
   "source": [
    "def assign_train_test_df(my_col):\n",
    "    train_df[my_col] = df[:len(train_df)][my_col].tolist()\n",
    "    test_df[my_col] = df[len(train_df):][my_col].tolist()"
   ]
  },
  {
   "cell_type": "code",
   "execution_count": 23,
   "id": "d981dfd7",
   "metadata": {},
   "outputs": [
    {
     "name": "stdout",
     "output_type": "stream",
     "text": [
      "Nan\n"
     ]
    },
    {
     "data": {
      "text/html": [
       "<div>\n",
       "<style scoped>\n",
       "    .dataframe tbody tr th:only-of-type {\n",
       "        vertical-align: middle;\n",
       "    }\n",
       "\n",
       "    .dataframe tbody tr th {\n",
       "        vertical-align: top;\n",
       "    }\n",
       "\n",
       "    .dataframe thead th {\n",
       "        text-align: right;\n",
       "    }\n",
       "</style>\n",
       "<table border=\"1\" class=\"dataframe\">\n",
       "  <thead>\n",
       "    <tr style=\"text-align: right;\">\n",
       "      <th></th>\n",
       "      <th>loc_group</th>\n",
       "      <th>climate_type</th>\n",
       "      <th>year</th>\n",
       "      <th>season</th>\n",
       "      <th>first_slp</th>\n",
       "    </tr>\n",
       "  </thead>\n",
       "  <tbody>\n",
       "    <tr>\n",
       "      <th>0</th>\n",
       "      <td>0</td>\n",
       "      <td>BSh</td>\n",
       "      <td>2014</td>\n",
       "      <td>3</td>\n",
       "      <td>1352.08</td>\n",
       "    </tr>\n",
       "    <tr>\n",
       "      <th>1</th>\n",
       "      <td>0</td>\n",
       "      <td>BSh</td>\n",
       "      <td>2014</td>\n",
       "      <td>4</td>\n",
       "      <td>2072.81</td>\n",
       "    </tr>\n",
       "    <tr>\n",
       "      <th>2</th>\n",
       "      <td>0</td>\n",
       "      <td>BSh</td>\n",
       "      <td>2015</td>\n",
       "      <td>1</td>\n",
       "      <td>1917.24</td>\n",
       "    </tr>\n",
       "  </tbody>\n",
       "</table>\n",
       "</div>"
      ],
      "text/plain": [
       "   loc_group climate_type  year  season  first_slp\n",
       "0          0          BSh  2014       3    1352.08\n",
       "1          0          BSh  2014       4    2072.81\n",
       "2          0          BSh  2015       1    1917.24"
      ]
     },
     "execution_count": 23,
     "metadata": {},
     "output_type": "execute_result"
    }
   ],
   "source": [
    "first_slp_df = create_df_by_group_and_agg(df, season_group_cols, \"first\", slp_col, \"first_slp\")\n",
    "first_slp_df.head(3)"
   ]
  },
  {
   "cell_type": "code",
   "execution_count": 24,
   "id": "9af3e9fd",
   "metadata": {},
   "outputs": [
    {
     "name": "stdout",
     "output_type": "stream",
     "text": [
      "Nan\n"
     ]
    },
    {
     "data": {
      "text/html": [
       "<div>\n",
       "<style scoped>\n",
       "    .dataframe tbody tr th:only-of-type {\n",
       "        vertical-align: middle;\n",
       "    }\n",
       "\n",
       "    .dataframe tbody tr th {\n",
       "        vertical-align: top;\n",
       "    }\n",
       "\n",
       "    .dataframe thead th {\n",
       "        text-align: right;\n",
       "    }\n",
       "</style>\n",
       "<table border=\"1\" class=\"dataframe\">\n",
       "  <thead>\n",
       "    <tr style=\"text-align: right;\">\n",
       "      <th></th>\n",
       "      <th>loc_group</th>\n",
       "      <th>climate_type</th>\n",
       "      <th>year</th>\n",
       "      <th>season</th>\n",
       "      <th>first_wind</th>\n",
       "    </tr>\n",
       "  </thead>\n",
       "  <tbody>\n",
       "    <tr>\n",
       "      <th>0</th>\n",
       "      <td>0</td>\n",
       "      <td>BSh</td>\n",
       "      <td>2014</td>\n",
       "      <td>3</td>\n",
       "      <td>899.66</td>\n",
       "    </tr>\n",
       "    <tr>\n",
       "      <th>1</th>\n",
       "      <td>0</td>\n",
       "      <td>BSh</td>\n",
       "      <td>2014</td>\n",
       "      <td>4</td>\n",
       "      <td>847.35</td>\n",
       "    </tr>\n",
       "    <tr>\n",
       "      <th>2</th>\n",
       "      <td>0</td>\n",
       "      <td>BSh</td>\n",
       "      <td>2015</td>\n",
       "      <td>1</td>\n",
       "      <td>804.47</td>\n",
       "    </tr>\n",
       "  </tbody>\n",
       "</table>\n",
       "</div>"
      ],
      "text/plain": [
       "   loc_group climate_type  year  season  first_wind\n",
       "0          0          BSh  2014       3      899.66\n",
       "1          0          BSh  2014       4      847.35\n",
       "2          0          BSh  2015       1      804.47"
      ]
     },
     "execution_count": 24,
     "metadata": {},
     "output_type": "execute_result"
    }
   ],
   "source": [
    "first_wind_df = create_df_by_group_and_agg(df, season_group_cols, \"first\", wind_col, \"first_wind\")\n",
    "first_wind_df.head(3)"
   ]
  },
  {
   "cell_type": "code",
   "execution_count": 25,
   "id": "c0bdcedd",
   "metadata": {},
   "outputs": [
    {
     "name": "stdout",
     "output_type": "stream",
     "text": [
      "Nan\n"
     ]
    },
    {
     "data": {
      "text/html": [
       "<div>\n",
       "<style scoped>\n",
       "    .dataframe tbody tr th:only-of-type {\n",
       "        vertical-align: middle;\n",
       "    }\n",
       "\n",
       "    .dataframe tbody tr th {\n",
       "        vertical-align: top;\n",
       "    }\n",
       "\n",
       "    .dataframe thead th {\n",
       "        text-align: right;\n",
       "    }\n",
       "</style>\n",
       "<table border=\"1\" class=\"dataframe\">\n",
       "  <thead>\n",
       "    <tr style=\"text-align: right;\">\n",
       "      <th></th>\n",
       "      <th>loc_group</th>\n",
       "      <th>climate_type</th>\n",
       "      <th>year</th>\n",
       "      <th>season</th>\n",
       "      <th>first_precip</th>\n",
       "    </tr>\n",
       "  </thead>\n",
       "  <tbody>\n",
       "    <tr>\n",
       "      <th>0</th>\n",
       "      <td>0</td>\n",
       "      <td>BSh</td>\n",
       "      <td>2014</td>\n",
       "      <td>3</td>\n",
       "      <td>94.31</td>\n",
       "    </tr>\n",
       "    <tr>\n",
       "      <th>1</th>\n",
       "      <td>0</td>\n",
       "      <td>BSh</td>\n",
       "      <td>2014</td>\n",
       "      <td>4</td>\n",
       "      <td>25.53</td>\n",
       "    </tr>\n",
       "    <tr>\n",
       "      <th>2</th>\n",
       "      <td>0</td>\n",
       "      <td>BSh</td>\n",
       "      <td>2015</td>\n",
       "      <td>1</td>\n",
       "      <td>31.94</td>\n",
       "    </tr>\n",
       "  </tbody>\n",
       "</table>\n",
       "</div>"
      ],
      "text/plain": [
       "   loc_group climate_type  year  season  first_precip\n",
       "0          0          BSh  2014       3         94.31\n",
       "1          0          BSh  2014       4         25.53\n",
       "2          0          BSh  2015       1         31.94"
      ]
     },
     "execution_count": 25,
     "metadata": {},
     "output_type": "execute_result"
    }
   ],
   "source": [
    "first_precip_df = create_df_by_group_and_agg(df, season_group_cols, \"first\", precip_col, \"first_precip\")\n",
    "first_precip_df.head(3)"
   ]
  },
  {
   "cell_type": "code",
   "execution_count": 26,
   "id": "a38a50e1",
   "metadata": {},
   "outputs": [
    {
     "name": "stdout",
     "output_type": "stream",
     "text": [
      "Nan\n"
     ]
    },
    {
     "data": {
      "text/html": [
       "<div>\n",
       "<style scoped>\n",
       "    .dataframe tbody tr th:only-of-type {\n",
       "        vertical-align: middle;\n",
       "    }\n",
       "\n",
       "    .dataframe tbody tr th {\n",
       "        vertical-align: top;\n",
       "    }\n",
       "\n",
       "    .dataframe thead th {\n",
       "        text-align: right;\n",
       "    }\n",
       "</style>\n",
       "<table border=\"1\" class=\"dataframe\">\n",
       "  <thead>\n",
       "    <tr style=\"text-align: right;\">\n",
       "      <th></th>\n",
       "      <th>loc_group</th>\n",
       "      <th>climate_type</th>\n",
       "      <th>year</th>\n",
       "      <th>season</th>\n",
       "      <th>first_ccsm3</th>\n",
       "    </tr>\n",
       "  </thead>\n",
       "  <tbody>\n",
       "    <tr>\n",
       "      <th>0</th>\n",
       "      <td>0</td>\n",
       "      <td>BSh</td>\n",
       "      <td>2014</td>\n",
       "      <td>3</td>\n",
       "      <td>27.57</td>\n",
       "    </tr>\n",
       "    <tr>\n",
       "      <th>1</th>\n",
       "      <td>0</td>\n",
       "      <td>BSh</td>\n",
       "      <td>2014</td>\n",
       "      <td>4</td>\n",
       "      <td>6.66</td>\n",
       "    </tr>\n",
       "    <tr>\n",
       "      <th>2</th>\n",
       "      <td>0</td>\n",
       "      <td>BSh</td>\n",
       "      <td>2015</td>\n",
       "      <td>1</td>\n",
       "      <td>15.25</td>\n",
       "    </tr>\n",
       "  </tbody>\n",
       "</table>\n",
       "</div>"
      ],
      "text/plain": [
       "   loc_group climate_type  year  season  first_ccsm3\n",
       "0          0          BSh  2014       3        27.57\n",
       "1          0          BSh  2014       4         6.66\n",
       "2          0          BSh  2015       1        15.25"
      ]
     },
     "execution_count": 26,
     "metadata": {},
     "output_type": "execute_result"
    }
   ],
   "source": [
    "first_ccsm3_df = create_df_by_group_and_agg(df, season_group_cols, \"first\", ccsm3_col, \"first_ccsm3\")\n",
    "first_ccsm3_df.head(3)"
   ]
  },
  {
   "cell_type": "code",
   "execution_count": 27,
   "id": "ec6a5160",
   "metadata": {},
   "outputs": [
    {
     "name": "stdout",
     "output_type": "stream",
     "text": [
      "Nan\n"
     ]
    },
    {
     "data": {
      "text/html": [
       "<div>\n",
       "<style scoped>\n",
       "    .dataframe tbody tr th:only-of-type {\n",
       "        vertical-align: middle;\n",
       "    }\n",
       "\n",
       "    .dataframe tbody tr th {\n",
       "        vertical-align: top;\n",
       "    }\n",
       "\n",
       "    .dataframe thead th {\n",
       "        text-align: right;\n",
       "    }\n",
       "</style>\n",
       "<table border=\"1\" class=\"dataframe\">\n",
       "  <thead>\n",
       "    <tr style=\"text-align: right;\">\n",
       "      <th></th>\n",
       "      <th>loc_group</th>\n",
       "      <th>climate_type</th>\n",
       "      <th>year</th>\n",
       "      <th>season</th>\n",
       "      <th>first_pres</th>\n",
       "    </tr>\n",
       "  </thead>\n",
       "  <tbody>\n",
       "    <tr>\n",
       "      <th>0</th>\n",
       "      <td>0</td>\n",
       "      <td>BSh</td>\n",
       "      <td>2014</td>\n",
       "      <td>3</td>\n",
       "      <td>27.57</td>\n",
       "    </tr>\n",
       "    <tr>\n",
       "      <th>1</th>\n",
       "      <td>0</td>\n",
       "      <td>BSh</td>\n",
       "      <td>2014</td>\n",
       "      <td>4</td>\n",
       "      <td>6.66</td>\n",
       "    </tr>\n",
       "    <tr>\n",
       "      <th>2</th>\n",
       "      <td>0</td>\n",
       "      <td>BSh</td>\n",
       "      <td>2015</td>\n",
       "      <td>1</td>\n",
       "      <td>15.25</td>\n",
       "    </tr>\n",
       "  </tbody>\n",
       "</table>\n",
       "</div>"
      ],
      "text/plain": [
       "   loc_group climate_type  year  season  first_pres\n",
       "0          0          BSh  2014       3       27.57\n",
       "1          0          BSh  2014       4        6.66\n",
       "2          0          BSh  2015       1       15.25"
      ]
     },
     "execution_count": 27,
     "metadata": {},
     "output_type": "execute_result"
    }
   ],
   "source": [
    "first_pres_df = create_df_by_group_and_agg(df, season_group_cols, \"first\", ccsm3_col, \"first_pres\")\n",
    "first_pres_df.head(3)"
   ]
  },
  {
   "cell_type": "code",
   "execution_count": 28,
   "id": "49685bc2",
   "metadata": {},
   "outputs": [
    {
     "name": "stdout",
     "output_type": "stream",
     "text": [
      "Nan\n"
     ]
    },
    {
     "data": {
      "text/html": [
       "<div>\n",
       "<style scoped>\n",
       "    .dataframe tbody tr th:only-of-type {\n",
       "        vertical-align: middle;\n",
       "    }\n",
       "\n",
       "    .dataframe tbody tr th {\n",
       "        vertical-align: top;\n",
       "    }\n",
       "\n",
       "    .dataframe thead th {\n",
       "        text-align: right;\n",
       "    }\n",
       "</style>\n",
       "<table border=\"1\" class=\"dataframe\">\n",
       "  <thead>\n",
       "    <tr style=\"text-align: right;\">\n",
       "      <th></th>\n",
       "      <th>loc_group</th>\n",
       "      <th>climate_type</th>\n",
       "      <th>year</th>\n",
       "      <th>season</th>\n",
       "      <th>first_sst</th>\n",
       "    </tr>\n",
       "  </thead>\n",
       "  <tbody>\n",
       "    <tr>\n",
       "      <th>0</th>\n",
       "      <td>0</td>\n",
       "      <td>BSh</td>\n",
       "      <td>2014</td>\n",
       "      <td>3</td>\n",
       "      <td>352.20</td>\n",
       "    </tr>\n",
       "    <tr>\n",
       "      <th>1</th>\n",
       "      <td>0</td>\n",
       "      <td>BSh</td>\n",
       "      <td>2014</td>\n",
       "      <td>4</td>\n",
       "      <td>-27.73</td>\n",
       "    </tr>\n",
       "    <tr>\n",
       "      <th>2</th>\n",
       "      <td>0</td>\n",
       "      <td>BSh</td>\n",
       "      <td>2015</td>\n",
       "      <td>1</td>\n",
       "      <td>-182.10</td>\n",
       "    </tr>\n",
       "  </tbody>\n",
       "</table>\n",
       "</div>"
      ],
      "text/plain": [
       "   loc_group climate_type  year  season  first_sst\n",
       "0          0          BSh  2014       3     352.20\n",
       "1          0          BSh  2014       4     -27.73\n",
       "2          0          BSh  2015       1    -182.10"
      ]
     },
     "execution_count": 28,
     "metadata": {},
     "output_type": "execute_result"
    }
   ],
   "source": [
    "first_sst_df = create_df_by_group_and_agg(df, season_group_cols, \"first\", stt_col, \"first_sst\")\n",
    "first_sst_df.head(3)"
   ]
  },
  {
   "cell_type": "code",
   "execution_count": 29,
   "id": "9119aee5",
   "metadata": {},
   "outputs": [
    {
     "name": "stdout",
     "output_type": "stream",
     "text": [
      "Nan\n"
     ]
    },
    {
     "data": {
      "text/html": [
       "<div>\n",
       "<style scoped>\n",
       "    .dataframe tbody tr th:only-of-type {\n",
       "        vertical-align: middle;\n",
       "    }\n",
       "\n",
       "    .dataframe tbody tr th {\n",
       "        vertical-align: top;\n",
       "    }\n",
       "\n",
       "    .dataframe thead th {\n",
       "        text-align: right;\n",
       "    }\n",
       "</style>\n",
       "<table border=\"1\" class=\"dataframe\">\n",
       "  <thead>\n",
       "    <tr style=\"text-align: right;\">\n",
       "      <th></th>\n",
       "      <th>loc_group</th>\n",
       "      <th>climate_type</th>\n",
       "      <th>year</th>\n",
       "      <th>season</th>\n",
       "      <th>min_sst</th>\n",
       "    </tr>\n",
       "  </thead>\n",
       "  <tbody>\n",
       "    <tr>\n",
       "      <th>0</th>\n",
       "      <td>0</td>\n",
       "      <td>BSh</td>\n",
       "      <td>2014</td>\n",
       "      <td>3</td>\n",
       "      <td>-24.17</td>\n",
       "    </tr>\n",
       "    <tr>\n",
       "      <th>1</th>\n",
       "      <td>0</td>\n",
       "      <td>BSh</td>\n",
       "      <td>2014</td>\n",
       "      <td>4</td>\n",
       "      <td>-110.84</td>\n",
       "    </tr>\n",
       "    <tr>\n",
       "      <th>2</th>\n",
       "      <td>0</td>\n",
       "      <td>BSh</td>\n",
       "      <td>2015</td>\n",
       "      <td>1</td>\n",
       "      <td>-183.70</td>\n",
       "    </tr>\n",
       "  </tbody>\n",
       "</table>\n",
       "</div>"
      ],
      "text/plain": [
       "   loc_group climate_type  year  season  min_sst\n",
       "0          0          BSh  2014       3   -24.17\n",
       "1          0          BSh  2014       4  -110.84\n",
       "2          0          BSh  2015       1  -183.70"
      ]
     },
     "execution_count": 29,
     "metadata": {},
     "output_type": "execute_result"
    }
   ],
   "source": [
    "min_sst_df = create_df_by_group_and_agg(df, season_group_cols, \"min\", stt_col, \"min_sst\")\n",
    "min_sst_df.head(3)"
   ]
  },
  {
   "cell_type": "code",
   "execution_count": 30,
   "id": "74bce092",
   "metadata": {},
   "outputs": [
    {
     "name": "stdout",
     "output_type": "stream",
     "text": [
      "Nan\n"
     ]
    },
    {
     "data": {
      "text/html": [
       "<div>\n",
       "<style scoped>\n",
       "    .dataframe tbody tr th:only-of-type {\n",
       "        vertical-align: middle;\n",
       "    }\n",
       "\n",
       "    .dataframe tbody tr th {\n",
       "        vertical-align: top;\n",
       "    }\n",
       "\n",
       "    .dataframe thead th {\n",
       "        text-align: right;\n",
       "    }\n",
       "</style>\n",
       "<table border=\"1\" class=\"dataframe\">\n",
       "  <thead>\n",
       "    <tr style=\"text-align: right;\">\n",
       "      <th></th>\n",
       "      <th>loc_group</th>\n",
       "      <th>climate_type</th>\n",
       "      <th>year</th>\n",
       "      <th>season</th>\n",
       "      <th>max_sst</th>\n",
       "    </tr>\n",
       "  </thead>\n",
       "  <tbody>\n",
       "    <tr>\n",
       "      <th>0</th>\n",
       "      <td>0</td>\n",
       "      <td>BSh</td>\n",
       "      <td>2014</td>\n",
       "      <td>3</td>\n",
       "      <td>352.20</td>\n",
       "    </tr>\n",
       "    <tr>\n",
       "      <th>1</th>\n",
       "      <td>0</td>\n",
       "      <td>BSh</td>\n",
       "      <td>2014</td>\n",
       "      <td>4</td>\n",
       "      <td>-27.73</td>\n",
       "    </tr>\n",
       "    <tr>\n",
       "      <th>2</th>\n",
       "      <td>0</td>\n",
       "      <td>BSh</td>\n",
       "      <td>2015</td>\n",
       "      <td>1</td>\n",
       "      <td>15.72</td>\n",
       "    </tr>\n",
       "  </tbody>\n",
       "</table>\n",
       "</div>"
      ],
      "text/plain": [
       "   loc_group climate_type  year  season  max_sst\n",
       "0          0          BSh  2014       3   352.20\n",
       "1          0          BSh  2014       4   -27.73\n",
       "2          0          BSh  2015       1    15.72"
      ]
     },
     "execution_count": 30,
     "metadata": {},
     "output_type": "execute_result"
    }
   ],
   "source": [
    "max_sst_df = create_df_by_group_and_agg(df, season_group_cols, \"max\", stt_col, \"max_sst\")\n",
    "max_sst_df.head(3)"
   ]
  },
  {
   "cell_type": "code",
   "execution_count": 31,
   "id": "82f437d2",
   "metadata": {
    "scrolled": true
   },
   "outputs": [
    {
     "name": "stdout",
     "output_type": "stream",
     "text": [
      "Nan\n"
     ]
    },
    {
     "data": {
      "text/html": [
       "<div>\n",
       "<style scoped>\n",
       "    .dataframe tbody tr th:only-of-type {\n",
       "        vertical-align: middle;\n",
       "    }\n",
       "\n",
       "    .dataframe tbody tr th {\n",
       "        vertical-align: top;\n",
       "    }\n",
       "\n",
       "    .dataframe thead th {\n",
       "        text-align: right;\n",
       "    }\n",
       "</style>\n",
       "<table border=\"1\" class=\"dataframe\">\n",
       "  <thead>\n",
       "    <tr style=\"text-align: right;\">\n",
       "      <th></th>\n",
       "      <th>loc_group</th>\n",
       "      <th>climate_type</th>\n",
       "      <th>year</th>\n",
       "      <th>season</th>\n",
       "      <th>month</th>\n",
       "      <th>first_slp_month</th>\n",
       "    </tr>\n",
       "  </thead>\n",
       "  <tbody>\n",
       "    <tr>\n",
       "      <th>0</th>\n",
       "      <td>0</td>\n",
       "      <td>BSh</td>\n",
       "      <td>2014</td>\n",
       "      <td>3</td>\n",
       "      <td>9</td>\n",
       "      <td>1352.08</td>\n",
       "    </tr>\n",
       "    <tr>\n",
       "      <th>1</th>\n",
       "      <td>0</td>\n",
       "      <td>BSh</td>\n",
       "      <td>2014</td>\n",
       "      <td>3</td>\n",
       "      <td>10</td>\n",
       "      <td>1254.96</td>\n",
       "    </tr>\n",
       "    <tr>\n",
       "      <th>2</th>\n",
       "      <td>0</td>\n",
       "      <td>BSh</td>\n",
       "      <td>2014</td>\n",
       "      <td>3</td>\n",
       "      <td>11</td>\n",
       "      <td>1952.19</td>\n",
       "    </tr>\n",
       "  </tbody>\n",
       "</table>\n",
       "</div>"
      ],
      "text/plain": [
       "   loc_group climate_type  year  season  month  first_slp_month\n",
       "0          0          BSh  2014       3      9          1352.08\n",
       "1          0          BSh  2014       3     10          1254.96\n",
       "2          0          BSh  2014       3     11          1952.19"
      ]
     },
     "execution_count": 31,
     "metadata": {},
     "output_type": "execute_result"
    }
   ],
   "source": [
    "first_slp_df_month = create_df_by_group_and_agg(df, group_cols, \"first\", slp_col, \"first_slp_month\")\n",
    "first_slp_df_month.head(3)"
   ]
  },
  {
   "cell_type": "code",
   "execution_count": 32,
   "id": "12de230a",
   "metadata": {},
   "outputs": [],
   "source": [
    "df = df.merge(first_slp_df, how='left', on=season_group_cols)\n",
    "df['diff_slp_first'] = df[slp_col] - df['first_slp']\n",
    "assign_train_test_df('diff_slp_first')"
   ]
  },
  {
   "cell_type": "code",
   "execution_count": 33,
   "id": "7c589eec",
   "metadata": {},
   "outputs": [],
   "source": [
    "df = df.merge(first_precip_df, how='left', on=season_group_cols)\n",
    "df['diff_precip_first'] = df[precip_col] - df['first_precip']\n",
    "assign_train_test_df('diff_precip_first')"
   ]
  },
  {
   "cell_type": "code",
   "execution_count": 34,
   "id": "61fcf9a5",
   "metadata": {},
   "outputs": [],
   "source": [
    "df = df.merge(first_sst_df, how='left', on=season_group_cols)\n",
    "df['diff_sst_first'] = df[stt_col] - df['first_sst']\n",
    "assign_train_test_df('diff_sst_first')"
   ]
  },
  {
   "cell_type": "code",
   "execution_count": 35,
   "id": "6c0d0889",
   "metadata": {},
   "outputs": [],
   "source": [
    "df = df.merge(min_sst_df, how='left', on=season_group_cols)\n",
    "df['diff_sst_min'] = df[stt_col] - df['min_sst']\n",
    "assign_train_test_df('diff_sst_min')"
   ]
  },
  {
   "cell_type": "code",
   "execution_count": 36,
   "id": "8f2b200a",
   "metadata": {},
   "outputs": [],
   "source": [
    "df = df.merge(max_sst_df, how='left', on=season_group_cols)\n",
    "df['diff_sst_max'] = df['max_sst'] - df[stt_col]\n",
    "assign_train_test_df('diff_sst_max')"
   ]
  },
  {
   "cell_type": "code",
   "execution_count": 37,
   "id": "0df28569",
   "metadata": {},
   "outputs": [],
   "source": [
    "df = df.merge(first_pres_df, how='left', on=season_group_cols)\n",
    "df['diff_pres_first'] = df[pres_col] - df['first_pres']\n",
    "assign_train_test_df('diff_pres_first')"
   ]
  },
  {
   "cell_type": "code",
   "execution_count": 38,
   "id": "5f0c2fd8",
   "metadata": {},
   "outputs": [],
   "source": [
    "df = df.merge(first_wind_df, how='left', on=season_group_cols)\n",
    "df['diff_wind_first'] = df[wind_col] - df['first_wind']\n",
    "assign_train_test_df('diff_wind_first')"
   ]
  },
  {
   "cell_type": "code",
   "execution_count": 39,
   "id": "fbd4808f",
   "metadata": {},
   "outputs": [],
   "source": [
    "df = df.merge(first_ccsm3_df, how='left', on=season_group_cols)\n",
    "df['diff_ccsm3_first'] = df[ccsm3_col] - df['first_ccsm3']\n",
    "assign_train_test_df('diff_ccsm3_first')"
   ]
  },
  {
   "cell_type": "code",
   "execution_count": 40,
   "id": "f3fab9ab",
   "metadata": {},
   "outputs": [],
   "source": [
    "# df[f'{precip_col}_bins'] = pd.qcut(df[precip_col], q=5, labels=[f'{precip_col}_{i}' for i in range(5)])\n",
    "# le = LabelEncoder().fit(np.unique(df[f'{precip_col}_bins'].unique().tolist()))\n",
    "# df[f'{precip_col}_bins'] = le.transform(df[f'{precip_col}_bins']) + 1\n",
    "# df[f'{precip_col}_bins'] = df[f'{precip_col}_bins'].replace(np.nan, 0).astype('int').astype('category')\n",
    "# assign_train_test_df(f'{precip_col}_bins')"
   ]
  },
  {
   "cell_type": "code",
   "execution_count": 41,
   "id": "c30565f9",
   "metadata": {},
   "outputs": [],
   "source": [
    "df['range_sst'] = df['max_sst'] - df['min_sst']\n",
    "assign_train_test_df('range_sst')"
   ]
  },
  {
   "cell_type": "code",
   "execution_count": 42,
   "id": "a5ec3a09",
   "metadata": {},
   "outputs": [],
   "source": [
    "features = best_cols + [\n",
    "    'diff_slp_first',\n",
    "    'diff_wind_first',\n",
    "    'diff_sst_first',\n",
    "    'diff_precip_first',\n",
    "    'diff_sst_min',\n",
    "    'diff_sst_max',\n",
    "    'range_sst'\n",
    "]"
   ]
  },
  {
   "cell_type": "code",
   "execution_count": 43,
   "id": "67bd89c6",
   "metadata": {},
   "outputs": [
    {
     "name": "stderr",
     "output_type": "stream",
     "text": [
      "5it [00:06,  1.23s/it]\n"
     ]
    },
    {
     "name": "stdout",
     "output_type": "stream",
     "text": [
      "(375734, 70) (375734,)\n"
     ]
    },
    {
     "name": "stderr",
     "output_type": "stream",
     "text": [
      "\r",
      "  0%|                                                                                                | 0/5 [00:00<?, ?it/s]"
     ]
    },
    {
     "name": "stdout",
     "output_type": "stream",
     "text": [
      "Learning rate set to 0.072699\n",
      "0:\tlearn: 9.2611105\ttest: 9.2407165\tbest: 9.2407165 (0)\ttotal: 5.95ms\tremaining: 29.7s\n",
      "200:\tlearn: 1.1876685\ttest: 1.1943075\tbest: 1.1943075 (200)\ttotal: 1.03s\tremaining: 24.5s\n",
      "400:\tlearn: 0.9238387\ttest: 0.9326645\tbest: 0.9326645 (400)\ttotal: 1.92s\tremaining: 22s\n",
      "600:\tlearn: 0.7917145\ttest: 0.8025593\tbest: 0.8025593 (600)\ttotal: 2.82s\tremaining: 20.7s\n",
      "800:\tlearn: 0.7073861\ttest: 0.7202868\tbest: 0.7202868 (800)\ttotal: 3.7s\tremaining: 19.4s\n",
      "1000:\tlearn: 0.6471064\ttest: 0.6615168\tbest: 0.6615168 (1000)\ttotal: 4.64s\tremaining: 18.5s\n",
      "1200:\tlearn: 0.6007940\ttest: 0.6160796\tbest: 0.6160796 (1200)\ttotal: 5.63s\tremaining: 17.8s\n",
      "1400:\tlearn: 0.5655721\ttest: 0.5822351\tbest: 0.5822351 (1400)\ttotal: 6.49s\tremaining: 16.7s\n",
      "1600:\tlearn: 0.5362295\ttest: 0.5538964\tbest: 0.5538964 (1600)\ttotal: 7.43s\tremaining: 15.8s\n",
      "1800:\tlearn: 0.5122988\ttest: 0.5308372\tbest: 0.5308372 (1800)\ttotal: 8.29s\tremaining: 14.7s\n",
      "2000:\tlearn: 0.4904393\ttest: 0.5097672\tbest: 0.5097672 (2000)\ttotal: 9.22s\tremaining: 13.8s\n",
      "2200:\tlearn: 0.4710671\ttest: 0.4912237\tbest: 0.4912237 (2200)\ttotal: 10.1s\tremaining: 12.8s\n",
      "2400:\tlearn: 0.4539440\ttest: 0.4751626\tbest: 0.4751626 (2400)\ttotal: 11s\tremaining: 11.9s\n",
      "2600:\tlearn: 0.4387573\ttest: 0.4607166\tbest: 0.4607166 (2600)\ttotal: 11.9s\tremaining: 11s\n",
      "2800:\tlearn: 0.4254674\ttest: 0.4482897\tbest: 0.4482897 (2800)\ttotal: 12.8s\tremaining: 10.1s\n",
      "3000:\tlearn: 0.4128033\ttest: 0.4364018\tbest: 0.4364018 (3000)\ttotal: 14.1s\tremaining: 9.37s\n",
      "3200:\tlearn: 0.4007835\ttest: 0.4251259\tbest: 0.4251259 (3200)\ttotal: 15.2s\tremaining: 8.52s\n",
      "3400:\tlearn: 0.3898405\ttest: 0.4147773\tbest: 0.4147773 (3400)\ttotal: 16.4s\tremaining: 7.7s\n",
      "3600:\tlearn: 0.3801547\ttest: 0.4056467\tbest: 0.4056467 (3600)\ttotal: 17.5s\tremaining: 6.79s\n",
      "3800:\tlearn: 0.3714706\ttest: 0.3975372\tbest: 0.3975372 (3800)\ttotal: 18.7s\tremaining: 5.89s\n",
      "4000:\tlearn: 0.3630490\ttest: 0.3897233\tbest: 0.3897233 (4000)\ttotal: 19.7s\tremaining: 4.92s\n",
      "4200:\tlearn: 0.3548464\ttest: 0.3821105\tbest: 0.3821105 (4200)\ttotal: 20.9s\tremaining: 3.97s\n",
      "4400:\tlearn: 0.3472838\ttest: 0.3750471\tbest: 0.3750471 (4400)\ttotal: 22s\tremaining: 3s\n",
      "4600:\tlearn: 0.3401387\ttest: 0.3684580\tbest: 0.3684580 (4600)\ttotal: 23.3s\tremaining: 2.02s\n",
      "4800:\tlearn: 0.3335566\ttest: 0.3625062\tbest: 0.3625062 (4800)\ttotal: 24.2s\tremaining: 1s\n",
      "4999:\tlearn: 0.3271719\ttest: 0.3566877\tbest: 0.3566877 (4999)\ttotal: 25.1s\tremaining: 0us\n",
      "bestTest = 0.356687741\n",
      "bestIteration = 4999\n"
     ]
    },
    {
     "name": "stderr",
     "output_type": "stream",
     "text": [
      "\r",
      " 20%|█████████████████▌                                                                      | 1/5 [00:33<02:14, 33.63s/it]"
     ]
    },
    {
     "name": "stdout",
     "output_type": "stream",
     "text": [
      "Learning rate set to 0.072699\n",
      "0:\tlearn: 9.2537635\ttest: 9.2717026\tbest: 9.2717026 (0)\ttotal: 5.69ms\tremaining: 28.5s\n",
      "200:\tlearn: 1.1842885\ttest: 1.1843145\tbest: 1.1843145 (200)\ttotal: 981ms\tremaining: 23.4s\n",
      "400:\tlearn: 0.9170510\ttest: 0.9196956\tbest: 0.9196956 (400)\ttotal: 1.89s\tremaining: 21.7s\n",
      "600:\tlearn: 0.7861901\ttest: 0.7915386\tbest: 0.7915386 (600)\ttotal: 2.83s\tremaining: 20.7s\n",
      "800:\tlearn: 0.7040548\ttest: 0.7124815\tbest: 0.7124815 (800)\ttotal: 3.74s\tremaining: 19.6s\n",
      "1000:\tlearn: 0.6442312\ttest: 0.6544665\tbest: 0.6544665 (1000)\ttotal: 4.69s\tremaining: 18.7s\n",
      "1200:\tlearn: 0.6001543\ttest: 0.6118724\tbest: 0.6118724 (1200)\ttotal: 5.98s\tremaining: 18.9s\n",
      "1400:\tlearn: 0.5646367\ttest: 0.5778645\tbest: 0.5778645 (1400)\ttotal: 7.2s\tremaining: 18.5s\n",
      "1600:\tlearn: 0.5335896\ttest: 0.5480874\tbest: 0.5480874 (1600)\ttotal: 8.4s\tremaining: 17.8s\n",
      "1800:\tlearn: 0.5090611\ttest: 0.5247554\tbest: 0.5247554 (1800)\ttotal: 9.52s\tremaining: 16.9s\n",
      "2000:\tlearn: 0.4877817\ttest: 0.5045295\tbest: 0.5045295 (2000)\ttotal: 10.7s\tremaining: 16s\n",
      "2200:\tlearn: 0.4686321\ttest: 0.4863113\tbest: 0.4863113 (2200)\ttotal: 11.7s\tremaining: 14.9s\n",
      "2400:\tlearn: 0.4525743\ttest: 0.4715141\tbest: 0.4715141 (2400)\ttotal: 12.8s\tremaining: 13.9s\n",
      "2600:\tlearn: 0.4376367\ttest: 0.4573561\tbest: 0.4573561 (2600)\ttotal: 14s\tremaining: 12.9s\n",
      "2800:\tlearn: 0.4234413\ttest: 0.4440083\tbest: 0.4440083 (2800)\ttotal: 15s\tremaining: 11.7s\n",
      "3000:\tlearn: 0.4109699\ttest: 0.4322025\tbest: 0.4322025 (3000)\ttotal: 15.9s\tremaining: 10.6s\n",
      "3200:\tlearn: 0.3997057\ttest: 0.4216351\tbest: 0.4216351 (3200)\ttotal: 16.7s\tremaining: 9.41s\n",
      "3400:\tlearn: 0.3890248\ttest: 0.4117318\tbest: 0.4117318 (3400)\ttotal: 17.6s\tremaining: 8.3s\n",
      "3600:\tlearn: 0.3790790\ttest: 0.4025451\tbest: 0.4025451 (3600)\ttotal: 18.5s\tremaining: 7.2s\n",
      "3800:\tlearn: 0.3698482\ttest: 0.3940091\tbest: 0.3940091 (3800)\ttotal: 19.4s\tremaining: 6.13s\n",
      "4000:\tlearn: 0.3617188\ttest: 0.3863389\tbest: 0.3863389 (4000)\ttotal: 20.3s\tremaining: 5.08s\n",
      "4200:\tlearn: 0.3535800\ttest: 0.3787114\tbest: 0.3787114 (4200)\ttotal: 21.2s\tremaining: 4.04s\n",
      "4400:\tlearn: 0.3462049\ttest: 0.3719607\tbest: 0.3719607 (4400)\ttotal: 22.2s\tremaining: 3.02s\n",
      "4600:\tlearn: 0.3391053\ttest: 0.3654492\tbest: 0.3654492 (4600)\ttotal: 23.8s\tremaining: 2.06s\n",
      "4800:\tlearn: 0.3325731\ttest: 0.3594198\tbest: 0.3594198 (4800)\ttotal: 26.5s\tremaining: 1.1s\n",
      "4999:\tlearn: 0.3263947\ttest: 0.3537396\tbest: 0.3537396 (4999)\ttotal: 27.7s\tremaining: 0us\n",
      "bestTest = 0.3537395864\n",
      "bestIteration = 4999\n"
     ]
    },
    {
     "name": "stderr",
     "output_type": "stream",
     "text": [
      "\r",
      " 40%|███████████████████████████████████▏                                                    | 2/5 [01:09<01:45, 35.04s/it]"
     ]
    },
    {
     "name": "stdout",
     "output_type": "stream",
     "text": [
      "Learning rate set to 0.072699\n",
      "0:\tlearn: 9.2531718\ttest: 9.2855747\tbest: 9.2855747 (0)\ttotal: 5.4ms\tremaining: 27s\n",
      "200:\tlearn: 1.1809742\ttest: 1.1835746\tbest: 1.1835746 (200)\ttotal: 921ms\tremaining: 22s\n",
      "400:\tlearn: 0.9242143\ttest: 0.9316707\tbest: 0.9316707 (400)\ttotal: 1.81s\tremaining: 20.8s\n",
      "600:\tlearn: 0.7905896\ttest: 0.8013425\tbest: 0.8013425 (600)\ttotal: 2.75s\tremaining: 20.1s\n",
      "800:\tlearn: 0.7068737\ttest: 0.7196198\tbest: 0.7196198 (800)\ttotal: 3.67s\tremaining: 19.2s\n",
      "1000:\tlearn: 0.6469751\ttest: 0.6611338\tbest: 0.6611338 (1000)\ttotal: 4.65s\tremaining: 18.6s\n",
      "1200:\tlearn: 0.6015554\ttest: 0.6167092\tbest: 0.6167092 (1200)\ttotal: 5.58s\tremaining: 17.6s\n",
      "1400:\tlearn: 0.5651377\ttest: 0.5815172\tbest: 0.5815172 (1400)\ttotal: 6.51s\tremaining: 16.7s\n",
      "1600:\tlearn: 0.5365222\ttest: 0.5538498\tbest: 0.5538498 (1600)\ttotal: 7.46s\tremaining: 15.8s\n",
      "1800:\tlearn: 0.5113244\ttest: 0.5296130\tbest: 0.5296130 (1800)\ttotal: 8.36s\tremaining: 14.8s\n",
      "2000:\tlearn: 0.4894955\ttest: 0.5085953\tbest: 0.5085953 (2000)\ttotal: 9.27s\tremaining: 13.9s\n",
      "2200:\tlearn: 0.4711568\ttest: 0.4912773\tbest: 0.4912773 (2200)\ttotal: 10.2s\tremaining: 13s\n",
      "2400:\tlearn: 0.4532148\ttest: 0.4740776\tbest: 0.4740776 (2400)\ttotal: 11.1s\tremaining: 12s\n",
      "2600:\tlearn: 0.4384244\ttest: 0.4599575\tbest: 0.4599575 (2600)\ttotal: 12s\tremaining: 11.1s\n",
      "2800:\tlearn: 0.4245713\ttest: 0.4466973\tbest: 0.4466973 (2800)\ttotal: 13.1s\tremaining: 10.3s\n",
      "3000:\tlearn: 0.4116809\ttest: 0.4344158\tbest: 0.4344158 (3000)\ttotal: 14.1s\tremaining: 9.41s\n",
      "3200:\tlearn: 0.4006406\ttest: 0.4239670\tbest: 0.4239670 (3200)\ttotal: 15.3s\tremaining: 8.6s\n",
      "3400:\tlearn: 0.3901878\ttest: 0.4140461\tbest: 0.4140461 (3400)\ttotal: 16.4s\tremaining: 7.69s\n",
      "3600:\tlearn: 0.3805679\ttest: 0.4051681\tbest: 0.4051681 (3600)\ttotal: 17.5s\tremaining: 6.78s\n",
      "3800:\tlearn: 0.3712304\ttest: 0.3963071\tbest: 0.3963071 (3800)\ttotal: 18.5s\tremaining: 5.83s\n",
      "4000:\tlearn: 0.3626949\ttest: 0.3882110\tbest: 0.3882110 (4000)\ttotal: 19.7s\tremaining: 4.91s\n",
      "4200:\tlearn: 0.3549405\ttest: 0.3809230\tbest: 0.3809230 (4200)\ttotal: 20.8s\tremaining: 3.95s\n",
      "4400:\tlearn: 0.3472576\ttest: 0.3736310\tbest: 0.3736310 (4400)\ttotal: 22.1s\tremaining: 3s\n",
      "4600:\tlearn: 0.3401907\ttest: 0.3671786\tbest: 0.3671786 (4600)\ttotal: 23.1s\tremaining: 2s\n",
      "4800:\tlearn: 0.3333619\ttest: 0.3607877\tbest: 0.3607877 (4800)\ttotal: 24.1s\tremaining: 998ms\n",
      "4999:\tlearn: 0.3272484\ttest: 0.3550031\tbest: 0.3550031 (4999)\ttotal: 25.1s\tremaining: 0us\n",
      "bestTest = 0.3550030513\n",
      "bestIteration = 4999\n"
     ]
    },
    {
     "name": "stderr",
     "output_type": "stream",
     "text": [
      "\r",
      " 60%|████████████████████████████████████████████████████▊                                   | 3/5 [01:43<01:08, 34.29s/it]"
     ]
    },
    {
     "name": "stdout",
     "output_type": "stream",
     "text": [
      "Learning rate set to 0.072699\n",
      "0:\tlearn: 9.2604847\ttest: 9.2566518\tbest: 9.2566518 (0)\ttotal: 6.26ms\tremaining: 31.3s\n",
      "200:\tlearn: 1.1717848\ttest: 1.1870401\tbest: 1.1870401 (200)\ttotal: 1s\tremaining: 23.9s\n",
      "400:\tlearn: 0.9175890\ttest: 0.9325713\tbest: 0.9325713 (400)\ttotal: 1.88s\tremaining: 21.5s\n",
      "600:\tlearn: 0.7841523\ttest: 0.7987912\tbest: 0.7987912 (600)\ttotal: 2.79s\tremaining: 20.4s\n",
      "800:\tlearn: 0.7027964\ttest: 0.7180452\tbest: 0.7180452 (800)\ttotal: 3.73s\tremaining: 19.6s\n",
      "1000:\tlearn: 0.6452351\ttest: 0.6614326\tbest: 0.6614326 (1000)\ttotal: 4.86s\tremaining: 19.4s\n",
      "1200:\tlearn: 0.6015953\ttest: 0.6188026\tbest: 0.6188026 (1200)\ttotal: 6.05s\tremaining: 19.1s\n",
      "1400:\tlearn: 0.5658532\ttest: 0.5839591\tbest: 0.5839591 (1400)\ttotal: 7.18s\tremaining: 18.4s\n",
      "1600:\tlearn: 0.5362962\ttest: 0.5552649\tbest: 0.5552649 (1600)\ttotal: 8.38s\tremaining: 17.8s\n",
      "1800:\tlearn: 0.5114038\ttest: 0.5311879\tbest: 0.5311879 (1800)\ttotal: 9.87s\tremaining: 17.5s\n",
      "2000:\tlearn: 0.4908667\ttest: 0.5113233\tbest: 0.5113233 (2000)\ttotal: 11.1s\tremaining: 16.6s\n",
      "2200:\tlearn: 0.4711535\ttest: 0.4924983\tbest: 0.4924983 (2200)\ttotal: 12.3s\tremaining: 15.7s\n",
      "2400:\tlearn: 0.4539849\ttest: 0.4761370\tbest: 0.4761370 (2400)\ttotal: 13.5s\tremaining: 14.6s\n",
      "2600:\tlearn: 0.4387686\ttest: 0.4619036\tbest: 0.4619036 (2600)\ttotal: 14.6s\tremaining: 13.5s\n",
      "2800:\tlearn: 0.4247592\ttest: 0.4485822\tbest: 0.4485822 (2800)\ttotal: 15.6s\tremaining: 12.3s\n",
      "3000:\tlearn: 0.4125988\ttest: 0.4370658\tbest: 0.4370658 (3000)\ttotal: 16.6s\tremaining: 11s\n",
      "3200:\tlearn: 0.4014908\ttest: 0.4265214\tbest: 0.4265214 (3200)\ttotal: 17.5s\tremaining: 9.82s\n",
      "3400:\tlearn: 0.3908309\ttest: 0.4165097\tbest: 0.4165097 (3400)\ttotal: 18.4s\tremaining: 8.66s\n",
      "3600:\tlearn: 0.3808312\ttest: 0.4070825\tbest: 0.4070825 (3600)\ttotal: 19.3s\tremaining: 7.5s\n",
      "3800:\tlearn: 0.3719496\ttest: 0.3987494\tbest: 0.3987494 (3800)\ttotal: 20.2s\tremaining: 6.36s\n",
      "4000:\tlearn: 0.3633508\ttest: 0.3907267\tbest: 0.3907267 (4000)\ttotal: 21s\tremaining: 5.25s\n",
      "4200:\tlearn: 0.3554238\ttest: 0.3833423\tbest: 0.3833423 (4200)\ttotal: 22s\tremaining: 4.18s\n",
      "4400:\tlearn: 0.3478129\ttest: 0.3763187\tbest: 0.3763187 (4400)\ttotal: 22.9s\tremaining: 3.12s\n",
      "4600:\tlearn: 0.3407712\ttest: 0.3698769\tbest: 0.3698769 (4600)\ttotal: 23.9s\tremaining: 2.07s\n",
      "4800:\tlearn: 0.3339532\ttest: 0.3635370\tbest: 0.3635370 (4800)\ttotal: 24.8s\tremaining: 1.03s\n",
      "4999:\tlearn: 0.3278666\ttest: 0.3578230\tbest: 0.3578230 (4999)\ttotal: 25.7s\tremaining: 0us\n",
      "bestTest = 0.3578230402\n",
      "bestIteration = 4999\n"
     ]
    },
    {
     "name": "stderr",
     "output_type": "stream",
     "text": [
      "\r",
      " 80%|██████████████████████████████████████████████████████████████████████▍                 | 4/5 [02:16<00:34, 34.13s/it]"
     ]
    },
    {
     "name": "stdout",
     "output_type": "stream",
     "text": [
      "Learning rate set to 0.072699\n",
      "0:\tlearn: 9.2625918\ttest: 9.2370575\tbest: 9.2370575 (0)\ttotal: 5.76ms\tremaining: 28.8s\n",
      "200:\tlearn: 1.1769089\ttest: 1.1828127\tbest: 1.1828127 (200)\ttotal: 920ms\tremaining: 22s\n",
      "400:\tlearn: 0.9229138\ttest: 0.9306194\tbest: 0.9306194 (400)\ttotal: 1.82s\tremaining: 20.9s\n",
      "600:\tlearn: 0.7912991\ttest: 0.8008941\tbest: 0.8008941 (600)\ttotal: 2.73s\tremaining: 20s\n",
      "800:\tlearn: 0.7100944\ttest: 0.7206996\tbest: 0.7206996 (800)\ttotal: 3.66s\tremaining: 19.2s\n",
      "1000:\tlearn: 0.6518427\ttest: 0.6634611\tbest: 0.6634611 (1000)\ttotal: 4.62s\tremaining: 18.5s\n",
      "1200:\tlearn: 0.6073204\ttest: 0.6206548\tbest: 0.6206548 (1200)\ttotal: 5.54s\tremaining: 17.5s\n",
      "1400:\tlearn: 0.5719067\ttest: 0.5865224\tbest: 0.5865224 (1400)\ttotal: 6.49s\tremaining: 16.7s\n",
      "1600:\tlearn: 0.5420044\ttest: 0.5576045\tbest: 0.5576045 (1600)\ttotal: 7.37s\tremaining: 15.7s\n",
      "1800:\tlearn: 0.5153634\ttest: 0.5322797\tbest: 0.5322797 (1800)\ttotal: 8.31s\tremaining: 14.8s\n",
      "2000:\tlearn: 0.4928173\ttest: 0.5106155\tbest: 0.5106155 (2000)\ttotal: 9.24s\tremaining: 13.8s\n",
      "2200:\tlearn: 0.4732257\ttest: 0.4916255\tbest: 0.4916255 (2200)\ttotal: 10.2s\tremaining: 12.9s\n",
      "2400:\tlearn: 0.4559923\ttest: 0.4752668\tbest: 0.4752668 (2400)\ttotal: 11.2s\tremaining: 12.1s\n",
      "2600:\tlearn: 0.4394365\ttest: 0.4595337\tbest: 0.4595337 (2600)\ttotal: 12.2s\tremaining: 11.2s\n",
      "2800:\tlearn: 0.4258069\ttest: 0.4467172\tbest: 0.4467172 (2800)\ttotal: 13.3s\tremaining: 10.5s\n",
      "3000:\tlearn: 0.4126073\ttest: 0.4342383\tbest: 0.4342383 (3000)\ttotal: 14.5s\tremaining: 9.66s\n",
      "3200:\tlearn: 0.4011761\ttest: 0.4235359\tbest: 0.4235359 (3200)\ttotal: 15.7s\tremaining: 8.84s\n",
      "3400:\tlearn: 0.3907490\ttest: 0.4137440\tbest: 0.4137440 (3400)\ttotal: 16.8s\tremaining: 7.92s\n",
      "3600:\tlearn: 0.3805230\ttest: 0.4040492\tbest: 0.4040492 (3600)\ttotal: 18.1s\tremaining: 7.03s\n",
      "3800:\tlearn: 0.3714048\ttest: 0.3954244\tbest: 0.3954244 (3800)\ttotal: 19.2s\tremaining: 6.07s\n",
      "4000:\tlearn: 0.3632246\ttest: 0.3878284\tbest: 0.3878284 (4000)\ttotal: 20.4s\tremaining: 5.1s\n",
      "4200:\tlearn: 0.3551668\ttest: 0.3803901\tbest: 0.3803901 (4200)\ttotal: 21.5s\tremaining: 4.09s\n",
      "4400:\tlearn: 0.3476681\ttest: 0.3733675\tbest: 0.3733675 (4400)\ttotal: 22.6s\tremaining: 3.08s\n",
      "4600:\tlearn: 0.3406088\ttest: 0.3669107\tbest: 0.3669107 (4600)\ttotal: 23.6s\tremaining: 2.04s\n",
      "4800:\tlearn: 0.3340512\ttest: 0.3609175\tbest: 0.3609175 (4800)\ttotal: 24.5s\tremaining: 1.01s\n",
      "4999:\tlearn: 0.3276810\ttest: 0.3550252\tbest: 0.3550252 (4999)\ttotal: 25.4s\tremaining: 0us\n",
      "bestTest = 0.3550251987\n",
      "bestIteration = 4999\n"
     ]
    },
    {
     "name": "stderr",
     "output_type": "stream",
     "text": [
      "100%|████████████████████████████████████████████████████████████████████████████████████████| 5/5 [02:50<00:00, 34.17s/it]\n",
      "100%|████████████████████████████████████████████████████████████████████████████████████████| 5/5 [00:00<00:00, 25.85it/s]\n"
     ]
    },
    {
     "name": "stdout",
     "output_type": "stream",
     "text": [
      "cos_sim with best submission: 0.9998364391320537\n"
     ]
    }
   ],
   "source": [
    "X = train_df[features].values\n",
    "y = train_df[target[0]].values\n",
    "\n",
    "skf = KFold(n_splits=5, random_state=2048, shuffle=True)\n",
    "skf.get_n_splits(X, y)\n",
    "\n",
    "train_index_list = []\n",
    "test_index_list = []\n",
    "train_x_list = []\n",
    "val_x_list = []\n",
    "train_y_list = []\n",
    "val_y_list = []\n",
    "\n",
    "for i, (train_index, test_index) in tqdm(enumerate(skf.split(X, y))):\n",
    "    train_index_list.append(train_index)\n",
    "    test_index_list.append(test_index)\n",
    "\n",
    "    train_x_list.append(X[train_index, :])\n",
    "    val_x_list.append(X[test_index, :])\n",
    "    train_y_list.append(y[train_index])\n",
    "    val_y_list.append(y[test_index])    \n",
    "def train_catboost(x, y):\n",
    "    print(x.shape, y.shape)\n",
    "    \n",
    "    cat_models = []\n",
    "    for i in tqdm(range(5)):\n",
    "        train_x, val_x = train_x_list[i], val_x_list[i]\n",
    "        train_y, val_y = train_y_list[i], val_y_list[i]\n",
    "        clf = CatBoostRegressor(iterations=5000, verbose=200, task_type=\"GPU\",\n",
    "                           devices='0:1')\n",
    "        clf.fit(train_x, train_y, eval_set=[(val_x, val_y)], verbose=200, early_stopping_rounds=100)\n",
    "        cat_models.append(clf)\n",
    "    \n",
    "    return cat_models\n",
    "cat_models = train_catboost(X, y)\n",
    "\n",
    "preds = []\n",
    "for cat_model in tqdm(cat_models):\n",
    "    preds.append(cat_model.predict(test_df[features].values))\n",
    "s = 0\n",
    "for pred in preds:\n",
    "    s += pred\n",
    "s = s/5\n",
    "res_df = pd.read_csv('./sample_solution.csv')\n",
    "res_df['contest-tmp2m-14d__tmp2m'] = s\n",
    "res_df.to_csv('submission_fe_v1.csv', index=False)\n",
    "\n",
    "best_df = pd.read_csv('best_sub.csv')\n",
    "y_best = best_df[target[0]].values\n",
    "\n",
    "from numpy import dot\n",
    "from numpy.linalg import norm\n",
    "\n",
    "cos_sim = dot(y_best, s)/(norm(y_best)*norm(s))\n",
    "print(\"cos_sim with best submission:\", cos_sim)"
   ]
  }
 ],
 "metadata": {
  "kernelspec": {
   "display_name": "wids-env",
   "language": "python",
   "name": "wids-env"
  },
  "language_info": {
   "codemirror_mode": {
    "name": "ipython",
    "version": 3
   },
   "file_extension": ".py",
   "mimetype": "text/x-python",
   "name": "python",
   "nbconvert_exporter": "python",
   "pygments_lexer": "ipython3",
   "version": "3.7.15"
  }
 },
 "nbformat": 4,
 "nbformat_minor": 5
}
