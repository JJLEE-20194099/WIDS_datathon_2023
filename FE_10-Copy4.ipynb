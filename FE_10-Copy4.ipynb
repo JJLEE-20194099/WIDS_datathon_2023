{
 "cells": [
  {
   "cell_type": "code",
   "execution_count": 1,
   "id": "3048a728",
   "metadata": {},
   "outputs": [],
   "source": [
    "import numpy as np\n",
    "import pandas as pd\n",
    "import seaborn as sns\n",
    "import torch\n",
    "import torch.nn as nn\n",
    "import torch.nn.functional as f\n",
    "pd.set_option('display.max_columns', None)\n",
    "import matplotlib.pyplot as plt\n",
    "from sklearn.model_selection import train_test_split\n",
    "from torch.utils.data import DataLoader\n",
    "from sklearn import preprocessing\n",
    "from tqdm import tqdm\n",
    "from sklearn.preprocessing import FunctionTransformer\n",
    "import seaborn as sns \n",
    "from scipy import stats\n",
    "import statsmodels.api as sm\n",
    "\n",
    "from sklearn.ensemble import RandomForestRegressor, ExtraTreesRegressor, AdaBoostRegressor, BaggingRegressor, GradientBoostingRegressor\n",
    "from sklearn.tree import DecisionTreeRegressor\n",
    "from sklearn.linear_model import ElasticNet, Lasso\n",
    "from sklearn.feature_selection import SelectFromModel\n",
    "from sklearn.svm import SVR\n",
    "from sklearn.model_selection import KFold, cross_val_score\n",
    "from sklearn.pipeline import make_pipeline\n",
    "from sklearn.decomposition import PCA\n",
    "from sklearn.preprocessing import RobustScaler\n",
    "import h2o\n",
    "from h2o.automl import H2OAutoML\n",
    "from sklearn.base import BaseEstimator, TransformerMixin, RegressorMixin, clone\n",
    "from sklearn.neural_network import MLPRegressor\n",
    "from scipy.stats import norm\n",
    "import copy\n",
    "from sklearn.model_selection import KFold\n",
    "from catboost import CatBoostRegressor, Pool, metrics, cv\n",
    "import xgboost as xgb\n",
    "from scipy.stats import gmean\n",
    "from sklearn.impute import KNNImputer\n",
    "from sklearn.metrics import mean_squared_error\n",
    "from sklearn.preprocessing import LabelEncoder\n"
   ]
  },
  {
   "cell_type": "code",
   "execution_count": 2,
   "id": "3c1ff34d",
   "metadata": {},
   "outputs": [],
   "source": [
    "add_train = pd.read_csv('./n_train.csv')\n",
    "add_test = pd.read_csv('./n_test.csv')"
   ]
  },
  {
   "cell_type": "code",
   "execution_count": 3,
   "id": "ae108301",
   "metadata": {},
   "outputs": [
    {
     "data": {
      "text/plain": [
       "['sst-2010-1',\n",
       " 'sst-2010-2',\n",
       " 'sst-2010-3',\n",
       " 'sst-2010-4',\n",
       " 'sst-2010-5',\n",
       " 'sst-2010-6',\n",
       " 'sst-2010-7',\n",
       " 'sst-2010-8',\n",
       " 'sst-2010-9',\n",
       " 'sst-2010-10']"
      ]
     },
     "execution_count": 3,
     "metadata": {},
     "output_type": "execute_result"
    }
   ],
   "source": [
    "sst_col_list = [c for c in add_train.columns if 'sst' in c]\n",
    "sst_col_list"
   ]
  },
  {
   "cell_type": "code",
   "execution_count": 4,
   "id": "1f87d634",
   "metadata": {},
   "outputs": [],
   "source": [
    "train_df = pd.read_csv('./fe_v2_train_076.csv')\n",
    "test_df = pd.read_csv('./fe_v2_test_076.csv')"
   ]
  },
  {
   "cell_type": "code",
   "execution_count": 5,
   "id": "311af197",
   "metadata": {},
   "outputs": [],
   "source": [
    "exclude_cols = ['index', 'startdate']\n",
    "embedding_attrs = ['climateregions__climateregion']\n",
    "target=[\"contest-tmp2m-14d__tmp2m\"]"
   ]
  },
  {
   "cell_type": "code",
   "execution_count": 6,
   "id": "43f40a58",
   "metadata": {},
   "outputs": [
    {
     "name": "stdout",
     "output_type": "stream",
     "text": [
      "Main features: 129\n"
     ]
    }
   ],
   "source": [
    "main_attrs = [c for c in train_df.columns if c not in exclude_cols and c not in target]\n",
    "print(\"Main features:\", len(main_attrs))"
   ]
  },
  {
   "cell_type": "code",
   "execution_count": 7,
   "id": "f26e95f0",
   "metadata": {},
   "outputs": [],
   "source": [
    "group_cols = ['loc_group', 'climate_type', 'year', 'season', 'month']\n",
    "season_group_cols = ['loc_group', 'climate_type', 'year', 'season']"
   ]
  },
  {
   "cell_type": "code",
   "execution_count": 8,
   "id": "5af736a3",
   "metadata": {},
   "outputs": [],
   "source": [
    "best_cols = ['contest-wind-h500-14d__wind-hgt-500',\n",
    " 'contest-slp-14d__slp',\n",
    " 'nmme-tmp2m-34w__ccsm3',\n",
    " 'elevation__elevation',\n",
    " 'lon',\n",
    " 'contest-prwtr-eatm-14d__prwtr',\n",
    " 'lat',\n",
    " 'climateregions__climateregion',\n",
    " 'contest-pres-sfc-gauss-14d__pres',\n",
    " 'season_sin',\n",
    " 'day_of_year_sin',\n",
    " 'contest-precip-14d__precip',\n",
    " 'contest-wind-uwnd-250-14d__wind-uwnd-250',\n",
    " 'nmme-prate-34w__cfsv2',\n",
    " 'nmme-prate-34w__nasa',\n",
    " 'nmme-prate-56w__gfdlflora',\n",
    " 'wind-uwnd-250-2010-7',\n",
    " 'contest-wind-vwnd-925-14d__wind-vwnd-925',\n",
    " 'nmme-prate-34w__nmmemean',\n",
    " 'nmme0-prate-34w__ccsm30',\n",
    " 'contest-wind-h850-14d__wind-hgt-850',\n",
    " 'contest-wind-uwnd-925-14d__wind-uwnd-925',\n",
    " 'nmme0-prate-56w__cfsv20',\n",
    " 'nmme-prate-34w__cancm3',\n",
    " 'contest-rhum-sig995-14d__rhum',\n",
    " 'nmme-prate-34w__gfdlflorb',\n",
    " 'wind-hgt-850-2010-4',\n",
    " 'contest-wind-vwnd-250-14d__wind-vwnd-250',\n",
    " 'wind-hgt-100-2010-2',\n",
    " 'wind-uwnd-250-2010-18',\n",
    " 'wind-hgt-10-2010-5',\n",
    " 'wind-uwnd-250-2010-15',\n",
    " 'wind-uwnd-250-2010-4',\n",
    " 'nmme0-prate-56w__nasa0',\n",
    " 'nmme0-prate-34w__cfsv20',\n",
    " 'wind-vwnd-250-2010-10',\n",
    " 'contest-wind-h10-14d__wind-hgt-10',\n",
    " 'wind-uwnd-925-2010-15',\n",
    " 'wind-vwnd-250-2010-3',\n",
    " 'nmme-prate-34w__cancm4',\n",
    " 'sst-2010-4',\n",
    " 'nmme0-prate-56w__ccsm30',\n",
    " 'wind-uwnd-250-2010-16',\n",
    " 'nmme0-prate-34w__gfdl0',\n",
    " 'nmme0-prate-56w__cancm40',\n",
    " 'sst-2010-1',\n",
    " 'sst-2010-3',\n",
    " 'wind-uwnd-250-2010-14',\n",
    " 'nmme0-prate-34w__gfdlflora0',\n",
    " 'nmme-prate-34w__gfdl',\n",
    " 'wind-hgt-850-2010-9',\n",
    " 'wind-vwnd-250-2010-1',\n",
    " 'sst-2010-5',\n",
    " 'cancm30',\n",
    " 'nmme-prate-34w__ccsm4',\n",
    " 'nmme0-prate-34w__nasa0',\n",
    " 'wind-hgt-500-2010-9',\n",
    " 'nmme0-prate-34w__cancm30',\n",
    " 'wind-vwnd-250-2010-13',\n",
    " 'wind_diff',\n",
    " 'wind_diff_min',\n",
    " 'wind_diff_min_month',\n",
    " 'wind_diff_month',\n",
    " 'diff_slp_first',\n",
    " 'diff_wind_first',\n",
    " 'diff_precip_first',\n",
    " 'diff_sst_10_first',\n",
    " 'diff_sst_10_min',\n",
    " 'diff_sst_10_max',\n",
    " 'range_sst_10',\n",
    " 'scale_sst_10',\n",
    " 'diff_sst_9_first',\n",
    " 'diff_sst_9_min',\n",
    " 'diff_sst_9_max',\n",
    " 'range_sst_9',\n",
    " 'scale_sst_9',\n",
    " 'diff_sst_8_first',\n",
    " 'diff_sst_8_min',\n",
    " 'diff_sst_8_max',\n",
    " 'range_sst_8',\n",
    " 'scale_sst_8',\n",
    " 'diff_sst_7_first',\n",
    " 'diff_sst_7_min',\n",
    " 'diff_sst_7_max',\n",
    " 'range_sst_7',\n",
    " 'scale_sst_7',\n",
    " 'diff_sst_6_first',\n",
    " 'diff_sst_6_min',\n",
    " 'diff_sst_6_max',\n",
    " 'range_sst_6',\n",
    " 'scale_sst_6',\n",
    " 'diff_sst_1_first',\n",
    " 'diff_sst_1_min',\n",
    " 'diff_sst_1_max',\n",
    " 'range_sst_1',\n",
    " 'scale_sst_1',\n",
    " 'diff_sst_2_first',\n",
    " 'diff_sst_2_min',\n",
    " 'diff_sst_2_max',\n",
    " 'range_sst_2',\n",
    " 'scale_sst_2',\n",
    " 'diff_sst_3_first',\n",
    " 'diff_sst_3_min',\n",
    " 'diff_sst_3_max',\n",
    " 'range_sst_3',\n",
    " 'scale_sst_3',\n",
    " 'diff_sst_4_first',\n",
    " 'diff_sst_4_min',\n",
    " 'diff_sst_4_max',\n",
    " 'range_sst_4',\n",
    " 'scale_sst_4',\n",
    " 'diff_sst_5_first',\n",
    " 'diff_sst_5_min',\n",
    " 'diff_sst_5_max',\n",
    " 'range_sst_5',\n",
    " 'scale_sst_5']"
   ]
  },
  {
   "cell_type": "code",
   "execution_count": 9,
   "id": "53ec3e42",
   "metadata": {},
   "outputs": [
    {
     "name": "stdout",
     "output_type": "stream",
     "text": [
      "Len: 116\n"
     ]
    }
   ],
   "source": [
    "print(\"Len:\", len(best_cols))"
   ]
  },
  {
   "cell_type": "code",
   "execution_count": 10,
   "id": "5622c8be",
   "metadata": {},
   "outputs": [],
   "source": [
    "def assign_train_test_df(df, my_col):\n",
    "    train_df[my_col] = df[:len(train_df)][my_col].tolist()\n",
    "    test_df[my_col] = df[len(train_df):][my_col].tolist()\n",
    "    return df\n",
    "\n",
    "def create_df_by_group_and_agg(dataframe, grouped_cols, action, my_col, return_name):\n",
    "    if action == \"first\":\n",
    "        ans_df = dataframe.groupby(grouped_cols)[my_col].first().reset_index()\n",
    "    elif action == \"min\":\n",
    "        ans_df = dataframe.groupby(grouped_cols)[my_col].min().reset_index()\n",
    "    elif action == \"max\":\n",
    "        ans_df = dataframe.groupby(grouped_cols)[my_col].max().reset_index()\n",
    "    elif action == \"mean\":\n",
    "        ans_df = dataframe.groupby(grouped_cols)[my_col].mean().reset_index()\n",
    "    print(\"Nan\")\n",
    "    ans_df = ans_df.rename(columns={my_col: return_name})\n",
    "    for c in ans_df.columns:\n",
    "        if ans_df[c].isnull().sum() > 0:\n",
    "            print(c, ans_df[c].isnull().sum())\n",
    "    return ans_df\n",
    "\n",
    "def create_feature(df, alias_name, col_name, suffix_num, season_group_cols):\n",
    "    first_df = create_df_by_group_and_agg(df, season_group_cols, \"first\", col_name, f\"first_{alias_name}_{suffix_num}\")\n",
    "    min_df = create_df_by_group_and_agg(df, season_group_cols, \"min\", col_name, f\"min_{alias_name}_{suffix_num}\")\n",
    "    max_df = create_df_by_group_and_agg(df, season_group_cols, \"max\", col_name, f\"max_{alias_name}_{suffix_num}\")\n",
    "    \n",
    "    df = df.merge(first_df, how='left', on=season_group_cols)\n",
    "    df[f'diff_{alias_name}_{suffix_num}_first'] = df[col_name] - df[f\"first_{alias_name}_{suffix_num}\"]\n",
    "    df = assign_train_test_df(df, f'diff_{alias_name}_{suffix_num}_first')\n",
    "    \n",
    "    df = df.merge(min_df, how='left', on=season_group_cols)\n",
    "    df[f'diff_{alias_name}_{suffix_num}_min'] = df[col_name] - df[f\"min_{alias_name}_{suffix_num}\"]\n",
    "    df = assign_train_test_df(df, f'diff_{alias_name}_{suffix_num}_min')\n",
    "    \n",
    "    df = df.merge(max_df, how='left', on=season_group_cols)\n",
    "    df[f'diff_{alias_name}_{suffix_num}_max'] = df[col_name] - df[f\"max_{alias_name}_{suffix_num}\"]\n",
    "    df = assign_train_test_df(df, f'diff_{alias_name}_{suffix_num}_max')\n",
    "    \n",
    "    df[f'range_{alias_name}_{suffix_num}'] = df[f\"max_{alias_name}_{suffix_num}\"] - df[f\"min_{alias_name}_{suffix_num}\"]\n",
    "    df = assign_train_test_df(df, f'range_{alias_name}_{suffix_num}')\n",
    "    \n",
    "    df[f'scale_{alias_name}_{suffix_num}'] = (df[col_name] - df[f\"min_{alias_name}_{suffix_num}\"]) / df[f'range_{alias_name}_{suffix_num}']\n",
    "    df = assign_train_test_df(df, f'scale_{alias_name}_{suffix_num}')\n",
    "    \n",
    "    return [df, f'diff_{alias_name}_{suffix_num}_first',\n",
    "   f'diff_{alias_name}_{suffix_num}_min',\n",
    "    f'diff_{alias_name}_{suffix_num}_max',\n",
    "    f'range_{alias_name}_{suffix_num}', f'scale_{alias_name}_{suffix_num}']"
   ]
  },
  {
   "cell_type": "code",
   "execution_count": 11,
   "id": "c28e108e",
   "metadata": {},
   "outputs": [],
   "source": [
    "slp_col = 'contest-slp-14d__slp'\n",
    "ccsm3_col = 'nmme-tmp2m-34w__ccsm3'\n",
    "pres_col = 'contest-pres-sfc-gauss-14d__pres'\n",
    "precip_col = 'contest-precip-14d__precip'\n",
    "poten_col = 'contest-pevpr-sfc-gauss-14d__pevpr'\n",
    "rhum_col = 'contest-rhum-sig995-14d__rhum'\n",
    "elevation_col = 'elevation__elevation'\n",
    "wind_col_10 = 'contest-wind-h10-14d__wind-hgt-10'\n",
    "sst_1_col = 'sst-2010-1'\n",
    "sst_5_col = 'sst-2010-5'\n",
    "sst_3_col = 'sst-2010-3'\n",
    "sst_4_col = 'sst-2010-4'\n",
    "sst_6_col = 'sst-2010-6'\n",
    "sst_7_col = 'sst-2010-7'\n",
    "sst_8_col = 'sst-2010-8'\n",
    "sst_9_col = 'sst-2010-9'\n",
    "sst_10_col = 'sst-2010-10'"
   ]
  },
  {
   "cell_type": "code",
   "execution_count": 12,
   "id": "602491ed",
   "metadata": {},
   "outputs": [],
   "source": [
    "train_df[sst_col_list] = add_train[sst_col_list]\n",
    "test_df[sst_col_list] = add_test[sst_col_list]"
   ]
  },
  {
   "cell_type": "code",
   "execution_count": 13,
   "id": "33dc7f09",
   "metadata": {},
   "outputs": [],
   "source": [
    "pevpr_col = 'contest-pevpr-sfc-gauss-14d__pevpr'\n",
    "train_df[pevpr_col] = add_train[pevpr_col]\n",
    "test_df[pevpr_col] = add_test[pevpr_col]"
   ]
  },
  {
   "cell_type": "code",
   "execution_count": 14,
   "id": "a8f1852d",
   "metadata": {},
   "outputs": [
    {
     "data": {
      "text/plain": [
       "(407088, 130)"
      ]
     },
     "execution_count": 14,
     "metadata": {},
     "output_type": "execute_result"
    }
   ],
   "source": [
    "df = pd.concat([train_df[main_attrs + [pevpr_col]], test_df[main_attrs + [pevpr_col]]], axis=0)\n",
    "df.shape"
   ]
  },
  {
   "cell_type": "code",
   "execution_count": 15,
   "id": "1afddcf4",
   "metadata": {},
   "outputs": [
    {
     "name": "stdout",
     "output_type": "stream",
     "text": [
      "Nan\n",
      "Nan\n",
      "Nan\n"
     ]
    }
   ],
   "source": [
    "pres_res = create_feature(df, 'pres', pres_col, 1, season_group_cols)\n",
    "df = pres_res[0]\n",
    "pres_feature = pres_res[1:]"
   ]
  },
  {
   "cell_type": "code",
   "execution_count": 16,
   "id": "26206a1b",
   "metadata": {},
   "outputs": [
    {
     "name": "stdout",
     "output_type": "stream",
     "text": [
      "Nan\n",
      "Nan\n",
      "Nan\n"
     ]
    }
   ],
   "source": [
    "slp_res = create_feature(df, 'slp', slp_col, 1, season_group_cols)\n",
    "df = slp_res[0]\n",
    "slp_feature = slp_res[1:]"
   ]
  },
  {
   "cell_type": "code",
   "execution_count": 17,
   "id": "89b9d27b",
   "metadata": {},
   "outputs": [
    {
     "name": "stdout",
     "output_type": "stream",
     "text": [
      "Nan\n",
      "Nan\n",
      "Nan\n"
     ]
    }
   ],
   "source": [
    "precip_res = create_feature(df, 'precip', precip_col, 1, season_group_cols)\n",
    "df = precip_res[0]\n",
    "precip_feature = precip_res[1:]"
   ]
  },
  {
   "cell_type": "code",
   "execution_count": 18,
   "id": "824d5a90",
   "metadata": {},
   "outputs": [
    {
     "name": "stdout",
     "output_type": "stream",
     "text": [
      "Nan\n",
      "Nan\n",
      "Nan\n"
     ]
    }
   ],
   "source": [
    "sst_1_month_res = create_feature(df, 'sst_1_month', sst_1_col, 1, group_cols)\n",
    "df = sst_1_month_res[0]\n",
    "sst_1_month_feature = sst_1_month_res[1:]"
   ]
  },
  {
   "cell_type": "code",
   "execution_count": 19,
   "id": "f9e2a0ad",
   "metadata": {},
   "outputs": [
    {
     "name": "stdout",
     "output_type": "stream",
     "text": [
      "Nan\n",
      "Nan\n",
      "Nan\n"
     ]
    }
   ],
   "source": [
    "sst_5_month_res = create_feature(df, 'sst_5_month', sst_5_col, 1, group_cols)\n",
    "df = sst_5_month_res[0]\n",
    "sst_5_month_feature = sst_5_month_res[1:]"
   ]
  },
  {
   "cell_type": "code",
   "execution_count": 20,
   "id": "09e7a823",
   "metadata": {},
   "outputs": [
    {
     "name": "stdout",
     "output_type": "stream",
     "text": [
      "Nan\n",
      "Nan\n",
      "Nan\n"
     ]
    }
   ],
   "source": [
    "sst_3_month_res = create_feature(df, 'sst_3_month', sst_3_col, 1, group_cols)\n",
    "df = sst_3_month_res[0]\n",
    "sst_3_month_feature = sst_3_month_res[1:]"
   ]
  },
  {
   "cell_type": "code",
   "execution_count": 21,
   "id": "17663666",
   "metadata": {},
   "outputs": [
    {
     "name": "stdout",
     "output_type": "stream",
     "text": [
      "Nan\n",
      "Nan\n",
      "Nan\n"
     ]
    }
   ],
   "source": [
    "sst_4_month_res = create_feature(df, 'sst_4_month', sst_4_col, 1, group_cols)\n",
    "df = sst_4_month_res[0]\n",
    "sst_4_month_feature = sst_4_month_res[1:]"
   ]
  },
  {
   "cell_type": "code",
   "execution_count": 22,
   "id": "efd5c6b1",
   "metadata": {},
   "outputs": [
    {
     "name": "stdout",
     "output_type": "stream",
     "text": [
      "Nan\n",
      "Nan\n",
      "Nan\n"
     ]
    }
   ],
   "source": [
    "sst_6_month_res = create_feature(df, 'sst_6_month', sst_6_col, 1, group_cols)\n",
    "df = sst_6_month_res[0]\n",
    "sst_6_month_feature = sst_6_month_res[1:]"
   ]
  },
  {
   "cell_type": "code",
   "execution_count": 23,
   "id": "cf4c2248",
   "metadata": {},
   "outputs": [
    {
     "name": "stdout",
     "output_type": "stream",
     "text": [
      "Nan\n",
      "Nan\n",
      "Nan\n"
     ]
    }
   ],
   "source": [
    "wind_10_res = create_feature(df, 'wind_10', wind_col_10, 1, season_group_cols)\n",
    "df = wind_10_res[0]\n",
    "wind_10_feature = wind_10_res[1:]"
   ]
  },
  {
   "cell_type": "code",
   "execution_count": 24,
   "id": "33cca268",
   "metadata": {},
   "outputs": [
    {
     "name": "stdout",
     "output_type": "stream",
     "text": [
      "Nan\n",
      "Nan\n",
      "Nan\n"
     ]
    }
   ],
   "source": [
    "wind_10_res_month = create_feature(df, 'wind_10_month', wind_col_10, 1, group_cols)\n",
    "df = wind_10_res_month[0]\n",
    "wind_10_month_feature = wind_10_res_month[1:]"
   ]
  },
  {
   "cell_type": "code",
   "execution_count": 25,
   "id": "7336c944",
   "metadata": {},
   "outputs": [
    {
     "name": "stdout",
     "output_type": "stream",
     "text": [
      "Nan\n",
      "Nan\n",
      "Nan\n"
     ]
    }
   ],
   "source": [
    "ccsm3_res_month_res = create_feature(df, 'ccsm3_month', ccsm3_col, 1, group_cols)\n",
    "df = ccsm3_res_month_res[0]\n",
    "ccsm3_month_feature = ccsm3_res_month_res[1:]"
   ]
  },
  {
   "cell_type": "code",
   "execution_count": 26,
   "id": "98dcfad1",
   "metadata": {},
   "outputs": [],
   "source": [
    "modified_best_cols = [c for c in best_cols]"
   ]
  },
  {
   "cell_type": "code",
   "execution_count": 27,
   "id": "91271003",
   "metadata": {},
   "outputs": [
    {
     "name": "stderr",
     "output_type": "stream",
     "text": [
      "/data/hieunm/anaconda3/envs/wids-env/lib/python3.7/site-packages/ipykernel_launcher.py:19: PerformanceWarning: DataFrame is highly fragmented.  This is usually the result of calling `frame.insert` many times, which has poor performance.  Consider joining all columns at once using pd.concat(axis=1) instead.  To get a de-fragmented frame, use `newframe = frame.copy()`\n"
     ]
    }
   ],
   "source": [
    "df['sst_1_lag_1'] = df.groupby(group_cols)[sst_1_col].shift(1)\n",
    "df = assign_train_test_df(df, 'sst_1_lag_1')\n",
    "\n",
    "df['sst_1_lag_2'] = df.groupby(group_cols)[sst_1_col].shift(2)\n",
    "df = assign_train_test_df(df, 'sst_1_lag_2')\n",
    "\n",
    "df['sst_1_lag_3'] = df.groupby(group_cols)[sst_1_col].shift(3)\n",
    "df = assign_train_test_df(df, 'sst_1_lag_3')\n",
    "\n",
    "df['sst_5_lag_1'] = df.groupby(group_cols)[sst_5_col].shift(1)\n",
    "df = assign_train_test_df(df, 'sst_5_lag_1')\n",
    "\n",
    "df['sst_3_lag_1'] = df.groupby(group_cols)[sst_3_col].shift(1)\n",
    "df = assign_train_test_df(df, 'sst_3_lag_1')\n",
    "\n",
    "df['sst_4_lag_1'] = df.groupby(group_cols)[sst_4_col].shift(1)\n",
    "df = assign_train_test_df(df, 'sst_4_lag_1')\n",
    "\n",
    "df['sst_6_lag_1'] = df.groupby(group_cols)[sst_6_col].shift(1)\n",
    "df = assign_train_test_df(df, 'sst_6_lag_1')\n"
   ]
  },
  {
   "cell_type": "code",
   "execution_count": 28,
   "id": "72a158df",
   "metadata": {},
   "outputs": [
    {
     "name": "stderr",
     "output_type": "stream",
     "text": [
      "/data/hieunm/anaconda3/envs/wids-env/lib/python3.7/site-packages/ipykernel_launcher.py:1: PerformanceWarning: DataFrame is highly fragmented.  This is usually the result of calling `frame.insert` many times, which has poor performance.  Consider joining all columns at once using pd.concat(axis=1) instead.  To get a de-fragmented frame, use `newframe = frame.copy()`\n",
      "  \"\"\"Entry point for launching an IPython kernel.\n",
      "/data/hieunm/anaconda3/envs/wids-env/lib/python3.7/site-packages/ipykernel_launcher.py:3: PerformanceWarning: DataFrame is highly fragmented.  This is usually the result of calling `frame.insert` many times, which has poor performance.  Consider joining all columns at once using pd.concat(axis=1) instead.  To get a de-fragmented frame, use `newframe = frame.copy()`\n",
      "  This is separate from the ipykernel package so we can avoid doing imports until\n",
      "/data/hieunm/anaconda3/envs/wids-env/lib/python3.7/site-packages/ipykernel_launcher.py:6: PerformanceWarning: DataFrame is highly fragmented.  This is usually the result of calling `frame.insert` many times, which has poor performance.  Consider joining all columns at once using pd.concat(axis=1) instead.  To get a de-fragmented frame, use `newframe = frame.copy()`\n",
      "  \n"
     ]
    }
   ],
   "source": [
    "df['sst_1_lag_1_season'] = df.groupby(season_group_cols)[sst_1_col].shift(1)\n",
    "df = assign_train_test_df(df, 'sst_1_lag_1_season')\n",
    "df['sst_5_lag_1_season'] = df.groupby(season_group_cols)[sst_5_col].shift(1)\n",
    "df = assign_train_test_df(df, 'sst_5_lag_1_season')\n",
    "\n",
    "df['sst_4_lag_1_season'] = df.groupby(season_group_cols)[sst_4_col].shift(1)\n",
    "df = assign_train_test_df(df, 'sst_4_lag_1_season')"
   ]
  },
  {
   "cell_type": "code",
   "execution_count": 29,
   "id": "d52c0ab5",
   "metadata": {},
   "outputs": [],
   "source": [
    "# shift(lag_days).rolling(lag_days).mean()"
   ]
  },
  {
   "cell_type": "code",
   "execution_count": 30,
   "id": "70ebab13",
   "metadata": {},
   "outputs": [
    {
     "name": "stderr",
     "output_type": "stream",
     "text": [
      "/data/hieunm/anaconda3/envs/wids-env/lib/python3.7/site-packages/ipykernel_launcher.py:4: PerformanceWarning: DataFrame is highly fragmented.  This is usually the result of calling `frame.insert` many times, which has poor performance.  Consider joining all columns at once using pd.concat(axis=1) instead.  To get a de-fragmented frame, use `newframe = frame.copy()`\n",
      "  after removing the cwd from sys.path.\n"
     ]
    }
   ],
   "source": [
    "# df['sst_1_rolling_1'] = df.groupby(group_cols)[sst_1_col].shift(1).rolling(1).mean()\n",
    "# df = assign_train_test_df(df, 'sst_1_rolling_1')\n",
    "\n",
    "df['sst_5_rolling_1'] = df.groupby(group_cols)[sst_5_col].shift(1).rolling(1).mean()\n",
    "df = assign_train_test_df(df, 'sst_5_rolling_1')"
   ]
  },
  {
   "cell_type": "code",
   "execution_count": 31,
   "id": "b323c5ba",
   "metadata": {},
   "outputs": [
    {
     "name": "stdout",
     "output_type": "stream",
     "text": [
      "Nan\n",
      "Nan\n",
      "Nan\n"
     ]
    },
    {
     "name": "stderr",
     "output_type": "stream",
     "text": [
      "/data/hieunm/anaconda3/envs/wids-env/lib/python3.7/site-packages/ipykernel_launcher.py:28: PerformanceWarning: DataFrame is highly fragmented.  This is usually the result of calling `frame.insert` many times, which has poor performance.  Consider joining all columns at once using pd.concat(axis=1) instead.  To get a de-fragmented frame, use `newframe = frame.copy()`\n",
      "/data/hieunm/anaconda3/envs/wids-env/lib/python3.7/site-packages/ipykernel_launcher.py:32: PerformanceWarning: DataFrame is highly fragmented.  This is usually the result of calling `frame.insert` many times, which has poor performance.  Consider joining all columns at once using pd.concat(axis=1) instead.  To get a de-fragmented frame, use `newframe = frame.copy()`\n",
      "/data/hieunm/anaconda3/envs/wids-env/lib/python3.7/site-packages/ipykernel_launcher.py:36: PerformanceWarning: DataFrame is highly fragmented.  This is usually the result of calling `frame.insert` many times, which has poor performance.  Consider joining all columns at once using pd.concat(axis=1) instead.  To get a de-fragmented frame, use `newframe = frame.copy()`\n",
      "/data/hieunm/anaconda3/envs/wids-env/lib/python3.7/site-packages/ipykernel_launcher.py:39: PerformanceWarning: DataFrame is highly fragmented.  This is usually the result of calling `frame.insert` many times, which has poor performance.  Consider joining all columns at once using pd.concat(axis=1) instead.  To get a de-fragmented frame, use `newframe = frame.copy()`\n",
      "/data/hieunm/anaconda3/envs/wids-env/lib/python3.7/site-packages/ipykernel_launcher.py:42: PerformanceWarning: DataFrame is highly fragmented.  This is usually the result of calling `frame.insert` many times, which has poor performance.  Consider joining all columns at once using pd.concat(axis=1) instead.  To get a de-fragmented frame, use `newframe = frame.copy()`\n"
     ]
    }
   ],
   "source": [
    "\n",
    "pevpr_res = create_feature(df, 'pevpr_col', pevpr_col, 1, group_cols)\n",
    "df = pevpr_res[0]\n",
    "pevpr_col_feature = pevpr_res[1:]"
   ]
  },
  {
   "cell_type": "code",
   "execution_count": 32,
   "id": "779371c2",
   "metadata": {},
   "outputs": [
    {
     "name": "stderr",
     "output_type": "stream",
     "text": [
      "/data/hieunm/anaconda3/envs/wids-env/lib/python3.7/site-packages/ipykernel_launcher.py:1: PerformanceWarning: DataFrame is highly fragmented.  This is usually the result of calling `frame.insert` many times, which has poor performance.  Consider joining all columns at once using pd.concat(axis=1) instead.  To get a de-fragmented frame, use `newframe = frame.copy()`\n",
      "  \"\"\"Entry point for launching an IPython kernel.\n"
     ]
    }
   ],
   "source": [
    "df['pevpr_lag_1'] = df.groupby(group_cols)[pevpr_col].shift(1)\n",
    "df = assign_train_test_df(df, 'pevpr_lag_1')"
   ]
  },
  {
   "cell_type": "code",
   "execution_count": 33,
   "id": "975a1268",
   "metadata": {},
   "outputs": [],
   "source": [
    "features = modified_best_cols + pres_feature  + ccsm3_month_feature + sst_1_month_feature + ['sst_1_lag_1', 'sst_5_lag_1', 'sst_4_lag_1', 'sst_1_lag_1_season', 'sst_5_lag_1_season', \n",
    "                                                                     'sst_4_lag_1_season']"
   ]
  },
  {
   "cell_type": "code",
   "execution_count": 34,
   "id": "f796488c",
   "metadata": {},
   "outputs": [
    {
     "data": {
      "text/plain": [
       "['contest-wind-h500-14d__wind-hgt-500',\n",
       " 'contest-slp-14d__slp',\n",
       " 'nmme-tmp2m-34w__ccsm3',\n",
       " 'elevation__elevation',\n",
       " 'lon',\n",
       " 'contest-prwtr-eatm-14d__prwtr',\n",
       " 'lat',\n",
       " 'climateregions__climateregion',\n",
       " 'contest-pres-sfc-gauss-14d__pres',\n",
       " 'season_sin',\n",
       " 'day_of_year_sin',\n",
       " 'contest-precip-14d__precip',\n",
       " 'contest-wind-uwnd-250-14d__wind-uwnd-250',\n",
       " 'nmme-prate-34w__cfsv2',\n",
       " 'nmme-prate-34w__nasa',\n",
       " 'nmme-prate-56w__gfdlflora',\n",
       " 'wind-uwnd-250-2010-7',\n",
       " 'contest-wind-vwnd-925-14d__wind-vwnd-925',\n",
       " 'nmme-prate-34w__nmmemean',\n",
       " 'nmme0-prate-34w__ccsm30',\n",
       " 'contest-wind-h850-14d__wind-hgt-850',\n",
       " 'contest-wind-uwnd-925-14d__wind-uwnd-925',\n",
       " 'nmme0-prate-56w__cfsv20',\n",
       " 'nmme-prate-34w__cancm3',\n",
       " 'contest-rhum-sig995-14d__rhum',\n",
       " 'nmme-prate-34w__gfdlflorb',\n",
       " 'wind-hgt-850-2010-4',\n",
       " 'contest-wind-vwnd-250-14d__wind-vwnd-250',\n",
       " 'wind-hgt-100-2010-2',\n",
       " 'wind-uwnd-250-2010-18',\n",
       " 'wind-hgt-10-2010-5',\n",
       " 'wind-uwnd-250-2010-15',\n",
       " 'wind-uwnd-250-2010-4',\n",
       " 'nmme0-prate-56w__nasa0',\n",
       " 'nmme0-prate-34w__cfsv20',\n",
       " 'wind-vwnd-250-2010-10',\n",
       " 'contest-wind-h10-14d__wind-hgt-10',\n",
       " 'wind-uwnd-925-2010-15',\n",
       " 'wind-vwnd-250-2010-3',\n",
       " 'nmme-prate-34w__cancm4',\n",
       " 'sst-2010-4',\n",
       " 'nmme0-prate-56w__ccsm30',\n",
       " 'wind-uwnd-250-2010-16',\n",
       " 'nmme0-prate-34w__gfdl0',\n",
       " 'nmme0-prate-56w__cancm40',\n",
       " 'sst-2010-1',\n",
       " 'sst-2010-3',\n",
       " 'wind-uwnd-250-2010-14',\n",
       " 'nmme0-prate-34w__gfdlflora0',\n",
       " 'nmme-prate-34w__gfdl',\n",
       " 'wind-hgt-850-2010-9',\n",
       " 'wind-vwnd-250-2010-1',\n",
       " 'sst-2010-5',\n",
       " 'cancm30',\n",
       " 'nmme-prate-34w__ccsm4',\n",
       " 'nmme0-prate-34w__nasa0',\n",
       " 'wind-hgt-500-2010-9',\n",
       " 'nmme0-prate-34w__cancm30',\n",
       " 'wind-vwnd-250-2010-13',\n",
       " 'wind_diff',\n",
       " 'wind_diff_min',\n",
       " 'wind_diff_min_month',\n",
       " 'wind_diff_month',\n",
       " 'diff_slp_first',\n",
       " 'diff_wind_first',\n",
       " 'diff_precip_first',\n",
       " 'diff_sst_10_first',\n",
       " 'diff_sst_10_min',\n",
       " 'diff_sst_10_max',\n",
       " 'range_sst_10',\n",
       " 'scale_sst_10',\n",
       " 'diff_sst_9_first',\n",
       " 'diff_sst_9_min',\n",
       " 'diff_sst_9_max',\n",
       " 'range_sst_9',\n",
       " 'scale_sst_9',\n",
       " 'diff_sst_8_first',\n",
       " 'diff_sst_8_min',\n",
       " 'diff_sst_8_max',\n",
       " 'range_sst_8',\n",
       " 'scale_sst_8',\n",
       " 'diff_sst_7_first',\n",
       " 'diff_sst_7_min',\n",
       " 'diff_sst_7_max',\n",
       " 'range_sst_7',\n",
       " 'scale_sst_7',\n",
       " 'diff_sst_6_first',\n",
       " 'diff_sst_6_min',\n",
       " 'diff_sst_6_max',\n",
       " 'range_sst_6',\n",
       " 'scale_sst_6',\n",
       " 'diff_sst_1_first',\n",
       " 'diff_sst_1_min',\n",
       " 'diff_sst_1_max',\n",
       " 'range_sst_1',\n",
       " 'scale_sst_1',\n",
       " 'diff_sst_2_first',\n",
       " 'diff_sst_2_min',\n",
       " 'diff_sst_2_max',\n",
       " 'range_sst_2',\n",
       " 'scale_sst_2',\n",
       " 'diff_sst_3_first',\n",
       " 'diff_sst_3_min',\n",
       " 'diff_sst_3_max',\n",
       " 'range_sst_3',\n",
       " 'scale_sst_3',\n",
       " 'diff_sst_4_first',\n",
       " 'diff_sst_4_min',\n",
       " 'diff_sst_4_max',\n",
       " 'range_sst_4',\n",
       " 'scale_sst_4',\n",
       " 'diff_sst_5_first',\n",
       " 'diff_sst_5_min',\n",
       " 'diff_sst_5_max',\n",
       " 'range_sst_5',\n",
       " 'scale_sst_5',\n",
       " 'diff_pres_1_first',\n",
       " 'diff_pres_1_min',\n",
       " 'diff_pres_1_max',\n",
       " 'range_pres_1',\n",
       " 'scale_pres_1',\n",
       " 'diff_ccsm3_month_1_first',\n",
       " 'diff_ccsm3_month_1_min',\n",
       " 'diff_ccsm3_month_1_max',\n",
       " 'range_ccsm3_month_1',\n",
       " 'scale_ccsm3_month_1',\n",
       " 'diff_sst_1_month_1_first',\n",
       " 'diff_sst_1_month_1_min',\n",
       " 'diff_sst_1_month_1_max',\n",
       " 'range_sst_1_month_1',\n",
       " 'scale_sst_1_month_1',\n",
       " 'sst_1_lag_1',\n",
       " 'sst_5_lag_1',\n",
       " 'sst_4_lag_1',\n",
       " 'sst_1_lag_1_season',\n",
       " 'sst_5_lag_1_season',\n",
       " 'sst_4_lag_1_season']"
      ]
     },
     "execution_count": 34,
     "metadata": {},
     "output_type": "execute_result"
    }
   ],
   "source": [
    "features"
   ]
  },
  {
   "cell_type": "code",
   "execution_count": 35,
   "id": "06fde566",
   "metadata": {},
   "outputs": [],
   "source": [
    "test_df['index'] = add_test['index']"
   ]
  },
  {
   "cell_type": "code",
   "execution_count": 36,
   "id": "f97c8fd2",
   "metadata": {},
   "outputs": [],
   "source": [
    "train_df.to_csv('best_train.csv', index=False)\n",
    "test_df.to_csv('best_test.csv', index=False)"
   ]
  },
  {
   "cell_type": "code",
   "execution_count": 37,
   "id": "c481a67b",
   "metadata": {},
   "outputs": [
    {
     "data": {
      "text/plain": [
       "['contest-wind-h500-14d__wind-hgt-500',\n",
       " 'contest-slp-14d__slp',\n",
       " 'nmme-tmp2m-34w__ccsm3',\n",
       " 'elevation__elevation',\n",
       " 'lon',\n",
       " 'contest-prwtr-eatm-14d__prwtr',\n",
       " 'lat',\n",
       " 'climateregions__climateregion',\n",
       " 'contest-pres-sfc-gauss-14d__pres',\n",
       " 'season_sin',\n",
       " 'day_of_year_sin',\n",
       " 'contest-precip-14d__precip',\n",
       " 'contest-wind-uwnd-250-14d__wind-uwnd-250',\n",
       " 'nmme-prate-34w__cfsv2',\n",
       " 'nmme-prate-34w__nasa',\n",
       " 'nmme-prate-56w__gfdlflora',\n",
       " 'wind-uwnd-250-2010-7',\n",
       " 'contest-wind-vwnd-925-14d__wind-vwnd-925',\n",
       " 'nmme-prate-34w__nmmemean',\n",
       " 'nmme0-prate-34w__ccsm30',\n",
       " 'contest-wind-h850-14d__wind-hgt-850',\n",
       " 'contest-wind-uwnd-925-14d__wind-uwnd-925',\n",
       " 'nmme0-prate-56w__cfsv20',\n",
       " 'nmme-prate-34w__cancm3',\n",
       " 'contest-rhum-sig995-14d__rhum',\n",
       " 'nmme-prate-34w__gfdlflorb',\n",
       " 'wind-hgt-850-2010-4',\n",
       " 'contest-wind-vwnd-250-14d__wind-vwnd-250',\n",
       " 'wind-hgt-100-2010-2',\n",
       " 'wind-uwnd-250-2010-18',\n",
       " 'wind-hgt-10-2010-5',\n",
       " 'wind-uwnd-250-2010-15',\n",
       " 'wind-uwnd-250-2010-4',\n",
       " 'nmme0-prate-56w__nasa0',\n",
       " 'nmme0-prate-34w__cfsv20',\n",
       " 'wind-vwnd-250-2010-10',\n",
       " 'contest-wind-h10-14d__wind-hgt-10',\n",
       " 'wind-uwnd-925-2010-15',\n",
       " 'wind-vwnd-250-2010-3',\n",
       " 'nmme-prate-34w__cancm4',\n",
       " 'sst-2010-4',\n",
       " 'nmme0-prate-56w__ccsm30',\n",
       " 'wind-uwnd-250-2010-16',\n",
       " 'nmme0-prate-34w__gfdl0',\n",
       " 'nmme0-prate-56w__cancm40',\n",
       " 'sst-2010-1',\n",
       " 'sst-2010-3',\n",
       " 'wind-uwnd-250-2010-14',\n",
       " 'nmme0-prate-34w__gfdlflora0',\n",
       " 'nmme-prate-34w__gfdl',\n",
       " 'wind-hgt-850-2010-9',\n",
       " 'wind-vwnd-250-2010-1',\n",
       " 'sst-2010-5',\n",
       " 'cancm30',\n",
       " 'nmme-prate-34w__ccsm4',\n",
       " 'nmme0-prate-34w__nasa0',\n",
       " 'wind-hgt-500-2010-9',\n",
       " 'nmme0-prate-34w__cancm30',\n",
       " 'wind-vwnd-250-2010-13',\n",
       " 'wind_diff',\n",
       " 'wind_diff_min',\n",
       " 'wind_diff_min_month',\n",
       " 'wind_diff_month',\n",
       " 'diff_slp_first',\n",
       " 'diff_wind_first',\n",
       " 'diff_precip_first',\n",
       " 'diff_sst_10_first',\n",
       " 'diff_sst_10_min',\n",
       " 'diff_sst_10_max',\n",
       " 'range_sst_10',\n",
       " 'scale_sst_10',\n",
       " 'diff_sst_9_first',\n",
       " 'diff_sst_9_min',\n",
       " 'diff_sst_9_max',\n",
       " 'range_sst_9',\n",
       " 'scale_sst_9',\n",
       " 'diff_sst_8_first',\n",
       " 'diff_sst_8_min',\n",
       " 'diff_sst_8_max',\n",
       " 'range_sst_8',\n",
       " 'scale_sst_8',\n",
       " 'diff_sst_7_first',\n",
       " 'diff_sst_7_min',\n",
       " 'diff_sst_7_max',\n",
       " 'range_sst_7',\n",
       " 'scale_sst_7',\n",
       " 'diff_sst_6_first',\n",
       " 'diff_sst_6_min',\n",
       " 'diff_sst_6_max',\n",
       " 'range_sst_6',\n",
       " 'scale_sst_6',\n",
       " 'diff_sst_1_first',\n",
       " 'diff_sst_1_min',\n",
       " 'diff_sst_1_max',\n",
       " 'range_sst_1',\n",
       " 'scale_sst_1',\n",
       " 'diff_sst_2_first',\n",
       " 'diff_sst_2_min',\n",
       " 'diff_sst_2_max',\n",
       " 'range_sst_2',\n",
       " 'scale_sst_2',\n",
       " 'diff_sst_3_first',\n",
       " 'diff_sst_3_min',\n",
       " 'diff_sst_3_max',\n",
       " 'range_sst_3',\n",
       " 'scale_sst_3',\n",
       " 'diff_sst_4_first',\n",
       " 'diff_sst_4_min',\n",
       " 'diff_sst_4_max',\n",
       " 'range_sst_4',\n",
       " 'scale_sst_4',\n",
       " 'diff_sst_5_first',\n",
       " 'diff_sst_5_min',\n",
       " 'diff_sst_5_max',\n",
       " 'range_sst_5',\n",
       " 'scale_sst_5',\n",
       " 'diff_pres_1_first',\n",
       " 'diff_pres_1_min',\n",
       " 'diff_pres_1_max',\n",
       " 'range_pres_1',\n",
       " 'scale_pres_1',\n",
       " 'diff_ccsm3_month_1_first',\n",
       " 'diff_ccsm3_month_1_min',\n",
       " 'diff_ccsm3_month_1_max',\n",
       " 'range_ccsm3_month_1',\n",
       " 'scale_ccsm3_month_1',\n",
       " 'diff_sst_1_month_1_first',\n",
       " 'diff_sst_1_month_1_min',\n",
       " 'diff_sst_1_month_1_max',\n",
       " 'range_sst_1_month_1',\n",
       " 'scale_sst_1_month_1',\n",
       " 'sst_1_lag_1',\n",
       " 'sst_5_lag_1',\n",
       " 'sst_4_lag_1',\n",
       " 'sst_1_lag_1_season',\n",
       " 'sst_5_lag_1_season',\n",
       " 'sst_4_lag_1_season']"
      ]
     },
     "execution_count": 37,
     "metadata": {},
     "output_type": "execute_result"
    }
   ],
   "source": [
    "features"
   ]
  },
  {
   "cell_type": "code",
   "execution_count": null,
   "id": "06cb415e",
   "metadata": {},
   "outputs": [
    {
     "name": "stderr",
     "output_type": "stream",
     "text": [
      "5it [00:30,  6.16s/it]\n"
     ]
    },
    {
     "name": "stdout",
     "output_type": "stream",
     "text": [
      "(375734, 137) (375734,)\n"
     ]
    },
    {
     "name": "stderr",
     "output_type": "stream",
     "text": [
      "  0%|                                                                                                | 0/5 [00:00<?, ?it/s]Warning: less than 75% gpu memory available for training. Free: 2243.5625 Total: 24268.3125\n"
     ]
    },
    {
     "name": "stdout",
     "output_type": "stream",
     "text": [
      "Learning rate set to 0.019567\n",
      "0:\tlearn: 9.7071550\ttest: 9.6853663\tbest: 9.6853663 (0)\ttotal: 117ms\tremaining: 16h 17m 2s\n",
      "1000:\tlearn: 1.0474364\ttest: 1.0550155\tbest: 1.0550155 (1000)\ttotal: 48.7s\tremaining: 6h 44m 26s\n",
      "2000:\tlearn: 0.8029100\ttest: 0.8137739\tbest: 0.8137739 (2000)\ttotal: 1m 39s\tremaining: 6h 53m 40s\n",
      "3000:\tlearn: 0.6792555\ttest: 0.6929631\tbest: 0.6929631 (3000)\ttotal: 2m 5s\tremaining: 5h 47m 28s\n"
     ]
    }
   ],
   "source": [
    "X = train_df[features].values\n",
    "y = train_df[target[0]].values\n",
    "\n",
    "skf = KFold(n_splits=5, random_state=2048, shuffle=True)\n",
    "skf.get_n_splits(X, y)\n",
    "\n",
    "train_index_list = []\n",
    "test_index_list = []\n",
    "train_x_list = []\n",
    "val_x_list = []\n",
    "train_y_list = []\n",
    "val_y_list = []\n",
    "\n",
    "for i, (train_index, test_index) in tqdm(enumerate(skf.split(X, y))):\n",
    "    train_index_list.append(train_index)\n",
    "    test_index_list.append(test_index)\n",
    "\n",
    "    train_x_list.append(X[train_index, :])\n",
    "    val_x_list.append(X[test_index, :])\n",
    "    train_y_list.append(y[train_index])\n",
    "    val_y_list.append(y[test_index]) \n",
    "    \n",
    "   \n",
    "def train_catboost(x, y):\n",
    "    print(x.shape, y.shape)\n",
    "    \n",
    "    cat_models = []\n",
    "    for i in tqdm(range(5)):\n",
    "        train_x, val_x = train_x_list[i], val_x_list[i]\n",
    "        train_y, val_y = train_y_list[i], val_y_list[i]\n",
    "        \n",
    "        clf = CatBoostRegressor(iterations=500000, verbose=200, task_type=\"GPU\",\n",
    "                           devices='0:1')\n",
    "        clf.fit(train_x, train_y, eval_set=[(val_x, val_y)], verbose=1000, early_stopping_rounds=100)\n",
    "        cat_models.append(clf)\n",
    "    \n",
    "    return cat_models\n",
    "cat_models = train_catboost(X, y)\n",
    "\n",
    "preds = []\n",
    "for cat_model in tqdm(cat_models):\n",
    "    preds.append(cat_model.predict(test_df[features].values))\n",
    "s = 0\n",
    "for pred in preds:\n",
    "    s += pred\n",
    "s = s/5\n",
    "res_df = pd.read_csv('./sample_solution.csv')\n",
    "res_df['contest-tmp2m-14d__tmp2m'] = s\n",
    "res_df.to_csv('submission_fe_v9.csv', index=False)\n",
    "\n",
    "best_df = pd.read_csv('best_sub.csv')\n",
    "y_best = best_df[target[0]].values\n",
    "\n",
    "from numpy import dot\n",
    "from numpy.linalg import norm\n",
    "\n",
    "cos_sim = dot(y_best, s)/(norm(y_best)*norm(s))\n",
    "print(\"cos_sim with best submission:\", cos_sim)"
   ]
  },
  {
   "cell_type": "code",
   "execution_count": null,
   "id": "5cfa9540",
   "metadata": {},
   "outputs": [],
   "source": []
  }
 ],
 "metadata": {
  "kernelspec": {
   "display_name": "wids-env",
   "language": "python",
   "name": "wids-env"
  },
  "language_info": {
   "codemirror_mode": {
    "name": "ipython",
    "version": 3
   },
   "file_extension": ".py",
   "mimetype": "text/x-python",
   "name": "python",
   "nbconvert_exporter": "python",
   "pygments_lexer": "ipython3",
   "version": "3.7.15"
  }
 },
 "nbformat": 4,
 "nbformat_minor": 5
}
