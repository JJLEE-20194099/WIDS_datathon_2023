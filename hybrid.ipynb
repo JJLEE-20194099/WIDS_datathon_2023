{
 "cells": [
  {
   "cell_type": "code",
   "execution_count": 1,
   "metadata": {
    "executionInfo": {
     "elapsed": 7958,
     "status": "ok",
     "timestamp": 1677607398090,
     "user": {
      "displayName": "long le thanh",
      "userId": "10883027320373224628"
     },
     "user_tz": -420
    },
    "id": "gcqcpMtsA0Q9"
   },
   "outputs": [],
   "source": [
    "import numpy as np\n",
    "import pandas as pd\n",
    "import seaborn as sns\n",
    "import matplotlib.pyplot as plt\n",
    "from tqdm import tqdm\n",
    "import os\n",
    "import io\n",
    "os.environ['TF_CPP_MIN_LOG_LEVEL'] = '3'\n",
    "\n",
    "import numpy as np\n",
    "import pandas as pd\n",
    "\n",
    "\n"
   ]
  },
  {
   "cell_type": "code",
   "execution_count": 2,
   "metadata": {
    "executionInfo": {
     "elapsed": 54,
     "status": "ok",
     "timestamp": 1677607398093,
     "user": {
      "displayName": "long le thanh",
      "userId": "10883027320373224628"
     },
     "user_tz": -420
    },
    "id": "7n49kfmYA1Gk"
   },
   "outputs": [],
   "source": [
    "exclude_cols = ['index', 'startdate']\n",
    "temporal_attrs = [\n",
    " 'year',\n",
    " 'quarter',\n",
    " 'month',\n",
    " 'week',\n",
    " 'dayofyear',\n",
    " 'season',\n",
    " 'day_of_year_sin',\n",
    " 'day_of_year_cos',\n",
    " 'week_sin',\n",
    " 'week_cos',\n",
    " 'month_sin',\n",
    " 'month_cos',\n",
    " 'season_sin',\n",
    " 'season_cos',\n",
    " 'quarter_sin',\n",
    " 'quarter_cos']\n",
    "loc_attrs = ['lat', 'lon', 'loc_group']\n",
    "embedding_attrs = ['climateregions__climateregion']\n",
    "target=[\"contest-tmp2m-14d__tmp2m\"]\n",
    "\n",
    "spatial_features = ['nmme-tmp2m-56w__cancm3',\n",
    " 'contest-wind-h500-14d__wind-hgt-500',\n",
    " 'contest-pevpr-sfc-gauss-14d__pevpr',\n",
    " 'contest-slp-14d__slp',\n",
    " 'contest-prwtr-eatm-14d__prwtr',\n",
    " 'elevation__elevation',\n",
    " 'contest-pres-sfc-gauss-14d__pres',\n",
    " 'contest-wind-h100-14d__wind-hgt-100',\n",
    " 'climateregions__climateregion',\n",
    " 'nmme-tmp2m-34w__ccsm3',\n",
    " 'nmme-prate-34w__cfsv2',\n",
    " 'contest-precip-14d__precip',\n",
    " 'nmme-prate-34w__gfdlflora',\n",
    " 'wind-hgt-850-2010-9',\n",
    " 'wind-hgt-10-2010-3',\n",
    " 'nmme-prate-34w__nasa',\n",
    " 'sst-2010-2',\n",
    " 'contest-wind-uwnd-250-14d__wind-uwnd-250',\n",
    " 'wind-uwnd-250-2010-7',\n",
    " 'contest-rhum-sig995-14d__rhum',\n",
    " 'nmme0-prate-56w__cfsv20',\n",
    " 'contest-wind-uwnd-925-14d__wind-uwnd-925',\n",
    " 'contest-wind-vwnd-925-14d__wind-vwnd-925',\n",
    " 'nmme-prate-34w__nmmemean',\n",
    " 'contest-wind-h850-14d__wind-hgt-850',\n",
    " 'wind-uwnd-925-2010-15',\n",
    " 'contest-wind-vwnd-250-14d__wind-vwnd-250',\n",
    " 'sst-2010-9',\n",
    " 'wind-vwnd-250-2010-10',\n",
    " 'nmme0-prate-56w__nasa0',\n",
    " 'nmme-prate-34w__cancm3',\n",
    " 'nmme0-prate-56w__ccsm30',\n",
    " 'sst-2010-10',\n",
    " 'sst-2010-5',\n",
    " 'nmme-prate-56w__gfdlflora',\n",
    " 'wind-uwnd-250-2010-18',\n",
    " 'nmme0-prate-56w__gfdlflora0',\n",
    " 'nmme0-prate-56w__gfdl0',\n",
    " 'cancm30',\n",
    " 'nmme-prate-34w__ccsm4',\n",
    " 'nmme0-prate-34w__ccsm30',\n",
    " 'nmme0-prate-56w__cancm40',\n",
    " 'wind-vwnd-250-2010-13',\n",
    " 'nmme0-prate-34w__cfsv20',\n",
    " 'nmme0-prate-34w__cancm30',\n",
    " 'nmme0-prate-34w__gfdlflora0',\n",
    " 'wind-uwnd-250-2010-14',\n",
    " 'nmme-prate-34w__gfdl',\n",
    " 'nmme0-prate-34w__gfdl0',\n",
    " 'wind-vwnd-250-2010-1',\n",
    " 'nmme0-prate-56w__cancm30',\n",
    " 'nmme0-prate-34w__cancm40',\n",
    " 'nmme-prate-34w__cancm4',\n",
    " 'nmme-prate-56w__gfdlflorb',\n",
    " 'nmme0-prate-34w__nasa0',\n",
    " 'nmme0-tmp2m-34w__cancm30',\n",
    " 'wind-uwnd-250-2010-15',\n",
    " 'nmme-prate-34w__gfdlflorb',\n",
    " 'wind-hgt-10-2010-5',\n",
    " 'wind-hgt-500-2010-9',\n",
    " 'nmme0-prate-34w__ccsm40',\n",
    " 'nmme-prate-34w__ccsm3',\n",
    " 'nmme0-prate-56w__ccsm40',\n",
    " 'wind-hgt-500-2010-3',\n",
    " 'wind-hgt-10-2010-9',\n",
    " 'wind-vwnd-250-2010-11',\n",
    " 'wind-vwnd-250-2010-16',\n",
    " 'sst-2010-3',\n",
    " 'sst-2010-4',\n",
    " 'nmme-prate-56w__ccsm3',\n",
    " 'wind-vwnd-925-2010-15',\n",
    " 'wind-vwnd-250-2010-3',\n",
    " 'contest-wind-h10-14d__wind-hgt-10',\n",
    " 'wind-uwnd-250-2010-8',\n",
    " 'wind-uwnd-925-2010-20',\n",
    " 'sst-2010-7',\n",
    " 'wind-vwnd-925-2010-11',\n",
    " 'nmme-prate-56w__ccsm4',\n",
    " 'mei__nip',\n",
    " 'wind-uwnd-925-2010-19',\n",
    " 'mei__mei',\n",
    " 'wind-hgt-500-2010-1',\n",
    " 'wind-vwnd-925-2010-6',\n",
    " 'nmme0-prate-56w__nmme0mean',\n",
    " 'wind-uwnd-925-2010-13',\n",
    " 'wind-hgt-850-2010-8',\n",
    " 'wind-hgt-100-2010-8',\n",
    " 'wind-hgt-10-2010-2',\n",
    " 'wind-uwnd-925-2010-10',\n",
    " 'wind-uwnd-250-2010-4',\n",
    " 'nmme0-prate-34w__nmme0mean',\n",
    " 'mei__meirank',\n",
    " 'wind-hgt-500-2010-4',\n",
    " 'wind-vwnd-250-2010-4',\n",
    " 'wind-uwnd-925-2010-9',\n",
    " 'wind-vwnd-250-2010-12',\n",
    " 'wind-vwnd-250-2010-9',\n",
    " 'wind-hgt-850-2010-10',\n",
    " 'wind-hgt-850-2010-6',\n",
    " 'wind-uwnd-925-2010-17',\n",
    " 'sst-2010-8',\n",
    " 'wind-hgt-100-2010-4',\n",
    " 'sst-2010-1',\n",
    " 'wind-vwnd-925-2010-17',\n",
    " 'sst-2010-6',\n",
    " 'wind-hgt-100-2010-2',\n",
    " 'wind-hgt-10-2010-4',\n",
    " 'wind-uwnd-925-2010-6',\n",
    " 'wind-uwnd-250-2010-2',\n",
    " 'wind-uwnd-925-2010-12',\n",
    " 'wind-vwnd-250-2010-18',\n",
    " 'wind-vwnd-925-2010-2',\n",
    " 'wind-hgt-850-2010-7',\n",
    " 'wind-uwnd-250-2010-12',\n",
    " 'wind-hgt-100-2010-3',\n",
    " 'wind-vwnd-250-2010-5',\n",
    " 'wind-vwnd-925-2010-14',\n",
    " 'wind-uwnd-925-2010-3',\n",
    " 'wind-hgt-500-2010-5',\n",
    " 'wind-vwnd-925-2010-16',\n",
    " 'wind-uwnd-250-2010-20',\n",
    " 'wind-uwnd-250-2010-6',\n",
    " 'wind-vwnd-925-2010-18',\n",
    " 'wind-hgt-100-2010-9',\n",
    " 'wind-vwnd-925-2010-7',\n",
    " 'wind-vwnd-250-2010-14',\n",
    " 'wind-uwnd-250-2010-9']\n",
    " "
   ]
  },
  {
   "cell_type": "code",
   "execution_count": 3,
   "metadata": {
    "executionInfo": {
     "elapsed": 5669,
     "status": "ok",
     "timestamp": 1677607403746,
     "user": {
      "displayName": "long le thanh",
      "userId": "10883027320373224628"
     },
     "user_tz": -420
    },
    "id": "xzWErFV-A-o6"
   },
   "outputs": [],
   "source": [
    "df = pd.read_csv('all_df.csv')"
   ]
  },
  {
   "cell_type": "code",
   "execution_count": 4,
   "metadata": {
    "executionInfo": {
     "elapsed": 25,
     "status": "ok",
     "timestamp": 1677607403749,
     "user": {
      "displayName": "long le thanh",
      "userId": "10883027320373224628"
     },
     "user_tz": -420
    },
    "id": "q5Lr9KaUBufl"
   },
   "outputs": [],
   "source": [
    "region_df = pd.read_csv('./locations.csv')\n",
    "lat_lon_list = [(region_df['lat_index'].tolist()[i], region_df['lon_index'].tolist()[i]) for i in range(len(region_df))]"
   ]
  },
  {
   "cell_type": "code",
   "execution_count": 5,
   "metadata": {
    "executionInfo": {
     "elapsed": 25,
     "status": "ok",
     "timestamp": 1677607403750,
     "user": {
      "displayName": "long le thanh",
      "userId": "10883027320373224628"
     },
     "user_tz": -420
    },
    "id": "agGQcICeBGkE"
   },
   "outputs": [],
   "source": [
    "def get_neigh_region(lat_index, lon_index):\n",
    "    res = []\n",
    "    for i in [-2, -1, 0, 1, 2]:\n",
    "      for j in [-2, -1, 0, 1, 2]:\n",
    "        lat = lat_index + i\n",
    "        lon = lon_index + j \n",
    "        res.append((lat, lon))\n",
    "    return res          "
   ]
  },
  {
   "cell_type": "code",
   "execution_count": 6,
   "metadata": {
    "colab": {
     "base_uri": "https://localhost:8080/"
    },
    "executionInfo": {
     "elapsed": 25,
     "status": "ok",
     "timestamp": 1677607403751,
     "user": {
      "displayName": "long le thanh",
      "userId": "10883027320373224628"
     },
     "user_tz": -420
    },
    "id": "j1kGHNV-Bm5f",
    "outputId": "1e1140bc-f4b9-4b36-8f9f-07ac7ee3bba8"
   },
   "outputs": [
    {
     "name": "stderr",
     "output_type": "stream",
     "text": [
      "100%|████████████████████████████████████████████████████████████████████████████████| 514/514 [00:00<00:00, 101510.14it/s]\n"
     ]
    }
   ],
   "source": [
    "neigh_dict = dict()\n",
    "for lat_lon in tqdm(lat_lon_list):\n",
    "  neigh_list = get_neigh_region(lat_lon[0], lat_lon[1])\n",
    "  neigh_dict[f'{lat_lon[0]}, {lat_lon[1]}'] = neigh_list"
   ]
  },
  {
   "cell_type": "code",
   "execution_count": 7,
   "metadata": {
    "executionInfo": {
     "elapsed": 5811,
     "status": "ok",
     "timestamp": 1677607409540,
     "user": {
      "displayName": "long le thanh",
      "userId": "10883027320373224628"
     },
     "user_tz": -420
    },
    "id": "SRWbTwm3HI3j"
   },
   "outputs": [],
   "source": [
    "df['startdate'] = df['startdate'].astype('str')"
   ]
  },
  {
   "cell_type": "code",
   "execution_count": 8,
   "metadata": {
    "colab": {
     "base_uri": "https://localhost:8080/"
    },
    "executionInfo": {
     "elapsed": 25,
     "status": "ok",
     "timestamp": 1677607409541,
     "user": {
      "displayName": "long le thanh",
      "userId": "10883027320373224628"
     },
     "user_tz": -420
    },
    "id": "kvBBaEkCB172",
    "outputId": "94e79a2e-3f0b-47a3-994c-301ec0e770c9"
   },
   "outputs": [
    {
     "name": "stdout",
     "output_type": "stream",
     "text": [
      "All dates: 792\n"
     ]
    }
   ],
   "source": [
    "all_dates = df['startdate'].unique().tolist()\n",
    "print(\"All dates:\", len(all_dates))"
   ]
  },
  {
   "cell_type": "code",
   "execution_count": 9,
   "metadata": {
    "colab": {
     "base_uri": "https://localhost:8080/"
    },
    "executionInfo": {
     "elapsed": 32331,
     "status": "ok",
     "timestamp": 1677607441850,
     "user": {
      "displayName": "long le thanh",
      "userId": "10883027320373224628"
     },
     "user_tz": -420
    },
    "id": "ZJHgpB8nB622",
    "outputId": "c097b385-736c-43c6-f837-c5edf64b49bd"
   },
   "outputs": [
    {
     "name": "stderr",
     "output_type": "stream",
     "text": [
      "100%|████████████████████████████████████████████████████████████████████████████████████| 792/792 [00:22<00:00, 34.47it/s]\n"
     ]
    }
   ],
   "source": [
    "df_by_date_list = []\n",
    "\n",
    "for date in tqdm(all_dates):\n",
    "  df_by_date = df[df['startdate'] == date][spatial_features + ['lat-lon']]\n",
    "  df_by_date_list.append(df_by_date)"
   ]
  },
  {
   "cell_type": "code",
   "execution_count": 10,
   "metadata": {
    "executionInfo": {
     "elapsed": 53,
     "status": "ok",
     "timestamp": 1677607441852,
     "user": {
      "displayName": "long le thanh",
      "userId": "10883027320373224628"
     },
     "user_tz": -420
    },
    "id": "gfGHk0k_CxTW"
   },
   "outputs": [],
   "source": [
    "date_df = pd.DataFrame(columns=['date', 'index'])\n",
    "date_df['date'] = all_dates\n",
    "date_df['index'] = range(len(all_dates))\n",
    "date_dict = dict()\n",
    "for i, date in enumerate(all_dates):\n",
    "  date_dict[date] = i"
   ]
  },
  {
   "cell_type": "code",
   "execution_count": 11,
   "metadata": {
    "executionInfo": {
     "elapsed": 50,
     "status": "ok",
     "timestamp": 1677607441853,
     "user": {
      "displayName": "long le thanh",
      "userId": "10883027320373224628"
     },
     "user_tz": -420
    },
    "id": "q4lGGQAxCMHs"
   },
   "outputs": [],
   "source": [
    "def get_neigh(lat_index, lon_index, startdate):\n",
    "    date_idx = date_dict[startdate]\n",
    "    df_by_date = df_by_date_list[date_idx]\n",
    "    neigh_list = neigh_dict[f'{lat_index}, {lon_index}']\n",
    "    neigh_df = df_by_date[df_by_date['lat-lon'].isin(neigh_list)]\n",
    "    pseudo_neigh_len = len(neigh_list) - len(neigh_df)\n",
    "    pseudo_neigh_array = np.array([[neigh_df[c].mean() for c in spatial_features] for i in range(pseudo_neigh_len)])\n",
    "    real_neigh_array = neigh_df.values[:, :-1]\n",
    "    \n",
    "\n",
    "    res = np.concatenate([pseudo_neigh_array, real_neigh_array])\n",
    "\n",
    "    with open(f'./neigh_folder/{lat_index}_{lon_index}_{startdate}.npy', 'wb') as f:\n",
    "      np.save(f, res)\n",
    "    return f'./neigh_folder/{lat_index}_{lon_index}_{startdate}.npy'\n",
    "    \n",
    "    \n",
    " "
   ]
  },
  {
   "cell_type": "code",
   "execution_count": null,
   "metadata": {
    "id": "kj047bpmGqO1"
   },
   "outputs": [],
   "source": [
    "df['spatial_features'] = df.apply(lambda x: get_neigh(x['lat_index'], x['lon_index'], x['startdate']), axis=1)"
   ]
  },
  {
   "cell_type": "code",
   "execution_count": null,
   "metadata": {},
   "outputs": [],
   "source": []
  }
 ],
 "metadata": {
  "colab": {
   "authorship_tag": "ABX9TyPSguFdeTuGzHy3HxZSYXRN",
   "provenance": []
  },
  "gpuClass": "standard",
  "kernelspec": {
   "display_name": "ml-env",
   "language": "python",
   "name": "ml-env"
  },
  "language_info": {
   "codemirror_mode": {
    "name": "ipython",
    "version": 3
   },
   "file_extension": ".py",
   "mimetype": "text/x-python",
   "name": "python",
   "nbconvert_exporter": "python",
   "pygments_lexer": "ipython3",
   "version": "3.9.7"
  }
 },
 "nbformat": 4,
 "nbformat_minor": 1
}
