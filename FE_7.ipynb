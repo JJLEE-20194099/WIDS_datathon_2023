{
 "cells": [
  {
   "cell_type": "code",
   "execution_count": 1,
   "id": "f63b11e7",
   "metadata": {},
   "outputs": [],
   "source": [
    "import numpy as np\n",
    "import pandas as pd\n",
    "import seaborn as sns\n",
    "import torch\n",
    "import torch.nn as nn\n",
    "import torch.nn.functional as f\n",
    "pd.set_option('display.max_columns', None)\n",
    "import matplotlib.pyplot as plt\n",
    "from sklearn.model_selection import train_test_split\n",
    "from torch.utils.data import DataLoader\n",
    "from sklearn import preprocessing\n",
    "from tqdm import tqdm\n",
    "from sklearn.preprocessing import FunctionTransformer\n",
    "import seaborn as sns \n",
    "from scipy import stats\n",
    "import statsmodels.api as sm\n",
    "\n",
    "from sklearn.ensemble import RandomForestRegressor, ExtraTreesRegressor, AdaBoostRegressor, BaggingRegressor, GradientBoostingRegressor\n",
    "from sklearn.tree import DecisionTreeRegressor\n",
    "from sklearn.linear_model import ElasticNet, Lasso\n",
    "from sklearn.feature_selection import SelectFromModel\n",
    "from sklearn.svm import SVR\n",
    "from sklearn.model_selection import KFold, cross_val_score\n",
    "from sklearn.pipeline import make_pipeline\n",
    "from sklearn.decomposition import PCA\n",
    "from sklearn.preprocessing import RobustScaler\n",
    "import h2o\n",
    "from h2o.automl import H2OAutoML\n",
    "from sklearn.base import BaseEstimator, TransformerMixin, RegressorMixin, clone\n",
    "from sklearn.neural_network import MLPRegressor\n",
    "from scipy.stats import norm\n",
    "import copy\n",
    "from sklearn.model_selection import KFold\n",
    "from catboost import CatBoostRegressor, Pool, metrics, cv\n",
    "import xgboost as xgb\n",
    "from scipy.stats import gmean\n",
    "from sklearn.impute import KNNImputer\n",
    "from sklearn.metrics import mean_squared_error\n",
    "from sklearn.preprocessing import LabelEncoder"
   ]
  },
  {
   "cell_type": "code",
   "execution_count": 2,
   "id": "b750100a",
   "metadata": {},
   "outputs": [],
   "source": [
    "add_train = pd.read_csv('./n_train.csv')\n",
    "add_test = pd.read_csv('./n_test.csv')"
   ]
  },
  {
   "cell_type": "code",
   "execution_count": 3,
   "id": "2a16533d",
   "metadata": {},
   "outputs": [
    {
     "data": {
      "text/plain": [
       "['sst-2010-1',\n",
       " 'sst-2010-2',\n",
       " 'sst-2010-3',\n",
       " 'sst-2010-4',\n",
       " 'sst-2010-5',\n",
       " 'sst-2010-6',\n",
       " 'sst-2010-7',\n",
       " 'sst-2010-8',\n",
       " 'sst-2010-9',\n",
       " 'sst-2010-10']"
      ]
     },
     "execution_count": 3,
     "metadata": {},
     "output_type": "execute_result"
    }
   ],
   "source": [
    "sst_col_list = [c for c in add_train.columns if 'sst' in c]\n",
    "sst_col_list"
   ]
  },
  {
   "cell_type": "code",
   "execution_count": 4,
   "id": "a47eb0e9",
   "metadata": {},
   "outputs": [],
   "source": [
    "climate_type_dict = {'1':'BSk',\n",
    " '9': 'Dfb',\n",
    " '4': 'Cfa',\n",
    " '7': 'Csb',\n",
    " '8': 'Dfa',\n",
    " '3': 'BWk',\n",
    " '10': 'Dfc',\n",
    " '2': 'BWh',\n",
    " '6': 'Csa',\n",
    " '11': 'Dsb',\n",
    " '0': 'BSh',\n",
    " '5': 'Cfb',\n",
    " '12': 'Dsc',\n",
    " '13': 'Dwa',\n",
    " '14': 'Dwb'}"
   ]
  },
  {
   "cell_type": "code",
   "execution_count": 5,
   "id": "6ab9423b",
   "metadata": {},
   "outputs": [],
   "source": [
    "all_cols = add_train.columns.tolist()"
   ]
  },
  {
   "cell_type": "code",
   "execution_count": 6,
   "id": "258cca0e",
   "metadata": {},
   "outputs": [],
   "source": [
    "target=[\"contest-tmp2m-14d__tmp2m\"]"
   ]
  },
  {
   "cell_type": "code",
   "execution_count": 7,
   "id": "657e29fb",
   "metadata": {},
   "outputs": [
    {
     "name": "stdout",
     "output_type": "stream",
     "text": [
      "climateregions__climateregion\n"
     ]
    }
   ],
   "source": [
    "train_df =  pd.read_csv('fe_v1_train.csv')\n",
    "test_df  =  pd.read_csv('fe_v1_test.csv')\n",
    "for c in train_df.columns:\n",
    "    if train_df[c].dtypes != 'float64':\n",
    "        print(c)"
   ]
  },
  {
   "cell_type": "code",
   "execution_count": 8,
   "id": "66b5ae01",
   "metadata": {},
   "outputs": [
    {
     "name": "stdout",
     "output_type": "stream",
     "text": [
      "Main features: 63\n"
     ]
    }
   ],
   "source": [
    "exclude_cols = ['index', 'startdate']\n",
    "best_cols = [c for c in train_df.columns if c not in exclude_cols and c not in target]\n",
    "print(\"Main features:\", len(best_cols))"
   ]
  },
  {
   "cell_type": "code",
   "execution_count": 9,
   "id": "10e85f8f",
   "metadata": {},
   "outputs": [],
   "source": [
    "train_df[sst_col_list] = add_train[sst_col_list]\n",
    "test_df[sst_col_list] = add_test[sst_col_list]"
   ]
  },
  {
   "cell_type": "code",
   "execution_count": 10,
   "id": "d79003b9",
   "metadata": {},
   "outputs": [
    {
     "name": "stdout",
     "output_type": "stream",
     "text": [
      "contest-precip-14d__precip\n"
     ]
    }
   ],
   "source": [
    "for c in all_cols:\n",
    "    if 'contest-precip-14d' in c:\n",
    "        print(c)"
   ]
  },
  {
   "cell_type": "code",
   "execution_count": 11,
   "id": "281ff6e9",
   "metadata": {},
   "outputs": [],
   "source": [
    "def calculate_season(month):\n",
    "    if month == 12 or month == 1 or month == 2:\n",
    "        return 4\n",
    "    if month == 9 or month == 10 or month == 11:\n",
    "        return 3\n",
    "    if month == 7 or month == 8 or month == 6:\n",
    "        return 2\n",
    "    if month == 3 or month == 4 or month == 5:\n",
    "        return 1"
   ]
  },
  {
   "cell_type": "code",
   "execution_count": 12,
   "id": "55ccb6d1",
   "metadata": {},
   "outputs": [],
   "source": [
    "train_df['month'] = add_train['month']\n",
    "test_df['month'] = add_test['month']\n",
    "\n",
    "train_df['season'] = train_df['month'].apply(calculate_season)\n",
    "test_df['season'] = test_df['month'].apply(calculate_season)\n",
    "\n",
    "train_df['loc_group'] = add_train['loc_group']\n",
    "test_df['loc_group'] = add_test['loc_group']\n",
    "\n",
    "train_df['year'] = add_train['year']\n",
    "test_df['year'] = add_test['year']\n",
    "\n",
    "def map_climate_type(x):\n",
    "    return climate_type_dict[str(x)]\n",
    "\n",
    "train_df['climate_type'] = train_df['climateregions__climateregion'].apply(map_climate_type)\n",
    "test_df['climate_type'] = train_df['climateregions__climateregion'].apply(map_climate_type)\n",
    "\n",
    "precip_col = 'contest-precip-14d__precip'\n",
    "wind_col = 'contest-wind-h500-14d__wind-hgt-500'\n",
    "\n",
    "group_cols = ['loc_group', 'climate_type', 'year', 'season', 'month']\n",
    "season_group_cols = ['loc_group', 'climate_type', 'year', 'season']\n"
   ]
  },
  {
   "cell_type": "code",
   "execution_count": 13,
   "id": "89eba818",
   "metadata": {},
   "outputs": [],
   "source": [
    "slp_col = 'contest-slp-14d__slp'\n",
    "ccsm3_col = 'nmme-tmp2m-34w__ccsm3'\n",
    "pres_col = 'contest-pres-sfc-gauss-14d__pres'\n",
    "precip_col = 'contest-precip-14d__precip'\n",
    "stt_col = 'sst-2010-1'\n",
    "sst_col_5 = 'sst-2010-5'\n",
    "sst_col_3 = 'sst-2010-3'\n",
    "sst_col_4 = 'sst-2010-4'"
   ]
  },
  {
   "cell_type": "code",
   "execution_count": 14,
   "id": "f2835671",
   "metadata": {},
   "outputs": [
    {
     "name": "stdout",
     "output_type": "stream",
     "text": [
      "74839.94 102845.57\n",
      "75925.02 102119.93\n"
     ]
    }
   ],
   "source": [
    "print(train_df[pres_col].min(), train_df[pres_col].max())\n",
    "print(test_df[pres_col].min(), test_df[pres_col].max())"
   ]
  },
  {
   "cell_type": "code",
   "execution_count": 15,
   "id": "e4b5b1b8",
   "metadata": {},
   "outputs": [
    {
     "name": "stdout",
     "output_type": "stream",
     "text": [
      "-219.87 352.2\n",
      "89.73 345.33\n"
     ]
    }
   ],
   "source": [
    "print(train_df[stt_col].min(), train_df[stt_col].max())\n",
    "print(test_df[stt_col].min(), test_df[stt_col].max())"
   ]
  },
  {
   "cell_type": "code",
   "execution_count": 16,
   "id": "c7578466",
   "metadata": {},
   "outputs": [
    {
     "name": "stdout",
     "output_type": "stream",
     "text": [
      "-32.81 40.97\n",
      "-4.62 21.5\n"
     ]
    }
   ],
   "source": [
    "print(train_df[sst_col_5].min(), train_df[sst_col_5].max())\n",
    "print(test_df[sst_col_5].min(), test_df[sst_col_5].max())"
   ]
  },
  {
   "cell_type": "code",
   "execution_count": 17,
   "id": "9f0f35cb",
   "metadata": {},
   "outputs": [
    {
     "name": "stdout",
     "output_type": "stream",
     "text": [
      "0.0 502.63\n",
      "0.0 439.54\n"
     ]
    }
   ],
   "source": [
    "print(train_df[precip_col].min(), train_df[precip_col].max())\n",
    "print(test_df[precip_col].min(), test_df[precip_col].max())"
   ]
  },
  {
   "cell_type": "code",
   "execution_count": 18,
   "id": "9cc45f65",
   "metadata": {},
   "outputs": [],
   "source": [
    "# train_df[pres_col] = train_df[pres_col] - 100000\n",
    "# test_df[pres_col] = test_df[pres_col] - 100000"
   ]
  },
  {
   "cell_type": "code",
   "execution_count": 19,
   "id": "2cad7d7a",
   "metadata": {},
   "outputs": [
    {
     "name": "stdout",
     "output_type": "stream",
     "text": [
      "100379.21 103275.84\n",
      "100593.22 102258.27\n"
     ]
    }
   ],
   "source": [
    "print(train_df[slp_col].min(), train_df[slp_col].max())\n",
    "print(test_df[slp_col].min(), test_df[slp_col].max())"
   ]
  },
  {
   "cell_type": "code",
   "execution_count": 20,
   "id": "469893f4",
   "metadata": {},
   "outputs": [
    {
     "name": "stdout",
     "output_type": "stream",
     "text": [
      "5289.25 5958.2\n",
      "5504.59 5925.56\n"
     ]
    }
   ],
   "source": [
    "print(train_df[wind_col].min(), train_df[wind_col].max())\n",
    "print(test_df[wind_col].min(), test_df[wind_col].max())"
   ]
  },
  {
   "cell_type": "code",
   "execution_count": 21,
   "id": "856be928",
   "metadata": {},
   "outputs": [],
   "source": [
    "train_df[wind_col] = train_df[wind_col] - 5000\n",
    "test_df[wind_col] = test_df[wind_col] - 5000"
   ]
  },
  {
   "cell_type": "code",
   "execution_count": 22,
   "id": "f2e36dcb",
   "metadata": {},
   "outputs": [],
   "source": [
    "train_df[slp_col] = train_df[slp_col] - 100000\n",
    "test_df[slp_col] = test_df[slp_col] - 100000"
   ]
  },
  {
   "cell_type": "code",
   "execution_count": 23,
   "id": "e00fe5ce",
   "metadata": {},
   "outputs": [
    {
     "data": {
      "text/plain": [
       "(407088, 74)"
      ]
     },
     "execution_count": 23,
     "metadata": {},
     "output_type": "execute_result"
    }
   ],
   "source": [
    "check_cols = [c for c in train_df.columns if c not in target and c not in exclude_cols]\n",
    "\n",
    "df = pd.concat([train_df[check_cols], test_df[check_cols]], axis=0)\n",
    "df.shape"
   ]
  },
  {
   "cell_type": "code",
   "execution_count": 24,
   "id": "93c0c117",
   "metadata": {},
   "outputs": [],
   "source": [
    "def create_df_by_group_and_agg(dataframe, grouped_cols, action, my_col, return_name):\n",
    "    if action == \"first\":\n",
    "        ans_df = dataframe.groupby(grouped_cols)[my_col].first().reset_index()\n",
    "    elif action == \"min\":\n",
    "        ans_df = dataframe.groupby(grouped_cols)[my_col].min().reset_index()\n",
    "    elif action == \"max\":\n",
    "        ans_df = dataframe.groupby(grouped_cols)[my_col].max().reset_index()\n",
    "    elif action == \"mean\":\n",
    "        ans_df = dataframe.groupby(grouped_cols)[my_col].mean().reset_index()\n",
    "    print(\"Nan\")\n",
    "    ans_df = ans_df.rename(columns={my_col: return_name})\n",
    "    for c in ans_df.columns:\n",
    "        if ans_df[c].isnull().sum() > 0:\n",
    "            print(c, ans_df[c].isnull().sum())\n",
    "    return ans_df"
   ]
  },
  {
   "cell_type": "code",
   "execution_count": 25,
   "id": "a52a1320",
   "metadata": {},
   "outputs": [],
   "source": [
    "def assign_train_test_df(my_col):\n",
    "    train_df[my_col] = df[:len(train_df)][my_col].tolist()\n",
    "    test_df[my_col] = df[len(train_df):][my_col].tolist()"
   ]
  },
  {
   "cell_type": "code",
   "execution_count": 26,
   "id": "d981dfd7",
   "metadata": {},
   "outputs": [
    {
     "name": "stdout",
     "output_type": "stream",
     "text": [
      "Nan\n"
     ]
    },
    {
     "data": {
      "text/html": [
       "<div>\n",
       "<style scoped>\n",
       "    .dataframe tbody tr th:only-of-type {\n",
       "        vertical-align: middle;\n",
       "    }\n",
       "\n",
       "    .dataframe tbody tr th {\n",
       "        vertical-align: top;\n",
       "    }\n",
       "\n",
       "    .dataframe thead th {\n",
       "        text-align: right;\n",
       "    }\n",
       "</style>\n",
       "<table border=\"1\" class=\"dataframe\">\n",
       "  <thead>\n",
       "    <tr style=\"text-align: right;\">\n",
       "      <th></th>\n",
       "      <th>loc_group</th>\n",
       "      <th>climate_type</th>\n",
       "      <th>year</th>\n",
       "      <th>season</th>\n",
       "      <th>first_slp</th>\n",
       "    </tr>\n",
       "  </thead>\n",
       "  <tbody>\n",
       "    <tr>\n",
       "      <th>0</th>\n",
       "      <td>0</td>\n",
       "      <td>BSh</td>\n",
       "      <td>2014</td>\n",
       "      <td>3</td>\n",
       "      <td>1352.08</td>\n",
       "    </tr>\n",
       "    <tr>\n",
       "      <th>1</th>\n",
       "      <td>0</td>\n",
       "      <td>BSh</td>\n",
       "      <td>2014</td>\n",
       "      <td>4</td>\n",
       "      <td>2072.81</td>\n",
       "    </tr>\n",
       "    <tr>\n",
       "      <th>2</th>\n",
       "      <td>0</td>\n",
       "      <td>BSh</td>\n",
       "      <td>2015</td>\n",
       "      <td>1</td>\n",
       "      <td>1917.24</td>\n",
       "    </tr>\n",
       "  </tbody>\n",
       "</table>\n",
       "</div>"
      ],
      "text/plain": [
       "   loc_group climate_type  year  season  first_slp\n",
       "0          0          BSh  2014       3    1352.08\n",
       "1          0          BSh  2014       4    2072.81\n",
       "2          0          BSh  2015       1    1917.24"
      ]
     },
     "execution_count": 26,
     "metadata": {},
     "output_type": "execute_result"
    }
   ],
   "source": [
    "first_slp_df = create_df_by_group_and_agg(df, season_group_cols, \"first\", slp_col, \"first_slp\")\n",
    "first_slp_df.head(3)"
   ]
  },
  {
   "cell_type": "code",
   "execution_count": 27,
   "id": "9af3e9fd",
   "metadata": {},
   "outputs": [
    {
     "name": "stdout",
     "output_type": "stream",
     "text": [
      "Nan\n"
     ]
    },
    {
     "data": {
      "text/html": [
       "<div>\n",
       "<style scoped>\n",
       "    .dataframe tbody tr th:only-of-type {\n",
       "        vertical-align: middle;\n",
       "    }\n",
       "\n",
       "    .dataframe tbody tr th {\n",
       "        vertical-align: top;\n",
       "    }\n",
       "\n",
       "    .dataframe thead th {\n",
       "        text-align: right;\n",
       "    }\n",
       "</style>\n",
       "<table border=\"1\" class=\"dataframe\">\n",
       "  <thead>\n",
       "    <tr style=\"text-align: right;\">\n",
       "      <th></th>\n",
       "      <th>loc_group</th>\n",
       "      <th>climate_type</th>\n",
       "      <th>year</th>\n",
       "      <th>season</th>\n",
       "      <th>first_wind</th>\n",
       "    </tr>\n",
       "  </thead>\n",
       "  <tbody>\n",
       "    <tr>\n",
       "      <th>0</th>\n",
       "      <td>0</td>\n",
       "      <td>BSh</td>\n",
       "      <td>2014</td>\n",
       "      <td>3</td>\n",
       "      <td>899.66</td>\n",
       "    </tr>\n",
       "    <tr>\n",
       "      <th>1</th>\n",
       "      <td>0</td>\n",
       "      <td>BSh</td>\n",
       "      <td>2014</td>\n",
       "      <td>4</td>\n",
       "      <td>847.35</td>\n",
       "    </tr>\n",
       "    <tr>\n",
       "      <th>2</th>\n",
       "      <td>0</td>\n",
       "      <td>BSh</td>\n",
       "      <td>2015</td>\n",
       "      <td>1</td>\n",
       "      <td>804.47</td>\n",
       "    </tr>\n",
       "  </tbody>\n",
       "</table>\n",
       "</div>"
      ],
      "text/plain": [
       "   loc_group climate_type  year  season  first_wind\n",
       "0          0          BSh  2014       3      899.66\n",
       "1          0          BSh  2014       4      847.35\n",
       "2          0          BSh  2015       1      804.47"
      ]
     },
     "execution_count": 27,
     "metadata": {},
     "output_type": "execute_result"
    }
   ],
   "source": [
    "first_wind_df = create_df_by_group_and_agg(df, season_group_cols, \"first\", wind_col, \"first_wind\")\n",
    "first_wind_df.head(3)"
   ]
  },
  {
   "cell_type": "code",
   "execution_count": 28,
   "id": "c0bdcedd",
   "metadata": {},
   "outputs": [
    {
     "name": "stdout",
     "output_type": "stream",
     "text": [
      "Nan\n"
     ]
    },
    {
     "data": {
      "text/html": [
       "<div>\n",
       "<style scoped>\n",
       "    .dataframe tbody tr th:only-of-type {\n",
       "        vertical-align: middle;\n",
       "    }\n",
       "\n",
       "    .dataframe tbody tr th {\n",
       "        vertical-align: top;\n",
       "    }\n",
       "\n",
       "    .dataframe thead th {\n",
       "        text-align: right;\n",
       "    }\n",
       "</style>\n",
       "<table border=\"1\" class=\"dataframe\">\n",
       "  <thead>\n",
       "    <tr style=\"text-align: right;\">\n",
       "      <th></th>\n",
       "      <th>loc_group</th>\n",
       "      <th>climate_type</th>\n",
       "      <th>year</th>\n",
       "      <th>season</th>\n",
       "      <th>first_precip</th>\n",
       "    </tr>\n",
       "  </thead>\n",
       "  <tbody>\n",
       "    <tr>\n",
       "      <th>0</th>\n",
       "      <td>0</td>\n",
       "      <td>BSh</td>\n",
       "      <td>2014</td>\n",
       "      <td>3</td>\n",
       "      <td>94.31</td>\n",
       "    </tr>\n",
       "    <tr>\n",
       "      <th>1</th>\n",
       "      <td>0</td>\n",
       "      <td>BSh</td>\n",
       "      <td>2014</td>\n",
       "      <td>4</td>\n",
       "      <td>25.53</td>\n",
       "    </tr>\n",
       "    <tr>\n",
       "      <th>2</th>\n",
       "      <td>0</td>\n",
       "      <td>BSh</td>\n",
       "      <td>2015</td>\n",
       "      <td>1</td>\n",
       "      <td>31.94</td>\n",
       "    </tr>\n",
       "  </tbody>\n",
       "</table>\n",
       "</div>"
      ],
      "text/plain": [
       "   loc_group climate_type  year  season  first_precip\n",
       "0          0          BSh  2014       3         94.31\n",
       "1          0          BSh  2014       4         25.53\n",
       "2          0          BSh  2015       1         31.94"
      ]
     },
     "execution_count": 28,
     "metadata": {},
     "output_type": "execute_result"
    }
   ],
   "source": [
    "first_precip_df = create_df_by_group_and_agg(df, season_group_cols, \"first\", precip_col, \"first_precip\")\n",
    "first_precip_df.head(3)"
   ]
  },
  {
   "cell_type": "code",
   "execution_count": 29,
   "id": "a38a50e1",
   "metadata": {},
   "outputs": [
    {
     "name": "stdout",
     "output_type": "stream",
     "text": [
      "Nan\n"
     ]
    },
    {
     "data": {
      "text/html": [
       "<div>\n",
       "<style scoped>\n",
       "    .dataframe tbody tr th:only-of-type {\n",
       "        vertical-align: middle;\n",
       "    }\n",
       "\n",
       "    .dataframe tbody tr th {\n",
       "        vertical-align: top;\n",
       "    }\n",
       "\n",
       "    .dataframe thead th {\n",
       "        text-align: right;\n",
       "    }\n",
       "</style>\n",
       "<table border=\"1\" class=\"dataframe\">\n",
       "  <thead>\n",
       "    <tr style=\"text-align: right;\">\n",
       "      <th></th>\n",
       "      <th>loc_group</th>\n",
       "      <th>climate_type</th>\n",
       "      <th>year</th>\n",
       "      <th>season</th>\n",
       "      <th>first_ccsm3</th>\n",
       "    </tr>\n",
       "  </thead>\n",
       "  <tbody>\n",
       "    <tr>\n",
       "      <th>0</th>\n",
       "      <td>0</td>\n",
       "      <td>BSh</td>\n",
       "      <td>2014</td>\n",
       "      <td>3</td>\n",
       "      <td>27.57</td>\n",
       "    </tr>\n",
       "    <tr>\n",
       "      <th>1</th>\n",
       "      <td>0</td>\n",
       "      <td>BSh</td>\n",
       "      <td>2014</td>\n",
       "      <td>4</td>\n",
       "      <td>6.66</td>\n",
       "    </tr>\n",
       "    <tr>\n",
       "      <th>2</th>\n",
       "      <td>0</td>\n",
       "      <td>BSh</td>\n",
       "      <td>2015</td>\n",
       "      <td>1</td>\n",
       "      <td>15.25</td>\n",
       "    </tr>\n",
       "  </tbody>\n",
       "</table>\n",
       "</div>"
      ],
      "text/plain": [
       "   loc_group climate_type  year  season  first_ccsm3\n",
       "0          0          BSh  2014       3        27.57\n",
       "1          0          BSh  2014       4         6.66\n",
       "2          0          BSh  2015       1        15.25"
      ]
     },
     "execution_count": 29,
     "metadata": {},
     "output_type": "execute_result"
    }
   ],
   "source": [
    "first_ccsm3_df = create_df_by_group_and_agg(df, season_group_cols, \"first\", ccsm3_col, \"first_ccsm3\")\n",
    "first_ccsm3_df.head(3)"
   ]
  },
  {
   "cell_type": "code",
   "execution_count": 30,
   "id": "ec6a5160",
   "metadata": {},
   "outputs": [
    {
     "name": "stdout",
     "output_type": "stream",
     "text": [
      "Nan\n"
     ]
    },
    {
     "data": {
      "text/html": [
       "<div>\n",
       "<style scoped>\n",
       "    .dataframe tbody tr th:only-of-type {\n",
       "        vertical-align: middle;\n",
       "    }\n",
       "\n",
       "    .dataframe tbody tr th {\n",
       "        vertical-align: top;\n",
       "    }\n",
       "\n",
       "    .dataframe thead th {\n",
       "        text-align: right;\n",
       "    }\n",
       "</style>\n",
       "<table border=\"1\" class=\"dataframe\">\n",
       "  <thead>\n",
       "    <tr style=\"text-align: right;\">\n",
       "      <th></th>\n",
       "      <th>loc_group</th>\n",
       "      <th>climate_type</th>\n",
       "      <th>year</th>\n",
       "      <th>season</th>\n",
       "      <th>first_pres</th>\n",
       "    </tr>\n",
       "  </thead>\n",
       "  <tbody>\n",
       "    <tr>\n",
       "      <th>0</th>\n",
       "      <td>0</td>\n",
       "      <td>BSh</td>\n",
       "      <td>2014</td>\n",
       "      <td>3</td>\n",
       "      <td>27.57</td>\n",
       "    </tr>\n",
       "    <tr>\n",
       "      <th>1</th>\n",
       "      <td>0</td>\n",
       "      <td>BSh</td>\n",
       "      <td>2014</td>\n",
       "      <td>4</td>\n",
       "      <td>6.66</td>\n",
       "    </tr>\n",
       "    <tr>\n",
       "      <th>2</th>\n",
       "      <td>0</td>\n",
       "      <td>BSh</td>\n",
       "      <td>2015</td>\n",
       "      <td>1</td>\n",
       "      <td>15.25</td>\n",
       "    </tr>\n",
       "  </tbody>\n",
       "</table>\n",
       "</div>"
      ],
      "text/plain": [
       "   loc_group climate_type  year  season  first_pres\n",
       "0          0          BSh  2014       3       27.57\n",
       "1          0          BSh  2014       4        6.66\n",
       "2          0          BSh  2015       1       15.25"
      ]
     },
     "execution_count": 30,
     "metadata": {},
     "output_type": "execute_result"
    }
   ],
   "source": [
    "first_pres_df = create_df_by_group_and_agg(df, season_group_cols, \"first\", ccsm3_col, \"first_pres\")\n",
    "first_pres_df.head(3)"
   ]
  },
  {
   "cell_type": "code",
   "execution_count": 31,
   "id": "84ff605c",
   "metadata": {},
   "outputs": [],
   "source": [
    "def assign_train_test_sst_df(df, my_col):\n",
    "    train_df[my_col] = df[:len(train_df)][my_col].tolist()\n",
    "    test_df[my_col] = df[len(train_df):][my_col].tolist()\n",
    "    return df\n",
    "\n",
    "\n",
    "def create_sst_feature(df, sst_col_name, suffix_num, season_group_cols):\n",
    "    first_df = create_df_by_group_and_agg(df, season_group_cols, \"first\", sst_col_name, f\"first_sst_{suffix_num}\")\n",
    "    min_df = create_df_by_group_and_agg(df, season_group_cols, \"min\", sst_col_name, f\"min_sst_{suffix_num}\")\n",
    "    max_df = create_df_by_group_and_agg(df, season_group_cols, \"max\", sst_col_name, f\"max_sst_{suffix_num}\")\n",
    "    \n",
    "    df = df.merge(first_df, how='left', on=season_group_cols)\n",
    "    df[f'diff_sst_{suffix_num}_first'] = df[sst_col_name] - df[f\"first_sst_{suffix_num}\"]\n",
    "    print(\"Bug: \", df[f'diff_sst_{suffix_num}_first'].isnull().sum())\n",
    "    df = assign_train_test_sst_df(df, f'diff_sst_{suffix_num}_first')\n",
    "    \n",
    "    df = df.merge(min_df, how='left', on=season_group_cols)\n",
    "    df[f'diff_sst_{suffix_num}_min'] = df[sst_col_name] - df[f\"min_sst_{suffix_num}\"]\n",
    "    df = assign_train_test_sst_df(df, f'diff_sst_{suffix_num}_min')\n",
    "    \n",
    "    df = df.merge(max_df, how='left', on=season_group_cols)\n",
    "    df[f'diff_sst_{suffix_num}_max'] = df[sst_col_name] - df[f\"max_sst_{suffix_num}\"]\n",
    "    df = assign_train_test_sst_df(df, f'diff_sst_{suffix_num}_max')\n",
    "    \n",
    "    df[f'range_sst_{suffix_num}'] = df[f\"max_sst_{suffix_num}\"] - df[f\"min_sst_{suffix_num}\"]\n",
    "    df = assign_train_test_sst_df(df, f'range_sst_{suffix_num}')\n",
    "    \n",
    "    return [df, f'diff_sst_{suffix_num}_first',\n",
    "    f'diff_sst_{suffix_num}_min',\n",
    "    f'diff_sst_{suffix_num}_max',\n",
    "    f'range_sst_{suffix_num}']\n",
    "    \n"
   ]
  },
  {
   "cell_type": "code",
   "execution_count": 32,
   "id": "49685bc2",
   "metadata": {},
   "outputs": [
    {
     "name": "stdout",
     "output_type": "stream",
     "text": [
      "Nan\n"
     ]
    },
    {
     "data": {
      "text/html": [
       "<div>\n",
       "<style scoped>\n",
       "    .dataframe tbody tr th:only-of-type {\n",
       "        vertical-align: middle;\n",
       "    }\n",
       "\n",
       "    .dataframe tbody tr th {\n",
       "        vertical-align: top;\n",
       "    }\n",
       "\n",
       "    .dataframe thead th {\n",
       "        text-align: right;\n",
       "    }\n",
       "</style>\n",
       "<table border=\"1\" class=\"dataframe\">\n",
       "  <thead>\n",
       "    <tr style=\"text-align: right;\">\n",
       "      <th></th>\n",
       "      <th>loc_group</th>\n",
       "      <th>climate_type</th>\n",
       "      <th>year</th>\n",
       "      <th>season</th>\n",
       "      <th>first_sst</th>\n",
       "    </tr>\n",
       "  </thead>\n",
       "  <tbody>\n",
       "    <tr>\n",
       "      <th>0</th>\n",
       "      <td>0</td>\n",
       "      <td>BSh</td>\n",
       "      <td>2014</td>\n",
       "      <td>3</td>\n",
       "      <td>352.20</td>\n",
       "    </tr>\n",
       "    <tr>\n",
       "      <th>1</th>\n",
       "      <td>0</td>\n",
       "      <td>BSh</td>\n",
       "      <td>2014</td>\n",
       "      <td>4</td>\n",
       "      <td>-27.73</td>\n",
       "    </tr>\n",
       "    <tr>\n",
       "      <th>2</th>\n",
       "      <td>0</td>\n",
       "      <td>BSh</td>\n",
       "      <td>2015</td>\n",
       "      <td>1</td>\n",
       "      <td>-182.10</td>\n",
       "    </tr>\n",
       "  </tbody>\n",
       "</table>\n",
       "</div>"
      ],
      "text/plain": [
       "   loc_group climate_type  year  season  first_sst\n",
       "0          0          BSh  2014       3     352.20\n",
       "1          0          BSh  2014       4     -27.73\n",
       "2          0          BSh  2015       1    -182.10"
      ]
     },
     "execution_count": 32,
     "metadata": {},
     "output_type": "execute_result"
    }
   ],
   "source": [
    "first_sst_df = create_df_by_group_and_agg(df, season_group_cols, \"first\", stt_col, \"first_sst\")\n",
    "first_sst_df.head(3)"
   ]
  },
  {
   "cell_type": "code",
   "execution_count": 33,
   "id": "a676e9bd",
   "metadata": {},
   "outputs": [
    {
     "name": "stdout",
     "output_type": "stream",
     "text": [
      "Nan\n"
     ]
    },
    {
     "data": {
      "text/html": [
       "<div>\n",
       "<style scoped>\n",
       "    .dataframe tbody tr th:only-of-type {\n",
       "        vertical-align: middle;\n",
       "    }\n",
       "\n",
       "    .dataframe tbody tr th {\n",
       "        vertical-align: top;\n",
       "    }\n",
       "\n",
       "    .dataframe thead th {\n",
       "        text-align: right;\n",
       "    }\n",
       "</style>\n",
       "<table border=\"1\" class=\"dataframe\">\n",
       "  <thead>\n",
       "    <tr style=\"text-align: right;\">\n",
       "      <th></th>\n",
       "      <th>loc_group</th>\n",
       "      <th>climate_type</th>\n",
       "      <th>year</th>\n",
       "      <th>season</th>\n",
       "      <th>first_sst_5</th>\n",
       "    </tr>\n",
       "  </thead>\n",
       "  <tbody>\n",
       "    <tr>\n",
       "      <th>0</th>\n",
       "      <td>0</td>\n",
       "      <td>BSh</td>\n",
       "      <td>2014</td>\n",
       "      <td>3</td>\n",
       "      <td>19.29</td>\n",
       "    </tr>\n",
       "    <tr>\n",
       "      <th>1</th>\n",
       "      <td>0</td>\n",
       "      <td>BSh</td>\n",
       "      <td>2014</td>\n",
       "      <td>4</td>\n",
       "      <td>24.82</td>\n",
       "    </tr>\n",
       "    <tr>\n",
       "      <th>2</th>\n",
       "      <td>0</td>\n",
       "      <td>BSh</td>\n",
       "      <td>2015</td>\n",
       "      <td>1</td>\n",
       "      <td>23.47</td>\n",
       "    </tr>\n",
       "  </tbody>\n",
       "</table>\n",
       "</div>"
      ],
      "text/plain": [
       "   loc_group climate_type  year  season  first_sst_5\n",
       "0          0          BSh  2014       3        19.29\n",
       "1          0          BSh  2014       4        24.82\n",
       "2          0          BSh  2015       1        23.47"
      ]
     },
     "execution_count": 33,
     "metadata": {},
     "output_type": "execute_result"
    }
   ],
   "source": [
    "first_sst_5_df = create_df_by_group_and_agg(df, season_group_cols, \"first\", sst_col_5, \"first_sst_5\")\n",
    "first_sst_5_df.head(3)"
   ]
  },
  {
   "cell_type": "code",
   "execution_count": 34,
   "id": "122776f7",
   "metadata": {},
   "outputs": [
    {
     "name": "stdout",
     "output_type": "stream",
     "text": [
      "Nan\n"
     ]
    },
    {
     "data": {
      "text/html": [
       "<div>\n",
       "<style scoped>\n",
       "    .dataframe tbody tr th:only-of-type {\n",
       "        vertical-align: middle;\n",
       "    }\n",
       "\n",
       "    .dataframe tbody tr th {\n",
       "        vertical-align: top;\n",
       "    }\n",
       "\n",
       "    .dataframe thead th {\n",
       "        text-align: right;\n",
       "    }\n",
       "</style>\n",
       "<table border=\"1\" class=\"dataframe\">\n",
       "  <thead>\n",
       "    <tr style=\"text-align: right;\">\n",
       "      <th></th>\n",
       "      <th>loc_group</th>\n",
       "      <th>climate_type</th>\n",
       "      <th>year</th>\n",
       "      <th>season</th>\n",
       "      <th>first_sst_3</th>\n",
       "    </tr>\n",
       "  </thead>\n",
       "  <tbody>\n",
       "    <tr>\n",
       "      <th>0</th>\n",
       "      <td>0</td>\n",
       "      <td>BSh</td>\n",
       "      <td>2014</td>\n",
       "      <td>3</td>\n",
       "      <td>-19.69</td>\n",
       "    </tr>\n",
       "    <tr>\n",
       "      <th>1</th>\n",
       "      <td>0</td>\n",
       "      <td>BSh</td>\n",
       "      <td>2014</td>\n",
       "      <td>4</td>\n",
       "      <td>-49.72</td>\n",
       "    </tr>\n",
       "    <tr>\n",
       "      <th>2</th>\n",
       "      <td>0</td>\n",
       "      <td>BSh</td>\n",
       "      <td>2015</td>\n",
       "      <td>1</td>\n",
       "      <td>-52.32</td>\n",
       "    </tr>\n",
       "  </tbody>\n",
       "</table>\n",
       "</div>"
      ],
      "text/plain": [
       "   loc_group climate_type  year  season  first_sst_3\n",
       "0          0          BSh  2014       3       -19.69\n",
       "1          0          BSh  2014       4       -49.72\n",
       "2          0          BSh  2015       1       -52.32"
      ]
     },
     "execution_count": 34,
     "metadata": {},
     "output_type": "execute_result"
    }
   ],
   "source": [
    "first_sst_3_df = create_df_by_group_and_agg(df, season_group_cols, \"first\", sst_col_3, \"first_sst_3\")\n",
    "first_sst_3_df.head(3)"
   ]
  },
  {
   "cell_type": "code",
   "execution_count": 35,
   "id": "8ab23aaa",
   "metadata": {},
   "outputs": [
    {
     "name": "stdout",
     "output_type": "stream",
     "text": [
      "Nan\n"
     ]
    },
    {
     "data": {
      "text/html": [
       "<div>\n",
       "<style scoped>\n",
       "    .dataframe tbody tr th:only-of-type {\n",
       "        vertical-align: middle;\n",
       "    }\n",
       "\n",
       "    .dataframe tbody tr th {\n",
       "        vertical-align: top;\n",
       "    }\n",
       "\n",
       "    .dataframe thead th {\n",
       "        text-align: right;\n",
       "    }\n",
       "</style>\n",
       "<table border=\"1\" class=\"dataframe\">\n",
       "  <thead>\n",
       "    <tr style=\"text-align: right;\">\n",
       "      <th></th>\n",
       "      <th>loc_group</th>\n",
       "      <th>climate_type</th>\n",
       "      <th>year</th>\n",
       "      <th>season</th>\n",
       "      <th>first_sst_4</th>\n",
       "    </tr>\n",
       "  </thead>\n",
       "  <tbody>\n",
       "    <tr>\n",
       "      <th>0</th>\n",
       "      <td>0</td>\n",
       "      <td>BSh</td>\n",
       "      <td>2014</td>\n",
       "      <td>3</td>\n",
       "      <td>13.58</td>\n",
       "    </tr>\n",
       "    <tr>\n",
       "      <th>1</th>\n",
       "      <td>0</td>\n",
       "      <td>BSh</td>\n",
       "      <td>2014</td>\n",
       "      <td>4</td>\n",
       "      <td>-31.92</td>\n",
       "    </tr>\n",
       "    <tr>\n",
       "      <th>2</th>\n",
       "      <td>0</td>\n",
       "      <td>BSh</td>\n",
       "      <td>2015</td>\n",
       "      <td>1</td>\n",
       "      <td>28.51</td>\n",
       "    </tr>\n",
       "  </tbody>\n",
       "</table>\n",
       "</div>"
      ],
      "text/plain": [
       "   loc_group climate_type  year  season  first_sst_4\n",
       "0          0          BSh  2014       3        13.58\n",
       "1          0          BSh  2014       4       -31.92\n",
       "2          0          BSh  2015       1        28.51"
      ]
     },
     "execution_count": 35,
     "metadata": {},
     "output_type": "execute_result"
    }
   ],
   "source": [
    "first_sst_4_df = create_df_by_group_and_agg(df, season_group_cols, \"first\", sst_col_4, \"first_sst_4\")\n",
    "first_sst_4_df.head(3)"
   ]
  },
  {
   "cell_type": "code",
   "execution_count": 36,
   "id": "9119aee5",
   "metadata": {},
   "outputs": [
    {
     "name": "stdout",
     "output_type": "stream",
     "text": [
      "Nan\n"
     ]
    },
    {
     "data": {
      "text/html": [
       "<div>\n",
       "<style scoped>\n",
       "    .dataframe tbody tr th:only-of-type {\n",
       "        vertical-align: middle;\n",
       "    }\n",
       "\n",
       "    .dataframe tbody tr th {\n",
       "        vertical-align: top;\n",
       "    }\n",
       "\n",
       "    .dataframe thead th {\n",
       "        text-align: right;\n",
       "    }\n",
       "</style>\n",
       "<table border=\"1\" class=\"dataframe\">\n",
       "  <thead>\n",
       "    <tr style=\"text-align: right;\">\n",
       "      <th></th>\n",
       "      <th>loc_group</th>\n",
       "      <th>climate_type</th>\n",
       "      <th>year</th>\n",
       "      <th>season</th>\n",
       "      <th>min_sst</th>\n",
       "    </tr>\n",
       "  </thead>\n",
       "  <tbody>\n",
       "    <tr>\n",
       "      <th>0</th>\n",
       "      <td>0</td>\n",
       "      <td>BSh</td>\n",
       "      <td>2014</td>\n",
       "      <td>3</td>\n",
       "      <td>-24.17</td>\n",
       "    </tr>\n",
       "    <tr>\n",
       "      <th>1</th>\n",
       "      <td>0</td>\n",
       "      <td>BSh</td>\n",
       "      <td>2014</td>\n",
       "      <td>4</td>\n",
       "      <td>-110.84</td>\n",
       "    </tr>\n",
       "    <tr>\n",
       "      <th>2</th>\n",
       "      <td>0</td>\n",
       "      <td>BSh</td>\n",
       "      <td>2015</td>\n",
       "      <td>1</td>\n",
       "      <td>-183.70</td>\n",
       "    </tr>\n",
       "  </tbody>\n",
       "</table>\n",
       "</div>"
      ],
      "text/plain": [
       "   loc_group climate_type  year  season  min_sst\n",
       "0          0          BSh  2014       3   -24.17\n",
       "1          0          BSh  2014       4  -110.84\n",
       "2          0          BSh  2015       1  -183.70"
      ]
     },
     "execution_count": 36,
     "metadata": {},
     "output_type": "execute_result"
    }
   ],
   "source": [
    "min_sst_df = create_df_by_group_and_agg(df, season_group_cols, \"min\", stt_col, \"min_sst\")\n",
    "min_sst_df.head(3)"
   ]
  },
  {
   "cell_type": "code",
   "execution_count": 37,
   "id": "8538ddbe",
   "metadata": {},
   "outputs": [
    {
     "name": "stdout",
     "output_type": "stream",
     "text": [
      "Nan\n"
     ]
    },
    {
     "data": {
      "text/html": [
       "<div>\n",
       "<style scoped>\n",
       "    .dataframe tbody tr th:only-of-type {\n",
       "        vertical-align: middle;\n",
       "    }\n",
       "\n",
       "    .dataframe tbody tr th {\n",
       "        vertical-align: top;\n",
       "    }\n",
       "\n",
       "    .dataframe thead th {\n",
       "        text-align: right;\n",
       "    }\n",
       "</style>\n",
       "<table border=\"1\" class=\"dataframe\">\n",
       "  <thead>\n",
       "    <tr style=\"text-align: right;\">\n",
       "      <th></th>\n",
       "      <th>loc_group</th>\n",
       "      <th>climate_type</th>\n",
       "      <th>year</th>\n",
       "      <th>season</th>\n",
       "      <th>min_sst_5</th>\n",
       "    </tr>\n",
       "  </thead>\n",
       "  <tbody>\n",
       "    <tr>\n",
       "      <th>0</th>\n",
       "      <td>0</td>\n",
       "      <td>BSh</td>\n",
       "      <td>2014</td>\n",
       "      <td>3</td>\n",
       "      <td>7.98</td>\n",
       "    </tr>\n",
       "    <tr>\n",
       "      <th>1</th>\n",
       "      <td>0</td>\n",
       "      <td>BSh</td>\n",
       "      <td>2014</td>\n",
       "      <td>4</td>\n",
       "      <td>24.81</td>\n",
       "    </tr>\n",
       "    <tr>\n",
       "      <th>2</th>\n",
       "      <td>0</td>\n",
       "      <td>BSh</td>\n",
       "      <td>2015</td>\n",
       "      <td>1</td>\n",
       "      <td>-7.76</td>\n",
       "    </tr>\n",
       "  </tbody>\n",
       "</table>\n",
       "</div>"
      ],
      "text/plain": [
       "   loc_group climate_type  year  season  min_sst_5\n",
       "0          0          BSh  2014       3       7.98\n",
       "1          0          BSh  2014       4      24.81\n",
       "2          0          BSh  2015       1      -7.76"
      ]
     },
     "execution_count": 37,
     "metadata": {},
     "output_type": "execute_result"
    }
   ],
   "source": [
    "min_sst_5_df = create_df_by_group_and_agg(df, season_group_cols, \"min\", sst_col_5, \"min_sst_5\")\n",
    "min_sst_5_df.head(3)"
   ]
  },
  {
   "cell_type": "code",
   "execution_count": 38,
   "id": "9775ff6e",
   "metadata": {},
   "outputs": [
    {
     "name": "stdout",
     "output_type": "stream",
     "text": [
      "Nan\n"
     ]
    },
    {
     "data": {
      "text/html": [
       "<div>\n",
       "<style scoped>\n",
       "    .dataframe tbody tr th:only-of-type {\n",
       "        vertical-align: middle;\n",
       "    }\n",
       "\n",
       "    .dataframe tbody tr th {\n",
       "        vertical-align: top;\n",
       "    }\n",
       "\n",
       "    .dataframe thead th {\n",
       "        text-align: right;\n",
       "    }\n",
       "</style>\n",
       "<table border=\"1\" class=\"dataframe\">\n",
       "  <thead>\n",
       "    <tr style=\"text-align: right;\">\n",
       "      <th></th>\n",
       "      <th>loc_group</th>\n",
       "      <th>climate_type</th>\n",
       "      <th>year</th>\n",
       "      <th>season</th>\n",
       "      <th>min_sst_3</th>\n",
       "    </tr>\n",
       "  </thead>\n",
       "  <tbody>\n",
       "    <tr>\n",
       "      <th>0</th>\n",
       "      <td>0</td>\n",
       "      <td>BSh</td>\n",
       "      <td>2014</td>\n",
       "      <td>3</td>\n",
       "      <td>-51.03</td>\n",
       "    </tr>\n",
       "    <tr>\n",
       "      <th>1</th>\n",
       "      <td>0</td>\n",
       "      <td>BSh</td>\n",
       "      <td>2014</td>\n",
       "      <td>4</td>\n",
       "      <td>-49.72</td>\n",
       "    </tr>\n",
       "    <tr>\n",
       "      <th>2</th>\n",
       "      <td>0</td>\n",
       "      <td>BSh</td>\n",
       "      <td>2015</td>\n",
       "      <td>1</td>\n",
       "      <td>-54.28</td>\n",
       "    </tr>\n",
       "  </tbody>\n",
       "</table>\n",
       "</div>"
      ],
      "text/plain": [
       "   loc_group climate_type  year  season  min_sst_3\n",
       "0          0          BSh  2014       3     -51.03\n",
       "1          0          BSh  2014       4     -49.72\n",
       "2          0          BSh  2015       1     -54.28"
      ]
     },
     "execution_count": 38,
     "metadata": {},
     "output_type": "execute_result"
    }
   ],
   "source": [
    "min_sst_3_df = create_df_by_group_and_agg(df, season_group_cols, \"min\", sst_col_3, \"min_sst_3\")\n",
    "min_sst_3_df.head(3)"
   ]
  },
  {
   "cell_type": "code",
   "execution_count": 39,
   "id": "6b63d0ec",
   "metadata": {},
   "outputs": [
    {
     "name": "stdout",
     "output_type": "stream",
     "text": [
      "Nan\n"
     ]
    },
    {
     "data": {
      "text/html": [
       "<div>\n",
       "<style scoped>\n",
       "    .dataframe tbody tr th:only-of-type {\n",
       "        vertical-align: middle;\n",
       "    }\n",
       "\n",
       "    .dataframe tbody tr th {\n",
       "        vertical-align: top;\n",
       "    }\n",
       "\n",
       "    .dataframe thead th {\n",
       "        text-align: right;\n",
       "    }\n",
       "</style>\n",
       "<table border=\"1\" class=\"dataframe\">\n",
       "  <thead>\n",
       "    <tr style=\"text-align: right;\">\n",
       "      <th></th>\n",
       "      <th>loc_group</th>\n",
       "      <th>climate_type</th>\n",
       "      <th>year</th>\n",
       "      <th>season</th>\n",
       "      <th>min_sst_4</th>\n",
       "    </tr>\n",
       "  </thead>\n",
       "  <tbody>\n",
       "    <tr>\n",
       "      <th>0</th>\n",
       "      <td>0</td>\n",
       "      <td>BSh</td>\n",
       "      <td>2014</td>\n",
       "      <td>3</td>\n",
       "      <td>-43.36</td>\n",
       "    </tr>\n",
       "    <tr>\n",
       "      <th>1</th>\n",
       "      <td>0</td>\n",
       "      <td>BSh</td>\n",
       "      <td>2014</td>\n",
       "      <td>4</td>\n",
       "      <td>-31.92</td>\n",
       "    </tr>\n",
       "    <tr>\n",
       "      <th>2</th>\n",
       "      <td>0</td>\n",
       "      <td>BSh</td>\n",
       "      <td>2015</td>\n",
       "      <td>1</td>\n",
       "      <td>-47.34</td>\n",
       "    </tr>\n",
       "  </tbody>\n",
       "</table>\n",
       "</div>"
      ],
      "text/plain": [
       "   loc_group climate_type  year  season  min_sst_4\n",
       "0          0          BSh  2014       3     -43.36\n",
       "1          0          BSh  2014       4     -31.92\n",
       "2          0          BSh  2015       1     -47.34"
      ]
     },
     "execution_count": 39,
     "metadata": {},
     "output_type": "execute_result"
    }
   ],
   "source": [
    "min_sst_4_df = create_df_by_group_and_agg(df, season_group_cols, \"min\", sst_col_4, \"min_sst_4\")\n",
    "min_sst_4_df.head(3)"
   ]
  },
  {
   "cell_type": "code",
   "execution_count": 40,
   "id": "74bce092",
   "metadata": {},
   "outputs": [
    {
     "name": "stdout",
     "output_type": "stream",
     "text": [
      "Nan\n"
     ]
    },
    {
     "data": {
      "text/html": [
       "<div>\n",
       "<style scoped>\n",
       "    .dataframe tbody tr th:only-of-type {\n",
       "        vertical-align: middle;\n",
       "    }\n",
       "\n",
       "    .dataframe tbody tr th {\n",
       "        vertical-align: top;\n",
       "    }\n",
       "\n",
       "    .dataframe thead th {\n",
       "        text-align: right;\n",
       "    }\n",
       "</style>\n",
       "<table border=\"1\" class=\"dataframe\">\n",
       "  <thead>\n",
       "    <tr style=\"text-align: right;\">\n",
       "      <th></th>\n",
       "      <th>loc_group</th>\n",
       "      <th>climate_type</th>\n",
       "      <th>year</th>\n",
       "      <th>season</th>\n",
       "      <th>max_sst</th>\n",
       "    </tr>\n",
       "  </thead>\n",
       "  <tbody>\n",
       "    <tr>\n",
       "      <th>0</th>\n",
       "      <td>0</td>\n",
       "      <td>BSh</td>\n",
       "      <td>2014</td>\n",
       "      <td>3</td>\n",
       "      <td>352.20</td>\n",
       "    </tr>\n",
       "    <tr>\n",
       "      <th>1</th>\n",
       "      <td>0</td>\n",
       "      <td>BSh</td>\n",
       "      <td>2014</td>\n",
       "      <td>4</td>\n",
       "      <td>-27.73</td>\n",
       "    </tr>\n",
       "    <tr>\n",
       "      <th>2</th>\n",
       "      <td>0</td>\n",
       "      <td>BSh</td>\n",
       "      <td>2015</td>\n",
       "      <td>1</td>\n",
       "      <td>15.72</td>\n",
       "    </tr>\n",
       "  </tbody>\n",
       "</table>\n",
       "</div>"
      ],
      "text/plain": [
       "   loc_group climate_type  year  season  max_sst\n",
       "0          0          BSh  2014       3   352.20\n",
       "1          0          BSh  2014       4   -27.73\n",
       "2          0          BSh  2015       1    15.72"
      ]
     },
     "execution_count": 40,
     "metadata": {},
     "output_type": "execute_result"
    }
   ],
   "source": [
    "max_sst_df = create_df_by_group_and_agg(df, season_group_cols, \"max\", stt_col, \"max_sst\")\n",
    "max_sst_df.head(3)"
   ]
  },
  {
   "cell_type": "code",
   "execution_count": 41,
   "id": "21637e4c",
   "metadata": {},
   "outputs": [
    {
     "name": "stdout",
     "output_type": "stream",
     "text": [
      "Nan\n"
     ]
    },
    {
     "data": {
      "text/html": [
       "<div>\n",
       "<style scoped>\n",
       "    .dataframe tbody tr th:only-of-type {\n",
       "        vertical-align: middle;\n",
       "    }\n",
       "\n",
       "    .dataframe tbody tr th {\n",
       "        vertical-align: top;\n",
       "    }\n",
       "\n",
       "    .dataframe thead th {\n",
       "        text-align: right;\n",
       "    }\n",
       "</style>\n",
       "<table border=\"1\" class=\"dataframe\">\n",
       "  <thead>\n",
       "    <tr style=\"text-align: right;\">\n",
       "      <th></th>\n",
       "      <th>loc_group</th>\n",
       "      <th>climate_type</th>\n",
       "      <th>year</th>\n",
       "      <th>season</th>\n",
       "      <th>max_sst_5</th>\n",
       "    </tr>\n",
       "  </thead>\n",
       "  <tbody>\n",
       "    <tr>\n",
       "      <th>0</th>\n",
       "      <td>0</td>\n",
       "      <td>BSh</td>\n",
       "      <td>2014</td>\n",
       "      <td>3</td>\n",
       "      <td>24.50</td>\n",
       "    </tr>\n",
       "    <tr>\n",
       "      <th>1</th>\n",
       "      <td>0</td>\n",
       "      <td>BSh</td>\n",
       "      <td>2014</td>\n",
       "      <td>4</td>\n",
       "      <td>27.65</td>\n",
       "    </tr>\n",
       "    <tr>\n",
       "      <th>2</th>\n",
       "      <td>0</td>\n",
       "      <td>BSh</td>\n",
       "      <td>2015</td>\n",
       "      <td>1</td>\n",
       "      <td>23.47</td>\n",
       "    </tr>\n",
       "  </tbody>\n",
       "</table>\n",
       "</div>"
      ],
      "text/plain": [
       "   loc_group climate_type  year  season  max_sst_5\n",
       "0          0          BSh  2014       3      24.50\n",
       "1          0          BSh  2014       4      27.65\n",
       "2          0          BSh  2015       1      23.47"
      ]
     },
     "execution_count": 41,
     "metadata": {},
     "output_type": "execute_result"
    }
   ],
   "source": [
    "max_sst_5_df = create_df_by_group_and_agg(df, season_group_cols, \"max\", sst_col_5, \"max_sst_5\")\n",
    "max_sst_5_df.head(3)"
   ]
  },
  {
   "cell_type": "code",
   "execution_count": 42,
   "id": "4b1453cc",
   "metadata": {},
   "outputs": [
    {
     "name": "stdout",
     "output_type": "stream",
     "text": [
      "Nan\n"
     ]
    },
    {
     "data": {
      "text/html": [
       "<div>\n",
       "<style scoped>\n",
       "    .dataframe tbody tr th:only-of-type {\n",
       "        vertical-align: middle;\n",
       "    }\n",
       "\n",
       "    .dataframe tbody tr th {\n",
       "        vertical-align: top;\n",
       "    }\n",
       "\n",
       "    .dataframe thead th {\n",
       "        text-align: right;\n",
       "    }\n",
       "</style>\n",
       "<table border=\"1\" class=\"dataframe\">\n",
       "  <thead>\n",
       "    <tr style=\"text-align: right;\">\n",
       "      <th></th>\n",
       "      <th>loc_group</th>\n",
       "      <th>climate_type</th>\n",
       "      <th>year</th>\n",
       "      <th>season</th>\n",
       "      <th>max_sst_3</th>\n",
       "    </tr>\n",
       "  </thead>\n",
       "  <tbody>\n",
       "    <tr>\n",
       "      <th>0</th>\n",
       "      <td>0</td>\n",
       "      <td>BSh</td>\n",
       "      <td>2014</td>\n",
       "      <td>3</td>\n",
       "      <td>-19.69</td>\n",
       "    </tr>\n",
       "    <tr>\n",
       "      <th>1</th>\n",
       "      <td>0</td>\n",
       "      <td>BSh</td>\n",
       "      <td>2014</td>\n",
       "      <td>4</td>\n",
       "      <td>-31.16</td>\n",
       "    </tr>\n",
       "    <tr>\n",
       "      <th>2</th>\n",
       "      <td>0</td>\n",
       "      <td>BSh</td>\n",
       "      <td>2015</td>\n",
       "      <td>1</td>\n",
       "      <td>-15.60</td>\n",
       "    </tr>\n",
       "  </tbody>\n",
       "</table>\n",
       "</div>"
      ],
      "text/plain": [
       "   loc_group climate_type  year  season  max_sst_3\n",
       "0          0          BSh  2014       3     -19.69\n",
       "1          0          BSh  2014       4     -31.16\n",
       "2          0          BSh  2015       1     -15.60"
      ]
     },
     "execution_count": 42,
     "metadata": {},
     "output_type": "execute_result"
    }
   ],
   "source": [
    "max_sst_3_df = create_df_by_group_and_agg(df, season_group_cols, \"max\", sst_col_3, \"max_sst_3\")\n",
    "max_sst_3_df.head(3)"
   ]
  },
  {
   "cell_type": "code",
   "execution_count": 43,
   "id": "23714415",
   "metadata": {},
   "outputs": [
    {
     "name": "stdout",
     "output_type": "stream",
     "text": [
      "Nan\n"
     ]
    },
    {
     "data": {
      "text/html": [
       "<div>\n",
       "<style scoped>\n",
       "    .dataframe tbody tr th:only-of-type {\n",
       "        vertical-align: middle;\n",
       "    }\n",
       "\n",
       "    .dataframe tbody tr th {\n",
       "        vertical-align: top;\n",
       "    }\n",
       "\n",
       "    .dataframe thead th {\n",
       "        text-align: right;\n",
       "    }\n",
       "</style>\n",
       "<table border=\"1\" class=\"dataframe\">\n",
       "  <thead>\n",
       "    <tr style=\"text-align: right;\">\n",
       "      <th></th>\n",
       "      <th>loc_group</th>\n",
       "      <th>climate_type</th>\n",
       "      <th>year</th>\n",
       "      <th>season</th>\n",
       "      <th>max_sst_4</th>\n",
       "    </tr>\n",
       "  </thead>\n",
       "  <tbody>\n",
       "    <tr>\n",
       "      <th>0</th>\n",
       "      <td>0</td>\n",
       "      <td>BSh</td>\n",
       "      <td>2014</td>\n",
       "      <td>3</td>\n",
       "      <td>13.58</td>\n",
       "    </tr>\n",
       "    <tr>\n",
       "      <th>1</th>\n",
       "      <td>0</td>\n",
       "      <td>BSh</td>\n",
       "      <td>2014</td>\n",
       "      <td>4</td>\n",
       "      <td>-3.56</td>\n",
       "    </tr>\n",
       "    <tr>\n",
       "      <th>2</th>\n",
       "      <td>0</td>\n",
       "      <td>BSh</td>\n",
       "      <td>2015</td>\n",
       "      <td>1</td>\n",
       "      <td>28.51</td>\n",
       "    </tr>\n",
       "  </tbody>\n",
       "</table>\n",
       "</div>"
      ],
      "text/plain": [
       "   loc_group climate_type  year  season  max_sst_4\n",
       "0          0          BSh  2014       3      13.58\n",
       "1          0          BSh  2014       4      -3.56\n",
       "2          0          BSh  2015       1      28.51"
      ]
     },
     "execution_count": 43,
     "metadata": {},
     "output_type": "execute_result"
    }
   ],
   "source": [
    "max_sst_4_df = create_df_by_group_and_agg(df, season_group_cols, \"max\", sst_col_4, \"max_sst_4\")\n",
    "max_sst_4_df.head(3)"
   ]
  },
  {
   "cell_type": "code",
   "execution_count": 44,
   "id": "82f437d2",
   "metadata": {
    "scrolled": true
   },
   "outputs": [
    {
     "name": "stdout",
     "output_type": "stream",
     "text": [
      "Nan\n"
     ]
    },
    {
     "data": {
      "text/html": [
       "<div>\n",
       "<style scoped>\n",
       "    .dataframe tbody tr th:only-of-type {\n",
       "        vertical-align: middle;\n",
       "    }\n",
       "\n",
       "    .dataframe tbody tr th {\n",
       "        vertical-align: top;\n",
       "    }\n",
       "\n",
       "    .dataframe thead th {\n",
       "        text-align: right;\n",
       "    }\n",
       "</style>\n",
       "<table border=\"1\" class=\"dataframe\">\n",
       "  <thead>\n",
       "    <tr style=\"text-align: right;\">\n",
       "      <th></th>\n",
       "      <th>loc_group</th>\n",
       "      <th>climate_type</th>\n",
       "      <th>year</th>\n",
       "      <th>season</th>\n",
       "      <th>month</th>\n",
       "      <th>first_slp_month</th>\n",
       "    </tr>\n",
       "  </thead>\n",
       "  <tbody>\n",
       "    <tr>\n",
       "      <th>0</th>\n",
       "      <td>0</td>\n",
       "      <td>BSh</td>\n",
       "      <td>2014</td>\n",
       "      <td>3</td>\n",
       "      <td>9</td>\n",
       "      <td>1352.08</td>\n",
       "    </tr>\n",
       "    <tr>\n",
       "      <th>1</th>\n",
       "      <td>0</td>\n",
       "      <td>BSh</td>\n",
       "      <td>2014</td>\n",
       "      <td>3</td>\n",
       "      <td>10</td>\n",
       "      <td>1254.96</td>\n",
       "    </tr>\n",
       "    <tr>\n",
       "      <th>2</th>\n",
       "      <td>0</td>\n",
       "      <td>BSh</td>\n",
       "      <td>2014</td>\n",
       "      <td>3</td>\n",
       "      <td>11</td>\n",
       "      <td>1952.19</td>\n",
       "    </tr>\n",
       "  </tbody>\n",
       "</table>\n",
       "</div>"
      ],
      "text/plain": [
       "   loc_group climate_type  year  season  month  first_slp_month\n",
       "0          0          BSh  2014       3      9          1352.08\n",
       "1          0          BSh  2014       3     10          1254.96\n",
       "2          0          BSh  2014       3     11          1952.19"
      ]
     },
     "execution_count": 44,
     "metadata": {},
     "output_type": "execute_result"
    }
   ],
   "source": [
    "first_slp_df_month = create_df_by_group_and_agg(df, group_cols, \"first\", slp_col, \"first_slp_month\")\n",
    "first_slp_df_month.head(3)"
   ]
  },
  {
   "cell_type": "code",
   "execution_count": 45,
   "id": "12de230a",
   "metadata": {},
   "outputs": [],
   "source": [
    "df = df.merge(first_slp_df, how='left', on=season_group_cols)\n",
    "df['diff_slp_first'] = df[slp_col] - df['first_slp']\n",
    "assign_train_test_df('diff_slp_first')"
   ]
  },
  {
   "cell_type": "code",
   "execution_count": 46,
   "id": "7c589eec",
   "metadata": {},
   "outputs": [],
   "source": [
    "df = df.merge(first_precip_df, how='left', on=season_group_cols)\n",
    "df['diff_precip_first'] = df[precip_col] - df['first_precip']\n",
    "assign_train_test_df('diff_precip_first')"
   ]
  },
  {
   "cell_type": "code",
   "execution_count": 47,
   "id": "61fcf9a5",
   "metadata": {},
   "outputs": [],
   "source": [
    "df = df.merge(first_sst_df, how='left', on=season_group_cols)\n",
    "df['diff_sst_first'] = df[stt_col] - df['first_sst']\n",
    "assign_train_test_df('diff_sst_first')"
   ]
  },
  {
   "cell_type": "code",
   "execution_count": 48,
   "id": "686fd1f7",
   "metadata": {},
   "outputs": [],
   "source": [
    "df = df.merge(first_sst_5_df, how='left', on=season_group_cols)\n",
    "df['diff_sst_5_first'] = df[sst_col_5] - df['first_sst_5']\n",
    "assign_train_test_df('diff_sst_5_first')"
   ]
  },
  {
   "cell_type": "code",
   "execution_count": 49,
   "id": "0f27dae7",
   "metadata": {},
   "outputs": [],
   "source": [
    "df = df.merge(first_sst_3_df, how='left', on=season_group_cols)\n",
    "df['diff_sst_3_first'] = df[sst_col_3] - df['first_sst_3']\n",
    "assign_train_test_df('diff_sst_3_first')"
   ]
  },
  {
   "cell_type": "code",
   "execution_count": 50,
   "id": "4de5de99",
   "metadata": {},
   "outputs": [],
   "source": [
    "df = df.merge(first_sst_4_df, how='left', on=season_group_cols)\n",
    "df['diff_sst_4_first'] = df[sst_col_4] - df['first_sst_4']\n",
    "assign_train_test_df('diff_sst_4_first')"
   ]
  },
  {
   "cell_type": "code",
   "execution_count": 51,
   "id": "6c0d0889",
   "metadata": {},
   "outputs": [],
   "source": [
    "df = df.merge(min_sst_df, how='left', on=season_group_cols)\n",
    "df['diff_sst_min'] = df[stt_col] - df['min_sst']\n",
    "assign_train_test_df('diff_sst_min')"
   ]
  },
  {
   "cell_type": "code",
   "execution_count": 52,
   "id": "8f2b200a",
   "metadata": {},
   "outputs": [],
   "source": [
    "df = df.merge(max_sst_df, how='left', on=season_group_cols)\n",
    "df['diff_sst_max'] = df['max_sst'] - df[stt_col]\n",
    "assign_train_test_df('diff_sst_max')"
   ]
  },
  {
   "cell_type": "code",
   "execution_count": 53,
   "id": "45a87000",
   "metadata": {},
   "outputs": [],
   "source": [
    "df = df.merge(max_sst_5_df, how='left', on=season_group_cols)\n",
    "df['diff_sst_5_max'] = df[sst_col_5] - df['max_sst_5']\n",
    "assign_train_test_df('diff_sst_5_max')"
   ]
  },
  {
   "cell_type": "code",
   "execution_count": 54,
   "id": "e1d444d3",
   "metadata": {},
   "outputs": [],
   "source": [
    "df = df.merge(max_sst_3_df, how='left', on=season_group_cols)\n",
    "df['diff_sst_3_max'] = df[sst_col_3] - df['max_sst_3']\n",
    "assign_train_test_df('diff_sst_3_max')"
   ]
  },
  {
   "cell_type": "code",
   "execution_count": 55,
   "id": "bb408ea3",
   "metadata": {},
   "outputs": [],
   "source": [
    "df = df.merge(max_sst_4_df, how='left', on=season_group_cols)\n",
    "df['diff_sst_4_max'] = df[sst_col_4] - df['max_sst_4']\n",
    "assign_train_test_df('diff_sst_4_max')"
   ]
  },
  {
   "cell_type": "code",
   "execution_count": 56,
   "id": "21937156",
   "metadata": {},
   "outputs": [],
   "source": [
    "df = df.merge(min_sst_5_df, how='left', on=season_group_cols)\n",
    "df['diff_sst_5_min'] = df[sst_col_5] - df['min_sst_5']\n",
    "assign_train_test_df('diff_sst_5_min')"
   ]
  },
  {
   "cell_type": "code",
   "execution_count": 57,
   "id": "57e35be4",
   "metadata": {},
   "outputs": [],
   "source": [
    "df = df.merge(min_sst_3_df, how='left', on=season_group_cols)\n",
    "df['diff_sst_3_min'] = df[sst_col_3] - df['min_sst_3']\n",
    "assign_train_test_df('diff_sst_3_min')"
   ]
  },
  {
   "cell_type": "code",
   "execution_count": 58,
   "id": "e2fc939f",
   "metadata": {},
   "outputs": [],
   "source": [
    "df = df.merge(min_sst_4_df, how='left', on=season_group_cols)\n",
    "df['diff_sst_4_min'] = df[sst_col_3] - df['min_sst_4']\n",
    "assign_train_test_df('diff_sst_4_min')"
   ]
  },
  {
   "cell_type": "code",
   "execution_count": 59,
   "id": "0df28569",
   "metadata": {},
   "outputs": [],
   "source": [
    "df = df.merge(first_pres_df, how='left', on=season_group_cols)\n",
    "df['diff_pres_first'] = df[pres_col] - df['first_pres']\n",
    "assign_train_test_df('diff_pres_first')"
   ]
  },
  {
   "cell_type": "code",
   "execution_count": 60,
   "id": "5f0c2fd8",
   "metadata": {},
   "outputs": [],
   "source": [
    "df = df.merge(first_wind_df, how='left', on=season_group_cols)\n",
    "df['diff_wind_first'] = df[wind_col] - df['first_wind']\n",
    "assign_train_test_df('diff_wind_first')"
   ]
  },
  {
   "cell_type": "code",
   "execution_count": 61,
   "id": "fbd4808f",
   "metadata": {},
   "outputs": [],
   "source": [
    "df = df.merge(first_ccsm3_df, how='left', on=season_group_cols)\n",
    "df['diff_ccsm3_first'] = df[ccsm3_col] - df['first_ccsm3']\n",
    "assign_train_test_df('diff_ccsm3_first')"
   ]
  },
  {
   "cell_type": "code",
   "execution_count": 62,
   "id": "f3fab9ab",
   "metadata": {},
   "outputs": [],
   "source": [
    "# df[f'{precip_col}_bins'] = pd.qcut(df[precip_col], q=5, labels=[f'{precip_col}_{i}' for i in range(5)])\n",
    "# le = LabelEncoder().fit(np.unique(df[f'{precip_col}_bins'].unique().tolist()))\n",
    "# df[f'{precip_col}_bins'] = le.transform(df[f'{precip_col}_bins']) + 1\n",
    "# df[f'{precip_col}_bins'] = df[f'{precip_col}_bins'].replace(np.nan, 0).astype('int').astype('category')\n",
    "# assign_train_test_df(f'{precip_col}_bins')"
   ]
  },
  {
   "cell_type": "code",
   "execution_count": 63,
   "id": "c30565f9",
   "metadata": {},
   "outputs": [],
   "source": [
    "df['range_sst'] = df['max_sst'] - df['min_sst']\n",
    "assign_train_test_df('range_sst')"
   ]
  },
  {
   "cell_type": "code",
   "execution_count": 64,
   "id": "de107ae0",
   "metadata": {},
   "outputs": [],
   "source": [
    "df['range_sst_5'] = df['max_sst_5'] - df['min_sst_5']\n",
    "assign_train_test_df('range_sst_5')"
   ]
  },
  {
   "cell_type": "code",
   "execution_count": 65,
   "id": "4782c3a1",
   "metadata": {},
   "outputs": [],
   "source": [
    "df['range_sst_3'] = df['max_sst_3'] - df['min_sst_3']\n",
    "assign_train_test_df('range_sst_3')"
   ]
  },
  {
   "cell_type": "code",
   "execution_count": 66,
   "id": "6ddd1f77",
   "metadata": {},
   "outputs": [],
   "source": [
    "df['range_sst_4'] = df['max_sst_4'] - df['min_sst_4']\n",
    "assign_train_test_df('range_sst_4')"
   ]
  },
  {
   "cell_type": "code",
   "execution_count": 67,
   "id": "4dbcb313",
   "metadata": {},
   "outputs": [
    {
     "data": {
      "text/plain": [
       "['sst-2010-1',\n",
       " 'sst-2010-2',\n",
       " 'sst-2010-3',\n",
       " 'sst-2010-4',\n",
       " 'sst-2010-5',\n",
       " 'sst-2010-6',\n",
       " 'sst-2010-7',\n",
       " 'sst-2010-8',\n",
       " 'sst-2010-9',\n",
       " 'sst-2010-10']"
      ]
     },
     "execution_count": 67,
     "metadata": {},
     "output_type": "execute_result"
    }
   ],
   "source": [
    "sst_col_list"
   ]
  },
  {
   "cell_type": "code",
   "execution_count": 68,
   "id": "aa84d32d",
   "metadata": {},
   "outputs": [
    {
     "name": "stdout",
     "output_type": "stream",
     "text": [
      "Nan\n",
      "Nan\n",
      "Nan\n",
      "Bug:  0\n",
      "Nan\n",
      "Nan\n",
      "Nan\n",
      "Bug:  0\n",
      "Nan\n",
      "Nan\n",
      "Nan\n",
      "Bug:  0\n",
      "Nan\n",
      "Nan\n",
      "Nan\n",
      "Bug:  0\n",
      "Nan\n",
      "Nan\n",
      "Nan\n",
      "Bug:  0\n"
     ]
    }
   ],
   "source": [
    "sst_10_res = create_sst_feature(df, 'sst-2010-10', 10, season_group_cols)\n",
    "df = sst_10_res[0]\n",
    "sst_feature_10 = sst_10_res[1:]\n",
    "\n",
    "sst_9_res = create_sst_feature(df, 'sst-2010-9', 9, season_group_cols)\n",
    "df = sst_9_res[0]\n",
    "sst_feature_9 = sst_9_res[1:]\n",
    "\n",
    "sst_8_res = create_sst_feature(df, 'sst-2010-8', 8, season_group_cols)\n",
    "df = sst_8_res[0]\n",
    "sst_feature_8 = sst_8_res[1:]\n",
    "\n",
    "sst_7_res = create_sst_feature(df, 'sst-2010-7', 7, season_group_cols)\n",
    "df = sst_7_res[0]\n",
    "sst_feature_7 = sst_7_res[1:]\n",
    "\n",
    "sst_6_res = create_sst_feature(df, 'sst-2010-6', 6, season_group_cols)\n",
    "df = sst_6_res[0]\n",
    "sst_feature_6 = sst_6_res[1:]\n"
   ]
  },
  {
   "cell_type": "code",
   "execution_count": 69,
   "id": "a5ec3a09",
   "metadata": {},
   "outputs": [],
   "source": [
    "features = best_cols + [\n",
    "    'diff_slp_first',\n",
    "    'diff_wind_first',\n",
    "    'diff_sst_first',\n",
    "    'diff_precip_first',\n",
    "    'diff_sst_min',\n",
    "    'diff_sst_max',\n",
    "    'range_sst',\n",
    "    'diff_sst_5_first',\n",
    "    'diff_sst_5_min',\n",
    "    'diff_sst_5_max',\n",
    "    'range_sst_5',\n",
    "    'diff_sst_3_first',\n",
    "    'diff_sst_3_min',\n",
    "    'diff_sst_3_max',\n",
    "    'range_sst_3',\n",
    "    'diff_sst_4_first',\n",
    "    'diff_sst_4_min',\n",
    "    'diff_sst_4_max',\n",
    "    'range_sst_4'\n",
    "] + sst_feature_10 + sst_feature_9 + sst_feature_8 + sst_feature_7 + sst_feature_6"
   ]
  },
  {
   "cell_type": "code",
   "execution_count": 71,
   "id": "fd54e899",
   "metadata": {},
   "outputs": [
    {
     "data": {
      "text/plain": [
       "['contest-wind-h500-14d__wind-hgt-500',\n",
       " 'contest-slp-14d__slp',\n",
       " 'nmme-tmp2m-34w__ccsm3',\n",
       " 'elevation__elevation',\n",
       " 'lon',\n",
       " 'contest-prwtr-eatm-14d__prwtr',\n",
       " 'lat',\n",
       " 'climateregions__climateregion',\n",
       " 'contest-pres-sfc-gauss-14d__pres',\n",
       " 'season_sin',\n",
       " 'day_of_year_sin',\n",
       " 'contest-precip-14d__precip',\n",
       " 'contest-wind-uwnd-250-14d__wind-uwnd-250',\n",
       " 'nmme-prate-34w__cfsv2',\n",
       " 'nmme-prate-34w__nasa',\n",
       " 'nmme-prate-56w__gfdlflora',\n",
       " 'wind-uwnd-250-2010-7',\n",
       " 'contest-wind-vwnd-925-14d__wind-vwnd-925',\n",
       " 'nmme-prate-34w__nmmemean',\n",
       " 'nmme0-prate-34w__ccsm30',\n",
       " 'contest-wind-h850-14d__wind-hgt-850',\n",
       " 'contest-wind-uwnd-925-14d__wind-uwnd-925',\n",
       " 'nmme0-prate-56w__cfsv20',\n",
       " 'nmme-prate-34w__cancm3',\n",
       " 'contest-rhum-sig995-14d__rhum',\n",
       " 'nmme-prate-34w__gfdlflorb',\n",
       " 'wind-hgt-850-2010-4',\n",
       " 'contest-wind-vwnd-250-14d__wind-vwnd-250',\n",
       " 'wind-hgt-100-2010-2',\n",
       " 'wind-uwnd-250-2010-18',\n",
       " 'wind-hgt-10-2010-5',\n",
       " 'wind-uwnd-250-2010-15',\n",
       " 'wind-uwnd-250-2010-4',\n",
       " 'nmme0-prate-56w__nasa0',\n",
       " 'nmme0-prate-34w__cfsv20',\n",
       " 'wind-vwnd-250-2010-10',\n",
       " 'contest-wind-h10-14d__wind-hgt-10',\n",
       " 'wind-uwnd-925-2010-15',\n",
       " 'wind-vwnd-250-2010-3',\n",
       " 'nmme-prate-34w__cancm4',\n",
       " 'sst-2010-4',\n",
       " 'nmme0-prate-56w__ccsm30',\n",
       " 'wind-uwnd-250-2010-16',\n",
       " 'nmme0-prate-34w__gfdl0',\n",
       " 'nmme0-prate-56w__cancm40',\n",
       " 'sst-2010-1',\n",
       " 'sst-2010-3',\n",
       " 'wind-uwnd-250-2010-14',\n",
       " 'nmme0-prate-34w__gfdlflora0',\n",
       " 'nmme-prate-34w__gfdl',\n",
       " 'wind-hgt-850-2010-9',\n",
       " 'wind-vwnd-250-2010-1',\n",
       " 'sst-2010-5',\n",
       " 'cancm30',\n",
       " 'nmme-prate-34w__ccsm4',\n",
       " 'nmme0-prate-34w__nasa0',\n",
       " 'wind-hgt-500-2010-9',\n",
       " 'nmme0-prate-34w__cancm30',\n",
       " 'wind-vwnd-250-2010-13',\n",
       " 'wind_diff',\n",
       " 'wind_diff_min',\n",
       " 'wind_diff_min_month',\n",
       " 'wind_diff_month',\n",
       " 'diff_slp_first',\n",
       " 'diff_wind_first',\n",
       " 'diff_sst_first',\n",
       " 'diff_precip_first',\n",
       " 'diff_sst_min',\n",
       " 'diff_sst_max',\n",
       " 'range_sst',\n",
       " 'diff_sst_5_first',\n",
       " 'diff_sst_5_min',\n",
       " 'diff_sst_5_max',\n",
       " 'range_sst_5',\n",
       " 'diff_sst_3_first',\n",
       " 'diff_sst_3_min',\n",
       " 'diff_sst_3_max',\n",
       " 'range_sst_3',\n",
       " 'diff_sst_4_first',\n",
       " 'diff_sst_4_min',\n",
       " 'diff_sst_4_max',\n",
       " 'range_sst_4',\n",
       " 'diff_sst_10_first',\n",
       " 'diff_sst_10_min',\n",
       " 'diff_sst_10_max',\n",
       " 'range_sst_10',\n",
       " 'diff_sst_9_first',\n",
       " 'diff_sst_9_min',\n",
       " 'diff_sst_9_max',\n",
       " 'range_sst_9',\n",
       " 'diff_sst_8_first',\n",
       " 'diff_sst_8_min',\n",
       " 'diff_sst_8_max',\n",
       " 'range_sst_8',\n",
       " 'diff_sst_7_first',\n",
       " 'diff_sst_7_min',\n",
       " 'diff_sst_7_max',\n",
       " 'range_sst_7',\n",
       " 'diff_sst_6_first',\n",
       " 'diff_sst_6_min',\n",
       " 'diff_sst_6_max',\n",
       " 'range_sst_6']"
      ]
     },
     "execution_count": 71,
     "metadata": {},
     "output_type": "execute_result"
    }
   ],
   "source": [
    "features"
   ]
  },
  {
   "cell_type": "code",
   "execution_count": 73,
   "id": "67bd89c6",
   "metadata": {},
   "outputs": [
    {
     "name": "stderr",
     "output_type": "stream",
     "text": [
      "5it [00:06,  1.22s/it]\n"
     ]
    },
    {
     "name": "stdout",
     "output_type": "stream",
     "text": [
      "(375734, 102) (375734,)\n"
     ]
    },
    {
     "name": "stderr",
     "output_type": "stream",
     "text": [
      "\r",
      "  0%|                                                                                                | 0/5 [00:00<?, ?it/s]"
     ]
    },
    {
     "name": "stdout",
     "output_type": "stream",
     "text": [
      "Learning rate set to 0.072699\n",
      "0:\tlearn: 9.2611105\ttest: 9.2407165\tbest: 9.2407165 (0)\ttotal: 15.3ms\tremaining: 1m 16s\n",
      "200:\tlearn: 1.1660103\ttest: 1.1725193\tbest: 1.1725193 (200)\ttotal: 1.3s\tremaining: 31.1s\n",
      "400:\tlearn: 0.9147284\ttest: 0.9242998\tbest: 0.9242998 (400)\ttotal: 2.62s\tremaining: 30s\n",
      "600:\tlearn: 0.7870463\ttest: 0.7991306\tbest: 0.7991306 (600)\ttotal: 4.07s\tremaining: 29.8s\n",
      "800:\tlearn: 0.7053582\ttest: 0.7190579\tbest: 0.7190579 (800)\ttotal: 5.46s\tremaining: 28.6s\n",
      "1000:\tlearn: 0.6481017\ttest: 0.6630057\tbest: 0.6630057 (1000)\ttotal: 6.62s\tremaining: 26.5s\n",
      "1200:\tlearn: 0.5999496\ttest: 0.6160824\tbest: 0.6160824 (1200)\ttotal: 7.71s\tremaining: 24.4s\n",
      "1400:\tlearn: 0.5640710\ttest: 0.5814758\tbest: 0.5814758 (1400)\ttotal: 8.82s\tremaining: 22.7s\n",
      "1600:\tlearn: 0.5351161\ttest: 0.5534705\tbest: 0.5534705 (1600)\ttotal: 9.79s\tremaining: 20.8s\n",
      "1800:\tlearn: 0.5101857\ttest: 0.5294039\tbest: 0.5294039 (1800)\ttotal: 10.8s\tremaining: 19.1s\n",
      "2000:\tlearn: 0.4881082\ttest: 0.5083422\tbest: 0.5083422 (2000)\ttotal: 11.7s\tremaining: 17.5s\n",
      "2200:\tlearn: 0.4685462\ttest: 0.4896172\tbest: 0.4896172 (2200)\ttotal: 12.7s\tremaining: 16.1s\n",
      "2400:\tlearn: 0.4504988\ttest: 0.4724579\tbest: 0.4724579 (2400)\ttotal: 13.7s\tremaining: 14.8s\n",
      "2600:\tlearn: 0.4358781\ttest: 0.4584067\tbest: 0.4584067 (2600)\ttotal: 14.7s\tremaining: 13.6s\n",
      "2800:\tlearn: 0.4228564\ttest: 0.4461836\tbest: 0.4461836 (2800)\ttotal: 15.7s\tremaining: 12.3s\n",
      "3000:\tlearn: 0.4097339\ttest: 0.4338003\tbest: 0.4338003 (3000)\ttotal: 16.7s\tremaining: 11.1s\n",
      "3200:\tlearn: 0.3981734\ttest: 0.4229867\tbest: 0.4229867 (3200)\ttotal: 17.8s\tremaining: 9.99s\n",
      "3400:\tlearn: 0.3866366\ttest: 0.4119297\tbest: 0.4119297 (3400)\ttotal: 18.9s\tremaining: 8.88s\n",
      "3600:\tlearn: 0.3769660\ttest: 0.4029619\tbest: 0.4029619 (3600)\ttotal: 19.9s\tremaining: 7.72s\n",
      "3800:\tlearn: 0.3684839\ttest: 0.3952648\tbest: 0.3952648 (3800)\ttotal: 20.9s\tremaining: 6.58s\n",
      "4000:\tlearn: 0.3598027\ttest: 0.3872566\tbest: 0.3872566 (4000)\ttotal: 21.8s\tremaining: 5.45s\n",
      "4200:\tlearn: 0.3518816\ttest: 0.3799242\tbest: 0.3799242 (4200)\ttotal: 22.8s\tremaining: 4.33s\n",
      "4400:\tlearn: 0.3443171\ttest: 0.3729499\tbest: 0.3729499 (4400)\ttotal: 23.8s\tremaining: 3.24s\n",
      "4600:\tlearn: 0.3369770\ttest: 0.3659579\tbest: 0.3659579 (4600)\ttotal: 24.8s\tremaining: 2.15s\n",
      "4800:\tlearn: 0.3306650\ttest: 0.3601258\tbest: 0.3601258 (4800)\ttotal: 25.8s\tremaining: 1.07s\n",
      "4999:\tlearn: 0.3246181\ttest: 0.3545996\tbest: 0.3545996 (4999)\ttotal: 26.8s\tremaining: 0us\n",
      "bestTest = 0.3545995849\n",
      "bestIteration = 4999\n"
     ]
    },
    {
     "name": "stderr",
     "output_type": "stream",
     "text": [
      "\r",
      " 20%|█████████████████▌                                                                      | 1/5 [00:42<02:50, 42.65s/it]"
     ]
    },
    {
     "name": "stdout",
     "output_type": "stream",
     "text": [
      "Learning rate set to 0.072699\n",
      "0:\tlearn: 9.2537635\ttest: 9.2717026\tbest: 9.2717026 (0)\ttotal: 6.29ms\tremaining: 31.4s\n",
      "200:\tlearn: 1.1684870\ttest: 1.1702861\tbest: 1.1702861 (200)\ttotal: 1.09s\tremaining: 26.1s\n",
      "400:\tlearn: 0.9169614\ttest: 0.9211296\tbest: 0.9211296 (400)\ttotal: 2.21s\tremaining: 25.4s\n",
      "600:\tlearn: 0.7874302\ttest: 0.7945017\tbest: 0.7945017 (600)\ttotal: 3.25s\tremaining: 23.8s\n",
      "800:\tlearn: 0.7013302\ttest: 0.7106639\tbest: 0.7106639 (800)\ttotal: 4.34s\tremaining: 22.8s\n",
      "1000:\tlearn: 0.6430466\ttest: 0.6543777\tbest: 0.6543777 (1000)\ttotal: 5.41s\tremaining: 21.6s\n",
      "1200:\tlearn: 0.5968474\ttest: 0.6096039\tbest: 0.6096039 (1200)\ttotal: 6.39s\tremaining: 20.2s\n",
      "1400:\tlearn: 0.5615007\ttest: 0.5755872\tbest: 0.5755872 (1400)\ttotal: 7.44s\tremaining: 19.1s\n",
      "1600:\tlearn: 0.5310138\ttest: 0.5462234\tbest: 0.5462234 (1600)\ttotal: 8.44s\tremaining: 17.9s\n",
      "1800:\tlearn: 0.5056848\ttest: 0.5220496\tbest: 0.5220496 (1800)\ttotal: 9.48s\tremaining: 16.8s\n",
      "2000:\tlearn: 0.4835894\ttest: 0.5011421\tbest: 0.5011421 (2000)\ttotal: 10.5s\tremaining: 15.7s\n",
      "2200:\tlearn: 0.4652869\ttest: 0.4837605\tbest: 0.4837605 (2200)\ttotal: 11.5s\tremaining: 14.6s\n",
      "2400:\tlearn: 0.4483943\ttest: 0.4677000\tbest: 0.4677000 (2400)\ttotal: 12.5s\tremaining: 13.5s\n",
      "2600:\tlearn: 0.4339502\ttest: 0.4539956\tbest: 0.4539956 (2600)\ttotal: 13.4s\tremaining: 12.4s\n",
      "2800:\tlearn: 0.4201495\ttest: 0.4409718\tbest: 0.4409718 (2800)\ttotal: 14.4s\tremaining: 11.3s\n",
      "3000:\tlearn: 0.4075425\ttest: 0.4292140\tbest: 0.4292140 (3000)\ttotal: 15.4s\tremaining: 10.2s\n",
      "3200:\tlearn: 0.3961289\ttest: 0.4186424\tbest: 0.4186424 (3200)\ttotal: 16.4s\tremaining: 9.2s\n",
      "3400:\tlearn: 0.3860156\ttest: 0.4092993\tbest: 0.4092993 (3400)\ttotal: 17.4s\tremaining: 8.16s\n",
      "3600:\tlearn: 0.3763890\ttest: 0.4002175\tbest: 0.4002175 (3600)\ttotal: 18.4s\tremaining: 7.14s\n",
      "3800:\tlearn: 0.3673351\ttest: 0.3917953\tbest: 0.3917953 (3800)\ttotal: 19.4s\tremaining: 6.12s\n",
      "4000:\tlearn: 0.3591788\ttest: 0.3841823\tbest: 0.3841823 (4000)\ttotal: 20.5s\tremaining: 5.12s\n",
      "4200:\tlearn: 0.3518235\ttest: 0.3772648\tbest: 0.3772648 (4200)\ttotal: 21.7s\tremaining: 4.12s\n",
      "4400:\tlearn: 0.3446732\ttest: 0.3706494\tbest: 0.3706494 (4400)\ttotal: 22.9s\tremaining: 3.11s\n",
      "4600:\tlearn: 0.3376380\ttest: 0.3641496\tbest: 0.3641496 (4600)\ttotal: 23.8s\tremaining: 2.07s\n",
      "4800:\tlearn: 0.3314103\ttest: 0.3583533\tbest: 0.3583533 (4800)\ttotal: 24.8s\tremaining: 1.03s\n",
      "4999:\tlearn: 0.3251041\ttest: 0.3525189\tbest: 0.3525189 (4999)\ttotal: 25.9s\tremaining: 0us\n",
      "bestTest = 0.3525188926\n",
      "bestIteration = 4999\n"
     ]
    },
    {
     "name": "stderr",
     "output_type": "stream",
     "text": [
      "\r",
      " 40%|███████████████████████████████████▏                                                    | 2/5 [01:19<01:58, 39.48s/it]"
     ]
    },
    {
     "name": "stdout",
     "output_type": "stream",
     "text": [
      "Learning rate set to 0.072699\n",
      "0:\tlearn: 9.2531718\ttest: 9.2855747\tbest: 9.2855747 (0)\ttotal: 16.1ms\tremaining: 1m 20s\n",
      "200:\tlearn: 1.1752101\ttest: 1.1761128\tbest: 1.1761128 (200)\ttotal: 1.23s\tremaining: 29.4s\n",
      "400:\tlearn: 0.9076521\ttest: 0.9144521\tbest: 0.9144521 (400)\ttotal: 2.46s\tremaining: 28.2s\n",
      "600:\tlearn: 0.7731172\ttest: 0.7834087\tbest: 0.7834087 (600)\ttotal: 3.63s\tremaining: 26.6s\n",
      "800:\tlearn: 0.6944354\ttest: 0.7077017\tbest: 0.7077017 (800)\ttotal: 4.74s\tremaining: 24.9s\n",
      "1000:\tlearn: 0.6368914\ttest: 0.6517545\tbest: 0.6517545 (1000)\ttotal: 5.83s\tremaining: 23.3s\n",
      "1200:\tlearn: 0.5946406\ttest: 0.6107459\tbest: 0.6107459 (1200)\ttotal: 6.85s\tremaining: 21.7s\n",
      "1400:\tlearn: 0.5586258\ttest: 0.5754329\tbest: 0.5754329 (1400)\ttotal: 7.85s\tremaining: 20.2s\n",
      "1600:\tlearn: 0.5309602\ttest: 0.5484708\tbest: 0.5484708 (1600)\ttotal: 8.93s\tremaining: 19s\n",
      "1800:\tlearn: 0.5056608\ttest: 0.5240229\tbest: 0.5240229 (1800)\ttotal: 9.93s\tremaining: 17.6s\n",
      "2000:\tlearn: 0.4843651\ttest: 0.5034003\tbest: 0.5034003 (2000)\ttotal: 10.9s\tremaining: 16.4s\n",
      "2200:\tlearn: 0.4661686\ttest: 0.4859825\tbest: 0.4859825 (2200)\ttotal: 11.9s\tremaining: 15.2s\n",
      "2400:\tlearn: 0.4485461\ttest: 0.4688622\tbest: 0.4688622 (2400)\ttotal: 12.9s\tremaining: 14s\n",
      "2600:\tlearn: 0.4338288\ttest: 0.4547444\tbest: 0.4547444 (2600)\ttotal: 14s\tremaining: 12.9s\n",
      "2800:\tlearn: 0.4199571\ttest: 0.4412535\tbest: 0.4412535 (2800)\ttotal: 15.1s\tremaining: 11.9s\n",
      "3000:\tlearn: 0.4072891\ttest: 0.4291736\tbest: 0.4291736 (3000)\ttotal: 16.2s\tremaining: 10.8s\n",
      "3200:\tlearn: 0.3959820\ttest: 0.4183217\tbest: 0.4183217 (3200)\ttotal: 17.3s\tremaining: 9.73s\n",
      "3400:\tlearn: 0.3858962\ttest: 0.4089595\tbest: 0.4089595 (3400)\ttotal: 18.4s\tremaining: 8.64s\n",
      "3600:\tlearn: 0.3767835\ttest: 0.4003604\tbest: 0.4003604 (3600)\ttotal: 19.6s\tremaining: 7.62s\n",
      "3800:\tlearn: 0.3675748\ttest: 0.3916012\tbest: 0.3916012 (3800)\ttotal: 20.8s\tremaining: 6.55s\n",
      "4000:\tlearn: 0.3589536\ttest: 0.3835119\tbest: 0.3835119 (4000)\ttotal: 22s\tremaining: 5.49s\n",
      "4200:\tlearn: 0.3512815\ttest: 0.3762069\tbest: 0.3762069 (4200)\ttotal: 23.3s\tremaining: 4.44s\n",
      "4400:\tlearn: 0.3441807\ttest: 0.3695974\tbest: 0.3695974 (4400)\ttotal: 24.5s\tremaining: 3.33s\n",
      "4600:\tlearn: 0.3368982\ttest: 0.3627361\tbest: 0.3627361 (4600)\ttotal: 25.7s\tremaining: 2.23s\n",
      "4800:\tlearn: 0.3301767\ttest: 0.3564372\tbest: 0.3564372 (4800)\ttotal: 26.9s\tremaining: 1.12s\n",
      "4999:\tlearn: 0.3240613\ttest: 0.3507506\tbest: 0.3507506 (4999)\ttotal: 27.9s\tremaining: 0us\n",
      "bestTest = 0.350750593\n",
      "bestIteration = 4999\n"
     ]
    },
    {
     "name": "stderr",
     "output_type": "stream",
     "text": [
      "\r",
      " 60%|████████████████████████████████████████████████████▊                                   | 3/5 [01:59<01:18, 39.41s/it]"
     ]
    },
    {
     "name": "stdout",
     "output_type": "stream",
     "text": [
      "Learning rate set to 0.072699\n",
      "0:\tlearn: 9.2604847\ttest: 9.2566518\tbest: 9.2566518 (0)\ttotal: 6.11ms\tremaining: 30.5s\n",
      "200:\tlearn: 1.1705510\ttest: 1.1851050\tbest: 1.1851050 (200)\ttotal: 1.02s\tremaining: 24.4s\n",
      "400:\tlearn: 0.9117685\ttest: 0.9260603\tbest: 0.9260603 (400)\ttotal: 2.07s\tremaining: 23.7s\n",
      "600:\tlearn: 0.7866406\ttest: 0.8014117\tbest: 0.8014117 (600)\ttotal: 3.24s\tremaining: 23.7s\n",
      "800:\tlearn: 0.7025765\ttest: 0.7168772\tbest: 0.7168772 (800)\ttotal: 4.42s\tremaining: 23.2s\n",
      "1000:\tlearn: 0.6414158\ttest: 0.6565270\tbest: 0.6565270 (1000)\ttotal: 5.58s\tremaining: 22.3s\n",
      "1200:\tlearn: 0.5962571\ttest: 0.6122664\tbest: 0.6122664 (1200)\ttotal: 6.78s\tremaining: 21.5s\n",
      "1400:\tlearn: 0.5593838\ttest: 0.5761338\tbest: 0.5761338 (1400)\ttotal: 7.98s\tremaining: 20.5s\n",
      "1600:\tlearn: 0.5306782\ttest: 0.5480419\tbest: 0.5480419 (1600)\ttotal: 9.28s\tremaining: 19.7s\n",
      "1800:\tlearn: 0.5072231\ttest: 0.5256785\tbest: 0.5256785 (1800)\ttotal: 10.2s\tremaining: 18.2s\n",
      "2000:\tlearn: 0.4857337\ttest: 0.5050629\tbest: 0.5050629 (2000)\ttotal: 11.2s\tremaining: 16.7s\n",
      "2200:\tlearn: 0.4672218\ttest: 0.4875057\tbest: 0.4875057 (2200)\ttotal: 12.1s\tremaining: 15.4s\n",
      "2400:\tlearn: 0.4497912\ttest: 0.4707503\tbest: 0.4707503 (2400)\ttotal: 13.2s\tremaining: 14.3s\n",
      "2600:\tlearn: 0.4345946\ttest: 0.4561410\tbest: 0.4561410 (2600)\ttotal: 14.3s\tremaining: 13.2s\n",
      "2800:\tlearn: 0.4213680\ttest: 0.4435783\tbest: 0.4435783 (2800)\ttotal: 15.4s\tremaining: 12.1s\n",
      "3000:\tlearn: 0.4087242\ttest: 0.4316655\tbest: 0.4316655 (3000)\ttotal: 16.4s\tremaining: 10.9s\n",
      "3200:\tlearn: 0.3973908\ttest: 0.4210523\tbest: 0.4210523 (3200)\ttotal: 17.4s\tremaining: 9.8s\n",
      "3400:\tlearn: 0.3867125\ttest: 0.4109043\tbest: 0.4109043 (3400)\ttotal: 18.4s\tremaining: 8.66s\n",
      "3600:\tlearn: 0.3770201\ttest: 0.4018634\tbest: 0.4018634 (3600)\ttotal: 19.5s\tremaining: 7.57s\n",
      "3800:\tlearn: 0.3676509\ttest: 0.3930532\tbest: 0.3930532 (3800)\ttotal: 20.5s\tremaining: 6.47s\n",
      "4000:\tlearn: 0.3590004\ttest: 0.3848680\tbest: 0.3848680 (4000)\ttotal: 21.5s\tremaining: 5.37s\n",
      "4200:\tlearn: 0.3511035\ttest: 0.3775284\tbest: 0.3775284 (4200)\ttotal: 22.5s\tremaining: 4.29s\n",
      "4400:\tlearn: 0.3434684\ttest: 0.3703948\tbest: 0.3703948 (4400)\ttotal: 23.6s\tremaining: 3.22s\n",
      "4600:\tlearn: 0.3367262\ttest: 0.3642695\tbest: 0.3642695 (4600)\ttotal: 24.9s\tremaining: 2.16s\n",
      "4800:\tlearn: 0.3301878\ttest: 0.3582348\tbest: 0.3582348 (4800)\ttotal: 26.1s\tremaining: 1.08s\n",
      "4999:\tlearn: 0.3243009\ttest: 0.3528343\tbest: 0.3528343 (4999)\ttotal: 27.3s\tremaining: 0us\n",
      "bestTest = 0.3528343468\n",
      "bestIteration = 4999\n"
     ]
    },
    {
     "name": "stderr",
     "output_type": "stream",
     "text": [
      "\r",
      " 80%|██████████████████████████████████████████████████████████████████████▍                 | 4/5 [02:37<00:39, 39.15s/it]"
     ]
    },
    {
     "name": "stdout",
     "output_type": "stream",
     "text": [
      "Learning rate set to 0.072699\n",
      "0:\tlearn: 9.2625918\ttest: 9.2370575\tbest: 9.2370575 (0)\ttotal: 7.31ms\tremaining: 36.5s\n",
      "200:\tlearn: 1.1620783\ttest: 1.1682838\tbest: 1.1682838 (200)\ttotal: 1.08s\tremaining: 25.9s\n",
      "400:\tlearn: 0.9145381\ttest: 0.9237977\tbest: 0.9237977 (400)\ttotal: 2s\tremaining: 22.9s\n",
      "600:\tlearn: 0.7792359\ttest: 0.7901627\tbest: 0.7901627 (600)\ttotal: 3.07s\tremaining: 22.5s\n",
      "800:\tlearn: 0.6978835\ttest: 0.7100248\tbest: 0.7100248 (800)\ttotal: 4.19s\tremaining: 22s\n",
      "1000:\tlearn: 0.6416889\ttest: 0.6551254\tbest: 0.6551254 (1000)\ttotal: 5.34s\tremaining: 21.3s\n",
      "1200:\tlearn: 0.5961131\ttest: 0.6107320\tbest: 0.6107320 (1200)\ttotal: 6.51s\tremaining: 20.6s\n",
      "1400:\tlearn: 0.5576275\ttest: 0.5736581\tbest: 0.5736581 (1400)\ttotal: 7.73s\tremaining: 19.9s\n",
      "1600:\tlearn: 0.5308080\ttest: 0.5481636\tbest: 0.5481636 (1600)\ttotal: 8.89s\tremaining: 18.9s\n",
      "1800:\tlearn: 0.5072690\ttest: 0.5255428\tbest: 0.5255428 (1800)\ttotal: 10s\tremaining: 17.8s\n",
      "2000:\tlearn: 0.4854159\ttest: 0.5043549\tbest: 0.5043549 (2000)\ttotal: 11.1s\tremaining: 16.7s\n",
      "2200:\tlearn: 0.4668645\ttest: 0.4866887\tbest: 0.4866887 (2200)\ttotal: 12.2s\tremaining: 15.5s\n",
      "2400:\tlearn: 0.4493849\ttest: 0.4700324\tbest: 0.4700324 (2400)\ttotal: 13.2s\tremaining: 14.3s\n",
      "2600:\tlearn: 0.4340082\ttest: 0.4554353\tbest: 0.4554353 (2600)\ttotal: 14.2s\tremaining: 13.1s\n",
      "2800:\tlearn: 0.4211439\ttest: 0.4434939\tbest: 0.4434939 (2800)\ttotal: 15.1s\tremaining: 11.9s\n",
      "3000:\tlearn: 0.4086258\ttest: 0.4316976\tbest: 0.4316976 (3000)\ttotal: 16.1s\tremaining: 10.7s\n",
      "3200:\tlearn: 0.3973029\ttest: 0.4210413\tbest: 0.4210413 (3200)\ttotal: 17.1s\tremaining: 9.59s\n",
      "3400:\tlearn: 0.3869070\ttest: 0.4113182\tbest: 0.4113182 (3400)\ttotal: 18.1s\tremaining: 8.5s\n",
      "3600:\tlearn: 0.3772215\ttest: 0.4021626\tbest: 0.4021626 (3600)\ttotal: 19.1s\tremaining: 7.43s\n",
      "3800:\tlearn: 0.3680864\ttest: 0.3936049\tbest: 0.3936049 (3800)\ttotal: 20.1s\tremaining: 6.35s\n",
      "4000:\tlearn: 0.3595067\ttest: 0.3856487\tbest: 0.3856487 (4000)\ttotal: 21.1s\tremaining: 5.27s\n",
      "4200:\tlearn: 0.3517937\ttest: 0.3785422\tbest: 0.3785422 (4200)\ttotal: 22.1s\tremaining: 4.21s\n",
      "4400:\tlearn: 0.3441102\ttest: 0.3714303\tbest: 0.3714303 (4400)\ttotal: 23.2s\tremaining: 3.15s\n",
      "4600:\tlearn: 0.3373147\ttest: 0.3650940\tbest: 0.3650940 (4600)\ttotal: 24.2s\tremaining: 2.09s\n",
      "4800:\tlearn: 0.3305439\ttest: 0.3588477\tbest: 0.3588477 (4800)\ttotal: 25.4s\tremaining: 1.05s\n",
      "4999:\tlearn: 0.3244360\ttest: 0.3532320\tbest: 0.3532320 (4999)\ttotal: 26.5s\tremaining: 0us\n",
      "bestTest = 0.3532320258\n",
      "bestIteration = 4999\n"
     ]
    },
    {
     "name": "stderr",
     "output_type": "stream",
     "text": [
      "100%|████████████████████████████████████████████████████████████████████████████████████████| 5/5 [03:15<00:00, 39.14s/it]\n",
      "100%|████████████████████████████████████████████████████████████████████████████████████████| 5/5 [00:00<00:00, 20.39it/s]\n"
     ]
    },
    {
     "name": "stdout",
     "output_type": "stream",
     "text": [
      "cos_sim with best submission: 0.9997108872587708\n"
     ]
    }
   ],
   "source": [
    "X = train_df[features].values\n",
    "y = train_df[target[0]].values\n",
    "\n",
    "skf = KFold(n_splits=5, random_state=2048, shuffle=True)\n",
    "skf.get_n_splits(X, y)\n",
    "\n",
    "train_index_list = []\n",
    "test_index_list = []\n",
    "train_x_list = []\n",
    "val_x_list = []\n",
    "train_y_list = []\n",
    "val_y_list = []\n",
    "\n",
    "for i, (train_index, test_index) in tqdm(enumerate(skf.split(X, y))):\n",
    "    train_index_list.append(train_index)\n",
    "    test_index_list.append(test_index)\n",
    "\n",
    "    train_x_list.append(X[train_index, :])\n",
    "    val_x_list.append(X[test_index, :])\n",
    "    train_y_list.append(y[train_index])\n",
    "    val_y_list.append(y[test_index])    \n",
    "def train_catboost(x, y):\n",
    "    print(x.shape, y.shape)\n",
    "    \n",
    "    cat_models = []\n",
    "    for i in tqdm(range(5)):\n",
    "        train_x, val_x = train_x_list[i], val_x_list[i]\n",
    "        train_y, val_y = train_y_list[i], val_y_list[i]\n",
    "        clf = CatBoostRegressor(iterations=5000, verbose=200, task_type=\"GPU\",\n",
    "                           devices='0:1')\n",
    "        clf.fit(train_x, train_y, eval_set=[(val_x, val_y)], verbose=200, early_stopping_rounds=100)\n",
    "        cat_models.append(clf)\n",
    "    \n",
    "    return cat_models\n",
    "cat_models = train_catboost(X, y)\n",
    "\n",
    "preds = []\n",
    "for cat_model in tqdm(cat_models):\n",
    "    preds.append(cat_model.predict(test_df[features].values))\n",
    "s = 0\n",
    "for pred in preds:\n",
    "    s += pred\n",
    "s = s/5\n",
    "res_df = pd.read_csv('./sample_solution.csv')\n",
    "res_df['contest-tmp2m-14d__tmp2m'] = s\n",
    "res_df.to_csv('submission_fe_v3.csv', index=False)\n",
    "\n",
    "best_df = pd.read_csv('best_sub.csv')\n",
    "y_best = best_df[target[0]].values\n",
    "\n",
    "from numpy import dot\n",
    "from numpy.linalg import norm\n",
    "\n",
    "cos_sim = dot(y_best, s)/(norm(y_best)*norm(s))\n",
    "print(\"cos_sim with best submission:\", cos_sim)"
   ]
  },
  {
   "cell_type": "code",
   "execution_count": 74,
   "id": "e8e2f37c",
   "metadata": {},
   "outputs": [
    {
     "name": "stdout",
     "output_type": "stream",
     "text": [
      "cos_sim with best submission: 0.9997108872587708\n"
     ]
    }
   ],
   "source": [
    "s = 0\n",
    "for pred in preds:\n",
    "    s += pred\n",
    "s = s/5\n",
    "res_df = pd.read_csv('./sample_solution.csv')\n",
    "res_df['contest-tmp2m-14d__tmp2m'] = s\n",
    "res_df.to_csv('submission_fe_v3.csv', index=False)\n",
    "\n",
    "best_df = pd.read_csv('best_sub.csv')\n",
    "y_best = best_df[target[0]].values\n",
    "\n",
    "from numpy import dot\n",
    "from numpy.linalg import norm\n",
    "\n",
    "cos_sim = dot(y_best, s)/(norm(y_best)*norm(s))\n",
    "print(\"cos_sim with best submission:\", cos_sim)"
   ]
  }
 ],
 "metadata": {
  "kernelspec": {
   "display_name": "wids-env",
   "language": "python",
   "name": "wids-env"
  },
  "language_info": {
   "codemirror_mode": {
    "name": "ipython",
    "version": 3
   },
   "file_extension": ".py",
   "mimetype": "text/x-python",
   "name": "python",
   "nbconvert_exporter": "python",
   "pygments_lexer": "ipython3",
   "version": "3.7.15"
  }
 },
 "nbformat": 4,
 "nbformat_minor": 5
}
