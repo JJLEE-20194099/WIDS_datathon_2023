{
 "cells": [
  {
   "cell_type": "code",
   "execution_count": 1,
   "id": "21f31e6d",
   "metadata": {},
   "outputs": [
    {
     "name": "stderr",
     "output_type": "stream",
     "text": [
      "/data/hieunm/anaconda3/envs/action-env/lib/python3.7/site-packages/tqdm/auto.py:22: TqdmWarning: IProgress not found. Please update jupyter and ipywidgets. See https://ipywidgets.readthedocs.io/en/stable/user_install.html\n",
      "  from .autonotebook import tqdm as notebook_tqdm\n"
     ]
    }
   ],
   "source": [
    "import numpy as np\n",
    "import pandas as pd\n",
    "import seaborn as sns\n",
    "import torch\n",
    "import torch.nn as nn\n",
    "import torch.nn.functional as f\n",
    "pd.set_option('display.max_columns', None)\n",
    "import matplotlib.pyplot as plt\n",
    "from sklearn.model_selection import train_test_split\n",
    "from torch.utils.data import DataLoader\n",
    "from sklearn import preprocessing\n",
    "from tqdm import tqdm\n",
    "from sklearn.preprocessing import FunctionTransformer\n",
    "import seaborn as sns \n",
    "from scipy import stats\n",
    "import statsmodels.api as sm\n",
    "\n",
    "from sklearn.ensemble import RandomForestRegressor, ExtraTreesRegressor, AdaBoostRegressor, BaggingRegressor, GradientBoostingRegressor\n",
    "from sklearn.tree import DecisionTreeRegressor\n",
    "from sklearn.linear_model import ElasticNet, Lasso\n",
    "from sklearn.feature_selection import SelectFromModel\n",
    "from sklearn.svm import SVR\n",
    "from sklearn.model_selection import KFold, cross_val_score\n",
    "from sklearn.pipeline import make_pipeline\n",
    "from sklearn.decomposition import PCA\n",
    "from sklearn.preprocessing import RobustScaler\n",
    "import h2o\n",
    "from h2o.automl import H2OAutoML\n",
    "from sklearn.base import BaseEstimator, TransformerMixin, RegressorMixin, clone\n",
    "from sklearn.neural_network import MLPRegressor\n",
    "from scipy.stats import norm\n",
    "import copy\n",
    "from sklearn.model_selection import KFold\n",
    "from catboost import CatBoostRegressor, Pool, metrics, cv\n",
    "import xgboost as xgb\n",
    "from scipy.stats import gmean"
   ]
  },
  {
   "cell_type": "code",
   "execution_count": 2,
   "id": "4ffcc07f",
   "metadata": {},
   "outputs": [],
   "source": [
    "train_df = pd.read_csv('./n_train.csv')\n",
    "test_df = pd.read_csv('./n_test.csv')"
   ]
  },
  {
   "cell_type": "code",
   "execution_count": 3,
   "id": "c93516e9",
   "metadata": {},
   "outputs": [
    {
     "name": "stdout",
     "output_type": "stream",
     "text": [
      "Main features: 240\n"
     ]
    }
   ],
   "source": [
    "exclude_cols = ['index', 'startdate']\n",
    "temporal_attrs = ['year', 'quarter', 'month', 'week', 'dayofyear', 'season', 'day_of_year_sin', 'day_of_year_cos', 'week_sin', 'week_cos', 'month_sin', 'month_cos', 'season_sin', 'season_cos', 'quarter_sin', 'quarter_cos']\n",
    "loc_attrs = ['lat', 'lon', 'loc_group']\n",
    "embedding_attrs = ['climateregions__climateregion']\n",
    "target=[\"contest-tmp2m-14d__tmp2m\"]\n",
    "main_attrs = [c for c in train_df.columns if c not in exclude_cols and c not in temporal_attrs and c not in loc_attrs and c not in target and c not in embedding_attrs]\n",
    "print(\"Main features:\", len(main_attrs))"
   ]
  },
  {
   "cell_type": "code",
   "execution_count": 4,
   "id": "bc8168c7",
   "metadata": {},
   "outputs": [],
   "source": [
    "train_independent_corr = train_df[main_attrs + temporal_attrs + loc_attrs + embedding_attrs].corr()\n",
    "train_seleted_corr_columns = np.full((train_independent_corr.shape[0],), True, dtype=bool)\n",
    "for i in range(train_independent_corr.shape[0]):\n",
    "    for j in range(i + 1, train_independent_corr.shape[0]):\n",
    "        if train_independent_corr.iloc[i, j] >= 0.85:\n",
    "            \n",
    "            if train_seleted_corr_columns[j]:\n",
    "                train_seleted_corr_columns[j] = False\n",
    "train_selected_columns = train_df[main_attrs + temporal_attrs + loc_attrs + embedding_attrs].columns[train_seleted_corr_columns]"
   ]
  },
  {
   "cell_type": "code",
   "execution_count": 8,
   "id": "d554d289",
   "metadata": {},
   "outputs": [
    {
     "name": "stdout",
     "output_type": "stream",
     "text": [
      "['contest-pevpr-sfc-gauss-14d__pevpr', 'nmme0-tmp2m-34w__cancm30', 'contest-wind-h10-14d__wind-hgt-10', 'contest-rhum-sig995-14d__rhum', 'nmme-prate-34w__cancm3', 'nmme-prate-34w__ccsm3', 'nmme-prate-34w__ccsm4', 'nmme-prate-34w__cfsv2', 'nmme-prate-34w__gfdl', 'nmme-prate-34w__gfdlflora', 'nmme-prate-34w__nasa', 'nmme0-prate-56w__cancm30', 'nmme0-prate-56w__cancm40', 'nmme0-prate-56w__ccsm30', 'nmme0-prate-56w__ccsm40', 'nmme0-prate-56w__cfsv20', 'nmme0-prate-56w__gfdlflora0', 'nmme0-prate-56w__gfdl0', 'nmme0-prate-56w__nasa0', 'nmme0-prate-34w__cancm40', 'contest-slp-14d__slp', 'contest-wind-vwnd-925-14d__wind-vwnd-925', 'contest-pres-sfc-gauss-14d__pres', 'contest-wind-uwnd-250-14d__wind-uwnd-250', 'contest-prwtr-eatm-14d__prwtr', 'contest-wind-vwnd-250-14d__wind-vwnd-250', 'contest-precip-14d__precip', 'contest-wind-h850-14d__wind-hgt-850', 'contest-wind-uwnd-925-14d__wind-uwnd-925', 'elevation__elevation', 'wind-vwnd-250-2010-1', 'wind-vwnd-250-2010-2', 'wind-vwnd-250-2010-3', 'wind-vwnd-250-2010-4', 'wind-vwnd-250-2010-5', 'wind-vwnd-250-2010-6', 'wind-vwnd-250-2010-7', 'wind-vwnd-250-2010-8', 'wind-vwnd-250-2010-9', 'wind-vwnd-250-2010-10', 'wind-vwnd-250-2010-11', 'wind-vwnd-250-2010-12', 'wind-vwnd-250-2010-13', 'wind-vwnd-250-2010-14', 'wind-vwnd-250-2010-15', 'wind-vwnd-250-2010-16', 'wind-vwnd-250-2010-17', 'wind-vwnd-250-2010-18', 'wind-vwnd-250-2010-19', 'wind-vwnd-250-2010-20', 'wind-uwnd-250-2010-2', 'wind-uwnd-250-2010-3', 'wind-uwnd-250-2010-4', 'wind-uwnd-250-2010-5', 'wind-uwnd-250-2010-6', 'wind-uwnd-250-2010-7', 'wind-uwnd-250-2010-8', 'wind-uwnd-250-2010-9', 'wind-uwnd-250-2010-10', 'wind-uwnd-250-2010-11', 'wind-uwnd-250-2010-12', 'wind-uwnd-250-2010-13', 'wind-uwnd-250-2010-14', 'wind-uwnd-250-2010-15', 'wind-uwnd-250-2010-16', 'wind-uwnd-250-2010-17', 'wind-uwnd-250-2010-18', 'wind-uwnd-250-2010-19', 'wind-uwnd-250-2010-20', 'mjo1d__phase', 'mjo1d__amplitude', 'mei__mei', 'mei__nip', 'wind-hgt-850-2010-1', 'wind-hgt-850-2010-2', 'wind-hgt-850-2010-3', 'wind-hgt-850-2010-4', 'wind-hgt-850-2010-5', 'wind-hgt-850-2010-6', 'wind-hgt-850-2010-7', 'wind-hgt-850-2010-8', 'wind-hgt-850-2010-9', 'wind-hgt-850-2010-10', 'sst-2010-2', 'sst-2010-3', 'sst-2010-4', 'sst-2010-5', 'sst-2010-6', 'sst-2010-7', 'sst-2010-8', 'sst-2010-9', 'sst-2010-10', 'wind-hgt-500-2010-2', 'wind-hgt-500-2010-3', 'wind-hgt-500-2010-4', 'wind-hgt-500-2010-5', 'wind-hgt-500-2010-6', 'wind-hgt-500-2010-7', 'wind-hgt-500-2010-8', 'wind-hgt-500-2010-9', 'wind-hgt-500-2010-10', 'wind-uwnd-925-2010-2', 'wind-uwnd-925-2010-3', 'wind-uwnd-925-2010-4', 'wind-uwnd-925-2010-5', 'wind-uwnd-925-2010-6', 'wind-uwnd-925-2010-7', 'wind-uwnd-925-2010-8', 'wind-uwnd-925-2010-9', 'wind-uwnd-925-2010-10', 'wind-uwnd-925-2010-11', 'wind-uwnd-925-2010-12', 'wind-uwnd-925-2010-13', 'wind-uwnd-925-2010-14', 'wind-uwnd-925-2010-15', 'wind-uwnd-925-2010-16', 'wind-uwnd-925-2010-17', 'wind-uwnd-925-2010-18', 'wind-uwnd-925-2010-19', 'wind-uwnd-925-2010-20', 'wind-hgt-10-2010-2', 'wind-hgt-10-2010-3', 'wind-hgt-10-2010-4', 'wind-hgt-10-2010-5', 'wind-hgt-10-2010-6', 'wind-hgt-10-2010-7', 'wind-hgt-10-2010-8', 'wind-hgt-10-2010-9', 'wind-hgt-10-2010-10', 'wind-hgt-100-2010-3', 'wind-hgt-100-2010-4', 'wind-hgt-100-2010-5', 'wind-hgt-100-2010-6', 'wind-hgt-100-2010-7', 'wind-hgt-100-2010-8', 'wind-hgt-100-2010-9', 'wind-hgt-100-2010-10', 'wind-vwnd-925-2010-2', 'wind-vwnd-925-2010-3', 'wind-vwnd-925-2010-4', 'wind-vwnd-925-2010-5', 'wind-vwnd-925-2010-6', 'wind-vwnd-925-2010-7', 'wind-vwnd-925-2010-8', 'wind-vwnd-925-2010-9', 'wind-vwnd-925-2010-10', 'wind-vwnd-925-2010-11', 'wind-vwnd-925-2010-12', 'wind-vwnd-925-2010-13', 'wind-vwnd-925-2010-14', 'wind-vwnd-925-2010-15', 'wind-vwnd-925-2010-16', 'wind-vwnd-925-2010-17', 'wind-vwnd-925-2010-18', 'wind-vwnd-925-2010-19', 'wind-vwnd-925-2010-20', 'season', 'lat', 'lon', 'climateregions__climateregion']\n"
     ]
    }
   ],
   "source": [
    "out_cols = ['icec-2010-1',\n",
    " 'icec-2010-2',\n",
    " 'icec-2010-3',\n",
    " 'icec-2010-4',\n",
    " 'icec-2010-5',\n",
    " 'icec-2010-6',\n",
    " 'icec-2010-7',\n",
    " 'icec-2010-8',\n",
    " 'icec-2010-9',\n",
    " 'icec-2010-10',\n",
    " 'year',\n",
    " 'quarter',\n",
    " 'month_cos',\n",
    " 'quarter_sin',\n",
    " 'quarter_cos']\n",
    "features = [c for c in train_selected_columns if c not in out_cols]\n",
    "print(features)"
   ]
  },
  {
   "cell_type": "code",
   "execution_count": 9,
   "id": "344f19a1",
   "metadata": {},
   "outputs": [],
   "source": [
    "train = train_df[features]\n",
    "test = test_df[features]\n",
    "\n",
    "y_train = train_df[target[0]].values"
   ]
  },
  {
   "cell_type": "code",
   "execution_count": 10,
   "id": "054b52fa",
   "metadata": {},
   "outputs": [],
   "source": [
    "en = make_pipeline(RobustScaler(), SelectFromModel(Lasso(alpha=0.03)), ElasticNet(alpha=0.001, l1_ratio=0.1))\n",
    "    \n",
    "cat = CatBoostRegressor(iterations=4900, verbose=200)\n",
    "\n",
    "adb = AdaBoostRegressor(DecisionTreeRegressor(max_depth=4), n_estimators=300, random_state=2017)\n",
    "\n",
    "bag = BaggingRegressor(DecisionTreeRegressor(max_depth=4), n_estimators=300, random_state=2017, verbose=200)\n",
    "\n",
    "rf = RandomForestRegressor(n_estimators=250, n_jobs=4, min_samples_split=25, min_samples_leaf=25, verbose=200)\n",
    "\n",
    "et = ExtraTreesRegressor(n_estimators=250, n_jobs=4, min_samples_split=25, min_samples_leaf=25, verbose=200)\n",
    "\n",
    "gbr = GradientBoostingRegressor(loss='huber', learning_rate=0.1, verbose=200, n_estimators=350, min_samples_split=25, min_samples_leaf=25)\n",
    "\n",
    "xgbm = xgb.sklearn.XGBRegressor(max_depth=6, learning_rate=0.005, subsample=0.6,\n",
    "                                objective='reg:linear', n_estimators=1000, verbose=200)\n",
    "\n",
    "nn = MLPRegressor(hidden_layer_sizes=(200, 400, 50), random_state =2017, early_stopping=True, verbose=200)\n",
    "\n",
    "svm = SVR(kernel='poly', degree=3, gamma='auto', coef0=0.0, tol=0.001, C=1.0, epsilon=0.1, shrinking=True, cache_size=200, verbose=True, max_iter=-1)"
   ]
  },
  {
   "cell_type": "code",
   "execution_count": null,
   "id": "542f9e59",
   "metadata": {},
   "outputs": [],
   "source": [
    "results = cross_val_score(adb, train.values, y_train, cv=5, scoring='neg_mean_squared_error')\n",
    "print(\"adboost regressor score: {:4f} ({:4f})\".format(results.mean(), results.std()))"
   ]
  }
 ],
 "metadata": {
  "kernelspec": {
   "display_name": "action-env",
   "language": "python",
   "name": "action-env"
  },
  "language_info": {
   "codemirror_mode": {
    "name": "ipython",
    "version": 3
   },
   "file_extension": ".py",
   "mimetype": "text/x-python",
   "name": "python",
   "nbconvert_exporter": "python",
   "pygments_lexer": "ipython3",
   "version": "3.7.15"
  }
 },
 "nbformat": 4,
 "nbformat_minor": 5
}
