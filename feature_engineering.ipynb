{
 "cells": [
  {
   "cell_type": "code",
   "execution_count": 2,
   "id": "7fec15f9",
   "metadata": {},
   "outputs": [
    {
     "name": "stderr",
     "output_type": "stream",
     "text": [
      "/data/hieunm/anaconda3/envs/action-env/lib/python3.7/site-packages/tqdm/auto.py:22: TqdmWarning: IProgress not found. Please update jupyter and ipywidgets. See https://ipywidgets.readthedocs.io/en/stable/user_install.html\n",
      "  from .autonotebook import tqdm as notebook_tqdm\n"
     ]
    }
   ],
   "source": [
    "import numpy as np\n",
    "import pandas as pd\n",
    "import seaborn as sns\n",
    "import torch\n",
    "import torch.nn as nn\n",
    "import torch.nn.functional as f\n",
    "pd.set_option('display.max_columns', None)\n",
    "import matplotlib.pyplot as plt\n",
    "from sklearn.model_selection import train_test_split\n",
    "from torch.utils.data import DataLoader\n",
    "from sklearn import preprocessing\n",
    "from tqdm import tqdm\n",
    "from sklearn.preprocessing import FunctionTransformer\n",
    "import seaborn as sns \n",
    "from scipy import stats\n",
    "import statsmodels.api as sm\n",
    "\n",
    "from sklearn.ensemble import RandomForestRegressor, ExtraTreesRegressor, AdaBoostRegressor, BaggingRegressor, GradientBoostingRegressor\n",
    "from sklearn.tree import DecisionTreeRegressor\n",
    "from sklearn.linear_model import ElasticNet, Lasso\n",
    "from sklearn.feature_selection import SelectFromModel\n",
    "from sklearn.svm import SVR\n",
    "from sklearn.model_selection import KFold, cross_val_score\n",
    "from sklearn.pipeline import make_pipeline\n",
    "from sklearn.decomposition import PCA\n",
    "from sklearn.preprocessing import RobustScaler\n",
    "import h2o\n",
    "from h2o.automl import H2OAutoML\n",
    "from sklearn.base import BaseEstimator, TransformerMixin, RegressorMixin, clone\n",
    "from sklearn.neural_network import MLPRegressor\n",
    "from scipy.stats import norm\n",
    "import copy\n",
    "from sklearn.model_selection import KFold\n",
    "from catboost import CatBoostRegressor\n",
    "import xgboost as xgb\n",
    "from scipy.stats import gmean"
   ]
  },
  {
   "cell_type": "code",
   "execution_count": 3,
   "id": "5d9c7cde",
   "metadata": {},
   "outputs": [],
   "source": [
    "train_df = pd.read_csv('./n_train.csv')\n",
    "test_df = pd.read_csv('./n_test.csv')"
   ]
  },
  {
   "cell_type": "code",
   "execution_count": 4,
   "id": "681aa3c0",
   "metadata": {},
   "outputs": [],
   "source": [
    "target=[\"contest-tmp2m-14d__tmp2m\"]"
   ]
  },
  {
   "cell_type": "code",
   "execution_count": 5,
   "id": "d2f9f16d",
   "metadata": {},
   "outputs": [],
   "source": [
    "train = train_df.drop(['startdate', target[0]], axis=1)"
   ]
  },
  {
   "cell_type": "code",
   "execution_count": 6,
   "id": "fe84653e",
   "metadata": {},
   "outputs": [],
   "source": [
    "test = test_df.drop(['startdate', 'index'], axis=1)"
   ]
  },
  {
   "cell_type": "code",
   "execution_count": 7,
   "id": "bcca7591",
   "metadata": {},
   "outputs": [],
   "source": [
    "train['source'] = 'train'\n",
    "test['source']  = 'test'"
   ]
  },
  {
   "cell_type": "code",
   "execution_count": 8,
   "id": "253ea2f5",
   "metadata": {},
   "outputs": [
    {
     "name": "stderr",
     "output_type": "stream",
     "text": [
      "/data/hieunm/anaconda3/envs/action-env/lib/python3.7/site-packages/ipykernel_launcher.py:1: FutureWarning: In a future version of pandas all arguments of concat except for the argument 'objs' will be keyword-only\n",
      "  \"\"\"Entry point for launching an IPython kernel.\n"
     ]
    }
   ],
   "source": [
    "df = pd.concat([train,test],0,ignore_index=True)"
   ]
  },
  {
   "cell_type": "code",
   "execution_count": 9,
   "id": "aed500e5",
   "metadata": {},
   "outputs": [],
   "source": [
    "prefix_cols = [\n",
    "    'nmme0-tmp2m-34w',\n",
    "    'nmme-tmp2m-56w',\n",
    "    'nmme-tmp2m-34w',\n",
    "    'nmme-prate-34w',\n",
    "    'nmme-prate-56w',\n",
    "    'nmme0-prate-34w',\n",
    "    'nmme0-prate-56w',\n",
    "    'wind-vwnd-250',\n",
    "    'wind-vwnd-925',\n",
    "    'wind-uwnd-250',\n",
    "    'wind-hgt-850',\n",
    "    'sst-2010' ,\n",
    "    'wind-hgt-500',\n",
    "    'wind-uwnd-925',\n",
    "    'wind-hgt-10',\n",
    "    'wind-hgt-100',\n",
    "    'icec-2010'\n",
    "]\n"
   ]
  },
  {
   "cell_type": "code",
   "execution_count": 10,
   "id": "c817a339",
   "metadata": {},
   "outputs": [
    {
     "name": "stderr",
     "output_type": "stream",
     "text": [
      "100%|██████████████████████████████████████████████████████████████████████████████████████| 17/17 [26:16<00:00, 92.76s/it]\n"
     ]
    }
   ],
   "source": [
    "for col in tqdm(prefix_cols):\n",
    "    cols = [name for name in df.columns if col in name]\n",
    "    \n",
    "    df['{}_1'.format(col)] = df[cols].min(axis=1)\n",
    "    df['{}_2'.format(col)] = df[cols].max(axis=1)\n",
    "    df['{}_3'.format(col)] = df[cols].mean(axis=1)\n",
    "    df['{}_4'.format(col)] = df[cols].std(axis=1)\n",
    "    df['{}_5'.format(col)] = df[cols].skew(axis=1)\n",
    "    \n",
    "    "
   ]
  },
  {
   "cell_type": "code",
   "execution_count": 11,
   "id": "63496cd4",
   "metadata": {},
   "outputs": [],
   "source": [
    "features = [c for c in df.columns if c != 'source']"
   ]
  },
  {
   "cell_type": "code",
   "execution_count": 12,
   "id": "6d9bd11d",
   "metadata": {},
   "outputs": [],
   "source": [
    "train_independent_corr = df[features].corr()\n",
    "train_seleted_corr_columns = np.full((train_independent_corr.shape[0],), True, dtype=bool)\n"
   ]
  },
  {
   "cell_type": "code",
   "execution_count": 13,
   "id": "43f0e787",
   "metadata": {},
   "outputs": [],
   "source": [
    "for i in range(train_independent_corr.shape[0]):\n",
    "    for j in range(i + 1, train_independent_corr.shape[0]):\n",
    "        if train_independent_corr.iloc[i, j] >= 0.85:           \n",
    "            if train_seleted_corr_columns[j]:\n",
    "                train_seleted_corr_columns[j] = False"
   ]
  },
  {
   "cell_type": "code",
   "execution_count": 14,
   "id": "53deb67d",
   "metadata": {},
   "outputs": [],
   "source": [
    "train_selected_columns = df[features].columns[list(train_seleted_corr_columns)]"
   ]
  },
  {
   "cell_type": "code",
   "execution_count": 15,
   "id": "c48dbaef",
   "metadata": {},
   "outputs": [
    {
     "data": {
      "text/plain": [
       "5"
      ]
     },
     "execution_count": 15,
     "metadata": {},
     "output_type": "execute_result"
    }
   ],
   "source": [
    "target=[\"contest-tmp2m-14d__tmp2m\"]\n",
    "X = df[df['source'] == 'train'][features].values\n",
    "y = train_df[target[0]].values\n",
    "\n",
    "skf = KFold(n_splits=5, random_state=2048, shuffle=True)\n",
    "skf.get_n_splits(X, y)"
   ]
  },
  {
   "cell_type": "code",
   "execution_count": 16,
   "id": "07e98919",
   "metadata": {},
   "outputs": [
    {
     "name": "stderr",
     "output_type": "stream",
     "text": [
      "5it [01:04, 12.92s/it]\n"
     ]
    }
   ],
   "source": [
    "train_index_list = []\n",
    "test_index_list = []\n",
    "train_x_list = []\n",
    "val_x_list = []\n",
    "train_y_list = []\n",
    "val_y_list = []\n",
    "\n",
    "for i, (train_index, test_index) in tqdm(enumerate(skf.split(X, y))):\n",
    "    train_index_list.append(train_index)\n",
    "    test_index_list.append(test_index)\n",
    "\n",
    "    train_x_list.append(X[train_index, :])\n",
    "    val_x_list.append(X[test_index, :])\n",
    "    train_y_list.append(y[train_index])\n",
    "    val_y_list.append(y[test_index])    "
   ]
  },
  {
   "cell_type": "code",
   "execution_count": null,
   "id": "32206cb8",
   "metadata": {},
   "outputs": [
    {
     "name": "stdout",
     "output_type": "stream",
     "text": [
      "(375734, 345) (375734,)\n"
     ]
    },
    {
     "name": "stderr",
     "output_type": "stream",
     "text": [
      "\r",
      "  0%|                                                                                                | 0/5 [00:00<?, ?it/s]"
     ]
    },
    {
     "name": "stdout",
     "output_type": "stream",
     "text": [
      "Learning rate set to 0.023907\n",
      "0:\tlearn: 9.6655496\ttest: 9.6440331\tbest: 9.6440331 (0)\ttotal: 90.2ms\tremaining: 22m 32s\n",
      "1:\tlearn: 9.4627375\ttest: 9.4417362\tbest: 9.4417362 (1)\ttotal: 132ms\tremaining: 16m 28s\n",
      "2:\tlearn: 9.2634471\ttest: 9.2428209\tbest: 9.2428209 (2)\ttotal: 177ms\tremaining: 14m 46s\n",
      "3:\tlearn: 9.0719066\ttest: 9.0517156\tbest: 9.0517156 (3)\ttotal: 217ms\tremaining: 13m 31s\n",
      "4:\tlearn: 8.8845122\ttest: 8.8645347\tbest: 8.8645347 (4)\ttotal: 262ms\tremaining: 13m 6s\n",
      "5:\tlearn: 8.7010778\ttest: 8.6819217\tbest: 8.6819217 (5)\ttotal: 304ms\tremaining: 12m 38s\n",
      "6:\tlearn: 8.5221484\ttest: 8.5037234\tbest: 8.5037234 (6)\ttotal: 345ms\tremaining: 12m 17s\n",
      "7:\tlearn: 8.3473076\ttest: 8.3295389\tbest: 8.3295389 (7)\ttotal: 388ms\tremaining: 12m 8s\n",
      "8:\tlearn: 8.1769628\ttest: 8.1594402\tbest: 8.1594402 (8)\ttotal: 429ms\tremaining: 11m 53s\n",
      "9:\tlearn: 8.0105082\ttest: 7.9934853\tbest: 7.9934853 (9)\ttotal: 470ms\tremaining: 11m 44s\n",
      "10:\tlearn: 7.8486110\ttest: 7.8318462\tbest: 7.8318462 (10)\ttotal: 514ms\tremaining: 11m 40s\n",
      "11:\tlearn: 7.6917740\ttest: 7.6753329\tbest: 7.6753329 (11)\ttotal: 555ms\tremaining: 11m 32s\n",
      "12:\tlearn: 7.5393976\ttest: 7.5231961\tbest: 7.5231961 (12)\ttotal: 593ms\tremaining: 11m 24s\n",
      "13:\tlearn: 7.3891640\ttest: 7.3733875\tbest: 7.3733875 (13)\ttotal: 644ms\tremaining: 11m 29s\n",
      "14:\tlearn: 7.2420299\ttest: 7.2268159\tbest: 7.2268159 (14)\ttotal: 700ms\tremaining: 11m 38s\n",
      "15:\tlearn: 7.0978220\ttest: 7.0832220\tbest: 7.0832220 (15)\ttotal: 748ms\tremaining: 11m 40s\n",
      "16:\tlearn: 6.9589364\ttest: 6.9450988\tbest: 6.9450988 (16)\ttotal: 787ms\tremaining: 11m 33s\n",
      "17:\tlearn: 6.8219226\ttest: 6.8081606\tbest: 6.8081606 (17)\ttotal: 838ms\tremaining: 11m 37s\n",
      "18:\tlearn: 6.6884157\ttest: 6.6747715\tbest: 6.6747715 (18)\ttotal: 895ms\tremaining: 11m 45s\n",
      "19:\tlearn: 6.5604973\ttest: 6.5471801\tbest: 6.5471801 (19)\ttotal: 936ms\tremaining: 11m 40s\n",
      "20:\tlearn: 6.4339088\ttest: 6.4205942\tbest: 6.4205942 (20)\ttotal: 987ms\tremaining: 11m 44s\n",
      "21:\tlearn: 6.3109432\ttest: 6.2979113\tbest: 6.2979113 (21)\ttotal: 1.03s\tremaining: 11m 42s\n",
      "22:\tlearn: 6.1907161\ttest: 6.1780484\tbest: 6.1780484 (22)\ttotal: 1.08s\tremaining: 11m 44s\n",
      "23:\tlearn: 6.0739158\ttest: 6.0613798\tbest: 6.0613798 (23)\ttotal: 1.12s\tremaining: 11m 40s\n",
      "24:\tlearn: 5.9593425\ttest: 5.9471023\tbest: 5.9471023 (24)\ttotal: 1.16s\tremaining: 11m 34s\n",
      "25:\tlearn: 5.8482886\ttest: 5.8363933\tbest: 5.8363933 (25)\ttotal: 1.21s\tremaining: 11m 37s\n",
      "26:\tlearn: 5.7402091\ttest: 5.7286628\tbest: 5.7286628 (26)\ttotal: 1.26s\tremaining: 11m 36s\n",
      "27:\tlearn: 5.6339092\ttest: 5.6225361\tbest: 5.6225361 (27)\ttotal: 1.3s\tremaining: 11m 36s\n",
      "28:\tlearn: 5.5304677\ttest: 5.5197064\tbest: 5.5197064 (28)\ttotal: 1.34s\tremaining: 11m 34s\n",
      "29:\tlearn: 5.4296769\ttest: 5.4193198\tbest: 5.4193198 (29)\ttotal: 1.4s\tremaining: 11m 38s\n",
      "30:\tlearn: 5.3306219\ttest: 5.3206918\tbest: 5.3206918 (30)\ttotal: 1.45s\tremaining: 11m 40s\n",
      "31:\tlearn: 5.2363183\ttest: 5.2267739\tbest: 5.2267739 (31)\ttotal: 1.49s\tremaining: 11m 37s\n",
      "32:\tlearn: 5.1442976\ttest: 5.1349243\tbest: 5.1349243 (32)\ttotal: 1.53s\tremaining: 11m 35s\n",
      "33:\tlearn: 5.0530815\ttest: 5.0438506\tbest: 5.0438506 (33)\ttotal: 1.57s\tremaining: 11m 31s\n",
      "34:\tlearn: 4.9644761\ttest: 4.9558146\tbest: 4.9558146 (34)\ttotal: 1.61s\tremaining: 11m 28s\n",
      "35:\tlearn: 4.8789615\ttest: 4.8703922\tbest: 4.8703922 (35)\ttotal: 1.65s\tremaining: 11m 26s\n",
      "36:\tlearn: 4.7957856\ttest: 4.7875675\tbest: 4.7875675 (36)\ttotal: 1.69s\tremaining: 11m 23s\n",
      "37:\tlearn: 4.7126712\ttest: 4.7045937\tbest: 4.7045937 (37)\ttotal: 1.73s\tremaining: 11m 20s\n",
      "38:\tlearn: 4.6330923\ttest: 4.6252420\tbest: 4.6252420 (38)\ttotal: 1.77s\tremaining: 11m 19s\n",
      "39:\tlearn: 4.5540108\ttest: 4.5463232\tbest: 4.5463232 (39)\ttotal: 1.81s\tremaining: 11m 17s\n"
     ]
    }
   ],
   "source": [
    "def train_xgboost(x, y):\n",
    "    print(x.shape, y.shape)\n",
    "    \n",
    "    xgb_models = []\n",
    "    for i in tqdm(range(5)):\n",
    "        train_x, val_x = train_x_list[i], val_x_list[i]\n",
    "        train_y, val_y = train_y_list[i], val_y_list[i]\n",
    "        clf = CatBoostRegressor(iterations=15000, verbose=200)\n",
    "        clf.fit(train_x, train_y, eval_set=[(val_x, val_y)], verbose=True, early_stopping_rounds=100)\n",
    "        xgb_models.append(clf)\n",
    "    \n",
    "    return xgb_models\n",
    "xgb_models = train_xgboost(X, y)"
   ]
  },
  {
   "cell_type": "code",
   "execution_count": 19,
   "id": "880815fd",
   "metadata": {},
   "outputs": [
    {
     "name": "stderr",
     "output_type": "stream",
     "text": [
      "100%|████████████████████████████████████████████████████████████████████████████████████████| 5/5 [00:10<00:00,  2.19s/it]"
     ]
    },
    {
     "name": "stdout",
     "output_type": "stream",
     "text": [
      "cos_sim with best submission: 0.997750438355868\n"
     ]
    },
    {
     "name": "stderr",
     "output_type": "stream",
     "text": [
      "\n"
     ]
    }
   ],
   "source": [
    "preds = []\n",
    "for xgb_model in tqdm(xgb_models):\n",
    "    preds.append(xgb_model.predict(df[df['source'] == 'test'][features].values))\n",
    "s = 0\n",
    "for pred in preds:\n",
    "    s += pred\n",
    "s = s/5\n",
    "df_ex = pd.read_csv('./sample_solution.csv')\n",
    "df_ex['contest-tmp2m-14d__tmp2m'] = s\n",
    "df_ex.to_csv('submission_feature_engineering.csv', index=False)\n",
    "\n",
    "best_df = pd.read_csv('best_sub.csv')\n",
    "y_best = best_df[target[0]].values\n",
    "\n",
    "from numpy import dot\n",
    "from numpy.linalg import norm\n",
    "\n",
    "cos_sim = dot(y_best, s)/(norm(y_best)*norm(s))\n",
    "print(\"cos_sim with best submission:\", cos_sim)"
   ]
  },
  {
   "cell_type": "code",
   "execution_count": 21,
   "id": "56c37012",
   "metadata": {},
   "outputs": [
    {
     "data": {
      "text/plain": [
       "Index(['year', 'quarter', 'month', 'week', 'dayofyear', 'season',\n",
       "       'day_of_year_sin', 'day_of_year_cos', 'week_sin', 'week_cos',\n",
       "       ...\n",
       "       'wind-hgt-100_1', 'wind-hgt-100_2', 'wind-hgt-100_3', 'wind-hgt-100_4',\n",
       "       'wind-hgt-100_5', 'icec-2010_1', 'icec-2010_2', 'icec-2010_3',\n",
       "       'icec-2010_4', 'icec-2010_5'],\n",
       "      dtype='object', length=346)"
      ]
     },
     "execution_count": 21,
     "metadata": {},
     "output_type": "execute_result"
    }
   ],
   "source": [
    "df.columns"
   ]
  }
 ],
 "metadata": {
  "kernelspec": {
   "display_name": "action-env",
   "language": "python",
   "name": "action-env"
  },
  "language_info": {
   "codemirror_mode": {
    "name": "ipython",
    "version": 3
   },
   "file_extension": ".py",
   "mimetype": "text/x-python",
   "name": "python",
   "nbconvert_exporter": "python",
   "pygments_lexer": "ipython3",
   "version": "3.7.15"
  }
 },
 "nbformat": 4,
 "nbformat_minor": 5
}
