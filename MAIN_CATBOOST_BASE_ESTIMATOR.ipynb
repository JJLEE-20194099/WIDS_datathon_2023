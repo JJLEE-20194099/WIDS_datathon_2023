{
 "cells": [
  {
   "cell_type": "code",
   "execution_count": 17,
   "id": "24966c38",
   "metadata": {},
   "outputs": [],
   "source": [
    "import numpy as np\n",
    "import pandas as pd\n",
    "import seaborn as sns\n",
    "import torch\n",
    "import torch.nn as nn\n",
    "import torch.nn.functional as f\n",
    "pd.set_option('display.max_columns', None)\n",
    "import matplotlib.pyplot as plt\n",
    "from sklearn.model_selection import train_test_split\n",
    "from torch.utils.data import DataLoader\n",
    "from sklearn import preprocessing\n",
    "from tqdm import tqdm\n",
    "from sklearn.preprocessing import FunctionTransformer\n",
    "import seaborn as sns \n",
    "from scipy import stats\n",
    "import statsmodels.api as sm\n",
    "\n",
    "from sklearn.ensemble import RandomForestRegressor, ExtraTreesRegressor, AdaBoostRegressor, BaggingRegressor, GradientBoostingRegressor\n",
    "from sklearn.tree import DecisionTreeRegressor\n",
    "from sklearn.linear_model import ElasticNet, Lasso\n",
    "from sklearn.feature_selection import SelectFromModel\n",
    "from sklearn.svm import SVR\n",
    "from sklearn.model_selection import KFold, cross_val_score\n",
    "from sklearn.pipeline import make_pipeline\n",
    "from sklearn.decomposition import PCA\n",
    "from sklearn.preprocessing import RobustScaler\n",
    "import h2o\n",
    "from h2o.automl import H2OAutoML\n",
    "from sklearn.base import BaseEstimator, TransformerMixin, RegressorMixin, clone\n",
    "from sklearn.neural_network import MLPRegressor\n",
    "from scipy.stats import norm\n",
    "import copy\n",
    "from sklearn.model_selection import KFold\n",
    "from catboost import CatBoostRegressor, Pool, metrics, cv\n",
    "import xgboost as xgb\n",
    "from scipy.stats import gmean\n",
    "from sklearn.impute import KNNImputer\n",
    "from sklearn.metrics import mean_squared_error\n",
    "from sklearn.preprocessing import LabelEncoder\n",
    "import optuna\n",
    "from optuna import Trial, visualization\n",
    "from hepml.core import plot_regression_tree\n"
   ]
  },
  {
   "cell_type": "code",
   "execution_count": 18,
   "id": "0ae41764",
   "metadata": {},
   "outputs": [
    {
     "name": "stdout",
     "output_type": "stream",
     "text": [
      "startdate\n",
      "climateregions__climateregion\n"
     ]
    }
   ],
   "source": [
    "train_df =  pd.read_csv('sub_train.csv')\n",
    "test_df  =  pd.read_csv('sub_test.csv')\n",
    "for c in train_df.columns:\n",
    "    if train_df[c].dtypes != 'float64':\n",
    "        print(c)"
   ]
  },
  {
   "cell_type": "code",
   "execution_count": 19,
   "id": "f8c0b03b",
   "metadata": {},
   "outputs": [
    {
     "name": "stdout",
     "output_type": "stream",
     "text": [
      "Main features: 59\n"
     ]
    }
   ],
   "source": [
    "exclude_cols = ['index', 'startdate']\n",
    "target=[\"contest-tmp2m-14d__tmp2m\"]\n",
    "main_attrs = [c for c in train_df.columns if c not in exclude_cols and c not in target]\n",
    "print(\"Main features:\", len(main_attrs))"
   ]
  },
  {
   "cell_type": "code",
   "execution_count": 20,
   "id": "ba5589b4",
   "metadata": {},
   "outputs": [],
   "source": [
    "data = train_df[main_attrs + target]"
   ]
  },
  {
   "cell_type": "code",
   "execution_count": 21,
   "id": "278c2f40",
   "metadata": {},
   "outputs": [],
   "source": [
    "def train_model_by_X_y(_X, _y):\n",
    "    skf = KFold(n_splits=5, random_state=2048, shuffle=True)\n",
    "    skf.get_n_splits(_X, _y)\n",
    "\n",
    "    train_index_list = []\n",
    "    test_index_list = []\n",
    "    train_x_list = []\n",
    "    val_x_list = []\n",
    "    train_y_list = []\n",
    "    val_y_list = []\n",
    "\n",
    "    for i, (train_index, test_index) in enumerate(skf.split(_X, _y)):\n",
    "        train_index_list.append(train_index)\n",
    "        test_index_list.append(test_index)\n",
    "\n",
    "        train_x_list.append(_X[train_index, :])\n",
    "        val_x_list.append(_X[test_index, :])\n",
    "        train_y_list.append(_y[train_index])\n",
    "        val_y_list.append(_y[test_index])    \n",
    "   \n",
    "\n",
    "    cat_models = []\n",
    "    for i in range(5):\n",
    "        train_x, val_x = train_x_list[i], val_x_list[i]\n",
    "        train_y, val_y = train_y_list[i], val_y_list[i],\n",
    "        clf = CatBoostRegressor(iterations=5000, task_type=\"GPU\",\n",
    "                           devices='0:1')\n",
    "        clf.fit(train_x, train_y, eval_set=[(val_x, val_y)], verbose=4999, early_stopping_rounds=100)\n",
    "        cat_models.append(clf)\n",
    "    \n",
    "    return cat_models\n"
   ]
  },
  {
   "cell_type": "code",
   "execution_count": 22,
   "id": "f03f91db",
   "metadata": {},
   "outputs": [],
   "source": [
    "def cal_train_pred(models, _X):\n",
    "    preds = []\n",
    "    for model in models:\n",
    "        preds.append(model.predict(_X))\n",
    "    s = 0\n",
    "    for pred in preds:\n",
    "        s += pred\n",
    "    s = s/5\n",
    "    return s"
   ]
  },
  {
   "cell_type": "code",
   "execution_count": 23,
   "id": "e2bc3f2e",
   "metadata": {},
   "outputs": [],
   "source": [
    "n_estimators = 3\n",
    "Xtest = test_df[main_attrs].values\n",
    "Xtrain = train_df[main_attrs].values"
   ]
  },
  {
   "cell_type": "code",
   "execution_count": 24,
   "id": "de308c7f",
   "metadata": {},
   "outputs": [
    {
     "name": "stderr",
     "output_type": "stream",
     "text": [
      "  0%|                                                                                                | 0/3 [00:00<?, ?it/s]Warning: less than 75% gpu memory available for training. Free: 6344.5625 Total: 24268.3125\n"
     ]
    },
    {
     "name": "stdout",
     "output_type": "stream",
     "text": [
      "Learning rate set to 0.072699\n",
      "0:\tlearn: 9.2589355\ttest: 9.2381618\tbest: 9.2381618 (0)\ttotal: 28.4ms\tremaining: 2m 21s\n",
      "4999:\tlearn: 0.3260566\ttest: 0.3538970\tbest: 0.3538970 (4999)\ttotal: 25.5s\tremaining: 0us\n",
      "bestTest = 0.3538969515\n",
      "bestIteration = 4999\n"
     ]
    },
    {
     "name": "stderr",
     "output_type": "stream",
     "text": [
      "Warning: less than 75% gpu memory available for training. Free: 6344.5625 Total: 24268.3125\n"
     ]
    },
    {
     "name": "stdout",
     "output_type": "stream",
     "text": [
      "Learning rate set to 0.072699\n",
      "0:\tlearn: 9.2521715\ttest: 9.2693331\tbest: 9.2693331 (0)\ttotal: 7.05ms\tremaining: 35.2s\n",
      "4999:\tlearn: 0.3249096\ttest: 0.3512136\tbest: 0.3512136 (4999)\ttotal: 1m 22s\tremaining: 0us\n",
      "bestTest = 0.3512136365\n",
      "bestIteration = 4999\n"
     ]
    },
    {
     "name": "stderr",
     "output_type": "stream",
     "text": [
      "Warning: less than 75% gpu memory available for training. Free: 6344.5625 Total: 24268.3125\n"
     ]
    },
    {
     "name": "stdout",
     "output_type": "stream",
     "text": [
      "Learning rate set to 0.072699\n",
      "0:\tlearn: 9.2481240\ttest: 9.2814895\tbest: 9.2814895 (0)\ttotal: 74ms\tremaining: 6m 9s\n",
      "4999:\tlearn: 0.3250658\ttest: 0.3520980\tbest: 0.3520980 (4999)\ttotal: 2m 38s\tremaining: 0us\n",
      "bestTest = 0.3520980197\n",
      "bestIteration = 4999\n"
     ]
    },
    {
     "name": "stderr",
     "output_type": "stream",
     "text": [
      "Warning: less than 75% gpu memory available for training. Free: 6344.5625 Total: 24268.3125\n"
     ]
    },
    {
     "name": "stdout",
     "output_type": "stream",
     "text": [
      "Learning rate set to 0.072699\n",
      "0:\tlearn: 9.2553172\ttest: 9.2517667\tbest: 9.2517667 (0)\ttotal: 76.3ms\tremaining: 6m 21s\n",
      "4999:\tlearn: 0.3270225\ttest: 0.3548023\tbest: 0.3548023 (4999)\ttotal: 2m 51s\tremaining: 0us\n",
      "bestTest = 0.3548023369\n",
      "bestIteration = 4999\n"
     ]
    },
    {
     "name": "stderr",
     "output_type": "stream",
     "text": [
      "Warning: less than 75% gpu memory available for training. Free: 6344.5625 Total: 24268.3125\n"
     ]
    },
    {
     "name": "stdout",
     "output_type": "stream",
     "text": [
      "Learning rate set to 0.072699\n",
      "0:\tlearn: 9.2598779\ttest: 9.2341314\tbest: 9.2341314 (0)\ttotal: 117ms\tremaining: 9m 43s\n",
      "4999:\tlearn: 0.3265135\ttest: 0.3548258\tbest: 0.3548258 (4999)\ttotal: 2m 46s\tremaining: 0us\n",
      "bestTest = 0.354825776\n",
      "bestIteration = 4999\n"
     ]
    },
    {
     "name": "stderr",
     "output_type": "stream",
     "text": [
      "Warning: less than 75% gpu memory available for training. Free: 6344.5625 Total: 24268.3125\n"
     ]
    },
    {
     "name": "stdout",
     "output_type": "stream",
     "text": [
      "Learning rate set to 0.072699\n",
      "0:\tlearn: 0.3078230\ttest: 0.3082493\tbest: 0.3082493 (0)\ttotal: 146ms\tremaining: 12m 10s\n",
      "4999:\tlearn: 0.2122828\ttest: 0.2301857\tbest: 0.2301857 (4999)\ttotal: 42.5s\tremaining: 0us\n",
      "bestTest = 0.2301857465\n",
      "bestIteration = 4999\n"
     ]
    },
    {
     "name": "stderr",
     "output_type": "stream",
     "text": [
      "Warning: less than 75% gpu memory available for training. Free: 6344.5625 Total: 24268.3125\n"
     ]
    },
    {
     "name": "stdout",
     "output_type": "stream",
     "text": [
      "Learning rate set to 0.072699\n",
      "0:\tlearn: 0.3081027\ttest: 0.3071645\tbest: 0.3071645 (0)\ttotal: 6.86ms\tremaining: 34.3s\n",
      "4999:\tlearn: 0.2130879\ttest: 0.2298110\tbest: 0.2298110 (4999)\ttotal: 23.4s\tremaining: 0us\n",
      "bestTest = 0.2298110396\n",
      "bestIteration = 4999\n"
     ]
    },
    {
     "name": "stderr",
     "output_type": "stream",
     "text": [
      "Warning: less than 75% gpu memory available for training. Free: 6344.5625 Total: 24268.3125\n"
     ]
    },
    {
     "name": "stdout",
     "output_type": "stream",
     "text": [
      "Learning rate set to 0.072699\n",
      "0:\tlearn: 0.3079153\ttest: 0.3079401\tbest: 0.3079401 (0)\ttotal: 10.5ms\tremaining: 52.4s\n",
      "4999:\tlearn: 0.2126377\ttest: 0.2299454\tbest: 0.2299454 (4999)\ttotal: 23.7s\tremaining: 0us\n",
      "bestTest = 0.2299454079\n",
      "bestIteration = 4999\n"
     ]
    },
    {
     "name": "stderr",
     "output_type": "stream",
     "text": [
      "Warning: less than 75% gpu memory available for training. Free: 6344.5625 Total: 24268.3125\n"
     ]
    },
    {
     "name": "stdout",
     "output_type": "stream",
     "text": [
      "Learning rate set to 0.072699\n",
      "0:\tlearn: 0.3078076\ttest: 0.3083204\tbest: 0.3083204 (0)\ttotal: 6.05ms\tremaining: 30.3s\n",
      "4999:\tlearn: 0.2128491\ttest: 0.2307734\tbest: 0.2307734 (4999)\ttotal: 23.5s\tremaining: 0us\n",
      "bestTest = 0.2307733666\n",
      "bestIteration = 4999\n"
     ]
    },
    {
     "name": "stderr",
     "output_type": "stream",
     "text": [
      "Warning: less than 75% gpu memory available for training. Free: 6344.5625 Total: 24268.3125\n"
     ]
    },
    {
     "name": "stdout",
     "output_type": "stream",
     "text": [
      "Learning rate set to 0.072699\n",
      "0:\tlearn: 0.3079175\ttest: 0.3079363\tbest: 0.3079363 (0)\ttotal: 8.23ms\tremaining: 41.1s\n",
      "4999:\tlearn: 0.2128269\ttest: 0.2310517\tbest: 0.2310517 (4999)\ttotal: 24.3s\tremaining: 0us\n",
      "bestTest = 0.2310517377\n",
      "bestIteration = 4999\n"
     ]
    },
    {
     "name": "stderr",
     "output_type": "stream",
     "text": [
      "\r",
      " 33%|█████████████████████████████                                                          | 1/3 [14:07<28:14, 847.26s/it]"
     ]
    },
    {
     "name": "stdout",
     "output_type": "stream",
     "text": [
      "Mean: 14.783732915816552\n",
      "cos_sim with best submission: 0.999974417333012\n"
     ]
    },
    {
     "name": "stderr",
     "output_type": "stream",
     "text": [
      "Warning: less than 75% gpu memory available for training. Free: 6344.5625 Total: 24268.3125\n"
     ]
    },
    {
     "name": "stdout",
     "output_type": "stream",
     "text": [
      "Learning rate set to 0.072699\n",
      "0:\tlearn: 0.2141827\ttest: 0.2144833\tbest: 0.2144833 (0)\ttotal: 6.66ms\tremaining: 33.3s\n",
      "4999:\tlearn: 0.1712210\ttest: 0.1848653\tbest: 0.1848653 (4999)\ttotal: 23.3s\tremaining: 0us\n",
      "bestTest = 0.1848653323\n",
      "bestIteration = 4999\n"
     ]
    },
    {
     "name": "stderr",
     "output_type": "stream",
     "text": [
      "Warning: less than 75% gpu memory available for training. Free: 6344.5625 Total: 24268.3125\n"
     ]
    },
    {
     "name": "stdout",
     "output_type": "stream",
     "text": [
      "Learning rate set to 0.072699\n",
      "0:\tlearn: 0.2143767\ttest: 0.2136975\tbest: 0.2136975 (0)\ttotal: 5.82ms\tremaining: 29.1s\n",
      "4999:\tlearn: 0.1712816\ttest: 0.1840655\tbest: 0.1840655 (4999)\ttotal: 24.3s\tremaining: 0us\n",
      "bestTest = 0.1840655098\n",
      "bestIteration = 4999\n"
     ]
    },
    {
     "name": "stderr",
     "output_type": "stream",
     "text": [
      "Warning: less than 75% gpu memory available for training. Free: 6344.5625 Total: 24268.3125\n"
     ]
    },
    {
     "name": "stdout",
     "output_type": "stream",
     "text": [
      "Learning rate set to 0.072699\n",
      "0:\tlearn: 0.2143029\ttest: 0.2140049\tbest: 0.2140049 (0)\ttotal: 5.65ms\tremaining: 28.3s\n",
      "4999:\tlearn: 0.1712721\ttest: 0.1843304\tbest: 0.1843304 (4999)\ttotal: 26.3s\tremaining: 0us\n",
      "bestTest = 0.1843303586\n",
      "bestIteration = 4999\n"
     ]
    },
    {
     "name": "stderr",
     "output_type": "stream",
     "text": [
      "Warning: less than 75% gpu memory available for training. Free: 6344.5625 Total: 24268.3125\n"
     ]
    },
    {
     "name": "stdout",
     "output_type": "stream",
     "text": [
      "Learning rate set to 0.072699\n",
      "0:\tlearn: 0.2141977\ttest: 0.2144426\tbest: 0.2144426 (0)\ttotal: 6.65ms\tremaining: 33.2s\n",
      "4999:\tlearn: 0.1712486\ttest: 0.1848861\tbest: 0.1848861 (4999)\ttotal: 24.1s\tremaining: 0us\n",
      "bestTest = 0.1848860686\n",
      "bestIteration = 4999\n"
     ]
    },
    {
     "name": "stderr",
     "output_type": "stream",
     "text": [
      "Warning: less than 75% gpu memory available for training. Free: 6344.5625 Total: 24268.3125\n"
     ]
    },
    {
     "name": "stdout",
     "output_type": "stream",
     "text": [
      "Learning rate set to 0.072699\n",
      "0:\tlearn: 0.2141460\ttest: 0.2146039\tbest: 0.2146039 (0)\ttotal: 5.8ms\tremaining: 29s\n",
      "4999:\tlearn: 0.1713431\ttest: 0.1851853\tbest: 0.1851853 (4999)\ttotal: 23.8s\tremaining: 0us\n",
      "bestTest = 0.1851852771\n",
      "bestIteration = 4999\n"
     ]
    },
    {
     "name": "stderr",
     "output_type": "stream",
     "text": [
      "Warning: less than 75% gpu memory available for training. Free: 6344.5625 Total: 24268.3125\n"
     ]
    },
    {
     "name": "stdout",
     "output_type": "stream",
     "text": [
      "Learning rate set to 0.072699\n",
      "0:\tlearn: 0.1727864\ttest: 0.1730359\tbest: 0.1730359 (0)\ttotal: 5.52ms\tremaining: 27.6s\n",
      "4999:\tlearn: 0.1466714\ttest: 0.1579268\tbest: 0.1579268 (4999)\ttotal: 24.4s\tremaining: 0us\n",
      "bestTest = 0.1579268335\n",
      "bestIteration = 4999\n"
     ]
    },
    {
     "name": "stderr",
     "output_type": "stream",
     "text": [
      "Warning: less than 75% gpu memory available for training. Free: 6344.5625 Total: 24268.3125\n"
     ]
    },
    {
     "name": "stdout",
     "output_type": "stream",
     "text": [
      "Learning rate set to 0.072699\n",
      "0:\tlearn: 0.1729551\ttest: 0.1723546\tbest: 0.1723546 (0)\ttotal: 6.54ms\tremaining: 32.7s\n",
      "4999:\tlearn: 0.1466250\ttest: 0.1571445\tbest: 0.1571445 (4999)\ttotal: 24.6s\tremaining: 0us\n",
      "bestTest = 0.1571444732\n",
      "bestIteration = 4999\n"
     ]
    },
    {
     "name": "stderr",
     "output_type": "stream",
     "text": [
      "Warning: less than 75% gpu memory available for training. Free: 6344.5625 Total: 24268.3125\n"
     ]
    },
    {
     "name": "stdout",
     "output_type": "stream",
     "text": [
      "Learning rate set to 0.072699\n",
      "0:\tlearn: 0.1728871\ttest: 0.1726346\tbest: 0.1726346 (0)\ttotal: 7.65ms\tremaining: 38.3s\n",
      "4999:\tlearn: 0.1465821\ttest: 0.1572600\tbest: 0.1572600 (4999)\ttotal: 24.5s\tremaining: 0us\n",
      "bestTest = 0.157260041\n",
      "bestIteration = 4999\n"
     ]
    },
    {
     "name": "stderr",
     "output_type": "stream",
     "text": [
      "Warning: less than 75% gpu memory available for training. Free: 6344.5625 Total: 24268.3125\n"
     ]
    },
    {
     "name": "stdout",
     "output_type": "stream",
     "text": [
      "Learning rate set to 0.072699\n",
      "0:\tlearn: 0.1727916\ttest: 0.1730137\tbest: 0.1730137 (0)\ttotal: 6.47ms\tremaining: 32.3s\n",
      "4999:\tlearn: 0.1466684\ttest: 0.1578199\tbest: 0.1578199 (4999)\ttotal: 23.6s\tremaining: 0us\n",
      "bestTest = 0.1578198599\n",
      "bestIteration = 4999\n"
     ]
    },
    {
     "name": "stderr",
     "output_type": "stream",
     "text": [
      "Warning: less than 75% gpu memory available for training. Free: 6344.5625 Total: 24268.3125\n"
     ]
    },
    {
     "name": "stdout",
     "output_type": "stream",
     "text": [
      "Learning rate set to 0.072699\n",
      "0:\tlearn: 0.1727574\ttest: 0.1731565\tbest: 0.1731565 (0)\ttotal: 9.46ms\tremaining: 47.3s\n",
      "4999:\tlearn: 0.1466607\ttest: 0.1580490\tbest: 0.1580490 (4999)\ttotal: 23.7s\tremaining: 0us\n",
      "bestTest = 0.1580490118\n",
      "bestIteration = 4999\n"
     ]
    },
    {
     "name": "stderr",
     "output_type": "stream",
     "text": [
      "\r",
      " 67%|██████████████████████████████████████████████████████████                             | 2/3 [19:33<09:00, 540.88s/it]"
     ]
    },
    {
     "name": "stdout",
     "output_type": "stream",
     "text": [
      "Mean: 14.792396208965627\n",
      "cos_sim with best submission: 0.9999776253685326\n"
     ]
    },
    {
     "name": "stderr",
     "output_type": "stream",
     "text": [
      "Warning: less than 75% gpu memory available for training. Free: 6344.5625 Total: 24268.3125\n"
     ]
    },
    {
     "name": "stdout",
     "output_type": "stream",
     "text": [
      "Learning rate set to 0.072699\n",
      "0:\tlearn: 0.1480409\ttest: 0.1482360\tbest: 0.1482360 (0)\ttotal: 5.78ms\tremaining: 28.9s\n",
      "4999:\tlearn: 0.1298029\ttest: 0.1392877\tbest: 0.1392877 (4999)\ttotal: 23.6s\tremaining: 0us\n",
      "bestTest = 0.1392876909\n",
      "bestIteration = 4999\n"
     ]
    },
    {
     "name": "stderr",
     "output_type": "stream",
     "text": [
      "Warning: less than 75% gpu memory available for training. Free: 6344.5625 Total: 24268.3125\n"
     ]
    },
    {
     "name": "stdout",
     "output_type": "stream",
     "text": [
      "Learning rate set to 0.072699\n",
      "0:\tlearn: 0.1481706\ttest: 0.1477214\tbest: 0.1477214 (0)\ttotal: 6.63ms\tremaining: 33.1s\n",
      "4999:\tlearn: 0.1298548\ttest: 0.1389037\tbest: 0.1389037 (4999)\ttotal: 26.7s\tremaining: 0us\n",
      "bestTest = 0.1389037448\n",
      "bestIteration = 4999\n"
     ]
    },
    {
     "name": "stderr",
     "output_type": "stream",
     "text": [
      "Warning: less than 75% gpu memory available for training. Free: 6344.5625 Total: 24268.3125\n"
     ]
    },
    {
     "name": "stdout",
     "output_type": "stream",
     "text": [
      "Learning rate set to 0.072699\n",
      "0:\tlearn: 0.1481307\ttest: 0.1478761\tbest: 0.1478761 (0)\ttotal: 7.39ms\tremaining: 36.9s\n",
      "4999:\tlearn: 0.1299649\ttest: 0.1389734\tbest: 0.1389734 (4999)\ttotal: 23.5s\tremaining: 0us\n",
      "bestTest = 0.1389734212\n",
      "bestIteration = 4999\n"
     ]
    },
    {
     "name": "stderr",
     "output_type": "stream",
     "text": [
      "Warning: less than 75% gpu memory available for training. Free: 6344.5625 Total: 24268.3125\n"
     ]
    },
    {
     "name": "stdout",
     "output_type": "stream",
     "text": [
      "Learning rate set to 0.072699\n",
      "0:\tlearn: 0.1480443\ttest: 0.1482207\tbest: 0.1482207 (0)\ttotal: 6.69ms\tremaining: 33.5s\n",
      "4999:\tlearn: 0.1298952\ttest: 0.1393116\tbest: 0.1393116 (4999)\ttotal: 23.5s\tremaining: 0us\n",
      "bestTest = 0.13931162\n",
      "bestIteration = 4999\n"
     ]
    },
    {
     "name": "stderr",
     "output_type": "stream",
     "text": [
      "Warning: less than 75% gpu memory available for training. Free: 6344.5625 Total: 24268.3125\n"
     ]
    },
    {
     "name": "stdout",
     "output_type": "stream",
     "text": [
      "Learning rate set to 0.072699\n",
      "0:\tlearn: 0.1480125\ttest: 0.1483600\tbest: 0.1483600 (0)\ttotal: 6.5ms\tremaining: 32.5s\n",
      "4999:\tlearn: 0.1298922\ttest: 0.1394936\tbest: 0.1394936 (4999)\ttotal: 22.9s\tremaining: 0us\n",
      "bestTest = 0.1394936029\n",
      "bestIteration = 4999\n"
     ]
    },
    {
     "name": "stderr",
     "output_type": "stream",
     "text": [
      "Warning: less than 75% gpu memory available for training. Free: 6344.5625 Total: 24268.3125\n"
     ]
    },
    {
     "name": "stdout",
     "output_type": "stream",
     "text": [
      "Learning rate set to 0.072699\n",
      "0:\tlearn: 0.1311485\ttest: 0.1312668\tbest: 0.1312668 (0)\ttotal: 6.89ms\tremaining: 34.4s\n",
      "4999:\tlearn: 0.1174369\ttest: 0.1257315\tbest: 0.1257315 (4999)\ttotal: 22.8s\tremaining: 0us\n",
      "bestTest = 0.1257314869\n",
      "bestIteration = 4999\n"
     ]
    },
    {
     "name": "stderr",
     "output_type": "stream",
     "text": [
      "Warning: less than 75% gpu memory available for training. Free: 6344.5625 Total: 24268.3125\n"
     ]
    },
    {
     "name": "stdout",
     "output_type": "stream",
     "text": [
      "Learning rate set to 0.072699\n",
      "0:\tlearn: 0.1312377\ttest: 0.1309175\tbest: 0.1309175 (0)\ttotal: 9.45ms\tremaining: 47.2s\n",
      "4999:\tlearn: 0.1174759\ttest: 0.1255082\tbest: 0.1255082 (4999)\ttotal: 23.6s\tremaining: 0us\n",
      "bestTest = 0.1255082226\n",
      "bestIteration = 4999\n"
     ]
    },
    {
     "name": "stderr",
     "output_type": "stream",
     "text": [
      "Warning: less than 75% gpu memory available for training. Free: 6344.5625 Total: 24268.3125\n"
     ]
    },
    {
     "name": "stdout",
     "output_type": "stream",
     "text": [
      "Learning rate set to 0.072699\n",
      "0:\tlearn: 0.1312219\ttest: 0.1309808\tbest: 0.1309808 (0)\ttotal: 5.91ms\tremaining: 29.5s\n",
      "4999:\tlearn: 0.1175647\ttest: 0.1254491\tbest: 0.1254491 (4999)\ttotal: 23s\tremaining: 0us\n",
      "bestTest = 0.1254490668\n",
      "bestIteration = 4999\n"
     ]
    },
    {
     "name": "stderr",
     "output_type": "stream",
     "text": [
      "Warning: less than 75% gpu memory available for training. Free: 6344.5625 Total: 24268.3125\n"
     ]
    },
    {
     "name": "stdout",
     "output_type": "stream",
     "text": [
      "Learning rate set to 0.072699\n",
      "0:\tlearn: 0.1311414\ttest: 0.1313060\tbest: 0.1313060 (0)\ttotal: 6.03ms\tremaining: 30.2s\n",
      "4999:\tlearn: 0.1174386\ttest: 0.1257789\tbest: 0.1257789 (4999)\ttotal: 22.7s\tremaining: 0us\n",
      "bestTest = 0.1257789193\n",
      "bestIteration = 4999\n"
     ]
    },
    {
     "name": "stderr",
     "output_type": "stream",
     "text": [
      "Warning: less than 75% gpu memory available for training. Free: 6344.5625 Total: 24268.3125\n"
     ]
    },
    {
     "name": "stdout",
     "output_type": "stream",
     "text": [
      "Learning rate set to 0.072699\n",
      "0:\tlearn: 0.1311147\ttest: 0.1314046\tbest: 0.1314046 (0)\ttotal: 7.52ms\tremaining: 37.6s\n",
      "4999:\tlearn: 0.1174977\ttest: 0.1259086\tbest: 0.1259086 (4999)\ttotal: 22.9s\tremaining: 0us\n",
      "bestTest = 0.1259086203\n",
      "bestIteration = 4999\n"
     ]
    },
    {
     "name": "stderr",
     "output_type": "stream",
     "text": [
      "100%|███████████████████████████████████████████████████████████████████████████████████████| 3/3 [24:50<00:00, 496.85s/it]"
     ]
    },
    {
     "name": "stdout",
     "output_type": "stream",
     "text": [
      "Mean: 14.79028359830829\n",
      "cos_sim with best submission: 0.9999762966693929\n"
     ]
    },
    {
     "name": "stderr",
     "output_type": "stream",
     "text": [
      "\n"
     ]
    }
   ],
   "source": [
    "pred_list = []\n",
    "res = 0\n",
    "best_df = pd.read_csv('best_sub.csv')\n",
    "y_best = best_df[target[0]].values\n",
    "\n",
    "from numpy import dot\n",
    "from numpy.linalg import norm\n",
    "y = data[target[0]].values\n",
    "X = Xtrain\n",
    "for i in tqdm(range(n_estimators)):\n",
    "    cat_models = train_model_by_X_y(X, y)\n",
    "    s1 = cal_train_pred(cat_models, X)\n",
    "    \n",
    "    pred_s1 = cal_train_pred(cat_models, Xtest)\n",
    "    pred_list.append(pred_s1)\n",
    "    data['Cat {} prediction'.format(i)] = s1\n",
    "    data['Cat {} residual'.format(i)] = y - s1\n",
    "    res += pred_s1\n",
    "    \n",
    "    y_residual = data['Cat {} residual'.format(i)]\n",
    "    residual_models = train_model_by_X_y(X, y_residual)\n",
    "    \n",
    "    s2 = cal_train_pred(residual_models, X)\n",
    "    pred_s2 = cal_train_pred(residual_models, Xtest)\n",
    "    pred_list.append(pred_s2)\n",
    "    res += pred_s2\n",
    "    \n",
    "    if len(pred_list) >= 2:\n",
    "        cos_sim = dot(y_best, res)/(norm(y_best)*norm(res))\n",
    "        print(\"Mean:\", res.mean())\n",
    "        print(\"cos_sim with best submission:\", cos_sim)\n",
    "        \n",
    "    \n",
    "    data[\"Cat {} residual prediction\".format(i)] = s2\n",
    "\n",
    "    data[\"Cat {} residual prediction residual\".format(i)] = data['Cat {} residual'.format(i)] - data[\"Cat {} residual prediction\".format(i)]\n",
    "    \n",
    "    del pred_s2, s2, residual_models, y_residual, pred_s1, s1, cat_models\n",
    "    \n",
    "    y = data[\"Cat {} residual prediction residual\".format(i)]\n",
    "    "
   ]
  },
  {
   "cell_type": "code",
   "execution_count": 28,
   "id": "d2e8d7bd",
   "metadata": {},
   "outputs": [],
   "source": [
    "test_s = 0\n",
    "for pred in pred_list:\n",
    "    test_s += pred\n"
   ]
  },
  {
   "cell_type": "code",
   "execution_count": 30,
   "id": "e9c52d7a",
   "metadata": {},
   "outputs": [
    {
     "name": "stdout",
     "output_type": "stream",
     "text": [
      "cos_sim with best submission: 0.9999762966693929\n"
     ]
    }
   ],
   "source": [
    "df = pd.read_csv('./sample_solution.csv')\n",
    "s = test_s\n",
    "df['contest-tmp2m-14d__tmp2m'] = s\n",
    "df.to_csv('submission_corr_important_base_catboost_v1.csv', index=False)\n",
    "\n",
    "best_df = pd.read_csv('best_sub.csv')\n",
    "y_best = best_df[target[0]].values\n",
    "\n",
    "from numpy import dot\n",
    "from numpy.linalg import norm\n",
    "\n",
    "cos_sim = dot(y_best, s)/(norm(y_best)*norm(s))\n",
    "print(\"cos_sim with best submission:\", cos_sim)"
   ]
  },
  {
   "cell_type": "code",
   "execution_count": null,
   "id": "4a6d380a",
   "metadata": {},
   "outputs": [],
   "source": []
  },
  {
   "cell_type": "code",
   "execution_count": null,
   "id": "82e7f0ee",
   "metadata": {},
   "outputs": [],
   "source": []
  }
 ],
 "metadata": {
  "kernelspec": {
   "display_name": "action-env",
   "language": "python",
   "name": "action-env"
  },
  "language_info": {
   "codemirror_mode": {
    "name": "ipython",
    "version": 3
   },
   "file_extension": ".py",
   "mimetype": "text/x-python",
   "name": "python",
   "nbconvert_exporter": "python",
   "pygments_lexer": "ipython3",
   "version": "3.7.15"
  }
 },
 "nbformat": 4,
 "nbformat_minor": 5
}
