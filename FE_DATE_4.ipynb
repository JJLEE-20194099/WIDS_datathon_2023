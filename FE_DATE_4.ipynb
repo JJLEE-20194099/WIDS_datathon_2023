{
 "cells": [
  {
   "cell_type": "code",
   "execution_count": 1,
   "metadata": {
    "colab": {
     "base_uri": "https://localhost:8080/"
    },
    "executionInfo": {
     "elapsed": 7010,
     "status": "ok",
     "timestamp": 1676655258242,
     "user": {
      "displayName": "long le thanh",
      "userId": "10883027320373224628"
     },
     "user_tz": -420
    },
    "id": "_L6-6PcbbVly",
    "outputId": "0dc3c2dd-3301-42e8-faa1-c52060b71e41"
   },
   "outputs": [],
   "source": [
    "import numpy as np\n",
    "import pandas as pd\n",
    "import seaborn as sns\n",
    "import torch\n",
    "import torch.nn as nn\n",
    "import torch.nn.functional as f\n",
    "pd.set_option('display.max_columns', None)\n",
    "import matplotlib.pyplot as plt\n",
    "from sklearn.model_selection import train_test_split\n",
    "from torch.utils.data import DataLoader\n",
    "from sklearn import preprocessing\n",
    "from tqdm import tqdm\n",
    "from sklearn.preprocessing import FunctionTransformer\n",
    "import seaborn as sns \n",
    "from scipy import stats\n",
    "import statsmodels.api as sm\n",
    "\n",
    "from sklearn.ensemble import RandomForestRegressor, ExtraTreesRegressor, AdaBoostRegressor, BaggingRegressor, GradientBoostingRegressor\n",
    "from sklearn.tree import DecisionTreeRegressor\n",
    "from sklearn.linear_model import ElasticNet, Lasso\n",
    "from sklearn.feature_selection import SelectFromModel\n",
    "from sklearn.svm import SVR\n",
    "from sklearn.model_selection import KFold, cross_val_score\n",
    "from sklearn.pipeline import make_pipeline\n",
    "from sklearn.decomposition import PCA\n",
    "from sklearn.preprocessing import RobustScaler\n",
    "from sklearn.base import BaseEstimator, TransformerMixin, RegressorMixin, clone\n",
    "from sklearn.neural_network import MLPRegressor\n",
    "from scipy.stats import norm\n",
    "import copy\n",
    "from sklearn.model_selection import KFold\n",
    "from catboost import CatBoostRegressor, Pool, metrics, cv\n",
    "import xgboost as xgb\n",
    "from scipy.stats import gmean\n",
    "from sklearn.impute import KNNImputer\n",
    "from sklearn.metrics import mean_squared_error\n",
    "from sklearn.preprocessing import LabelEncoder\n",
    "from sklearn.model_selection import GridSearchCV\n",
    "from sklearn.model_selection import cross_val_score\n",
    "import xgboost\n",
    "from xgboost import XGBRegressor\n",
    "import lightgbm as lgb\n"
   ]
  },
  {
   "cell_type": "code",
   "execution_count": 2,
   "metadata": {
    "executionInfo": {
     "elapsed": 16614,
     "status": "ok",
     "timestamp": 1676655274846,
     "user": {
      "displayName": "long le thanh",
      "userId": "10883027320373224628"
     },
     "user_tz": -420
    },
    "id": "giw1hx8RbSOI"
   },
   "outputs": [],
   "source": [
    "train_df = pd.read_csv('./best_train.csv')\n",
    "test_df = pd.read_csv('./best_test.csv')"
   ]
  },
  {
   "cell_type": "code",
   "execution_count": 3,
   "metadata": {
    "executionInfo": {
     "elapsed": 122,
     "status": "ok",
     "timestamp": 1676655288965,
     "user": {
      "displayName": "long le thanh",
      "userId": "10883027320373224628"
     },
     "user_tz": -420
    },
    "id": "bWxgV6pobZ7i"
   },
   "outputs": [],
   "source": [
    "features = ['contest-wind-h500-14d__wind-hgt-500',\n",
    " 'contest-slp-14d__slp',\n",
    " 'nmme-tmp2m-34w__ccsm3', \n",
    " 'elevation__elevation',\n",
    " 'lon',\n",
    " 'contest-prwtr-eatm-14d__prwtr',\n",
    " 'lat',\n",
    " 'climateregions__climateregion',\n",
    " 'contest-pres-sfc-gauss-14d__pres',\n",
    " 'season_sin',\n",
    " 'day_of_year_sin',\n",
    " 'contest-precip-14d__precip',\n",
    " 'contest-wind-uwnd-250-14d__wind-uwnd-250',\n",
    " 'nmme-prate-34w__cfsv2',\n",
    " 'nmme-prate-34w__nasa',\n",
    " 'nmme-prate-56w__gfdlflora',\n",
    " 'wind-uwnd-250-2010-7',\n",
    " 'contest-wind-vwnd-925-14d__wind-vwnd-925',\n",
    " 'nmme-prate-34w__nmmemean',\n",
    " 'nmme0-prate-34w__ccsm30',\n",
    " 'contest-wind-h850-14d__wind-hgt-850',\n",
    " 'contest-wind-uwnd-925-14d__wind-uwnd-925',\n",
    " 'nmme0-prate-56w__cfsv20',\n",
    " 'nmme-prate-34w__cancm3',\n",
    " 'contest-rhum-sig995-14d__rhum',\n",
    " 'nmme-prate-34w__gfdlflorb',\n",
    " 'wind-hgt-850-2010-4',\n",
    " 'contest-wind-vwnd-250-14d__wind-vwnd-250',\n",
    " 'wind-hgt-100-2010-2',\n",
    " 'wind-uwnd-250-2010-18',\n",
    " 'wind-hgt-10-2010-5',\n",
    " 'wind-uwnd-250-2010-15',\n",
    " 'wind-uwnd-250-2010-4',\n",
    " 'nmme0-prate-56w__nasa0',\n",
    " 'nmme0-prate-34w__cfsv20',\n",
    " 'wind-vwnd-250-2010-10',\n",
    " 'contest-wind-h10-14d__wind-hgt-10',\n",
    " 'wind-uwnd-925-2010-15',\n",
    " 'wind-vwnd-250-2010-3',\n",
    " 'nmme-prate-34w__cancm4',\n",
    " 'sst-2010-4',\n",
    " 'nmme0-prate-56w__ccsm30',\n",
    " 'wind-uwnd-250-2010-16',\n",
    " 'nmme0-prate-34w__gfdl0',\n",
    " 'nmme0-prate-56w__cancm40',\n",
    " 'sst-2010-1',\n",
    " 'sst-2010-3',\n",
    " 'wind-uwnd-250-2010-14',\n",
    " 'nmme0-prate-34w__gfdlflora0',\n",
    " 'nmme-prate-34w__gfdl',\n",
    " 'wind-hgt-850-2010-9',\n",
    " 'wind-vwnd-250-2010-1',\n",
    " 'sst-2010-5',\n",
    " 'cancm30',\n",
    " 'nmme-prate-34w__ccsm4',\n",
    " 'nmme0-prate-34w__nasa0',\n",
    " 'wind-hgt-500-2010-9',\n",
    " 'nmme0-prate-34w__cancm30',\n",
    " 'wind-vwnd-250-2010-13',\n",
    " 'wind_diff',\n",
    " 'wind_diff_min',\n",
    " 'wind_diff_min_month',\n",
    " 'wind_diff_month',\n",
    " 'diff_slp_first',\n",
    " 'diff_wind_first',\n",
    " 'diff_precip_first',\n",
    " 'diff_sst_10_first',\n",
    " 'diff_sst_10_min',\n",
    " 'diff_sst_10_max',\n",
    " 'range_sst_10',\n",
    " 'scale_sst_10',\n",
    " 'diff_sst_9_first',\n",
    " 'diff_sst_9_min',\n",
    " 'diff_sst_9_max',\n",
    " 'range_sst_9',\n",
    " 'scale_sst_9',\n",
    " 'diff_sst_8_first',\n",
    " 'diff_sst_8_min',\n",
    " 'diff_sst_8_max',\n",
    " 'range_sst_8',\n",
    " 'scale_sst_8',\n",
    " 'diff_sst_7_first',\n",
    " 'diff_sst_7_min',\n",
    " 'diff_sst_7_max',\n",
    " 'range_sst_7',\n",
    " 'scale_sst_7',\n",
    " 'diff_sst_6_first',\n",
    " 'diff_sst_6_min',\n",
    " 'diff_sst_6_max',\n",
    " 'range_sst_6',\n",
    " 'scale_sst_6',\n",
    " 'diff_sst_1_first',\n",
    " 'diff_sst_1_min',\n",
    " 'diff_sst_1_max',\n",
    " 'range_sst_1',\n",
    " 'scale_sst_1',\n",
    " 'diff_sst_2_first',\n",
    " 'diff_sst_2_min',\n",
    " 'diff_sst_2_max',\n",
    " 'range_sst_2',\n",
    " 'scale_sst_2',\n",
    " 'diff_sst_3_first',\n",
    " 'diff_sst_3_min',\n",
    " 'diff_sst_3_max',\n",
    " 'range_sst_3',\n",
    " 'scale_sst_3',\n",
    " 'diff_sst_4_first',\n",
    " 'diff_sst_4_min',\n",
    " 'diff_sst_4_max',\n",
    " 'range_sst_4',\n",
    " 'scale_sst_4',\n",
    " 'diff_sst_5_first',\n",
    " 'diff_sst_5_min',\n",
    " 'diff_sst_5_max',\n",
    " 'range_sst_5',\n",
    " 'scale_sst_5',\n",
    " 'diff_pres_1_first',\n",
    " 'diff_pres_1_min',\n",
    " 'diff_pres_1_max',\n",
    " 'range_pres_1',\n",
    " 'scale_pres_1',\n",
    " 'diff_ccsm3_month_1_first',\n",
    " 'diff_ccsm3_month_1_min',\n",
    " 'diff_ccsm3_month_1_max',\n",
    " 'range_ccsm3_month_1',\n",
    " 'scale_ccsm3_month_1',\n",
    " 'diff_sst_1_month_1_first',\n",
    " 'diff_sst_1_month_1_min',\n",
    " 'diff_sst_1_month_1_max',\n",
    " 'range_sst_1_month_1',\n",
    " 'scale_sst_1_month_1',\n",
    " 'sst_1_lag_1',\n",
    " 'sst_5_lag_1',\n",
    " 'sst_4_lag_1',\n",
    " 'sst_1_lag_1_season',\n",
    " 'sst_5_lag_1_season',\n",
    " 'sst_4_lag_1_season']\n",
    "\n",
    "target=[\"contest-tmp2m-14d__tmp2m\"]\n",
    "\n",
    "slp_col = 'contest-slp-14d__slp'\n",
    "ccsm3_col = 'nmme-tmp2m-34w__ccsm3'\n",
    "pres_col = 'contest-pres-sfc-gauss-14d__pres'\n",
    "precip_col = 'contest-precip-14d__precip'\n",
    "poten_col = 'contest-pevpr-sfc-gauss-14d__pevpr'\n",
    "rhum_col = 'contest-rhum-sig995-14d__rhum'\n",
    "elevation_col = 'elevation__elevation'\n",
    "wind_col_500 = 'contest-wind-h500-14d__wind-hgt-500'\n",
    "sst_1_col = 'sst-2010-1'\n",
    "sst_5_col = 'sst-2010-5'\n",
    "sst_3_col = 'sst-2010-3'\n",
    "sst_4_col = 'sst-2010-4'\n",
    "sst_6_col = 'sst-2010-6'\n",
    "sst_7_col = 'sst-2010-7'\n",
    "sst_8_col = 'sst-2010-8'\n",
    "sst_9_col = 'sst-2010-9'\n",
    "sst_10_col = 'sst-2010-10'\n",
    "group_cols = ['startdate']"
   ]
  },
  {
   "cell_type": "code",
   "execution_count": 4,
   "metadata": {},
   "outputs": [],
   "source": [
    "df = pd.read_csv('df_fe_9_neigh.csv')"
   ]
  },
  {
   "cell_type": "code",
   "execution_count": 5,
   "metadata": {},
   "outputs": [],
   "source": [
    "train_df = df[:len(train_df)]\n",
    "test_df = df[len(train_df):]"
   ]
  },
  {
   "cell_type": "code",
   "execution_count": 20,
   "metadata": {},
   "outputs": [],
   "source": [
    "sst_features_5 = []\n",
    "for i in [1, 5, 3, 4]:\n",
    "    sst_features_5 = sst_features_5 + [f'sst_{i}_neigh_5_mean', f'sst_{i}_neigh_5_min', f'sst_{i}_neigh_5_max']\n",
    "\n",
    "sst_features_11 = []\n",
    "for i in [1, 5, 3, 4]:\n",
    "    sst_features_11 = sst_features_11 + [f'sst_{i}_neigh_11_mean', f'sst_{i}_neigh_11_min', f'sst_{i}_neigh_11_max']\n",
    "\n",
    "sst_features_3 = []\n",
    "for i in [1, 5, 3, 4]:\n",
    "    sst_features_3 = sst_features_3 + [f'sst_{i}_neigh_3_mean', f'sst_{i}_neigh_3_min', f'sst_{i}_neigh_3_max']\n",
    "\n",
    "sst_features_7 = []\n",
    "for i in [1, 5, 3, 4]:\n",
    "    sst_features_7 = sst_features_7 + [f'sst_{i}_neigh_7_mean', f'sst_{i}_neigh_7_min', f'sst_{i}_neigh_7_max']\n",
    "    \n",
    "sst_features_9 = []\n",
    "for i in [1, 5, 3, 4]:\n",
    "    sst_features_9 = sst_features_9 + [f'sst_{i}_neigh_9_mean', f'sst_{i}_neigh_9_min', f'sst_{i}_neigh_9_max']\n",
    "\n",
    "\n",
    "poten_feature_5 = ['poten_neigh_5_mean', 'poten_neigh_5_min', 'poten_neigh_5_max']\n",
    "poten_feature_3 = ['poten_neigh_3_mean', 'poten_neigh_3_min', 'poten_neigh_3_max']\n",
    "poten_feature_7 = ['poten_neigh_7_mean', 'poten_neigh_7_min', 'poten_neigh_7_max']\n",
    "poten_feature_9 = ['poten_neigh_9_mean', 'poten_neigh_9_min', 'poten_neigh_9_max']\n",
    "\n",
    "\n",
    "\n",
    "rhum_feature_5 = ['rhum_neigh_5_mean', 'rhum_neigh_5_min', 'rhum_neigh_5_max']\n",
    "rhum_feature_3 = ['rhum_neigh_3_mean', 'rhum_neigh_3_min', 'rhum_neigh_3_max']\n",
    "rhum_feature_7 = ['rhum_neigh_7_mean', 'rhum_neigh_7_min', 'rhum_neigh_7_max']\n",
    "rhum_feature_9 = ['rhum_neigh_9_mean', 'rhum_neigh_9_min', 'rhum_neigh_9_max']\n",
    "\n",
    "\n",
    "slp_feature_5 = ['slp_neigh_5_mean', 'slp_neigh_5_min', 'slp_neigh_5_max']\n",
    "slp_feature_3 = ['slp_neigh_3_mean', 'slp_neigh_3_min', 'slp_neigh_3_max']\n",
    "slp_feature_7 = ['slp_neigh_7_mean', 'slp_neigh_7_min', 'slp_neigh_7_max']\n",
    "slp_feature_9 = ['slp_neigh_9_mean', 'slp_neigh_9_min', 'slp_neigh_9_max']\n",
    "\n",
    "\n",
    "precip_feature_5 = ['precip_neigh_5_mean', 'precip_neigh_5_min', 'precip_neigh_5_max']\n",
    "precip_feature_3 = ['precip_neigh_3_mean', 'precip_neigh_3_min', 'precip_neigh_3_max']\n",
    "precip_feature_7 = ['precip_neigh_7_mean', 'precip_neigh_7_min', 'precip_neigh_7_max']\n",
    "precip_feature_9 = ['precip_neigh_9_mean', 'precip_neigh_9_min', 'precip_neigh_9_max']\n",
    "\n",
    "\n",
    "pres_feature_5 = ['pres_neigh_5_mean', 'pres_neigh_5_min', 'pres_neigh_5_max']\n",
    "pres_feature_3 = ['pres_neigh_3_mean', 'pres_neigh_3_min', 'pres_neigh_3_max']\n",
    "pres_feature_7 = ['pres_neigh_7_mean', 'pres_neigh_7_min', 'pres_neigh_7_max']\n",
    "pres_feature_9 = ['pres_neigh_9_mean', 'pres_neigh_9_min', 'pres_neigh_9_max']\n",
    "\n",
    "\n",
    "\n",
    "wind_feature_11 = ['wind_5000_neigh_11_mean', 'wind_5000_neigh_11_min', 'wind_5000_neigh_11_max']\n",
    "wind_feature_9 = ['wind_500_neigh_9_mean', 'wind_500_neigh_9_min', 'wind_500_neigh_9_max']\n",
    "wind_feature_5 = ['wind_500_neigh_5_mean', 'wind_500_neigh_5_min', 'wind_500_neigh_5_max']\n",
    "wind_feature_3 = ['wind_500_neigh_3_mean', 'wind_500_neigh_3_min', 'wind_500_neigh_3_max']"
   ]
  },
  {
   "cell_type": "code",
   "execution_count": 21,
   "metadata": {},
   "outputs": [],
   "source": [
    "selected_cols = features + sst_features_5 + wind_feature_5 + slp_feature_5 + precip_feature_5 + pres_feature_5 + rhum_feature_5 + slp_feature_3 + precip_feature_3 + pres_feature_3  + rhum_feature_7 + sst_features_7 + wind_feature_9 + pres_feature_9 + precip_feature_9 + rhum_feature_9"
   ]
  },
  {
   "cell_type": "code",
   "execution_count": 22,
   "metadata": {
    "colab": {
     "base_uri": "https://localhost:8080/"
    },
    "executionInfo": {
     "elapsed": 316161,
     "status": "ok",
     "timestamp": 1676657747016,
     "user": {
      "displayName": "long le thanh",
      "userId": "10883027320373224628"
     },
     "user_tz": -420
    },
    "id": "99dBZp30JjUO",
    "outputId": "7e720d4f-03ae-4413-8e10-ed7a1bd0300b",
    "scrolled": true
   },
   "outputs": [
    {
     "name": "stderr",
     "output_type": "stream",
     "text": [
      "5it [00:12,  2.43s/it]\n"
     ]
    },
    {
     "name": "stdout",
     "output_type": "stream",
     "text": [
      "(375734, 200) (375734,)\n"
     ]
    },
    {
     "name": "stderr",
     "output_type": "stream",
     "text": [
      "  0%|                                                                                                | 0/5 [00:00<?, ?it/s]Warning: less than 75% gpu memory available for training. Free: 4096.5625 Total: 24268.3125\n"
     ]
    },
    {
     "name": "stdout",
     "output_type": "stream",
     "text": [
      "Learning rate set to 0.072699\n",
      "0:\tlearn: 9.2506608\ttest: 9.2828669\tbest: 9.2828669 (0)\ttotal: 66ms\tremaining: 5m 30s\n",
      "1000:\tlearn: 0.5776319\ttest: 0.5940976\tbest: 0.5940976 (1000)\ttotal: 57s\tremaining: 3m 47s\n",
      "2000:\tlearn: 0.4346220\ttest: 0.4558684\tbest: 0.4558684 (2000)\ttotal: 1m 27s\tremaining: 2m 11s\n",
      "3000:\tlearn: 0.3651130\ttest: 0.3907340\tbest: 0.3907340 (3000)\ttotal: 2m 3s\tremaining: 1m 22s\n",
      "4000:\tlearn: 0.3211137\ttest: 0.3499738\tbest: 0.3499738 (4000)\ttotal: 2m 58s\tremaining: 44.5s\n",
      "4999:\tlearn: 0.2901246\ttest: 0.3217440\tbest: 0.3217440 (4999)\ttotal: 3m 50s\tremaining: 0us\n",
      "bestTest = 0.3217439754\n",
      "bestIteration = 4999\n"
     ]
    },
    {
     "name": "stderr",
     "output_type": "stream",
     "text": [
      " 20%|█████████████████▍                                                                     | 1/5 [04:10<16:43, 250.76s/it]Warning: less than 75% gpu memory available for training. Free: 4096.5625 Total: 24268.3125\n"
     ]
    },
    {
     "name": "stdout",
     "output_type": "stream",
     "text": [
      "Learning rate set to 0.072699\n",
      "0:\tlearn: 9.2586599\ttest: 9.2521036\tbest: 9.2521036 (0)\ttotal: 33.5ms\tremaining: 2m 47s\n",
      "1000:\tlearn: 0.5763252\ttest: 0.5904336\tbest: 0.5904336 (1000)\ttotal: 54s\tremaining: 3m 35s\n",
      "2000:\tlearn: 0.4335279\ttest: 0.4531195\tbest: 0.4531195 (2000)\ttotal: 1m 48s\tremaining: 2m 42s\n",
      "3000:\tlearn: 0.3647611\ttest: 0.3889017\tbest: 0.3889017 (3000)\ttotal: 2m 43s\tremaining: 1m 49s\n",
      "4000:\tlearn: 0.3213768\ttest: 0.3491175\tbest: 0.3491175 (4000)\ttotal: 3m 39s\tremaining: 54.7s\n",
      "4999:\tlearn: 0.2901081\ttest: 0.3206781\tbest: 0.3206781 (4999)\ttotal: 4m 29s\tremaining: 0us\n",
      "bestTest = 0.3206781355\n",
      "bestIteration = 4999\n"
     ]
    },
    {
     "name": "stderr",
     "output_type": "stream",
     "text": [
      " 40%|██████████████████████████████████▊                                                    | 2/5 [09:00<13:41, 273.70s/it]Warning: less than 75% gpu memory available for training. Free: 1974.5625 Total: 24268.3125\n"
     ]
    },
    {
     "name": "stdout",
     "output_type": "stream",
     "text": [
      "Learning rate set to 0.072699\n",
      "0:\tlearn: 9.2581245\ttest: 9.2495553\tbest: 9.2495553 (0)\ttotal: 47ms\tremaining: 3m 55s\n",
      "1000:\tlearn: 0.5760446\ttest: 0.5910621\tbest: 0.5910621 (1000)\ttotal: 55.3s\tremaining: 3m 41s\n",
      "2000:\tlearn: 0.4355426\ttest: 0.4555863\tbest: 0.4555863 (2000)\ttotal: 1m 51s\tremaining: 2m 47s\n",
      "3000:\tlearn: 0.3656175\ttest: 0.3893717\tbest: 0.3893717 (3000)\ttotal: 2m 48s\tremaining: 1m 51s\n",
      "4000:\tlearn: 0.3216959\ttest: 0.3489488\tbest: 0.3489488 (4000)\ttotal: 3m 42s\tremaining: 55.5s\n",
      "4999:\tlearn: 0.2907407\ttest: 0.3208131\tbest: 0.3208131 (4999)\ttotal: 4m 10s\tremaining: 0us\n",
      "bestTest = 0.3208130541\n",
      "bestIteration = 4999\n"
     ]
    },
    {
     "name": "stderr",
     "output_type": "stream",
     "text": [
      " 60%|████████████████████████████████████████████████████▏                                  | 3/5 [13:33<09:06, 273.32s/it]Warning: less than 75% gpu memory available for training. Free: 1974.5625 Total: 24268.3125\n"
     ]
    },
    {
     "name": "stdout",
     "output_type": "stream",
     "text": [
      "Learning rate set to 0.072699\n",
      "0:\tlearn: 9.2566974\ttest: 9.2708490\tbest: 9.2708490 (0)\ttotal: 44.8ms\tremaining: 3m 43s\n",
      "1000:\tlearn: 0.5751440\ttest: 0.5869150\tbest: 0.5869150 (1000)\ttotal: 50.8s\tremaining: 3m 22s\n",
      "2000:\tlearn: 0.4333048\ttest: 0.4526295\tbest: 0.4526295 (2000)\ttotal: 1m 42s\tremaining: 2m 33s\n",
      "3000:\tlearn: 0.3649184\ttest: 0.3890585\tbest: 0.3890585 (3000)\ttotal: 2m 34s\tremaining: 1m 43s\n",
      "4000:\tlearn: 0.3214074\ttest: 0.3491535\tbest: 0.3491535 (4000)\ttotal: 3m 29s\tremaining: 52.4s\n",
      "4999:\tlearn: 0.2905603\ttest: 0.3213478\tbest: 0.3213478 (4999)\ttotal: 4m 22s\tremaining: 0us\n",
      "bestTest = 0.3213478452\n",
      "bestIteration = 4999\n"
     ]
    },
    {
     "name": "stderr",
     "output_type": "stream",
     "text": [
      " 80%|█████████████████████████████████████████████████████████████████████▌                 | 4/5 [18:16<04:37, 277.34s/it]Warning: less than 75% gpu memory available for training. Free: 1974.5625 Total: 24268.3125\n"
     ]
    },
    {
     "name": "stdout",
     "output_type": "stream",
     "text": [
      "Learning rate set to 0.072699\n",
      "0:\tlearn: 9.2630120\ttest: 9.2333225\tbest: 9.2333225 (0)\ttotal: 28.3ms\tremaining: 2m 21s\n",
      "1000:\tlearn: 0.5739725\ttest: 0.5860958\tbest: 0.5860958 (1000)\ttotal: 54.8s\tremaining: 3m 38s\n",
      "2000:\tlearn: 0.4324602\ttest: 0.4513703\tbest: 0.4513703 (2000)\ttotal: 1m 49s\tremaining: 2m 44s\n",
      "3000:\tlearn: 0.3634552\ttest: 0.3867287\tbest: 0.3867287 (3000)\ttotal: 2m 45s\tremaining: 1m 50s\n",
      "4000:\tlearn: 0.3207009\ttest: 0.3475397\tbest: 0.3475397 (4000)\ttotal: 3m 39s\tremaining: 54.8s\n",
      "4999:\tlearn: 0.2897336\ttest: 0.3194910\tbest: 0.3194910 (4999)\ttotal: 4m 35s\tremaining: 0us\n",
      "bestTest = 0.319491029\n",
      "bestIteration = 4999\n"
     ]
    },
    {
     "name": "stderr",
     "output_type": "stream",
     "text": [
      "100%|███████████████████████████████████████████████████████████████████████████████████████| 5/5 [23:13<00:00, 278.62s/it]\n",
      "100%|████████████████████████████████████████████████████████████████████████████████████████| 5/5 [00:00<00:00, 12.98it/s]\n"
     ]
    }
   ],
   "source": [
    "X = train_df[selected_cols].values\n",
    "y = train_df[target[0]].values\n",
    "\n",
    "skf = KFold(n_splits=5, random_state=2048, shuffle=True)\n",
    "skf.get_n_splits(X, y)\n",
    "\n",
    "train_index_list = []\n",
    "test_index_list = []\n",
    "train_x_list = []\n",
    "val_x_list = []\n",
    "train_y_list = []\n",
    "val_y_list = []\n",
    "\n",
    "for i, (train_index, test_index) in tqdm(enumerate(skf.split(X, y))):\n",
    "    train_index_list.append(train_index)\n",
    "    test_index_list.append(test_index)\n",
    "\n",
    "    train_x_list.append(X[train_index, :])\n",
    "    val_x_list.append(X[test_index, :])\n",
    "    train_y_list.append(y[train_index])\n",
    "    val_y_list.append(y[test_index])    \n",
    "def train_catboost(x, y):\n",
    "    print(x.shape, y.shape)\n",
    "    \n",
    "    cat_models = []\n",
    "    for i in tqdm(range(5)):\n",
    "        train_x, val_x = train_x_list[i], val_x_list[i]\n",
    "        train_y, val_y = train_y_list[i], val_y_list[i]\n",
    "        clf = CatBoostRegressor(iterations=5000, verbose=200, task_type=\"GPU\",\n",
    "                           devices='0:1')\n",
    "        clf.fit(train_x, train_y, eval_set=[(val_x, val_y)], verbose=1000, early_stopping_rounds=100)\n",
    "        cat_models.append(clf)\n",
    "    \n",
    "    return cat_models\n",
    "cat_models = train_catboost(X, y)\n",
    "\n",
    "preds = []\n",
    "for cat_model in tqdm(cat_models):\n",
    "    preds.append(cat_model.predict(test_df[selected_cols].values))\n",
    "s = 0\n",
    "for pred in preds:\n",
    "    s += pred\n",
    "s = s/5\n"
   ]
  },
  {
   "cell_type": "code",
   "execution_count": 24,
   "metadata": {},
   "outputs": [
    {
     "name": "stdout",
     "output_type": "stream",
     "text": [
      "cos_sim with best submission: 0.999836909459082\n"
     ]
    }
   ],
   "source": [
    "output_df = pd.DataFrame(columns = ['index', 'pred'])\n",
    "output_df['index'] = [int(i) for i in test_df['index']]\n",
    "output_df['pred'] = s \n",
    "res_df = pd.read_csv('./sample_solution.csv')\n",
    "res_df = res_df.merge(output_df, how='left', on = ['index'])\n",
    "res_df['contest-tmp2m-14d__tmp2m'] = res_df['pred']\n",
    "res_df[[target[0], 'index']].to_csv('submission_fe_date_v7.csv', index=False)\n",
    "\n",
    "best_df = pd.read_csv('best_sub.csv')\n",
    "y_best = best_df[target[0]].values\n",
    "\n",
    "from numpy import dot\n",
    "from numpy.linalg import norm\n",
    "t = np.array(res_df['contest-tmp2m-14d__tmp2m'].tolist())\n",
    "cos_sim = dot(y_best, t)/(norm(y_best)*norm(t))\n",
    "print(\"cos_sim with best submission:\", cos_sim)"
   ]
  },
  {
   "cell_type": "code",
   "execution_count": null,
   "metadata": {},
   "outputs": [],
   "source": []
  }
 ],
 "metadata": {
  "accelerator": "GPU",
  "colab": {
   "provenance": []
  },
  "gpuClass": "standard",
  "kernelspec": {
   "display_name": "ml-env",
   "language": "python",
   "name": "ml-env"
  },
  "language_info": {
   "codemirror_mode": {
    "name": "ipython",
    "version": 3
   },
   "file_extension": ".py",
   "mimetype": "text/x-python",
   "name": "python",
   "nbconvert_exporter": "python",
   "pygments_lexer": "ipython3",
   "version": "3.9.7"
  }
 },
 "nbformat": 4,
 "nbformat_minor": 1
}
