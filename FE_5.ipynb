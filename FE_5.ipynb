{
 "cells": [
  {
   "cell_type": "code",
   "execution_count": 1,
   "id": "f63b11e7",
   "metadata": {},
   "outputs": [],
   "source": [
    "import numpy as np\n",
    "import pandas as pd\n",
    "import seaborn as sns\n",
    "import torch\n",
    "import torch.nn as nn\n",
    "import torch.nn.functional as f\n",
    "pd.set_option('display.max_columns', None)\n",
    "import matplotlib.pyplot as plt\n",
    "from sklearn.model_selection import train_test_split\n",
    "from torch.utils.data import DataLoader\n",
    "from sklearn import preprocessing\n",
    "from tqdm import tqdm\n",
    "from sklearn.preprocessing import FunctionTransformer\n",
    "import seaborn as sns \n",
    "from scipy import stats\n",
    "import statsmodels.api as sm\n",
    "\n",
    "from sklearn.ensemble import RandomForestRegressor, ExtraTreesRegressor, AdaBoostRegressor, BaggingRegressor, GradientBoostingRegressor\n",
    "from sklearn.tree import DecisionTreeRegressor\n",
    "from sklearn.linear_model import ElasticNet, Lasso\n",
    "from sklearn.feature_selection import SelectFromModel\n",
    "from sklearn.svm import SVR\n",
    "from sklearn.model_selection import KFold, cross_val_score\n",
    "from sklearn.pipeline import make_pipeline\n",
    "from sklearn.decomposition import PCA\n",
    "from sklearn.preprocessing import RobustScaler\n",
    "import h2o\n",
    "from h2o.automl import H2OAutoML\n",
    "from sklearn.base import BaseEstimator, TransformerMixin, RegressorMixin, clone\n",
    "from sklearn.neural_network import MLPRegressor\n",
    "from scipy.stats import norm\n",
    "import copy\n",
    "from sklearn.model_selection import KFold\n",
    "from catboost import CatBoostRegressor, Pool, metrics, cv\n",
    "import xgboost as xgb\n",
    "from scipy.stats import gmean\n",
    "from sklearn.impute import KNNImputer\n",
    "from sklearn.metrics import mean_squared_error\n",
    "from sklearn.preprocessing import LabelEncoder"
   ]
  },
  {
   "cell_type": "code",
   "execution_count": 2,
   "id": "b750100a",
   "metadata": {},
   "outputs": [],
   "source": [
    "add_train = pd.read_csv('./n_train.csv')\n",
    "add_test = pd.read_csv('./n_test.csv')"
   ]
  },
  {
   "cell_type": "code",
   "execution_count": 3,
   "id": "a47eb0e9",
   "metadata": {},
   "outputs": [],
   "source": [
    "climate_type_dict = {'1':'BSk',\n",
    " '9': 'Dfb',\n",
    " '4': 'Cfa',\n",
    " '7': 'Csb',\n",
    " '8': 'Dfa',\n",
    " '3': 'BWk',\n",
    " '10': 'Dfc',\n",
    " '2': 'BWh',\n",
    " '6': 'Csa',\n",
    " '11': 'Dsb',\n",
    " '0': 'BSh',\n",
    " '5': 'Cfb',\n",
    " '12': 'Dsc',\n",
    " '13': 'Dwa',\n",
    " '14': 'Dwb'}"
   ]
  },
  {
   "cell_type": "code",
   "execution_count": 4,
   "id": "6ab9423b",
   "metadata": {},
   "outputs": [],
   "source": [
    "all_cols = add_train.columns.tolist()"
   ]
  },
  {
   "cell_type": "code",
   "execution_count": 5,
   "id": "258cca0e",
   "metadata": {},
   "outputs": [],
   "source": [
    "target=[\"contest-tmp2m-14d__tmp2m\"]"
   ]
  },
  {
   "cell_type": "code",
   "execution_count": 6,
   "id": "657e29fb",
   "metadata": {},
   "outputs": [
    {
     "name": "stdout",
     "output_type": "stream",
     "text": [
      "climateregions__climateregion\n"
     ]
    }
   ],
   "source": [
    "train_df =  pd.read_csv('fe_v1_train.csv')\n",
    "test_df  =  pd.read_csv('fe_v1_test.csv')\n",
    "for c in train_df.columns:\n",
    "    if train_df[c].dtypes != 'float64':\n",
    "        print(c)"
   ]
  },
  {
   "cell_type": "code",
   "execution_count": 7,
   "id": "66b5ae01",
   "metadata": {},
   "outputs": [
    {
     "name": "stdout",
     "output_type": "stream",
     "text": [
      "Main features: 63\n"
     ]
    }
   ],
   "source": [
    "exclude_cols = ['index', 'startdate']\n",
    "best_cols = [c for c in train_df.columns if c not in exclude_cols and c not in target]\n",
    "print(\"Main features:\", len(best_cols))"
   ]
  },
  {
   "cell_type": "code",
   "execution_count": 8,
   "id": "d79003b9",
   "metadata": {},
   "outputs": [
    {
     "name": "stdout",
     "output_type": "stream",
     "text": [
      "contest-precip-14d__precip\n"
     ]
    }
   ],
   "source": [
    "for c in all_cols:\n",
    "    if 'contest-precip-14d' in c:\n",
    "        print(c)"
   ]
  },
  {
   "cell_type": "code",
   "execution_count": 9,
   "id": "281ff6e9",
   "metadata": {},
   "outputs": [],
   "source": [
    "def calculate_season(month):\n",
    "    if month == 12 or month == 1 or month == 2:\n",
    "        return 4\n",
    "    if month == 9 or month == 10 or month == 11:\n",
    "        return 3\n",
    "    if month == 7 or month == 8 or month == 6:\n",
    "        return 2\n",
    "    if month == 3 or month == 4 or month == 5:\n",
    "        return 1"
   ]
  },
  {
   "cell_type": "code",
   "execution_count": 10,
   "id": "55ccb6d1",
   "metadata": {},
   "outputs": [],
   "source": [
    "train_df['month'] = add_train['month']\n",
    "test_df['month'] = add_test['month']\n",
    "\n",
    "train_df['season'] = train_df['month'].apply(calculate_season)\n",
    "test_df['season'] = test_df['month'].apply(calculate_season)\n",
    "\n",
    "train_df['loc_group'] = add_train['loc_group']\n",
    "test_df['loc_group'] = add_test['loc_group']\n",
    "\n",
    "train_df['year'] = add_train['year']\n",
    "test_df['year'] = add_test['year']\n",
    "\n",
    "def map_climate_type(x):\n",
    "    return climate_type_dict[str(x)]\n",
    "\n",
    "train_df['climate_type'] = train_df['climateregions__climateregion'].apply(map_climate_type)\n",
    "test_df['climate_type'] = train_df['climateregions__climateregion'].apply(map_climate_type)\n",
    "\n",
    "precip_col = 'contest-precip-14d__precip'\n",
    "wind_col = 'contest-wind-h500-14d__wind-hgt-500'\n",
    "\n",
    "group_cols = ['loc_group', 'climate_type', 'year', 'season', 'month']\n",
    "season_group_cols = ['loc_group', 'climate_type', 'year', 'season']\n"
   ]
  },
  {
   "cell_type": "code",
   "execution_count": 11,
   "id": "89eba818",
   "metadata": {},
   "outputs": [],
   "source": [
    "slp_col = 'contest-slp-14d__slp'\n",
    "ccsm3_col = 'nmme-tmp2m-34w__ccsm3'\n",
    "pres_col = 'contest-pres-sfc-gauss-14d__pres'\n",
    "precip_col = 'contest-precip-14d__precip'\n",
    "stt_col = 'sst-2010-1'\n",
    "sst_col_5 = 'sst-2010-5'"
   ]
  },
  {
   "cell_type": "code",
   "execution_count": 12,
   "id": "f2835671",
   "metadata": {},
   "outputs": [
    {
     "name": "stdout",
     "output_type": "stream",
     "text": [
      "74839.94 102845.57\n",
      "75925.02 102119.93\n"
     ]
    }
   ],
   "source": [
    "print(train_df[pres_col].min(), train_df[pres_col].max())\n",
    "print(test_df[pres_col].min(), test_df[pres_col].max())"
   ]
  },
  {
   "cell_type": "code",
   "execution_count": 13,
   "id": "e4b5b1b8",
   "metadata": {},
   "outputs": [
    {
     "name": "stdout",
     "output_type": "stream",
     "text": [
      "-219.87 352.2\n",
      "89.73 345.33\n"
     ]
    }
   ],
   "source": [
    "print(train_df[stt_col].min(), train_df[stt_col].max())\n",
    "print(test_df[stt_col].min(), test_df[stt_col].max())"
   ]
  },
  {
   "cell_type": "code",
   "execution_count": 14,
   "id": "c7578466",
   "metadata": {},
   "outputs": [
    {
     "name": "stdout",
     "output_type": "stream",
     "text": [
      "-32.81 40.97\n",
      "-4.62 21.5\n"
     ]
    }
   ],
   "source": [
    "print(train_df[sst_col_5].min(), train_df[sst_col_5].max())\n",
    "print(test_df[sst_col_5].min(), test_df[sst_col_5].max())"
   ]
  },
  {
   "cell_type": "code",
   "execution_count": 15,
   "id": "9f0f35cb",
   "metadata": {},
   "outputs": [
    {
     "name": "stdout",
     "output_type": "stream",
     "text": [
      "0.0 502.63\n",
      "0.0 439.54\n"
     ]
    }
   ],
   "source": [
    "print(train_df[precip_col].min(), train_df[precip_col].max())\n",
    "print(test_df[precip_col].min(), test_df[precip_col].max())"
   ]
  },
  {
   "cell_type": "code",
   "execution_count": 16,
   "id": "9cc45f65",
   "metadata": {},
   "outputs": [],
   "source": [
    "# train_df[pres_col] = train_df[pres_col] - 100000\n",
    "# test_df[pres_col] = test_df[pres_col] - 100000"
   ]
  },
  {
   "cell_type": "code",
   "execution_count": 17,
   "id": "2cad7d7a",
   "metadata": {},
   "outputs": [
    {
     "name": "stdout",
     "output_type": "stream",
     "text": [
      "100379.21 103275.84\n",
      "100593.22 102258.27\n"
     ]
    }
   ],
   "source": [
    "print(train_df[slp_col].min(), train_df[slp_col].max())\n",
    "print(test_df[slp_col].min(), test_df[slp_col].max())"
   ]
  },
  {
   "cell_type": "code",
   "execution_count": 18,
   "id": "469893f4",
   "metadata": {},
   "outputs": [
    {
     "name": "stdout",
     "output_type": "stream",
     "text": [
      "5289.25 5958.2\n",
      "5504.59 5925.56\n"
     ]
    }
   ],
   "source": [
    "print(train_df[wind_col].min(), train_df[wind_col].max())\n",
    "print(test_df[wind_col].min(), test_df[wind_col].max())"
   ]
  },
  {
   "cell_type": "code",
   "execution_count": 19,
   "id": "856be928",
   "metadata": {},
   "outputs": [],
   "source": [
    "train_df[wind_col] = train_df[wind_col] - 5000\n",
    "test_df[wind_col] = test_df[wind_col] - 5000"
   ]
  },
  {
   "cell_type": "code",
   "execution_count": 20,
   "id": "f2e36dcb",
   "metadata": {},
   "outputs": [],
   "source": [
    "train_df[slp_col] = train_df[slp_col] - 100000\n",
    "test_df[slp_col] = test_df[slp_col] - 100000"
   ]
  },
  {
   "cell_type": "code",
   "execution_count": 21,
   "id": "e00fe5ce",
   "metadata": {},
   "outputs": [
    {
     "data": {
      "text/plain": [
       "(407088, 68)"
      ]
     },
     "execution_count": 21,
     "metadata": {},
     "output_type": "execute_result"
    }
   ],
   "source": [
    "check_cols = [c for c in train_df.columns if c not in target and c not in exclude_cols]\n",
    "\n",
    "df = pd.concat([train_df[check_cols], test_df[check_cols]], axis=0)\n",
    "df.shape"
   ]
  },
  {
   "cell_type": "code",
   "execution_count": 22,
   "id": "93c0c117",
   "metadata": {},
   "outputs": [],
   "source": [
    "def create_df_by_group_and_agg(dataframe, grouped_cols, action, my_col, return_name):\n",
    "    if action == \"first\":\n",
    "        ans_df = dataframe.groupby(grouped_cols)[my_col].first().reset_index()\n",
    "    elif action == \"min\":\n",
    "        ans_df = dataframe.groupby(grouped_cols)[my_col].min().reset_index()\n",
    "    elif action == \"max\":\n",
    "        ans_df = dataframe.groupby(grouped_cols)[my_col].max().reset_index()\n",
    "    elif action == \"mean\":\n",
    "        ans_df = dataframe.groupby(grouped_cols)[my_col].mean().reset_index()\n",
    "    print(\"Nan\")\n",
    "    ans_df = ans_df.rename(columns={my_col: return_name})\n",
    "    for c in ans_df.columns:\n",
    "        if ans_df[c].isnull().sum() > 0:\n",
    "            print(c, ans_df[c].isnull().sum())\n",
    "    return ans_df"
   ]
  },
  {
   "cell_type": "code",
   "execution_count": 23,
   "id": "a52a1320",
   "metadata": {},
   "outputs": [],
   "source": [
    "def assign_train_test_df(my_col):\n",
    "    train_df[my_col] = df[:len(train_df)][my_col].tolist()\n",
    "    test_df[my_col] = df[len(train_df):][my_col].tolist()"
   ]
  },
  {
   "cell_type": "code",
   "execution_count": 24,
   "id": "d981dfd7",
   "metadata": {},
   "outputs": [
    {
     "name": "stdout",
     "output_type": "stream",
     "text": [
      "Nan\n"
     ]
    },
    {
     "data": {
      "text/html": [
       "<div>\n",
       "<style scoped>\n",
       "    .dataframe tbody tr th:only-of-type {\n",
       "        vertical-align: middle;\n",
       "    }\n",
       "\n",
       "    .dataframe tbody tr th {\n",
       "        vertical-align: top;\n",
       "    }\n",
       "\n",
       "    .dataframe thead th {\n",
       "        text-align: right;\n",
       "    }\n",
       "</style>\n",
       "<table border=\"1\" class=\"dataframe\">\n",
       "  <thead>\n",
       "    <tr style=\"text-align: right;\">\n",
       "      <th></th>\n",
       "      <th>loc_group</th>\n",
       "      <th>climate_type</th>\n",
       "      <th>year</th>\n",
       "      <th>season</th>\n",
       "      <th>first_slp</th>\n",
       "    </tr>\n",
       "  </thead>\n",
       "  <tbody>\n",
       "    <tr>\n",
       "      <th>0</th>\n",
       "      <td>0</td>\n",
       "      <td>BSh</td>\n",
       "      <td>2014</td>\n",
       "      <td>3</td>\n",
       "      <td>1352.08</td>\n",
       "    </tr>\n",
       "    <tr>\n",
       "      <th>1</th>\n",
       "      <td>0</td>\n",
       "      <td>BSh</td>\n",
       "      <td>2014</td>\n",
       "      <td>4</td>\n",
       "      <td>2072.81</td>\n",
       "    </tr>\n",
       "    <tr>\n",
       "      <th>2</th>\n",
       "      <td>0</td>\n",
       "      <td>BSh</td>\n",
       "      <td>2015</td>\n",
       "      <td>1</td>\n",
       "      <td>1917.24</td>\n",
       "    </tr>\n",
       "  </tbody>\n",
       "</table>\n",
       "</div>"
      ],
      "text/plain": [
       "   loc_group climate_type  year  season  first_slp\n",
       "0          0          BSh  2014       3    1352.08\n",
       "1          0          BSh  2014       4    2072.81\n",
       "2          0          BSh  2015       1    1917.24"
      ]
     },
     "execution_count": 24,
     "metadata": {},
     "output_type": "execute_result"
    }
   ],
   "source": [
    "first_slp_df = create_df_by_group_and_agg(df, season_group_cols, \"first\", slp_col, \"first_slp\")\n",
    "first_slp_df.head(3)"
   ]
  },
  {
   "cell_type": "code",
   "execution_count": 25,
   "id": "9af3e9fd",
   "metadata": {},
   "outputs": [
    {
     "name": "stdout",
     "output_type": "stream",
     "text": [
      "Nan\n"
     ]
    },
    {
     "data": {
      "text/html": [
       "<div>\n",
       "<style scoped>\n",
       "    .dataframe tbody tr th:only-of-type {\n",
       "        vertical-align: middle;\n",
       "    }\n",
       "\n",
       "    .dataframe tbody tr th {\n",
       "        vertical-align: top;\n",
       "    }\n",
       "\n",
       "    .dataframe thead th {\n",
       "        text-align: right;\n",
       "    }\n",
       "</style>\n",
       "<table border=\"1\" class=\"dataframe\">\n",
       "  <thead>\n",
       "    <tr style=\"text-align: right;\">\n",
       "      <th></th>\n",
       "      <th>loc_group</th>\n",
       "      <th>climate_type</th>\n",
       "      <th>year</th>\n",
       "      <th>season</th>\n",
       "      <th>first_wind</th>\n",
       "    </tr>\n",
       "  </thead>\n",
       "  <tbody>\n",
       "    <tr>\n",
       "      <th>0</th>\n",
       "      <td>0</td>\n",
       "      <td>BSh</td>\n",
       "      <td>2014</td>\n",
       "      <td>3</td>\n",
       "      <td>899.66</td>\n",
       "    </tr>\n",
       "    <tr>\n",
       "      <th>1</th>\n",
       "      <td>0</td>\n",
       "      <td>BSh</td>\n",
       "      <td>2014</td>\n",
       "      <td>4</td>\n",
       "      <td>847.35</td>\n",
       "    </tr>\n",
       "    <tr>\n",
       "      <th>2</th>\n",
       "      <td>0</td>\n",
       "      <td>BSh</td>\n",
       "      <td>2015</td>\n",
       "      <td>1</td>\n",
       "      <td>804.47</td>\n",
       "    </tr>\n",
       "  </tbody>\n",
       "</table>\n",
       "</div>"
      ],
      "text/plain": [
       "   loc_group climate_type  year  season  first_wind\n",
       "0          0          BSh  2014       3      899.66\n",
       "1          0          BSh  2014       4      847.35\n",
       "2          0          BSh  2015       1      804.47"
      ]
     },
     "execution_count": 25,
     "metadata": {},
     "output_type": "execute_result"
    }
   ],
   "source": [
    "first_wind_df = create_df_by_group_and_agg(df, season_group_cols, \"first\", wind_col, \"first_wind\")\n",
    "first_wind_df.head(3)"
   ]
  },
  {
   "cell_type": "code",
   "execution_count": 26,
   "id": "c0bdcedd",
   "metadata": {},
   "outputs": [
    {
     "name": "stdout",
     "output_type": "stream",
     "text": [
      "Nan\n"
     ]
    },
    {
     "data": {
      "text/html": [
       "<div>\n",
       "<style scoped>\n",
       "    .dataframe tbody tr th:only-of-type {\n",
       "        vertical-align: middle;\n",
       "    }\n",
       "\n",
       "    .dataframe tbody tr th {\n",
       "        vertical-align: top;\n",
       "    }\n",
       "\n",
       "    .dataframe thead th {\n",
       "        text-align: right;\n",
       "    }\n",
       "</style>\n",
       "<table border=\"1\" class=\"dataframe\">\n",
       "  <thead>\n",
       "    <tr style=\"text-align: right;\">\n",
       "      <th></th>\n",
       "      <th>loc_group</th>\n",
       "      <th>climate_type</th>\n",
       "      <th>year</th>\n",
       "      <th>season</th>\n",
       "      <th>first_precip</th>\n",
       "    </tr>\n",
       "  </thead>\n",
       "  <tbody>\n",
       "    <tr>\n",
       "      <th>0</th>\n",
       "      <td>0</td>\n",
       "      <td>BSh</td>\n",
       "      <td>2014</td>\n",
       "      <td>3</td>\n",
       "      <td>94.31</td>\n",
       "    </tr>\n",
       "    <tr>\n",
       "      <th>1</th>\n",
       "      <td>0</td>\n",
       "      <td>BSh</td>\n",
       "      <td>2014</td>\n",
       "      <td>4</td>\n",
       "      <td>25.53</td>\n",
       "    </tr>\n",
       "    <tr>\n",
       "      <th>2</th>\n",
       "      <td>0</td>\n",
       "      <td>BSh</td>\n",
       "      <td>2015</td>\n",
       "      <td>1</td>\n",
       "      <td>31.94</td>\n",
       "    </tr>\n",
       "  </tbody>\n",
       "</table>\n",
       "</div>"
      ],
      "text/plain": [
       "   loc_group climate_type  year  season  first_precip\n",
       "0          0          BSh  2014       3         94.31\n",
       "1          0          BSh  2014       4         25.53\n",
       "2          0          BSh  2015       1         31.94"
      ]
     },
     "execution_count": 26,
     "metadata": {},
     "output_type": "execute_result"
    }
   ],
   "source": [
    "first_precip_df = create_df_by_group_and_agg(df, season_group_cols, \"first\", precip_col, \"first_precip\")\n",
    "first_precip_df.head(3)"
   ]
  },
  {
   "cell_type": "code",
   "execution_count": 27,
   "id": "a38a50e1",
   "metadata": {},
   "outputs": [
    {
     "name": "stdout",
     "output_type": "stream",
     "text": [
      "Nan\n"
     ]
    },
    {
     "data": {
      "text/html": [
       "<div>\n",
       "<style scoped>\n",
       "    .dataframe tbody tr th:only-of-type {\n",
       "        vertical-align: middle;\n",
       "    }\n",
       "\n",
       "    .dataframe tbody tr th {\n",
       "        vertical-align: top;\n",
       "    }\n",
       "\n",
       "    .dataframe thead th {\n",
       "        text-align: right;\n",
       "    }\n",
       "</style>\n",
       "<table border=\"1\" class=\"dataframe\">\n",
       "  <thead>\n",
       "    <tr style=\"text-align: right;\">\n",
       "      <th></th>\n",
       "      <th>loc_group</th>\n",
       "      <th>climate_type</th>\n",
       "      <th>year</th>\n",
       "      <th>season</th>\n",
       "      <th>first_ccsm3</th>\n",
       "    </tr>\n",
       "  </thead>\n",
       "  <tbody>\n",
       "    <tr>\n",
       "      <th>0</th>\n",
       "      <td>0</td>\n",
       "      <td>BSh</td>\n",
       "      <td>2014</td>\n",
       "      <td>3</td>\n",
       "      <td>27.57</td>\n",
       "    </tr>\n",
       "    <tr>\n",
       "      <th>1</th>\n",
       "      <td>0</td>\n",
       "      <td>BSh</td>\n",
       "      <td>2014</td>\n",
       "      <td>4</td>\n",
       "      <td>6.66</td>\n",
       "    </tr>\n",
       "    <tr>\n",
       "      <th>2</th>\n",
       "      <td>0</td>\n",
       "      <td>BSh</td>\n",
       "      <td>2015</td>\n",
       "      <td>1</td>\n",
       "      <td>15.25</td>\n",
       "    </tr>\n",
       "  </tbody>\n",
       "</table>\n",
       "</div>"
      ],
      "text/plain": [
       "   loc_group climate_type  year  season  first_ccsm3\n",
       "0          0          BSh  2014       3        27.57\n",
       "1          0          BSh  2014       4         6.66\n",
       "2          0          BSh  2015       1        15.25"
      ]
     },
     "execution_count": 27,
     "metadata": {},
     "output_type": "execute_result"
    }
   ],
   "source": [
    "first_ccsm3_df = create_df_by_group_and_agg(df, season_group_cols, \"first\", ccsm3_col, \"first_ccsm3\")\n",
    "first_ccsm3_df.head(3)"
   ]
  },
  {
   "cell_type": "code",
   "execution_count": 28,
   "id": "ec6a5160",
   "metadata": {},
   "outputs": [
    {
     "name": "stdout",
     "output_type": "stream",
     "text": [
      "Nan\n"
     ]
    },
    {
     "data": {
      "text/html": [
       "<div>\n",
       "<style scoped>\n",
       "    .dataframe tbody tr th:only-of-type {\n",
       "        vertical-align: middle;\n",
       "    }\n",
       "\n",
       "    .dataframe tbody tr th {\n",
       "        vertical-align: top;\n",
       "    }\n",
       "\n",
       "    .dataframe thead th {\n",
       "        text-align: right;\n",
       "    }\n",
       "</style>\n",
       "<table border=\"1\" class=\"dataframe\">\n",
       "  <thead>\n",
       "    <tr style=\"text-align: right;\">\n",
       "      <th></th>\n",
       "      <th>loc_group</th>\n",
       "      <th>climate_type</th>\n",
       "      <th>year</th>\n",
       "      <th>season</th>\n",
       "      <th>first_pres</th>\n",
       "    </tr>\n",
       "  </thead>\n",
       "  <tbody>\n",
       "    <tr>\n",
       "      <th>0</th>\n",
       "      <td>0</td>\n",
       "      <td>BSh</td>\n",
       "      <td>2014</td>\n",
       "      <td>3</td>\n",
       "      <td>27.57</td>\n",
       "    </tr>\n",
       "    <tr>\n",
       "      <th>1</th>\n",
       "      <td>0</td>\n",
       "      <td>BSh</td>\n",
       "      <td>2014</td>\n",
       "      <td>4</td>\n",
       "      <td>6.66</td>\n",
       "    </tr>\n",
       "    <tr>\n",
       "      <th>2</th>\n",
       "      <td>0</td>\n",
       "      <td>BSh</td>\n",
       "      <td>2015</td>\n",
       "      <td>1</td>\n",
       "      <td>15.25</td>\n",
       "    </tr>\n",
       "  </tbody>\n",
       "</table>\n",
       "</div>"
      ],
      "text/plain": [
       "   loc_group climate_type  year  season  first_pres\n",
       "0          0          BSh  2014       3       27.57\n",
       "1          0          BSh  2014       4        6.66\n",
       "2          0          BSh  2015       1       15.25"
      ]
     },
     "execution_count": 28,
     "metadata": {},
     "output_type": "execute_result"
    }
   ],
   "source": [
    "first_pres_df = create_df_by_group_and_agg(df, season_group_cols, \"first\", ccsm3_col, \"first_pres\")\n",
    "first_pres_df.head(3)"
   ]
  },
  {
   "cell_type": "code",
   "execution_count": 29,
   "id": "49685bc2",
   "metadata": {},
   "outputs": [
    {
     "name": "stdout",
     "output_type": "stream",
     "text": [
      "Nan\n"
     ]
    },
    {
     "data": {
      "text/html": [
       "<div>\n",
       "<style scoped>\n",
       "    .dataframe tbody tr th:only-of-type {\n",
       "        vertical-align: middle;\n",
       "    }\n",
       "\n",
       "    .dataframe tbody tr th {\n",
       "        vertical-align: top;\n",
       "    }\n",
       "\n",
       "    .dataframe thead th {\n",
       "        text-align: right;\n",
       "    }\n",
       "</style>\n",
       "<table border=\"1\" class=\"dataframe\">\n",
       "  <thead>\n",
       "    <tr style=\"text-align: right;\">\n",
       "      <th></th>\n",
       "      <th>loc_group</th>\n",
       "      <th>climate_type</th>\n",
       "      <th>year</th>\n",
       "      <th>season</th>\n",
       "      <th>first_sst</th>\n",
       "    </tr>\n",
       "  </thead>\n",
       "  <tbody>\n",
       "    <tr>\n",
       "      <th>0</th>\n",
       "      <td>0</td>\n",
       "      <td>BSh</td>\n",
       "      <td>2014</td>\n",
       "      <td>3</td>\n",
       "      <td>352.20</td>\n",
       "    </tr>\n",
       "    <tr>\n",
       "      <th>1</th>\n",
       "      <td>0</td>\n",
       "      <td>BSh</td>\n",
       "      <td>2014</td>\n",
       "      <td>4</td>\n",
       "      <td>-27.73</td>\n",
       "    </tr>\n",
       "    <tr>\n",
       "      <th>2</th>\n",
       "      <td>0</td>\n",
       "      <td>BSh</td>\n",
       "      <td>2015</td>\n",
       "      <td>1</td>\n",
       "      <td>-182.10</td>\n",
       "    </tr>\n",
       "  </tbody>\n",
       "</table>\n",
       "</div>"
      ],
      "text/plain": [
       "   loc_group climate_type  year  season  first_sst\n",
       "0          0          BSh  2014       3     352.20\n",
       "1          0          BSh  2014       4     -27.73\n",
       "2          0          BSh  2015       1    -182.10"
      ]
     },
     "execution_count": 29,
     "metadata": {},
     "output_type": "execute_result"
    }
   ],
   "source": [
    "first_sst_df = create_df_by_group_and_agg(df, season_group_cols, \"first\", stt_col, \"first_sst\")\n",
    "first_sst_df.head(3)"
   ]
  },
  {
   "cell_type": "code",
   "execution_count": 30,
   "id": "a676e9bd",
   "metadata": {},
   "outputs": [
    {
     "name": "stdout",
     "output_type": "stream",
     "text": [
      "Nan\n"
     ]
    },
    {
     "data": {
      "text/html": [
       "<div>\n",
       "<style scoped>\n",
       "    .dataframe tbody tr th:only-of-type {\n",
       "        vertical-align: middle;\n",
       "    }\n",
       "\n",
       "    .dataframe tbody tr th {\n",
       "        vertical-align: top;\n",
       "    }\n",
       "\n",
       "    .dataframe thead th {\n",
       "        text-align: right;\n",
       "    }\n",
       "</style>\n",
       "<table border=\"1\" class=\"dataframe\">\n",
       "  <thead>\n",
       "    <tr style=\"text-align: right;\">\n",
       "      <th></th>\n",
       "      <th>loc_group</th>\n",
       "      <th>climate_type</th>\n",
       "      <th>year</th>\n",
       "      <th>season</th>\n",
       "      <th>first_sst_5</th>\n",
       "    </tr>\n",
       "  </thead>\n",
       "  <tbody>\n",
       "    <tr>\n",
       "      <th>0</th>\n",
       "      <td>0</td>\n",
       "      <td>BSh</td>\n",
       "      <td>2014</td>\n",
       "      <td>3</td>\n",
       "      <td>19.29</td>\n",
       "    </tr>\n",
       "    <tr>\n",
       "      <th>1</th>\n",
       "      <td>0</td>\n",
       "      <td>BSh</td>\n",
       "      <td>2014</td>\n",
       "      <td>4</td>\n",
       "      <td>24.82</td>\n",
       "    </tr>\n",
       "    <tr>\n",
       "      <th>2</th>\n",
       "      <td>0</td>\n",
       "      <td>BSh</td>\n",
       "      <td>2015</td>\n",
       "      <td>1</td>\n",
       "      <td>23.47</td>\n",
       "    </tr>\n",
       "  </tbody>\n",
       "</table>\n",
       "</div>"
      ],
      "text/plain": [
       "   loc_group climate_type  year  season  first_sst_5\n",
       "0          0          BSh  2014       3        19.29\n",
       "1          0          BSh  2014       4        24.82\n",
       "2          0          BSh  2015       1        23.47"
      ]
     },
     "execution_count": 30,
     "metadata": {},
     "output_type": "execute_result"
    }
   ],
   "source": [
    "first_sst_5_df = create_df_by_group_and_agg(df, season_group_cols, \"first\", sst_col_5, \"first_sst_5\")\n",
    "first_sst_5_df.head(3)"
   ]
  },
  {
   "cell_type": "code",
   "execution_count": 31,
   "id": "9119aee5",
   "metadata": {},
   "outputs": [
    {
     "name": "stdout",
     "output_type": "stream",
     "text": [
      "Nan\n"
     ]
    },
    {
     "data": {
      "text/html": [
       "<div>\n",
       "<style scoped>\n",
       "    .dataframe tbody tr th:only-of-type {\n",
       "        vertical-align: middle;\n",
       "    }\n",
       "\n",
       "    .dataframe tbody tr th {\n",
       "        vertical-align: top;\n",
       "    }\n",
       "\n",
       "    .dataframe thead th {\n",
       "        text-align: right;\n",
       "    }\n",
       "</style>\n",
       "<table border=\"1\" class=\"dataframe\">\n",
       "  <thead>\n",
       "    <tr style=\"text-align: right;\">\n",
       "      <th></th>\n",
       "      <th>loc_group</th>\n",
       "      <th>climate_type</th>\n",
       "      <th>year</th>\n",
       "      <th>season</th>\n",
       "      <th>min_sst</th>\n",
       "    </tr>\n",
       "  </thead>\n",
       "  <tbody>\n",
       "    <tr>\n",
       "      <th>0</th>\n",
       "      <td>0</td>\n",
       "      <td>BSh</td>\n",
       "      <td>2014</td>\n",
       "      <td>3</td>\n",
       "      <td>-24.17</td>\n",
       "    </tr>\n",
       "    <tr>\n",
       "      <th>1</th>\n",
       "      <td>0</td>\n",
       "      <td>BSh</td>\n",
       "      <td>2014</td>\n",
       "      <td>4</td>\n",
       "      <td>-110.84</td>\n",
       "    </tr>\n",
       "    <tr>\n",
       "      <th>2</th>\n",
       "      <td>0</td>\n",
       "      <td>BSh</td>\n",
       "      <td>2015</td>\n",
       "      <td>1</td>\n",
       "      <td>-183.70</td>\n",
       "    </tr>\n",
       "  </tbody>\n",
       "</table>\n",
       "</div>"
      ],
      "text/plain": [
       "   loc_group climate_type  year  season  min_sst\n",
       "0          0          BSh  2014       3   -24.17\n",
       "1          0          BSh  2014       4  -110.84\n",
       "2          0          BSh  2015       1  -183.70"
      ]
     },
     "execution_count": 31,
     "metadata": {},
     "output_type": "execute_result"
    }
   ],
   "source": [
    "min_sst_df = create_df_by_group_and_agg(df, season_group_cols, \"min\", stt_col, \"min_sst\")\n",
    "min_sst_df.head(3)"
   ]
  },
  {
   "cell_type": "code",
   "execution_count": 32,
   "id": "8538ddbe",
   "metadata": {},
   "outputs": [
    {
     "name": "stdout",
     "output_type": "stream",
     "text": [
      "Nan\n"
     ]
    },
    {
     "data": {
      "text/html": [
       "<div>\n",
       "<style scoped>\n",
       "    .dataframe tbody tr th:only-of-type {\n",
       "        vertical-align: middle;\n",
       "    }\n",
       "\n",
       "    .dataframe tbody tr th {\n",
       "        vertical-align: top;\n",
       "    }\n",
       "\n",
       "    .dataframe thead th {\n",
       "        text-align: right;\n",
       "    }\n",
       "</style>\n",
       "<table border=\"1\" class=\"dataframe\">\n",
       "  <thead>\n",
       "    <tr style=\"text-align: right;\">\n",
       "      <th></th>\n",
       "      <th>loc_group</th>\n",
       "      <th>climate_type</th>\n",
       "      <th>year</th>\n",
       "      <th>season</th>\n",
       "      <th>min_sst_5</th>\n",
       "    </tr>\n",
       "  </thead>\n",
       "  <tbody>\n",
       "    <tr>\n",
       "      <th>0</th>\n",
       "      <td>0</td>\n",
       "      <td>BSh</td>\n",
       "      <td>2014</td>\n",
       "      <td>3</td>\n",
       "      <td>7.98</td>\n",
       "    </tr>\n",
       "    <tr>\n",
       "      <th>1</th>\n",
       "      <td>0</td>\n",
       "      <td>BSh</td>\n",
       "      <td>2014</td>\n",
       "      <td>4</td>\n",
       "      <td>24.81</td>\n",
       "    </tr>\n",
       "    <tr>\n",
       "      <th>2</th>\n",
       "      <td>0</td>\n",
       "      <td>BSh</td>\n",
       "      <td>2015</td>\n",
       "      <td>1</td>\n",
       "      <td>-7.76</td>\n",
       "    </tr>\n",
       "  </tbody>\n",
       "</table>\n",
       "</div>"
      ],
      "text/plain": [
       "   loc_group climate_type  year  season  min_sst_5\n",
       "0          0          BSh  2014       3       7.98\n",
       "1          0          BSh  2014       4      24.81\n",
       "2          0          BSh  2015       1      -7.76"
      ]
     },
     "execution_count": 32,
     "metadata": {},
     "output_type": "execute_result"
    }
   ],
   "source": [
    "min_sst_5_df = create_df_by_group_and_agg(df, season_group_cols, \"min\", sst_col_5, \"min_sst_5\")\n",
    "min_sst_5_df.head(3)"
   ]
  },
  {
   "cell_type": "code",
   "execution_count": 33,
   "id": "74bce092",
   "metadata": {},
   "outputs": [
    {
     "name": "stdout",
     "output_type": "stream",
     "text": [
      "Nan\n"
     ]
    },
    {
     "data": {
      "text/html": [
       "<div>\n",
       "<style scoped>\n",
       "    .dataframe tbody tr th:only-of-type {\n",
       "        vertical-align: middle;\n",
       "    }\n",
       "\n",
       "    .dataframe tbody tr th {\n",
       "        vertical-align: top;\n",
       "    }\n",
       "\n",
       "    .dataframe thead th {\n",
       "        text-align: right;\n",
       "    }\n",
       "</style>\n",
       "<table border=\"1\" class=\"dataframe\">\n",
       "  <thead>\n",
       "    <tr style=\"text-align: right;\">\n",
       "      <th></th>\n",
       "      <th>loc_group</th>\n",
       "      <th>climate_type</th>\n",
       "      <th>year</th>\n",
       "      <th>season</th>\n",
       "      <th>max_sst</th>\n",
       "    </tr>\n",
       "  </thead>\n",
       "  <tbody>\n",
       "    <tr>\n",
       "      <th>0</th>\n",
       "      <td>0</td>\n",
       "      <td>BSh</td>\n",
       "      <td>2014</td>\n",
       "      <td>3</td>\n",
       "      <td>352.20</td>\n",
       "    </tr>\n",
       "    <tr>\n",
       "      <th>1</th>\n",
       "      <td>0</td>\n",
       "      <td>BSh</td>\n",
       "      <td>2014</td>\n",
       "      <td>4</td>\n",
       "      <td>-27.73</td>\n",
       "    </tr>\n",
       "    <tr>\n",
       "      <th>2</th>\n",
       "      <td>0</td>\n",
       "      <td>BSh</td>\n",
       "      <td>2015</td>\n",
       "      <td>1</td>\n",
       "      <td>15.72</td>\n",
       "    </tr>\n",
       "  </tbody>\n",
       "</table>\n",
       "</div>"
      ],
      "text/plain": [
       "   loc_group climate_type  year  season  max_sst\n",
       "0          0          BSh  2014       3   352.20\n",
       "1          0          BSh  2014       4   -27.73\n",
       "2          0          BSh  2015       1    15.72"
      ]
     },
     "execution_count": 33,
     "metadata": {},
     "output_type": "execute_result"
    }
   ],
   "source": [
    "max_sst_df = create_df_by_group_and_agg(df, season_group_cols, \"max\", stt_col, \"max_sst\")\n",
    "max_sst_df.head(3)"
   ]
  },
  {
   "cell_type": "code",
   "execution_count": 34,
   "id": "21637e4c",
   "metadata": {},
   "outputs": [
    {
     "name": "stdout",
     "output_type": "stream",
     "text": [
      "Nan\n"
     ]
    },
    {
     "data": {
      "text/html": [
       "<div>\n",
       "<style scoped>\n",
       "    .dataframe tbody tr th:only-of-type {\n",
       "        vertical-align: middle;\n",
       "    }\n",
       "\n",
       "    .dataframe tbody tr th {\n",
       "        vertical-align: top;\n",
       "    }\n",
       "\n",
       "    .dataframe thead th {\n",
       "        text-align: right;\n",
       "    }\n",
       "</style>\n",
       "<table border=\"1\" class=\"dataframe\">\n",
       "  <thead>\n",
       "    <tr style=\"text-align: right;\">\n",
       "      <th></th>\n",
       "      <th>loc_group</th>\n",
       "      <th>climate_type</th>\n",
       "      <th>year</th>\n",
       "      <th>season</th>\n",
       "      <th>max_sst_5</th>\n",
       "    </tr>\n",
       "  </thead>\n",
       "  <tbody>\n",
       "    <tr>\n",
       "      <th>0</th>\n",
       "      <td>0</td>\n",
       "      <td>BSh</td>\n",
       "      <td>2014</td>\n",
       "      <td>3</td>\n",
       "      <td>24.50</td>\n",
       "    </tr>\n",
       "    <tr>\n",
       "      <th>1</th>\n",
       "      <td>0</td>\n",
       "      <td>BSh</td>\n",
       "      <td>2014</td>\n",
       "      <td>4</td>\n",
       "      <td>27.65</td>\n",
       "    </tr>\n",
       "    <tr>\n",
       "      <th>2</th>\n",
       "      <td>0</td>\n",
       "      <td>BSh</td>\n",
       "      <td>2015</td>\n",
       "      <td>1</td>\n",
       "      <td>23.47</td>\n",
       "    </tr>\n",
       "  </tbody>\n",
       "</table>\n",
       "</div>"
      ],
      "text/plain": [
       "   loc_group climate_type  year  season  max_sst_5\n",
       "0          0          BSh  2014       3      24.50\n",
       "1          0          BSh  2014       4      27.65\n",
       "2          0          BSh  2015       1      23.47"
      ]
     },
     "execution_count": 34,
     "metadata": {},
     "output_type": "execute_result"
    }
   ],
   "source": [
    "max_sst_5_df = create_df_by_group_and_agg(df, season_group_cols, \"max\", sst_col_5, \"max_sst_5\")\n",
    "max_sst_5_df.head(3)"
   ]
  },
  {
   "cell_type": "code",
   "execution_count": 35,
   "id": "82f437d2",
   "metadata": {
    "scrolled": true
   },
   "outputs": [
    {
     "name": "stdout",
     "output_type": "stream",
     "text": [
      "Nan\n"
     ]
    },
    {
     "data": {
      "text/html": [
       "<div>\n",
       "<style scoped>\n",
       "    .dataframe tbody tr th:only-of-type {\n",
       "        vertical-align: middle;\n",
       "    }\n",
       "\n",
       "    .dataframe tbody tr th {\n",
       "        vertical-align: top;\n",
       "    }\n",
       "\n",
       "    .dataframe thead th {\n",
       "        text-align: right;\n",
       "    }\n",
       "</style>\n",
       "<table border=\"1\" class=\"dataframe\">\n",
       "  <thead>\n",
       "    <tr style=\"text-align: right;\">\n",
       "      <th></th>\n",
       "      <th>loc_group</th>\n",
       "      <th>climate_type</th>\n",
       "      <th>year</th>\n",
       "      <th>season</th>\n",
       "      <th>month</th>\n",
       "      <th>first_slp_month</th>\n",
       "    </tr>\n",
       "  </thead>\n",
       "  <tbody>\n",
       "    <tr>\n",
       "      <th>0</th>\n",
       "      <td>0</td>\n",
       "      <td>BSh</td>\n",
       "      <td>2014</td>\n",
       "      <td>3</td>\n",
       "      <td>9</td>\n",
       "      <td>1352.08</td>\n",
       "    </tr>\n",
       "    <tr>\n",
       "      <th>1</th>\n",
       "      <td>0</td>\n",
       "      <td>BSh</td>\n",
       "      <td>2014</td>\n",
       "      <td>3</td>\n",
       "      <td>10</td>\n",
       "      <td>1254.96</td>\n",
       "    </tr>\n",
       "    <tr>\n",
       "      <th>2</th>\n",
       "      <td>0</td>\n",
       "      <td>BSh</td>\n",
       "      <td>2014</td>\n",
       "      <td>3</td>\n",
       "      <td>11</td>\n",
       "      <td>1952.19</td>\n",
       "    </tr>\n",
       "  </tbody>\n",
       "</table>\n",
       "</div>"
      ],
      "text/plain": [
       "   loc_group climate_type  year  season  month  first_slp_month\n",
       "0          0          BSh  2014       3      9          1352.08\n",
       "1          0          BSh  2014       3     10          1254.96\n",
       "2          0          BSh  2014       3     11          1952.19"
      ]
     },
     "execution_count": 35,
     "metadata": {},
     "output_type": "execute_result"
    }
   ],
   "source": [
    "first_slp_df_month = create_df_by_group_and_agg(df, group_cols, \"first\", slp_col, \"first_slp_month\")\n",
    "first_slp_df_month.head(3)"
   ]
  },
  {
   "cell_type": "code",
   "execution_count": 36,
   "id": "12de230a",
   "metadata": {},
   "outputs": [],
   "source": [
    "df = df.merge(first_slp_df, how='left', on=season_group_cols)\n",
    "df['diff_slp_first'] = df[slp_col] - df['first_slp']\n",
    "assign_train_test_df('diff_slp_first')"
   ]
  },
  {
   "cell_type": "code",
   "execution_count": 37,
   "id": "7c589eec",
   "metadata": {},
   "outputs": [],
   "source": [
    "df = df.merge(first_precip_df, how='left', on=season_group_cols)\n",
    "df['diff_precip_first'] = df[precip_col] - df['first_precip']\n",
    "assign_train_test_df('diff_precip_first')"
   ]
  },
  {
   "cell_type": "code",
   "execution_count": 38,
   "id": "61fcf9a5",
   "metadata": {},
   "outputs": [],
   "source": [
    "df = df.merge(first_sst_df, how='left', on=season_group_cols)\n",
    "df['diff_sst_first'] = df[stt_col] - df['first_sst']\n",
    "assign_train_test_df('diff_sst_first')"
   ]
  },
  {
   "cell_type": "code",
   "execution_count": 39,
   "id": "686fd1f7",
   "metadata": {},
   "outputs": [],
   "source": [
    "df = df.merge(first_sst_5_df, how='left', on=season_group_cols)\n",
    "df['diff_sst_5_first'] = df[sst_col_5] - df['first_sst_5']\n",
    "assign_train_test_df('diff_sst_5_first')"
   ]
  },
  {
   "cell_type": "code",
   "execution_count": 40,
   "id": "6c0d0889",
   "metadata": {},
   "outputs": [],
   "source": [
    "df = df.merge(min_sst_df, how='left', on=season_group_cols)\n",
    "df['diff_sst_min'] = df[stt_col] - df['min_sst']\n",
    "assign_train_test_df('diff_sst_min')"
   ]
  },
  {
   "cell_type": "code",
   "execution_count": 41,
   "id": "8f2b200a",
   "metadata": {},
   "outputs": [],
   "source": [
    "df = df.merge(max_sst_df, how='left', on=season_group_cols)\n",
    "df['diff_sst_max'] = df['max_sst'] - df[stt_col]\n",
    "assign_train_test_df('diff_sst_max')"
   ]
  },
  {
   "cell_type": "code",
   "execution_count": 42,
   "id": "45a87000",
   "metadata": {},
   "outputs": [],
   "source": [
    "df = df.merge(max_sst_5_df, how='left', on=season_group_cols)\n",
    "df['diff_sst_5_max'] = df[sst_col_5] - df['max_sst_5']\n",
    "assign_train_test_df('diff_sst_5_max')"
   ]
  },
  {
   "cell_type": "code",
   "execution_count": 43,
   "id": "21937156",
   "metadata": {},
   "outputs": [],
   "source": [
    "df = df.merge(min_sst_5_df, how='left', on=season_group_cols)\n",
    "df['diff_sst_5_min'] = df[sst_col_5] - df['min_sst_5']\n",
    "assign_train_test_df('diff_sst_5_min')"
   ]
  },
  {
   "cell_type": "code",
   "execution_count": 44,
   "id": "0df28569",
   "metadata": {},
   "outputs": [],
   "source": [
    "df = df.merge(first_pres_df, how='left', on=season_group_cols)\n",
    "df['diff_pres_first'] = df[pres_col] - df['first_pres']\n",
    "assign_train_test_df('diff_pres_first')"
   ]
  },
  {
   "cell_type": "code",
   "execution_count": 45,
   "id": "5f0c2fd8",
   "metadata": {},
   "outputs": [],
   "source": [
    "df = df.merge(first_wind_df, how='left', on=season_group_cols)\n",
    "df['diff_wind_first'] = df[wind_col] - df['first_wind']\n",
    "assign_train_test_df('diff_wind_first')"
   ]
  },
  {
   "cell_type": "code",
   "execution_count": 46,
   "id": "fbd4808f",
   "metadata": {},
   "outputs": [],
   "source": [
    "df = df.merge(first_ccsm3_df, how='left', on=season_group_cols)\n",
    "df['diff_ccsm3_first'] = df[ccsm3_col] - df['first_ccsm3']\n",
    "assign_train_test_df('diff_ccsm3_first')"
   ]
  },
  {
   "cell_type": "code",
   "execution_count": 47,
   "id": "f3fab9ab",
   "metadata": {},
   "outputs": [],
   "source": [
    "# df[f'{precip_col}_bins'] = pd.qcut(df[precip_col], q=5, labels=[f'{precip_col}_{i}' for i in range(5)])\n",
    "# le = LabelEncoder().fit(np.unique(df[f'{precip_col}_bins'].unique().tolist()))\n",
    "# df[f'{precip_col}_bins'] = le.transform(df[f'{precip_col}_bins']) + 1\n",
    "# df[f'{precip_col}_bins'] = df[f'{precip_col}_bins'].replace(np.nan, 0).astype('int').astype('category')\n",
    "# assign_train_test_df(f'{precip_col}_bins')"
   ]
  },
  {
   "cell_type": "code",
   "execution_count": 48,
   "id": "c30565f9",
   "metadata": {},
   "outputs": [],
   "source": [
    "df['range_sst'] = df['max_sst'] - df['min_sst']\n",
    "assign_train_test_df('range_sst')"
   ]
  },
  {
   "cell_type": "code",
   "execution_count": 49,
   "id": "de107ae0",
   "metadata": {},
   "outputs": [],
   "source": [
    "df['range_sst_5'] = df['max_sst_5'] - df['min_sst_5']\n",
    "assign_train_test_df('range_sst_5')"
   ]
  },
  {
   "cell_type": "code",
   "execution_count": 52,
   "id": "a5ec3a09",
   "metadata": {},
   "outputs": [],
   "source": [
    "features = best_cols + [\n",
    "    'diff_slp_first',\n",
    "    'diff_wind_first',\n",
    "    'diff_sst_first',\n",
    "    'diff_precip_first',\n",
    "    'diff_sst_min',\n",
    "    'diff_sst_max',\n",
    "    'range_sst',\n",
    "    'diff_sst_5_first',\n",
    "    'diff_sst_5_min',\n",
    "    'diff_sst_5_max',\n",
    "    'range_sst_5'\n",
    "]"
   ]
  },
  {
   "cell_type": "code",
   "execution_count": 53,
   "id": "67bd89c6",
   "metadata": {},
   "outputs": [
    {
     "name": "stderr",
     "output_type": "stream",
     "text": [
      "5it [00:07,  1.43s/it]\n"
     ]
    },
    {
     "name": "stdout",
     "output_type": "stream",
     "text": [
      "(375734, 74) (375734,)\n"
     ]
    },
    {
     "name": "stderr",
     "output_type": "stream",
     "text": [
      "\r",
      "  0%|                                                                                                | 0/5 [00:00<?, ?it/s]"
     ]
    },
    {
     "name": "stdout",
     "output_type": "stream",
     "text": [
      "Learning rate set to 0.072699\n",
      "0:\tlearn: 9.2611105\ttest: 9.2407165\tbest: 9.2407165 (0)\ttotal: 6.8ms\tremaining: 34s\n",
      "200:\tlearn: 1.1885868\ttest: 1.1937599\tbest: 1.1937599 (200)\ttotal: 1.02s\tremaining: 24.5s\n",
      "400:\tlearn: 0.9226000\ttest: 0.9304525\tbest: 0.9304525 (400)\ttotal: 1.98s\tremaining: 22.7s\n",
      "600:\tlearn: 0.7881113\ttest: 0.7989271\tbest: 0.7989271 (600)\ttotal: 2.99s\tremaining: 21.9s\n",
      "800:\tlearn: 0.7034452\ttest: 0.7160416\tbest: 0.7160416 (800)\ttotal: 3.95s\tremaining: 20.7s\n",
      "1000:\tlearn: 0.6448763\ttest: 0.6590577\tbest: 0.6590577 (1000)\ttotal: 5.15s\tremaining: 20.6s\n",
      "1200:\tlearn: 0.5989183\ttest: 0.6144395\tbest: 0.6144395 (1200)\ttotal: 6.32s\tremaining: 20s\n",
      "1400:\tlearn: 0.5648944\ttest: 0.5814678\tbest: 0.5814678 (1400)\ttotal: 7.58s\tremaining: 19.5s\n",
      "1600:\tlearn: 0.5366364\ttest: 0.5541505\tbest: 0.5541505 (1600)\ttotal: 8.78s\tremaining: 18.6s\n",
      "1800:\tlearn: 0.5119562\ttest: 0.5304563\tbest: 0.5304563 (1800)\ttotal: 10.1s\tremaining: 17.9s\n",
      "2000:\tlearn: 0.4906111\ttest: 0.5099558\tbest: 0.5099558 (2000)\ttotal: 11.3s\tremaining: 16.9s\n",
      "2200:\tlearn: 0.4710022\ttest: 0.4911125\tbest: 0.4911125 (2200)\ttotal: 12.4s\tremaining: 15.8s\n",
      "2400:\tlearn: 0.4539753\ttest: 0.4748649\tbest: 0.4748649 (2400)\ttotal: 13.6s\tremaining: 14.7s\n",
      "2600:\tlearn: 0.4385111\ttest: 0.4603268\tbest: 0.4603268 (2600)\ttotal: 14.7s\tremaining: 13.6s\n",
      "2800:\tlearn: 0.4245443\ttest: 0.4472830\tbest: 0.4472830 (2800)\ttotal: 15.6s\tremaining: 12.2s\n",
      "3000:\tlearn: 0.4120184\ttest: 0.4356632\tbest: 0.4356632 (3000)\ttotal: 16.5s\tremaining: 11s\n",
      "3200:\tlearn: 0.4001530\ttest: 0.4246281\tbest: 0.4246281 (3200)\ttotal: 17.4s\tremaining: 9.76s\n",
      "3400:\tlearn: 0.3891930\ttest: 0.4142535\tbest: 0.4142535 (3400)\ttotal: 18.3s\tremaining: 8.59s\n",
      "3600:\tlearn: 0.3789956\ttest: 0.4047248\tbest: 0.4047248 (3600)\ttotal: 19.3s\tremaining: 7.5s\n",
      "3800:\tlearn: 0.3697308\ttest: 0.3961518\tbest: 0.3961518 (3800)\ttotal: 20.2s\tremaining: 6.37s\n",
      "4000:\tlearn: 0.3615012\ttest: 0.3884687\tbest: 0.3884687 (4000)\ttotal: 21.2s\tremaining: 5.29s\n",
      "4200:\tlearn: 0.3531059\ttest: 0.3806213\tbest: 0.3806213 (4200)\ttotal: 22.1s\tremaining: 4.2s\n",
      "4400:\tlearn: 0.3457004\ttest: 0.3736829\tbest: 0.3736829 (4400)\ttotal: 23s\tremaining: 3.13s\n",
      "4600:\tlearn: 0.3383978\ttest: 0.3668319\tbest: 0.3668319 (4600)\ttotal: 23.9s\tremaining: 2.07s\n",
      "4800:\tlearn: 0.3319387\ttest: 0.3608282\tbest: 0.3608282 (4800)\ttotal: 24.8s\tremaining: 1.03s\n",
      "4999:\tlearn: 0.3255460\ttest: 0.3548357\tbest: 0.3548357 (4999)\ttotal: 25.7s\tremaining: 0us\n",
      "bestTest = 0.354835666\n",
      "bestIteration = 4999\n"
     ]
    },
    {
     "name": "stderr",
     "output_type": "stream",
     "text": [
      "\r",
      " 20%|█████████████████▌                                                                      | 1/5 [00:34<02:16, 34.15s/it]"
     ]
    },
    {
     "name": "stdout",
     "output_type": "stream",
     "text": [
      "Learning rate set to 0.072699\n",
      "0:\tlearn: 9.2537635\ttest: 9.2717026\tbest: 9.2717026 (0)\ttotal: 6.03ms\tremaining: 30.1s\n",
      "200:\tlearn: 1.1728804\ttest: 1.1732298\tbest: 1.1732298 (200)\ttotal: 995ms\tremaining: 23.8s\n",
      "400:\tlearn: 0.9121432\ttest: 0.9154610\tbest: 0.9154610 (400)\ttotal: 1.91s\tremaining: 21.9s\n",
      "600:\tlearn: 0.7842692\ttest: 0.7903387\tbest: 0.7903387 (600)\ttotal: 2.84s\tremaining: 20.8s\n",
      "800:\tlearn: 0.7018150\ttest: 0.7103809\tbest: 0.7103809 (800)\ttotal: 3.77s\tremaining: 19.8s\n",
      "1000:\tlearn: 0.6465083\ttest: 0.6571170\tbest: 0.6571170 (1000)\ttotal: 4.71s\tremaining: 18.8s\n",
      "1200:\tlearn: 0.5999493\ttest: 0.6119075\tbest: 0.6119075 (1200)\ttotal: 5.71s\tremaining: 18.1s\n",
      "1400:\tlearn: 0.5627502\ttest: 0.5760423\tbest: 0.5760423 (1400)\ttotal: 6.7s\tremaining: 17.2s\n",
      "1600:\tlearn: 0.5342239\ttest: 0.5489657\tbest: 0.5489657 (1600)\ttotal: 7.68s\tremaining: 16.3s\n",
      "1800:\tlearn: 0.5097545\ttest: 0.5256239\tbest: 0.5256239 (1800)\ttotal: 8.81s\tremaining: 15.6s\n",
      "2000:\tlearn: 0.4882154\ttest: 0.5049773\tbest: 0.5049773 (2000)\ttotal: 10s\tremaining: 15s\n",
      "2200:\tlearn: 0.4697001\ttest: 0.4873718\tbest: 0.4873718 (2200)\ttotal: 11.2s\tremaining: 14.3s\n",
      "2400:\tlearn: 0.4531267\ttest: 0.4719740\tbest: 0.4719740 (2400)\ttotal: 12.4s\tremaining: 13.4s\n",
      "2600:\tlearn: 0.4376117\ttest: 0.4573034\tbest: 0.4573034 (2600)\ttotal: 13.6s\tremaining: 12.5s\n",
      "2800:\tlearn: 0.4240834\ttest: 0.4446509\tbest: 0.4446509 (2800)\ttotal: 14.8s\tremaining: 11.6s\n",
      "3000:\tlearn: 0.4117628\ttest: 0.4331022\tbest: 0.4331022 (3000)\ttotal: 16s\tremaining: 10.7s\n",
      "3200:\tlearn: 0.4005653\ttest: 0.4227152\tbest: 0.4227152 (3200)\ttotal: 17.1s\tremaining: 9.59s\n",
      "3400:\tlearn: 0.3893658\ttest: 0.4122492\tbest: 0.4122492 (3400)\ttotal: 18.2s\tremaining: 8.56s\n",
      "3600:\tlearn: 0.3800121\ttest: 0.4034476\tbest: 0.4034476 (3600)\ttotal: 19.1s\tremaining: 7.42s\n",
      "3800:\tlearn: 0.3709583\ttest: 0.3950143\tbest: 0.3950143 (3800)\ttotal: 20.1s\tremaining: 6.34s\n",
      "4000:\tlearn: 0.3622406\ttest: 0.3869592\tbest: 0.3869592 (4000)\ttotal: 21s\tremaining: 5.24s\n",
      "4200:\tlearn: 0.3539326\ttest: 0.3791852\tbest: 0.3791852 (4200)\ttotal: 21.9s\tremaining: 4.17s\n",
      "4400:\tlearn: 0.3464871\ttest: 0.3723019\tbest: 0.3723019 (4400)\ttotal: 22.9s\tremaining: 3.11s\n",
      "4600:\tlearn: 0.3395990\ttest: 0.3659557\tbest: 0.3659557 (4600)\ttotal: 23.7s\tremaining: 2.06s\n",
      "4800:\tlearn: 0.3327721\ttest: 0.3596959\tbest: 0.3596959 (4800)\ttotal: 24.7s\tremaining: 1.02s\n",
      "4999:\tlearn: 0.3266256\ttest: 0.3540798\tbest: 0.3540798 (4999)\ttotal: 25.6s\tremaining: 0us\n",
      "bestTest = 0.3540797552\n",
      "bestIteration = 4999\n"
     ]
    },
    {
     "name": "stderr",
     "output_type": "stream",
     "text": [
      "\r",
      " 40%|███████████████████████████████████▏                                                    | 2/5 [01:08<01:42, 34.27s/it]"
     ]
    },
    {
     "name": "stdout",
     "output_type": "stream",
     "text": [
      "Learning rate set to 0.072699\n",
      "0:\tlearn: 9.2531718\ttest: 9.2855747\tbest: 9.2855747 (0)\ttotal: 6.37ms\tremaining: 31.8s\n",
      "200:\tlearn: 1.1763653\ttest: 1.1798490\tbest: 1.1798490 (200)\ttotal: 960ms\tremaining: 22.9s\n",
      "400:\tlearn: 0.9162269\ttest: 0.9254900\tbest: 0.9254900 (400)\ttotal: 1.87s\tremaining: 21.5s\n",
      "600:\tlearn: 0.7812988\ttest: 0.7942571\tbest: 0.7942571 (600)\ttotal: 2.83s\tremaining: 20.7s\n",
      "800:\tlearn: 0.7030073\ttest: 0.7176511\tbest: 0.7176511 (800)\ttotal: 3.88s\tremaining: 20.3s\n",
      "1000:\tlearn: 0.6450306\ttest: 0.6611232\tbest: 0.6611232 (1000)\ttotal: 4.91s\tremaining: 19.6s\n",
      "1200:\tlearn: 0.6002426\ttest: 0.6175509\tbest: 0.6175509 (1200)\ttotal: 5.86s\tremaining: 18.5s\n",
      "1400:\tlearn: 0.5660613\ttest: 0.5843116\tbest: 0.5843116 (1400)\ttotal: 6.91s\tremaining: 17.8s\n",
      "1600:\tlearn: 0.5388100\ttest: 0.5578897\tbest: 0.5578897 (1600)\ttotal: 7.96s\tremaining: 16.9s\n",
      "1800:\tlearn: 0.5118966\ttest: 0.5313916\tbest: 0.5313916 (1800)\ttotal: 8.98s\tremaining: 15.9s\n",
      "2000:\tlearn: 0.4898523\ttest: 0.5100616\tbest: 0.5100616 (2000)\ttotal: 9.89s\tremaining: 14.8s\n",
      "2200:\tlearn: 0.4706184\ttest: 0.4915412\tbest: 0.4915412 (2200)\ttotal: 10.8s\tremaining: 13.7s\n",
      "2400:\tlearn: 0.4537976\ttest: 0.4750985\tbest: 0.4750985 (2400)\ttotal: 12.1s\tremaining: 13s\n",
      "2600:\tlearn: 0.4391120\ttest: 0.4610932\tbest: 0.4610932 (2600)\ttotal: 13.2s\tremaining: 12.2s\n",
      "2800:\tlearn: 0.4248853\ttest: 0.4473602\tbest: 0.4473602 (2800)\ttotal: 14.4s\tremaining: 11.3s\n",
      "3000:\tlearn: 0.4126215\ttest: 0.4356338\tbest: 0.4356338 (3000)\ttotal: 15.6s\tremaining: 10.4s\n",
      "3200:\tlearn: 0.4008976\ttest: 0.4244318\tbest: 0.4244318 (3200)\ttotal: 16.8s\tremaining: 9.42s\n",
      "3400:\tlearn: 0.3899389\ttest: 0.4140025\tbest: 0.4140025 (3400)\ttotal: 17.9s\tremaining: 8.43s\n",
      "3600:\tlearn: 0.3801848\ttest: 0.4048069\tbest: 0.4048069 (3600)\ttotal: 19.4s\tremaining: 7.54s\n",
      "3800:\tlearn: 0.3712545\ttest: 0.3963329\tbest: 0.3963329 (3800)\ttotal: 21.4s\tremaining: 6.75s\n",
      "4000:\tlearn: 0.3624092\ttest: 0.3879859\tbest: 0.3879859 (4000)\ttotal: 22.7s\tremaining: 5.68s\n",
      "4200:\tlearn: 0.3548148\ttest: 0.3808399\tbest: 0.3808399 (4200)\ttotal: 24.1s\tremaining: 4.58s\n",
      "4400:\tlearn: 0.3470611\ttest: 0.3735162\tbest: 0.3735162 (4400)\ttotal: 25.5s\tremaining: 3.47s\n",
      "4600:\tlearn: 0.3400759\ttest: 0.3669762\tbest: 0.3669762 (4600)\ttotal: 26.8s\tremaining: 2.32s\n",
      "4800:\tlearn: 0.3336192\ttest: 0.3609476\tbest: 0.3609476 (4800)\ttotal: 28.3s\tremaining: 1.17s\n",
      "4999:\tlearn: 0.3273658\ttest: 0.3552135\tbest: 0.3552135 (4999)\ttotal: 29.5s\tremaining: 0us\n",
      "bestTest = 0.3552134571\n",
      "bestIteration = 4999\n"
     ]
    },
    {
     "name": "stderr",
     "output_type": "stream",
     "text": [
      "\r",
      " 60%|████████████████████████████████████████████████████▊                                   | 3/5 [01:47<01:12, 36.36s/it]"
     ]
    },
    {
     "name": "stdout",
     "output_type": "stream",
     "text": [
      "Learning rate set to 0.072699\n",
      "0:\tlearn: 9.2604847\ttest: 9.2566518\tbest: 9.2566518 (0)\ttotal: 12.2ms\tremaining: 1m 1s\n",
      "200:\tlearn: 1.1766260\ttest: 1.1915537\tbest: 1.1915537 (200)\ttotal: 1.03s\tremaining: 24.5s\n",
      "400:\tlearn: 0.9195981\ttest: 0.9335834\tbest: 0.9335834 (400)\ttotal: 1.96s\tremaining: 22.4s\n",
      "600:\tlearn: 0.7925229\ttest: 0.8060954\tbest: 0.8060954 (600)\ttotal: 2.96s\tremaining: 21.7s\n",
      "800:\tlearn: 0.7054785\ttest: 0.7193825\tbest: 0.7193825 (800)\ttotal: 3.89s\tremaining: 20.4s\n",
      "1000:\tlearn: 0.6472040\ttest: 0.6624439\tbest: 0.6624439 (1000)\ttotal: 4.82s\tremaining: 19.2s\n",
      "1200:\tlearn: 0.6010387\ttest: 0.6170350\tbest: 0.6170350 (1200)\ttotal: 5.7s\tremaining: 18s\n",
      "1400:\tlearn: 0.5663212\ttest: 0.5828782\tbest: 0.5828782 (1400)\ttotal: 6.59s\tremaining: 16.9s\n",
      "1600:\tlearn: 0.5363084\ttest: 0.5539357\tbest: 0.5539357 (1600)\ttotal: 7.55s\tremaining: 16s\n",
      "1800:\tlearn: 0.5128233\ttest: 0.5311431\tbest: 0.5311431 (1800)\ttotal: 8.53s\tremaining: 15.2s\n",
      "2000:\tlearn: 0.4903846\ttest: 0.5096631\tbest: 0.5096631 (2000)\ttotal: 9.48s\tremaining: 14.2s\n",
      "2200:\tlearn: 0.4717637\ttest: 0.4919056\tbest: 0.4919056 (2200)\ttotal: 10.4s\tremaining: 13.2s\n",
      "2400:\tlearn: 0.4540316\ttest: 0.4751969\tbest: 0.4751969 (2400)\ttotal: 11.6s\tremaining: 12.5s\n",
      "2600:\tlearn: 0.4394786\ttest: 0.4613934\tbest: 0.4613934 (2600)\ttotal: 12.8s\tremaining: 11.8s\n",
      "2800:\tlearn: 0.4253229\ttest: 0.4480950\tbest: 0.4480950 (2800)\ttotal: 14s\tremaining: 11s\n",
      "3000:\tlearn: 0.4127960\ttest: 0.4363508\tbest: 0.4363508 (3000)\ttotal: 15.1s\tremaining: 10.1s\n",
      "3200:\tlearn: 0.4010252\ttest: 0.4255385\tbest: 0.4255385 (3200)\ttotal: 16.3s\tremaining: 9.14s\n",
      "3400:\tlearn: 0.3906649\ttest: 0.4158076\tbest: 0.4158076 (3400)\ttotal: 17.4s\tremaining: 8.2s\n",
      "3600:\tlearn: 0.3808854\ttest: 0.4066039\tbest: 0.4066039 (3600)\ttotal: 18.6s\tremaining: 7.24s\n",
      "3800:\tlearn: 0.3718941\ttest: 0.3982014\tbest: 0.3982014 (3800)\ttotal: 19.9s\tremaining: 6.28s\n",
      "4000:\tlearn: 0.3634483\ttest: 0.3903231\tbest: 0.3903231 (4000)\ttotal: 21.1s\tremaining: 5.27s\n",
      "4200:\tlearn: 0.3555115\ttest: 0.3829526\tbest: 0.3829526 (4200)\ttotal: 22s\tremaining: 4.19s\n",
      "4400:\tlearn: 0.3478649\ttest: 0.3757740\tbest: 0.3757740 (4400)\ttotal: 22.9s\tremaining: 3.12s\n",
      "4600:\tlearn: 0.3411673\ttest: 0.3696731\tbest: 0.3696731 (4600)\ttotal: 23.8s\tremaining: 2.07s\n",
      "4800:\tlearn: 0.3344778\ttest: 0.3634502\tbest: 0.3634502 (4800)\ttotal: 24.8s\tremaining: 1.03s\n",
      "4999:\tlearn: 0.3282015\ttest: 0.3577275\tbest: 0.3577275 (4999)\ttotal: 25.7s\tremaining: 0us\n",
      "bestTest = 0.3577275115\n",
      "bestIteration = 4999\n"
     ]
    },
    {
     "name": "stderr",
     "output_type": "stream",
     "text": [
      "\r",
      " 80%|██████████████████████████████████████████████████████████████████████▍                 | 4/5 [02:24<00:36, 36.63s/it]"
     ]
    },
    {
     "name": "stdout",
     "output_type": "stream",
     "text": [
      "Learning rate set to 0.072699\n",
      "0:\tlearn: 9.2625918\ttest: 9.2370575\tbest: 9.2370575 (0)\ttotal: 8.79ms\tremaining: 44s\n",
      "200:\tlearn: 1.1770188\ttest: 1.1825317\tbest: 1.1825317 (200)\ttotal: 1.17s\tremaining: 27.9s\n",
      "400:\tlearn: 0.9246829\ttest: 0.9326397\tbest: 0.9326397 (400)\ttotal: 2.37s\tremaining: 27.1s\n",
      "600:\tlearn: 0.7939350\ttest: 0.8038979\tbest: 0.8038979 (600)\ttotal: 3.6s\tremaining: 26.3s\n",
      "800:\tlearn: 0.7086357\ttest: 0.7194791\tbest: 0.7194791 (800)\ttotal: 4.8s\tremaining: 25.1s\n",
      "1000:\tlearn: 0.6532321\ttest: 0.6655922\tbest: 0.6655922 (1000)\ttotal: 6.03s\tremaining: 24.1s\n",
      "1200:\tlearn: 0.6069932\ttest: 0.6207533\tbest: 0.6207533 (1200)\ttotal: 7.15s\tremaining: 22.6s\n",
      "1400:\tlearn: 0.5699871\ttest: 0.5851422\tbest: 0.5851422 (1400)\ttotal: 8.08s\tremaining: 20.8s\n",
      "1600:\tlearn: 0.5379997\ttest: 0.5539132\tbest: 0.5539132 (1600)\ttotal: 9s\tremaining: 19.1s\n",
      "1800:\tlearn: 0.5128472\ttest: 0.5297007\tbest: 0.5297007 (1800)\ttotal: 9.9s\tremaining: 17.6s\n",
      "2000:\tlearn: 0.4896949\ttest: 0.5073441\tbest: 0.5073441 (2000)\ttotal: 10.9s\tremaining: 16.3s\n",
      "2200:\tlearn: 0.4707779\ttest: 0.4893574\tbest: 0.4893574 (2200)\ttotal: 11.8s\tremaining: 15s\n",
      "2400:\tlearn: 0.4534003\ttest: 0.4728633\tbest: 0.4728633 (2400)\ttotal: 12.8s\tremaining: 13.8s\n",
      "2600:\tlearn: 0.4378559\ttest: 0.4579899\tbest: 0.4579899 (2600)\ttotal: 13.7s\tremaining: 12.6s\n",
      "2800:\tlearn: 0.4248602\ttest: 0.4457929\tbest: 0.4457929 (2800)\ttotal: 14.7s\tremaining: 11.5s\n",
      "3000:\tlearn: 0.4121140\ttest: 0.4338216\tbest: 0.4338216 (3000)\ttotal: 15.6s\tremaining: 10.4s\n",
      "3200:\tlearn: 0.4005415\ttest: 0.4229739\tbest: 0.4229739 (3200)\ttotal: 16.5s\tremaining: 9.28s\n",
      "3400:\tlearn: 0.3897678\ttest: 0.4129389\tbest: 0.4129389 (3400)\ttotal: 17.4s\tremaining: 8.2s\n",
      "3600:\tlearn: 0.3795948\ttest: 0.4033575\tbest: 0.4033575 (3600)\ttotal: 18.3s\tremaining: 7.12s\n",
      "3800:\tlearn: 0.3705560\ttest: 0.3948376\tbest: 0.3948376 (3800)\ttotal: 19.2s\tremaining: 6.06s\n",
      "4000:\tlearn: 0.3621206\ttest: 0.3869649\tbest: 0.3869649 (4000)\ttotal: 20.3s\tremaining: 5.08s\n",
      "4200:\tlearn: 0.3542094\ttest: 0.3795542\tbest: 0.3795542 (4200)\ttotal: 21.4s\tremaining: 4.07s\n",
      "4400:\tlearn: 0.3462797\ttest: 0.3722111\tbest: 0.3722111 (4400)\ttotal: 22.6s\tremaining: 3.07s\n",
      "4600:\tlearn: 0.3394676\ttest: 0.3659146\tbest: 0.3659146 (4600)\ttotal: 23.7s\tremaining: 2.05s\n",
      "4800:\tlearn: 0.3329264\ttest: 0.3598692\tbest: 0.3598692 (4800)\ttotal: 25s\tremaining: 1.03s\n",
      "4999:\tlearn: 0.3267335\ttest: 0.3541577\tbest: 0.3541577 (4999)\ttotal: 26.1s\tremaining: 0us\n",
      "bestTest = 0.354157746\n",
      "bestIteration = 4999\n"
     ]
    },
    {
     "name": "stderr",
     "output_type": "stream",
     "text": [
      "100%|████████████████████████████████████████████████████████████████████████████████████████| 5/5 [02:59<00:00, 35.85s/it]\n",
      "100%|████████████████████████████████████████████████████████████████████████████████████████| 5/5 [00:00<00:00, 22.12it/s]\n"
     ]
    },
    {
     "name": "stdout",
     "output_type": "stream",
     "text": [
      "cos_sim with best submission: 0.9997920512160902\n"
     ]
    }
   ],
   "source": [
    "X = train_df[features].values\n",
    "y = train_df[target[0]].values\n",
    "\n",
    "skf = KFold(n_splits=5, random_state=2048, shuffle=True)\n",
    "skf.get_n_splits(X, y)\n",
    "\n",
    "train_index_list = []\n",
    "test_index_list = []\n",
    "train_x_list = []\n",
    "val_x_list = []\n",
    "train_y_list = []\n",
    "val_y_list = []\n",
    "\n",
    "for i, (train_index, test_index) in tqdm(enumerate(skf.split(X, y))):\n",
    "    train_index_list.append(train_index)\n",
    "    test_index_list.append(test_index)\n",
    "\n",
    "    train_x_list.append(X[train_index, :])\n",
    "    val_x_list.append(X[test_index, :])\n",
    "    train_y_list.append(y[train_index])\n",
    "    val_y_list.append(y[test_index])    \n",
    "def train_catboost(x, y):\n",
    "    print(x.shape, y.shape)\n",
    "    \n",
    "    cat_models = []\n",
    "    for i in tqdm(range(5)):\n",
    "        train_x, val_x = train_x_list[i], val_x_list[i]\n",
    "        train_y, val_y = train_y_list[i], val_y_list[i]\n",
    "        clf = CatBoostRegressor(iterations=5000, verbose=200, task_type=\"GPU\",\n",
    "                           devices='0:1')\n",
    "        clf.fit(train_x, train_y, eval_set=[(val_x, val_y)], verbose=200, early_stopping_rounds=100)\n",
    "        cat_models.append(clf)\n",
    "    \n",
    "    return cat_models\n",
    "cat_models = train_catboost(X, y)\n",
    "\n",
    "preds = []\n",
    "for cat_model in tqdm(cat_models):\n",
    "    preds.append(cat_model.predict(test_df[features].values))\n",
    "s = 0\n",
    "for pred in preds:\n",
    "    s += pred\n",
    "s = s/5\n",
    "res_df = pd.read_csv('./sample_solution.csv')\n",
    "res_df['contest-tmp2m-14d__tmp2m'] = s\n",
    "res_df.to_csv('submission_fe_v2.csv', index=False)\n",
    "\n",
    "best_df = pd.read_csv('best_sub.csv')\n",
    "y_best = best_df[target[0]].values\n",
    "\n",
    "from numpy import dot\n",
    "from numpy.linalg import norm\n",
    "\n",
    "cos_sim = dot(y_best, s)/(norm(y_best)*norm(s))\n",
    "print(\"cos_sim with best submission:\", cos_sim)"
   ]
  }
 ],
 "metadata": {
  "kernelspec": {
   "display_name": "wids-env",
   "language": "python",
   "name": "wids-env"
  },
  "language_info": {
   "codemirror_mode": {
    "name": "ipython",
    "version": 3
   },
   "file_extension": ".py",
   "mimetype": "text/x-python",
   "name": "python",
   "nbconvert_exporter": "python",
   "pygments_lexer": "ipython3",
   "version": "3.7.15"
  }
 },
 "nbformat": 4,
 "nbformat_minor": 5
}
