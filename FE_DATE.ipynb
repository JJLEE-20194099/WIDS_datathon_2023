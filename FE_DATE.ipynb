{
 "cells": [
  {
   "cell_type": "code",
   "execution_count": 1,
   "metadata": {
    "colab": {
     "base_uri": "https://localhost:8080/"
    },
    "executionInfo": {
     "elapsed": 7010,
     "status": "ok",
     "timestamp": 1676655258242,
     "user": {
      "displayName": "long le thanh",
      "userId": "10883027320373224628"
     },
     "user_tz": -420
    },
    "id": "_L6-6PcbbVly",
    "outputId": "0dc3c2dd-3301-42e8-faa1-c52060b71e41"
   },
   "outputs": [],
   "source": [
    "import numpy as np\n",
    "import pandas as pd\n",
    "import seaborn as sns\n",
    "import torch\n",
    "import torch.nn as nn\n",
    "import torch.nn.functional as f\n",
    "pd.set_option('display.max_columns', None)\n",
    "import matplotlib.pyplot as plt\n",
    "from sklearn.model_selection import train_test_split\n",
    "from torch.utils.data import DataLoader\n",
    "from sklearn import preprocessing\n",
    "from tqdm import tqdm\n",
    "from sklearn.preprocessing import FunctionTransformer\n",
    "import seaborn as sns \n",
    "from scipy import stats\n",
    "import statsmodels.api as sm\n",
    "\n",
    "from sklearn.ensemble import RandomForestRegressor, ExtraTreesRegressor, AdaBoostRegressor, BaggingRegressor, GradientBoostingRegressor\n",
    "from sklearn.tree import DecisionTreeRegressor\n",
    "from sklearn.linear_model import ElasticNet, Lasso\n",
    "from sklearn.feature_selection import SelectFromModel\n",
    "from sklearn.svm import SVR\n",
    "from sklearn.model_selection import KFold, cross_val_score\n",
    "from sklearn.pipeline import make_pipeline\n",
    "from sklearn.decomposition import PCA\n",
    "from sklearn.preprocessing import RobustScaler\n",
    "from sklearn.base import BaseEstimator, TransformerMixin, RegressorMixin, clone\n",
    "from sklearn.neural_network import MLPRegressor\n",
    "from scipy.stats import norm\n",
    "import copy\n",
    "from sklearn.model_selection import KFold\n",
    "from catboost import CatBoostRegressor, Pool, metrics, cv\n",
    "import xgboost as xgb\n",
    "from scipy.stats import gmean\n",
    "from sklearn.impute import KNNImputer\n",
    "from sklearn.metrics import mean_squared_error\n",
    "from sklearn.preprocessing import LabelEncoder\n",
    "from sklearn.model_selection import GridSearchCV\n",
    "from sklearn.model_selection import cross_val_score\n",
    "import xgboost\n",
    "from xgboost import XGBRegressor\n",
    "import lightgbm as lgb\n"
   ]
  },
  {
   "cell_type": "code",
   "execution_count": 2,
   "metadata": {
    "executionInfo": {
     "elapsed": 16614,
     "status": "ok",
     "timestamp": 1676655274846,
     "user": {
      "displayName": "long le thanh",
      "userId": "10883027320373224628"
     },
     "user_tz": -420
    },
    "id": "giw1hx8RbSOI"
   },
   "outputs": [],
   "source": [
    "train_df = pd.read_csv('./best_train.csv')\n",
    "test_df = pd.read_csv('./best_test.csv')"
   ]
  },
  {
   "cell_type": "code",
   "execution_count": 3,
   "metadata": {
    "executionInfo": {
     "elapsed": 122,
     "status": "ok",
     "timestamp": 1676655288965,
     "user": {
      "displayName": "long le thanh",
      "userId": "10883027320373224628"
     },
     "user_tz": -420
    },
    "id": "bWxgV6pobZ7i"
   },
   "outputs": [],
   "source": [
    "features = ['contest-wind-h500-14d__wind-hgt-500',\n",
    " 'contest-slp-14d__slp',\n",
    " 'nmme-tmp2m-34w__ccsm3', \n",
    " 'elevation__elevation',\n",
    " 'lon',\n",
    " 'contest-prwtr-eatm-14d__prwtr',\n",
    " 'lat',\n",
    " 'climateregions__climateregion',\n",
    " 'contest-pres-sfc-gauss-14d__pres',\n",
    " 'season_sin',\n",
    " 'day_of_year_sin',\n",
    " 'contest-precip-14d__precip',\n",
    " 'contest-wind-uwnd-250-14d__wind-uwnd-250',\n",
    " 'nmme-prate-34w__cfsv2',\n",
    " 'nmme-prate-34w__nasa',\n",
    " 'nmme-prate-56w__gfdlflora',\n",
    " 'wind-uwnd-250-2010-7',\n",
    " 'contest-wind-vwnd-925-14d__wind-vwnd-925',\n",
    " 'nmme-prate-34w__nmmemean',\n",
    " 'nmme0-prate-34w__ccsm30',\n",
    " 'contest-wind-h850-14d__wind-hgt-850',\n",
    " 'contest-wind-uwnd-925-14d__wind-uwnd-925',\n",
    " 'nmme0-prate-56w__cfsv20',\n",
    " 'nmme-prate-34w__cancm3',\n",
    " 'contest-rhum-sig995-14d__rhum',\n",
    " 'nmme-prate-34w__gfdlflorb',\n",
    " 'wind-hgt-850-2010-4',\n",
    " 'contest-wind-vwnd-250-14d__wind-vwnd-250',\n",
    " 'wind-hgt-100-2010-2',\n",
    " 'wind-uwnd-250-2010-18',\n",
    " 'wind-hgt-10-2010-5',\n",
    " 'wind-uwnd-250-2010-15',\n",
    " 'wind-uwnd-250-2010-4',\n",
    " 'nmme0-prate-56w__nasa0',\n",
    " 'nmme0-prate-34w__cfsv20',\n",
    " 'wind-vwnd-250-2010-10',\n",
    " 'contest-wind-h10-14d__wind-hgt-10',\n",
    " 'wind-uwnd-925-2010-15',\n",
    " 'wind-vwnd-250-2010-3',\n",
    " 'nmme-prate-34w__cancm4',\n",
    " 'sst-2010-4',\n",
    " 'nmme0-prate-56w__ccsm30',\n",
    " 'wind-uwnd-250-2010-16',\n",
    " 'nmme0-prate-34w__gfdl0',\n",
    " 'nmme0-prate-56w__cancm40',\n",
    " 'sst-2010-1',\n",
    " 'sst-2010-3',\n",
    " 'wind-uwnd-250-2010-14',\n",
    " 'nmme0-prate-34w__gfdlflora0',\n",
    " 'nmme-prate-34w__gfdl',\n",
    " 'wind-hgt-850-2010-9',\n",
    " 'wind-vwnd-250-2010-1',\n",
    " 'sst-2010-5',\n",
    " 'cancm30',\n",
    " 'nmme-prate-34w__ccsm4',\n",
    " 'nmme0-prate-34w__nasa0',\n",
    " 'wind-hgt-500-2010-9',\n",
    " 'nmme0-prate-34w__cancm30',\n",
    " 'wind-vwnd-250-2010-13',\n",
    " 'wind_diff',\n",
    " 'wind_diff_min',\n",
    " 'wind_diff_min_month',\n",
    " 'wind_diff_month',\n",
    " 'diff_slp_first',\n",
    " 'diff_wind_first',\n",
    " 'diff_precip_first',\n",
    " 'diff_sst_10_first',\n",
    " 'diff_sst_10_min',\n",
    " 'diff_sst_10_max',\n",
    " 'range_sst_10',\n",
    " 'scale_sst_10',\n",
    " 'diff_sst_9_first',\n",
    " 'diff_sst_9_min',\n",
    " 'diff_sst_9_max',\n",
    " 'range_sst_9',\n",
    " 'scale_sst_9',\n",
    " 'diff_sst_8_first',\n",
    " 'diff_sst_8_min',\n",
    " 'diff_sst_8_max',\n",
    " 'range_sst_8',\n",
    " 'scale_sst_8',\n",
    " 'diff_sst_7_first',\n",
    " 'diff_sst_7_min',\n",
    " 'diff_sst_7_max',\n",
    " 'range_sst_7',\n",
    " 'scale_sst_7',\n",
    " 'diff_sst_6_first',\n",
    " 'diff_sst_6_min',\n",
    " 'diff_sst_6_max',\n",
    " 'range_sst_6',\n",
    " 'scale_sst_6',\n",
    " 'diff_sst_1_first',\n",
    " 'diff_sst_1_min',\n",
    " 'diff_sst_1_max',\n",
    " 'range_sst_1',\n",
    " 'scale_sst_1',\n",
    " 'diff_sst_2_first',\n",
    " 'diff_sst_2_min',\n",
    " 'diff_sst_2_max',\n",
    " 'range_sst_2',\n",
    " 'scale_sst_2',\n",
    " 'diff_sst_3_first',\n",
    " 'diff_sst_3_min',\n",
    " 'diff_sst_3_max',\n",
    " 'range_sst_3',\n",
    " 'scale_sst_3',\n",
    " 'diff_sst_4_first',\n",
    " 'diff_sst_4_min',\n",
    " 'diff_sst_4_max',\n",
    " 'range_sst_4',\n",
    " 'scale_sst_4',\n",
    " 'diff_sst_5_first',\n",
    " 'diff_sst_5_min',\n",
    " 'diff_sst_5_max',\n",
    " 'range_sst_5',\n",
    " 'scale_sst_5',\n",
    " 'diff_pres_1_first',\n",
    " 'diff_pres_1_min',\n",
    " 'diff_pres_1_max',\n",
    " 'range_pres_1',\n",
    " 'scale_pres_1',\n",
    " 'diff_ccsm3_month_1_first',\n",
    " 'diff_ccsm3_month_1_min',\n",
    " 'diff_ccsm3_month_1_max',\n",
    " 'range_ccsm3_month_1',\n",
    " 'scale_ccsm3_month_1',\n",
    " 'diff_sst_1_month_1_first',\n",
    " 'diff_sst_1_month_1_min',\n",
    " 'diff_sst_1_month_1_max',\n",
    " 'range_sst_1_month_1',\n",
    " 'scale_sst_1_month_1',\n",
    " 'sst_1_lag_1',\n",
    " 'sst_5_lag_1',\n",
    " 'sst_4_lag_1',\n",
    " 'sst_1_lag_1_season',\n",
    " 'sst_5_lag_1_season',\n",
    " 'sst_4_lag_1_season']\n",
    "\n",
    "target=[\"contest-tmp2m-14d__tmp2m\"]\n",
    "\n",
    "slp_col = 'contest-slp-14d__slp'\n",
    "ccsm3_col = 'nmme-tmp2m-34w__ccsm3'\n",
    "pres_col = 'contest-pres-sfc-gauss-14d__pres'\n",
    "precip_col = 'contest-precip-14d__precip'\n",
    "poten_col = 'contest-pevpr-sfc-gauss-14d__pevpr'\n",
    "rhum_col = 'contest-rhum-sig995-14d__rhum'\n",
    "elevation_col = 'elevation__elevation'\n",
    "wind_col_500 = 'contest-wind-h500-14d__wind-hgt-500'\n",
    "sst_1_col = 'sst-2010-1'\n",
    "sst_5_col = 'sst-2010-5'\n",
    "sst_3_col = 'sst-2010-3'\n",
    "sst_4_col = 'sst-2010-4'\n",
    "sst_6_col = 'sst-2010-6'\n",
    "sst_7_col = 'sst-2010-7'\n",
    "sst_8_col = 'sst-2010-8'\n",
    "sst_9_col = 'sst-2010-9'\n",
    "sst_10_col = 'sst-2010-10'\n",
    "group_cols = ['startdate']"
   ]
  },
  {
   "cell_type": "code",
   "execution_count": 36,
   "metadata": {},
   "outputs": [],
   "source": [
    "df = pd.read_csv('df_fe_5_neigh.csv')"
   ]
  },
  {
   "cell_type": "code",
   "execution_count": 40,
   "metadata": {},
   "outputs": [],
   "source": [
    "train_df = df[:len(train_df)]\n",
    "test_df = df[len(train_df):]"
   ]
  },
  {
   "cell_type": "code",
   "execution_count": 41,
   "metadata": {},
   "outputs": [],
   "source": [
    "sst_features_5 = []\n",
    "for i in [1, 5, 3, 4]:\n",
    "    sst_features_5 = sst_features_5 + [f'sst_{i}_neigh_5_mean', f'sst_{i}_neigh_5_min', f'sst_{i}_neigh_5_max']\n",
    "\n",
    "sst_features_11 = []\n",
    "for i in [1, 5, 3, 4]:\n",
    "    sst_features_11 = sst_features_11 + [f'sst_{i}_neigh_11_mean', f'sst_{i}_neigh_11_min', f'sst_{i}_neigh_11_max']\n",
    "\n",
    "slp_feature_5 = ['slp_neigh_5_mean', 'slp_neigh_5_min', 'slp_neigh_5_max']\n",
    "precip_feature_5 = ['precip_neigh_5_mean', 'precip_neigh_5_min', 'precip_neigh_5_max']\n",
    "pres_feature_5 = ['pres_neigh_5_mean', 'pres_neigh_5_min', 'pres_neigh_5_max']\n",
    "wind_feature_11 = ['wind_5000_neigh_11_mean', 'wind_5000_neigh_11_min', 'wind_5000_neigh_11_max']\n",
    "wind_feature_5 = ['wind_500_neigh_5_mean', 'wind_500_neigh_5_min', 'wind_500_neigh_5_max']"
   ]
  },
  {
   "cell_type": "code",
   "execution_count": 42,
   "metadata": {},
   "outputs": [],
   "source": [
    "selected_cols = features + sst_features_5 + wind_feature_5 + slp_feature_5 + precip_feature_5 + pres_feature_5"
   ]
  },
  {
   "cell_type": "code",
   "execution_count": 43,
   "metadata": {
    "colab": {
     "base_uri": "https://localhost:8080/"
    },
    "executionInfo": {
     "elapsed": 316161,
     "status": "ok",
     "timestamp": 1676657747016,
     "user": {
      "displayName": "long le thanh",
      "userId": "10883027320373224628"
     },
     "user_tz": -420
    },
    "id": "99dBZp30JjUO",
    "outputId": "7e720d4f-03ae-4413-8e10-ed7a1bd0300b",
    "scrolled": true
   },
   "outputs": [
    {
     "name": "stderr",
     "output_type": "stream",
     "text": [
      "5it [00:01,  3.44it/s]\n"
     ]
    },
    {
     "name": "stdout",
     "output_type": "stream",
     "text": [
      "(375734, 161) (375734,)\n"
     ]
    },
    {
     "name": "stderr",
     "output_type": "stream",
     "text": [
      "  0%|                                                                                                | 0/5 [00:00<?, ?it/s]Warning: less than 75% gpu memory available for training. Free: 2227.5625 Total: 24268.3125\n"
     ]
    },
    {
     "name": "stdout",
     "output_type": "stream",
     "text": [
      "Learning rate set to 0.072699\n",
      "0:\tlearn: 9.2506608\ttest: 9.2828669\tbest: 9.2828669 (0)\ttotal: 62.7ms\tremaining: 5m 13s\n",
      "1000:\tlearn: 0.6006594\ttest: 0.6172492\tbest: 0.6172492 (1000)\ttotal: 55.1s\tremaining: 3m 40s\n",
      "2000:\tlearn: 0.4507129\ttest: 0.4722227\tbest: 0.4722227 (2000)\ttotal: 1m 44s\tremaining: 2m 36s\n",
      "3000:\tlearn: 0.3789970\ttest: 0.4038307\tbest: 0.4038307 (3000)\ttotal: 2m 42s\tremaining: 1m 48s\n",
      "4000:\tlearn: 0.3331887\ttest: 0.3611562\tbest: 0.3611562 (4000)\ttotal: 3m 36s\tremaining: 54s\n",
      "4999:\tlearn: 0.3003595\ttest: 0.3308905\tbest: 0.3308905 (4999)\ttotal: 4m 31s\tremaining: 0us\n",
      "bestTest = 0.3308905461\n",
      "bestIteration = 4999\n"
     ]
    },
    {
     "name": "stderr",
     "output_type": "stream",
     "text": [
      " 20%|█████████████████▍                                                                     | 1/5 [04:49<19:17, 289.46s/it]Warning: less than 75% gpu memory available for training. Free: 2227.5625 Total: 24268.3125\n"
     ]
    },
    {
     "name": "stdout",
     "output_type": "stream",
     "text": [
      "Learning rate set to 0.072699\n",
      "0:\tlearn: 9.2586599\ttest: 9.2521036\tbest: 9.2521036 (0)\ttotal: 77.9ms\tremaining: 6m 29s\n",
      "1000:\tlearn: 0.6038330\ttest: 0.6211201\tbest: 0.6211201 (1000)\ttotal: 56.3s\tremaining: 3m 44s\n",
      "2000:\tlearn: 0.4528529\ttest: 0.4750755\tbest: 0.4750755 (2000)\ttotal: 1m 30s\tremaining: 2m 15s\n",
      "3000:\tlearn: 0.3805652\ttest: 0.4064655\tbest: 0.4064655 (3000)\ttotal: 2m 7s\tremaining: 1m 25s\n",
      "4000:\tlearn: 0.3347207\ttest: 0.3636356\tbest: 0.3636356 (4000)\ttotal: 3m 2s\tremaining: 45.5s\n",
      "4999:\tlearn: 0.3022701\ttest: 0.3338164\tbest: 0.3338164 (4999)\ttotal: 3m 56s\tremaining: 0us\n",
      "bestTest = 0.3338164367\n",
      "bestIteration = 4999\n"
     ]
    },
    {
     "name": "stderr",
     "output_type": "stream",
     "text": [
      " 40%|██████████████████████████████████▊                                                    | 2/5 [09:05<13:28, 269.53s/it]Warning: less than 75% gpu memory available for training. Free: 2227.5625 Total: 24268.3125\n"
     ]
    },
    {
     "name": "stdout",
     "output_type": "stream",
     "text": [
      "Learning rate set to 0.072699\n",
      "0:\tlearn: 9.2581245\ttest: 9.2495553\tbest: 9.2495553 (0)\ttotal: 76.6ms\tremaining: 6m 22s\n",
      "1000:\tlearn: 0.5987259\ttest: 0.6132455\tbest: 0.6132455 (1000)\ttotal: 55.6s\tremaining: 3m 42s\n",
      "2000:\tlearn: 0.4511098\ttest: 0.4705004\tbest: 0.4705004 (2000)\ttotal: 1m 50s\tremaining: 2m 45s\n",
      "3000:\tlearn: 0.3788734\ttest: 0.4019714\tbest: 0.4019714 (3000)\ttotal: 2m 46s\tremaining: 1m 50s\n",
      "4000:\tlearn: 0.3330807\ttest: 0.3593663\tbest: 0.3593663 (4000)\ttotal: 3m 41s\tremaining: 55.2s\n",
      "4999:\tlearn: 0.3008253\ttest: 0.3297683\tbest: 0.3297683 (4999)\ttotal: 4m 35s\tremaining: 0us\n",
      "bestTest = 0.3297682763\n",
      "bestIteration = 4999\n"
     ]
    },
    {
     "name": "stderr",
     "output_type": "stream",
     "text": [
      " 60%|████████████████████████████████████████████████████▏                                  | 3/5 [13:58<09:21, 280.59s/it]Warning: less than 75% gpu memory available for training. Free: 2227.5625 Total: 24268.3125\n"
     ]
    },
    {
     "name": "stdout",
     "output_type": "stream",
     "text": [
      "Learning rate set to 0.072699\n",
      "0:\tlearn: 9.2566974\ttest: 9.2708490\tbest: 9.2708490 (0)\ttotal: 70.7ms\tremaining: 5m 53s\n",
      "1000:\tlearn: 0.6006841\ttest: 0.6105640\tbest: 0.6105640 (1000)\ttotal: 55s\tremaining: 3m 39s\n",
      "2000:\tlearn: 0.4512657\ttest: 0.4679903\tbest: 0.4679903 (2000)\ttotal: 1m 48s\tremaining: 2m 42s\n",
      "3000:\tlearn: 0.3795856\ttest: 0.4015233\tbest: 0.4015233 (3000)\ttotal: 2m 43s\tremaining: 1m 48s\n",
      "4000:\tlearn: 0.3337963\ttest: 0.3593778\tbest: 0.3593778 (4000)\ttotal: 3m 37s\tremaining: 54.3s\n",
      "4999:\tlearn: 0.3007569\ttest: 0.3293474\tbest: 0.3293474 (4999)\ttotal: 4m 3s\tremaining: 0us\n",
      "bestTest = 0.3293473813\n",
      "bestIteration = 4999\n"
     ]
    },
    {
     "name": "stderr",
     "output_type": "stream",
     "text": [
      " 80%|█████████████████████████████████████████████████████████████████████▌                 | 4/5 [18:21<04:33, 273.49s/it]Warning: less than 75% gpu memory available for training. Free: 2227.5625 Total: 24268.3125\n"
     ]
    },
    {
     "name": "stdout",
     "output_type": "stream",
     "text": [
      "Learning rate set to 0.072699\n",
      "0:\tlearn: 9.2630120\ttest: 9.2333225\tbest: 9.2333225 (0)\ttotal: 49.1ms\tremaining: 4m 5s\n",
      "1000:\tlearn: 0.6029903\ttest: 0.6135682\tbest: 0.6135682 (1000)\ttotal: 55.2s\tremaining: 3m 40s\n",
      "2000:\tlearn: 0.4525988\ttest: 0.4691590\tbest: 0.4691590 (2000)\ttotal: 1m 47s\tremaining: 2m 41s\n",
      "3000:\tlearn: 0.3782529\ttest: 0.3991082\tbest: 0.3991082 (3000)\ttotal: 2m 41s\tremaining: 1m 47s\n",
      "4000:\tlearn: 0.3331449\ttest: 0.3577633\tbest: 0.3577633 (4000)\ttotal: 3m 37s\tremaining: 54.4s\n",
      "4999:\tlearn: 0.3009822\ttest: 0.3286187\tbest: 0.3286187 (4999)\ttotal: 4m 30s\tremaining: 0us\n",
      "bestTest = 0.328618746\n",
      "bestIteration = 4999\n"
     ]
    },
    {
     "name": "stderr",
     "output_type": "stream",
     "text": [
      "100%|███████████████████████████████████████████████████████████████████████████████████████| 5/5 [23:10<00:00, 278.00s/it]\n",
      "100%|████████████████████████████████████████████████████████████████████████████████████████| 5/5 [00:00<00:00, 17.12it/s]\n"
     ]
    }
   ],
   "source": [
    "X = train_df[selected_cols].values\n",
    "y = train_df[target[0]].values\n",
    "\n",
    "skf = KFold(n_splits=5, random_state=2048, shuffle=True)\n",
    "skf.get_n_splits(X, y)\n",
    "\n",
    "train_index_list = []\n",
    "test_index_list = []\n",
    "train_x_list = []\n",
    "val_x_list = []\n",
    "train_y_list = []\n",
    "val_y_list = []\n",
    "\n",
    "for i, (train_index, test_index) in tqdm(enumerate(skf.split(X, y))):\n",
    "    train_index_list.append(train_index)\n",
    "    test_index_list.append(test_index)\n",
    "\n",
    "    train_x_list.append(X[train_index, :])\n",
    "    val_x_list.append(X[test_index, :])\n",
    "    train_y_list.append(y[train_index])\n",
    "    val_y_list.append(y[test_index])    \n",
    "def train_catboost(x, y):\n",
    "    print(x.shape, y.shape)\n",
    "    \n",
    "    cat_models = []\n",
    "    for i in tqdm(range(5)):\n",
    "        train_x, val_x = train_x_list[i], val_x_list[i]\n",
    "        train_y, val_y = train_y_list[i], val_y_list[i]\n",
    "        clf = CatBoostRegressor(iterations=5000, verbose=200, task_type=\"GPU\",\n",
    "                           devices='0:1')\n",
    "        clf.fit(train_x, train_y, eval_set=[(val_x, val_y)], verbose=1000, early_stopping_rounds=100)\n",
    "        cat_models.append(clf)\n",
    "    \n",
    "    return cat_models\n",
    "cat_models = train_catboost(X, y)\n",
    "\n",
    "preds = []\n",
    "for cat_model in tqdm(cat_models):\n",
    "    preds.append(cat_model.predict(test_df[selected_cols].values))\n",
    "s = 0\n",
    "for pred in preds:\n",
    "    s += pred\n",
    "s = s/5\n"
   ]
  },
  {
   "cell_type": "code",
   "execution_count": 44,
   "metadata": {},
   "outputs": [
    {
     "name": "stdout",
     "output_type": "stream",
     "text": [
      "cos_sim with best submission: 0.9998724143221615\n"
     ]
    }
   ],
   "source": [
    "output_df = pd.DataFrame(columns = ['index', 'pred'])\n",
    "output_df['index'] = [int(i) for i in test_df['index']]\n",
    "output_df['pred'] = s \n",
    "res_df = pd.read_csv('./sample_solution.csv')\n",
    "res_df = res_df.merge(output_df, how='left', on = ['index'])\n",
    "res_df['contest-tmp2m-14d__tmp2m'] = res_df['pred']\n",
    "res_df[[target[0], 'index']].to_csv('submission_fe_date_v4.csv', index=False)\n",
    "\n",
    "best_df = pd.read_csv('best_sub.csv')\n",
    "y_best = best_df[target[0]].values\n",
    "\n",
    "from numpy import dot\n",
    "from numpy.linalg import norm\n",
    "t = np.array(res_df['contest-tmp2m-14d__tmp2m'].tolist())\n",
    "cos_sim = dot(y_best, t)/(norm(y_best)*norm(t))\n",
    "print(\"cos_sim with best submission:\", cos_sim)"
   ]
  }
 ],
 "metadata": {
  "accelerator": "GPU",
  "colab": {
   "provenance": []
  },
  "gpuClass": "standard",
  "kernelspec": {
   "display_name": "ml-env",
   "language": "python",
   "name": "ml-env"
  },
  "language_info": {
   "codemirror_mode": {
    "name": "ipython",
    "version": 3
   },
   "file_extension": ".py",
   "mimetype": "text/x-python",
   "name": "python",
   "nbconvert_exporter": "python",
   "pygments_lexer": "ipython3",
   "version": "3.9.7"
  }
 },
 "nbformat": 4,
 "nbformat_minor": 1
}
