{
 "cells": [
  {
   "cell_type": "code",
   "execution_count": 2,
   "id": "665fb487",
   "metadata": {},
   "outputs": [],
   "source": [
    "import numpy as np\n",
    "import pandas as pd\n",
    "import seaborn as sns\n",
    "import torch\n",
    "import torch.nn as nn\n",
    "import torch.nn.functional as f\n",
    "pd.set_option('display.max_columns', None)\n",
    "import matplotlib.pyplot as plt\n",
    "from sklearn.model_selection import train_test_split\n",
    "from torch.utils.data import DataLoader\n",
    "from sklearn import preprocessing\n",
    "from tqdm import tqdm\n",
    "from sklearn.preprocessing import FunctionTransformer\n",
    "import seaborn as sns \n",
    "from scipy import stats\n",
    "import statsmodels.api as sm\n",
    "\n",
    "from sklearn.ensemble import RandomForestRegressor, ExtraTreesRegressor, AdaBoostRegressor, BaggingRegressor, GradientBoostingRegressor\n",
    "from sklearn.tree import DecisionTreeRegressor\n",
    "from sklearn.linear_model import ElasticNet, Lasso\n",
    "from sklearn.feature_selection import SelectFromModel\n",
    "from sklearn.svm import SVR\n",
    "from sklearn.model_selection import KFold, cross_val_score\n",
    "from sklearn.pipeline import make_pipeline\n",
    "from sklearn.decomposition import PCA\n",
    "from sklearn.preprocessing import RobustScaler\n",
    "import h2o\n",
    "from h2o.automl import H2OAutoML\n",
    "from sklearn.base import BaseEstimator, TransformerMixin, RegressorMixin, clone\n",
    "from sklearn.neural_network import MLPRegressor\n",
    "from scipy.stats import norm\n",
    "import copy\n",
    "from sklearn.model_selection import KFold\n",
    "from catboost import CatBoostRegressor, Pool, metrics, cv\n",
    "import xgboost as xgb\n",
    "from scipy.stats import gmean\n",
    "from sklearn.impute import KNNImputer\n",
    "from sklearn.metrics import mean_squared_error\n",
    "from sklearn.preprocessing import LabelEncoder"
   ]
  },
  {
   "cell_type": "code",
   "execution_count": 19,
   "id": "24e86b9e",
   "metadata": {},
   "outputs": [],
   "source": [
    "train_df = pd.read_csv('./sub_train.csv')\n",
    "test_df = pd.read_csv('./sub_test.csv')"
   ]
  },
  {
   "cell_type": "code",
   "execution_count": 20,
   "id": "13f8db0a",
   "metadata": {},
   "outputs": [],
   "source": [
    "target=[\"contest-tmp2m-14d__tmp2m\"]\n",
    "selected_cols = [c for c in train_df.columns if c not in [target[0], 'startdate']]"
   ]
  },
  {
   "cell_type": "code",
   "execution_count": 21,
   "id": "4b198464",
   "metadata": {},
   "outputs": [
    {
     "name": "stderr",
     "output_type": "stream",
     "text": [
      "/data/hieunm/anaconda3/envs/wids-env/lib/python3.7/site-packages/ipykernel_launcher.py:3: SettingWithCopyWarning: \n",
      "A value is trying to be set on a copy of a slice from a DataFrame.\n",
      "Try using .loc[row_indexer,col_indexer] = value instead\n",
      "\n",
      "See the caveats in the documentation: https://pandas.pydata.org/pandas-docs/stable/user_guide/indexing.html#returning-a-view-versus-a-copy\n",
      "  This is separate from the ipykernel package so we can avoid doing imports until\n"
     ]
    }
   ],
   "source": [
    "pseudo_df = pd.read_csv('./pseu.csv')\n",
    "add_data_df = test_df[selected_cols]\n",
    "add_data_df[target[0]] = pseudo_df[target[0]]"
   ]
  },
  {
   "cell_type": "code",
   "execution_count": 22,
   "id": "43c82cc6",
   "metadata": {},
   "outputs": [],
   "source": [
    "new_train_df = pd.concat([train_df[selected_cols + target], add_data_df[selected_cols + target]], axis=0)"
   ]
  },
  {
   "cell_type": "code",
   "execution_count": 23,
   "id": "da6e8792",
   "metadata": {},
   "outputs": [],
   "source": [
    "Xtest = add_data_df[selected_cols].values"
   ]
  },
  {
   "cell_type": "code",
   "execution_count": 24,
   "id": "12d8837b",
   "metadata": {},
   "outputs": [],
   "source": [
    "del train_df, test_df, add_data_df"
   ]
  },
  {
   "cell_type": "code",
   "execution_count": 25,
   "id": "10b0daf3",
   "metadata": {},
   "outputs": [
    {
     "name": "stderr",
     "output_type": "stream",
     "text": [
      "5it [00:00,  7.79it/s]\n"
     ]
    },
    {
     "name": "stdout",
     "output_type": "stream",
     "text": [
      "(407088, 59) (407088,)\n"
     ]
    },
    {
     "name": "stderr",
     "output_type": "stream",
     "text": [
      "  0%|                                                                                                | 0/5 [00:00<?, ?it/s]Warning: less than 75% gpu memory available for training. Free: 4363.5625 Total: 24268.3125\n"
     ]
    },
    {
     "name": "stdout",
     "output_type": "stream",
     "text": [
      "0:\tlearn: 8.6746706\ttest: 8.6778631\tbest: 8.6778631 (0)\ttotal: 51.9ms\tremaining: 4m 19s\n",
      "1000:\tlearn: 0.5463133\ttest: 0.5614403\tbest: 0.5614403 (1000)\ttotal: 18.4s\tremaining: 1m 13s\n",
      "2000:\tlearn: 0.4107029\ttest: 0.4326649\tbest: 0.4326649 (2000)\ttotal: 22s\tremaining: 33s\n",
      "3000:\tlearn: 0.3434990\ttest: 0.3698492\tbest: 0.3698492 (3000)\ttotal: 25.7s\tremaining: 17.1s\n",
      "4000:\tlearn: 0.3008216\ttest: 0.3306348\tbest: 0.3306348 (4000)\ttotal: 29.4s\tremaining: 7.33s\n",
      "4999:\tlearn: 0.2705425\ttest: 0.3029381\tbest: 0.3029381 (4999)\ttotal: 33.2s\tremaining: 0us\n",
      "bestTest = 0.3029381039\n",
      "bestIteration = 4999\n"
     ]
    },
    {
     "name": "stderr",
     "output_type": "stream",
     "text": [
      "\r",
      " 20%|█████████████████▌                                                                      | 1/5 [00:39<02:39, 39.79s/it]"
     ]
    },
    {
     "name": "stdout",
     "output_type": "stream",
     "text": [
      "0:\tlearn: 8.6767966\ttest: 8.6676934\tbest: 8.6676934 (0)\ttotal: 4.22ms\tremaining: 21.1s\n",
      "1000:\tlearn: 0.5428695\ttest: 0.5573403\tbest: 0.5573403 (1000)\ttotal: 3.73s\tremaining: 14.9s\n",
      "2000:\tlearn: 0.4087365\ttest: 0.4295577\tbest: 0.4295577 (2000)\ttotal: 7.63s\tremaining: 11.4s\n",
      "3000:\tlearn: 0.3411722\ttest: 0.3660625\tbest: 0.3660625 (3000)\ttotal: 11.4s\tremaining: 7.61s\n",
      "4000:\tlearn: 0.2990441\ttest: 0.3275944\tbest: 0.3275944 (4000)\ttotal: 15.1s\tremaining: 3.78s\n",
      "4999:\tlearn: 0.2694277\ttest: 0.3008103\tbest: 0.3008103 (4999)\ttotal: 18.7s\tremaining: 0us\n",
      "bestTest = 0.3008102913\n",
      "bestIteration = 4999\n"
     ]
    },
    {
     "name": "stderr",
     "output_type": "stream",
     "text": [
      "\r",
      " 40%|███████████████████████████████████▏                                                    | 2/5 [01:05<01:33, 31.25s/it]"
     ]
    },
    {
     "name": "stdout",
     "output_type": "stream",
     "text": [
      "0:\tlearn: 8.6633488\ttest: 8.6858473\tbest: 8.6858473 (0)\ttotal: 4.03ms\tremaining: 20.1s\n",
      "1000:\tlearn: 0.5505882\ttest: 0.5676212\tbest: 0.5676212 (1000)\ttotal: 3.7s\tremaining: 14.8s\n",
      "2000:\tlearn: 0.4118995\ttest: 0.4336282\tbest: 0.4336282 (2000)\ttotal: 7.44s\tremaining: 11.1s\n",
      "3000:\tlearn: 0.3436871\ttest: 0.3698437\tbest: 0.3698437 (3000)\ttotal: 11.2s\tremaining: 7.43s\n",
      "4000:\tlearn: 0.3010357\ttest: 0.3303973\tbest: 0.3303973 (4000)\ttotal: 14.8s\tremaining: 3.68s\n",
      "4999:\tlearn: 0.2700349\ttest: 0.3022481\tbest: 0.3022481 (4999)\ttotal: 18.5s\tremaining: 0us\n",
      "bestTest = 0.3022481409\n",
      "bestIteration = 4999\n"
     ]
    },
    {
     "name": "stderr",
     "output_type": "stream",
     "text": [
      "\r",
      " 60%|████████████████████████████████████████████████████▊                                   | 3/5 [01:30<00:56, 28.42s/it]"
     ]
    },
    {
     "name": "stdout",
     "output_type": "stream",
     "text": [
      "0:\tlearn: 8.6633532\ttest: 8.6827796\tbest: 8.6827796 (0)\ttotal: 4.64ms\tremaining: 23.2s\n",
      "1000:\tlearn: 0.5431288\ttest: 0.5635387\tbest: 0.5635387 (1000)\ttotal: 3.69s\tremaining: 14.7s\n",
      "2000:\tlearn: 0.4089897\ttest: 0.4351142\tbest: 0.4351142 (2000)\ttotal: 7.29s\tremaining: 10.9s\n",
      "3000:\tlearn: 0.3430221\ttest: 0.3730782\tbest: 0.3730782 (3000)\ttotal: 11.3s\tremaining: 7.55s\n",
      "4000:\tlearn: 0.3003530\ttest: 0.3332594\tbest: 0.3332594 (4000)\ttotal: 15.2s\tremaining: 3.79s\n",
      "4999:\tlearn: 0.2706952\ttest: 0.3058717\tbest: 0.3058717 (4999)\ttotal: 18.8s\tremaining: 0us\n",
      "bestTest = 0.3058717035\n",
      "bestIteration = 4999\n"
     ]
    },
    {
     "name": "stderr",
     "output_type": "stream",
     "text": [
      "\r",
      " 80%|██████████████████████████████████████████████████████████████████████▍                 | 4/5 [01:55<00:27, 27.19s/it]"
     ]
    },
    {
     "name": "stdout",
     "output_type": "stream",
     "text": [
      "0:\tlearn: 8.6738417\ttest: 8.6387045\tbest: 8.6387045 (0)\ttotal: 4.96ms\tremaining: 24.8s\n",
      "1000:\tlearn: 0.5444336\ttest: 0.5596470\tbest: 0.5596470 (1000)\ttotal: 3.62s\tremaining: 14.5s\n",
      "2000:\tlearn: 0.4085173\ttest: 0.4296259\tbest: 0.4296259 (2000)\ttotal: 7.53s\tremaining: 11.3s\n",
      "3000:\tlearn: 0.3408190\ttest: 0.3659387\tbest: 0.3659387 (3000)\ttotal: 11.2s\tremaining: 7.43s\n",
      "4000:\tlearn: 0.2989077\ttest: 0.3275918\tbest: 0.3275918 (4000)\ttotal: 14.9s\tremaining: 3.71s\n",
      "4999:\tlearn: 0.2692991\ttest: 0.3008209\tbest: 0.3008209 (4999)\ttotal: 18.7s\tremaining: 0us\n",
      "bestTest = 0.3008209008\n",
      "bestIteration = 4999\n"
     ]
    },
    {
     "name": "stderr",
     "output_type": "stream",
     "text": [
      "100%|████████████████████████████████████████████████████████████████████████████████████████| 5/5 [02:20<00:00, 28.15s/it]\n"
     ]
    }
   ],
   "source": [
    "X = new_train_df[selected_cols].values\n",
    "y = new_train_df[target[0]].values\n",
    "\n",
    "skf = KFold(n_splits=5, random_state=2048, shuffle=True)\n",
    "skf.get_n_splits(X, y)\n",
    "\n",
    "train_index_list = []\n",
    "test_index_list = []\n",
    "train_x_list = []\n",
    "val_x_list = []\n",
    "train_y_list = []\n",
    "val_y_list = []\n",
    "\n",
    "for i, (train_index, test_index) in tqdm(enumerate(skf.split(X, y))):\n",
    "    train_index_list.append(train_index)\n",
    "    test_index_list.append(test_index)\n",
    "\n",
    "    train_x_list.append(X[train_index, :])\n",
    "    val_x_list.append(X[test_index, :])\n",
    "    train_y_list.append(y[train_index])\n",
    "    val_y_list.append(y[test_index])    \n",
    "def train_catboost(x, y):\n",
    "    print(x.shape, y.shape)\n",
    "    \n",
    "    cat_models = []\n",
    "    for i in tqdm(range(5)):\n",
    "        train_x, val_x = train_x_list[i], val_x_list[i]\n",
    "        train_y, val_y = train_y_list[i], val_y_list[i]\n",
    "        clf = CatBoostRegressor(iterations=5000, verbose=200, learning_rate=0.12, task_type=\"GPU\",\n",
    "                           devices='1')\n",
    "        clf.fit(train_x, train_y, eval_set=[(val_x, val_y)], verbose=1000, early_stopping_rounds=100)\n",
    "        cat_models.append(clf)\n",
    "    \n",
    "    return cat_models\n",
    "cat_models = train_catboost(X, y)\n"
   ]
  },
  {
   "cell_type": "code",
   "execution_count": 26,
   "id": "c20b63b1",
   "metadata": {},
   "outputs": [
    {
     "name": "stderr",
     "output_type": "stream",
     "text": [
      "100%|████████████████████████████████████████████████████████████████████████████████████████| 5/5 [00:00<00:00, 40.72it/s]\n"
     ]
    },
    {
     "name": "stdout",
     "output_type": "stream",
     "text": [
      "cos_sim with best submission: 0.9998425955358088\n"
     ]
    }
   ],
   "source": [
    "preds = []\n",
    "for cat_model in tqdm(cat_models):\n",
    "    preds.append(cat_model.predict(Xtest))\n",
    "s = 0\n",
    "for pred in preds:\n",
    "    s += pred\n",
    "s = s/5\n",
    "result_df = pd.read_csv('./sample_solution.csv')\n",
    "\n",
    "best_df = pd.read_csv('best_sub.csv')\n",
    "y_best = best_df[target[0]].values\n",
    "result_df['contest-tmp2m-14d__tmp2m'] = s\n",
    "result_df.to_csv('submission_pseudo_labeling_v1.csv', index=False)\n",
    "\n",
    "from numpy import dot\n",
    "from numpy.linalg import norm\n",
    "\n",
    "cos_sim = dot(y_best, s)/(norm(y_best)*norm(s))\n",
    "print(\"cos_sim with best submission:\", cos_sim)"
   ]
  },
  {
   "cell_type": "code",
   "execution_count": null,
   "id": "a8d9d2fd",
   "metadata": {},
   "outputs": [],
   "source": []
  }
 ],
 "metadata": {
  "kernelspec": {
   "display_name": "wids-env",
   "language": "python",
   "name": "wids-env"
  },
  "language_info": {
   "codemirror_mode": {
    "name": "ipython",
    "version": 3
   },
   "file_extension": ".py",
   "mimetype": "text/x-python",
   "name": "python",
   "nbconvert_exporter": "python",
   "pygments_lexer": "ipython3",
   "version": "3.7.15"
  }
 },
 "nbformat": 4,
 "nbformat_minor": 5
}
