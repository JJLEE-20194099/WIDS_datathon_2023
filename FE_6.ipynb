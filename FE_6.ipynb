{
 "cells": [
  {
   "cell_type": "code",
   "execution_count": 1,
   "id": "f63b11e7",
   "metadata": {},
   "outputs": [],
   "source": [
    "import numpy as np\n",
    "import pandas as pd\n",
    "import seaborn as sns\n",
    "import torch\n",
    "import torch.nn as nn\n",
    "import torch.nn.functional as f\n",
    "pd.set_option('display.max_columns', None)\n",
    "import matplotlib.pyplot as plt\n",
    "from sklearn.model_selection import train_test_split\n",
    "from torch.utils.data import DataLoader\n",
    "from sklearn import preprocessing\n",
    "from tqdm import tqdm\n",
    "from sklearn.preprocessing import FunctionTransformer\n",
    "import seaborn as sns \n",
    "from scipy import stats\n",
    "import statsmodels.api as sm\n",
    "\n",
    "from sklearn.ensemble import RandomForestRegressor, ExtraTreesRegressor, AdaBoostRegressor, BaggingRegressor, GradientBoostingRegressor\n",
    "from sklearn.tree import DecisionTreeRegressor\n",
    "from sklearn.linear_model import ElasticNet, Lasso\n",
    "from sklearn.feature_selection import SelectFromModel\n",
    "from sklearn.svm import SVR\n",
    "from sklearn.model_selection import KFold, cross_val_score\n",
    "from sklearn.pipeline import make_pipeline\n",
    "from sklearn.decomposition import PCA\n",
    "from sklearn.preprocessing import RobustScaler\n",
    "import h2o\n",
    "from h2o.automl import H2OAutoML\n",
    "from sklearn.base import BaseEstimator, TransformerMixin, RegressorMixin, clone\n",
    "from sklearn.neural_network import MLPRegressor\n",
    "from scipy.stats import norm\n",
    "import copy\n",
    "from sklearn.model_selection import KFold\n",
    "from catboost import CatBoostRegressor, Pool, metrics, cv\n",
    "import xgboost as xgb\n",
    "from scipy.stats import gmean\n",
    "from sklearn.impute import KNNImputer\n",
    "from sklearn.metrics import mean_squared_error\n",
    "from sklearn.preprocessing import LabelEncoder"
   ]
  },
  {
   "cell_type": "code",
   "execution_count": 2,
   "id": "b750100a",
   "metadata": {},
   "outputs": [],
   "source": [
    "add_train = pd.read_csv('./n_train.csv')\n",
    "add_test = pd.read_csv('./n_test.csv')"
   ]
  },
  {
   "cell_type": "code",
   "execution_count": 3,
   "id": "a47eb0e9",
   "metadata": {},
   "outputs": [],
   "source": [
    "climate_type_dict = {'1':'BSk',\n",
    " '9': 'Dfb',\n",
    " '4': 'Cfa',\n",
    " '7': 'Csb',\n",
    " '8': 'Dfa',\n",
    " '3': 'BWk',\n",
    " '10': 'Dfc',\n",
    " '2': 'BWh',\n",
    " '6': 'Csa',\n",
    " '11': 'Dsb',\n",
    " '0': 'BSh',\n",
    " '5': 'Cfb',\n",
    " '12': 'Dsc',\n",
    " '13': 'Dwa',\n",
    " '14': 'Dwb'}"
   ]
  },
  {
   "cell_type": "code",
   "execution_count": 4,
   "id": "6ab9423b",
   "metadata": {},
   "outputs": [],
   "source": [
    "all_cols = add_train.columns.tolist()"
   ]
  },
  {
   "cell_type": "code",
   "execution_count": 5,
   "id": "258cca0e",
   "metadata": {},
   "outputs": [],
   "source": [
    "target=[\"contest-tmp2m-14d__tmp2m\"]"
   ]
  },
  {
   "cell_type": "code",
   "execution_count": 6,
   "id": "657e29fb",
   "metadata": {},
   "outputs": [
    {
     "name": "stdout",
     "output_type": "stream",
     "text": [
      "climateregions__climateregion\n"
     ]
    }
   ],
   "source": [
    "train_df =  pd.read_csv('fe_v1_train.csv')\n",
    "test_df  =  pd.read_csv('fe_v1_test.csv')\n",
    "for c in train_df.columns:\n",
    "    if train_df[c].dtypes != 'float64':\n",
    "        print(c)"
   ]
  },
  {
   "cell_type": "code",
   "execution_count": 7,
   "id": "66b5ae01",
   "metadata": {},
   "outputs": [
    {
     "name": "stdout",
     "output_type": "stream",
     "text": [
      "Main features: 63\n"
     ]
    }
   ],
   "source": [
    "exclude_cols = ['index', 'startdate']\n",
    "best_cols = [c for c in train_df.columns if c not in exclude_cols and c not in target]\n",
    "print(\"Main features:\", len(best_cols))"
   ]
  },
  {
   "cell_type": "code",
   "execution_count": 8,
   "id": "d79003b9",
   "metadata": {},
   "outputs": [
    {
     "name": "stdout",
     "output_type": "stream",
     "text": [
      "contest-precip-14d__precip\n"
     ]
    }
   ],
   "source": [
    "for c in all_cols:\n",
    "    if 'contest-precip-14d' in c:\n",
    "        print(c)"
   ]
  },
  {
   "cell_type": "code",
   "execution_count": 9,
   "id": "281ff6e9",
   "metadata": {},
   "outputs": [],
   "source": [
    "def calculate_season(month):\n",
    "    if month == 12 or month == 1 or month == 2:\n",
    "        return 4\n",
    "    if month == 9 or month == 10 or month == 11:\n",
    "        return 3\n",
    "    if month == 7 or month == 8 or month == 6:\n",
    "        return 2\n",
    "    if month == 3 or month == 4 or month == 5:\n",
    "        return 1"
   ]
  },
  {
   "cell_type": "code",
   "execution_count": 10,
   "id": "55ccb6d1",
   "metadata": {},
   "outputs": [],
   "source": [
    "train_df['month'] = add_train['month']\n",
    "test_df['month'] = add_test['month']\n",
    "\n",
    "train_df['season'] = train_df['month'].apply(calculate_season)\n",
    "test_df['season'] = test_df['month'].apply(calculate_season)\n",
    "\n",
    "train_df['loc_group'] = add_train['loc_group']\n",
    "test_df['loc_group'] = add_test['loc_group']\n",
    "\n",
    "train_df['year'] = add_train['year']\n",
    "test_df['year'] = add_test['year']\n",
    "\n",
    "def map_climate_type(x):\n",
    "    return climate_type_dict[str(x)]\n",
    "\n",
    "train_df['climate_type'] = train_df['climateregions__climateregion'].apply(map_climate_type)\n",
    "test_df['climate_type'] = train_df['climateregions__climateregion'].apply(map_climate_type)\n",
    "\n",
    "precip_col = 'contest-precip-14d__precip'\n",
    "wind_col = 'contest-wind-h500-14d__wind-hgt-500'\n",
    "\n",
    "group_cols = ['loc_group', 'climate_type', 'year', 'season', 'month']\n",
    "season_group_cols = ['loc_group', 'climate_type', 'year', 'season']\n"
   ]
  },
  {
   "cell_type": "code",
   "execution_count": 11,
   "id": "89eba818",
   "metadata": {},
   "outputs": [],
   "source": [
    "slp_col = 'contest-slp-14d__slp'\n",
    "ccsm3_col = 'nmme-tmp2m-34w__ccsm3'\n",
    "pres_col = 'contest-pres-sfc-gauss-14d__pres'\n",
    "precip_col = 'contest-precip-14d__precip'\n",
    "stt_col = 'sst-2010-1'\n",
    "sst_col_5 = 'sst-2010-5'\n",
    "sst_col_3 = 'sst-2010-3'"
   ]
  },
  {
   "cell_type": "code",
   "execution_count": 12,
   "id": "f2835671",
   "metadata": {},
   "outputs": [
    {
     "name": "stdout",
     "output_type": "stream",
     "text": [
      "74839.94 102845.57\n",
      "75925.02 102119.93\n"
     ]
    }
   ],
   "source": [
    "print(train_df[pres_col].min(), train_df[pres_col].max())\n",
    "print(test_df[pres_col].min(), test_df[pres_col].max())"
   ]
  },
  {
   "cell_type": "code",
   "execution_count": 13,
   "id": "e4b5b1b8",
   "metadata": {},
   "outputs": [
    {
     "name": "stdout",
     "output_type": "stream",
     "text": [
      "-219.87 352.2\n",
      "89.73 345.33\n"
     ]
    }
   ],
   "source": [
    "print(train_df[stt_col].min(), train_df[stt_col].max())\n",
    "print(test_df[stt_col].min(), test_df[stt_col].max())"
   ]
  },
  {
   "cell_type": "code",
   "execution_count": 14,
   "id": "c7578466",
   "metadata": {},
   "outputs": [
    {
     "name": "stdout",
     "output_type": "stream",
     "text": [
      "-32.81 40.97\n",
      "-4.62 21.5\n"
     ]
    }
   ],
   "source": [
    "print(train_df[sst_col_5].min(), train_df[sst_col_5].max())\n",
    "print(test_df[sst_col_5].min(), test_df[sst_col_5].max())"
   ]
  },
  {
   "cell_type": "code",
   "execution_count": 15,
   "id": "9f0f35cb",
   "metadata": {},
   "outputs": [
    {
     "name": "stdout",
     "output_type": "stream",
     "text": [
      "0.0 502.63\n",
      "0.0 439.54\n"
     ]
    }
   ],
   "source": [
    "print(train_df[precip_col].min(), train_df[precip_col].max())\n",
    "print(test_df[precip_col].min(), test_df[precip_col].max())"
   ]
  },
  {
   "cell_type": "code",
   "execution_count": 16,
   "id": "9cc45f65",
   "metadata": {},
   "outputs": [],
   "source": [
    "# train_df[pres_col] = train_df[pres_col] - 100000\n",
    "# test_df[pres_col] = test_df[pres_col] - 100000"
   ]
  },
  {
   "cell_type": "code",
   "execution_count": 17,
   "id": "2cad7d7a",
   "metadata": {},
   "outputs": [
    {
     "name": "stdout",
     "output_type": "stream",
     "text": [
      "100379.21 103275.84\n",
      "100593.22 102258.27\n"
     ]
    }
   ],
   "source": [
    "print(train_df[slp_col].min(), train_df[slp_col].max())\n",
    "print(test_df[slp_col].min(), test_df[slp_col].max())"
   ]
  },
  {
   "cell_type": "code",
   "execution_count": 18,
   "id": "469893f4",
   "metadata": {},
   "outputs": [
    {
     "name": "stdout",
     "output_type": "stream",
     "text": [
      "5289.25 5958.2\n",
      "5504.59 5925.56\n"
     ]
    }
   ],
   "source": [
    "print(train_df[wind_col].min(), train_df[wind_col].max())\n",
    "print(test_df[wind_col].min(), test_df[wind_col].max())"
   ]
  },
  {
   "cell_type": "code",
   "execution_count": 19,
   "id": "856be928",
   "metadata": {},
   "outputs": [],
   "source": [
    "train_df[wind_col] = train_df[wind_col] - 5000\n",
    "test_df[wind_col] = test_df[wind_col] - 5000"
   ]
  },
  {
   "cell_type": "code",
   "execution_count": 20,
   "id": "f2e36dcb",
   "metadata": {},
   "outputs": [],
   "source": [
    "train_df[slp_col] = train_df[slp_col] - 100000\n",
    "test_df[slp_col] = test_df[slp_col] - 100000"
   ]
  },
  {
   "cell_type": "code",
   "execution_count": 21,
   "id": "e00fe5ce",
   "metadata": {},
   "outputs": [
    {
     "data": {
      "text/plain": [
       "(407088, 68)"
      ]
     },
     "execution_count": 21,
     "metadata": {},
     "output_type": "execute_result"
    }
   ],
   "source": [
    "check_cols = [c for c in train_df.columns if c not in target and c not in exclude_cols]\n",
    "\n",
    "df = pd.concat([train_df[check_cols], test_df[check_cols]], axis=0)\n",
    "df.shape"
   ]
  },
  {
   "cell_type": "code",
   "execution_count": 22,
   "id": "93c0c117",
   "metadata": {},
   "outputs": [],
   "source": [
    "def create_df_by_group_and_agg(dataframe, grouped_cols, action, my_col, return_name):\n",
    "    if action == \"first\":\n",
    "        ans_df = dataframe.groupby(grouped_cols)[my_col].first().reset_index()\n",
    "    elif action == \"min\":\n",
    "        ans_df = dataframe.groupby(grouped_cols)[my_col].min().reset_index()\n",
    "    elif action == \"max\":\n",
    "        ans_df = dataframe.groupby(grouped_cols)[my_col].max().reset_index()\n",
    "    elif action == \"mean\":\n",
    "        ans_df = dataframe.groupby(grouped_cols)[my_col].mean().reset_index()\n",
    "    print(\"Nan\")\n",
    "    ans_df = ans_df.rename(columns={my_col: return_name})\n",
    "    for c in ans_df.columns:\n",
    "        if ans_df[c].isnull().sum() > 0:\n",
    "            print(c, ans_df[c].isnull().sum())\n",
    "    return ans_df"
   ]
  },
  {
   "cell_type": "code",
   "execution_count": 23,
   "id": "a52a1320",
   "metadata": {},
   "outputs": [],
   "source": [
    "def assign_train_test_df(my_col):\n",
    "    train_df[my_col] = df[:len(train_df)][my_col].tolist()\n",
    "    test_df[my_col] = df[len(train_df):][my_col].tolist()"
   ]
  },
  {
   "cell_type": "code",
   "execution_count": 24,
   "id": "d981dfd7",
   "metadata": {},
   "outputs": [
    {
     "name": "stdout",
     "output_type": "stream",
     "text": [
      "Nan\n"
     ]
    },
    {
     "data": {
      "text/html": [
       "<div>\n",
       "<style scoped>\n",
       "    .dataframe tbody tr th:only-of-type {\n",
       "        vertical-align: middle;\n",
       "    }\n",
       "\n",
       "    .dataframe tbody tr th {\n",
       "        vertical-align: top;\n",
       "    }\n",
       "\n",
       "    .dataframe thead th {\n",
       "        text-align: right;\n",
       "    }\n",
       "</style>\n",
       "<table border=\"1\" class=\"dataframe\">\n",
       "  <thead>\n",
       "    <tr style=\"text-align: right;\">\n",
       "      <th></th>\n",
       "      <th>loc_group</th>\n",
       "      <th>climate_type</th>\n",
       "      <th>year</th>\n",
       "      <th>season</th>\n",
       "      <th>first_slp</th>\n",
       "    </tr>\n",
       "  </thead>\n",
       "  <tbody>\n",
       "    <tr>\n",
       "      <th>0</th>\n",
       "      <td>0</td>\n",
       "      <td>BSh</td>\n",
       "      <td>2014</td>\n",
       "      <td>3</td>\n",
       "      <td>1352.08</td>\n",
       "    </tr>\n",
       "    <tr>\n",
       "      <th>1</th>\n",
       "      <td>0</td>\n",
       "      <td>BSh</td>\n",
       "      <td>2014</td>\n",
       "      <td>4</td>\n",
       "      <td>2072.81</td>\n",
       "    </tr>\n",
       "    <tr>\n",
       "      <th>2</th>\n",
       "      <td>0</td>\n",
       "      <td>BSh</td>\n",
       "      <td>2015</td>\n",
       "      <td>1</td>\n",
       "      <td>1917.24</td>\n",
       "    </tr>\n",
       "  </tbody>\n",
       "</table>\n",
       "</div>"
      ],
      "text/plain": [
       "   loc_group climate_type  year  season  first_slp\n",
       "0          0          BSh  2014       3    1352.08\n",
       "1          0          BSh  2014       4    2072.81\n",
       "2          0          BSh  2015       1    1917.24"
      ]
     },
     "execution_count": 24,
     "metadata": {},
     "output_type": "execute_result"
    }
   ],
   "source": [
    "first_slp_df = create_df_by_group_and_agg(df, season_group_cols, \"first\", slp_col, \"first_slp\")\n",
    "first_slp_df.head(3)"
   ]
  },
  {
   "cell_type": "code",
   "execution_count": 25,
   "id": "9af3e9fd",
   "metadata": {},
   "outputs": [
    {
     "name": "stdout",
     "output_type": "stream",
     "text": [
      "Nan\n"
     ]
    },
    {
     "data": {
      "text/html": [
       "<div>\n",
       "<style scoped>\n",
       "    .dataframe tbody tr th:only-of-type {\n",
       "        vertical-align: middle;\n",
       "    }\n",
       "\n",
       "    .dataframe tbody tr th {\n",
       "        vertical-align: top;\n",
       "    }\n",
       "\n",
       "    .dataframe thead th {\n",
       "        text-align: right;\n",
       "    }\n",
       "</style>\n",
       "<table border=\"1\" class=\"dataframe\">\n",
       "  <thead>\n",
       "    <tr style=\"text-align: right;\">\n",
       "      <th></th>\n",
       "      <th>loc_group</th>\n",
       "      <th>climate_type</th>\n",
       "      <th>year</th>\n",
       "      <th>season</th>\n",
       "      <th>first_wind</th>\n",
       "    </tr>\n",
       "  </thead>\n",
       "  <tbody>\n",
       "    <tr>\n",
       "      <th>0</th>\n",
       "      <td>0</td>\n",
       "      <td>BSh</td>\n",
       "      <td>2014</td>\n",
       "      <td>3</td>\n",
       "      <td>899.66</td>\n",
       "    </tr>\n",
       "    <tr>\n",
       "      <th>1</th>\n",
       "      <td>0</td>\n",
       "      <td>BSh</td>\n",
       "      <td>2014</td>\n",
       "      <td>4</td>\n",
       "      <td>847.35</td>\n",
       "    </tr>\n",
       "    <tr>\n",
       "      <th>2</th>\n",
       "      <td>0</td>\n",
       "      <td>BSh</td>\n",
       "      <td>2015</td>\n",
       "      <td>1</td>\n",
       "      <td>804.47</td>\n",
       "    </tr>\n",
       "  </tbody>\n",
       "</table>\n",
       "</div>"
      ],
      "text/plain": [
       "   loc_group climate_type  year  season  first_wind\n",
       "0          0          BSh  2014       3      899.66\n",
       "1          0          BSh  2014       4      847.35\n",
       "2          0          BSh  2015       1      804.47"
      ]
     },
     "execution_count": 25,
     "metadata": {},
     "output_type": "execute_result"
    }
   ],
   "source": [
    "first_wind_df = create_df_by_group_and_agg(df, season_group_cols, \"first\", wind_col, \"first_wind\")\n",
    "first_wind_df.head(3)"
   ]
  },
  {
   "cell_type": "code",
   "execution_count": 26,
   "id": "c0bdcedd",
   "metadata": {},
   "outputs": [
    {
     "name": "stdout",
     "output_type": "stream",
     "text": [
      "Nan\n"
     ]
    },
    {
     "data": {
      "text/html": [
       "<div>\n",
       "<style scoped>\n",
       "    .dataframe tbody tr th:only-of-type {\n",
       "        vertical-align: middle;\n",
       "    }\n",
       "\n",
       "    .dataframe tbody tr th {\n",
       "        vertical-align: top;\n",
       "    }\n",
       "\n",
       "    .dataframe thead th {\n",
       "        text-align: right;\n",
       "    }\n",
       "</style>\n",
       "<table border=\"1\" class=\"dataframe\">\n",
       "  <thead>\n",
       "    <tr style=\"text-align: right;\">\n",
       "      <th></th>\n",
       "      <th>loc_group</th>\n",
       "      <th>climate_type</th>\n",
       "      <th>year</th>\n",
       "      <th>season</th>\n",
       "      <th>first_precip</th>\n",
       "    </tr>\n",
       "  </thead>\n",
       "  <tbody>\n",
       "    <tr>\n",
       "      <th>0</th>\n",
       "      <td>0</td>\n",
       "      <td>BSh</td>\n",
       "      <td>2014</td>\n",
       "      <td>3</td>\n",
       "      <td>94.31</td>\n",
       "    </tr>\n",
       "    <tr>\n",
       "      <th>1</th>\n",
       "      <td>0</td>\n",
       "      <td>BSh</td>\n",
       "      <td>2014</td>\n",
       "      <td>4</td>\n",
       "      <td>25.53</td>\n",
       "    </tr>\n",
       "    <tr>\n",
       "      <th>2</th>\n",
       "      <td>0</td>\n",
       "      <td>BSh</td>\n",
       "      <td>2015</td>\n",
       "      <td>1</td>\n",
       "      <td>31.94</td>\n",
       "    </tr>\n",
       "  </tbody>\n",
       "</table>\n",
       "</div>"
      ],
      "text/plain": [
       "   loc_group climate_type  year  season  first_precip\n",
       "0          0          BSh  2014       3         94.31\n",
       "1          0          BSh  2014       4         25.53\n",
       "2          0          BSh  2015       1         31.94"
      ]
     },
     "execution_count": 26,
     "metadata": {},
     "output_type": "execute_result"
    }
   ],
   "source": [
    "first_precip_df = create_df_by_group_and_agg(df, season_group_cols, \"first\", precip_col, \"first_precip\")\n",
    "first_precip_df.head(3)"
   ]
  },
  {
   "cell_type": "code",
   "execution_count": 27,
   "id": "a38a50e1",
   "metadata": {},
   "outputs": [
    {
     "name": "stdout",
     "output_type": "stream",
     "text": [
      "Nan\n"
     ]
    },
    {
     "data": {
      "text/html": [
       "<div>\n",
       "<style scoped>\n",
       "    .dataframe tbody tr th:only-of-type {\n",
       "        vertical-align: middle;\n",
       "    }\n",
       "\n",
       "    .dataframe tbody tr th {\n",
       "        vertical-align: top;\n",
       "    }\n",
       "\n",
       "    .dataframe thead th {\n",
       "        text-align: right;\n",
       "    }\n",
       "</style>\n",
       "<table border=\"1\" class=\"dataframe\">\n",
       "  <thead>\n",
       "    <tr style=\"text-align: right;\">\n",
       "      <th></th>\n",
       "      <th>loc_group</th>\n",
       "      <th>climate_type</th>\n",
       "      <th>year</th>\n",
       "      <th>season</th>\n",
       "      <th>first_ccsm3</th>\n",
       "    </tr>\n",
       "  </thead>\n",
       "  <tbody>\n",
       "    <tr>\n",
       "      <th>0</th>\n",
       "      <td>0</td>\n",
       "      <td>BSh</td>\n",
       "      <td>2014</td>\n",
       "      <td>3</td>\n",
       "      <td>27.57</td>\n",
       "    </tr>\n",
       "    <tr>\n",
       "      <th>1</th>\n",
       "      <td>0</td>\n",
       "      <td>BSh</td>\n",
       "      <td>2014</td>\n",
       "      <td>4</td>\n",
       "      <td>6.66</td>\n",
       "    </tr>\n",
       "    <tr>\n",
       "      <th>2</th>\n",
       "      <td>0</td>\n",
       "      <td>BSh</td>\n",
       "      <td>2015</td>\n",
       "      <td>1</td>\n",
       "      <td>15.25</td>\n",
       "    </tr>\n",
       "  </tbody>\n",
       "</table>\n",
       "</div>"
      ],
      "text/plain": [
       "   loc_group climate_type  year  season  first_ccsm3\n",
       "0          0          BSh  2014       3        27.57\n",
       "1          0          BSh  2014       4         6.66\n",
       "2          0          BSh  2015       1        15.25"
      ]
     },
     "execution_count": 27,
     "metadata": {},
     "output_type": "execute_result"
    }
   ],
   "source": [
    "first_ccsm3_df = create_df_by_group_and_agg(df, season_group_cols, \"first\", ccsm3_col, \"first_ccsm3\")\n",
    "first_ccsm3_df.head(3)"
   ]
  },
  {
   "cell_type": "code",
   "execution_count": 28,
   "id": "ec6a5160",
   "metadata": {},
   "outputs": [
    {
     "name": "stdout",
     "output_type": "stream",
     "text": [
      "Nan\n"
     ]
    },
    {
     "data": {
      "text/html": [
       "<div>\n",
       "<style scoped>\n",
       "    .dataframe tbody tr th:only-of-type {\n",
       "        vertical-align: middle;\n",
       "    }\n",
       "\n",
       "    .dataframe tbody tr th {\n",
       "        vertical-align: top;\n",
       "    }\n",
       "\n",
       "    .dataframe thead th {\n",
       "        text-align: right;\n",
       "    }\n",
       "</style>\n",
       "<table border=\"1\" class=\"dataframe\">\n",
       "  <thead>\n",
       "    <tr style=\"text-align: right;\">\n",
       "      <th></th>\n",
       "      <th>loc_group</th>\n",
       "      <th>climate_type</th>\n",
       "      <th>year</th>\n",
       "      <th>season</th>\n",
       "      <th>first_pres</th>\n",
       "    </tr>\n",
       "  </thead>\n",
       "  <tbody>\n",
       "    <tr>\n",
       "      <th>0</th>\n",
       "      <td>0</td>\n",
       "      <td>BSh</td>\n",
       "      <td>2014</td>\n",
       "      <td>3</td>\n",
       "      <td>27.57</td>\n",
       "    </tr>\n",
       "    <tr>\n",
       "      <th>1</th>\n",
       "      <td>0</td>\n",
       "      <td>BSh</td>\n",
       "      <td>2014</td>\n",
       "      <td>4</td>\n",
       "      <td>6.66</td>\n",
       "    </tr>\n",
       "    <tr>\n",
       "      <th>2</th>\n",
       "      <td>0</td>\n",
       "      <td>BSh</td>\n",
       "      <td>2015</td>\n",
       "      <td>1</td>\n",
       "      <td>15.25</td>\n",
       "    </tr>\n",
       "  </tbody>\n",
       "</table>\n",
       "</div>"
      ],
      "text/plain": [
       "   loc_group climate_type  year  season  first_pres\n",
       "0          0          BSh  2014       3       27.57\n",
       "1          0          BSh  2014       4        6.66\n",
       "2          0          BSh  2015       1       15.25"
      ]
     },
     "execution_count": 28,
     "metadata": {},
     "output_type": "execute_result"
    }
   ],
   "source": [
    "first_pres_df = create_df_by_group_and_agg(df, season_group_cols, \"first\", ccsm3_col, \"first_pres\")\n",
    "first_pres_df.head(3)"
   ]
  },
  {
   "cell_type": "code",
   "execution_count": 29,
   "id": "49685bc2",
   "metadata": {},
   "outputs": [
    {
     "name": "stdout",
     "output_type": "stream",
     "text": [
      "Nan\n"
     ]
    },
    {
     "data": {
      "text/html": [
       "<div>\n",
       "<style scoped>\n",
       "    .dataframe tbody tr th:only-of-type {\n",
       "        vertical-align: middle;\n",
       "    }\n",
       "\n",
       "    .dataframe tbody tr th {\n",
       "        vertical-align: top;\n",
       "    }\n",
       "\n",
       "    .dataframe thead th {\n",
       "        text-align: right;\n",
       "    }\n",
       "</style>\n",
       "<table border=\"1\" class=\"dataframe\">\n",
       "  <thead>\n",
       "    <tr style=\"text-align: right;\">\n",
       "      <th></th>\n",
       "      <th>loc_group</th>\n",
       "      <th>climate_type</th>\n",
       "      <th>year</th>\n",
       "      <th>season</th>\n",
       "      <th>first_sst</th>\n",
       "    </tr>\n",
       "  </thead>\n",
       "  <tbody>\n",
       "    <tr>\n",
       "      <th>0</th>\n",
       "      <td>0</td>\n",
       "      <td>BSh</td>\n",
       "      <td>2014</td>\n",
       "      <td>3</td>\n",
       "      <td>352.20</td>\n",
       "    </tr>\n",
       "    <tr>\n",
       "      <th>1</th>\n",
       "      <td>0</td>\n",
       "      <td>BSh</td>\n",
       "      <td>2014</td>\n",
       "      <td>4</td>\n",
       "      <td>-27.73</td>\n",
       "    </tr>\n",
       "    <tr>\n",
       "      <th>2</th>\n",
       "      <td>0</td>\n",
       "      <td>BSh</td>\n",
       "      <td>2015</td>\n",
       "      <td>1</td>\n",
       "      <td>-182.10</td>\n",
       "    </tr>\n",
       "  </tbody>\n",
       "</table>\n",
       "</div>"
      ],
      "text/plain": [
       "   loc_group climate_type  year  season  first_sst\n",
       "0          0          BSh  2014       3     352.20\n",
       "1          0          BSh  2014       4     -27.73\n",
       "2          0          BSh  2015       1    -182.10"
      ]
     },
     "execution_count": 29,
     "metadata": {},
     "output_type": "execute_result"
    }
   ],
   "source": [
    "first_sst_df = create_df_by_group_and_agg(df, season_group_cols, \"first\", stt_col, \"first_sst\")\n",
    "first_sst_df.head(3)"
   ]
  },
  {
   "cell_type": "code",
   "execution_count": 30,
   "id": "a676e9bd",
   "metadata": {},
   "outputs": [
    {
     "name": "stdout",
     "output_type": "stream",
     "text": [
      "Nan\n"
     ]
    },
    {
     "data": {
      "text/html": [
       "<div>\n",
       "<style scoped>\n",
       "    .dataframe tbody tr th:only-of-type {\n",
       "        vertical-align: middle;\n",
       "    }\n",
       "\n",
       "    .dataframe tbody tr th {\n",
       "        vertical-align: top;\n",
       "    }\n",
       "\n",
       "    .dataframe thead th {\n",
       "        text-align: right;\n",
       "    }\n",
       "</style>\n",
       "<table border=\"1\" class=\"dataframe\">\n",
       "  <thead>\n",
       "    <tr style=\"text-align: right;\">\n",
       "      <th></th>\n",
       "      <th>loc_group</th>\n",
       "      <th>climate_type</th>\n",
       "      <th>year</th>\n",
       "      <th>season</th>\n",
       "      <th>first_sst_5</th>\n",
       "    </tr>\n",
       "  </thead>\n",
       "  <tbody>\n",
       "    <tr>\n",
       "      <th>0</th>\n",
       "      <td>0</td>\n",
       "      <td>BSh</td>\n",
       "      <td>2014</td>\n",
       "      <td>3</td>\n",
       "      <td>19.29</td>\n",
       "    </tr>\n",
       "    <tr>\n",
       "      <th>1</th>\n",
       "      <td>0</td>\n",
       "      <td>BSh</td>\n",
       "      <td>2014</td>\n",
       "      <td>4</td>\n",
       "      <td>24.82</td>\n",
       "    </tr>\n",
       "    <tr>\n",
       "      <th>2</th>\n",
       "      <td>0</td>\n",
       "      <td>BSh</td>\n",
       "      <td>2015</td>\n",
       "      <td>1</td>\n",
       "      <td>23.47</td>\n",
       "    </tr>\n",
       "  </tbody>\n",
       "</table>\n",
       "</div>"
      ],
      "text/plain": [
       "   loc_group climate_type  year  season  first_sst_5\n",
       "0          0          BSh  2014       3        19.29\n",
       "1          0          BSh  2014       4        24.82\n",
       "2          0          BSh  2015       1        23.47"
      ]
     },
     "execution_count": 30,
     "metadata": {},
     "output_type": "execute_result"
    }
   ],
   "source": [
    "first_sst_5_df = create_df_by_group_and_agg(df, season_group_cols, \"first\", sst_col_5, \"first_sst_5\")\n",
    "first_sst_5_df.head(3)"
   ]
  },
  {
   "cell_type": "code",
   "execution_count": 31,
   "id": "122776f7",
   "metadata": {},
   "outputs": [
    {
     "name": "stdout",
     "output_type": "stream",
     "text": [
      "Nan\n"
     ]
    },
    {
     "data": {
      "text/html": [
       "<div>\n",
       "<style scoped>\n",
       "    .dataframe tbody tr th:only-of-type {\n",
       "        vertical-align: middle;\n",
       "    }\n",
       "\n",
       "    .dataframe tbody tr th {\n",
       "        vertical-align: top;\n",
       "    }\n",
       "\n",
       "    .dataframe thead th {\n",
       "        text-align: right;\n",
       "    }\n",
       "</style>\n",
       "<table border=\"1\" class=\"dataframe\">\n",
       "  <thead>\n",
       "    <tr style=\"text-align: right;\">\n",
       "      <th></th>\n",
       "      <th>loc_group</th>\n",
       "      <th>climate_type</th>\n",
       "      <th>year</th>\n",
       "      <th>season</th>\n",
       "      <th>first_sst_3</th>\n",
       "    </tr>\n",
       "  </thead>\n",
       "  <tbody>\n",
       "    <tr>\n",
       "      <th>0</th>\n",
       "      <td>0</td>\n",
       "      <td>BSh</td>\n",
       "      <td>2014</td>\n",
       "      <td>3</td>\n",
       "      <td>-19.69</td>\n",
       "    </tr>\n",
       "    <tr>\n",
       "      <th>1</th>\n",
       "      <td>0</td>\n",
       "      <td>BSh</td>\n",
       "      <td>2014</td>\n",
       "      <td>4</td>\n",
       "      <td>-49.72</td>\n",
       "    </tr>\n",
       "    <tr>\n",
       "      <th>2</th>\n",
       "      <td>0</td>\n",
       "      <td>BSh</td>\n",
       "      <td>2015</td>\n",
       "      <td>1</td>\n",
       "      <td>-52.32</td>\n",
       "    </tr>\n",
       "  </tbody>\n",
       "</table>\n",
       "</div>"
      ],
      "text/plain": [
       "   loc_group climate_type  year  season  first_sst_3\n",
       "0          0          BSh  2014       3       -19.69\n",
       "1          0          BSh  2014       4       -49.72\n",
       "2          0          BSh  2015       1       -52.32"
      ]
     },
     "execution_count": 31,
     "metadata": {},
     "output_type": "execute_result"
    }
   ],
   "source": [
    "first_sst_3_df = create_df_by_group_and_agg(df, season_group_cols, \"first\", sst_col_3, \"first_sst_3\")\n",
    "first_sst_3_df.head(3)"
   ]
  },
  {
   "cell_type": "code",
   "execution_count": 32,
   "id": "9119aee5",
   "metadata": {},
   "outputs": [
    {
     "name": "stdout",
     "output_type": "stream",
     "text": [
      "Nan\n"
     ]
    },
    {
     "data": {
      "text/html": [
       "<div>\n",
       "<style scoped>\n",
       "    .dataframe tbody tr th:only-of-type {\n",
       "        vertical-align: middle;\n",
       "    }\n",
       "\n",
       "    .dataframe tbody tr th {\n",
       "        vertical-align: top;\n",
       "    }\n",
       "\n",
       "    .dataframe thead th {\n",
       "        text-align: right;\n",
       "    }\n",
       "</style>\n",
       "<table border=\"1\" class=\"dataframe\">\n",
       "  <thead>\n",
       "    <tr style=\"text-align: right;\">\n",
       "      <th></th>\n",
       "      <th>loc_group</th>\n",
       "      <th>climate_type</th>\n",
       "      <th>year</th>\n",
       "      <th>season</th>\n",
       "      <th>min_sst</th>\n",
       "    </tr>\n",
       "  </thead>\n",
       "  <tbody>\n",
       "    <tr>\n",
       "      <th>0</th>\n",
       "      <td>0</td>\n",
       "      <td>BSh</td>\n",
       "      <td>2014</td>\n",
       "      <td>3</td>\n",
       "      <td>-24.17</td>\n",
       "    </tr>\n",
       "    <tr>\n",
       "      <th>1</th>\n",
       "      <td>0</td>\n",
       "      <td>BSh</td>\n",
       "      <td>2014</td>\n",
       "      <td>4</td>\n",
       "      <td>-110.84</td>\n",
       "    </tr>\n",
       "    <tr>\n",
       "      <th>2</th>\n",
       "      <td>0</td>\n",
       "      <td>BSh</td>\n",
       "      <td>2015</td>\n",
       "      <td>1</td>\n",
       "      <td>-183.70</td>\n",
       "    </tr>\n",
       "  </tbody>\n",
       "</table>\n",
       "</div>"
      ],
      "text/plain": [
       "   loc_group climate_type  year  season  min_sst\n",
       "0          0          BSh  2014       3   -24.17\n",
       "1          0          BSh  2014       4  -110.84\n",
       "2          0          BSh  2015       1  -183.70"
      ]
     },
     "execution_count": 32,
     "metadata": {},
     "output_type": "execute_result"
    }
   ],
   "source": [
    "min_sst_df = create_df_by_group_and_agg(df, season_group_cols, \"min\", stt_col, \"min_sst\")\n",
    "min_sst_df.head(3)"
   ]
  },
  {
   "cell_type": "code",
   "execution_count": 33,
   "id": "8538ddbe",
   "metadata": {},
   "outputs": [
    {
     "name": "stdout",
     "output_type": "stream",
     "text": [
      "Nan\n"
     ]
    },
    {
     "data": {
      "text/html": [
       "<div>\n",
       "<style scoped>\n",
       "    .dataframe tbody tr th:only-of-type {\n",
       "        vertical-align: middle;\n",
       "    }\n",
       "\n",
       "    .dataframe tbody tr th {\n",
       "        vertical-align: top;\n",
       "    }\n",
       "\n",
       "    .dataframe thead th {\n",
       "        text-align: right;\n",
       "    }\n",
       "</style>\n",
       "<table border=\"1\" class=\"dataframe\">\n",
       "  <thead>\n",
       "    <tr style=\"text-align: right;\">\n",
       "      <th></th>\n",
       "      <th>loc_group</th>\n",
       "      <th>climate_type</th>\n",
       "      <th>year</th>\n",
       "      <th>season</th>\n",
       "      <th>min_sst_5</th>\n",
       "    </tr>\n",
       "  </thead>\n",
       "  <tbody>\n",
       "    <tr>\n",
       "      <th>0</th>\n",
       "      <td>0</td>\n",
       "      <td>BSh</td>\n",
       "      <td>2014</td>\n",
       "      <td>3</td>\n",
       "      <td>7.98</td>\n",
       "    </tr>\n",
       "    <tr>\n",
       "      <th>1</th>\n",
       "      <td>0</td>\n",
       "      <td>BSh</td>\n",
       "      <td>2014</td>\n",
       "      <td>4</td>\n",
       "      <td>24.81</td>\n",
       "    </tr>\n",
       "    <tr>\n",
       "      <th>2</th>\n",
       "      <td>0</td>\n",
       "      <td>BSh</td>\n",
       "      <td>2015</td>\n",
       "      <td>1</td>\n",
       "      <td>-7.76</td>\n",
       "    </tr>\n",
       "  </tbody>\n",
       "</table>\n",
       "</div>"
      ],
      "text/plain": [
       "   loc_group climate_type  year  season  min_sst_5\n",
       "0          0          BSh  2014       3       7.98\n",
       "1          0          BSh  2014       4      24.81\n",
       "2          0          BSh  2015       1      -7.76"
      ]
     },
     "execution_count": 33,
     "metadata": {},
     "output_type": "execute_result"
    }
   ],
   "source": [
    "min_sst_5_df = create_df_by_group_and_agg(df, season_group_cols, \"min\", sst_col_5, \"min_sst_5\")\n",
    "min_sst_5_df.head(3)"
   ]
  },
  {
   "cell_type": "code",
   "execution_count": 34,
   "id": "9775ff6e",
   "metadata": {},
   "outputs": [
    {
     "name": "stdout",
     "output_type": "stream",
     "text": [
      "Nan\n"
     ]
    },
    {
     "data": {
      "text/html": [
       "<div>\n",
       "<style scoped>\n",
       "    .dataframe tbody tr th:only-of-type {\n",
       "        vertical-align: middle;\n",
       "    }\n",
       "\n",
       "    .dataframe tbody tr th {\n",
       "        vertical-align: top;\n",
       "    }\n",
       "\n",
       "    .dataframe thead th {\n",
       "        text-align: right;\n",
       "    }\n",
       "</style>\n",
       "<table border=\"1\" class=\"dataframe\">\n",
       "  <thead>\n",
       "    <tr style=\"text-align: right;\">\n",
       "      <th></th>\n",
       "      <th>loc_group</th>\n",
       "      <th>climate_type</th>\n",
       "      <th>year</th>\n",
       "      <th>season</th>\n",
       "      <th>min_sst_3</th>\n",
       "    </tr>\n",
       "  </thead>\n",
       "  <tbody>\n",
       "    <tr>\n",
       "      <th>0</th>\n",
       "      <td>0</td>\n",
       "      <td>BSh</td>\n",
       "      <td>2014</td>\n",
       "      <td>3</td>\n",
       "      <td>-51.03</td>\n",
       "    </tr>\n",
       "    <tr>\n",
       "      <th>1</th>\n",
       "      <td>0</td>\n",
       "      <td>BSh</td>\n",
       "      <td>2014</td>\n",
       "      <td>4</td>\n",
       "      <td>-49.72</td>\n",
       "    </tr>\n",
       "    <tr>\n",
       "      <th>2</th>\n",
       "      <td>0</td>\n",
       "      <td>BSh</td>\n",
       "      <td>2015</td>\n",
       "      <td>1</td>\n",
       "      <td>-54.28</td>\n",
       "    </tr>\n",
       "  </tbody>\n",
       "</table>\n",
       "</div>"
      ],
      "text/plain": [
       "   loc_group climate_type  year  season  min_sst_3\n",
       "0          0          BSh  2014       3     -51.03\n",
       "1          0          BSh  2014       4     -49.72\n",
       "2          0          BSh  2015       1     -54.28"
      ]
     },
     "execution_count": 34,
     "metadata": {},
     "output_type": "execute_result"
    }
   ],
   "source": [
    "min_sst_3_df = create_df_by_group_and_agg(df, season_group_cols, \"min\", sst_col_3, \"min_sst_3\")\n",
    "min_sst_3_df.head(3)"
   ]
  },
  {
   "cell_type": "code",
   "execution_count": 35,
   "id": "74bce092",
   "metadata": {},
   "outputs": [
    {
     "name": "stdout",
     "output_type": "stream",
     "text": [
      "Nan\n"
     ]
    },
    {
     "data": {
      "text/html": [
       "<div>\n",
       "<style scoped>\n",
       "    .dataframe tbody tr th:only-of-type {\n",
       "        vertical-align: middle;\n",
       "    }\n",
       "\n",
       "    .dataframe tbody tr th {\n",
       "        vertical-align: top;\n",
       "    }\n",
       "\n",
       "    .dataframe thead th {\n",
       "        text-align: right;\n",
       "    }\n",
       "</style>\n",
       "<table border=\"1\" class=\"dataframe\">\n",
       "  <thead>\n",
       "    <tr style=\"text-align: right;\">\n",
       "      <th></th>\n",
       "      <th>loc_group</th>\n",
       "      <th>climate_type</th>\n",
       "      <th>year</th>\n",
       "      <th>season</th>\n",
       "      <th>max_sst</th>\n",
       "    </tr>\n",
       "  </thead>\n",
       "  <tbody>\n",
       "    <tr>\n",
       "      <th>0</th>\n",
       "      <td>0</td>\n",
       "      <td>BSh</td>\n",
       "      <td>2014</td>\n",
       "      <td>3</td>\n",
       "      <td>352.20</td>\n",
       "    </tr>\n",
       "    <tr>\n",
       "      <th>1</th>\n",
       "      <td>0</td>\n",
       "      <td>BSh</td>\n",
       "      <td>2014</td>\n",
       "      <td>4</td>\n",
       "      <td>-27.73</td>\n",
       "    </tr>\n",
       "    <tr>\n",
       "      <th>2</th>\n",
       "      <td>0</td>\n",
       "      <td>BSh</td>\n",
       "      <td>2015</td>\n",
       "      <td>1</td>\n",
       "      <td>15.72</td>\n",
       "    </tr>\n",
       "  </tbody>\n",
       "</table>\n",
       "</div>"
      ],
      "text/plain": [
       "   loc_group climate_type  year  season  max_sst\n",
       "0          0          BSh  2014       3   352.20\n",
       "1          0          BSh  2014       4   -27.73\n",
       "2          0          BSh  2015       1    15.72"
      ]
     },
     "execution_count": 35,
     "metadata": {},
     "output_type": "execute_result"
    }
   ],
   "source": [
    "max_sst_df = create_df_by_group_and_agg(df, season_group_cols, \"max\", stt_col, \"max_sst\")\n",
    "max_sst_df.head(3)"
   ]
  },
  {
   "cell_type": "code",
   "execution_count": 36,
   "id": "21637e4c",
   "metadata": {},
   "outputs": [
    {
     "name": "stdout",
     "output_type": "stream",
     "text": [
      "Nan\n"
     ]
    },
    {
     "data": {
      "text/html": [
       "<div>\n",
       "<style scoped>\n",
       "    .dataframe tbody tr th:only-of-type {\n",
       "        vertical-align: middle;\n",
       "    }\n",
       "\n",
       "    .dataframe tbody tr th {\n",
       "        vertical-align: top;\n",
       "    }\n",
       "\n",
       "    .dataframe thead th {\n",
       "        text-align: right;\n",
       "    }\n",
       "</style>\n",
       "<table border=\"1\" class=\"dataframe\">\n",
       "  <thead>\n",
       "    <tr style=\"text-align: right;\">\n",
       "      <th></th>\n",
       "      <th>loc_group</th>\n",
       "      <th>climate_type</th>\n",
       "      <th>year</th>\n",
       "      <th>season</th>\n",
       "      <th>max_sst_5</th>\n",
       "    </tr>\n",
       "  </thead>\n",
       "  <tbody>\n",
       "    <tr>\n",
       "      <th>0</th>\n",
       "      <td>0</td>\n",
       "      <td>BSh</td>\n",
       "      <td>2014</td>\n",
       "      <td>3</td>\n",
       "      <td>24.50</td>\n",
       "    </tr>\n",
       "    <tr>\n",
       "      <th>1</th>\n",
       "      <td>0</td>\n",
       "      <td>BSh</td>\n",
       "      <td>2014</td>\n",
       "      <td>4</td>\n",
       "      <td>27.65</td>\n",
       "    </tr>\n",
       "    <tr>\n",
       "      <th>2</th>\n",
       "      <td>0</td>\n",
       "      <td>BSh</td>\n",
       "      <td>2015</td>\n",
       "      <td>1</td>\n",
       "      <td>23.47</td>\n",
       "    </tr>\n",
       "  </tbody>\n",
       "</table>\n",
       "</div>"
      ],
      "text/plain": [
       "   loc_group climate_type  year  season  max_sst_5\n",
       "0          0          BSh  2014       3      24.50\n",
       "1          0          BSh  2014       4      27.65\n",
       "2          0          BSh  2015       1      23.47"
      ]
     },
     "execution_count": 36,
     "metadata": {},
     "output_type": "execute_result"
    }
   ],
   "source": [
    "max_sst_5_df = create_df_by_group_and_agg(df, season_group_cols, \"max\", sst_col_5, \"max_sst_5\")\n",
    "max_sst_5_df.head(3)"
   ]
  },
  {
   "cell_type": "code",
   "execution_count": 37,
   "id": "4b1453cc",
   "metadata": {},
   "outputs": [
    {
     "name": "stdout",
     "output_type": "stream",
     "text": [
      "Nan\n"
     ]
    },
    {
     "data": {
      "text/html": [
       "<div>\n",
       "<style scoped>\n",
       "    .dataframe tbody tr th:only-of-type {\n",
       "        vertical-align: middle;\n",
       "    }\n",
       "\n",
       "    .dataframe tbody tr th {\n",
       "        vertical-align: top;\n",
       "    }\n",
       "\n",
       "    .dataframe thead th {\n",
       "        text-align: right;\n",
       "    }\n",
       "</style>\n",
       "<table border=\"1\" class=\"dataframe\">\n",
       "  <thead>\n",
       "    <tr style=\"text-align: right;\">\n",
       "      <th></th>\n",
       "      <th>loc_group</th>\n",
       "      <th>climate_type</th>\n",
       "      <th>year</th>\n",
       "      <th>season</th>\n",
       "      <th>max_sst_3</th>\n",
       "    </tr>\n",
       "  </thead>\n",
       "  <tbody>\n",
       "    <tr>\n",
       "      <th>0</th>\n",
       "      <td>0</td>\n",
       "      <td>BSh</td>\n",
       "      <td>2014</td>\n",
       "      <td>3</td>\n",
       "      <td>-19.69</td>\n",
       "    </tr>\n",
       "    <tr>\n",
       "      <th>1</th>\n",
       "      <td>0</td>\n",
       "      <td>BSh</td>\n",
       "      <td>2014</td>\n",
       "      <td>4</td>\n",
       "      <td>-31.16</td>\n",
       "    </tr>\n",
       "    <tr>\n",
       "      <th>2</th>\n",
       "      <td>0</td>\n",
       "      <td>BSh</td>\n",
       "      <td>2015</td>\n",
       "      <td>1</td>\n",
       "      <td>-15.60</td>\n",
       "    </tr>\n",
       "  </tbody>\n",
       "</table>\n",
       "</div>"
      ],
      "text/plain": [
       "   loc_group climate_type  year  season  max_sst_3\n",
       "0          0          BSh  2014       3     -19.69\n",
       "1          0          BSh  2014       4     -31.16\n",
       "2          0          BSh  2015       1     -15.60"
      ]
     },
     "execution_count": 37,
     "metadata": {},
     "output_type": "execute_result"
    }
   ],
   "source": [
    "max_sst_3_df = create_df_by_group_and_agg(df, season_group_cols, \"max\", sst_col_3, \"max_sst_3\")\n",
    "max_sst_3_df.head(3)"
   ]
  },
  {
   "cell_type": "code",
   "execution_count": 38,
   "id": "82f437d2",
   "metadata": {
    "scrolled": true
   },
   "outputs": [
    {
     "name": "stdout",
     "output_type": "stream",
     "text": [
      "Nan\n"
     ]
    },
    {
     "data": {
      "text/html": [
       "<div>\n",
       "<style scoped>\n",
       "    .dataframe tbody tr th:only-of-type {\n",
       "        vertical-align: middle;\n",
       "    }\n",
       "\n",
       "    .dataframe tbody tr th {\n",
       "        vertical-align: top;\n",
       "    }\n",
       "\n",
       "    .dataframe thead th {\n",
       "        text-align: right;\n",
       "    }\n",
       "</style>\n",
       "<table border=\"1\" class=\"dataframe\">\n",
       "  <thead>\n",
       "    <tr style=\"text-align: right;\">\n",
       "      <th></th>\n",
       "      <th>loc_group</th>\n",
       "      <th>climate_type</th>\n",
       "      <th>year</th>\n",
       "      <th>season</th>\n",
       "      <th>month</th>\n",
       "      <th>first_slp_month</th>\n",
       "    </tr>\n",
       "  </thead>\n",
       "  <tbody>\n",
       "    <tr>\n",
       "      <th>0</th>\n",
       "      <td>0</td>\n",
       "      <td>BSh</td>\n",
       "      <td>2014</td>\n",
       "      <td>3</td>\n",
       "      <td>9</td>\n",
       "      <td>1352.08</td>\n",
       "    </tr>\n",
       "    <tr>\n",
       "      <th>1</th>\n",
       "      <td>0</td>\n",
       "      <td>BSh</td>\n",
       "      <td>2014</td>\n",
       "      <td>3</td>\n",
       "      <td>10</td>\n",
       "      <td>1254.96</td>\n",
       "    </tr>\n",
       "    <tr>\n",
       "      <th>2</th>\n",
       "      <td>0</td>\n",
       "      <td>BSh</td>\n",
       "      <td>2014</td>\n",
       "      <td>3</td>\n",
       "      <td>11</td>\n",
       "      <td>1952.19</td>\n",
       "    </tr>\n",
       "  </tbody>\n",
       "</table>\n",
       "</div>"
      ],
      "text/plain": [
       "   loc_group climate_type  year  season  month  first_slp_month\n",
       "0          0          BSh  2014       3      9          1352.08\n",
       "1          0          BSh  2014       3     10          1254.96\n",
       "2          0          BSh  2014       3     11          1952.19"
      ]
     },
     "execution_count": 38,
     "metadata": {},
     "output_type": "execute_result"
    }
   ],
   "source": [
    "first_slp_df_month = create_df_by_group_and_agg(df, group_cols, \"first\", slp_col, \"first_slp_month\")\n",
    "first_slp_df_month.head(3)"
   ]
  },
  {
   "cell_type": "code",
   "execution_count": 39,
   "id": "12de230a",
   "metadata": {},
   "outputs": [],
   "source": [
    "df = df.merge(first_slp_df, how='left', on=season_group_cols)\n",
    "df['diff_slp_first'] = df[slp_col] - df['first_slp']\n",
    "assign_train_test_df('diff_slp_first')"
   ]
  },
  {
   "cell_type": "code",
   "execution_count": 40,
   "id": "7c589eec",
   "metadata": {},
   "outputs": [],
   "source": [
    "df = df.merge(first_precip_df, how='left', on=season_group_cols)\n",
    "df['diff_precip_first'] = df[precip_col] - df['first_precip']\n",
    "assign_train_test_df('diff_precip_first')"
   ]
  },
  {
   "cell_type": "code",
   "execution_count": 41,
   "id": "61fcf9a5",
   "metadata": {},
   "outputs": [],
   "source": [
    "df = df.merge(first_sst_df, how='left', on=season_group_cols)\n",
    "df['diff_sst_first'] = df[stt_col] - df['first_sst']\n",
    "assign_train_test_df('diff_sst_first')"
   ]
  },
  {
   "cell_type": "code",
   "execution_count": 42,
   "id": "686fd1f7",
   "metadata": {},
   "outputs": [],
   "source": [
    "df = df.merge(first_sst_5_df, how='left', on=season_group_cols)\n",
    "df['diff_sst_5_first'] = df[sst_col_5] - df['first_sst_5']\n",
    "assign_train_test_df('diff_sst_5_first')"
   ]
  },
  {
   "cell_type": "code",
   "execution_count": 43,
   "id": "0f27dae7",
   "metadata": {},
   "outputs": [],
   "source": [
    "df = df.merge(first_sst_3_df, how='left', on=season_group_cols)\n",
    "df['diff_sst_3_first'] = df[sst_col_3] - df['first_sst_3']\n",
    "assign_train_test_df('diff_sst_3_first')"
   ]
  },
  {
   "cell_type": "code",
   "execution_count": 44,
   "id": "6c0d0889",
   "metadata": {},
   "outputs": [],
   "source": [
    "df = df.merge(min_sst_df, how='left', on=season_group_cols)\n",
    "df['diff_sst_min'] = df[stt_col] - df['min_sst']\n",
    "assign_train_test_df('diff_sst_min')"
   ]
  },
  {
   "cell_type": "code",
   "execution_count": 45,
   "id": "8f2b200a",
   "metadata": {},
   "outputs": [],
   "source": [
    "df = df.merge(max_sst_df, how='left', on=season_group_cols)\n",
    "df['diff_sst_max'] = df['max_sst'] - df[stt_col]\n",
    "assign_train_test_df('diff_sst_max')"
   ]
  },
  {
   "cell_type": "code",
   "execution_count": 46,
   "id": "45a87000",
   "metadata": {},
   "outputs": [],
   "source": [
    "df = df.merge(max_sst_5_df, how='left', on=season_group_cols)\n",
    "df['diff_sst_5_max'] = df[sst_col_5] - df['max_sst_5']\n",
    "assign_train_test_df('diff_sst_5_max')"
   ]
  },
  {
   "cell_type": "code",
   "execution_count": 47,
   "id": "e1d444d3",
   "metadata": {},
   "outputs": [],
   "source": [
    "df = df.merge(max_sst_3_df, how='left', on=season_group_cols)\n",
    "df['diff_sst_3_max'] = df[sst_col_3] - df['max_sst_3']\n",
    "assign_train_test_df('diff_sst_3_max')"
   ]
  },
  {
   "cell_type": "code",
   "execution_count": 48,
   "id": "21937156",
   "metadata": {},
   "outputs": [],
   "source": [
    "df = df.merge(min_sst_5_df, how='left', on=season_group_cols)\n",
    "df['diff_sst_5_min'] = df[sst_col_5] - df['min_sst_5']\n",
    "assign_train_test_df('diff_sst_5_min')"
   ]
  },
  {
   "cell_type": "code",
   "execution_count": 49,
   "id": "57e35be4",
   "metadata": {},
   "outputs": [],
   "source": [
    "df = df.merge(min_sst_3_df, how='left', on=season_group_cols)\n",
    "df['diff_sst_3_min'] = df[sst_col_3] - df['min_sst_3']\n",
    "assign_train_test_df('diff_sst_3_min')"
   ]
  },
  {
   "cell_type": "code",
   "execution_count": 50,
   "id": "0df28569",
   "metadata": {},
   "outputs": [],
   "source": [
    "df = df.merge(first_pres_df, how='left', on=season_group_cols)\n",
    "df['diff_pres_first'] = df[pres_col] - df['first_pres']\n",
    "assign_train_test_df('diff_pres_first')"
   ]
  },
  {
   "cell_type": "code",
   "execution_count": 51,
   "id": "5f0c2fd8",
   "metadata": {},
   "outputs": [],
   "source": [
    "df = df.merge(first_wind_df, how='left', on=season_group_cols)\n",
    "df['diff_wind_first'] = df[wind_col] - df['first_wind']\n",
    "assign_train_test_df('diff_wind_first')"
   ]
  },
  {
   "cell_type": "code",
   "execution_count": 52,
   "id": "fbd4808f",
   "metadata": {},
   "outputs": [],
   "source": [
    "df = df.merge(first_ccsm3_df, how='left', on=season_group_cols)\n",
    "df['diff_ccsm3_first'] = df[ccsm3_col] - df['first_ccsm3']\n",
    "assign_train_test_df('diff_ccsm3_first')"
   ]
  },
  {
   "cell_type": "code",
   "execution_count": 53,
   "id": "f3fab9ab",
   "metadata": {},
   "outputs": [],
   "source": [
    "# df[f'{precip_col}_bins'] = pd.qcut(df[precip_col], q=5, labels=[f'{precip_col}_{i}' for i in range(5)])\n",
    "# le = LabelEncoder().fit(np.unique(df[f'{precip_col}_bins'].unique().tolist()))\n",
    "# df[f'{precip_col}_bins'] = le.transform(df[f'{precip_col}_bins']) + 1\n",
    "# df[f'{precip_col}_bins'] = df[f'{precip_col}_bins'].replace(np.nan, 0).astype('int').astype('category')\n",
    "# assign_train_test_df(f'{precip_col}_bins')"
   ]
  },
  {
   "cell_type": "code",
   "execution_count": 54,
   "id": "c30565f9",
   "metadata": {},
   "outputs": [],
   "source": [
    "df['range_sst'] = df['max_sst'] - df['min_sst']\n",
    "assign_train_test_df('range_sst')"
   ]
  },
  {
   "cell_type": "code",
   "execution_count": 55,
   "id": "de107ae0",
   "metadata": {},
   "outputs": [],
   "source": [
    "df['range_sst_5'] = df['max_sst_5'] - df['min_sst_5']\n",
    "assign_train_test_df('range_sst_5')"
   ]
  },
  {
   "cell_type": "code",
   "execution_count": 56,
   "id": "4782c3a1",
   "metadata": {},
   "outputs": [],
   "source": [
    "df['range_sst_3'] = df['max_sst_3'] - df['min_sst_3']\n",
    "assign_train_test_df('range_sst_3')"
   ]
  },
  {
   "cell_type": "code",
   "execution_count": 57,
   "id": "a5ec3a09",
   "metadata": {},
   "outputs": [],
   "source": [
    "features = best_cols + [\n",
    "    'diff_slp_first',\n",
    "    'diff_wind_first',\n",
    "    'diff_sst_first',\n",
    "    'diff_precip_first',\n",
    "    'diff_sst_min',\n",
    "    'diff_sst_max',\n",
    "    'range_sst',\n",
    "    'diff_sst_5_first',\n",
    "    'diff_sst_5_min',\n",
    "    'diff_sst_5_max',\n",
    "    'range_sst_5',\n",
    "    'diff_sst_3_first',\n",
    "    'diff_sst_3_min',\n",
    "    'diff_sst_3_max',\n",
    "    'range_sst_3'\n",
    "]"
   ]
  },
  {
   "cell_type": "code",
   "execution_count": 58,
   "id": "67bd89c6",
   "metadata": {},
   "outputs": [
    {
     "name": "stderr",
     "output_type": "stream",
     "text": [
      "5it [00:04,  1.06it/s]\n"
     ]
    },
    {
     "name": "stdout",
     "output_type": "stream",
     "text": [
      "(375734, 78) (375734,)\n"
     ]
    },
    {
     "name": "stderr",
     "output_type": "stream",
     "text": [
      "\r",
      "  0%|                                                                                                | 0/5 [00:00<?, ?it/s]"
     ]
    },
    {
     "name": "stdout",
     "output_type": "stream",
     "text": [
      "Learning rate set to 0.072699\n",
      "0:\tlearn: 9.2611105\ttest: 9.2407165\tbest: 9.2407165 (0)\ttotal: 6.07ms\tremaining: 30.3s\n",
      "200:\tlearn: 1.1821373\ttest: 1.1875026\tbest: 1.1875026 (200)\ttotal: 1.09s\tremaining: 26.1s\n",
      "400:\tlearn: 0.9183588\ttest: 0.9259505\tbest: 0.9259505 (400)\ttotal: 2.14s\tremaining: 24.6s\n",
      "600:\tlearn: 0.7919272\ttest: 0.8020935\tbest: 0.8020935 (600)\ttotal: 3.1s\tremaining: 22.7s\n",
      "800:\tlearn: 0.7075547\ttest: 0.7192735\tbest: 0.7192735 (800)\ttotal: 4.08s\tremaining: 21.4s\n",
      "1000:\tlearn: 0.6491738\ttest: 0.6625967\tbest: 0.6625967 (1000)\ttotal: 5.03s\tremaining: 20.1s\n",
      "1200:\tlearn: 0.6034376\ttest: 0.6182350\tbest: 0.6182350 (1200)\ttotal: 6.06s\tremaining: 19.2s\n",
      "1400:\tlearn: 0.5672383\ttest: 0.5836156\tbest: 0.5836156 (1400)\ttotal: 7.07s\tremaining: 18.2s\n",
      "1600:\tlearn: 0.5372627\ttest: 0.5548642\tbest: 0.5548642 (1600)\ttotal: 8.12s\tremaining: 17.2s\n",
      "1800:\tlearn: 0.5117500\ttest: 0.5303159\tbest: 0.5303159 (1800)\ttotal: 9.11s\tremaining: 16.2s\n",
      "2000:\tlearn: 0.4893700\ttest: 0.5090594\tbest: 0.5090594 (2000)\ttotal: 10.3s\tremaining: 15.4s\n",
      "2200:\tlearn: 0.4694985\ttest: 0.4902033\tbest: 0.4902033 (2200)\ttotal: 11.5s\tremaining: 14.6s\n",
      "2400:\tlearn: 0.4531500\ttest: 0.4746849\tbest: 0.4746849 (2400)\ttotal: 12.7s\tremaining: 13.8s\n",
      "2600:\tlearn: 0.4376519\ttest: 0.4599460\tbest: 0.4599460 (2600)\ttotal: 14s\tremaining: 12.9s\n",
      "2800:\tlearn: 0.4238979\ttest: 0.4470675\tbest: 0.4470675 (2800)\ttotal: 15.4s\tremaining: 12.1s\n",
      "3000:\tlearn: 0.4109363\ttest: 0.4349487\tbest: 0.4349487 (3000)\ttotal: 16.7s\tremaining: 11.2s\n",
      "3200:\tlearn: 0.3998454\ttest: 0.4245706\tbest: 0.4245706 (3200)\ttotal: 18s\tremaining: 10.1s\n",
      "3400:\tlearn: 0.3889993\ttest: 0.4144593\tbest: 0.4144593 (3400)\ttotal: 19.3s\tremaining: 9.08s\n",
      "3600:\tlearn: 0.3789417\ttest: 0.4050240\tbest: 0.4050240 (3600)\ttotal: 20.3s\tremaining: 7.9s\n",
      "3800:\tlearn: 0.3697920\ttest: 0.3966038\tbest: 0.3966038 (3800)\ttotal: 21.3s\tremaining: 6.71s\n",
      "4000:\tlearn: 0.3612298\ttest: 0.3886674\tbest: 0.3886674 (4000)\ttotal: 22.3s\tremaining: 5.56s\n",
      "4200:\tlearn: 0.3536087\ttest: 0.3816280\tbest: 0.3816280 (4200)\ttotal: 23.3s\tremaining: 4.43s\n",
      "4400:\tlearn: 0.3463108\ttest: 0.3749511\tbest: 0.3749511 (4400)\ttotal: 24.3s\tremaining: 3.31s\n",
      "4600:\tlearn: 0.3392241\ttest: 0.3684078\tbest: 0.3684078 (4600)\ttotal: 25.3s\tremaining: 2.19s\n",
      "4800:\tlearn: 0.3326786\ttest: 0.3624368\tbest: 0.3624368 (4800)\ttotal: 26.3s\tremaining: 1.09s\n",
      "4999:\tlearn: 0.3267074\ttest: 0.3570134\tbest: 0.3570134 (4999)\ttotal: 27.2s\tremaining: 0us\n",
      "bestTest = 0.3570133802\n",
      "bestIteration = 4999\n"
     ]
    },
    {
     "name": "stderr",
     "output_type": "stream",
     "text": [
      "\r",
      " 20%|█████████████████▌                                                                      | 1/5 [00:36<02:27, 36.89s/it]"
     ]
    },
    {
     "name": "stdout",
     "output_type": "stream",
     "text": [
      "Learning rate set to 0.072699\n",
      "0:\tlearn: 9.2537635\ttest: 9.2717026\tbest: 9.2717026 (0)\ttotal: 6.18ms\tremaining: 30.9s\n",
      "200:\tlearn: 1.1732187\ttest: 1.1731469\tbest: 1.1731469 (200)\ttotal: 1s\tremaining: 24s\n",
      "400:\tlearn: 0.9147446\ttest: 0.9186745\tbest: 0.9186745 (400)\ttotal: 1.95s\tremaining: 22.4s\n",
      "600:\tlearn: 0.7820526\ttest: 0.7889963\tbest: 0.7889963 (600)\ttotal: 3.08s\tremaining: 22.5s\n",
      "800:\tlearn: 0.7005292\ttest: 0.7098332\tbest: 0.7098332 (800)\ttotal: 3.98s\tremaining: 20.8s\n",
      "1000:\tlearn: 0.6384243\ttest: 0.6496263\tbest: 0.6496263 (1000)\ttotal: 4.86s\tremaining: 19.4s\n",
      "1200:\tlearn: 0.5954965\ttest: 0.6081160\tbest: 0.6081160 (1200)\ttotal: 5.81s\tremaining: 18.4s\n",
      "1400:\tlearn: 0.5605605\ttest: 0.5744645\tbest: 0.5744645 (1400)\ttotal: 6.8s\tremaining: 17.5s\n",
      "1600:\tlearn: 0.5328433\ttest: 0.5480348\tbest: 0.5480348 (1600)\ttotal: 7.78s\tremaining: 16.5s\n",
      "1800:\tlearn: 0.5081303\ttest: 0.5244657\tbest: 0.5244657 (1800)\ttotal: 8.69s\tremaining: 15.4s\n",
      "2000:\tlearn: 0.4875451\ttest: 0.5049386\tbest: 0.5049386 (2000)\ttotal: 9.74s\tremaining: 14.6s\n",
      "2200:\tlearn: 0.4679661\ttest: 0.4865253\tbest: 0.4865253 (2200)\ttotal: 11s\tremaining: 14s\n",
      "2400:\tlearn: 0.4503699\ttest: 0.4697867\tbest: 0.4697867 (2400)\ttotal: 12.1s\tremaining: 13.1s\n",
      "2600:\tlearn: 0.4348866\ttest: 0.4553531\tbest: 0.4553531 (2600)\ttotal: 13.4s\tremaining: 12.3s\n",
      "2800:\tlearn: 0.4208057\ttest: 0.4420025\tbest: 0.4420025 (2800)\ttotal: 14.6s\tremaining: 11.5s\n",
      "3000:\tlearn: 0.4083266\ttest: 0.4302253\tbest: 0.4302253 (3000)\ttotal: 15.9s\tremaining: 10.6s\n",
      "3200:\tlearn: 0.3977042\ttest: 0.4203726\tbest: 0.4203726 (3200)\ttotal: 17.2s\tremaining: 9.66s\n",
      "3400:\tlearn: 0.3876970\ttest: 0.4109951\tbest: 0.4109951 (3400)\ttotal: 18.3s\tremaining: 8.59s\n",
      "3600:\tlearn: 0.3781147\ttest: 0.4019580\tbest: 0.4019580 (3600)\ttotal: 19.3s\tremaining: 7.49s\n",
      "3800:\tlearn: 0.3692062\ttest: 0.3935518\tbest: 0.3935518 (3800)\ttotal: 20.3s\tremaining: 6.4s\n",
      "4000:\tlearn: 0.3610307\ttest: 0.3859246\tbest: 0.3859246 (4000)\ttotal: 21.2s\tremaining: 5.3s\n",
      "4200:\tlearn: 0.3526717\ttest: 0.3780725\tbest: 0.3780725 (4200)\ttotal: 22.1s\tremaining: 4.2s\n",
      "4400:\tlearn: 0.3453995\ttest: 0.3713439\tbest: 0.3713439 (4400)\ttotal: 23s\tremaining: 3.13s\n",
      "4600:\tlearn: 0.3382926\ttest: 0.3646951\tbest: 0.3646951 (4600)\ttotal: 24s\tremaining: 2.08s\n",
      "4800:\tlearn: 0.3319079\ttest: 0.3588315\tbest: 0.3588315 (4800)\ttotal: 24.9s\tremaining: 1.03s\n",
      "4999:\tlearn: 0.3256939\ttest: 0.3530777\tbest: 0.3530777 (4999)\ttotal: 26s\tremaining: 0us\n",
      "bestTest = 0.3530776812\n",
      "bestIteration = 4999\n"
     ]
    },
    {
     "name": "stderr",
     "output_type": "stream",
     "text": [
      "\r",
      " 40%|███████████████████████████████████▏                                                    | 2/5 [01:11<01:47, 35.82s/it]"
     ]
    },
    {
     "name": "stdout",
     "output_type": "stream",
     "text": [
      "Learning rate set to 0.072699\n",
      "0:\tlearn: 9.2531718\ttest: 9.2855747\tbest: 9.2855747 (0)\ttotal: 5.94ms\tremaining: 29.7s\n",
      "200:\tlearn: 1.1821959\ttest: 1.1828412\tbest: 1.1828412 (200)\ttotal: 998ms\tremaining: 23.8s\n",
      "400:\tlearn: 0.9192884\ttest: 0.9252744\tbest: 0.9252744 (400)\ttotal: 1.92s\tremaining: 22.1s\n",
      "600:\tlearn: 0.7831895\ttest: 0.7934983\tbest: 0.7934983 (600)\ttotal: 3.05s\tremaining: 22.3s\n",
      "800:\tlearn: 0.7028380\ttest: 0.7153482\tbest: 0.7153482 (800)\ttotal: 4.05s\tremaining: 21.2s\n",
      "1000:\tlearn: 0.6418853\ttest: 0.6559548\tbest: 0.6559548 (1000)\ttotal: 4.99s\tremaining: 19.9s\n",
      "1200:\tlearn: 0.5979887\ttest: 0.6133103\tbest: 0.6133103 (1200)\ttotal: 5.89s\tremaining: 18.6s\n",
      "1400:\tlearn: 0.5625812\ttest: 0.5788878\tbest: 0.5788878 (1400)\ttotal: 6.85s\tremaining: 17.6s\n",
      "1600:\tlearn: 0.5332348\ttest: 0.5505031\tbest: 0.5505031 (1600)\ttotal: 7.72s\tremaining: 16.4s\n",
      "1800:\tlearn: 0.5080999\ttest: 0.5260020\tbest: 0.5260020 (1800)\ttotal: 8.84s\tremaining: 15.7s\n",
      "2000:\tlearn: 0.4864064\ttest: 0.5053271\tbest: 0.5053271 (2000)\ttotal: 9.96s\tremaining: 14.9s\n",
      "2200:\tlearn: 0.4680084\ttest: 0.4878489\tbest: 0.4878489 (2200)\ttotal: 11.2s\tremaining: 14.3s\n",
      "2400:\tlearn: 0.4503560\ttest: 0.4708467\tbest: 0.4708467 (2400)\ttotal: 12.3s\tremaining: 13.3s\n",
      "2600:\tlearn: 0.4351613\ttest: 0.4562528\tbest: 0.4562528 (2600)\ttotal: 13.6s\tremaining: 12.5s\n",
      "2800:\tlearn: 0.4209244\ttest: 0.4427353\tbest: 0.4427353 (2800)\ttotal: 14.7s\tremaining: 11.5s\n",
      "3000:\tlearn: 0.4089910\ttest: 0.4313034\tbest: 0.4313034 (3000)\ttotal: 15.8s\tremaining: 10.6s\n",
      "3200:\tlearn: 0.3977856\ttest: 0.4206514\tbest: 0.4206514 (3200)\ttotal: 17s\tremaining: 9.58s\n",
      "3400:\tlearn: 0.3871202\ttest: 0.4106221\tbest: 0.4106221 (3400)\ttotal: 18s\tremaining: 8.45s\n",
      "3600:\tlearn: 0.3774887\ttest: 0.4015172\tbest: 0.4015172 (3600)\ttotal: 18.9s\tremaining: 7.36s\n",
      "3800:\tlearn: 0.3681517\ttest: 0.3926090\tbest: 0.3926090 (3800)\ttotal: 20s\tremaining: 6.31s\n",
      "4000:\tlearn: 0.3600358\ttest: 0.3850779\tbest: 0.3850779 (4000)\ttotal: 21s\tremaining: 5.24s\n",
      "4200:\tlearn: 0.3522969\ttest: 0.3778179\tbest: 0.3778179 (4200)\ttotal: 21.9s\tremaining: 4.17s\n",
      "4400:\tlearn: 0.3449855\ttest: 0.3709993\tbest: 0.3709993 (4400)\ttotal: 22.8s\tremaining: 3.1s\n",
      "4600:\tlearn: 0.3379470\ttest: 0.3643971\tbest: 0.3643971 (4600)\ttotal: 23.7s\tremaining: 2.06s\n",
      "4800:\tlearn: 0.3310431\ttest: 0.3579374\tbest: 0.3579374 (4800)\ttotal: 24.7s\tremaining: 1.02s\n",
      "4999:\tlearn: 0.3248935\ttest: 0.3522334\tbest: 0.3522334 (4999)\ttotal: 25.7s\tremaining: 0us\n",
      "bestTest = 0.3522334289\n",
      "bestIteration = 4999\n"
     ]
    },
    {
     "name": "stderr",
     "output_type": "stream",
     "text": [
      "\r",
      " 60%|████████████████████████████████████████████████████▊                                   | 3/5 [01:46<01:10, 35.44s/it]"
     ]
    },
    {
     "name": "stdout",
     "output_type": "stream",
     "text": [
      "Learning rate set to 0.072699\n",
      "0:\tlearn: 9.2604847\ttest: 9.2566518\tbest: 9.2566518 (0)\ttotal: 6.75ms\tremaining: 33.7s\n",
      "200:\tlearn: 1.1723886\ttest: 1.1873714\tbest: 1.1873714 (200)\ttotal: 914ms\tremaining: 21.8s\n",
      "400:\tlearn: 0.9139956\ttest: 0.9277570\tbest: 0.9277570 (400)\ttotal: 1.86s\tremaining: 21.3s\n",
      "600:\tlearn: 0.7865061\ttest: 0.8002421\tbest: 0.8002421 (600)\ttotal: 2.76s\tremaining: 20.2s\n",
      "800:\tlearn: 0.7009407\ttest: 0.7145692\tbest: 0.7145692 (800)\ttotal: 3.68s\tremaining: 19.3s\n",
      "1000:\tlearn: 0.6433385\ttest: 0.6582231\tbest: 0.6582231 (1000)\ttotal: 4.62s\tremaining: 18.5s\n",
      "1200:\tlearn: 0.5977018\ttest: 0.6134905\tbest: 0.6134905 (1200)\ttotal: 5.61s\tremaining: 17.7s\n",
      "1400:\tlearn: 0.5623695\ttest: 0.5790099\tbest: 0.5790099 (1400)\ttotal: 6.56s\tremaining: 16.8s\n",
      "1600:\tlearn: 0.5324388\ttest: 0.5499149\tbest: 0.5499149 (1600)\ttotal: 7.44s\tremaining: 15.8s\n",
      "1800:\tlearn: 0.5074598\ttest: 0.5256680\tbest: 0.5256680 (1800)\ttotal: 8.41s\tremaining: 14.9s\n",
      "2000:\tlearn: 0.4864087\ttest: 0.5056668\tbest: 0.5056668 (2000)\ttotal: 9.39s\tremaining: 14.1s\n",
      "2200:\tlearn: 0.4673012\ttest: 0.4873748\tbest: 0.4873748 (2200)\ttotal: 10.7s\tremaining: 13.6s\n",
      "2400:\tlearn: 0.4504792\ttest: 0.4713989\tbest: 0.4713989 (2400)\ttotal: 11.9s\tremaining: 12.9s\n",
      "2600:\tlearn: 0.4352994\ttest: 0.4570386\tbest: 0.4570386 (2600)\ttotal: 12.9s\tremaining: 11.9s\n",
      "2800:\tlearn: 0.4215274\ttest: 0.4440530\tbest: 0.4440530 (2800)\ttotal: 14.2s\tremaining: 11.1s\n",
      "3000:\tlearn: 0.4089467\ttest: 0.4322604\tbest: 0.4322604 (3000)\ttotal: 15.4s\tremaining: 10.2s\n",
      "3200:\tlearn: 0.3981521\ttest: 0.4220295\tbest: 0.4220295 (3200)\ttotal: 16.6s\tremaining: 9.34s\n",
      "3400:\tlearn: 0.3879025\ttest: 0.4124185\tbest: 0.4124185 (3400)\ttotal: 17.9s\tremaining: 8.42s\n",
      "3600:\tlearn: 0.3777247\ttest: 0.4028265\tbest: 0.4028265 (3600)\ttotal: 19s\tremaining: 7.36s\n",
      "3800:\tlearn: 0.3683031\ttest: 0.3940112\tbest: 0.3940112 (3800)\ttotal: 19.9s\tremaining: 6.28s\n",
      "4000:\tlearn: 0.3598411\ttest: 0.3861068\tbest: 0.3861068 (4000)\ttotal: 20.9s\tremaining: 5.21s\n",
      "4200:\tlearn: 0.3520224\ttest: 0.3787647\tbest: 0.3787647 (4200)\ttotal: 21.8s\tremaining: 4.15s\n",
      "4400:\tlearn: 0.3446022\ttest: 0.3719823\tbest: 0.3719823 (4400)\ttotal: 22.8s\tremaining: 3.11s\n",
      "4600:\tlearn: 0.3375071\ttest: 0.3655041\tbest: 0.3655041 (4600)\ttotal: 23.8s\tremaining: 2.06s\n",
      "4800:\tlearn: 0.3308042\ttest: 0.3593187\tbest: 0.3593187 (4800)\ttotal: 24.9s\tremaining: 1.03s\n",
      "4999:\tlearn: 0.3246308\ttest: 0.3535930\tbest: 0.3535930 (4999)\ttotal: 25.8s\tremaining: 0us\n",
      "bestTest = 0.3535929751\n",
      "bestIteration = 4999\n"
     ]
    },
    {
     "name": "stderr",
     "output_type": "stream",
     "text": [
      "\r",
      " 80%|██████████████████████████████████████████████████████████████████████▍                 | 4/5 [02:21<00:35, 35.14s/it]"
     ]
    },
    {
     "name": "stdout",
     "output_type": "stream",
     "text": [
      "Learning rate set to 0.072699\n",
      "0:\tlearn: 9.2625918\ttest: 9.2370575\tbest: 9.2370575 (0)\ttotal: 6.56ms\tremaining: 32.8s\n",
      "200:\tlearn: 1.1735731\ttest: 1.1787869\tbest: 1.1787869 (200)\ttotal: 1.03s\tremaining: 24.6s\n",
      "400:\tlearn: 0.9144807\ttest: 0.9225820\tbest: 0.9225820 (400)\ttotal: 1.97s\tremaining: 22.6s\n",
      "600:\tlearn: 0.7829890\ttest: 0.7924937\tbest: 0.7924937 (600)\ttotal: 3.03s\tremaining: 22.2s\n",
      "800:\tlearn: 0.7025451\ttest: 0.7140124\tbest: 0.7140124 (800)\ttotal: 3.92s\tremaining: 20.5s\n",
      "1000:\tlearn: 0.6416625\ttest: 0.6544759\tbest: 0.6544759 (1000)\ttotal: 4.85s\tremaining: 19.4s\n",
      "1200:\tlearn: 0.5990840\ttest: 0.6135165\tbest: 0.6135165 (1200)\ttotal: 5.8s\tremaining: 18.3s\n",
      "1400:\tlearn: 0.5624976\ttest: 0.5780879\tbest: 0.5780879 (1400)\ttotal: 6.83s\tremaining: 17.5s\n",
      "1600:\tlearn: 0.5336735\ttest: 0.5503545\tbest: 0.5503545 (1600)\ttotal: 7.86s\tremaining: 16.7s\n",
      "1800:\tlearn: 0.5089837\ttest: 0.5266715\tbest: 0.5266715 (1800)\ttotal: 8.82s\tremaining: 15.7s\n",
      "2000:\tlearn: 0.4871649\ttest: 0.5057357\tbest: 0.5057357 (2000)\ttotal: 9.93s\tremaining: 14.9s\n",
      "2200:\tlearn: 0.4684281\ttest: 0.4879879\tbest: 0.4879879 (2200)\ttotal: 11s\tremaining: 14s\n",
      "2400:\tlearn: 0.4514242\ttest: 0.4717523\tbest: 0.4717523 (2400)\ttotal: 12.2s\tremaining: 13.2s\n",
      "2600:\tlearn: 0.4362202\ttest: 0.4572516\tbest: 0.4572516 (2600)\ttotal: 13.4s\tremaining: 12.4s\n",
      "2800:\tlearn: 0.4225555\ttest: 0.4442205\tbest: 0.4442205 (2800)\ttotal: 14.8s\tremaining: 11.6s\n",
      "3000:\tlearn: 0.4102770\ttest: 0.4324748\tbest: 0.4324748 (3000)\ttotal: 16s\tremaining: 10.7s\n",
      "3200:\tlearn: 0.3984074\ttest: 0.4212516\tbest: 0.4212516 (3200)\ttotal: 17.3s\tremaining: 9.7s\n",
      "3400:\tlearn: 0.3877338\ttest: 0.4110871\tbest: 0.4110871 (3400)\ttotal: 18.4s\tremaining: 8.66s\n",
      "3600:\tlearn: 0.3783707\ttest: 0.4024037\tbest: 0.4024037 (3600)\ttotal: 19.5s\tremaining: 7.57s\n",
      "3800:\tlearn: 0.3689105\ttest: 0.3935897\tbest: 0.3935897 (3800)\ttotal: 20.4s\tremaining: 6.43s\n",
      "4000:\tlearn: 0.3608327\ttest: 0.3860756\tbest: 0.3860756 (4000)\ttotal: 21.4s\tremaining: 5.33s\n",
      "4200:\tlearn: 0.3527718\ttest: 0.3785897\tbest: 0.3785897 (4200)\ttotal: 22.3s\tremaining: 4.24s\n",
      "4400:\tlearn: 0.3452331\ttest: 0.3716012\tbest: 0.3716012 (4400)\ttotal: 23.3s\tremaining: 3.18s\n",
      "4600:\tlearn: 0.3386403\ttest: 0.3654189\tbest: 0.3654189 (4600)\ttotal: 24.3s\tremaining: 2.11s\n",
      "4800:\tlearn: 0.3320956\ttest: 0.3594535\tbest: 0.3594535 (4800)\ttotal: 25.3s\tremaining: 1.05s\n",
      "4999:\tlearn: 0.3259706\ttest: 0.3537493\tbest: 0.3537493 (4999)\ttotal: 26.3s\tremaining: 0us\n",
      "bestTest = 0.3537493426\n",
      "bestIteration = 4999\n"
     ]
    },
    {
     "name": "stderr",
     "output_type": "stream",
     "text": [
      "100%|████████████████████████████████████████████████████████████████████████████████████████| 5/5 [02:57<00:00, 35.42s/it]\n",
      "100%|████████████████████████████████████████████████████████████████████████████████████████| 5/5 [00:00<00:00, 26.01it/s]\n"
     ]
    },
    {
     "name": "stdout",
     "output_type": "stream",
     "text": [
      "cos_sim with best submission: 0.999790474634046\n"
     ]
    }
   ],
   "source": [
    "X = train_df[features].values\n",
    "y = train_df[target[0]].values\n",
    "\n",
    "skf = KFold(n_splits=5, random_state=2048, shuffle=True)\n",
    "skf.get_n_splits(X, y)\n",
    "\n",
    "train_index_list = []\n",
    "test_index_list = []\n",
    "train_x_list = []\n",
    "val_x_list = []\n",
    "train_y_list = []\n",
    "val_y_list = []\n",
    "\n",
    "for i, (train_index, test_index) in tqdm(enumerate(skf.split(X, y))):\n",
    "    train_index_list.append(train_index)\n",
    "    test_index_list.append(test_index)\n",
    "\n",
    "    train_x_list.append(X[train_index, :])\n",
    "    val_x_list.append(X[test_index, :])\n",
    "    train_y_list.append(y[train_index])\n",
    "    val_y_list.append(y[test_index])    \n",
    "def train_catboost(x, y):\n",
    "    print(x.shape, y.shape)\n",
    "    \n",
    "    cat_models = []\n",
    "    for i in tqdm(range(5)):\n",
    "        train_x, val_x = train_x_list[i], val_x_list[i]\n",
    "        train_y, val_y = train_y_list[i], val_y_list[i]\n",
    "        clf = CatBoostRegressor(iterations=5000, verbose=200, task_type=\"GPU\",\n",
    "                           devices='0:1')\n",
    "        clf.fit(train_x, train_y, eval_set=[(val_x, val_y)], verbose=200, early_stopping_rounds=100)\n",
    "        cat_models.append(clf)\n",
    "    \n",
    "    return cat_models\n",
    "cat_models = train_catboost(X, y)\n",
    "\n",
    "preds = []\n",
    "for cat_model in tqdm(cat_models):\n",
    "    preds.append(cat_model.predict(test_df[features].values))\n",
    "s = 0\n",
    "for pred in preds:\n",
    "    s += pred\n",
    "s = s/5\n",
    "res_df = pd.read_csv('./sample_solution.csv')\n",
    "res_df['contest-tmp2m-14d__tmp2m'] = s\n",
    "res_df.to_csv('submission_fe_v2.csv', index=False)\n",
    "\n",
    "best_df = pd.read_csv('best_sub.csv')\n",
    "y_best = best_df[target[0]].values\n",
    "\n",
    "from numpy import dot\n",
    "from numpy.linalg import norm\n",
    "\n",
    "cos_sim = dot(y_best, s)/(norm(y_best)*norm(s))\n",
    "print(\"cos_sim with best submission:\", cos_sim)"
   ]
  }
 ],
 "metadata": {
  "kernelspec": {
   "display_name": "wids-env",
   "language": "python",
   "name": "wids-env"
  },
  "language_info": {
   "codemirror_mode": {
    "name": "ipython",
    "version": 3
   },
   "file_extension": ".py",
   "mimetype": "text/x-python",
   "name": "python",
   "nbconvert_exporter": "python",
   "pygments_lexer": "ipython3",
   "version": "3.7.15"
  }
 },
 "nbformat": 4,
 "nbformat_minor": 5
}
