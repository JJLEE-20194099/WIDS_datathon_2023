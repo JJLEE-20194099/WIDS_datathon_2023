{
 "cells": [
  {
   "cell_type": "code",
   "execution_count": 1,
   "id": "3048a728",
   "metadata": {},
   "outputs": [],
   "source": [
    "import numpy as np\n",
    "import pandas as pd\n",
    "import seaborn as sns\n",
    "import torch\n",
    "import torch.nn as nn\n",
    "import torch.nn.functional as f\n",
    "pd.set_option('display.max_columns', None)\n",
    "import matplotlib.pyplot as plt\n",
    "from sklearn.model_selection import train_test_split\n",
    "from torch.utils.data import DataLoader\n",
    "from sklearn import preprocessing\n",
    "from tqdm import tqdm\n",
    "from sklearn.preprocessing import FunctionTransformer\n",
    "import seaborn as sns \n",
    "from scipy import stats\n",
    "import statsmodels.api as sm\n",
    "\n",
    "from sklearn.ensemble import RandomForestRegressor, ExtraTreesRegressor, AdaBoostRegressor, BaggingRegressor, GradientBoostingRegressor\n",
    "from sklearn.tree import DecisionTreeRegressor\n",
    "from sklearn.linear_model import ElasticNet, Lasso\n",
    "from sklearn.feature_selection import SelectFromModel\n",
    "from sklearn.svm import SVR\n",
    "from sklearn.model_selection import KFold, cross_val_score\n",
    "from sklearn.pipeline import make_pipeline\n",
    "from sklearn.decomposition import PCA\n",
    "from sklearn.preprocessing import RobustScaler\n",
    "import h2o\n",
    "from h2o.automl import H2OAutoML\n",
    "from sklearn.base import BaseEstimator, TransformerMixin, RegressorMixin, clone\n",
    "from sklearn.neural_network import MLPRegressor\n",
    "from scipy.stats import norm\n",
    "import copy\n",
    "from sklearn.model_selection import KFold\n",
    "from catboost import CatBoostRegressor, Pool, metrics, cv\n",
    "import xgboost as xgb\n",
    "from scipy.stats import gmean\n",
    "from sklearn.impute import KNNImputer\n",
    "from sklearn.metrics import mean_squared_error\n",
    "from sklearn.preprocessing import LabelEncoder\n"
   ]
  },
  {
   "cell_type": "code",
   "execution_count": 2,
   "id": "3c1ff34d",
   "metadata": {},
   "outputs": [],
   "source": [
    "add_train = pd.read_csv('./n_train.csv')\n",
    "add_test = pd.read_csv('./n_test.csv')"
   ]
  },
  {
   "cell_type": "code",
   "execution_count": 3,
   "id": "ae108301",
   "metadata": {},
   "outputs": [
    {
     "data": {
      "text/plain": [
       "['sst-2010-1',\n",
       " 'sst-2010-2',\n",
       " 'sst-2010-3',\n",
       " 'sst-2010-4',\n",
       " 'sst-2010-5',\n",
       " 'sst-2010-6',\n",
       " 'sst-2010-7',\n",
       " 'sst-2010-8',\n",
       " 'sst-2010-9',\n",
       " 'sst-2010-10']"
      ]
     },
     "execution_count": 3,
     "metadata": {},
     "output_type": "execute_result"
    }
   ],
   "source": [
    "sst_col_list = [c for c in add_train.columns if 'sst' in c]\n",
    "sst_col_list"
   ]
  },
  {
   "cell_type": "code",
   "execution_count": 4,
   "id": "1f87d634",
   "metadata": {},
   "outputs": [],
   "source": [
    "train_df = pd.read_csv('./fe_v2_train_076.csv')\n",
    "test_df = pd.read_csv('./fe_v2_test_076.csv')"
   ]
  },
  {
   "cell_type": "code",
   "execution_count": 5,
   "id": "311af197",
   "metadata": {},
   "outputs": [],
   "source": [
    "exclude_cols = ['index', 'startdate']\n",
    "embedding_attrs = ['climateregions__climateregion']\n",
    "target=[\"contest-tmp2m-14d__tmp2m\"]"
   ]
  },
  {
   "cell_type": "code",
   "execution_count": 6,
   "id": "43f40a58",
   "metadata": {},
   "outputs": [
    {
     "name": "stdout",
     "output_type": "stream",
     "text": [
      "Main features: 129\n"
     ]
    }
   ],
   "source": [
    "main_attrs = [c for c in train_df.columns if c not in exclude_cols and c not in target]\n",
    "print(\"Main features:\", len(main_attrs))"
   ]
  },
  {
   "cell_type": "code",
   "execution_count": 7,
   "id": "f26e95f0",
   "metadata": {},
   "outputs": [],
   "source": [
    "group_cols = ['loc_group', 'climate_type', 'year', 'season', 'month']\n",
    "season_group_cols = ['loc_group', 'climate_type', 'year', 'season']"
   ]
  },
  {
   "cell_type": "code",
   "execution_count": 8,
   "id": "5af736a3",
   "metadata": {},
   "outputs": [],
   "source": [
    "best_cols = ['contest-wind-h500-14d__wind-hgt-500',\n",
    " 'contest-slp-14d__slp',\n",
    " 'nmme-tmp2m-34w__ccsm3',\n",
    " 'elevation__elevation',\n",
    " 'lon',\n",
    " 'contest-prwtr-eatm-14d__prwtr',\n",
    " 'lat',\n",
    " 'climateregions__climateregion',\n",
    " 'contest-pres-sfc-gauss-14d__pres',\n",
    " 'season_sin',\n",
    " 'day_of_year_sin',\n",
    " 'contest-precip-14d__precip',\n",
    " 'contest-wind-uwnd-250-14d__wind-uwnd-250',\n",
    " 'nmme-prate-34w__cfsv2',\n",
    " 'nmme-prate-34w__nasa',\n",
    " 'nmme-prate-56w__gfdlflora',\n",
    " 'wind-uwnd-250-2010-7',\n",
    " 'contest-wind-vwnd-925-14d__wind-vwnd-925',\n",
    " 'nmme-prate-34w__nmmemean',\n",
    " 'nmme0-prate-34w__ccsm30',\n",
    " 'contest-wind-h850-14d__wind-hgt-850',\n",
    " 'contest-wind-uwnd-925-14d__wind-uwnd-925',\n",
    " 'nmme0-prate-56w__cfsv20',\n",
    " 'nmme-prate-34w__cancm3',\n",
    " 'contest-rhum-sig995-14d__rhum',\n",
    " 'nmme-prate-34w__gfdlflorb',\n",
    " 'wind-hgt-850-2010-4',\n",
    " 'contest-wind-vwnd-250-14d__wind-vwnd-250',\n",
    " 'wind-hgt-100-2010-2',\n",
    " 'wind-uwnd-250-2010-18',\n",
    " 'wind-hgt-10-2010-5',\n",
    " 'wind-uwnd-250-2010-15',\n",
    " 'wind-uwnd-250-2010-4',\n",
    " 'nmme0-prate-56w__nasa0',\n",
    " 'nmme0-prate-34w__cfsv20',\n",
    " 'wind-vwnd-250-2010-10',\n",
    " 'contest-wind-h10-14d__wind-hgt-10',\n",
    " 'wind-uwnd-925-2010-15',\n",
    " 'wind-vwnd-250-2010-3',\n",
    " 'nmme-prate-34w__cancm4',\n",
    " 'sst-2010-4',\n",
    " 'nmme0-prate-56w__ccsm30',\n",
    " 'wind-uwnd-250-2010-16',\n",
    " 'nmme0-prate-34w__gfdl0',\n",
    " 'nmme0-prate-56w__cancm40',\n",
    " 'sst-2010-1',\n",
    " 'sst-2010-3',\n",
    " 'wind-uwnd-250-2010-14',\n",
    " 'nmme0-prate-34w__gfdlflora0',\n",
    " 'nmme-prate-34w__gfdl',\n",
    " 'wind-hgt-850-2010-9',\n",
    " 'wind-vwnd-250-2010-1',\n",
    " 'sst-2010-5',\n",
    " 'cancm30',\n",
    " 'nmme-prate-34w__ccsm4',\n",
    " 'nmme0-prate-34w__nasa0',\n",
    " 'wind-hgt-500-2010-9',\n",
    " 'nmme0-prate-34w__cancm30',\n",
    " 'wind-vwnd-250-2010-13',\n",
    " 'wind_diff',\n",
    " 'wind_diff_min',\n",
    " 'wind_diff_min_month',\n",
    " 'wind_diff_month',\n",
    " 'diff_slp_first',\n",
    " 'diff_wind_first',\n",
    " 'diff_precip_first',\n",
    " 'diff_sst_10_first',\n",
    " 'diff_sst_10_min',\n",
    " 'diff_sst_10_max',\n",
    " 'range_sst_10',\n",
    " 'scale_sst_10',\n",
    " 'diff_sst_9_first',\n",
    " 'diff_sst_9_min',\n",
    " 'diff_sst_9_max',\n",
    " 'range_sst_9',\n",
    " 'scale_sst_9',\n",
    " 'diff_sst_8_first',\n",
    " 'diff_sst_8_min',\n",
    " 'diff_sst_8_max',\n",
    " 'range_sst_8',\n",
    " 'scale_sst_8',\n",
    " 'diff_sst_7_first',\n",
    " 'diff_sst_7_min',\n",
    " 'diff_sst_7_max',\n",
    " 'range_sst_7',\n",
    " 'scale_sst_7',\n",
    " 'diff_sst_6_first',\n",
    " 'diff_sst_6_min',\n",
    " 'diff_sst_6_max',\n",
    " 'range_sst_6',\n",
    " 'scale_sst_6',\n",
    " 'diff_sst_1_first',\n",
    " 'diff_sst_1_min',\n",
    " 'diff_sst_1_max',\n",
    " 'range_sst_1',\n",
    " 'scale_sst_1',\n",
    " 'diff_sst_2_first',\n",
    " 'diff_sst_2_min',\n",
    " 'diff_sst_2_max',\n",
    " 'range_sst_2',\n",
    " 'scale_sst_2',\n",
    " 'diff_sst_3_first',\n",
    " 'diff_sst_3_min',\n",
    " 'diff_sst_3_max',\n",
    " 'range_sst_3',\n",
    " 'scale_sst_3',\n",
    " 'diff_sst_4_first',\n",
    " 'diff_sst_4_min',\n",
    " 'diff_sst_4_max',\n",
    " 'range_sst_4',\n",
    " 'scale_sst_4',\n",
    " 'diff_sst_5_first',\n",
    " 'diff_sst_5_min',\n",
    " 'diff_sst_5_max',\n",
    " 'range_sst_5',\n",
    " 'scale_sst_5']"
   ]
  },
  {
   "cell_type": "code",
   "execution_count": 9,
   "id": "53ec3e42",
   "metadata": {},
   "outputs": [
    {
     "name": "stdout",
     "output_type": "stream",
     "text": [
      "Len: 116\n"
     ]
    }
   ],
   "source": [
    "print(\"Len:\", len(best_cols))"
   ]
  },
  {
   "cell_type": "code",
   "execution_count": 10,
   "id": "5622c8be",
   "metadata": {},
   "outputs": [],
   "source": [
    "def assign_train_test_df(df, my_col):\n",
    "    train_df[my_col] = df[:len(train_df)][my_col].tolist()\n",
    "    test_df[my_col] = df[len(train_df):][my_col].tolist()\n",
    "    return df\n",
    "\n",
    "def create_df_by_group_and_agg(dataframe, grouped_cols, action, my_col, return_name):\n",
    "    if action == \"first\":\n",
    "        ans_df = dataframe.groupby(grouped_cols)[my_col].first().reset_index()\n",
    "    elif action == \"min\":\n",
    "        ans_df = dataframe.groupby(grouped_cols)[my_col].min().reset_index()\n",
    "    elif action == \"max\":\n",
    "        ans_df = dataframe.groupby(grouped_cols)[my_col].max().reset_index()\n",
    "    elif action == \"mean\":\n",
    "        ans_df = dataframe.groupby(grouped_cols)[my_col].mean().reset_index()\n",
    "    print(\"Nan\")\n",
    "    ans_df = ans_df.rename(columns={my_col: return_name})\n",
    "    for c in ans_df.columns:\n",
    "        if ans_df[c].isnull().sum() > 0:\n",
    "            print(c, ans_df[c].isnull().sum())\n",
    "    return ans_df\n",
    "\n",
    "def create_feature(df, alias_name, col_name, suffix_num, season_group_cols):\n",
    "    first_df = create_df_by_group_and_agg(df, season_group_cols, \"first\", col_name, f\"first_{alias_name}_{suffix_num}\")\n",
    "    min_df = create_df_by_group_and_agg(df, season_group_cols, \"min\", col_name, f\"min_{alias_name}_{suffix_num}\")\n",
    "    max_df = create_df_by_group_and_agg(df, season_group_cols, \"max\", col_name, f\"max_{alias_name}_{suffix_num}\")\n",
    "    \n",
    "    df = df.merge(first_df, how='left', on=season_group_cols)\n",
    "    df[f'diff_{alias_name}_{suffix_num}_first'] = df[col_name] - df[f\"first_{alias_name}_{suffix_num}\"]\n",
    "    df = assign_train_test_df(df, f'diff_{alias_name}_{suffix_num}_first')\n",
    "    \n",
    "    df = df.merge(min_df, how='left', on=season_group_cols)\n",
    "    df[f'diff_{alias_name}_{suffix_num}_min'] = df[col_name] - df[f\"min_{alias_name}_{suffix_num}\"]\n",
    "    df = assign_train_test_df(df, f'diff_{alias_name}_{suffix_num}_min')\n",
    "    \n",
    "    df = df.merge(max_df, how='left', on=season_group_cols)\n",
    "    df[f'diff_{alias_name}_{suffix_num}_max'] = df[col_name] - df[f\"max_{alias_name}_{suffix_num}\"]\n",
    "    df = assign_train_test_df(df, f'diff_{alias_name}_{suffix_num}_max')\n",
    "    \n",
    "    df[f'range_{alias_name}_{suffix_num}'] = df[f\"max_{alias_name}_{suffix_num}\"] - df[f\"min_{alias_name}_{suffix_num}\"]\n",
    "    df = assign_train_test_df(df, f'range_{alias_name}_{suffix_num}')\n",
    "    \n",
    "    df[f'scale_{alias_name}_{suffix_num}'] = (df[col_name] - df[f\"min_{alias_name}_{suffix_num}\"]) / df[f'range_{alias_name}_{suffix_num}']\n",
    "    df = assign_train_test_df(df, f'scale_{alias_name}_{suffix_num}')\n",
    "    \n",
    "    return [df, f'diff_{alias_name}_{suffix_num}_first',\n",
    "   f'diff_{alias_name}_{suffix_num}_min',\n",
    "    f'diff_{alias_name}_{suffix_num}_max',\n",
    "    f'range_{alias_name}_{suffix_num}', f'scale_{alias_name}_{suffix_num}']"
   ]
  },
  {
   "cell_type": "code",
   "execution_count": 11,
   "id": "c28e108e",
   "metadata": {},
   "outputs": [],
   "source": [
    "slp_col = 'contest-slp-14d__slp'\n",
    "ccsm3_col = 'nmme-tmp2m-34w__ccsm3'\n",
    "pres_col = 'contest-pres-sfc-gauss-14d__pres'\n",
    "precip_col = 'contest-precip-14d__precip'\n",
    "poten_col = 'contest-pevpr-sfc-gauss-14d__pevpr'\n",
    "rhum_col = 'contest-rhum-sig995-14d__rhum'\n",
    "elevation_col = 'elevation__elevation'\n",
    "wind_col_10 = 'contest-wind-h10-14d__wind-hgt-10'\n",
    "sst_1_col = 'sst-2010-1'\n",
    "sst_5_col = 'sst-2010-5'\n",
    "sst_3_col = 'sst-2010-3'\n",
    "sst_4_col = 'sst-2010-4'\n",
    "sst_6_col = 'sst-2010-6'\n",
    "sst_7_col = 'sst-2010-7'\n",
    "sst_8_col = 'sst-2010-8'\n",
    "sst_9_col = 'sst-2010-9'\n",
    "sst_10_col = 'sst-2010-10'"
   ]
  },
  {
   "cell_type": "code",
   "execution_count": 12,
   "id": "602491ed",
   "metadata": {},
   "outputs": [],
   "source": [
    "train_df[sst_col_list] = add_train[sst_col_list]\n",
    "test_df[sst_col_list] = add_test[sst_col_list]"
   ]
  },
  {
   "cell_type": "code",
   "execution_count": 13,
   "id": "a8f1852d",
   "metadata": {},
   "outputs": [
    {
     "data": {
      "text/plain": [
       "(407088, 129)"
      ]
     },
     "execution_count": 13,
     "metadata": {},
     "output_type": "execute_result"
    }
   ],
   "source": [
    "df = pd.concat([train_df[main_attrs], test_df[main_attrs]], axis=0)\n",
    "df.shape"
   ]
  },
  {
   "cell_type": "code",
   "execution_count": 14,
   "id": "1afddcf4",
   "metadata": {},
   "outputs": [
    {
     "name": "stdout",
     "output_type": "stream",
     "text": [
      "Nan\n",
      "Nan\n",
      "Nan\n"
     ]
    }
   ],
   "source": [
    "pres_res = create_feature(df, 'pres', pres_col, 1, season_group_cols)\n",
    "df = pres_res[0]\n",
    "pres_feature = pres_res[1:]"
   ]
  },
  {
   "cell_type": "code",
   "execution_count": 15,
   "id": "26206a1b",
   "metadata": {},
   "outputs": [
    {
     "name": "stdout",
     "output_type": "stream",
     "text": [
      "Nan\n",
      "Nan\n",
      "Nan\n"
     ]
    }
   ],
   "source": [
    "slp_res = create_feature(df, 'slp', slp_col, 1, season_group_cols)\n",
    "df = slp_res[0]\n",
    "slp_feature = slp_res[1:]"
   ]
  },
  {
   "cell_type": "code",
   "execution_count": 16,
   "id": "89b9d27b",
   "metadata": {},
   "outputs": [
    {
     "name": "stdout",
     "output_type": "stream",
     "text": [
      "Nan\n",
      "Nan\n",
      "Nan\n"
     ]
    }
   ],
   "source": [
    "precip_res = create_feature(df, 'precip', precip_col, 1, season_group_cols)\n",
    "df = precip_res[0]\n",
    "precip_feature = precip_res[1:]"
   ]
  },
  {
   "cell_type": "code",
   "execution_count": 17,
   "id": "824d5a90",
   "metadata": {},
   "outputs": [
    {
     "name": "stdout",
     "output_type": "stream",
     "text": [
      "Nan\n",
      "Nan\n",
      "Nan\n"
     ]
    }
   ],
   "source": [
    "sst_1_month_res = create_feature(df, 'sst_1_month', sst_1_col, 1, group_cols)\n",
    "df = sst_1_month_res[0]\n",
    "sst_1_month_feature = sst_1_month_res[1:]"
   ]
  },
  {
   "cell_type": "code",
   "execution_count": 18,
   "id": "f9e2a0ad",
   "metadata": {},
   "outputs": [
    {
     "name": "stdout",
     "output_type": "stream",
     "text": [
      "Nan\n",
      "Nan\n",
      "Nan\n"
     ]
    }
   ],
   "source": [
    "sst_5_month_res = create_feature(df, 'sst_5_month', sst_5_col, 1, group_cols)\n",
    "df = sst_5_month_res[0]\n",
    "sst_5_month_feature = sst_5_month_res[1:]"
   ]
  },
  {
   "cell_type": "code",
   "execution_count": 19,
   "id": "09e7a823",
   "metadata": {},
   "outputs": [
    {
     "name": "stdout",
     "output_type": "stream",
     "text": [
      "Nan\n",
      "Nan\n",
      "Nan\n"
     ]
    }
   ],
   "source": [
    "sst_3_month_res = create_feature(df, 'sst_3_month', sst_3_col, 1, group_cols)\n",
    "df = sst_3_month_res[0]\n",
    "sst_3_month_feature = sst_3_month_res[1:]"
   ]
  },
  {
   "cell_type": "code",
   "execution_count": 20,
   "id": "17663666",
   "metadata": {},
   "outputs": [
    {
     "name": "stdout",
     "output_type": "stream",
     "text": [
      "Nan\n",
      "Nan\n",
      "Nan\n"
     ]
    }
   ],
   "source": [
    "sst_4_month_res = create_feature(df, 'sst_4_month', sst_4_col, 1, group_cols)\n",
    "df = sst_4_month_res[0]\n",
    "sst_4_month_feature = sst_4_month_res[1:]"
   ]
  },
  {
   "cell_type": "code",
   "execution_count": 21,
   "id": "efd5c6b1",
   "metadata": {},
   "outputs": [
    {
     "name": "stdout",
     "output_type": "stream",
     "text": [
      "Nan\n",
      "Nan\n",
      "Nan\n"
     ]
    }
   ],
   "source": [
    "sst_6_month_res = create_feature(df, 'sst_6_month', sst_6_col, 1, group_cols)\n",
    "df = sst_6_month_res[0]\n",
    "sst_6_month_feature = sst_6_month_res[1:]"
   ]
  },
  {
   "cell_type": "code",
   "execution_count": 22,
   "id": "cf4c2248",
   "metadata": {},
   "outputs": [
    {
     "name": "stdout",
     "output_type": "stream",
     "text": [
      "Nan\n",
      "Nan\n",
      "Nan\n"
     ]
    }
   ],
   "source": [
    "wind_10_res = create_feature(df, 'wind_10', wind_col_10, 1, season_group_cols)\n",
    "df = wind_10_res[0]\n",
    "wind_10_feature = wind_10_res[1:]"
   ]
  },
  {
   "cell_type": "code",
   "execution_count": 23,
   "id": "33cca268",
   "metadata": {},
   "outputs": [
    {
     "name": "stdout",
     "output_type": "stream",
     "text": [
      "Nan\n",
      "Nan\n",
      "Nan\n"
     ]
    }
   ],
   "source": [
    "wind_10_res_month = create_feature(df, 'wind_10_month', wind_col_10, 1, group_cols)\n",
    "df = wind_10_res_month[0]\n",
    "wind_10_month_feature = wind_10_res_month[1:]"
   ]
  },
  {
   "cell_type": "code",
   "execution_count": 24,
   "id": "98dcfad1",
   "metadata": {},
   "outputs": [],
   "source": [
    "modified_best_cols = [c for c in best_cols]"
   ]
  },
  {
   "cell_type": "code",
   "execution_count": 36,
   "id": "91271003",
   "metadata": {},
   "outputs": [],
   "source": [
    "# df['sst_1_lag_1'] = df.groupby(group_cols)[sst_1_col].shift(1)\n",
    "# df = assign_train_test_df(df, 'sst_1_lag_1')\n",
    "\n",
    "# df['sst_1_lag_2'] = df.groupby(group_cols)[sst_1_col].shift(2)\n",
    "# df = assign_train_test_df(df, 'sst_1_lag_2')\n",
    "\n",
    "# df['sst_1_lag_3'] = df.groupby(group_cols)[sst_1_col].shift(3)\n",
    "# df = assign_train_test_df(df, 'sst_1_lag_3')\n",
    "\n",
    "# df['sst_5_lag_1'] = df.groupby(group_cols)[sst_5_col].shift(1)\n",
    "# df = assign_train_test_df(df, 'sst_5_lag_1')\n",
    "\n",
    "# df['sst_3_lag_1'] = df.groupby(group_cols)[sst_3_col].shift(1)\n",
    "# df = assign_train_test_df(df, 'sst_3_lag_1')\n",
    "\n",
    "df['sst_4_lag_1'] = df.groupby(group_cols)[sst_4_col].shift(1)\n",
    "df = assign_train_test_df(df, 'sst_4_lag_1')"
   ]
  },
  {
   "cell_type": "code",
   "execution_count": null,
   "id": "d52c0ab5",
   "metadata": {},
   "outputs": [],
   "source": [
    "# shift(lag_days).rolling(lag_days).mean()"
   ]
  },
  {
   "cell_type": "code",
   "execution_count": 33,
   "id": "70ebab13",
   "metadata": {},
   "outputs": [],
   "source": [
    "# df['sst_1_rolling_1'] = df.groupby(group_cols)[sst_1_col].shift(1).rolling(1).mean()\n",
    "# df = assign_train_test_df(df, 'sst_1_rolling_1')\n",
    "\n",
    "df['sst_5_rolling_1'] = df.groupby(group_cols)[sst_5_col].shift(1).rolling(1).mean()\n",
    "df = assign_train_test_df(df, 'sst_5_rolling_1')"
   ]
  },
  {
   "cell_type": "code",
   "execution_count": 37,
   "id": "975a1268",
   "metadata": {},
   "outputs": [],
   "source": [
    "features = modified_best_cols + pres_feature + sst_1_month_feature + ['sst_1_lag_1', 'sst_5_lag_1', 'sst_4_lag_1']"
   ]
  },
  {
   "cell_type": "code",
   "execution_count": 27,
   "id": "f97c8fd2",
   "metadata": {},
   "outputs": [],
   "source": [
    "# features"
   ]
  },
  {
   "cell_type": "code",
   "execution_count": 38,
   "id": "54ae112e",
   "metadata": {},
   "outputs": [
    {
     "name": "stderr",
     "output_type": "stream",
     "text": [
      "5it [00:01,  3.28it/s]\n"
     ]
    },
    {
     "name": "stdout",
     "output_type": "stream",
     "text": [
      "(375734, 129) (375734,)\n"
     ]
    },
    {
     "name": "stderr",
     "output_type": "stream",
     "text": [
      "\r",
      "  0%|                                                                                                | 0/5 [00:00<?, ?it/s]"
     ]
    },
    {
     "name": "stdout",
     "output_type": "stream",
     "text": [
      "Learning rate set to 0.072699\n",
      "0:\tlearn: 9.2611105\ttest: 9.2407165\tbest: 9.2407165 (0)\ttotal: 6.7ms\tremaining: 33.5s\n",
      "200:\tlearn: 1.1674178\ttest: 1.1730383\tbest: 1.1730383 (200)\ttotal: 1.1s\tremaining: 26.4s\n",
      "400:\tlearn: 0.9139139\ttest: 0.9227852\tbest: 0.9227852 (400)\ttotal: 2.21s\tremaining: 25.4s\n",
      "600:\tlearn: 0.7886693\ttest: 0.7993508\tbest: 0.7993508 (600)\ttotal: 3.33s\tremaining: 24.4s\n",
      "800:\tlearn: 0.7024371\ttest: 0.7150404\tbest: 0.7150404 (800)\ttotal: 4.38s\tremaining: 23s\n",
      "1000:\tlearn: 0.6421733\ttest: 0.6563204\tbest: 0.6563204 (1000)\ttotal: 5.43s\tremaining: 21.7s\n",
      "1200:\tlearn: 0.5979598\ttest: 0.6133960\tbest: 0.6133960 (1200)\ttotal: 6.49s\tremaining: 20.5s\n",
      "1400:\tlearn: 0.5615084\ttest: 0.5782354\tbest: 0.5782354 (1400)\ttotal: 7.54s\tremaining: 19.4s\n",
      "1600:\tlearn: 0.5332261\ttest: 0.5510218\tbest: 0.5510218 (1600)\ttotal: 8.65s\tremaining: 18.4s\n",
      "1800:\tlearn: 0.5082104\ttest: 0.5268159\tbest: 0.5268159 (1800)\ttotal: 9.74s\tremaining: 17.3s\n",
      "2000:\tlearn: 0.4857834\ttest: 0.5053771\tbest: 0.5053771 (2000)\ttotal: 10.8s\tremaining: 16.2s\n",
      "2200:\tlearn: 0.4670691\ttest: 0.4874542\tbest: 0.4874542 (2200)\ttotal: 12s\tremaining: 15.2s\n",
      "2400:\tlearn: 0.4494983\ttest: 0.4707587\tbest: 0.4707587 (2400)\ttotal: 13.1s\tremaining: 14.2s\n",
      "2600:\tlearn: 0.4348016\ttest: 0.4568556\tbest: 0.4568556 (2600)\ttotal: 14.3s\tremaining: 13.2s\n",
      "2800:\tlearn: 0.4210651\ttest: 0.4437954\tbest: 0.4437954 (2800)\ttotal: 15.4s\tremaining: 12.1s\n",
      "3000:\tlearn: 0.4076133\ttest: 0.4309037\tbest: 0.4309037 (3000)\ttotal: 16.6s\tremaining: 11.1s\n",
      "3200:\tlearn: 0.3961555\ttest: 0.4199040\tbest: 0.4199040 (3200)\ttotal: 17.7s\tremaining: 9.95s\n",
      "3400:\tlearn: 0.3855557\ttest: 0.4099195\tbest: 0.4099195 (3400)\ttotal: 18.8s\tremaining: 8.82s\n",
      "3600:\tlearn: 0.3759276\ttest: 0.4008884\tbest: 0.4008884 (3600)\ttotal: 19.8s\tremaining: 7.7s\n",
      "3800:\tlearn: 0.3670412\ttest: 0.3926009\tbest: 0.3926009 (3800)\ttotal: 20.9s\tremaining: 6.58s\n",
      "4000:\tlearn: 0.3588128\ttest: 0.3850196\tbest: 0.3850196 (4000)\ttotal: 21.9s\tremaining: 5.48s\n",
      "4200:\tlearn: 0.3508819\ttest: 0.3777027\tbest: 0.3777027 (4200)\ttotal: 23s\tremaining: 4.37s\n",
      "4400:\tlearn: 0.3430064\ttest: 0.3702198\tbest: 0.3702198 (4400)\ttotal: 24s\tremaining: 3.27s\n",
      "4600:\tlearn: 0.3361362\ttest: 0.3638654\tbest: 0.3638654 (4600)\ttotal: 25.1s\tremaining: 2.18s\n",
      "4800:\tlearn: 0.3297518\ttest: 0.3580413\tbest: 0.3580413 (4800)\ttotal: 26.1s\tremaining: 1.08s\n",
      "4999:\tlearn: 0.3235030\ttest: 0.3522306\tbest: 0.3522306 (4999)\ttotal: 27.2s\tremaining: 0us\n",
      "bestTest = 0.3522305881\n",
      "bestIteration = 4999\n"
     ]
    },
    {
     "name": "stderr",
     "output_type": "stream",
     "text": [
      "\r",
      " 20%|█████████████████▌                                                                      | 1/5 [00:40<02:42, 40.57s/it]"
     ]
    },
    {
     "name": "stdout",
     "output_type": "stream",
     "text": [
      "Learning rate set to 0.072699\n",
      "0:\tlearn: 9.2537635\ttest: 9.2717026\tbest: 9.2717026 (0)\ttotal: 6.72ms\tremaining: 33.6s\n",
      "200:\tlearn: 1.1701090\ttest: 1.1707775\tbest: 1.1707775 (200)\ttotal: 1.09s\tremaining: 26.1s\n",
      "400:\tlearn: 0.9155365\ttest: 0.9183609\tbest: 0.9183609 (400)\ttotal: 2.13s\tremaining: 24.4s\n",
      "600:\tlearn: 0.7881123\ttest: 0.7937984\tbest: 0.7937984 (600)\ttotal: 3.18s\tremaining: 23.3s\n",
      "800:\tlearn: 0.7012573\ttest: 0.7094809\tbest: 0.7094809 (800)\ttotal: 4.24s\tremaining: 22.2s\n",
      "1000:\tlearn: 0.6438638\ttest: 0.6539362\tbest: 0.6539362 (1000)\ttotal: 5.23s\tremaining: 20.9s\n",
      "1200:\tlearn: 0.5979806\ttest: 0.6097005\tbest: 0.6097005 (1200)\ttotal: 6.29s\tremaining: 19.9s\n",
      "1400:\tlearn: 0.5619142\ttest: 0.5749765\tbest: 0.5749765 (1400)\ttotal: 7.31s\tremaining: 18.8s\n",
      "1600:\tlearn: 0.5321322\ttest: 0.5463048\tbest: 0.5463048 (1600)\ttotal: 8.38s\tremaining: 17.8s\n",
      "1800:\tlearn: 0.5077933\ttest: 0.5233477\tbest: 0.5233477 (1800)\ttotal: 9.41s\tremaining: 16.7s\n",
      "2000:\tlearn: 0.4863076\ttest: 0.5031617\tbest: 0.5031617 (2000)\ttotal: 10.4s\tremaining: 15.7s\n",
      "2200:\tlearn: 0.4675017\ttest: 0.4853479\tbest: 0.4853479 (2200)\ttotal: 11.5s\tremaining: 14.6s\n",
      "2400:\tlearn: 0.4500989\ttest: 0.4688095\tbest: 0.4688095 (2400)\ttotal: 12.6s\tremaining: 13.6s\n",
      "2600:\tlearn: 0.4347863\ttest: 0.4544376\tbest: 0.4544376 (2600)\ttotal: 13.6s\tremaining: 12.6s\n",
      "2800:\tlearn: 0.4209132\ttest: 0.4414408\tbest: 0.4414408 (2800)\ttotal: 14.7s\tremaining: 11.5s\n",
      "3000:\tlearn: 0.4081321\ttest: 0.4295537\tbest: 0.4295537 (3000)\ttotal: 15.7s\tremaining: 10.5s\n",
      "3200:\tlearn: 0.3967506\ttest: 0.4188383\tbest: 0.4188383 (3200)\ttotal: 16.7s\tremaining: 9.41s\n",
      "3400:\tlearn: 0.3864383\ttest: 0.4092363\tbest: 0.4092363 (3400)\ttotal: 17.7s\tremaining: 8.34s\n",
      "3600:\tlearn: 0.3771532\ttest: 0.4006043\tbest: 0.4006043 (3600)\ttotal: 18.8s\tremaining: 7.32s\n",
      "3800:\tlearn: 0.3683753\ttest: 0.3925733\tbest: 0.3925733 (3800)\ttotal: 19.9s\tremaining: 6.28s\n",
      "4000:\tlearn: 0.3597390\ttest: 0.3845550\tbest: 0.3845550 (4000)\ttotal: 21s\tremaining: 5.24s\n",
      "4200:\tlearn: 0.3517722\ttest: 0.3771944\tbest: 0.3771944 (4200)\ttotal: 22.1s\tremaining: 4.19s\n",
      "4400:\tlearn: 0.3444597\ttest: 0.3704907\tbest: 0.3704907 (4400)\ttotal: 23.2s\tremaining: 3.15s\n",
      "4600:\tlearn: 0.3374390\ttest: 0.3639912\tbest: 0.3639912 (4600)\ttotal: 24.2s\tremaining: 2.1s\n",
      "4800:\tlearn: 0.3307714\ttest: 0.3577931\tbest: 0.3577931 (4800)\ttotal: 25.2s\tremaining: 1.04s\n",
      "4999:\tlearn: 0.3246316\ttest: 0.3521505\tbest: 0.3521505 (4999)\ttotal: 26.3s\tremaining: 0us\n",
      "bestTest = 0.352150518\n",
      "bestIteration = 4999\n"
     ]
    },
    {
     "name": "stderr",
     "output_type": "stream",
     "text": [
      "\r",
      " 40%|███████████████████████████████████▏                                                    | 2/5 [01:19<01:59, 39.89s/it]"
     ]
    },
    {
     "name": "stdout",
     "output_type": "stream",
     "text": [
      "Learning rate set to 0.072699\n",
      "0:\tlearn: 9.2531718\ttest: 9.2855747\tbest: 9.2855747 (0)\ttotal: 6.25ms\tremaining: 31.3s\n",
      "200:\tlearn: 1.1715897\ttest: 1.1739659\tbest: 1.1739659 (200)\ttotal: 1.02s\tremaining: 24.4s\n",
      "400:\tlearn: 0.9043990\ttest: 0.9116573\tbest: 0.9116573 (400)\ttotal: 2.07s\tremaining: 23.8s\n",
      "600:\tlearn: 0.7738928\ttest: 0.7843809\tbest: 0.7843809 (600)\ttotal: 3.07s\tremaining: 22.5s\n",
      "800:\tlearn: 0.6908597\ttest: 0.7031085\tbest: 0.7031085 (800)\ttotal: 4.11s\tremaining: 21.5s\n",
      "1000:\tlearn: 0.6350146\ttest: 0.6488482\tbest: 0.6488482 (1000)\ttotal: 5.13s\tremaining: 20.5s\n",
      "1200:\tlearn: 0.5891803\ttest: 0.6045068\tbest: 0.6045068 (1200)\ttotal: 6.12s\tremaining: 19.4s\n",
      "1400:\tlearn: 0.5539780\ttest: 0.5703829\tbest: 0.5703829 (1400)\ttotal: 7.13s\tremaining: 18.3s\n",
      "1600:\tlearn: 0.5263443\ttest: 0.5438174\tbest: 0.5438174 (1600)\ttotal: 8.16s\tremaining: 17.3s\n",
      "1800:\tlearn: 0.5026655\ttest: 0.5209039\tbest: 0.5209039 (1800)\ttotal: 9.23s\tremaining: 16.4s\n",
      "2000:\tlearn: 0.4816690\ttest: 0.5006729\tbest: 0.5006729 (2000)\ttotal: 10.3s\tremaining: 15.5s\n",
      "2200:\tlearn: 0.4630519\ttest: 0.4828155\tbest: 0.4828155 (2200)\ttotal: 11.4s\tremaining: 14.5s\n",
      "2400:\tlearn: 0.4450925\ttest: 0.4653389\tbest: 0.4653389 (2400)\ttotal: 12.5s\tremaining: 13.6s\n",
      "2600:\tlearn: 0.4302455\ttest: 0.4512272\tbest: 0.4512272 (2600)\ttotal: 13.6s\tremaining: 12.6s\n",
      "2800:\tlearn: 0.4172435\ttest: 0.4390070\tbest: 0.4390070 (2800)\ttotal: 14.7s\tremaining: 11.6s\n",
      "3000:\tlearn: 0.4051521\ttest: 0.4275174\tbest: 0.4275174 (3000)\ttotal: 15.8s\tremaining: 10.5s\n",
      "3200:\tlearn: 0.3941993\ttest: 0.4171659\tbest: 0.4171659 (3200)\ttotal: 16.8s\tremaining: 9.43s\n",
      "3400:\tlearn: 0.3837514\ttest: 0.4072053\tbest: 0.4072053 (3400)\ttotal: 17.8s\tremaining: 8.36s\n",
      "3600:\tlearn: 0.3740779\ttest: 0.3981645\tbest: 0.3981645 (3600)\ttotal: 18.8s\tremaining: 7.31s\n",
      "3800:\tlearn: 0.3653094\ttest: 0.3898221\tbest: 0.3898221 (3800)\ttotal: 19.8s\tremaining: 6.25s\n",
      "4000:\tlearn: 0.3569855\ttest: 0.3819761\tbest: 0.3819761 (4000)\ttotal: 20.9s\tremaining: 5.21s\n",
      "4200:\tlearn: 0.3490947\ttest: 0.3746200\tbest: 0.3746200 (4200)\ttotal: 22s\tremaining: 4.18s\n",
      "4400:\tlearn: 0.3418893\ttest: 0.3680417\tbest: 0.3680417 (4400)\ttotal: 23.1s\tremaining: 3.15s\n",
      "4600:\tlearn: 0.3351808\ttest: 0.3618413\tbest: 0.3618413 (4600)\ttotal: 24.2s\tremaining: 2.1s\n",
      "4800:\tlearn: 0.3285779\ttest: 0.3556684\tbest: 0.3556684 (4800)\ttotal: 25.3s\tremaining: 1.05s\n",
      "4999:\tlearn: 0.3225547\ttest: 0.3502075\tbest: 0.3502075 (4999)\ttotal: 26.3s\tremaining: 0us\n",
      "bestTest = 0.3502074989\n",
      "bestIteration = 4999\n"
     ]
    },
    {
     "name": "stderr",
     "output_type": "stream",
     "text": [
      "\r",
      " 60%|████████████████████████████████████████████████████▊                                   | 3/5 [01:59<01:19, 39.71s/it]"
     ]
    },
    {
     "name": "stdout",
     "output_type": "stream",
     "text": [
      "Learning rate set to 0.072699\n",
      "0:\tlearn: 9.2604847\ttest: 9.2566518\tbest: 9.2566518 (0)\ttotal: 7.33ms\tremaining: 36.7s\n",
      "200:\tlearn: 1.1609247\ttest: 1.1761170\tbest: 1.1761170 (200)\ttotal: 1.08s\tremaining: 25.8s\n",
      "400:\tlearn: 0.9133496\ttest: 0.9287550\tbest: 0.9287550 (400)\ttotal: 2.21s\tremaining: 25.3s\n",
      "600:\tlearn: 0.7836094\ttest: 0.7987573\tbest: 0.7987573 (600)\ttotal: 3.31s\tremaining: 24.2s\n",
      "800:\tlearn: 0.6998489\ttest: 0.7149567\tbest: 0.7149567 (800)\ttotal: 4.45s\tremaining: 23.4s\n",
      "1000:\tlearn: 0.6409225\ttest: 0.6571176\tbest: 0.6571176 (1000)\ttotal: 5.54s\tremaining: 22.1s\n",
      "1200:\tlearn: 0.5973456\ttest: 0.6144381\tbest: 0.6144381 (1200)\ttotal: 6.64s\tremaining: 21s\n",
      "1400:\tlearn: 0.5606948\ttest: 0.5785761\tbest: 0.5785761 (1400)\ttotal: 7.72s\tremaining: 19.8s\n",
      "1600:\tlearn: 0.5315830\ttest: 0.5503835\tbest: 0.5503835 (1600)\ttotal: 8.79s\tremaining: 18.7s\n",
      "1800:\tlearn: 0.5072069\ttest: 0.5267631\tbest: 0.5267631 (1800)\ttotal: 9.92s\tremaining: 17.6s\n",
      "2000:\tlearn: 0.4850633\ttest: 0.5054683\tbest: 0.5054683 (2000)\ttotal: 11s\tremaining: 16.4s\n",
      "2200:\tlearn: 0.4662813\ttest: 0.4876063\tbest: 0.4876063 (2200)\ttotal: 12.1s\tremaining: 15.3s\n",
      "2400:\tlearn: 0.4496735\ttest: 0.4717141\tbest: 0.4717141 (2400)\ttotal: 13.1s\tremaining: 14.2s\n",
      "2600:\tlearn: 0.4343678\ttest: 0.4571535\tbest: 0.4571535 (2600)\ttotal: 14.2s\tremaining: 13.1s\n",
      "2800:\tlearn: 0.4206550\ttest: 0.4441118\tbest: 0.4441118 (2800)\ttotal: 15.2s\tremaining: 11.9s\n",
      "3000:\tlearn: 0.4077873\ttest: 0.4318943\tbest: 0.4318943 (3000)\ttotal: 16.2s\tremaining: 10.8s\n",
      "3200:\tlearn: 0.3968720\ttest: 0.4215640\tbest: 0.4215640 (3200)\ttotal: 17.3s\tremaining: 9.71s\n",
      "3400:\tlearn: 0.3863683\ttest: 0.4115942\tbest: 0.4115942 (3400)\ttotal: 18.3s\tremaining: 8.6s\n",
      "3600:\tlearn: 0.3763527\ttest: 0.4022149\tbest: 0.4022149 (3600)\ttotal: 19.3s\tremaining: 7.5s\n",
      "3800:\tlearn: 0.3676625\ttest: 0.3940031\tbest: 0.3940031 (3800)\ttotal: 20.3s\tremaining: 6.42s\n",
      "4000:\tlearn: 0.3592063\ttest: 0.3860425\tbest: 0.3860425 (4000)\ttotal: 21.4s\tremaining: 5.33s\n",
      "4200:\tlearn: 0.3512842\ttest: 0.3785800\tbest: 0.3785800 (4200)\ttotal: 22.4s\tremaining: 4.25s\n",
      "4400:\tlearn: 0.3437690\ttest: 0.3715226\tbest: 0.3715226 (4400)\ttotal: 23.4s\tremaining: 3.18s\n",
      "4600:\tlearn: 0.3369531\ttest: 0.3652383\tbest: 0.3652383 (4600)\ttotal: 24.4s\tremaining: 2.12s\n",
      "4800:\tlearn: 0.3304350\ttest: 0.3592812\tbest: 0.3592812 (4800)\ttotal: 25.6s\tremaining: 1.06s\n",
      "4999:\tlearn: 0.3240754\ttest: 0.3534458\tbest: 0.3534458 (4999)\ttotal: 26.7s\tremaining: 0us\n",
      "bestTest = 0.3534458249\n",
      "bestIteration = 4999\n"
     ]
    },
    {
     "name": "stderr",
     "output_type": "stream",
     "text": [
      "\r",
      " 80%|██████████████████████████████████████████████████████████████████████▍                 | 4/5 [02:39<00:39, 39.95s/it]"
     ]
    },
    {
     "name": "stdout",
     "output_type": "stream",
     "text": [
      "Learning rate set to 0.072699\n",
      "0:\tlearn: 9.2625918\ttest: 9.2370575\tbest: 9.2370575 (0)\ttotal: 6.86ms\tremaining: 34.3s\n",
      "200:\tlearn: 1.1662350\ttest: 1.1716899\tbest: 1.1716899 (200)\ttotal: 1.13s\tremaining: 27s\n",
      "400:\tlearn: 0.9129059\ttest: 0.9214787\tbest: 0.9214787 (400)\ttotal: 2.17s\tremaining: 24.9s\n",
      "600:\tlearn: 0.7835346\ttest: 0.7945985\tbest: 0.7945985 (600)\ttotal: 3.23s\tremaining: 23.6s\n",
      "800:\tlearn: 0.7031019\ttest: 0.7154806\tbest: 0.7154806 (800)\ttotal: 4.32s\tremaining: 22.6s\n",
      "1000:\tlearn: 0.6413422\ttest: 0.6549456\tbest: 0.6549456 (1000)\ttotal: 5.36s\tremaining: 21.4s\n",
      "1200:\tlearn: 0.5985152\ttest: 0.6134305\tbest: 0.6134305 (1200)\ttotal: 6.34s\tremaining: 20.1s\n",
      "1400:\tlearn: 0.5621618\ttest: 0.5779007\tbest: 0.5779007 (1400)\ttotal: 7.37s\tremaining: 18.9s\n",
      "1600:\tlearn: 0.5331752\ttest: 0.5500291\tbest: 0.5500291 (1600)\ttotal: 8.35s\tremaining: 17.7s\n",
      "1800:\tlearn: 0.5078861\ttest: 0.5257010\tbest: 0.5257010 (1800)\ttotal: 9.34s\tremaining: 16.6s\n",
      "2000:\tlearn: 0.4848678\ttest: 0.5035094\tbest: 0.5035094 (2000)\ttotal: 10.4s\tremaining: 15.5s\n",
      "2200:\tlearn: 0.4665849\ttest: 0.4862101\tbest: 0.4862101 (2200)\ttotal: 11.4s\tremaining: 14.5s\n",
      "2400:\tlearn: 0.4501637\ttest: 0.4706467\tbest: 0.4706467 (2400)\ttotal: 12.4s\tremaining: 13.5s\n",
      "2600:\tlearn: 0.4340814\ttest: 0.4555060\tbest: 0.4555060 (2600)\ttotal: 13.5s\tremaining: 12.4s\n",
      "2800:\tlearn: 0.4200753\ttest: 0.4422163\tbest: 0.4422163 (2800)\ttotal: 14.6s\tremaining: 11.4s\n",
      "3000:\tlearn: 0.4076521\ttest: 0.4305696\tbest: 0.4305696 (3000)\ttotal: 15.7s\tremaining: 10.4s\n",
      "3200:\tlearn: 0.3965236\ttest: 0.4203406\tbest: 0.4203406 (3200)\ttotal: 16.7s\tremaining: 9.41s\n",
      "3400:\tlearn: 0.3857163\ttest: 0.4102562\tbest: 0.4102562 (3400)\ttotal: 17.8s\tremaining: 8.36s\n",
      "3600:\tlearn: 0.3763388\ttest: 0.4015082\tbest: 0.4015082 (3600)\ttotal: 18.8s\tremaining: 7.31s\n",
      "3800:\tlearn: 0.3672499\ttest: 0.3930571\tbest: 0.3930571 (3800)\ttotal: 19.9s\tremaining: 6.28s\n",
      "4000:\tlearn: 0.3588699\ttest: 0.3853388\tbest: 0.3853388 (4000)\ttotal: 20.9s\tremaining: 5.23s\n",
      "4200:\tlearn: 0.3509552\ttest: 0.3780325\tbest: 0.3780325 (4200)\ttotal: 22s\tremaining: 4.19s\n",
      "4400:\tlearn: 0.3434775\ttest: 0.3710849\tbest: 0.3710849 (4400)\ttotal: 23.2s\tremaining: 3.15s\n",
      "4600:\tlearn: 0.3367394\ttest: 0.3649047\tbest: 0.3649047 (4600)\ttotal: 24.3s\tremaining: 2.1s\n",
      "4800:\tlearn: 0.3301132\ttest: 0.3587609\tbest: 0.3587609 (4800)\ttotal: 25.3s\tremaining: 1.05s\n",
      "4999:\tlearn: 0.3240904\ttest: 0.3532025\tbest: 0.3532025 (4999)\ttotal: 26.4s\tremaining: 0us\n",
      "bestTest = 0.3532024819\n",
      "bestIteration = 4999\n"
     ]
    },
    {
     "name": "stderr",
     "output_type": "stream",
     "text": [
      "100%|████████████████████████████████████████████████████████████████████████████████████████| 5/5 [03:19<00:00, 39.85s/it]\n",
      "100%|████████████████████████████████████████████████████████████████████████████████████████| 5/5 [00:00<00:00, 18.17it/s]\n"
     ]
    },
    {
     "name": "stdout",
     "output_type": "stream",
     "text": [
      "cos_sim with best submission: 0.9999538141645593\n"
     ]
    }
   ],
   "source": [
    "X = train_df[features].values\n",
    "y = train_df[target[0]].values\n",
    "\n",
    "skf = KFold(n_splits=5, random_state=2048, shuffle=True)\n",
    "skf.get_n_splits(X, y)\n",
    "\n",
    "train_index_list = []\n",
    "test_index_list = []\n",
    "train_x_list = []\n",
    "val_x_list = []\n",
    "train_y_list = []\n",
    "val_y_list = []\n",
    "\n",
    "for i, (train_index, test_index) in tqdm(enumerate(skf.split(X, y))):\n",
    "    train_index_list.append(train_index)\n",
    "    test_index_list.append(test_index)\n",
    "\n",
    "    train_x_list.append(X[train_index, :])\n",
    "    val_x_list.append(X[test_index, :])\n",
    "    train_y_list.append(y[train_index])\n",
    "    val_y_list.append(y[test_index])    \n",
    "def train_catboost(x, y):\n",
    "    print(x.shape, y.shape)\n",
    "    \n",
    "    cat_models = []\n",
    "    for i in tqdm(range(5)):\n",
    "        train_x, val_x = train_x_list[i], val_x_list[i]\n",
    "        train_y, val_y = train_y_list[i], val_y_list[i]\n",
    "        clf = CatBoostRegressor(iterations=5000, verbose=200, task_type=\"GPU\",\n",
    "                           devices='0:1')\n",
    "        clf.fit(train_x, train_y, eval_set=[(val_x, val_y)], verbose=200, early_stopping_rounds=100)\n",
    "        cat_models.append(clf)\n",
    "    \n",
    "    return cat_models\n",
    "cat_models = train_catboost(X, y)\n",
    "\n",
    "preds = []\n",
    "for cat_model in tqdm(cat_models):\n",
    "    preds.append(cat_model.predict(test_df[features].values))\n",
    "s = 0\n",
    "for pred in preds:\n",
    "    s += pred\n",
    "s = s/5\n",
    "res_df = pd.read_csv('./sample_solution.csv')\n",
    "res_df['contest-tmp2m-14d__tmp2m'] = s\n",
    "res_df.to_csv('submission_fe_v8.csv', index=False)\n",
    "\n",
    "best_df = pd.read_csv('best_sub.csv')\n",
    "y_best = best_df[target[0]].values\n",
    "\n",
    "from numpy import dot\n",
    "from numpy.linalg import norm\n",
    "\n",
    "cos_sim = dot(y_best, s)/(norm(y_best)*norm(s))\n",
    "print(\"cos_sim with best submission:\", cos_sim)"
   ]
  }
 ],
 "metadata": {
  "kernelspec": {
   "display_name": "wids-env",
   "language": "python",
   "name": "wids-env"
  },
  "language_info": {
   "codemirror_mode": {
    "name": "ipython",
    "version": 3
   },
   "file_extension": ".py",
   "mimetype": "text/x-python",
   "name": "python",
   "nbconvert_exporter": "python",
   "pygments_lexer": "ipython3",
   "version": "3.7.15"
  }
 },
 "nbformat": 4,
 "nbformat_minor": 5
}
