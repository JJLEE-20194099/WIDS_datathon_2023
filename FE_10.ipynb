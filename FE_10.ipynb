{
 "cells": [
  {
   "cell_type": "code",
   "execution_count": 1,
   "id": "3048a728",
   "metadata": {},
   "outputs": [],
   "source": [
    "import numpy as np\n",
    "import pandas as pd\n",
    "import seaborn as sns\n",
    "import torch\n",
    "import torch.nn as nn\n",
    "import torch.nn.functional as f\n",
    "pd.set_option('display.max_columns', None)\n",
    "import matplotlib.pyplot as plt\n",
    "from sklearn.model_selection import train_test_split\n",
    "from torch.utils.data import DataLoader\n",
    "from sklearn import preprocessing\n",
    "from tqdm import tqdm\n",
    "from sklearn.preprocessing import FunctionTransformer\n",
    "import seaborn as sns \n",
    "from scipy import stats\n",
    "import statsmodels.api as sm\n",
    "\n",
    "from sklearn.ensemble import RandomForestRegressor, ExtraTreesRegressor, AdaBoostRegressor, BaggingRegressor, GradientBoostingRegressor\n",
    "from sklearn.tree import DecisionTreeRegressor\n",
    "from sklearn.linear_model import ElasticNet, Lasso\n",
    "from sklearn.feature_selection import SelectFromModel\n",
    "from sklearn.svm import SVR\n",
    "from sklearn.model_selection import KFold, cross_val_score\n",
    "from sklearn.pipeline import make_pipeline\n",
    "from sklearn.decomposition import PCA\n",
    "from sklearn.preprocessing import RobustScaler\n",
    "import h2o\n",
    "from h2o.automl import H2OAutoML\n",
    "from sklearn.base import BaseEstimator, TransformerMixin, RegressorMixin, clone\n",
    "from sklearn.neural_network import MLPRegressor\n",
    "from scipy.stats import norm\n",
    "import copy\n",
    "from sklearn.model_selection import KFold\n",
    "from catboost import CatBoostRegressor, Pool, metrics, cv\n",
    "import xgboost as xgb\n",
    "from scipy.stats import gmean\n",
    "from sklearn.impute import KNNImputer\n",
    "from sklearn.metrics import mean_squared_error\n",
    "from sklearn.preprocessing import LabelEncoder\n"
   ]
  },
  {
   "cell_type": "code",
   "execution_count": 99,
   "id": "1f87d634",
   "metadata": {},
   "outputs": [],
   "source": [
    "train_df = pd.read_csv('./fe_v2_train_076.csv')\n",
    "test_df = pd.read_csv('./fe_v2_test_076.csv')"
   ]
  },
  {
   "cell_type": "code",
   "execution_count": 110,
   "id": "311af197",
   "metadata": {},
   "outputs": [],
   "source": [
    "exclude_cols = ['index', 'startdate']\n",
    "embedding_attrs = ['climateregions__climateregion']\n",
    "target=[\"contest-tmp2m-14d__tmp2m\"]"
   ]
  },
  {
   "cell_type": "code",
   "execution_count": 111,
   "id": "43f40a58",
   "metadata": {},
   "outputs": [
    {
     "name": "stdout",
     "output_type": "stream",
     "text": [
      "Main features: 129\n"
     ]
    }
   ],
   "source": [
    "main_attrs = [c for c in train_df.columns if c not in exclude_cols and c not in target]\n",
    "print(\"Main features:\", len(main_attrs))"
   ]
  },
  {
   "cell_type": "code",
   "execution_count": 101,
   "id": "f26e95f0",
   "metadata": {},
   "outputs": [],
   "source": [
    "group_cols = ['loc_group', 'climate_type', 'year', 'season', 'month']\n",
    "season_group_cols = ['loc_group', 'climate_type', 'year', 'season']"
   ]
  },
  {
   "cell_type": "code",
   "execution_count": 106,
   "id": "5af736a3",
   "metadata": {},
   "outputs": [],
   "source": [
    "best_cols = ['contest-wind-h500-14d__wind-hgt-500',\n",
    " 'contest-slp-14d__slp',\n",
    " 'nmme-tmp2m-34w__ccsm3',\n",
    " 'elevation__elevation',\n",
    " 'lon',\n",
    " 'contest-prwtr-eatm-14d__prwtr',\n",
    " 'lat',\n",
    " 'climateregions__climateregion',\n",
    " 'contest-pres-sfc-gauss-14d__pres',\n",
    " 'season_sin',\n",
    " 'day_of_year_sin',\n",
    " 'contest-precip-14d__precip',\n",
    " 'contest-wind-uwnd-250-14d__wind-uwnd-250',\n",
    " 'nmme-prate-34w__cfsv2',\n",
    " 'nmme-prate-34w__nasa',\n",
    " 'nmme-prate-56w__gfdlflora',\n",
    " 'wind-uwnd-250-2010-7',\n",
    " 'contest-wind-vwnd-925-14d__wind-vwnd-925',\n",
    " 'nmme-prate-34w__nmmemean',\n",
    " 'nmme0-prate-34w__ccsm30',\n",
    " 'contest-wind-h850-14d__wind-hgt-850',\n",
    " 'contest-wind-uwnd-925-14d__wind-uwnd-925',\n",
    " 'nmme0-prate-56w__cfsv20',\n",
    " 'nmme-prate-34w__cancm3',\n",
    " 'contest-rhum-sig995-14d__rhum',\n",
    " 'nmme-prate-34w__gfdlflorb',\n",
    " 'wind-hgt-850-2010-4',\n",
    " 'contest-wind-vwnd-250-14d__wind-vwnd-250',\n",
    " 'wind-hgt-100-2010-2',\n",
    " 'wind-uwnd-250-2010-18',\n",
    " 'wind-hgt-10-2010-5',\n",
    " 'wind-uwnd-250-2010-15',\n",
    " 'wind-uwnd-250-2010-4',\n",
    " 'nmme0-prate-56w__nasa0',\n",
    " 'nmme0-prate-34w__cfsv20',\n",
    " 'wind-vwnd-250-2010-10',\n",
    " 'contest-wind-h10-14d__wind-hgt-10',\n",
    " 'wind-uwnd-925-2010-15',\n",
    " 'wind-vwnd-250-2010-3',\n",
    " 'nmme-prate-34w__cancm4',\n",
    " 'sst-2010-4',\n",
    " 'nmme0-prate-56w__ccsm30',\n",
    " 'wind-uwnd-250-2010-16',\n",
    " 'nmme0-prate-34w__gfdl0',\n",
    " 'nmme0-prate-56w__cancm40',\n",
    " 'sst-2010-1',\n",
    " 'sst-2010-3',\n",
    " 'wind-uwnd-250-2010-14',\n",
    " 'nmme0-prate-34w__gfdlflora0',\n",
    " 'nmme-prate-34w__gfdl',\n",
    " 'wind-hgt-850-2010-9',\n",
    " 'wind-vwnd-250-2010-1',\n",
    " 'sst-2010-5',\n",
    " 'cancm30',\n",
    " 'nmme-prate-34w__ccsm4',\n",
    " 'nmme0-prate-34w__nasa0',\n",
    " 'wind-hgt-500-2010-9',\n",
    " 'nmme0-prate-34w__cancm30',\n",
    " 'wind-vwnd-250-2010-13',\n",
    " 'wind_diff',\n",
    " 'wind_diff_min',\n",
    " 'wind_diff_min_month',\n",
    " 'wind_diff_month',\n",
    " 'diff_slp_first',\n",
    " 'diff_wind_first',\n",
    " 'diff_precip_first',\n",
    " 'diff_sst_10_first',\n",
    " 'diff_sst_10_min',\n",
    " 'diff_sst_10_max',\n",
    " 'range_sst_10',\n",
    " 'scale_sst_10',\n",
    " 'diff_sst_9_first',\n",
    " 'diff_sst_9_min',\n",
    " 'diff_sst_9_max',\n",
    " 'range_sst_9',\n",
    " 'scale_sst_9',\n",
    " 'diff_sst_8_first',\n",
    " 'diff_sst_8_min',\n",
    " 'diff_sst_8_max',\n",
    " 'range_sst_8',\n",
    " 'scale_sst_8',\n",
    " 'diff_sst_7_first',\n",
    " 'diff_sst_7_min',\n",
    " 'diff_sst_7_max',\n",
    " 'range_sst_7',\n",
    " 'scale_sst_7',\n",
    " 'diff_sst_6_first',\n",
    " 'diff_sst_6_min',\n",
    " 'diff_sst_6_max',\n",
    " 'range_sst_6',\n",
    " 'scale_sst_6',\n",
    " 'diff_sst_1_first',\n",
    " 'diff_sst_1_min',\n",
    " 'diff_sst_1_max',\n",
    " 'range_sst_1',\n",
    " 'scale_sst_1',\n",
    " 'diff_sst_2_first',\n",
    " 'diff_sst_2_min',\n",
    " 'diff_sst_2_max',\n",
    " 'range_sst_2',\n",
    " 'scale_sst_2',\n",
    " 'diff_sst_3_first',\n",
    " 'diff_sst_3_min',\n",
    " 'diff_sst_3_max',\n",
    " 'range_sst_3',\n",
    " 'scale_sst_3',\n",
    " 'diff_sst_4_first',\n",
    " 'diff_sst_4_min',\n",
    " 'diff_sst_4_max',\n",
    " 'range_sst_4',\n",
    " 'scale_sst_4',\n",
    " 'diff_sst_5_first',\n",
    " 'diff_sst_5_min',\n",
    " 'diff_sst_5_max',\n",
    " 'range_sst_5',\n",
    " 'scale_sst_5']"
   ]
  },
  {
   "cell_type": "code",
   "execution_count": 107,
   "id": "53ec3e42",
   "metadata": {},
   "outputs": [
    {
     "name": "stdout",
     "output_type": "stream",
     "text": [
      "Len: 116\n"
     ]
    }
   ],
   "source": [
    "print(\"Len:\", len(best_cols))"
   ]
  },
  {
   "cell_type": "code",
   "execution_count": 108,
   "id": "5622c8be",
   "metadata": {},
   "outputs": [],
   "source": [
    "def assign_train_test_df(df, my_col):\n",
    "    train_df[my_col] = df[:len(train_df)][my_col].tolist()\n",
    "    test_df[my_col] = df[len(train_df):][my_col].tolist()\n",
    "    return df\n",
    "\n",
    "def create_df_by_group_and_agg(dataframe, grouped_cols, action, my_col, return_name):\n",
    "    if action == \"first\":\n",
    "        ans_df = dataframe.groupby(grouped_cols)[my_col].first().reset_index()\n",
    "    elif action == \"min\":\n",
    "        ans_df = dataframe.groupby(grouped_cols)[my_col].min().reset_index()\n",
    "    elif action == \"max\":\n",
    "        ans_df = dataframe.groupby(grouped_cols)[my_col].max().reset_index()\n",
    "    elif action == \"mean\":\n",
    "        ans_df = dataframe.groupby(grouped_cols)[my_col].mean().reset_index()\n",
    "    print(\"Nan\")\n",
    "    ans_df = ans_df.rename(columns={my_col: return_name})\n",
    "    for c in ans_df.columns:\n",
    "        if ans_df[c].isnull().sum() > 0:\n",
    "            print(c, ans_df[c].isnull().sum())\n",
    "    return ans_df\n",
    "\n",
    "def create_feature(df, alias_name, col_name, suffix_num, season_group_cols):\n",
    "    first_df = create_df_by_group_and_agg(df, season_group_cols, \"first\", col_name, f\"first_{alias_name}_{suffix_num}\")\n",
    "    min_df = create_df_by_group_and_agg(df, season_group_cols, \"min\", col_name, f\"min_{alias_name}_{suffix_num}\")\n",
    "    max_df = create_df_by_group_and_agg(df, season_group_cols, \"max\", col_name, f\"max_{alias_name}_{suffix_num}\")\n",
    "    \n",
    "    df = df.merge(first_df, how='left', on=season_group_cols)\n",
    "    df[f'diff_{alias_name}_{suffix_num}_first'] = df[col_name] - df[f\"first_{alias_name}_{suffix_num}\"]\n",
    "    df = assign_train_test_df(df, f'diff_{alias_name}_{suffix_num}_first')\n",
    "    \n",
    "    df = df.merge(min_df, how='left', on=season_group_cols)\n",
    "    df[f'diff_{alias_name}_{suffix_num}_min'] = df[col_name] - df[f\"min_{alias_name}_{suffix_num}\"]\n",
    "    df = assign_train_test_df(df, f'diff_{alias_name}_{suffix_num}_min')\n",
    "    \n",
    "    df = df.merge(max_df, how='left', on=season_group_cols)\n",
    "    df[f'diff_{alias_name}_{suffix_num}_max'] = df[col_name] - df[f\"max_{alias_name}_{suffix_num}\"]\n",
    "    df = assign_train_test_df(df, f'diff_{alias_name}_{suffix_num}_max')\n",
    "    \n",
    "    df[f'range_{alias_name}_{suffix_num}'] = df[f\"max_{alias_name}_{suffix_num}\"] - df[f\"min_{alias_name}_{suffix_num}\"]\n",
    "    df = assign_train_test_df(df, f'range_{alias_name}_{suffix_num}')\n",
    "    \n",
    "    df[f'scale_{alias_name}_{suffix_num}'] = (df[col_name] - df[f\"min_{alias_name}_{suffix_num}\"]) / df[f'range_{alias_name}_{suffix_num}']\n",
    "    df = assign_train_test_df(df, f'scale_{alias_name}_{suffix_num}')\n",
    "    \n",
    "    return [df, f'diff_{alias_name}_{suffix_num}_first',\n",
    "   f'diff_{alias_name}_{suffix_num}_min',\n",
    "    f'diff_{alias_name}_{suffix_num}_max',\n",
    "    f'range_{alias_name}_{suffix_num}', f'scale_{alias_name}_{suffix_num}']"
   ]
  },
  {
   "cell_type": "code",
   "execution_count": 14,
   "id": "c28e108e",
   "metadata": {},
   "outputs": [],
   "source": [
    "slp_col = 'contest-slp-14d__slp'\n",
    "ccsm3_col = 'nmme-tmp2m-34w__ccsm3'\n",
    "pres_col = 'contest-pres-sfc-gauss-14d__pres'\n",
    "precip_col = 'contest-precip-14d__precip'\n",
    "poten_col = 'contest-pevpr-sfc-gauss-14d__pevpr'\n",
    "rhum_col = 'contest-rhum-sig995-14d__rhum'\n",
    "elevation_col = 'elevation__elevation'\n",
    "sst_1_col = ''"
   ]
  },
  {
   "cell_type": "code",
   "execution_count": 112,
   "id": "a8f1852d",
   "metadata": {},
   "outputs": [
    {
     "data": {
      "text/plain": [
       "(407088, 129)"
      ]
     },
     "execution_count": 112,
     "metadata": {},
     "output_type": "execute_result"
    }
   ],
   "source": [
    "df = pd.concat([train_df[main_attrs], test_df[main_attrs]], axis=0)\n",
    "df.shape"
   ]
  },
  {
   "cell_type": "code",
   "execution_count": 113,
   "id": "89b9d27b",
   "metadata": {},
   "outputs": [
    {
     "name": "stdout",
     "output_type": "stream",
     "text": [
      "Nan\n",
      "Nan\n",
      "Nan\n"
     ]
    }
   ],
   "source": [
    "pres_res = create_feature(df, 'pres', pres_col, 1, season_group_cols)\n",
    "df = pres_res[0]\n",
    "pres_feature = pres_res[1:]"
   ]
  },
  {
   "cell_type": "code",
   "execution_count": 116,
   "id": "975a1268",
   "metadata": {},
   "outputs": [],
   "source": [
    "features = best_cols + pres_feature"
   ]
  },
  {
   "cell_type": "code",
   "execution_count": 117,
   "id": "54ae112e",
   "metadata": {},
   "outputs": [
    {
     "name": "stderr",
     "output_type": "stream",
     "text": [
      "5it [00:01,  4.48it/s]\n"
     ]
    },
    {
     "name": "stdout",
     "output_type": "stream",
     "text": [
      "(375734, 121) (375734,)\n"
     ]
    },
    {
     "name": "stderr",
     "output_type": "stream",
     "text": [
      "\r",
      "  0%|                                                                                                | 0/5 [00:00<?, ?it/s]"
     ]
    },
    {
     "name": "stdout",
     "output_type": "stream",
     "text": [
      "Learning rate set to 0.072699\n",
      "0:\tlearn: 9.2611105\ttest: 9.2407165\tbest: 9.2407165 (0)\ttotal: 6.15ms\tremaining: 30.7s\n",
      "200:\tlearn: 1.1730213\ttest: 1.1790287\tbest: 1.1790287 (200)\ttotal: 992ms\tremaining: 23.7s\n",
      "400:\tlearn: 0.9201555\ttest: 0.9288454\tbest: 0.9288454 (400)\ttotal: 1.95s\tremaining: 22.4s\n",
      "600:\tlearn: 0.7895557\ttest: 0.8004377\tbest: 0.8004377 (600)\ttotal: 2.94s\tremaining: 21.5s\n",
      "800:\tlearn: 0.7014437\ttest: 0.7139431\tbest: 0.7139431 (800)\ttotal: 3.93s\tremaining: 20.6s\n",
      "1000:\tlearn: 0.6436207\ttest: 0.6572365\tbest: 0.6572365 (1000)\ttotal: 4.96s\tremaining: 19.8s\n",
      "1200:\tlearn: 0.5989952\ttest: 0.6139161\tbest: 0.6139161 (1200)\ttotal: 5.95s\tremaining: 18.8s\n",
      "1400:\tlearn: 0.5641052\ttest: 0.5803106\tbest: 0.5803106 (1400)\ttotal: 6.99s\tremaining: 18s\n",
      "1600:\tlearn: 0.5338744\ttest: 0.5510697\tbest: 0.5510697 (1600)\ttotal: 8.03s\tremaining: 17s\n",
      "1800:\tlearn: 0.5083123\ttest: 0.5264594\tbest: 0.5264594 (1800)\ttotal: 9.07s\tremaining: 16.1s\n",
      "2000:\tlearn: 0.4870850\ttest: 0.5061276\tbest: 0.5061276 (2000)\ttotal: 10.2s\tremaining: 15.2s\n",
      "2200:\tlearn: 0.4674705\ttest: 0.4873608\tbest: 0.4873608 (2200)\ttotal: 11.2s\tremaining: 14.2s\n",
      "2400:\tlearn: 0.4504417\ttest: 0.4710561\tbest: 0.4710561 (2400)\ttotal: 12.2s\tremaining: 13.2s\n",
      "2600:\tlearn: 0.4350062\ttest: 0.4564056\tbest: 0.4564056 (2600)\ttotal: 13.1s\tremaining: 12.1s\n",
      "2800:\tlearn: 0.4212829\ttest: 0.4434595\tbest: 0.4434595 (2800)\ttotal: 14.1s\tremaining: 11.1s\n",
      "3000:\tlearn: 0.4090239\ttest: 0.4320264\tbest: 0.4320264 (3000)\ttotal: 15s\tremaining: 10s\n",
      "3200:\tlearn: 0.3975623\ttest: 0.4212590\tbest: 0.4212590 (3200)\ttotal: 16s\tremaining: 9.01s\n",
      "3400:\tlearn: 0.3867855\ttest: 0.4110178\tbest: 0.4110178 (3400)\ttotal: 17s\tremaining: 8s\n",
      "3600:\tlearn: 0.3767945\ttest: 0.4017648\tbest: 0.4017648 (3600)\ttotal: 18s\tremaining: 7s\n",
      "3800:\tlearn: 0.3677045\ttest: 0.3933842\tbest: 0.3933842 (3800)\ttotal: 19s\tremaining: 5.99s\n",
      "4000:\tlearn: 0.3593356\ttest: 0.3856050\tbest: 0.3856050 (4000)\ttotal: 20s\tremaining: 4.98s\n",
      "4200:\tlearn: 0.3510329\ttest: 0.3779504\tbest: 0.3779504 (4200)\ttotal: 20.9s\tremaining: 3.98s\n",
      "4400:\tlearn: 0.3435179\ttest: 0.3709440\tbest: 0.3709440 (4400)\ttotal: 21.9s\tremaining: 2.99s\n",
      "4600:\tlearn: 0.3364144\ttest: 0.3643424\tbest: 0.3643424 (4600)\ttotal: 22.9s\tremaining: 1.99s\n",
      "4800:\tlearn: 0.3300605\ttest: 0.3584558\tbest: 0.3584558 (4800)\ttotal: 23.9s\tremaining: 989ms\n",
      "4999:\tlearn: 0.3238678\ttest: 0.3527377\tbest: 0.3527377 (4999)\ttotal: 24.9s\tremaining: 0us\n",
      "bestTest = 0.3527376697\n",
      "bestIteration = 4999\n"
     ]
    },
    {
     "name": "stderr",
     "output_type": "stream",
     "text": [
      "\r",
      " 20%|█████████████████▌                                                                      | 1/5 [00:36<02:27, 36.98s/it]"
     ]
    },
    {
     "name": "stdout",
     "output_type": "stream",
     "text": [
      "Learning rate set to 0.072699\n",
      "0:\tlearn: 9.2537635\ttest: 9.2717026\tbest: 9.2717026 (0)\ttotal: 6.06ms\tremaining: 30.3s\n",
      "200:\tlearn: 1.1804032\ttest: 1.1822417\tbest: 1.1822417 (200)\ttotal: 991ms\tremaining: 23.7s\n",
      "400:\tlearn: 0.9175188\ttest: 0.9227095\tbest: 0.9227095 (400)\ttotal: 1.96s\tremaining: 22.5s\n",
      "600:\tlearn: 0.7897781\ttest: 0.7970033\tbest: 0.7970033 (600)\ttotal: 2.99s\tremaining: 21.9s\n",
      "800:\tlearn: 0.7049561\ttest: 0.7141911\tbest: 0.7141911 (800)\ttotal: 3.95s\tremaining: 20.7s\n",
      "1000:\tlearn: 0.6435716\ttest: 0.6549633\tbest: 0.6549633 (1000)\ttotal: 4.92s\tremaining: 19.6s\n",
      "1200:\tlearn: 0.5983802\ttest: 0.6111353\tbest: 0.6111353 (1200)\ttotal: 5.9s\tremaining: 18.7s\n",
      "1400:\tlearn: 0.5627336\ttest: 0.5771822\tbest: 0.5771822 (1400)\ttotal: 6.9s\tremaining: 17.7s\n",
      "1600:\tlearn: 0.5341450\ttest: 0.5497970\tbest: 0.5497970 (1600)\ttotal: 7.86s\tremaining: 16.7s\n",
      "1800:\tlearn: 0.5073066\ttest: 0.5239603\tbest: 0.5239603 (1800)\ttotal: 8.88s\tremaining: 15.8s\n",
      "2000:\tlearn: 0.4858429\ttest: 0.5035478\tbest: 0.5035478 (2000)\ttotal: 9.91s\tremaining: 14.9s\n",
      "2200:\tlearn: 0.4676948\ttest: 0.4864083\tbest: 0.4864083 (2200)\ttotal: 10.9s\tremaining: 13.9s\n",
      "2400:\tlearn: 0.4496567\ttest: 0.4695069\tbest: 0.4695069 (2400)\ttotal: 11.9s\tremaining: 12.9s\n",
      "2600:\tlearn: 0.4341629\ttest: 0.4549226\tbest: 0.4549226 (2600)\ttotal: 13s\tremaining: 12s\n",
      "2800:\tlearn: 0.4205407\ttest: 0.4420451\tbest: 0.4420451 (2800)\ttotal: 14s\tremaining: 11s\n",
      "3000:\tlearn: 0.4076253\ttest: 0.4299066\tbest: 0.4299066 (3000)\ttotal: 15s\tremaining: 9.97s\n",
      "3200:\tlearn: 0.3966127\ttest: 0.4197703\tbest: 0.4197703 (3200)\ttotal: 15.9s\tremaining: 8.96s\n",
      "3400:\tlearn: 0.3864308\ttest: 0.4101961\tbest: 0.4101961 (3400)\ttotal: 16.9s\tremaining: 7.96s\n",
      "3600:\tlearn: 0.3764750\ttest: 0.4008901\tbest: 0.4008901 (3600)\ttotal: 18s\tremaining: 6.98s\n",
      "3800:\tlearn: 0.3678260\ttest: 0.3928964\tbest: 0.3928964 (3800)\ttotal: 18.9s\tremaining: 5.96s\n",
      "4000:\tlearn: 0.3591386\ttest: 0.3847472\tbest: 0.3847472 (4000)\ttotal: 19.9s\tremaining: 4.97s\n",
      "4200:\tlearn: 0.3512423\ttest: 0.3773993\tbest: 0.3773993 (4200)\ttotal: 21s\tremaining: 3.99s\n",
      "4400:\tlearn: 0.3437640\ttest: 0.3705691\tbest: 0.3705691 (4400)\ttotal: 22.2s\tremaining: 3.02s\n",
      "4600:\tlearn: 0.3365445\ttest: 0.3638422\tbest: 0.3638422 (4600)\ttotal: 23.2s\tremaining: 2.01s\n",
      "4800:\tlearn: 0.3301994\ttest: 0.3580277\tbest: 0.3580277 (4800)\ttotal: 24.2s\tremaining: 1s\n",
      "4999:\tlearn: 0.3244878\ttest: 0.3527524\tbest: 0.3527524 (4999)\ttotal: 25.2s\tremaining: 0us\n",
      "bestTest = 0.3527524428\n",
      "bestIteration = 4999\n"
     ]
    },
    {
     "name": "stderr",
     "output_type": "stream",
     "text": [
      "\r",
      " 40%|███████████████████████████████████▏                                                    | 2/5 [01:14<01:51, 37.26s/it]"
     ]
    },
    {
     "name": "stdout",
     "output_type": "stream",
     "text": [
      "Learning rate set to 0.072699\n",
      "0:\tlearn: 9.2531718\ttest: 9.2855747\tbest: 9.2855747 (0)\ttotal: 6.22ms\tremaining: 31.1s\n",
      "200:\tlearn: 1.1686053\ttest: 1.1707577\tbest: 1.1707577 (200)\ttotal: 1s\tremaining: 24s\n",
      "400:\tlearn: 0.9102383\ttest: 0.9168339\tbest: 0.9168339 (400)\ttotal: 2s\tremaining: 23s\n",
      "600:\tlearn: 0.7760139\ttest: 0.7858679\tbest: 0.7858679 (600)\ttotal: 3.08s\tremaining: 22.5s\n",
      "800:\tlearn: 0.6966831\ttest: 0.7087234\tbest: 0.7087234 (800)\ttotal: 4.03s\tremaining: 21.1s\n",
      "1000:\tlearn: 0.6379692\ttest: 0.6520178\tbest: 0.6520178 (1000)\ttotal: 5.07s\tremaining: 20.3s\n",
      "1200:\tlearn: 0.5940545\ttest: 0.6091198\tbest: 0.6091198 (1200)\ttotal: 6.1s\tremaining: 19.3s\n",
      "1400:\tlearn: 0.5591510\ttest: 0.5750776\tbest: 0.5750776 (1400)\ttotal: 7.16s\tremaining: 18.4s\n",
      "1600:\tlearn: 0.5315792\ttest: 0.5484610\tbest: 0.5484610 (1600)\ttotal: 8.16s\tremaining: 17.3s\n",
      "1800:\tlearn: 0.5064720\ttest: 0.5239150\tbest: 0.5239150 (1800)\ttotal: 9.26s\tremaining: 16.4s\n",
      "2000:\tlearn: 0.4840471\ttest: 0.5020519\tbest: 0.5020519 (2000)\ttotal: 10.2s\tremaining: 15.3s\n",
      "2200:\tlearn: 0.4654019\ttest: 0.4843819\tbest: 0.4843819 (2200)\ttotal: 11.2s\tremaining: 14.2s\n",
      "2400:\tlearn: 0.4475426\ttest: 0.4671674\tbest: 0.4671674 (2400)\ttotal: 12.1s\tremaining: 13.1s\n",
      "2600:\tlearn: 0.4327018\ttest: 0.4529841\tbest: 0.4529841 (2600)\ttotal: 13.2s\tremaining: 12.2s\n",
      "2800:\tlearn: 0.4189558\ttest: 0.4399856\tbest: 0.4399856 (2800)\ttotal: 14.3s\tremaining: 11.2s\n",
      "3000:\tlearn: 0.4061195\ttest: 0.4278033\tbest: 0.4278033 (3000)\ttotal: 15.4s\tremaining: 10.3s\n",
      "3200:\tlearn: 0.3946425\ttest: 0.4169470\tbest: 0.4169470 (3200)\ttotal: 16.4s\tremaining: 9.23s\n",
      "3400:\tlearn: 0.3842365\ttest: 0.4070481\tbest: 0.4070481 (3400)\ttotal: 17.5s\tremaining: 8.21s\n",
      "3600:\tlearn: 0.3747754\ttest: 0.3980927\tbest: 0.3980927 (3600)\ttotal: 18.5s\tremaining: 7.18s\n",
      "3800:\tlearn: 0.3656703\ttest: 0.3895570\tbest: 0.3895570 (3800)\ttotal: 19.5s\tremaining: 6.15s\n",
      "4000:\tlearn: 0.3572777\ttest: 0.3817426\tbest: 0.3817426 (4000)\ttotal: 20.5s\tremaining: 5.11s\n",
      "4200:\tlearn: 0.3491616\ttest: 0.3740507\tbest: 0.3740507 (4200)\ttotal: 21.6s\tremaining: 4.1s\n",
      "4400:\tlearn: 0.3417369\ttest: 0.3672091\tbest: 0.3672091 (4400)\ttotal: 22.7s\tremaining: 3.09s\n",
      "4600:\tlearn: 0.3347217\ttest: 0.3607246\tbest: 0.3607246 (4600)\ttotal: 23.9s\tremaining: 2.08s\n",
      "4800:\tlearn: 0.3283842\ttest: 0.3549313\tbest: 0.3549313 (4800)\ttotal: 25s\tremaining: 1.04s\n",
      "4999:\tlearn: 0.3221916\ttest: 0.3491510\tbest: 0.3491510 (4999)\ttotal: 26s\tremaining: 0us\n",
      "bestTest = 0.3491509731\n",
      "bestIteration = 4999\n"
     ]
    },
    {
     "name": "stderr",
     "output_type": "stream",
     "text": [
      "\r",
      " 60%|████████████████████████████████████████████████████▊                                   | 3/5 [01:53<01:16, 38.02s/it]"
     ]
    },
    {
     "name": "stdout",
     "output_type": "stream",
     "text": [
      "Learning rate set to 0.072699\n",
      "0:\tlearn: 9.2604847\ttest: 9.2566518\tbest: 9.2566518 (0)\ttotal: 7.15ms\tremaining: 35.8s\n",
      "200:\tlearn: 1.1668541\ttest: 1.1809546\tbest: 1.1809546 (200)\ttotal: 1.02s\tremaining: 24.4s\n",
      "400:\tlearn: 0.9057562\ttest: 0.9202933\tbest: 0.9202933 (400)\ttotal: 2s\tremaining: 23s\n",
      "600:\tlearn: 0.7795407\ttest: 0.7942298\tbest: 0.7942298 (600)\ttotal: 3.02s\tremaining: 22.1s\n",
      "800:\tlearn: 0.6985402\ttest: 0.7139726\tbest: 0.7139726 (800)\ttotal: 4.05s\tremaining: 21.2s\n",
      "1000:\tlearn: 0.6386407\ttest: 0.6550158\tbest: 0.6550158 (1000)\ttotal: 4.98s\tremaining: 19.9s\n",
      "1200:\tlearn: 0.5937537\ttest: 0.6109614\tbest: 0.6109614 (1200)\ttotal: 5.99s\tremaining: 18.9s\n",
      "1400:\tlearn: 0.5592268\ttest: 0.5776496\tbest: 0.5776496 (1400)\ttotal: 6.97s\tremaining: 17.9s\n",
      "1600:\tlearn: 0.5297275\ttest: 0.5492935\tbest: 0.5492935 (1600)\ttotal: 8s\tremaining: 17s\n",
      "1800:\tlearn: 0.5052976\ttest: 0.5253812\tbest: 0.5253812 (1800)\ttotal: 8.96s\tremaining: 15.9s\n",
      "2000:\tlearn: 0.4836605\ttest: 0.5045818\tbest: 0.5045818 (2000)\ttotal: 9.9s\tremaining: 14.8s\n",
      "2200:\tlearn: 0.4640982\ttest: 0.4857699\tbest: 0.4857699 (2200)\ttotal: 10.9s\tremaining: 13.8s\n",
      "2400:\tlearn: 0.4480972\ttest: 0.4703230\tbest: 0.4703230 (2400)\ttotal: 11.8s\tremaining: 12.8s\n",
      "2600:\tlearn: 0.4330977\ttest: 0.4560740\tbest: 0.4560740 (2600)\ttotal: 12.8s\tremaining: 11.8s\n",
      "2800:\tlearn: 0.4191124\ttest: 0.4426771\tbest: 0.4426771 (2800)\ttotal: 13.9s\tremaining: 10.9s\n",
      "3000:\tlearn: 0.4070662\ttest: 0.4312987\tbest: 0.4312987 (3000)\ttotal: 14.8s\tremaining: 9.88s\n",
      "3200:\tlearn: 0.3958814\ttest: 0.4207305\tbest: 0.4207305 (3200)\ttotal: 15.9s\tremaining: 8.92s\n",
      "3400:\tlearn: 0.3856493\ttest: 0.4110318\tbest: 0.4110318 (3400)\ttotal: 16.9s\tremaining: 7.93s\n",
      "3600:\tlearn: 0.3761231\ttest: 0.4022132\tbest: 0.4022132 (3600)\ttotal: 17.8s\tremaining: 6.92s\n",
      "3800:\tlearn: 0.3672277\ttest: 0.3936909\tbest: 0.3936909 (3800)\ttotal: 18.8s\tremaining: 5.93s\n",
      "4000:\tlearn: 0.3585798\ttest: 0.3856223\tbest: 0.3856223 (4000)\ttotal: 19.8s\tremaining: 4.93s\n",
      "4200:\tlearn: 0.3502871\ttest: 0.3778319\tbest: 0.3778319 (4200)\ttotal: 20.7s\tremaining: 3.94s\n",
      "4400:\tlearn: 0.3432035\ttest: 0.3712613\tbest: 0.3712613 (4400)\ttotal: 21.7s\tremaining: 2.95s\n",
      "4600:\tlearn: 0.3366102\ttest: 0.3653151\tbest: 0.3653151 (4600)\ttotal: 22.6s\tremaining: 1.96s\n",
      "4800:\tlearn: 0.3300413\ttest: 0.3591535\tbest: 0.3591535 (4800)\ttotal: 23.5s\tremaining: 976ms\n",
      "4999:\tlearn: 0.3240562\ttest: 0.3537449\tbest: 0.3537449 (4999)\ttotal: 24.5s\tremaining: 0us\n",
      "bestTest = 0.3537448582\n",
      "bestIteration = 4999\n"
     ]
    },
    {
     "name": "stderr",
     "output_type": "stream",
     "text": [
      "\r",
      " 80%|██████████████████████████████████████████████████████████████████████▍                 | 4/5 [02:30<00:37, 37.65s/it]"
     ]
    },
    {
     "name": "stdout",
     "output_type": "stream",
     "text": [
      "Learning rate set to 0.072699\n",
      "0:\tlearn: 9.2625918\ttest: 9.2370575\tbest: 9.2370575 (0)\ttotal: 6.32ms\tremaining: 31.6s\n",
      "200:\tlearn: 1.1674422\ttest: 1.1729522\tbest: 1.1729522 (200)\ttotal: 973ms\tremaining: 23.2s\n",
      "400:\tlearn: 0.9112754\ttest: 0.9196302\tbest: 0.9196302 (400)\ttotal: 1.95s\tremaining: 22.4s\n",
      "600:\tlearn: 0.7841273\ttest: 0.7941229\tbest: 0.7941229 (600)\ttotal: 2.9s\tremaining: 21.3s\n",
      "800:\tlearn: 0.7044739\ttest: 0.7158356\tbest: 0.7158356 (800)\ttotal: 3.81s\tremaining: 20s\n",
      "1000:\tlearn: 0.6445724\ttest: 0.6574419\tbest: 0.6574419 (1000)\ttotal: 4.84s\tremaining: 19.3s\n",
      "1200:\tlearn: 0.6004392\ttest: 0.6151505\tbest: 0.6151505 (1200)\ttotal: 5.82s\tremaining: 18.4s\n",
      "1400:\tlearn: 0.5621739\ttest: 0.5781922\tbest: 0.5781922 (1400)\ttotal: 6.85s\tremaining: 17.6s\n",
      "1600:\tlearn: 0.5321143\ttest: 0.5494628\tbest: 0.5494628 (1600)\ttotal: 7.88s\tremaining: 16.7s\n",
      "1800:\tlearn: 0.5083344\ttest: 0.5266843\tbest: 0.5266843 (1800)\ttotal: 8.97s\tremaining: 15.9s\n",
      "2000:\tlearn: 0.4866637\ttest: 0.5058550\tbest: 0.5058550 (2000)\ttotal: 9.91s\tremaining: 14.8s\n",
      "2200:\tlearn: 0.4667152\ttest: 0.4866850\tbest: 0.4866850 (2200)\ttotal: 10.9s\tremaining: 13.9s\n",
      "2400:\tlearn: 0.4496642\ttest: 0.4706298\tbest: 0.4706298 (2400)\ttotal: 11.9s\tremaining: 12.9s\n",
      "2600:\tlearn: 0.4345097\ttest: 0.4561350\tbest: 0.4561350 (2600)\ttotal: 12.9s\tremaining: 11.9s\n",
      "2800:\tlearn: 0.4211306\ttest: 0.4433782\tbest: 0.4433782 (2800)\ttotal: 13.9s\tremaining: 10.9s\n",
      "3000:\tlearn: 0.4084773\ttest: 0.4313778\tbest: 0.4313778 (3000)\ttotal: 15s\tremaining: 9.96s\n",
      "3200:\tlearn: 0.3964085\ttest: 0.4198446\tbest: 0.4198446 (3200)\ttotal: 16s\tremaining: 8.97s\n",
      "3400:\tlearn: 0.3856213\ttest: 0.4098631\tbest: 0.4098631 (3400)\ttotal: 17s\tremaining: 7.99s\n",
      "3600:\tlearn: 0.3762256\ttest: 0.4011990\tbest: 0.4011990 (3600)\ttotal: 18s\tremaining: 6.98s\n",
      "3800:\tlearn: 0.3670916\ttest: 0.3925779\tbest: 0.3925779 (3800)\ttotal: 19s\tremaining: 5.98s\n",
      "4000:\tlearn: 0.3583791\ttest: 0.3843793\tbest: 0.3843793 (4000)\ttotal: 19.9s\tremaining: 4.98s\n",
      "4200:\tlearn: 0.3505605\ttest: 0.3771262\tbest: 0.3771262 (4200)\ttotal: 20.9s\tremaining: 3.98s\n",
      "4400:\tlearn: 0.3431927\ttest: 0.3703208\tbest: 0.3703208 (4400)\ttotal: 21.9s\tremaining: 2.98s\n",
      "4600:\tlearn: 0.3366145\ttest: 0.3642979\tbest: 0.3642979 (4600)\ttotal: 22.8s\tremaining: 1.98s\n",
      "4800:\tlearn: 0.3301285\ttest: 0.3582717\tbest: 0.3582717 (4800)\ttotal: 23.9s\tremaining: 990ms\n",
      "4999:\tlearn: 0.3239458\ttest: 0.3526482\tbest: 0.3526482 (4999)\ttotal: 24.9s\tremaining: 0us\n",
      "bestTest = 0.3526481953\n",
      "bestIteration = 4999\n"
     ]
    },
    {
     "name": "stderr",
     "output_type": "stream",
     "text": [
      "100%|████████████████████████████████████████████████████████████████████████████████████████| 5/5 [03:07<00:00, 37.59s/it]\n",
      "100%|████████████████████████████████████████████████████████████████████████████████████████| 5/5 [00:00<00:00, 20.87it/s]\n"
     ]
    },
    {
     "name": "stdout",
     "output_type": "stream",
     "text": [
      "cos_sim with best submission: 0.9999532551063645\n"
     ]
    }
   ],
   "source": [
    "X = train_df[features].values\n",
    "y = train_df[target[0]].values\n",
    "\n",
    "skf = KFold(n_splits=5, random_state=2048, shuffle=True)\n",
    "skf.get_n_splits(X, y)\n",
    "\n",
    "train_index_list = []\n",
    "test_index_list = []\n",
    "train_x_list = []\n",
    "val_x_list = []\n",
    "train_y_list = []\n",
    "val_y_list = []\n",
    "\n",
    "for i, (train_index, test_index) in tqdm(enumerate(skf.split(X, y))):\n",
    "    train_index_list.append(train_index)\n",
    "    test_index_list.append(test_index)\n",
    "\n",
    "    train_x_list.append(X[train_index, :])\n",
    "    val_x_list.append(X[test_index, :])\n",
    "    train_y_list.append(y[train_index])\n",
    "    val_y_list.append(y[test_index])    \n",
    "def train_catboost(x, y):\n",
    "    print(x.shape, y.shape)\n",
    "    \n",
    "    cat_models = []\n",
    "    for i in tqdm(range(5)):\n",
    "        train_x, val_x = train_x_list[i], val_x_list[i]\n",
    "        train_y, val_y = train_y_list[i], val_y_list[i]\n",
    "        clf = CatBoostRegressor(iterations=5000, verbose=200, task_type=\"GPU\",\n",
    "                           devices='0:1')\n",
    "        clf.fit(train_x, train_y, eval_set=[(val_x, val_y)], verbose=200, early_stopping_rounds=100)\n",
    "        cat_models.append(clf)\n",
    "    \n",
    "    return cat_models\n",
    "cat_models = train_catboost(X, y)\n",
    "\n",
    "preds = []\n",
    "for cat_model in tqdm(cat_models):\n",
    "    preds.append(cat_model.predict(test_df[features].values))\n",
    "s = 0\n",
    "for pred in preds:\n",
    "    s += pred\n",
    "s = s/5\n",
    "res_df = pd.read_csv('./sample_solution.csv')\n",
    "res_df['contest-tmp2m-14d__tmp2m'] = s\n",
    "res_df.to_csv('submission_fe_v5.csv', index=False)\n",
    "\n",
    "best_df = pd.read_csv('best_sub.csv')\n",
    "y_best = best_df[target[0]].values\n",
    "\n",
    "from numpy import dot\n",
    "from numpy.linalg import norm\n",
    "\n",
    "cos_sim = dot(y_best, s)/(norm(y_best)*norm(s))\n",
    "print(\"cos_sim with best submission:\", cos_sim)"
   ]
  }
 ],
 "metadata": {
  "kernelspec": {
   "display_name": "wids-env",
   "language": "python",
   "name": "wids-env"
  },
  "language_info": {
   "codemirror_mode": {
    "name": "ipython",
    "version": 3
   },
   "file_extension": ".py",
   "mimetype": "text/x-python",
   "name": "python",
   "nbconvert_exporter": "python",
   "pygments_lexer": "ipython3",
   "version": "3.7.15"
  }
 },
 "nbformat": 4,
 "nbformat_minor": 5
}
