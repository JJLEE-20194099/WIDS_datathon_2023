{
 "cells": [
  {
   "cell_type": "code",
   "execution_count": 5,
   "id": "edadad97",
   "metadata": {},
   "outputs": [],
   "source": [
    "import numpy as np\n",
    "import pandas as pd\n",
    "import seaborn as sns\n",
    "import torch\n",
    "import torch.nn as nn\n",
    "import torch.nn.functional as f\n",
    "pd.set_option('display.max_columns', None)\n",
    "import matplotlib.pyplot as plt\n",
    "from sklearn.model_selection import train_test_split\n",
    "from torch.utils.data import DataLoader\n",
    "from sklearn import preprocessing\n",
    "from tqdm import tqdm\n",
    "from sklearn.preprocessing import FunctionTransformer\n",
    "import seaborn as sns \n",
    "from scipy import stats\n",
    "import statsmodels.api as sm\n",
    "\n",
    "from sklearn.ensemble import RandomForestRegressor, ExtraTreesRegressor, AdaBoostRegressor, BaggingRegressor, GradientBoostingRegressor\n",
    "from sklearn.tree import DecisionTreeRegressor\n",
    "from sklearn.linear_model import ElasticNet, Lasso\n",
    "from sklearn.feature_selection import SelectFromModel\n",
    "from sklearn.svm import SVR\n",
    "from sklearn.model_selection import KFold, cross_val_score\n",
    "from sklearn.pipeline import make_pipeline\n",
    "from sklearn.decomposition import PCA\n",
    "from sklearn.preprocessing import RobustScaler\n",
    "import h2o\n",
    "from h2o.automl import H2OAutoML\n",
    "from sklearn.base import BaseEstimator, TransformerMixin, RegressorMixin, clone\n",
    "from sklearn.neural_network import MLPRegressor\n",
    "from scipy.stats import norm\n",
    "import copy\n",
    "from sklearn.model_selection import KFold\n",
    "from catboost import CatBoostRegressor, Pool, metrics, cv\n",
    "import xgboost as xgb\n",
    "from scipy.stats import gmean\n",
    "from sklearn.impute import KNNImputer\n",
    "from sklearn.metrics import mean_squared_error\n",
    "from sklearn.preprocessing import LabelEncoder\n",
    "from sklearn.metrics import mean_squared_error"
   ]
  },
  {
   "cell_type": "code",
   "execution_count": 2,
   "id": "0fdbd461",
   "metadata": {},
   "outputs": [],
   "source": [
    "train_df = pd.read_csv('./sub_train.csv')\n",
    "test_df = pd.read_csv('./sub_test.csv')"
   ]
  },
  {
   "cell_type": "code",
   "execution_count": 3,
   "id": "992a5806",
   "metadata": {},
   "outputs": [
    {
     "name": "stdout",
     "output_type": "stream",
     "text": [
      "Main features: 59\n"
     ]
    }
   ],
   "source": [
    "exclude_cols = ['index', 'startdate']\n",
    "target=[\"contest-tmp2m-14d__tmp2m\"]\n",
    "main_attrs = [c for c in train_df.columns if c not in exclude_cols and c not in target]\n",
    "print(\"Main features:\", len(main_attrs))"
   ]
  },
  {
   "cell_type": "code",
   "execution_count": null,
   "id": "cf021248",
   "metadata": {},
   "outputs": [
    {
     "name": "stderr",
     "output_type": "stream",
     "text": [
      "5it [00:06,  1.32s/it]\n"
     ]
    },
    {
     "name": "stdout",
     "output_type": "stream",
     "text": [
      "(375734, 59) (375734,)\n"
     ]
    },
    {
     "name": "stderr",
     "output_type": "stream",
     "text": [
      " 20%|████████████████▍                                                                 | 1/5 [1:16:09<5:04:36, 4569.19s/it]"
     ]
    },
    {
     "name": "stdout",
     "output_type": "stream",
     "text": [
      "Val score: 0.4459941206619798\n"
     ]
    },
    {
     "name": "stderr",
     "output_type": "stream",
     "text": [
      "\r",
      " 40%|████████████████████████████████▊                                                 | 2/5 [2:32:32<3:48:53, 4577.74s/it]"
     ]
    },
    {
     "name": "stdout",
     "output_type": "stream",
     "text": [
      "Val score: 0.4433083463027348\n"
     ]
    },
    {
     "name": "stderr",
     "output_type": "stream",
     "text": [
      "\r",
      " 60%|█████████████████████████████████████████████████▏                                | 3/5 [3:48:26<2:32:13, 4566.64s/it]"
     ]
    },
    {
     "name": "stdout",
     "output_type": "stream",
     "text": [
      "Val score: 0.44326408165351733\n"
     ]
    },
    {
     "name": "stderr",
     "output_type": "stream",
     "text": [
      "\r",
      " 80%|█████████████████████████████████████████████████████████████████▌                | 4/5 [5:04:26<1:16:04, 4564.12s/it]"
     ]
    },
    {
     "name": "stdout",
     "output_type": "stream",
     "text": [
      "Val score: 0.4448287918571188\n"
     ]
    }
   ],
   "source": [
    "X = train_df[main_attrs].values\n",
    "y = train_df[target[0]].values\n",
    "\n",
    "skf = KFold(n_splits=5, random_state=2048, shuffle=True)\n",
    "skf.get_n_splits(X, y)\n",
    "\n",
    "train_index_list = []\n",
    "test_index_list = []\n",
    "train_x_list = []\n",
    "val_x_list = []\n",
    "train_y_list = []\n",
    "val_y_list = []\n",
    "\n",
    "for i, (train_index, test_index) in tqdm(enumerate(skf.split(X, y))):\n",
    "    train_index_list.append(train_index)\n",
    "    test_index_list.append(test_index)\n",
    "\n",
    "    train_x_list.append(X[train_index, :])\n",
    "    val_x_list.append(X[test_index, :])\n",
    "    train_y_list.append(y[train_index])\n",
    "    val_y_list.append(y[test_index])    \n",
    "def train(x, y):\n",
    "    print(x.shape, y.shape)\n",
    "    \n",
    "    models = []\n",
    "    for i in tqdm(range(5)):\n",
    "        train_x, val_x = train_x_list[i], val_x_list[i]\n",
    "        train_y, val_y = train_y_list[i], val_y_list[i]\n",
    "        clf = RandomForestRegressor(n_estimators=300,max_depth=None)\n",
    "        clf.fit(train_x, train_y)\n",
    "        print(\"Val score:\", mean_squared_error(clf.predict(val_x), val_y, squared=False))\n",
    "        models.append(clf)\n",
    "    \n",
    "    return models\n",
    "models = train(X, y)\n",
    "\n",
    "preds = []\n",
    "for model in tqdm(models):\n",
    "    preds.append(model.predict(test_df[main_attrs].values))\n",
    "s = 0\n",
    "for pred in preds:\n",
    "    s += pred\n",
    "s = s/5\n",
    "result_df = pd.read_csv('./sample_solution.csv')\n",
    "result_df['contest-tmp2m-14d__tmp2m'] = s\n",
    "result_df.to_csv('submission_rf_v1.csv', index=False)\n",
    "\n",
    "best_df = pd.read_csv('best_sub.csv')\n",
    "y_best = best_df[target[0]].values\n",
    "\n",
    "from numpy import dot\n",
    "from numpy.linalg import norm\n",
    "\n",
    "cos_sim = dot(y_best, s)/(norm(y_best)*norm(s))\n",
    "print(\"cos_sim with best submission:\", cos_sim)"
   ]
  }
 ],
 "metadata": {
  "kernelspec": {
   "display_name": "wids-env",
   "language": "python",
   "name": "wids-env"
  },
  "language_info": {
   "codemirror_mode": {
    "name": "ipython",
    "version": 3
   },
   "file_extension": ".py",
   "mimetype": "text/x-python",
   "name": "python",
   "nbconvert_exporter": "python",
   "pygments_lexer": "ipython3",
   "version": "3.7.15"
  }
 },
 "nbformat": 4,
 "nbformat_minor": 5
}
