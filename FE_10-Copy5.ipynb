{
 "cells": [
  {
   "cell_type": "code",
   "execution_count": 1,
   "id": "3048a728",
   "metadata": {},
   "outputs": [],
   "source": [
    "import numpy as np\n",
    "import pandas as pd\n",
    "import seaborn as sns\n",
    "import torch\n",
    "import torch.nn as nn\n",
    "import torch.nn.functional as f\n",
    "pd.set_option('display.max_columns', None)\n",
    "import matplotlib.pyplot as plt\n",
    "from sklearn.model_selection import train_test_split\n",
    "from torch.utils.data import DataLoader\n",
    "from sklearn import preprocessing\n",
    "from tqdm import tqdm\n",
    "from sklearn.preprocessing import FunctionTransformer\n",
    "import seaborn as sns \n",
    "from scipy import stats\n",
    "import statsmodels.api as sm\n",
    "\n",
    "from sklearn.ensemble import RandomForestRegressor, ExtraTreesRegressor, AdaBoostRegressor, BaggingRegressor, GradientBoostingRegressor\n",
    "from sklearn.tree import DecisionTreeRegressor\n",
    "from sklearn.linear_model import ElasticNet, Lasso\n",
    "from sklearn.feature_selection import SelectFromModel\n",
    "from sklearn.svm import SVR\n",
    "from sklearn.model_selection import KFold, cross_val_score\n",
    "from sklearn.pipeline import make_pipeline\n",
    "from sklearn.decomposition import PCA\n",
    "from sklearn.preprocessing import RobustScaler\n",
    "import h2o\n",
    "from h2o.automl import H2OAutoML\n",
    "from sklearn.base import BaseEstimator, TransformerMixin, RegressorMixin, clone\n",
    "from sklearn.neural_network import MLPRegressor\n",
    "from scipy.stats import norm\n",
    "import copy\n",
    "from sklearn.model_selection import KFold\n",
    "from catboost import CatBoostRegressor, Pool, metrics, cv\n",
    "import xgboost as xgb\n",
    "from scipy.stats import gmean\n",
    "from sklearn.impute import KNNImputer\n",
    "from sklearn.metrics import mean_squared_error\n",
    "from sklearn.preprocessing import LabelEncoder\n"
   ]
  },
  {
   "cell_type": "code",
   "execution_count": 2,
   "id": "3c1ff34d",
   "metadata": {},
   "outputs": [],
   "source": [
    "add_train = pd.read_csv('./n_train.csv')\n",
    "add_test = pd.read_csv('./n_test.csv')"
   ]
  },
  {
   "cell_type": "code",
   "execution_count": 3,
   "id": "ae108301",
   "metadata": {},
   "outputs": [
    {
     "data": {
      "text/plain": [
       "['sst-2010-1',\n",
       " 'sst-2010-2',\n",
       " 'sst-2010-3',\n",
       " 'sst-2010-4',\n",
       " 'sst-2010-5',\n",
       " 'sst-2010-6',\n",
       " 'sst-2010-7',\n",
       " 'sst-2010-8',\n",
       " 'sst-2010-9',\n",
       " 'sst-2010-10']"
      ]
     },
     "execution_count": 3,
     "metadata": {},
     "output_type": "execute_result"
    }
   ],
   "source": [
    "sst_col_list = [c for c in add_train.columns if 'sst' in c]\n",
    "sst_col_list"
   ]
  },
  {
   "cell_type": "code",
   "execution_count": 53,
   "id": "126861c4",
   "metadata": {},
   "outputs": [
    {
     "data": {
      "text/plain": [
       "['icec-2010-1',\n",
       " 'icec-2010-2',\n",
       " 'icec-2010-3',\n",
       " 'icec-2010-4',\n",
       " 'icec-2010-5',\n",
       " 'icec-2010-6',\n",
       " 'icec-2010-7',\n",
       " 'icec-2010-8',\n",
       " 'icec-2010-9',\n",
       " 'icec-2010-10']"
      ]
     },
     "execution_count": 53,
     "metadata": {},
     "output_type": "execute_result"
    }
   ],
   "source": [
    "ice_col_list = [c for c in add_train.columns if 'ice' in c]\n",
    "ice_col_list"
   ]
  },
  {
   "cell_type": "code",
   "execution_count": 74,
   "id": "0512df72",
   "metadata": {},
   "outputs": [
    {
     "data": {
      "text/plain": [
       "loc_group\n",
       "0      [0]\n",
       "1      [4]\n",
       "2      [4]\n",
       "3      [4]\n",
       "4      [4]\n",
       "      ... \n",
       "509    [9]\n",
       "510    [9]\n",
       "511    [9]\n",
       "512    [9]\n",
       "513    [9]\n",
       "Name: climateregions__climateregion, Length: 514, dtype: object"
      ]
     },
     "execution_count": 74,
     "metadata": {},
     "output_type": "execute_result"
    }
   ],
   "source": [
    "add_test.groupby(['loc_group'])['climateregions__climateregion'].unique()"
   ]
  },
  {
   "cell_type": "code",
   "execution_count": 72,
   "id": "f269c956",
   "metadata": {},
   "outputs": [
    {
     "data": {
      "text/plain": [
       "loc_group\n",
       "0      61\n",
       "1      61\n",
       "2      61\n",
       "3      61\n",
       "4      61\n",
       "       ..\n",
       "509    61\n",
       "510    61\n",
       "511    61\n",
       "512    61\n",
       "513    61\n",
       "Name: climateregions__climateregion, Length: 514, dtype: int64"
      ]
     },
     "execution_count": 72,
     "metadata": {},
     "output_type": "execute_result"
    }
   ],
   "source": [
    "add_test.groupby(['loc_group'])['climateregions__climateregion']"
   ]
  },
  {
   "cell_type": "code",
   "execution_count": 77,
   "id": "6b710c6d",
   "metadata": {},
   "outputs": [
    {
     "name": "stdout",
     "output_type": "stream",
     "text": [
      "23 31\n"
     ]
    }
   ],
   "source": [
    "print(len(add_train['lat'].unique()), len(add_train['lon'].unique()))"
   ]
  },
  {
   "cell_type": "code",
   "execution_count": 78,
   "id": "e5fcc9ae",
   "metadata": {},
   "outputs": [
    {
     "data": {
      "text/plain": [
       "array([0.        , 0.04545455, 0.09090909, 0.13636364, 0.18181818,\n",
       "       0.22727273, 0.27272727, 0.31818182, 0.36363636, 0.40909091,\n",
       "       0.45454545, 0.5       , 0.54545455, 0.59090909, 0.63636364,\n",
       "       0.68181818, 0.72727273, 0.77272727, 0.81818182, 0.86363636,\n",
       "       0.90909091, 0.95454545, 1.        ])"
      ]
     },
     "execution_count": 78,
     "metadata": {},
     "output_type": "execute_result"
    }
   ],
   "source": [
    "add_train['lat'].unique()"
   ]
  },
  {
   "cell_type": "code",
   "execution_count": 81,
   "id": "21021f8d",
   "metadata": {},
   "outputs": [
    {
     "data": {
      "text/html": [
       "<div>\n",
       "<style scoped>\n",
       "    .dataframe tbody tr th:only-of-type {\n",
       "        vertical-align: middle;\n",
       "    }\n",
       "\n",
       "    .dataframe tbody tr th {\n",
       "        vertical-align: top;\n",
       "    }\n",
       "\n",
       "    .dataframe thead th {\n",
       "        text-align: right;\n",
       "    }\n",
       "</style>\n",
       "<table border=\"1\" class=\"dataframe\">\n",
       "  <thead>\n",
       "    <tr style=\"text-align: right;\">\n",
       "      <th></th>\n",
       "      <th>lat</th>\n",
       "      <th>lon</th>\n",
       "      <th>contest-tmp2m-14d__tmp2m</th>\n",
       "    </tr>\n",
       "  </thead>\n",
       "  <tbody>\n",
       "    <tr>\n",
       "      <th>0</th>\n",
       "      <td>0.000000</td>\n",
       "      <td>0.833333</td>\n",
       "      <td>23.474873</td>\n",
       "    </tr>\n",
       "    <tr>\n",
       "      <th>1</th>\n",
       "      <td>0.000000</td>\n",
       "      <td>0.866667</td>\n",
       "      <td>23.427205</td>\n",
       "    </tr>\n",
       "    <tr>\n",
       "      <th>2</th>\n",
       "      <td>0.045455</td>\n",
       "      <td>0.833333</td>\n",
       "      <td>23.170019</td>\n",
       "    </tr>\n",
       "    <tr>\n",
       "      <th>3</th>\n",
       "      <td>0.045455</td>\n",
       "      <td>0.866667</td>\n",
       "      <td>22.525948</td>\n",
       "    </tr>\n",
       "    <tr>\n",
       "      <th>4</th>\n",
       "      <td>0.045455</td>\n",
       "      <td>0.900000</td>\n",
       "      <td>22.475270</td>\n",
       "    </tr>\n",
       "    <tr>\n",
       "      <th>...</th>\n",
       "      <td>...</td>\n",
       "      <td>...</td>\n",
       "      <td>...</td>\n",
       "    </tr>\n",
       "    <tr>\n",
       "      <th>509</th>\n",
       "      <td>1.000000</td>\n",
       "      <td>0.733333</td>\n",
       "      <td>5.182245</td>\n",
       "    </tr>\n",
       "    <tr>\n",
       "      <th>510</th>\n",
       "      <td>1.000000</td>\n",
       "      <td>0.766667</td>\n",
       "      <td>5.431043</td>\n",
       "    </tr>\n",
       "    <tr>\n",
       "      <th>511</th>\n",
       "      <td>1.000000</td>\n",
       "      <td>0.800000</td>\n",
       "      <td>4.736491</td>\n",
       "    </tr>\n",
       "    <tr>\n",
       "      <th>512</th>\n",
       "      <td>1.000000</td>\n",
       "      <td>0.833333</td>\n",
       "      <td>4.268409</td>\n",
       "    </tr>\n",
       "    <tr>\n",
       "      <th>513</th>\n",
       "      <td>1.000000</td>\n",
       "      <td>0.866667</td>\n",
       "      <td>4.584960</td>\n",
       "    </tr>\n",
       "  </tbody>\n",
       "</table>\n",
       "<p>514 rows × 3 columns</p>\n",
       "</div>"
      ],
      "text/plain": [
       "          lat       lon  contest-tmp2m-14d__tmp2m\n",
       "0    0.000000  0.833333                 23.474873\n",
       "1    0.000000  0.866667                 23.427205\n",
       "2    0.045455  0.833333                 23.170019\n",
       "3    0.045455  0.866667                 22.525948\n",
       "4    0.045455  0.900000                 22.475270\n",
       "..        ...       ...                       ...\n",
       "509  1.000000  0.733333                  5.182245\n",
       "510  1.000000  0.766667                  5.431043\n",
       "511  1.000000  0.800000                  4.736491\n",
       "512  1.000000  0.833333                  4.268409\n",
       "513  1.000000  0.866667                  4.584960\n",
       "\n",
       "[514 rows x 3 columns]"
      ]
     },
     "execution_count": 81,
     "metadata": {},
     "output_type": "execute_result"
    }
   ],
   "source": [
    "add_train.groupby(['lat', 'lon'])[target[0]].mean().reset_index().sort_values(by=['lat', 'lon'])"
   ]
  },
  {
   "cell_type": "code",
   "execution_count": 79,
   "id": "33d18e78",
   "metadata": {},
   "outputs": [
    {
     "data": {
      "text/plain": [
       "array([0.83333333, 0.86666667, 0.9       , 0.8       , 0.93333333,\n",
       "       0.66666667, 0.7       , 0.73333333, 0.76666667, 0.96666667,\n",
       "       1.        , 0.63333333, 0.36666667, 0.4       , 0.43333333,\n",
       "       0.46666667, 0.5       , 0.53333333, 0.56666667, 0.6       ,\n",
       "       0.23333333, 0.26666667, 0.3       , 0.33333333, 0.2       ,\n",
       "       0.13333333, 0.16666667, 0.1       , 0.06666667, 0.03333333,\n",
       "       0.        ])"
      ]
     },
     "execution_count": 79,
     "metadata": {},
     "output_type": "execute_result"
    }
   ],
   "source": [
    "add_train['lon'].unique()"
   ]
  },
  {
   "cell_type": "code",
   "execution_count": 4,
   "id": "1f87d634",
   "metadata": {},
   "outputs": [],
   "source": [
    "train_df = pd.read_csv('./fe_v2_train_076.csv')\n",
    "test_df = pd.read_csv('./fe_v2_test_076.csv')"
   ]
  },
  {
   "cell_type": "code",
   "execution_count": 5,
   "id": "311af197",
   "metadata": {},
   "outputs": [],
   "source": [
    "exclude_cols = ['index', 'startdate']\n",
    "embedding_attrs = ['climateregions__climateregion']\n",
    "target=[\"contest-tmp2m-14d__tmp2m\"]"
   ]
  },
  {
   "cell_type": "code",
   "execution_count": 6,
   "id": "43f40a58",
   "metadata": {},
   "outputs": [
    {
     "name": "stdout",
     "output_type": "stream",
     "text": [
      "Main features: 129\n"
     ]
    }
   ],
   "source": [
    "main_attrs = [c for c in train_df.columns if c not in exclude_cols and c not in target]\n",
    "print(\"Main features:\", len(main_attrs))"
   ]
  },
  {
   "cell_type": "code",
   "execution_count": 7,
   "id": "f26e95f0",
   "metadata": {},
   "outputs": [],
   "source": [
    "group_cols = ['loc_group', 'climate_type', 'year', 'season', 'month']\n",
    "season_group_cols = ['loc_group', 'climate_type', 'year', 'season']"
   ]
  },
  {
   "cell_type": "code",
   "execution_count": 8,
   "id": "5af736a3",
   "metadata": {},
   "outputs": [],
   "source": [
    "best_cols = ['contest-wind-h500-14d__wind-hgt-500',\n",
    " 'contest-slp-14d__slp',\n",
    " 'nmme-tmp2m-34w__ccsm3',\n",
    " 'elevation__elevation',\n",
    " 'lon',\n",
    " 'contest-prwtr-eatm-14d__prwtr',\n",
    " 'lat',\n",
    " 'climateregions__climateregion',\n",
    " 'contest-pres-sfc-gauss-14d__pres',\n",
    " 'season_sin',\n",
    " 'day_of_year_sin',\n",
    " 'contest-precip-14d__precip',\n",
    " 'contest-wind-uwnd-250-14d__wind-uwnd-250',\n",
    " 'nmme-prate-34w__cfsv2',\n",
    " 'nmme-prate-34w__nasa',\n",
    " 'nmme-prate-56w__gfdlflora',\n",
    " 'wind-uwnd-250-2010-7',\n",
    " 'contest-wind-vwnd-925-14d__wind-vwnd-925',\n",
    " 'nmme-prate-34w__nmmemean',\n",
    " 'nmme0-prate-34w__ccsm30',\n",
    " 'contest-wind-h850-14d__wind-hgt-850',\n",
    " 'contest-wind-uwnd-925-14d__wind-uwnd-925',\n",
    " 'nmme0-prate-56w__cfsv20',\n",
    " 'nmme-prate-34w__cancm3',\n",
    " 'contest-rhum-sig995-14d__rhum',\n",
    " 'nmme-prate-34w__gfdlflorb',\n",
    " 'wind-hgt-850-2010-4',\n",
    " 'contest-wind-vwnd-250-14d__wind-vwnd-250',\n",
    " 'wind-hgt-100-2010-2',\n",
    " 'wind-uwnd-250-2010-18',\n",
    " 'wind-hgt-10-2010-5',\n",
    " 'wind-uwnd-250-2010-15',\n",
    " 'wind-uwnd-250-2010-4',\n",
    " 'nmme0-prate-56w__nasa0',\n",
    " 'nmme0-prate-34w__cfsv20',\n",
    " 'wind-vwnd-250-2010-10',\n",
    " 'contest-wind-h10-14d__wind-hgt-10',\n",
    " 'wind-uwnd-925-2010-15',\n",
    " 'wind-vwnd-250-2010-3',\n",
    " 'nmme-prate-34w__cancm4',\n",
    " 'sst-2010-4',\n",
    " 'nmme0-prate-56w__ccsm30',\n",
    " 'wind-uwnd-250-2010-16',\n",
    " 'nmme0-prate-34w__gfdl0',\n",
    " 'nmme0-prate-56w__cancm40',\n",
    " 'sst-2010-1',\n",
    " 'sst-2010-3',\n",
    " 'wind-uwnd-250-2010-14',\n",
    " 'nmme0-prate-34w__gfdlflora0',\n",
    " 'nmme-prate-34w__gfdl',\n",
    " 'wind-hgt-850-2010-9',\n",
    " 'wind-vwnd-250-2010-1',\n",
    " 'sst-2010-5',\n",
    " 'cancm30',\n",
    " 'nmme-prate-34w__ccsm4',\n",
    " 'nmme0-prate-34w__nasa0',\n",
    " 'wind-hgt-500-2010-9',\n",
    " 'nmme0-prate-34w__cancm30',\n",
    " 'wind-vwnd-250-2010-13',\n",
    " 'wind_diff',\n",
    " 'wind_diff_min',\n",
    " 'wind_diff_min_month',\n",
    " 'wind_diff_month',\n",
    " 'diff_slp_first',\n",
    " 'diff_wind_first',\n",
    " 'diff_precip_first',\n",
    " 'diff_sst_10_first',\n",
    " 'diff_sst_10_min',\n",
    " 'diff_sst_10_max',\n",
    " 'range_sst_10',\n",
    " 'scale_sst_10',\n",
    " 'diff_sst_9_first',\n",
    " 'diff_sst_9_min',\n",
    " 'diff_sst_9_max',\n",
    " 'range_sst_9',\n",
    " 'scale_sst_9',\n",
    " 'diff_sst_8_first',\n",
    " 'diff_sst_8_min',\n",
    " 'diff_sst_8_max',\n",
    " 'range_sst_8',\n",
    " 'scale_sst_8',\n",
    " 'diff_sst_7_first',\n",
    " 'diff_sst_7_min',\n",
    " 'diff_sst_7_max',\n",
    " 'range_sst_7',\n",
    " 'scale_sst_7',\n",
    " 'diff_sst_6_first',\n",
    " 'diff_sst_6_min',\n",
    " 'diff_sst_6_max',\n",
    " 'range_sst_6',\n",
    " 'scale_sst_6',\n",
    " 'diff_sst_1_first',\n",
    " 'diff_sst_1_min',\n",
    " 'diff_sst_1_max',\n",
    " 'range_sst_1',\n",
    " 'scale_sst_1',\n",
    " 'diff_sst_2_first',\n",
    " 'diff_sst_2_min',\n",
    " 'diff_sst_2_max',\n",
    " 'range_sst_2',\n",
    " 'scale_sst_2',\n",
    " 'diff_sst_3_first',\n",
    " 'diff_sst_3_min',\n",
    " 'diff_sst_3_max',\n",
    " 'range_sst_3',\n",
    " 'scale_sst_3',\n",
    " 'diff_sst_4_first',\n",
    " 'diff_sst_4_min',\n",
    " 'diff_sst_4_max',\n",
    " 'range_sst_4',\n",
    " 'scale_sst_4',\n",
    " 'diff_sst_5_first',\n",
    " 'diff_sst_5_min',\n",
    " 'diff_sst_5_max',\n",
    " 'range_sst_5',\n",
    " 'scale_sst_5']"
   ]
  },
  {
   "cell_type": "code",
   "execution_count": 9,
   "id": "53ec3e42",
   "metadata": {},
   "outputs": [
    {
     "name": "stdout",
     "output_type": "stream",
     "text": [
      "Len: 116\n"
     ]
    }
   ],
   "source": [
    "print(\"Len:\", len(best_cols))"
   ]
  },
  {
   "cell_type": "code",
   "execution_count": 10,
   "id": "5622c8be",
   "metadata": {},
   "outputs": [],
   "source": [
    "def assign_train_test_df(df, my_col):\n",
    "    train_df[my_col] = df[:len(train_df)][my_col].tolist()\n",
    "    test_df[my_col] = df[len(train_df):][my_col].tolist()\n",
    "    return df\n",
    "\n",
    "def create_df_by_group_and_agg(dataframe, grouped_cols, action, my_col, return_name):\n",
    "    if action == \"first\":\n",
    "        ans_df = dataframe.groupby(grouped_cols)[my_col].first().reset_index()\n",
    "    elif action == \"min\":\n",
    "        ans_df = dataframe.groupby(grouped_cols)[my_col].min().reset_index()\n",
    "    elif action == \"max\":\n",
    "        ans_df = dataframe.groupby(grouped_cols)[my_col].max().reset_index()\n",
    "    elif action == \"mean\":\n",
    "        ans_df = dataframe.groupby(grouped_cols)[my_col].mean().reset_index()\n",
    "    print(\"Nan\")\n",
    "    ans_df = ans_df.rename(columns={my_col: return_name})\n",
    "    for c in ans_df.columns:\n",
    "        if ans_df[c].isnull().sum() > 0:\n",
    "            print(c, ans_df[c].isnull().sum())\n",
    "    return ans_df\n",
    "\n",
    "def create_feature(df, alias_name, col_name, suffix_num, season_group_cols):\n",
    "    first_df = create_df_by_group_and_agg(df, season_group_cols, \"first\", col_name, f\"first_{alias_name}_{suffix_num}\")\n",
    "    min_df = create_df_by_group_and_agg(df, season_group_cols, \"min\", col_name, f\"min_{alias_name}_{suffix_num}\")\n",
    "    max_df = create_df_by_group_and_agg(df, season_group_cols, \"max\", col_name, f\"max_{alias_name}_{suffix_num}\")\n",
    "    \n",
    "    df = df.merge(first_df, how='left', on=season_group_cols)\n",
    "    df[f'diff_{alias_name}_{suffix_num}_first'] = df[col_name] - df[f\"first_{alias_name}_{suffix_num}\"]\n",
    "    df = assign_train_test_df(df, f'diff_{alias_name}_{suffix_num}_first')\n",
    "    \n",
    "    df = df.merge(min_df, how='left', on=season_group_cols)\n",
    "    df[f'diff_{alias_name}_{suffix_num}_min'] = df[col_name] - df[f\"min_{alias_name}_{suffix_num}\"]\n",
    "    df = assign_train_test_df(df, f'diff_{alias_name}_{suffix_num}_min')\n",
    "    \n",
    "    df = df.merge(max_df, how='left', on=season_group_cols)\n",
    "    df[f'diff_{alias_name}_{suffix_num}_max'] = df[col_name] - df[f\"max_{alias_name}_{suffix_num}\"]\n",
    "    df = assign_train_test_df(df, f'diff_{alias_name}_{suffix_num}_max')\n",
    "    \n",
    "    df[f'range_{alias_name}_{suffix_num}'] = df[f\"max_{alias_name}_{suffix_num}\"] - df[f\"min_{alias_name}_{suffix_num}\"]\n",
    "    df = assign_train_test_df(df, f'range_{alias_name}_{suffix_num}')\n",
    "    \n",
    "    df[f'scale_{alias_name}_{suffix_num}'] = (df[col_name] - df[f\"min_{alias_name}_{suffix_num}\"]) / df[f'range_{alias_name}_{suffix_num}']\n",
    "    df = assign_train_test_df(df, f'scale_{alias_name}_{suffix_num}')\n",
    "    \n",
    "    return [df, f'diff_{alias_name}_{suffix_num}_first',\n",
    "   f'diff_{alias_name}_{suffix_num}_min',\n",
    "    f'diff_{alias_name}_{suffix_num}_max',\n",
    "    f'range_{alias_name}_{suffix_num}', f'scale_{alias_name}_{suffix_num}']"
   ]
  },
  {
   "cell_type": "code",
   "execution_count": 51,
   "id": "c28e108e",
   "metadata": {},
   "outputs": [],
   "source": [
    "slp_col = 'contest-slp-14d__slp'\n",
    "ccsm3_col = 'nmme-tmp2m-34w__ccsm3'\n",
    "pres_col = 'contest-pres-sfc-gauss-14d__pres'\n",
    "precip_col = 'contest-precip-14d__precip'\n",
    "poten_col = 'contest-pevpr-sfc-gauss-14d__pevpr'\n",
    "rhum_col = 'contest-rhum-sig995-14d__rhum'\n",
    "elevation_col = 'elevation__elevation'\n",
    "wind_col_10 = 'contest-wind-h10-14d__wind-hgt-10'\n",
    "sst_1_col = 'sst-2010-1'\n",
    "sst_5_col = 'sst-2010-5'\n",
    "sst_3_col = 'sst-2010-3'\n",
    "sst_4_col = 'sst-2010-4'\n",
    "sst_6_col = 'sst-2010-6'\n",
    "sst_7_col = 'sst-2010-7'\n",
    "sst_8_col = 'sst-2010-8'\n",
    "sst_9_col = 'sst-2010-9'\n",
    "sst_10_col = 'sst-2010-10'\n",
    "prate_col = 'nmme-prate-34w__nmmemean'\n",
    "wind_u_15_col = 'wind-uwnd-925-2010-15'\n",
    "wind_u_18_col = 'wind-uwnd-925-2010-18'\n",
    "wind_v_250_3_col = 'wind-vwnd-250-2010-3'\n",
    "wind_important = 'contest-wind-h500-14d__wind-hgt-500'"
   ]
  },
  {
   "cell_type": "code",
   "execution_count": 12,
   "id": "602491ed",
   "metadata": {},
   "outputs": [],
   "source": [
    "train_df[sst_col_list] = add_train[sst_col_list]\n",
    "test_df[sst_col_list] = add_test[sst_col_list]"
   ]
  },
  {
   "cell_type": "code",
   "execution_count": 13,
   "id": "a8f1852d",
   "metadata": {},
   "outputs": [
    {
     "data": {
      "text/plain": [
       "(407088, 129)"
      ]
     },
     "execution_count": 13,
     "metadata": {},
     "output_type": "execute_result"
    }
   ],
   "source": [
    "df = pd.concat([train_df[main_attrs], test_df[main_attrs]], axis=0)\n",
    "df.shape"
   ]
  },
  {
   "cell_type": "code",
   "execution_count": 14,
   "id": "1afddcf4",
   "metadata": {},
   "outputs": [
    {
     "name": "stdout",
     "output_type": "stream",
     "text": [
      "Nan\n",
      "Nan\n",
      "Nan\n"
     ]
    }
   ],
   "source": [
    "pres_res = create_feature(df, 'pres', pres_col, 1, season_group_cols)\n",
    "df = pres_res[0]\n",
    "pres_feature = pres_res[1:]"
   ]
  },
  {
   "cell_type": "code",
   "execution_count": 15,
   "id": "26206a1b",
   "metadata": {},
   "outputs": [
    {
     "name": "stdout",
     "output_type": "stream",
     "text": [
      "Nan\n",
      "Nan\n",
      "Nan\n"
     ]
    }
   ],
   "source": [
    "slp_res = create_feature(df, 'slp', slp_col, 1, season_group_cols)\n",
    "df = slp_res[0]\n",
    "slp_feature = slp_res[1:]"
   ]
  },
  {
   "cell_type": "code",
   "execution_count": 16,
   "id": "89b9d27b",
   "metadata": {},
   "outputs": [
    {
     "name": "stdout",
     "output_type": "stream",
     "text": [
      "Nan\n",
      "Nan\n",
      "Nan\n"
     ]
    }
   ],
   "source": [
    "precip_res = create_feature(df, 'precip', precip_col, 1, season_group_cols)\n",
    "df = precip_res[0]\n",
    "precip_feature = precip_res[1:]"
   ]
  },
  {
   "cell_type": "code",
   "execution_count": 17,
   "id": "824d5a90",
   "metadata": {},
   "outputs": [
    {
     "name": "stdout",
     "output_type": "stream",
     "text": [
      "Nan\n",
      "Nan\n",
      "Nan\n"
     ]
    }
   ],
   "source": [
    "sst_1_month_res = create_feature(df, 'sst_1_month', sst_1_col, 1, group_cols)\n",
    "df = sst_1_month_res[0]\n",
    "sst_1_month_feature = sst_1_month_res[1:]"
   ]
  },
  {
   "cell_type": "code",
   "execution_count": 18,
   "id": "f9e2a0ad",
   "metadata": {},
   "outputs": [
    {
     "name": "stdout",
     "output_type": "stream",
     "text": [
      "Nan\n",
      "Nan\n",
      "Nan\n"
     ]
    }
   ],
   "source": [
    "sst_5_month_res = create_feature(df, 'sst_5_month', sst_5_col, 1, group_cols)\n",
    "df = sst_5_month_res[0]\n",
    "sst_5_month_feature = sst_5_month_res[1:]"
   ]
  },
  {
   "cell_type": "code",
   "execution_count": 19,
   "id": "09e7a823",
   "metadata": {},
   "outputs": [
    {
     "name": "stdout",
     "output_type": "stream",
     "text": [
      "Nan\n",
      "Nan\n",
      "Nan\n"
     ]
    }
   ],
   "source": [
    "sst_3_month_res = create_feature(df, 'sst_3_month', sst_3_col, 1, group_cols)\n",
    "df = sst_3_month_res[0]\n",
    "sst_3_month_feature = sst_3_month_res[1:]"
   ]
  },
  {
   "cell_type": "code",
   "execution_count": 20,
   "id": "17663666",
   "metadata": {},
   "outputs": [
    {
     "name": "stdout",
     "output_type": "stream",
     "text": [
      "Nan\n",
      "Nan\n",
      "Nan\n"
     ]
    }
   ],
   "source": [
    "sst_4_month_res = create_feature(df, 'sst_4_month', sst_4_col, 1, group_cols)\n",
    "df = sst_4_month_res[0]\n",
    "sst_4_month_feature = sst_4_month_res[1:]"
   ]
  },
  {
   "cell_type": "code",
   "execution_count": 21,
   "id": "efd5c6b1",
   "metadata": {},
   "outputs": [
    {
     "name": "stdout",
     "output_type": "stream",
     "text": [
      "Nan\n",
      "Nan\n",
      "Nan\n"
     ]
    }
   ],
   "source": [
    "sst_6_month_res = create_feature(df, 'sst_6_month', sst_6_col, 1, group_cols)\n",
    "df = sst_6_month_res[0]\n",
    "sst_6_month_feature = sst_6_month_res[1:]"
   ]
  },
  {
   "cell_type": "code",
   "execution_count": 22,
   "id": "cf4c2248",
   "metadata": {},
   "outputs": [
    {
     "name": "stdout",
     "output_type": "stream",
     "text": [
      "Nan\n",
      "Nan\n",
      "Nan\n"
     ]
    }
   ],
   "source": [
    "wind_10_res = create_feature(df, 'wind_10', wind_col_10, 1, season_group_cols)\n",
    "df = wind_10_res[0]\n",
    "wind_10_feature = wind_10_res[1:]"
   ]
  },
  {
   "cell_type": "code",
   "execution_count": 23,
   "id": "33cca268",
   "metadata": {},
   "outputs": [
    {
     "name": "stdout",
     "output_type": "stream",
     "text": [
      "Nan\n",
      "Nan\n",
      "Nan\n"
     ]
    }
   ],
   "source": [
    "wind_10_res_month = create_feature(df, 'wind_10_month', wind_col_10, 1, group_cols)\n",
    "df = wind_10_res_month[0]\n",
    "wind_10_month_feature = wind_10_res_month[1:]"
   ]
  },
  {
   "cell_type": "code",
   "execution_count": 24,
   "id": "7336c944",
   "metadata": {},
   "outputs": [
    {
     "name": "stdout",
     "output_type": "stream",
     "text": [
      "Nan\n",
      "Nan\n",
      "Nan\n"
     ]
    }
   ],
   "source": [
    "ccsm3_res_month_res = create_feature(df, 'ccsm3_month', ccsm3_col, 1, group_cols)\n",
    "df = ccsm3_res_month_res[0]\n",
    "ccsm3_month_feature = ccsm3_res_month_res[1:]"
   ]
  },
  {
   "cell_type": "code",
   "execution_count": 40,
   "id": "43a2b69d",
   "metadata": {},
   "outputs": [
    {
     "name": "stdout",
     "output_type": "stream",
     "text": [
      "Nan\n",
      "Nan\n",
      "Nan\n"
     ]
    },
    {
     "name": "stderr",
     "output_type": "stream",
     "text": [
      "/data/hieunm/anaconda3/envs/wids-env/lib/python3.7/site-packages/ipykernel_launcher.py:28: PerformanceWarning: DataFrame is highly fragmented.  This is usually the result of calling `frame.insert` many times, which has poor performance.  Consider joining all columns at once using pd.concat(axis=1) instead.  To get a de-fragmented frame, use `newframe = frame.copy()`\n",
      "/data/hieunm/anaconda3/envs/wids-env/lib/python3.7/site-packages/ipykernel_launcher.py:32: PerformanceWarning: DataFrame is highly fragmented.  This is usually the result of calling `frame.insert` many times, which has poor performance.  Consider joining all columns at once using pd.concat(axis=1) instead.  To get a de-fragmented frame, use `newframe = frame.copy()`\n",
      "/data/hieunm/anaconda3/envs/wids-env/lib/python3.7/site-packages/ipykernel_launcher.py:36: PerformanceWarning: DataFrame is highly fragmented.  This is usually the result of calling `frame.insert` many times, which has poor performance.  Consider joining all columns at once using pd.concat(axis=1) instead.  To get a de-fragmented frame, use `newframe = frame.copy()`\n",
      "/data/hieunm/anaconda3/envs/wids-env/lib/python3.7/site-packages/ipykernel_launcher.py:39: PerformanceWarning: DataFrame is highly fragmented.  This is usually the result of calling `frame.insert` many times, which has poor performance.  Consider joining all columns at once using pd.concat(axis=1) instead.  To get a de-fragmented frame, use `newframe = frame.copy()`\n",
      "/data/hieunm/anaconda3/envs/wids-env/lib/python3.7/site-packages/ipykernel_launcher.py:42: PerformanceWarning: DataFrame is highly fragmented.  This is usually the result of calling `frame.insert` many times, which has poor performance.  Consider joining all columns at once using pd.concat(axis=1) instead.  To get a de-fragmented frame, use `newframe = frame.copy()`\n"
     ]
    }
   ],
   "source": [
    "ccsm3_res = create_feature(df, 'ccsm3', ccsm3_col, 1, season_group_cols)\n",
    "df = ccsm3_res[0]\n",
    "ccsm3_feature = ccsm3_res[1:]"
   ]
  },
  {
   "cell_type": "code",
   "execution_count": 35,
   "id": "b0a70a47",
   "metadata": {},
   "outputs": [
    {
     "name": "stdout",
     "output_type": "stream",
     "text": [
      "Nan\n",
      "Nan\n",
      "Nan\n"
     ]
    },
    {
     "name": "stderr",
     "output_type": "stream",
     "text": [
      "/data/hieunm/anaconda3/envs/wids-env/lib/python3.7/site-packages/ipykernel_launcher.py:28: PerformanceWarning: DataFrame is highly fragmented.  This is usually the result of calling `frame.insert` many times, which has poor performance.  Consider joining all columns at once using pd.concat(axis=1) instead.  To get a de-fragmented frame, use `newframe = frame.copy()`\n",
      "/data/hieunm/anaconda3/envs/wids-env/lib/python3.7/site-packages/ipykernel_launcher.py:32: PerformanceWarning: DataFrame is highly fragmented.  This is usually the result of calling `frame.insert` many times, which has poor performance.  Consider joining all columns at once using pd.concat(axis=1) instead.  To get a de-fragmented frame, use `newframe = frame.copy()`\n",
      "/data/hieunm/anaconda3/envs/wids-env/lib/python3.7/site-packages/ipykernel_launcher.py:36: PerformanceWarning: DataFrame is highly fragmented.  This is usually the result of calling `frame.insert` many times, which has poor performance.  Consider joining all columns at once using pd.concat(axis=1) instead.  To get a de-fragmented frame, use `newframe = frame.copy()`\n",
      "/data/hieunm/anaconda3/envs/wids-env/lib/python3.7/site-packages/ipykernel_launcher.py:39: PerformanceWarning: DataFrame is highly fragmented.  This is usually the result of calling `frame.insert` many times, which has poor performance.  Consider joining all columns at once using pd.concat(axis=1) instead.  To get a de-fragmented frame, use `newframe = frame.copy()`\n",
      "/data/hieunm/anaconda3/envs/wids-env/lib/python3.7/site-packages/ipykernel_launcher.py:42: PerformanceWarning: DataFrame is highly fragmented.  This is usually the result of calling `frame.insert` many times, which has poor performance.  Consider joining all columns at once using pd.concat(axis=1) instead.  To get a de-fragmented frame, use `newframe = frame.copy()`\n"
     ]
    }
   ],
   "source": [
    "prate_res_month_res = create_feature(df, 'prate_month', prate_col, 1, group_cols)\n",
    "df = prate_res_month_res[0]\n",
    "prate_month_feature = prate_res_month_res[1:]"
   ]
  },
  {
   "cell_type": "code",
   "execution_count": 47,
   "id": "a557ce3e",
   "metadata": {},
   "outputs": [
    {
     "name": "stdout",
     "output_type": "stream",
     "text": [
      "Nan\n",
      "Nan\n",
      "Nan\n"
     ]
    },
    {
     "name": "stderr",
     "output_type": "stream",
     "text": [
      "/data/hieunm/anaconda3/envs/wids-env/lib/python3.7/site-packages/ipykernel_launcher.py:28: PerformanceWarning: DataFrame is highly fragmented.  This is usually the result of calling `frame.insert` many times, which has poor performance.  Consider joining all columns at once using pd.concat(axis=1) instead.  To get a de-fragmented frame, use `newframe = frame.copy()`\n",
      "/data/hieunm/anaconda3/envs/wids-env/lib/python3.7/site-packages/ipykernel_launcher.py:32: PerformanceWarning: DataFrame is highly fragmented.  This is usually the result of calling `frame.insert` many times, which has poor performance.  Consider joining all columns at once using pd.concat(axis=1) instead.  To get a de-fragmented frame, use `newframe = frame.copy()`\n",
      "/data/hieunm/anaconda3/envs/wids-env/lib/python3.7/site-packages/ipykernel_launcher.py:36: PerformanceWarning: DataFrame is highly fragmented.  This is usually the result of calling `frame.insert` many times, which has poor performance.  Consider joining all columns at once using pd.concat(axis=1) instead.  To get a de-fragmented frame, use `newframe = frame.copy()`\n",
      "/data/hieunm/anaconda3/envs/wids-env/lib/python3.7/site-packages/ipykernel_launcher.py:39: PerformanceWarning: DataFrame is highly fragmented.  This is usually the result of calling `frame.insert` many times, which has poor performance.  Consider joining all columns at once using pd.concat(axis=1) instead.  To get a de-fragmented frame, use `newframe = frame.copy()`\n",
      "/data/hieunm/anaconda3/envs/wids-env/lib/python3.7/site-packages/ipykernel_launcher.py:42: PerformanceWarning: DataFrame is highly fragmented.  This is usually the result of calling `frame.insert` many times, which has poor performance.  Consider joining all columns at once using pd.concat(axis=1) instead.  To get a de-fragmented frame, use `newframe = frame.copy()`\n"
     ]
    }
   ],
   "source": [
    "wind_u_15_res_month_res = create_feature(df, 'wind_u_15_month', wind_u_15_col, 1, group_cols)\n",
    "df = wind_u_15_res_month_res[0]\n",
    "wind_u_15_month_feature = wind_u_15_res_month_res[1:]"
   ]
  },
  {
   "cell_type": "code",
   "execution_count": 25,
   "id": "98dcfad1",
   "metadata": {},
   "outputs": [],
   "source": [
    "modified_best_cols = [c for c in best_cols]"
   ]
  },
  {
   "cell_type": "code",
   "execution_count": 26,
   "id": "91271003",
   "metadata": {},
   "outputs": [
    {
     "name": "stderr",
     "output_type": "stream",
     "text": [
      "/data/hieunm/anaconda3/envs/wids-env/lib/python3.7/site-packages/ipykernel_launcher.py:19: PerformanceWarning: DataFrame is highly fragmented.  This is usually the result of calling `frame.insert` many times, which has poor performance.  Consider joining all columns at once using pd.concat(axis=1) instead.  To get a de-fragmented frame, use `newframe = frame.copy()`\n"
     ]
    }
   ],
   "source": [
    "df['sst_1_lag_1'] = df.groupby(group_cols)[sst_1_col].shift(1)\n",
    "df = assign_train_test_df(df, 'sst_1_lag_1')\n",
    "\n",
    "df['sst_1_lag_2'] = df.groupby(group_cols)[sst_1_col].shift(2)\n",
    "df = assign_train_test_df(df, 'sst_1_lag_2')\n",
    "\n",
    "df['sst_1_lag_3'] = df.groupby(group_cols)[sst_1_col].shift(3)\n",
    "df = assign_train_test_df(df, 'sst_1_lag_3')\n",
    "\n",
    "df['sst_5_lag_1'] = df.groupby(group_cols)[sst_5_col].shift(1)\n",
    "df = assign_train_test_df(df, 'sst_5_lag_1')\n",
    "\n",
    "df['sst_3_lag_1'] = df.groupby(group_cols)[sst_3_col].shift(1)\n",
    "df = assign_train_test_df(df, 'sst_3_lag_1')\n",
    "\n",
    "df['sst_4_lag_1'] = df.groupby(group_cols)[sst_4_col].shift(1)\n",
    "df = assign_train_test_df(df, 'sst_4_lag_1')\n",
    "\n",
    "df['sst_6_lag_1'] = df.groupby(group_cols)[sst_6_col].shift(1)\n",
    "df = assign_train_test_df(df, 'sst_6_lag_1')\n"
   ]
  },
  {
   "cell_type": "code",
   "execution_count": 27,
   "id": "72a158df",
   "metadata": {},
   "outputs": [
    {
     "name": "stderr",
     "output_type": "stream",
     "text": [
      "/data/hieunm/anaconda3/envs/wids-env/lib/python3.7/site-packages/ipykernel_launcher.py:1: PerformanceWarning: DataFrame is highly fragmented.  This is usually the result of calling `frame.insert` many times, which has poor performance.  Consider joining all columns at once using pd.concat(axis=1) instead.  To get a de-fragmented frame, use `newframe = frame.copy()`\n",
      "  \"\"\"Entry point for launching an IPython kernel.\n",
      "/data/hieunm/anaconda3/envs/wids-env/lib/python3.7/site-packages/ipykernel_launcher.py:3: PerformanceWarning: DataFrame is highly fragmented.  This is usually the result of calling `frame.insert` many times, which has poor performance.  Consider joining all columns at once using pd.concat(axis=1) instead.  To get a de-fragmented frame, use `newframe = frame.copy()`\n",
      "  This is separate from the ipykernel package so we can avoid doing imports until\n",
      "/data/hieunm/anaconda3/envs/wids-env/lib/python3.7/site-packages/ipykernel_launcher.py:6: PerformanceWarning: DataFrame is highly fragmented.  This is usually the result of calling `frame.insert` many times, which has poor performance.  Consider joining all columns at once using pd.concat(axis=1) instead.  To get a de-fragmented frame, use `newframe = frame.copy()`\n",
      "  \n"
     ]
    }
   ],
   "source": [
    "df['sst_1_lag_1_season'] = df.groupby(season_group_cols)[sst_1_col].shift(1)\n",
    "df = assign_train_test_df(df, 'sst_1_lag_1_season')\n",
    "df['sst_5_lag_1_season'] = df.groupby(season_group_cols)[sst_5_col].shift(1)\n",
    "df = assign_train_test_df(df, 'sst_5_lag_1_season')\n",
    "\n",
    "df['sst_4_lag_1_season'] = df.groupby(season_group_cols)[sst_4_col].shift(1)\n",
    "df = assign_train_test_df(df, 'sst_4_lag_1_season')"
   ]
  },
  {
   "cell_type": "code",
   "execution_count": 28,
   "id": "d52c0ab5",
   "metadata": {},
   "outputs": [],
   "source": [
    "# shift(lag_days).rolling(lag_days).mean()"
   ]
  },
  {
   "cell_type": "code",
   "execution_count": 29,
   "id": "70ebab13",
   "metadata": {},
   "outputs": [
    {
     "name": "stderr",
     "output_type": "stream",
     "text": [
      "/data/hieunm/anaconda3/envs/wids-env/lib/python3.7/site-packages/ipykernel_launcher.py:4: PerformanceWarning: DataFrame is highly fragmented.  This is usually the result of calling `frame.insert` many times, which has poor performance.  Consider joining all columns at once using pd.concat(axis=1) instead.  To get a de-fragmented frame, use `newframe = frame.copy()`\n",
      "  after removing the cwd from sys.path.\n"
     ]
    }
   ],
   "source": [
    "# df['sst_1_rolling_1'] = df.groupby(group_cols)[sst_1_col].shift(1).rolling(1).mean()\n",
    "# df = assign_train_test_df(df, 'sst_1_rolling_1')\n",
    "\n",
    "df['sst_5_rolling_1'] = df.groupby(group_cols)[sst_5_col].shift(1).rolling(1).mean()\n",
    "df = assign_train_test_df(df, 'sst_5_rolling_1')"
   ]
  },
  {
   "cell_type": "code",
   "execution_count": null,
   "id": "3c2b841f",
   "metadata": {},
   "outputs": [],
   "source": []
  },
  {
   "cell_type": "code",
   "execution_count": 48,
   "id": "975a1268",
   "metadata": {},
   "outputs": [],
   "source": [
    "features = modified_best_cols + pres_feature + wind_u_15_month_feature + ccsm3_month_feature + sst_1_month_feature + ['sst_1_lag_1', 'sst_5_lag_1', 'sst_4_lag_1', 'sst_1_lag_1_season', 'sst_5_lag_1_season', \n",
    "                                                                     'sst_4_lag_1_season']"
   ]
  },
  {
   "cell_type": "code",
   "execution_count": 42,
   "id": "06fde566",
   "metadata": {},
   "outputs": [],
   "source": [
    "test_df['index'] = add_test['index']"
   ]
  },
  {
   "cell_type": "code",
   "execution_count": 43,
   "id": "f97c8fd2",
   "metadata": {},
   "outputs": [],
   "source": [
    "# train_df[features + target].to_csv('best_train.csv', index=False)\n",
    "# test_df[features + ['index']].to_csv('best_test.csv', index=False)"
   ]
  },
  {
   "cell_type": "code",
   "execution_count": 50,
   "id": "f9b47290",
   "metadata": {},
   "outputs": [
    {
     "data": {
      "text/plain": [
       "['contest-wind-h500-14d__wind-hgt-500',\n",
       " 'contest-slp-14d__slp',\n",
       " 'nmme-tmp2m-34w__ccsm3',\n",
       " 'elevation__elevation',\n",
       " 'lon',\n",
       " 'contest-prwtr-eatm-14d__prwtr',\n",
       " 'lat',\n",
       " 'climateregions__climateregion',\n",
       " 'contest-pres-sfc-gauss-14d__pres',\n",
       " 'season_sin',\n",
       " 'day_of_year_sin',\n",
       " 'contest-precip-14d__precip',\n",
       " 'contest-wind-uwnd-250-14d__wind-uwnd-250',\n",
       " 'nmme-prate-34w__cfsv2',\n",
       " 'nmme-prate-34w__nasa',\n",
       " 'nmme-prate-56w__gfdlflora',\n",
       " 'wind-uwnd-250-2010-7',\n",
       " 'contest-wind-vwnd-925-14d__wind-vwnd-925',\n",
       " 'nmme-prate-34w__nmmemean',\n",
       " 'nmme0-prate-34w__ccsm30',\n",
       " 'contest-wind-h850-14d__wind-hgt-850',\n",
       " 'contest-wind-uwnd-925-14d__wind-uwnd-925',\n",
       " 'nmme0-prate-56w__cfsv20',\n",
       " 'nmme-prate-34w__cancm3',\n",
       " 'contest-rhum-sig995-14d__rhum',\n",
       " 'nmme-prate-34w__gfdlflorb',\n",
       " 'wind-hgt-850-2010-4',\n",
       " 'contest-wind-vwnd-250-14d__wind-vwnd-250',\n",
       " 'wind-hgt-100-2010-2',\n",
       " 'wind-uwnd-250-2010-18',\n",
       " 'wind-hgt-10-2010-5',\n",
       " 'wind-uwnd-250-2010-15',\n",
       " 'wind-uwnd-250-2010-4',\n",
       " 'nmme0-prate-56w__nasa0',\n",
       " 'nmme0-prate-34w__cfsv20',\n",
       " 'wind-vwnd-250-2010-10',\n",
       " 'contest-wind-h10-14d__wind-hgt-10',\n",
       " 'wind-uwnd-925-2010-15',\n",
       " 'wind-vwnd-250-2010-3',\n",
       " 'nmme-prate-34w__cancm4',\n",
       " 'sst-2010-4',\n",
       " 'nmme0-prate-56w__ccsm30',\n",
       " 'wind-uwnd-250-2010-16',\n",
       " 'nmme0-prate-34w__gfdl0',\n",
       " 'nmme0-prate-56w__cancm40',\n",
       " 'sst-2010-1',\n",
       " 'sst-2010-3',\n",
       " 'wind-uwnd-250-2010-14',\n",
       " 'nmme0-prate-34w__gfdlflora0',\n",
       " 'nmme-prate-34w__gfdl',\n",
       " 'wind-hgt-850-2010-9',\n",
       " 'wind-vwnd-250-2010-1',\n",
       " 'sst-2010-5',\n",
       " 'cancm30',\n",
       " 'nmme-prate-34w__ccsm4',\n",
       " 'nmme0-prate-34w__nasa0',\n",
       " 'wind-hgt-500-2010-9',\n",
       " 'nmme0-prate-34w__cancm30',\n",
       " 'wind-vwnd-250-2010-13',\n",
       " 'wind_diff',\n",
       " 'wind_diff_min',\n",
       " 'wind_diff_min_month',\n",
       " 'wind_diff_month',\n",
       " 'diff_slp_first',\n",
       " 'diff_wind_first',\n",
       " 'diff_precip_first',\n",
       " 'diff_sst_10_first',\n",
       " 'diff_sst_10_min',\n",
       " 'diff_sst_10_max',\n",
       " 'range_sst_10',\n",
       " 'scale_sst_10',\n",
       " 'diff_sst_9_first',\n",
       " 'diff_sst_9_min',\n",
       " 'diff_sst_9_max',\n",
       " 'range_sst_9',\n",
       " 'scale_sst_9',\n",
       " 'diff_sst_8_first',\n",
       " 'diff_sst_8_min',\n",
       " 'diff_sst_8_max',\n",
       " 'range_sst_8',\n",
       " 'scale_sst_8',\n",
       " 'diff_sst_7_first',\n",
       " 'diff_sst_7_min',\n",
       " 'diff_sst_7_max',\n",
       " 'range_sst_7',\n",
       " 'scale_sst_7',\n",
       " 'diff_sst_6_first',\n",
       " 'diff_sst_6_min',\n",
       " 'diff_sst_6_max',\n",
       " 'range_sst_6',\n",
       " 'scale_sst_6',\n",
       " 'diff_sst_1_first',\n",
       " 'diff_sst_1_min',\n",
       " 'diff_sst_1_max',\n",
       " 'range_sst_1',\n",
       " 'scale_sst_1',\n",
       " 'diff_sst_2_first',\n",
       " 'diff_sst_2_min',\n",
       " 'diff_sst_2_max',\n",
       " 'range_sst_2',\n",
       " 'scale_sst_2',\n",
       " 'diff_sst_3_first',\n",
       " 'diff_sst_3_min',\n",
       " 'diff_sst_3_max',\n",
       " 'range_sst_3',\n",
       " 'scale_sst_3',\n",
       " 'diff_sst_4_first',\n",
       " 'diff_sst_4_min',\n",
       " 'diff_sst_4_max',\n",
       " 'range_sst_4',\n",
       " 'scale_sst_4',\n",
       " 'diff_sst_5_first',\n",
       " 'diff_sst_5_min',\n",
       " 'diff_sst_5_max',\n",
       " 'range_sst_5',\n",
       " 'scale_sst_5',\n",
       " 'diff_pres_1_first',\n",
       " 'diff_pres_1_min',\n",
       " 'diff_pres_1_max',\n",
       " 'range_pres_1',\n",
       " 'scale_pres_1',\n",
       " 'diff_wind_u_15_month_1_first',\n",
       " 'diff_wind_u_15_month_1_min',\n",
       " 'diff_wind_u_15_month_1_max',\n",
       " 'range_wind_u_15_month_1',\n",
       " 'scale_wind_u_15_month_1',\n",
       " 'diff_ccsm3_month_1_first',\n",
       " 'diff_ccsm3_month_1_min',\n",
       " 'diff_ccsm3_month_1_max',\n",
       " 'range_ccsm3_month_1',\n",
       " 'scale_ccsm3_month_1',\n",
       " 'diff_sst_1_month_1_first',\n",
       " 'diff_sst_1_month_1_min',\n",
       " 'diff_sst_1_month_1_max',\n",
       " 'range_sst_1_month_1',\n",
       " 'scale_sst_1_month_1',\n",
       " 'sst_1_lag_1',\n",
       " 'sst_5_lag_1',\n",
       " 'sst_4_lag_1',\n",
       " 'sst_1_lag_1_season',\n",
       " 'sst_5_lag_1_season',\n",
       " 'sst_4_lag_1_season']"
      ]
     },
     "execution_count": 50,
     "metadata": {},
     "output_type": "execute_result"
    }
   ],
   "source": [
    "features"
   ]
  },
  {
   "cell_type": "code",
   "execution_count": 49,
   "id": "06cb415e",
   "metadata": {},
   "outputs": [
    {
     "name": "stderr",
     "output_type": "stream",
     "text": [
      "5it [00:01,  3.13it/s]\n"
     ]
    },
    {
     "name": "stdout",
     "output_type": "stream",
     "text": [
      "(375734, 142) (375734,)\n"
     ]
    },
    {
     "name": "stderr",
     "output_type": "stream",
     "text": [
      "  0%|                                                                                                | 0/5 [00:00<?, ?it/s]Warning: less than 75% gpu memory available for training. Free: 3423.5625 Total: 24268.3125\n"
     ]
    },
    {
     "name": "stdout",
     "output_type": "stream",
     "text": [
      "Learning rate set to 0.072699\n",
      "0:\tlearn: 9.2611105\ttest: 9.2407165\tbest: 9.2407165 (0)\ttotal: 57.6ms\tremaining: 4m 48s\n",
      "200:\tlearn: 1.1760468\ttest: 1.1818377\tbest: 1.1818377 (200)\ttotal: 11.8s\tremaining: 4m 42s\n",
      "400:\tlearn: 0.9085981\ttest: 0.9181534\tbest: 0.9181534 (400)\ttotal: 22.7s\tremaining: 4m 20s\n",
      "600:\tlearn: 0.7847603\ttest: 0.7959277\tbest: 0.7959277 (600)\ttotal: 34s\tremaining: 4m 8s\n",
      "800:\tlearn: 0.7018742\ttest: 0.7149773\tbest: 0.7149773 (800)\ttotal: 47.3s\tremaining: 4m 7s\n",
      "1000:\tlearn: 0.6425029\ttest: 0.6568397\tbest: 0.6568397 (1000)\ttotal: 58.7s\tremaining: 3m 54s\n",
      "1200:\tlearn: 0.5981353\ttest: 0.6134525\tbest: 0.6134525 (1200)\ttotal: 1m 10s\tremaining: 3m 41s\n",
      "1400:\tlearn: 0.5614097\ttest: 0.5779157\tbest: 0.5779157 (1400)\ttotal: 1m 21s\tremaining: 3m 29s\n",
      "1600:\tlearn: 0.5327531\ttest: 0.5502827\tbest: 0.5502827 (1600)\ttotal: 1m 33s\tremaining: 3m 18s\n",
      "1800:\tlearn: 0.5072888\ttest: 0.5256050\tbest: 0.5256050 (1800)\ttotal: 1m 36s\tremaining: 2m 50s\n",
      "2000:\tlearn: 0.4859266\ttest: 0.5051571\tbest: 0.5051571 (2000)\ttotal: 1m 37s\tremaining: 2m 25s\n",
      "2200:\tlearn: 0.4671033\ttest: 0.4873008\tbest: 0.4873008 (2200)\ttotal: 1m 38s\tremaining: 2m 4s\n",
      "2400:\tlearn: 0.4495830\ttest: 0.4705525\tbest: 0.4705525 (2400)\ttotal: 1m 39s\tremaining: 1m 47s\n",
      "2600:\tlearn: 0.4334126\ttest: 0.4552202\tbest: 0.4552202 (2600)\ttotal: 1m 44s\tremaining: 1m 36s\n",
      "2800:\tlearn: 0.4198147\ttest: 0.4423661\tbest: 0.4423661 (2800)\ttotal: 1m 56s\tremaining: 1m 31s\n",
      "3000:\tlearn: 0.4074193\ttest: 0.4306621\tbest: 0.4306621 (3000)\ttotal: 2m 7s\tremaining: 1m 24s\n",
      "3200:\tlearn: 0.3959539\ttest: 0.4198816\tbest: 0.4198816 (3200)\ttotal: 2m 19s\tremaining: 1m 18s\n",
      "3400:\tlearn: 0.3850419\ttest: 0.4097282\tbest: 0.4097282 (3400)\ttotal: 2m 28s\tremaining: 1m 9s\n",
      "3600:\tlearn: 0.3755867\ttest: 0.4008851\tbest: 0.4008851 (3600)\ttotal: 2m 39s\tremaining: 1m 2s\n",
      "3800:\tlearn: 0.3669305\ttest: 0.3927899\tbest: 0.3927899 (3800)\ttotal: 2m 50s\tremaining: 53.9s\n",
      "4000:\tlearn: 0.3588646\ttest: 0.3852955\tbest: 0.3852955 (4000)\ttotal: 3m 2s\tremaining: 45.5s\n",
      "4200:\tlearn: 0.3509002\ttest: 0.3779104\tbest: 0.3779104 (4200)\ttotal: 3m 13s\tremaining: 36.9s\n",
      "4400:\tlearn: 0.3431933\ttest: 0.3708120\tbest: 0.3708120 (4400)\ttotal: 3m 25s\tremaining: 28s\n",
      "4600:\tlearn: 0.3361390\ttest: 0.3643248\tbest: 0.3643248 (4600)\ttotal: 3m 37s\tremaining: 18.8s\n",
      "4800:\tlearn: 0.3297279\ttest: 0.3584717\tbest: 0.3584717 (4800)\ttotal: 3m 48s\tremaining: 9.48s\n",
      "4999:\tlearn: 0.3238948\ttest: 0.3531343\tbest: 0.3531343 (4999)\ttotal: 4m\tremaining: 0us\n",
      "bestTest = 0.353134321\n",
      "bestIteration = 4999\n"
     ]
    },
    {
     "name": "stderr",
     "output_type": "stream",
     "text": [
      " 20%|█████████████████▍                                                                     | 1/5 [04:15<17:00, 255.21s/it]Warning: less than 75% gpu memory available for training. Free: 3423.5625 Total: 24268.3125\n"
     ]
    },
    {
     "name": "stdout",
     "output_type": "stream",
     "text": [
      "Learning rate set to 0.072699\n",
      "0:\tlearn: 9.2537635\ttest: 9.2717026\tbest: 9.2717026 (0)\ttotal: 97.8ms\tremaining: 8m 8s\n",
      "200:\tlearn: 1.1711324\ttest: 1.1727004\tbest: 1.1727004 (200)\ttotal: 11.7s\tremaining: 4m 39s\n",
      "400:\tlearn: 0.9086397\ttest: 0.9129510\tbest: 0.9129510 (400)\ttotal: 22.4s\tremaining: 4m 16s\n",
      "600:\tlearn: 0.7797480\ttest: 0.7869307\tbest: 0.7869307 (600)\ttotal: 33.9s\tremaining: 4m 7s\n",
      "800:\tlearn: 0.6990665\ttest: 0.7084331\tbest: 0.7084331 (800)\ttotal: 45.7s\tremaining: 3m 59s\n",
      "1000:\tlearn: 0.6379754\ttest: 0.6493415\tbest: 0.6493415 (1000)\ttotal: 57s\tremaining: 3m 47s\n",
      "1200:\tlearn: 0.5943255\ttest: 0.6070967\tbest: 0.6070967 (1200)\ttotal: 1m 8s\tremaining: 3m 36s\n",
      "1400:\tlearn: 0.5576597\ttest: 0.5719682\tbest: 0.5719682 (1400)\ttotal: 1m 19s\tremaining: 3m 23s\n",
      "1600:\tlearn: 0.5299773\ttest: 0.5453746\tbest: 0.5453746 (1600)\ttotal: 1m 29s\tremaining: 3m 10s\n",
      "1800:\tlearn: 0.5048610\ttest: 0.5213985\tbest: 0.5213985 (1800)\ttotal: 1m 41s\tremaining: 2m 59s\n",
      "2000:\tlearn: 0.4831019\ttest: 0.5007035\tbest: 0.5007035 (2000)\ttotal: 1m 52s\tremaining: 2m 48s\n",
      "2200:\tlearn: 0.4646504\ttest: 0.4831737\tbest: 0.4831737 (2200)\ttotal: 2m 3s\tremaining: 2m 37s\n",
      "2400:\tlearn: 0.4473535\ttest: 0.4668884\tbest: 0.4668884 (2400)\ttotal: 2m 15s\tremaining: 2m 26s\n",
      "2600:\tlearn: 0.4322247\ttest: 0.4526231\tbest: 0.4526231 (2600)\ttotal: 2m 26s\tremaining: 2m 15s\n",
      "2800:\tlearn: 0.4186871\ttest: 0.4398711\tbest: 0.4398711 (2800)\ttotal: 2m 37s\tremaining: 2m 3s\n",
      "3000:\tlearn: 0.4063312\ttest: 0.4283662\tbest: 0.4283662 (3000)\ttotal: 2m 49s\tremaining: 1m 52s\n",
      "3200:\tlearn: 0.3954744\ttest: 0.4182517\tbest: 0.4182517 (3200)\ttotal: 3m\tremaining: 1m 41s\n",
      "3400:\tlearn: 0.3850174\ttest: 0.4085612\tbest: 0.4085612 (3400)\ttotal: 3m 10s\tremaining: 1m 29s\n",
      "3600:\tlearn: 0.3750639\ttest: 0.3992708\tbest: 0.3992708 (3600)\ttotal: 3m 22s\tremaining: 1m 18s\n",
      "3800:\tlearn: 0.3660057\ttest: 0.3908667\tbest: 0.3908667 (3800)\ttotal: 3m 32s\tremaining: 1m 7s\n",
      "4000:\tlearn: 0.3573489\ttest: 0.3828072\tbest: 0.3828072 (4000)\ttotal: 3m 44s\tremaining: 55.9s\n",
      "4200:\tlearn: 0.3494800\ttest: 0.3755827\tbest: 0.3755827 (4200)\ttotal: 3m 55s\tremaining: 44.8s\n",
      "4400:\tlearn: 0.3425685\ttest: 0.3692708\tbest: 0.3692708 (4400)\ttotal: 4m 6s\tremaining: 33.6s\n",
      "4600:\tlearn: 0.3358895\ttest: 0.3630847\tbest: 0.3630847 (4600)\ttotal: 4m 18s\tremaining: 22.4s\n",
      "4800:\tlearn: 0.3290314\ttest: 0.3567659\tbest: 0.3567659 (4800)\ttotal: 4m 29s\tremaining: 11.2s\n",
      "4999:\tlearn: 0.3226902\ttest: 0.3508898\tbest: 0.3508898 (4999)\ttotal: 4m 40s\tremaining: 0us\n",
      "bestTest = 0.3508898183\n",
      "bestIteration = 4999\n"
     ]
    },
    {
     "name": "stderr",
     "output_type": "stream",
     "text": [
      " 40%|██████████████████████████████████▊                                                    | 2/5 [09:10<13:56, 278.88s/it]Warning: less than 75% gpu memory available for training. Free: 3423.5625 Total: 24268.3125\n"
     ]
    },
    {
     "name": "stdout",
     "output_type": "stream",
     "text": [
      "Learning rate set to 0.072699\n",
      "0:\tlearn: 9.2531718\ttest: 9.2855747\tbest: 9.2855747 (0)\ttotal: 172ms\tremaining: 14m 18s\n",
      "200:\tlearn: 1.1751277\ttest: 1.1770393\tbest: 1.1770393 (200)\ttotal: 11.1s\tremaining: 4m 24s\n",
      "400:\tlearn: 0.9125826\ttest: 0.9207603\tbest: 0.9207603 (400)\ttotal: 22.1s\tremaining: 4m 12s\n",
      "600:\tlearn: 0.7797022\ttest: 0.7904848\tbest: 0.7904848 (600)\ttotal: 33.1s\tremaining: 4m 2s\n",
      "800:\tlearn: 0.6976281\ttest: 0.7104150\tbest: 0.7104150 (800)\ttotal: 44.8s\tremaining: 3m 54s\n",
      "1000:\tlearn: 0.6367146\ttest: 0.6511236\tbest: 0.6511236 (1000)\ttotal: 57.2s\tremaining: 3m 48s\n",
      "1200:\tlearn: 0.5932300\ttest: 0.6086857\tbest: 0.6086857 (1200)\ttotal: 1m 9s\tremaining: 3m 40s\n",
      "1400:\tlearn: 0.5573583\ttest: 0.5740316\tbest: 0.5740316 (1400)\ttotal: 1m 20s\tremaining: 3m 25s\n",
      "1600:\tlearn: 0.5287132\ttest: 0.5463288\tbest: 0.5463288 (1600)\ttotal: 1m 31s\tremaining: 3m 15s\n",
      "1800:\tlearn: 0.5056588\ttest: 0.5240023\tbest: 0.5240023 (1800)\ttotal: 1m 41s\tremaining: 3m 1s\n",
      "2000:\tlearn: 0.4825651\ttest: 0.5014178\tbest: 0.5014178 (2000)\ttotal: 1m 53s\tremaining: 2m 49s\n",
      "2200:\tlearn: 0.4641553\ttest: 0.4836818\tbest: 0.4836818 (2200)\ttotal: 2m 5s\tremaining: 2m 38s\n",
      "2400:\tlearn: 0.4472757\ttest: 0.4675390\tbest: 0.4675390 (2400)\ttotal: 2m 15s\tremaining: 2m 27s\n",
      "2600:\tlearn: 0.4324990\ttest: 0.4531653\tbest: 0.4531653 (2600)\ttotal: 2m 26s\tremaining: 2m 15s\n",
      "2800:\tlearn: 0.4188322\ttest: 0.4400207\tbest: 0.4400207 (2800)\ttotal: 2m 38s\tremaining: 2m 4s\n",
      "3000:\tlearn: 0.4062553\ttest: 0.4279910\tbest: 0.4279910 (3000)\ttotal: 2m 49s\tremaining: 1m 52s\n",
      "3200:\tlearn: 0.3947041\ttest: 0.4169653\tbest: 0.4169653 (3200)\ttotal: 3m 1s\tremaining: 1m 41s\n",
      "3400:\tlearn: 0.3843626\ttest: 0.4070594\tbest: 0.4070594 (3400)\ttotal: 3m 12s\tremaining: 1m 30s\n",
      "3600:\tlearn: 0.3747518\ttest: 0.3978839\tbest: 0.3978839 (3600)\ttotal: 3m 24s\tremaining: 1m 19s\n",
      "3800:\tlearn: 0.3657132\ttest: 0.3893667\tbest: 0.3893667 (3800)\ttotal: 3m 35s\tremaining: 1m 8s\n",
      "4000:\tlearn: 0.3568514\ttest: 0.3809394\tbest: 0.3809394 (4000)\ttotal: 3m 45s\tremaining: 56.2s\n",
      "4200:\tlearn: 0.3489383\ttest: 0.3734947\tbest: 0.3734947 (4200)\ttotal: 3m 47s\tremaining: 43.3s\n",
      "4400:\tlearn: 0.3415631\ttest: 0.3665389\tbest: 0.3665389 (4400)\ttotal: 3m 48s\tremaining: 31.2s\n",
      "4600:\tlearn: 0.3344465\ttest: 0.3599377\tbest: 0.3599377 (4600)\ttotal: 3m 49s\tremaining: 19.9s\n",
      "4800:\tlearn: 0.3279934\ttest: 0.3540874\tbest: 0.3540874 (4800)\ttotal: 3m 51s\tremaining: 9.58s\n",
      "4999:\tlearn: 0.3220512\ttest: 0.3485997\tbest: 0.3485997 (4999)\ttotal: 3m 59s\tremaining: 0us\n",
      "bestTest = 0.3485997207\n",
      "bestIteration = 4999\n"
     ]
    },
    {
     "name": "stderr",
     "output_type": "stream",
     "text": [
      " 60%|████████████████████████████████████████████████████▏                                  | 3/5 [13:25<08:55, 267.78s/it]Warning: less than 75% gpu memory available for training. Free: 3423.5625 Total: 24268.3125\n"
     ]
    },
    {
     "name": "stdout",
     "output_type": "stream",
     "text": [
      "Learning rate set to 0.072699\n",
      "0:\tlearn: 9.2604847\ttest: 9.2566518\tbest: 9.2566518 (0)\ttotal: 24.8ms\tremaining: 2m 4s\n",
      "200:\tlearn: 1.1687191\ttest: 1.1837023\tbest: 1.1837023 (200)\ttotal: 12.2s\tremaining: 4m 50s\n",
      "400:\tlearn: 0.9182600\ttest: 0.9333887\tbest: 0.9333887 (400)\ttotal: 23.5s\tremaining: 4m 29s\n",
      "600:\tlearn: 0.7871354\ttest: 0.8017218\tbest: 0.8017218 (600)\ttotal: 35.4s\tremaining: 4m 19s\n",
      "800:\tlearn: 0.7033155\ttest: 0.7184028\tbest: 0.7184028 (800)\ttotal: 46.9s\tremaining: 4m 6s\n",
      "1000:\tlearn: 0.6426033\ttest: 0.6587082\tbest: 0.6587082 (1000)\ttotal: 59.4s\tremaining: 3m 57s\n",
      "1200:\tlearn: 0.5975320\ttest: 0.6142107\tbest: 0.6142107 (1200)\ttotal: 1m 11s\tremaining: 3m 47s\n",
      "1400:\tlearn: 0.5618398\ttest: 0.5793606\tbest: 0.5793606 (1400)\ttotal: 1m 23s\tremaining: 3m 35s\n",
      "1600:\tlearn: 0.5322214\ttest: 0.5506682\tbest: 0.5506682 (1600)\ttotal: 1m 35s\tremaining: 3m 22s\n",
      "1800:\tlearn: 0.5081946\ttest: 0.5274060\tbest: 0.5274060 (1800)\ttotal: 1m 46s\tremaining: 3m 9s\n",
      "2000:\tlearn: 0.4855691\ttest: 0.5054256\tbest: 0.5054256 (2000)\ttotal: 1m 58s\tremaining: 2m 57s\n",
      "2200:\tlearn: 0.4660804\ttest: 0.4868630\tbest: 0.4868630 (2200)\ttotal: 2m 10s\tremaining: 2m 46s\n",
      "2400:\tlearn: 0.4498590\ttest: 0.4714002\tbest: 0.4714002 (2400)\ttotal: 2m 22s\tremaining: 2m 34s\n",
      "2600:\tlearn: 0.4343248\ttest: 0.4565451\tbest: 0.4565451 (2600)\ttotal: 2m 36s\tremaining: 2m 24s\n",
      "2800:\tlearn: 0.4207221\ttest: 0.4437290\tbest: 0.4437290 (2800)\ttotal: 2m 46s\tremaining: 2m 11s\n",
      "3000:\tlearn: 0.4087315\ttest: 0.4324290\tbest: 0.4324290 (3000)\ttotal: 2m 58s\tremaining: 1m 59s\n",
      "3200:\tlearn: 0.3976077\ttest: 0.4220331\tbest: 0.4220331 (3200)\ttotal: 3m 10s\tremaining: 1m 46s\n",
      "3400:\tlearn: 0.3868155\ttest: 0.4116749\tbest: 0.4116749 (3400)\ttotal: 3m 21s\tremaining: 1m 34s\n",
      "3600:\tlearn: 0.3770909\ttest: 0.4025248\tbest: 0.4025248 (3600)\ttotal: 3m 33s\tremaining: 1m 23s\n",
      "3800:\tlearn: 0.3678723\ttest: 0.3938238\tbest: 0.3938238 (3800)\ttotal: 3m 45s\tremaining: 1m 11s\n",
      "4000:\tlearn: 0.3591227\ttest: 0.3856279\tbest: 0.3856279 (4000)\ttotal: 3m 56s\tremaining: 59s\n",
      "4200:\tlearn: 0.3514846\ttest: 0.3785888\tbest: 0.3785888 (4200)\ttotal: 4m 8s\tremaining: 47.2s\n",
      "4400:\tlearn: 0.3441894\ttest: 0.3718570\tbest: 0.3718570 (4400)\ttotal: 4m 20s\tremaining: 35.5s\n",
      "4600:\tlearn: 0.3373766\ttest: 0.3654394\tbest: 0.3654394 (4600)\ttotal: 4m 34s\tremaining: 23.8s\n",
      "4800:\tlearn: 0.3306545\ttest: 0.3592290\tbest: 0.3592290 (4800)\ttotal: 4m 46s\tremaining: 11.9s\n",
      "4999:\tlearn: 0.3244149\ttest: 0.3534395\tbest: 0.3534395 (4999)\ttotal: 4m 56s\tremaining: 0us\n",
      "bestTest = 0.3534395008\n",
      "bestIteration = 4999\n"
     ]
    },
    {
     "name": "stderr",
     "output_type": "stream",
     "text": [
      " 80%|█████████████████████████████████████████████████████████████████████▌                 | 4/5 [18:37<04:45, 285.42s/it]Warning: less than 75% gpu memory available for training. Free: 3423.5625 Total: 24268.3125\n"
     ]
    },
    {
     "name": "stdout",
     "output_type": "stream",
     "text": [
      "Learning rate set to 0.072699\n",
      "0:\tlearn: 9.2625918\ttest: 9.2370575\tbest: 9.2370575 (0)\ttotal: 38.7ms\tremaining: 3m 13s\n",
      "200:\tlearn: 1.1664991\ttest: 1.1713875\tbest: 1.1713875 (200)\ttotal: 12.2s\tremaining: 4m 52s\n",
      "400:\tlearn: 0.9061701\ttest: 0.9135559\tbest: 0.9135559 (400)\ttotal: 24.6s\tremaining: 4m 42s\n",
      "600:\tlearn: 0.7821713\ttest: 0.7912711\tbest: 0.7912711 (600)\ttotal: 36.6s\tremaining: 4m 27s\n",
      "800:\tlearn: 0.6948045\ttest: 0.7059088\tbest: 0.7059088 (800)\ttotal: 48.6s\tremaining: 4m 14s\n",
      "1000:\tlearn: 0.6346690\ttest: 0.6472426\tbest: 0.6472426 (1000)\ttotal: 1m\tremaining: 4m 2s\n",
      "1200:\tlearn: 0.5909687\ttest: 0.6048464\tbest: 0.6048464 (1200)\ttotal: 1m 12s\tremaining: 3m 48s\n",
      "1400:\tlearn: 0.5570974\ttest: 0.5720013\tbest: 0.5720013 (1400)\ttotal: 1m 24s\tremaining: 3m 35s\n",
      "1600:\tlearn: 0.5291576\ttest: 0.5451149\tbest: 0.5451149 (1600)\ttotal: 1m 34s\tremaining: 3m 21s\n",
      "1800:\tlearn: 0.5044536\ttest: 0.5216983\tbest: 0.5216983 (1800)\ttotal: 1m 46s\tremaining: 3m 9s\n",
      "2000:\tlearn: 0.4827365\ttest: 0.5010491\tbest: 0.5010491 (2000)\ttotal: 1m 58s\tremaining: 2m 57s\n",
      "2200:\tlearn: 0.4627859\ttest: 0.4821110\tbest: 0.4821110 (2200)\ttotal: 2m 9s\tremaining: 2m 45s\n",
      "2400:\tlearn: 0.4458644\ttest: 0.4659540\tbest: 0.4659540 (2400)\ttotal: 2m 22s\tremaining: 2m 34s\n",
      "2600:\tlearn: 0.4309421\ttest: 0.4518068\tbest: 0.4518068 (2600)\ttotal: 2m 34s\tremaining: 2m 22s\n",
      "2800:\tlearn: 0.4174642\ttest: 0.4392264\tbest: 0.4392264 (2800)\ttotal: 2m 45s\tremaining: 2m 10s\n",
      "3000:\tlearn: 0.4050146\ttest: 0.4273483\tbest: 0.4273483 (3000)\ttotal: 2m 57s\tremaining: 1m 57s\n",
      "3200:\tlearn: 0.3934741\ttest: 0.4164327\tbest: 0.4164327 (3200)\ttotal: 3m 9s\tremaining: 1m 46s\n",
      "3400:\tlearn: 0.3828320\ttest: 0.4063495\tbest: 0.4063495 (3400)\ttotal: 3m 22s\tremaining: 1m 34s\n",
      "3600:\tlearn: 0.3733505\ttest: 0.3975622\tbest: 0.3975622 (3600)\ttotal: 3m 33s\tremaining: 1m 22s\n",
      "3800:\tlearn: 0.3642377\ttest: 0.3890249\tbest: 0.3890249 (3800)\ttotal: 3m 45s\tremaining: 1m 11s\n",
      "4000:\tlearn: 0.3558761\ttest: 0.3812753\tbest: 0.3812753 (4000)\ttotal: 3m 56s\tremaining: 59.1s\n",
      "4200:\tlearn: 0.3483246\ttest: 0.3743603\tbest: 0.3743603 (4200)\ttotal: 4m 8s\tremaining: 47.2s\n",
      "4400:\tlearn: 0.3410351\ttest: 0.3676769\tbest: 0.3676769 (4400)\ttotal: 4m 19s\tremaining: 35.3s\n",
      "4600:\tlearn: 0.3342697\ttest: 0.3614187\tbest: 0.3614187 (4600)\ttotal: 4m 31s\tremaining: 23.6s\n",
      "4800:\tlearn: 0.3270215\ttest: 0.3547589\tbest: 0.3547589 (4800)\ttotal: 4m 43s\tremaining: 11.8s\n",
      "4999:\tlearn: 0.3212466\ttest: 0.3494394\tbest: 0.3494394 (4999)\ttotal: 4m 55s\tremaining: 0us\n",
      "bestTest = 0.3494394391\n",
      "bestIteration = 4999\n"
     ]
    },
    {
     "name": "stderr",
     "output_type": "stream",
     "text": [
      "100%|███████████████████████████████████████████████████████████████████████████████████████| 5/5 [23:48<00:00, 285.70s/it]\n",
      "100%|████████████████████████████████████████████████████████████████████████████████████████| 5/5 [00:00<00:00, 13.40it/s]\n"
     ]
    },
    {
     "name": "stdout",
     "output_type": "stream",
     "text": [
      "cos_sim with best submission: 0.9999045967745356\n"
     ]
    }
   ],
   "source": [
    "X = train_df[features].values\n",
    "y = train_df[target[0]].values\n",
    "\n",
    "skf = KFold(n_splits=5, random_state=2048, shuffle=True)\n",
    "skf.get_n_splits(X, y)\n",
    "\n",
    "train_index_list = []\n",
    "test_index_list = []\n",
    "train_x_list = []\n",
    "val_x_list = []\n",
    "train_y_list = []\n",
    "val_y_list = []\n",
    "\n",
    "for i, (train_index, test_index) in tqdm(enumerate(skf.split(X, y))):\n",
    "    train_index_list.append(train_index)\n",
    "    test_index_list.append(test_index)\n",
    "\n",
    "    train_x_list.append(X[train_index, :])\n",
    "    val_x_list.append(X[test_index, :])\n",
    "    train_y_list.append(y[train_index])\n",
    "    val_y_list.append(y[test_index]) \n",
    "    \n",
    "   \n",
    "def train_catboost(x, y):\n",
    "    print(x.shape, y.shape)\n",
    "    \n",
    "    cat_models = []\n",
    "    for i in tqdm(range(5)):\n",
    "        train_x, val_x = train_x_list[i], val_x_list[i]\n",
    "        train_y, val_y = train_y_list[i], val_y_list[i]\n",
    "        \n",
    "        clf = CatBoostRegressor(verbose=200, task_type=\"GPU\",\n",
    "                           devices='0:1', \n",
    "                \n",
    "                                        iterations=5000,\n",
    "                                        use_best_model=True,\n",
    "                                       \n",
    "                                        od_type='iter',\n",
    "                                        od_wait=50,\n",
    "                                      )\n",
    "        clf.fit(train_x, train_y, eval_set=[(val_x, val_y)], verbose=200, early_stopping_rounds=100)\n",
    "        cat_models.append(clf)\n",
    "    \n",
    "    return cat_models\n",
    "cat_models = train_catboost(X, y)\n",
    "\n",
    "preds = []\n",
    "for cat_model in tqdm(cat_models):\n",
    "    preds.append(cat_model.predict(test_df[features].values))\n",
    "s = 0\n",
    "for pred in preds:\n",
    "    s += pred\n",
    "s = s/5\n",
    "res_df = pd.read_csv('./sample_solution.csv')\n",
    "res_df['contest-tmp2m-14d__tmp2m'] = s\n",
    "res_df.to_csv('submission_fe_v10.csv', index=False)\n",
    "\n",
    "best_df = pd.read_csv('best_sub.csv')\n",
    "y_best = best_df[target[0]].values\n",
    "\n",
    "from numpy import dot\n",
    "from numpy.linalg import norm\n",
    "\n",
    "cos_sim = dot(y_best, s)/(norm(y_best)*norm(s))\n",
    "print(\"cos_sim with best submission:\", cos_sim)"
   ]
  },
  {
   "cell_type": "code",
   "execution_count": null,
   "id": "5cfa9540",
   "metadata": {},
   "outputs": [],
   "source": []
  }
 ],
 "metadata": {
  "kernelspec": {
   "display_name": "wids-env",
   "language": "python",
   "name": "wids-env"
  },
  "language_info": {
   "codemirror_mode": {
    "name": "ipython",
    "version": 3
   },
   "file_extension": ".py",
   "mimetype": "text/x-python",
   "name": "python",
   "nbconvert_exporter": "python",
   "pygments_lexer": "ipython3",
   "version": "3.7.15"
  }
 },
 "nbformat": 4,
 "nbformat_minor": 5
}
