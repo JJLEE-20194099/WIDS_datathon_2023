{
 "cells": [
  {
   "cell_type": "code",
   "execution_count": 1,
   "id": "dfaca730",
   "metadata": {},
   "outputs": [],
   "source": [
    "import numpy as np\n",
    "import pandas as pd\n",
    "pd.set_option('display.max_columns', None)\n",
    "import matplotlib.pyplot as plt\n",
    "from sklearn.model_selection import train_test_split\n",
    "from sklearn import preprocessing\n",
    "from tqdm import tqdm\n",
    "from sklearn.preprocessing import FunctionTransformer\n",
    "import seaborn as sns \n",
    "from scipy import stats\n",
    "import statsmodels.api as sm\n",
    "\n",
    "from sklearn.ensemble import RandomForestRegressor, ExtraTreesRegressor, AdaBoostRegressor, BaggingRegressor, GradientBoostingRegressor\n",
    "from sklearn.tree import DecisionTreeRegressor\n",
    "from sklearn.linear_model import ElasticNet, Lasso\n",
    "from sklearn.feature_selection import SelectFromModel\n",
    "from sklearn.svm import SVR\n",
    "from sklearn.model_selection import KFold, cross_val_score\n",
    "from sklearn.pipeline import make_pipeline\n",
    "from sklearn.decomposition import PCA\n",
    "from sklearn.preprocessing import RobustScaler\n",
    "import h2o\n",
    "from h2o.automl import H2OAutoML\n",
    "from sklearn.base import BaseEstimator, TransformerMixin, RegressorMixin, clone\n",
    "from sklearn.neural_network import MLPRegressor\n",
    "from scipy.stats import norm\n",
    "import copy\n",
    "from sklearn.model_selection import KFold\n",
    "from catboost import CatBoostRegressor, Pool, metrics, cv\n",
    "import xgboost as xgb\n",
    "from scipy.stats import gmean\n",
    "from sklearn.impute import KNNImputer\n",
    "from sklearn.metrics import mean_squared_error\n",
    "from sklearn.preprocessing import LabelEncoder\n"
   ]
  },
  {
   "cell_type": "code",
   "execution_count": 2,
   "id": "6bdce3d6",
   "metadata": {},
   "outputs": [
    {
     "name": "stdout",
     "output_type": "stream",
     "text": [
      "startdate\n",
      "climateregions__climateregion\n"
     ]
    }
   ],
   "source": [
    "train_df =  pd.read_csv('sub_train.csv')\n",
    "test_df  =  pd.read_csv('sub_test.csv')\n",
    "for c in train_df.columns:\n",
    "    if train_df[c].dtypes != 'float64':\n",
    "        print(c)"
   ]
  },
  {
   "cell_type": "code",
   "execution_count": 3,
   "id": "57609433",
   "metadata": {},
   "outputs": [
    {
     "name": "stdout",
     "output_type": "stream",
     "text": [
      "Main features: 59\n"
     ]
    }
   ],
   "source": [
    "exclude_cols = ['index', 'startdate']\n",
    "target=[\"contest-tmp2m-14d__tmp2m\"]\n",
    "main_attrs = [c for c in train_df.columns if c not in exclude_cols and c not in target]\n",
    "print(\"Main features:\", len(main_attrs))"
   ]
  },
  {
   "cell_type": "code",
   "execution_count": 18,
   "id": "2310405e",
   "metadata": {},
   "outputs": [
    {
     "data": {
      "text/plain": [
       "['contest-wind-h500-14d__wind-hgt-500',\n",
       " 'contest-slp-14d__slp',\n",
       " 'nmme-tmp2m-34w__ccsm3',\n",
       " 'elevation__elevation',\n",
       " 'lon',\n",
       " 'contest-prwtr-eatm-14d__prwtr',\n",
       " 'lat',\n",
       " 'climateregions__climateregion',\n",
       " 'contest-pres-sfc-gauss-14d__pres',\n",
       " 'season_sin',\n",
       " 'day_of_year_sin',\n",
       " 'contest-precip-14d__precip',\n",
       " 'contest-wind-uwnd-250-14d__wind-uwnd-250',\n",
       " 'nmme-prate-34w__cfsv2',\n",
       " 'nmme-prate-34w__nasa',\n",
       " 'nmme-prate-56w__gfdlflora',\n",
       " 'wind-uwnd-250-2010-7',\n",
       " 'contest-wind-vwnd-925-14d__wind-vwnd-925',\n",
       " 'nmme-prate-34w__nmmemean',\n",
       " 'nmme0-prate-34w__ccsm30',\n",
       " 'contest-wind-h850-14d__wind-hgt-850',\n",
       " 'contest-wind-uwnd-925-14d__wind-uwnd-925',\n",
       " 'nmme0-prate-56w__cfsv20',\n",
       " 'nmme-prate-34w__cancm3',\n",
       " 'contest-rhum-sig995-14d__rhum',\n",
       " 'nmme-prate-34w__gfdlflorb',\n",
       " 'wind-hgt-850-2010-4',\n",
       " 'contest-wind-vwnd-250-14d__wind-vwnd-250',\n",
       " 'wind-hgt-100-2010-2',\n",
       " 'wind-uwnd-250-2010-18',\n",
       " 'wind-hgt-10-2010-5',\n",
       " 'wind-uwnd-250-2010-15',\n",
       " 'wind-uwnd-250-2010-4',\n",
       " 'nmme0-prate-56w__nasa0',\n",
       " 'nmme0-prate-34w__cfsv20',\n",
       " 'wind-vwnd-250-2010-10',\n",
       " 'contest-wind-h10-14d__wind-hgt-10',\n",
       " 'wind-uwnd-925-2010-15',\n",
       " 'wind-vwnd-250-2010-3',\n",
       " 'nmme-prate-34w__cancm4',\n",
       " 'sst-2010-4',\n",
       " 'nmme0-prate-56w__ccsm30',\n",
       " 'wind-uwnd-250-2010-16',\n",
       " 'nmme0-prate-34w__gfdl0',\n",
       " 'nmme0-prate-56w__cancm40',\n",
       " 'sst-2010-1',\n",
       " 'sst-2010-3',\n",
       " 'wind-uwnd-250-2010-14',\n",
       " 'nmme0-prate-34w__gfdlflora0',\n",
       " 'nmme-prate-34w__gfdl',\n",
       " 'wind-hgt-850-2010-9',\n",
       " 'wind-vwnd-250-2010-1',\n",
       " 'sst-2010-5',\n",
       " 'cancm30',\n",
       " 'nmme-prate-34w__ccsm4',\n",
       " 'nmme0-prate-34w__nasa0',\n",
       " 'wind-hgt-500-2010-9',\n",
       " 'nmme0-prate-34w__cancm30',\n",
       " 'wind-vwnd-250-2010-13']"
      ]
     },
     "execution_count": 18,
     "metadata": {},
     "output_type": "execute_result"
    }
   ],
   "source": [
    "main_attrs"
   ]
  },
  {
   "cell_type": "code",
   "execution_count": 21,
   "id": "dce39854",
   "metadata": {},
   "outputs": [
    {
     "data": {
      "text/plain": [
       "<AxesSubplot:>"
      ]
     },
     "execution_count": 21,
     "metadata": {},
     "output_type": "execute_result"
    },
    {
     "data": {
      "image/png": "[encoded data removed]",
      "text/plain": [
       "<Figure size 640x480 with 1 Axes>"
      ]
     },
     "metadata": {},
     "output_type": "display_data"
    }
   ],
   "source": [
    "import seaborn as sns\n",
    "sns.boxplot(test_df['contest-slp-14d__slp'])\n"
   ]
  },
  {
   "cell_type": "code",
   "execution_count": 22,
   "id": "731371d4",
   "metadata": {},
   "outputs": [
    {
     "data": {
      "text/plain": [
       "<AxesSubplot:>"
      ]
     },
     "execution_count": 22,
     "metadata": {},
     "output_type": "execute_result"
    },
    {
     "data": {
      "image/png": "[encoded data removed]",
      "text/plain": [
       "<Figure size 640x480 with 1 Axes>"
      ]
     },
     "metadata": {},
     "output_type": "display_data"
    }
   ],
   "source": [
    "import seaborn as sns\n",
    "sns.boxplot(train_df['contest-slp-14d__slp'])\n"
   ]
  },
  {
   "cell_type": "code",
   "execution_count": 23,
   "id": "e250f682",
   "metadata": {},
   "outputs": [],
   "source": [
    "idx_list = np.where((train_df['contest-slp-14d__slp']<=102500) & (train_df['contest-slp-14d__slp']>=100500))"
   ]
  },
  {
   "cell_type": "code",
   "execution_count": 25,
   "id": "55fda5d8",
   "metadata": {},
   "outputs": [
    {
     "data": {
      "text/plain": [
       "(361313, 61)"
      ]
     },
     "execution_count": 25,
     "metadata": {},
     "output_type": "execute_result"
    }
   ],
   "source": [
    "train_df = train_df.iloc[idx_list]\n",
    "train_df.shape"
   ]
  },
  {
   "cell_type": "code",
   "execution_count": 28,
   "id": "f866351b",
   "metadata": {},
   "outputs": [],
   "source": [
    "def train_model_by_X_y(_X, _y, iterations=5000):\n",
    "    skf = KFold(n_splits=5, random_state=2048, shuffle=True)\n",
    "    skf.get_n_splits(_X, _y)\n",
    "\n",
    "    train_index_list = []\n",
    "    test_index_list = []\n",
    "    train_x_list = []\n",
    "    val_x_list = []\n",
    "    train_y_list = []\n",
    "    val_y_list = []\n",
    "\n",
    "    for i, (train_index, test_index) in enumerate(skf.split(_X, _y)):\n",
    "        train_index_list.append(train_index)\n",
    "        test_index_list.append(test_index)\n",
    "\n",
    "        train_x_list.append(_X[train_index, :])\n",
    "        val_x_list.append(_X[test_index, :])\n",
    "        train_y_list.append(_y[train_index])\n",
    "        val_y_list.append(_y[test_index])    \n",
    "   \n",
    "\n",
    "    cat_models = []\n",
    "    for i in range(5):\n",
    "        train_x, val_x = train_x_list[i], val_x_list[i]\n",
    "        train_y, val_y = train_y_list[i], val_y_list[i],\n",
    "        clf = CatBoostRegressor(iterations=iterations, task_type=\"GPU\",\n",
    "                           devices='0:1')\n",
    "        clf.fit(train_x, train_y, eval_set=[(val_x, val_y)], verbose=5000, early_stopping_rounds=100)\n",
    "        cat_models.append(clf)\n",
    "    \n",
    "    return cat_models\n"
   ]
  },
  {
   "cell_type": "code",
   "execution_count": 29,
   "id": "ce5525fa",
   "metadata": {},
   "outputs": [],
   "source": [
    "def cal_train_pred(models, _X):\n",
    "    preds = []\n",
    "    for model in models:\n",
    "        preds.append(model.predict(_X))\n",
    "    s = 0\n",
    "    for pred in preds:\n",
    "        s += pred\n",
    "    s = s/5\n",
    "    return s"
   ]
  },
  {
   "cell_type": "code",
   "execution_count": 30,
   "id": "6529f31c",
   "metadata": {},
   "outputs": [
    {
     "name": "stdout",
     "output_type": "stream",
     "text": [
      "Learning rate set to 0.072392\n",
      "0:\tlearn: 8.8329164\ttest: 8.8288323\tbest: 8.8288323 (0)\ttotal: 6.62ms\tremaining: 33.1s\n",
      "4999:\tlearn: 0.3180657\ttest: 0.3467328\tbest: 0.3467328 (4999)\ttotal: 24s\tremaining: 0us\n",
      "bestTest = 0.3467328039\n",
      "bestIteration = 4999\n",
      "Learning rate set to 0.072392\n",
      "0:\tlearn: 8.8302675\ttest: 8.8397867\tbest: 8.8397867 (0)\ttotal: 6.2ms\tremaining: 31s\n",
      "4999:\tlearn: 0.3187549\ttest: 0.3465120\tbest: 0.3465120 (4999)\ttotal: 23.6s\tremaining: 0us\n",
      "bestTest = 0.3465119777\n",
      "bestIteration = 4999\n",
      "Learning rate set to 0.072392\n",
      "0:\tlearn: 8.8437465\ttest: 8.7849326\tbest: 8.7849326 (0)\ttotal: 8ms\tremaining: 40s\n",
      "4999:\tlearn: 0.3176852\ttest: 0.3474060\tbest: 0.3474060 (4999)\ttotal: 23.4s\tremaining: 0us\n",
      "bestTest = 0.3474060133\n",
      "bestIteration = 4999\n",
      "Learning rate set to 0.072392\n",
      "0:\tlearn: 8.8256059\ttest: 8.8611826\tbest: 8.8611826 (0)\ttotal: 6.14ms\tremaining: 30.7s\n",
      "4999:\tlearn: 0.3184782\ttest: 0.3466267\tbest: 0.3466267 (4999)\ttotal: 23.1s\tremaining: 0us\n",
      "bestTest = 0.3466266782\n",
      "bestIteration = 4999\n",
      "Learning rate set to 0.072392\n",
      "0:\tlearn: 8.8290627\ttest: 8.8467833\tbest: 8.8467833 (0)\ttotal: 5.98ms\tremaining: 29.9s\n",
      "4999:\tlearn: 0.3184932\ttest: 0.3483826\tbest: 0.3483826 (4999)\ttotal: 23.4s\tremaining: 0us\n",
      "bestTest = 0.3483826439\n",
      "bestIteration = 4999\n"
     ]
    }
   ],
   "source": [
    "X = train_df[main_attrs].values\n",
    "y = np.array(train_df[target[0]].tolist())\n",
    "cat_models = train_model_by_X_y(X, y)"
   ]
  },
  {
   "cell_type": "code",
   "execution_count": 31,
   "id": "b2c8d425",
   "metadata": {},
   "outputs": [
    {
     "name": "stderr",
     "output_type": "stream",
     "text": [
      "100%|████████████████████████████████████████████████████████████████████████████████████████| 5/5 [00:00<00:00, 28.94it/s]\n"
     ]
    },
    {
     "name": "stdout",
     "output_type": "stream",
     "text": [
      "cos_sim with best submission: 0.9999135337313454\n"
     ]
    }
   ],
   "source": [
    "preds = []\n",
    "for cat_model in tqdm(cat_models):\n",
    "    preds.append(cat_model.predict(test_df[main_attrs].values))\n",
    "s = 0\n",
    "for pred in preds:\n",
    "    s += pred\n",
    "s = s/5\n",
    "df = pd.read_csv('./sample_solution.csv')\n",
    "df['contest-tmp2m-14d__tmp2m'] = s\n",
    "df.to_csv('submission_outlier_v1.csv', index=False)\n",
    "\n",
    "best_df = pd.read_csv('best_sub.csv')\n",
    "y_best = best_df[target[0]].values\n",
    "\n",
    "from numpy import dot\n",
    "from numpy.linalg import norm\n",
    "\n",
    "cos_sim = dot(y_best, s)/(norm(y_best)*norm(s))\n",
    "print(\"cos_sim with best submission:\", cos_sim)"
   ]
  }
 ],
 "metadata": {
  "kernelspec": {
   "display_name": "wids-env",
   "language": "python",
   "name": "wids-env"
  },
  "language_info": {
   "codemirror_mode": {
    "name": "ipython",
    "version": 3
   },
   "file_extension": ".py",
   "mimetype": "text/x-python",
   "name": "python",
   "nbconvert_exporter": "python",
   "pygments_lexer": "ipython3",
   "version": "3.7.15"
  }
 },
 "nbformat": 4,
 "nbformat_minor": 5
}
