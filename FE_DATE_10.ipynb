{
 "cells": [
  {
   "cell_type": "code",
   "execution_count": 1,
   "metadata": {
    "colab": {
     "base_uri": "https://localhost:8080/"
    },
    "id": "SMY5XWSt1LwB",
    "outputId": "ecfcff54-4106-4ffb-b32f-cab3a9ef7685"
   },
   "outputs": [],
   "source": [
    "import numpy as np\n",
    "import pandas as pd\n",
    "import seaborn as sns\n",
    "import torch\n",
    "import torch.nn as nn\n",
    "import torch.nn.functional as f\n",
    "pd.set_option('display.max_columns', None)\n",
    "import matplotlib.pyplot as plt\n",
    "from sklearn.model_selection import train_test_split\n",
    "from torch.utils.data import DataLoader\n",
    "from sklearn import preprocessing\n",
    "from tqdm import tqdm\n",
    "from sklearn.preprocessing import FunctionTransformer\n",
    "import seaborn as sns \n",
    "from scipy import stats\n",
    "import statsmodels.api as sm\n",
    "\n",
    "from sklearn.ensemble import RandomForestRegressor, ExtraTreesRegressor, AdaBoostRegressor, BaggingRegressor, GradientBoostingRegressor\n",
    "from sklearn.tree import DecisionTreeRegressor\n",
    "from sklearn.linear_model import ElasticNet, Lasso\n",
    "from sklearn.feature_selection import SelectFromModel\n",
    "from sklearn.svm import SVR\n",
    "from sklearn.model_selection import KFold, cross_val_score\n",
    "from sklearn.pipeline import make_pipeline\n",
    "from sklearn.decomposition import PCA\n",
    "from sklearn.preprocessing import RobustScaler\n",
    "from sklearn.base import BaseEstimator, TransformerMixin, RegressorMixin, clone\n",
    "from sklearn.neural_network import MLPRegressor\n",
    "from scipy.stats import norm\n",
    "import copy\n",
    "from sklearn.model_selection import KFold\n",
    "from catboost import CatBoostRegressor, Pool, metrics, cv\n",
    "import xgboost as xgb\n",
    "from scipy.stats import gmean\n",
    "from sklearn.impute import KNNImputer\n",
    "from sklearn.metrics import mean_squared_error\n",
    "from sklearn.preprocessing import LabelEncoder\n",
    "from sklearn.model_selection import GridSearchCV\n",
    "from sklearn.model_selection import cross_val_score\n",
    "import xgboost\n",
    "from xgboost import XGBRegressor"
   ]
  },
  {
   "cell_type": "code",
   "execution_count": 2,
   "metadata": {
    "id": "OAeYFQM81UVS"
   },
   "outputs": [],
   "source": [
    "# train_df = pd.read_csv('./FE_train.csv')\n",
    "# test_df = pd.read_csv('./FE_test.csv')"
   ]
  },
  {
   "cell_type": "code",
   "execution_count": 3,
   "metadata": {
    "id": "pNQ9sQjHljxC"
   },
   "outputs": [],
   "source": [
    "region_dict = {\n",
    "    \"1\": \"BSk\",\n",
    "    \"9\": \"Dfb\",\n",
    "    \"4\": \"Cfa\",\n",
    "    \"7\": \"Csb\",\n",
    "    \"8\": \"Dfa\",\n",
    "    \"3\": \"BWk\",\n",
    "    \"10\": \"Dfc\",\n",
    "    \"2\": \"BWh\",\n",
    "    \"6\": \"Csa\",\n",
    "    \"11\": \"Dsb\",\n",
    "    \"0\": \"BSh\",\n",
    "    \"5\": \"Cfb\",\n",
    "    \"12\": \"Dsc\",\n",
    "    \"13\": \"Dwa\",\n",
    "    \"14\": \"Dwb\"\n",
    "}"
   ]
  },
  {
   "cell_type": "code",
   "execution_count": 2,
   "metadata": {
    "id": "eo3rGd3q1VXG"
   },
   "outputs": [],
   "source": [
    "features = ['contest-wind-h500-14d__wind-hgt-500',\n",
    " 'contest-slp-14d__slp',\n",
    " 'nmme-tmp2m-34w__ccsm3', \n",
    " 'elevation__elevation',\n",
    " 'lon',\n",
    " 'contest-prwtr-eatm-14d__prwtr',\n",
    " 'lat',\n",
    " 'climateregions__climateregion',\n",
    " 'contest-pres-sfc-gauss-14d__pres',\n",
    " 'season_sin',\n",
    " 'day_of_year_sin',\n",
    " 'contest-precip-14d__precip',\n",
    " 'contest-wind-uwnd-250-14d__wind-uwnd-250',\n",
    " 'nmme-prate-34w__cfsv2',\n",
    " 'nmme-prate-34w__nasa',\n",
    " 'nmme-prate-56w__gfdlflora',\n",
    " 'wind-uwnd-250-2010-7',\n",
    " 'contest-wind-vwnd-925-14d__wind-vwnd-925',\n",
    " 'nmme-prate-34w__nmmemean',\n",
    " 'nmme0-prate-34w__ccsm30',\n",
    " 'contest-wind-h850-14d__wind-hgt-850',\n",
    " 'contest-wind-uwnd-925-14d__wind-uwnd-925',\n",
    " 'nmme0-prate-56w__cfsv20',\n",
    " 'nmme-prate-34w__cancm3',\n",
    " 'contest-rhum-sig995-14d__rhum',\n",
    " 'nmme-prate-34w__gfdlflorb',\n",
    " 'wind-hgt-850-2010-4',\n",
    " 'contest-wind-vwnd-250-14d__wind-vwnd-250',\n",
    " 'wind-hgt-100-2010-2',\n",
    " 'wind-uwnd-250-2010-18',\n",
    " 'wind-hgt-10-2010-5',\n",
    " 'wind-uwnd-250-2010-15',\n",
    " 'wind-uwnd-250-2010-4',\n",
    " 'nmme0-prate-56w__nasa0',\n",
    " 'nmme0-prate-34w__cfsv20',\n",
    " 'wind-vwnd-250-2010-10',\n",
    " 'contest-wind-h10-14d__wind-hgt-10',\n",
    " 'wind-uwnd-925-2010-15',\n",
    " 'wind-vwnd-250-2010-3',\n",
    " 'nmme-prate-34w__cancm4',\n",
    " 'sst-2010-4',\n",
    " 'nmme0-prate-56w__ccsm30',\n",
    " 'wind-uwnd-250-2010-16',\n",
    " 'nmme0-prate-34w__gfdl0',\n",
    " 'nmme0-prate-56w__cancm40',\n",
    " 'sst-2010-1',\n",
    " 'sst-2010-3',\n",
    " 'wind-uwnd-250-2010-14',\n",
    " 'nmme0-prate-34w__gfdlflora0',\n",
    " 'nmme-prate-34w__gfdl',\n",
    " 'wind-hgt-850-2010-9',\n",
    " 'wind-vwnd-250-2010-1',\n",
    " 'sst-2010-5',\n",
    " 'cancm30',\n",
    " 'nmme-prate-34w__ccsm4',\n",
    " 'nmme0-prate-34w__nasa0',\n",
    " 'wind-hgt-500-2010-9',\n",
    " 'nmme0-prate-34w__cancm30',\n",
    " 'wind-vwnd-250-2010-13',\n",
    " 'wind_diff',\n",
    " 'wind_diff_min',\n",
    " 'wind_diff_min_month',\n",
    " 'wind_diff_month',\n",
    " 'diff_slp_first',\n",
    " 'diff_wind_first',\n",
    " 'diff_precip_first',\n",
    " 'diff_sst_10_first',\n",
    " 'diff_sst_10_min',\n",
    " 'diff_sst_10_max',\n",
    " 'range_sst_10',\n",
    " 'scale_sst_10',\n",
    " 'diff_sst_9_first',\n",
    " 'diff_sst_9_min',\n",
    " 'diff_sst_9_max',\n",
    " 'range_sst_9',\n",
    " 'scale_sst_9',\n",
    " 'diff_sst_8_first',\n",
    " 'diff_sst_8_min',\n",
    " 'diff_sst_8_max',\n",
    " 'range_sst_8',\n",
    " 'scale_sst_8',\n",
    " 'diff_sst_7_first',\n",
    " 'diff_sst_7_min',\n",
    " 'diff_sst_7_max',\n",
    " 'range_sst_7',\n",
    " 'scale_sst_7',\n",
    " 'diff_sst_6_first',\n",
    " 'diff_sst_6_min',\n",
    " 'diff_sst_6_max',\n",
    " 'range_sst_6',\n",
    " 'scale_sst_6',\n",
    " 'diff_sst_1_first',\n",
    " 'diff_sst_1_min',\n",
    " 'diff_sst_1_max',\n",
    " 'range_sst_1',\n",
    " 'scale_sst_1',\n",
    " 'diff_sst_2_first',\n",
    " 'diff_sst_2_min',\n",
    " 'diff_sst_2_max',\n",
    " 'range_sst_2',\n",
    " 'scale_sst_2',\n",
    " 'diff_sst_3_first',\n",
    " 'diff_sst_3_min',\n",
    " 'diff_sst_3_max',\n",
    " 'range_sst_3',\n",
    " 'scale_sst_3',\n",
    " 'diff_sst_4_first',\n",
    " 'diff_sst_4_min',\n",
    " 'diff_sst_4_max',\n",
    " 'range_sst_4',\n",
    " 'scale_sst_4',\n",
    " 'diff_sst_5_first',\n",
    " 'diff_sst_5_min',\n",
    " 'diff_sst_5_max',\n",
    " 'range_sst_5',\n",
    " 'scale_sst_5',\n",
    " 'diff_pres_1_first',\n",
    " 'diff_pres_1_min',\n",
    " 'diff_pres_1_max',\n",
    " 'range_pres_1',\n",
    " 'scale_pres_1',\n",
    " 'diff_ccsm3_month_1_first',\n",
    " 'diff_ccsm3_month_1_min',\n",
    " 'diff_ccsm3_month_1_max',\n",
    " 'range_ccsm3_month_1',\n",
    " 'scale_ccsm3_month_1',\n",
    " 'diff_sst_1_month_1_first',\n",
    " 'diff_sst_1_month_1_min',\n",
    " 'diff_sst_1_month_1_max',\n",
    " 'range_sst_1_month_1',\n",
    " 'scale_sst_1_month_1',\n",
    " 'sst_1_lag_1',\n",
    " 'sst_5_lag_1',\n",
    " 'sst_4_lag_1',\n",
    " 'sst_1_lag_1_season',\n",
    " 'sst_5_lag_1_season',\n",
    " 'sst_4_lag_1_season']\n",
    "\n",
    "target=[\"contest-tmp2m-14d__tmp2m\"]\n",
    "\n",
    "slp_col = 'contest-slp-14d__slp'\n",
    "ccsm3_col = 'nmme-tmp2m-34w__ccsm3'\n",
    "pres_col = 'contest-pres-sfc-gauss-14d__pres'\n",
    "precip_col = 'contest-precip-14d__precip'\n",
    "poten_col = 'contest-pevpr-sfc-gauss-14d__pevpr'\n",
    "rhum_col = 'contest-rhum-sig995-14d__rhum'\n",
    "elevation_col = 'elevation__elevation'\n",
    "wind_col_500 = 'contest-wind-h500-14d__wind-hgt-500'\n",
    "sst_1_col = 'sst-2010-1'\n",
    "sst_5_col = 'sst-2010-5'\n",
    "sst_3_col = 'sst-2010-3'\n",
    "sst_4_col = 'sst-2010-4'\n",
    "sst_6_col = 'sst-2010-6'\n",
    "sst_7_col = 'sst-2010-7'\n",
    "sst_8_col = 'sst-2010-8'\n",
    "sst_9_col = 'sst-2010-9'\n",
    "sst_10_col = 'sst-2010-10'\n",
    "group_cols = ['startdate']"
   ]
  },
  {
   "cell_type": "code",
   "execution_count": 5,
   "metadata": {
    "id": "ACXBg04f1YQT"
   },
   "outputs": [],
   "source": [
    "df = pd.read_csv('./df_fe_5_lon_neigh.csv')"
   ]
  },
  {
   "cell_type": "code",
   "execution_count": 6,
   "metadata": {
    "id": "6Iqn9xpMmkWv"
   },
   "outputs": [],
   "source": [
    "def name_region(region):\n",
    "  return region_dict[str(region)]"
   ]
  },
  {
   "cell_type": "code",
   "execution_count": 7,
   "metadata": {
    "id": "La-aPyE_mcwd"
   },
   "outputs": [],
   "source": [
    "df['region_name'] = df['climateregions__climateregion'].apply(name_region)"
   ]
  },
  {
   "cell_type": "code",
   "execution_count": 8,
   "metadata": {
    "id": "crjZLTTbm3sz"
   },
   "outputs": [],
   "source": [
    "def cal_cluster(name):\n",
    "  if name[0] == 'B':\n",
    "    return 0\n",
    "  if name[0] == 'C':\n",
    "    return 1\n",
    "  if name[0] == 'D':\n",
    "    return 2"
   ]
  },
  {
   "cell_type": "code",
   "execution_count": 9,
   "metadata": {
    "id": "4EToPSRTmwMw"
   },
   "outputs": [],
   "source": [
    "df['cluster'] = df['region_name'].apply(cal_cluster)"
   ]
  },
  {
   "cell_type": "code",
   "execution_count": 10,
   "metadata": {
    "id": "2NQfGtyKiVD_"
   },
   "outputs": [],
   "source": [
    "def cal_cluster2(name):\n",
    "  if name[2] == 'a':\n",
    "    return 0\n",
    "  if name[2] == 'b':\n",
    "    return 1\n",
    "  if name[2] == 'c':\n",
    "    return 2\n",
    "  if name[2] == 'h':\n",
    "    return 3\n",
    "  if name[2] == 'k':\n",
    "    return 4"
   ]
  },
  {
   "cell_type": "code",
   "execution_count": 11,
   "metadata": {
    "id": "KZusS8Mdi4oe"
   },
   "outputs": [],
   "source": [
    "def cal_cluster1(name):\n",
    "  if name[1] == 'S':\n",
    "    return 0\n",
    "  if name[1] == 'f':\n",
    "    return 1\n",
    "  if name[1] == 's':\n",
    "    return 2\n",
    "  if name[1] == 'W':\n",
    "    return 3\n",
    "  if name[1] == 'w':\n",
    "    return 4"
   ]
  },
  {
   "cell_type": "code",
   "execution_count": 12,
   "metadata": {
    "id": "jGCTdulgjI6f"
   },
   "outputs": [],
   "source": [
    "# df['cluster1'] = df['region_name'].apply(cal_cluster1)\n",
    "# df['cluster2'] = df['region_name'].apply(cal_cluster2)"
   ]
  },
  {
   "cell_type": "code",
   "execution_count": 13,
   "metadata": {
    "id": "XqscipBViSZl"
   },
   "outputs": [],
   "source": [
    "region_dict = {\n",
    "    \"1\": \"BSk\",\n",
    "    \"9\": \"Dfb\",\n",
    "    \"4\": \"Cfa\",\n",
    "    \"7\": \"Csb\",\n",
    "    \"8\": \"Dfa\",\n",
    "    \"3\": \"BWk\",\n",
    "    \"10\": \"Dfc\",\n",
    "    \"2\": \"BWh\",\n",
    "    \"6\": \"Csa\",\n",
    "    \"11\": \"Dsb\",\n",
    "    \"0\": \"BSh\",\n",
    "    \"5\": \"Cfb\",\n",
    "    \"12\": \"Dsc\",\n",
    "    \"13\": \"Dwa\",\n",
    "    \"14\": \"Dwb\"\n",
    "}"
   ]
  },
  {
   "cell_type": "code",
   "execution_count": 14,
   "metadata": {
    "id": "HroQg_TW1jD4"
   },
   "outputs": [],
   "source": [
    "sst_features_5 = []\n",
    "for i in [1, 5, 3, 4]:\n",
    "    sst_features_5 = sst_features_5 + [f'sst_{i}_neigh_5_mean', f'sst_{i}_neigh_5_min', f'sst_{i}_neigh_5_max']\n",
    "\n",
    "sst_features_time_5 = []\n",
    "for i in [1, 5, 3, 4]:\n",
    "    sst_features_time_5 = sst_features_time_5 + [f'sst_{i}_time_5_mean', f'sst_{i}_time_5_min', f'sst_{i}_time_5_max']\n",
    "\n",
    "sst_features_time_7 = []\n",
    "for i in [1, 5, 3, 4]:\n",
    "    sst_features_time_7 = sst_features_time_7 + [f'sst_{i}_time_7_mean', f'sst_{i}_time_7_min', f'sst_{i}_time_7_max']\n",
    "\n",
    "\n",
    "sst_features_time_14 = []\n",
    "for i in [1, 5, 3, 4]:\n",
    "    sst_features_time_14 = sst_features_time_14 + [f'sst_{i}_time_14_mean', f'sst_{i}_time_14_min', f'sst_{i}_time_14_max']\n",
    "\n",
    "sst_features_time_9 = []\n",
    "for i in [1, 5, 3, 4]:\n",
    "    sst_features_time_9 = sst_features_time_9 + [f'sst_{i}_time_9_mean', f'sst_{i}_time_9_min', f'sst_{i}_time_9_max']\n",
    "\n",
    "\n",
    "sst_features_time_11 = []\n",
    "for i in [1, 5, 3, 4]:\n",
    "    sst_features_time_11 = sst_features_time_11 + [f'sst_{i}_time_11_mean', f'sst_{i}_time_11_min', f'sst_{i}_time_11_max']\n",
    "\n",
    "sst_features_11 = []\n",
    "for i in [1, 5, 3, 4]:\n",
    "    sst_features_11 = sst_features_11 + [f'sst_{i}_neigh_11_mean', f'sst_{i}_neigh_11_min', f'sst_{i}_neigh_11_max']\n",
    "\n",
    "sst_features_3 = []\n",
    "for i in [1, 5, 3, 4]:\n",
    "    sst_features_3 = sst_features_3 + [f'sst_{i}_neigh_3_mean', f'sst_{i}_neigh_3_min', f'sst_{i}_neigh_3_max']\n",
    "\n",
    "sst_features_7 = []\n",
    "for i in [1, 5, 3, 4]:\n",
    "    sst_features_7 = sst_features_7 + [f'sst_{i}_neigh_7_mean', f'sst_{i}_neigh_7_min', f'sst_{i}_neigh_7_max']\n",
    "\n",
    "sst_features_5_lat = []\n",
    "for i in [1, 5, 3, 4]:\n",
    "    sst_features_5_lat = sst_features_5_lat + [f'sst_{i}_neigh_5_lat_mean', f'sst_{i}_neigh_5_lat_min', f'sst_{i}_neigh_5_lat_max']\n",
    "\n",
    "sst_features_5_lon = []\n",
    "for i in [1, 5, 3, 4]:\n",
    "    sst_features_5_lon = sst_features_5_lon + [f'sst_{i}_neigh_5_lon_mean', f'sst_{i}_neigh_5_lon_min', f'sst_{i}_neigh_5_lon_max']\n",
    "\n",
    "sst_features_9_lon = []\n",
    "for i in [1, 5, 3, 4]:\n",
    "    sst_features_9_lon = sst_features_9_lon + [f'sst_{i}_neigh_9_lon_mean', f'sst_{i}_neigh_9_lon_min', f'sst_{i}_neigh_9_lon_max']\n",
    "\n",
    "sst_features_9_lat = []\n",
    "for i in [1, 5, 3, 4]:\n",
    "    sst_features_9_lat = sst_features_9_lat + [f'sst_{i}_neigh_9_lat_mean', f'sst_{i}_neigh_9_lat_min', f'sst_{i}_neigh_9_lat_max']\n",
    "    \n",
    "sst_features_9 = []\n",
    "for i in [1, 5, 3, 4]:\n",
    "    sst_features_9 = sst_features_9 + [f'sst_{i}_neigh_9_mean', f'sst_{i}_neigh_9_min', f'sst_{i}_neigh_9_max']\n",
    "\n",
    "sst_features_13 = []\n",
    "for i in [1, 5, 3, 4]:\n",
    "    sst_features_13 = sst_features_13 + [f'sst_{i}_neigh_13_mean', f'sst_{i}_neigh_13_min', f'sst_{i}_neigh_13_max']\n",
    "\n",
    "\n",
    "poten_feature_5 = ['poten_neigh_5_mean', 'poten_neigh_5_min', 'poten_neigh_5_max']\n",
    "poten_feature_time_5 = ['poten_time_5_mean', 'poten_time_5_min', 'poten_time_5_max']\n",
    "poten_feature_time_7 = ['poten_time_7_mean', 'poten_time_7_min', 'poten_time_7_max']\n",
    "poten_feature_time_11 = ['poten_time_11_mean', 'poten_time_11_min', 'poten_time_11_max']\n",
    "poten_feature_time_9 = ['poten_time_9_mean', 'poten_time_9_min', 'poten_time_9_max']\n",
    "\n",
    "poten_feature_3 = ['poten_neigh_3_mean', 'poten_neigh_3_min', 'poten_neigh_3_max']\n",
    "poten_feature_7 = ['poten_neigh_7_mean', 'poten_neigh_7_min', 'poten_neigh_7_max']\n",
    "poten_feature_9 = ['poten_neigh_9_mean', 'poten_neigh_9_min', 'poten_neigh_9_max']\n",
    "poten_feature_11 = ['poten_neigh_11_mean', 'poten_neigh_11_min', 'poten_neigh_11_max']\n",
    "poten_feature_13 = ['poten_neigh_13_mean', 'poten_neigh_13_min', 'poten_neigh_13_max']\n",
    "\n",
    "\n",
    "\n",
    "rhum_feature_5 = ['rhum_neigh_5_mean', 'rhum_neigh_5_min', 'rhum_neigh_5_max']\n",
    "rhum_feature_5_lat = ['rhum_neigh_5_lat_mean', 'rhum_neigh_5_lat_min', 'rhum_neigh_5_lat_max']\n",
    "rhum_feature_5_lon = ['rhum_neigh_5_lon_mean', 'rhum_neigh_5_lon_min', 'rhum_neigh_5_lon_max']\n",
    "rhum_feature_9_lon = ['rhum_neigh_9_lon_mean', 'rhum_neigh_9_lon_min', 'rhum_neigh_9_lon_max']\n",
    "rhum_feature_9_lat = ['rhum_neigh_9_lat_mean', 'rhum_neigh_9_lat_min', 'rhum_neigh_9_lat_max']\n",
    "rhum_feature_time_3 = ['rhum_time_3_mean', 'rhum_time_3_min', 'rhum_time_3_max']\n",
    "rhum_feature_time_5 = ['rhum_time_5_mean', 'rhum_time_5_min', 'rhum_time_5_max']\n",
    "rhum_feature_time_7 = ['rhum_time_7_mean', 'rhum_time_7_min', 'rhum_time_7_max']\n",
    "rhum_feature_time_11 = ['rhum_time_11_mean', 'rhum_time_11_min', 'rhum_time_11_max']\n",
    "rhum_feature_time_7_mid = ['rhum_time_7_mid_mean', 'rhum_time_7_mid_min', 'rhum_time_7_mid_max']\n",
    "rhum_feature_time_14 = ['rhum_time_14_mean', 'rhum_time_14_min', 'rhum_time_14_max']\n",
    "rhum_feature_time_21 = ['rhum_time_21_mean', 'rhum_time_21_min', 'rhum_time_21_max']\n",
    "rhum_feature_time_28 = ['rhum_time_28_mean', 'rhum_time_28_min', 'rhum_time_28_max']\n",
    "rhum_feature_time_9 = ['rhum_time_9_mean', 'rhum_time_9_min', 'rhum_time_9_max']\n",
    "\n",
    "rhum_feature_3 = ['rhum_neigh_3_mean', 'rhum_neigh_3_min', 'rhum_neigh_3_max']\n",
    "rhum_feature_7 = ['rhum_neigh_7_mean', 'rhum_neigh_7_min', 'rhum_neigh_7_max']\n",
    "rhum_feature_9 = ['rhum_neigh_9_mean', 'rhum_neigh_9_min', 'rhum_neigh_9_max']\n",
    "rhum_feature_11 = ['rhum_neigh_11_mean', 'rhum_neigh_11_min', 'rhum_neigh_11_max']\n",
    "rhum_feature_13 = ['rhum_neigh_13_mean', 'rhum_neigh_13_min', 'rhum_neigh_13_max']\n",
    "\n",
    "\n",
    "slp_feature_5 = ['slp_neigh_5_mean', 'slp_neigh_5_min', 'slp_neigh_5_max']\n",
    "slp_feature_5_lat = ['slp_neigh_5_lat_mean', 'slp_neigh_5_lat_min', 'slp_neigh_5_lat_max']\n",
    "slp_feature_5_lon = ['slp_neigh_5_lon_mean', 'slp_neigh_5_lon_min', 'slp_neigh_5_lon_max']\n",
    "slp_feature_9_lon = ['slp_neigh_9_lon_mean', 'slp_neigh_9_lon_min', 'slp_neigh_9_lon_max']\n",
    "slp_feature_9_lat = ['slp_neigh_9_lat_mean', 'slp_neigh_9_lat_min', 'slp_neigh_9_lat_max']\n",
    "slp_feature_time_5 = ['slp_time_5_mean', 'slp_time_5_min', 'slp_time_5_max']\n",
    "slp_feature_time_7 = ['slp_time_7_mean', 'slp_time_7_min', 'slp_time_7_max']\n",
    "slp_feature_time_11 = ['slp_time_11_mean', 'slp_time_11_min', 'slp_time_11_max']\n",
    "slp_feature_time_14 = ['slp_time_14_mean', 'slp_time_14_min', 'slp_time_14_max']\n",
    "slp_feature_time_9 = ['slp_time_9_mean', 'slp_time_9_min', 'slp_time_9_max']\n",
    "\n",
    "slp_feature_3 = ['slp_neigh_3_mean', 'slp_neigh_3_min', 'slp_neigh_3_max']\n",
    "slp_feature_7 = ['slp_neigh_7_mean', 'slp_neigh_7_min', 'slp_neigh_7_max']\n",
    "slp_feature_9 = ['slp_neigh_9_mean', 'slp_neigh_9_min', 'slp_neigh_9_max']\n",
    "slp_feature_11 = ['slp_neigh_11_mean', 'slp_neigh_11_min', 'slp_neigh_11_max']\n",
    "slp_feature_13 = ['slp_neigh_13_mean', 'slp_neigh_13_min', 'slp_neigh_13_max']\n",
    "\n",
    "\n",
    "precip_feature_5 = ['precip_neigh_5_mean', 'precip_neigh_5_min', 'precip_neigh_5_max']\n",
    "precip_feature_5_lat = ['precip_neigh_5_lat_mean', 'precip_neigh_5_lat_min', 'precip_neigh_5_lat_max']\n",
    "precip_feature_5_lon = ['precip_neigh_5_lon_mean', 'precip_neigh_5_lon_min', 'precip_neigh_5_lon_max']\n",
    "precip_feature_9_lon = ['precip_neigh_9_lon_mean', 'precip_neigh_9_lon_min', 'precip_neigh_9_lon_max']\n",
    "precip_feature_9_lat = ['precip_neigh_9_lat_mean', 'precip_neigh_9_lat_min', 'precip_neigh_9_lat_max']\n",
    "precip_feature_time_3 = ['precip_time_3_mean', 'precip_time_3_min', 'precip_time_3_max']\n",
    "precip_feature_time_5 = ['precip_time_5_mean', 'precip_time_5_min', 'precip_time_5_max']\n",
    "precip_feature_time_7 = ['precip_time_7_mean', 'precip_time_7_min', 'precip_time_7_max']\n",
    "precip_feature_time_11 = ['precip_time_11_mean', 'precip_time_11_min', 'precip_time_11_max']\n",
    "precip_feature_time_7_mid = ['precip_time_7_mid_mean', 'precip_time_7_mid_min', 'precip_time_7_mid_max']\n",
    "precip_feature_time_9 = ['precip_time_9_mean', 'precip_time_9_min', 'precip_time_9_max']\n",
    "precip_feature_time_14 = ['precip_time_14_mean', 'precip_time_14_min', 'precip_time_14_max']\n",
    "precip_feature_time_21 = ['precip_time_21_mean', 'precip_time_21_min', 'precip_time_21_max']\n",
    "precip_feature_time_28 = ['precip_time_28_mean', 'precip_time_28_min', 'precip_time_28_max']\n",
    "\n",
    "precip_feature_3 = ['precip_neigh_3_mean', 'precip_neigh_3_min', 'precip_neigh_3_max']\n",
    "precip_feature_7 = ['precip_neigh_7_mean', 'precip_neigh_7_min', 'precip_neigh_7_max']\n",
    "precip_feature_9 = ['precip_neigh_9_mean', 'precip_neigh_9_min', 'precip_neigh_9_max']\n",
    "precip_feature_11 = ['precip_neigh_11_mean', 'precip_neigh_11_min', 'precip_neigh_11_max']\n",
    "precip_feature_13 = ['precip_neigh_13_mean', 'precip_neigh_13_min', 'precip_neigh_13_max']\n",
    "\n",
    "\n",
    "pres_feature_5 = ['pres_neigh_5_mean', 'pres_neigh_5_min', 'pres_neigh_5_max']\n",
    "pres_feature_5_lat = ['pres_neigh_5_lat_mean', 'pres_neigh_5_lat_min', 'pres_neigh_5_lat_max']\n",
    "pres_feature_5_lon = ['pres_neigh_5_lon_mean', 'pres_neigh_5_lon_min', 'pres_neigh_5_lon_max']\n",
    "pres_feature_9_lon = ['pres_neigh_9_lon_mean', 'pres_neigh_9_lon_min', 'pres_neigh_9_lon_max']\n",
    "pres_feature_9_lat = ['pres_neigh_9_lat_mean', 'pres_neigh_9_lat_min', 'pres_neigh_9_lat_max']\n",
    "pres_feature_time_3 = ['pres_time_3_mean', 'pres_time_3_min', 'pres_time_3_max']\n",
    "pres_feature_time_5 = ['pres_time_5_mean', 'pres_time_5_min', 'pres_time_5_max']\n",
    "pres_feature_time_7 = ['pres_time_7_mean', 'pres_time_7_min', 'pres_time_7_max']\n",
    "pres_feature_time_11 = ['pres_time_11_mean', 'pres_time_11_min', 'pres_time_11_max']\n",
    "pres_feature_time_7_mid = ['pres_time_7_mid_mean', 'pres_time_7_mid_min', 'pres_time_7_mid_max']\n",
    "pres_feature_time_9 = ['pres_time_9_mean', 'pres_time_9_min', 'pres_time_9_max']\n",
    "pres_feature_time_14 = ['pres_time_14_mean', 'pres_time_14_min', 'pres_time_14_max']\n",
    "pres_feature_time_21 = ['pres_time_21_mean', 'pres_time_21_min', 'pres_time_21_max']\n",
    "pres_feature_time_28 = ['pres_time_28_mean', 'pres_time_28_min', 'pres_time_28_max']\n",
    "\n",
    "pres_feature_3 = ['pres_neigh_3_mean', 'pres_neigh_3_min', 'pres_neigh_3_max']\n",
    "pres_feature_7 = ['pres_neigh_7_mean', 'pres_neigh_7_min', 'pres_neigh_7_max']\n",
    "pres_feature_9 = ['pres_neigh_9_mean', 'pres_neigh_9_min', 'pres_neigh_9_max']\n",
    "pres_feature_11 = ['pres_neigh_11_mean', 'pres_neigh_11_min', 'pres_neigh_11_max']\n",
    "pres_feature_13 = ['pres_neigh_13_mean', 'pres_neigh_13_min', 'pres_neigh_13_max']\n",
    "\n",
    "\n",
    "\n",
    "wind_feature_11 = ['wind_500_neigh_11_mean', 'wind_500_neigh_11_min', 'wind_500_neigh_11_max']\n",
    "wind_feature_9 = ['wind_500_neigh_9_mean', 'wind_500_neigh_9_min', 'wind_500_neigh_9_max']\n",
    "wind_feature_5 = ['wind_500_neigh_5_mean', 'wind_500_neigh_5_min', 'wind_500_neigh_5_max']\n",
    "wind_feature_5_lat = ['wind_500_neigh_5_lat_mean', 'wind_500_neigh_5_lat_min', 'wind_500_neigh_5_lat_max']\n",
    "wind_feature_5_lon = ['wind_500_neigh_5_lon_mean', 'wind_500_neigh_5_lon_min', 'wind_500_neigh_5_lon_max']\n",
    "wind_feature_9_lon = ['wind_500_neigh_9_lon_mean', 'wind_500_neigh_9_lon_min', 'wind_500_neigh_9_lon_max']\n",
    "wind_feature_9_lat = ['wind_500_neigh_9_lat_mean', 'wind_500_neigh_9_lat_min', 'wind_500_neigh_9_lat_max']\n",
    "wind_feature_time_5 = ['wind_500_time_5_mean', 'wind_500_time_5_min', 'wind_500_time_5_max']\n",
    "wind_feature_time_7 = ['wind_500_time_7_mean', 'wind_500_time_7_min', 'wind_500_time_7_max']\n",
    "wind_feature_time_14 = ['wind_500_time_14_mean', 'wind_500_time_14_min', 'wind_500_time_14_max']\n",
    "wind_feature_time_9 = ['wind_500_time_9_mean', 'wind_500_time_9_min', 'wind_500_time_9_max']\n",
    "wind_feature_time_11 = ['wind_500_time_11_mean', 'wind_500_time_11_min', 'wind_500_time_11_max']\n",
    "wind_feature_7 = ['wind_500_neigh_7_mean', 'wind_500_neigh_7_min', 'wind_500_neigh_7_max']\n",
    "wind_feature_3 = ['wind_500_neigh_3_mean', 'wind_500_neigh_3_min', 'wind_500_neigh_3_max']\n",
    "wind_feature_13 = ['wind_500_neigh_13_mean', 'wind_500_neigh_13_min', 'wind_500_neigh_13_max']"
   ]
  },
  {
   "cell_type": "code",
   "execution_count": 15,
   "metadata": {
    "id": "9CNm6MP3nkiy"
   },
   "outputs": [],
   "source": [
    "# train_df_0 = train_df[train_df['cluster'] == 0]\n",
    "# test_df_0 = test_df[test_df['cluster'] == 0]\n",
    "\n",
    "# train_df_1 = train_df[train_df['cluster'] == 1]\n",
    "# test_df_1 = test_df[test_df['cluster'] == 1]\n",
    "\n",
    "# train_df_2 = train_df[train_df['cluster'] == 2]\n",
    "# test_df_2 = test_df[test_df['cluster'] == 2]"
   ]
  },
  {
   "cell_type": "code",
   "execution_count": 16,
   "metadata": {
    "id": "AbG_-wodmWCS"
   },
   "outputs": [],
   "source": [
    "# df_wind_mean = df.groupby(['startdate', 'cluster'])[wind_col_500].mean().reset_index()\n",
    "# df_wind_mean = df_wind_mean.rename(columns = ({wind_col_500: 'mean_wind_lvl_1'}))\n",
    "\n",
    "# df = df.merge(df_wind_mean, how='left', on=['startdate', 'cluster'])\n",
    "# del df_wind_mean\n",
    "\n",
    "# df_wind_min = df.groupby(['startdate', 'cluster'])[wind_col_500].min().reset_index()\n",
    "# df_wind_min = df_wind_min.rename(columns = ({wind_col_500: 'min_wind_lvl_1'}))\n",
    "\n",
    "# df = df.merge(df_wind_min, how='left', on=['startdate', 'cluster'])\n",
    "# del df_wind_min\n",
    "\n",
    "# df_wind_max = df.groupby(['startdate', 'cluster'])[wind_col_500].max().reset_index()\n",
    "# df_wind_max = df_wind_max.rename(columns = ({wind_col_500: 'max_wind_lvl_1'}))\n",
    "\n",
    "# df = df.merge(df_wind_max, how='left', on=['startdate', 'cluster'])\n",
    "# del df_wind_max"
   ]
  },
  {
   "cell_type": "code",
   "execution_count": 17,
   "metadata": {
    "id": "3IYbEoHdp3M2"
   },
   "outputs": [],
   "source": [
    "train_df = df[:375734]\n",
    "test_df = df[375734:]\n",
    "del df"
   ]
  },
  {
   "cell_type": "code",
   "execution_count": 18,
   "metadata": {
    "id": "OkosFcCBsrxA"
   },
   "outputs": [],
   "source": [
    "# print(train_df_0.shape, test_df_0.shape)\n",
    "# print(train_df_1.shape, test_df_1.shape)\n",
    "# print(train_df_2.shape, test_df_2.shape)"
   ]
  },
  {
   "cell_type": "code",
   "execution_count": 19,
   "metadata": {
    "id": "qBu0AL-M1lPp"
   },
   "outputs": [],
   "source": [
    "# selected_cols = features + sst_features_5 + wind_feature_5 + slp_feature_5 + precip_feature_5 + pres_feature_5 + rhum_feature_5 + slp_feature_3 + precip_feature_3 + pres_feature_3  + slp_feature_7 + rhum_feature_7 + sst_features_7 + precip_feature_7 + pres_feature_7 + wind_feature_7 + slp_feature_9 + wind_feature_9 + pres_feature_9 + precip_feature_9 + rhum_feature_9 + rhum_feature_13"
   ]
  },
  {
   "cell_type": "code",
   "execution_count": 20,
   "metadata": {
    "id": "3vNNXytuqRSp"
   },
   "outputs": [],
   "source": [
    "# selected_cols = features + sst_features_5 + wind_feature_5 + slp_feature_5 + precip_feature_5 + pres_feature_5 + rhum_feature_5 + slp_feature_3 + precip_feature_3 + pres_feature_3  + slp_feature_7 + rhum_feature_7 + sst_features_7 + precip_feature_7 + pres_feature_7 + wind_feature_7 + slp_feature_9 + wind_feature_9 + pres_feature_9 + precip_feature_9 + rhum_feature_9 + rhum_feature_13 + \\\n",
    "# rhum_feature_time_7 + pres_feature_time_7 + rhum_feature_time_14 + pres_feature_time_14\n"
   ]
  },
  {
   "cell_type": "code",
   "execution_count": 21,
   "metadata": {
    "id": "zGNc1992UPce"
   },
   "outputs": [],
   "source": [
    "# selected_cols = features + sst_features_5 + wind_feature_5 + slp_feature_5 + precip_feature_5 + pres_feature_5 + rhum_feature_5 + slp_feature_3 + precip_feature_3 + pres_feature_3  + slp_feature_7 + rhum_feature_7 + sst_features_7 + precip_feature_7 + pres_feature_7 + wind_feature_7 + slp_feature_9 + wind_feature_9 + pres_feature_9 + precip_feature_9 + rhum_feature_9 + rhum_feature_13 + \\\n",
    "# rhum_feature_time_7 + pres_feature_time_7 + precip_feature_time_7 + rhum_feature_time_14 + pres_feature_time_14 + precip_feature_time_14\n"
   ]
  },
  {
   "cell_type": "code",
   "execution_count": 22,
   "metadata": {
    "id": "X9MdK6Ecm6Zm"
   },
   "outputs": [],
   "source": [
    "selected_cols = features + sst_features_5 + wind_feature_5 + slp_feature_5 + precip_feature_5 + pres_feature_5 + rhum_feature_5 + slp_feature_3 + precip_feature_3 + pres_feature_3  + slp_feature_7 + rhum_feature_7 + sst_features_7 + precip_feature_7 + pres_feature_7 + wind_feature_7 + slp_feature_9 + wind_feature_9 + pres_feature_9 + precip_feature_9 + rhum_feature_9 + rhum_feature_13 + \\\n",
    "rhum_feature_time_7 + pres_feature_time_7 + precip_feature_time_7 + \\\n",
    "rhum_feature_time_14 + pres_feature_time_14 + precip_feature_time_14 + \\\n",
    "sst_features_5_lat + wind_feature_5_lat + slp_feature_5_lat + precip_feature_5_lat + pres_feature_5_lat + rhum_feature_5_lat + \\\n",
    "sst_features_5_lon + wind_feature_5_lon + slp_feature_5_lon + precip_feature_5_lon + pres_feature_5_lon + rhum_feature_5_lon\n"
   ]
  },
  {
   "cell_type": "code",
   "execution_count": 23,
   "metadata": {
    "id": "Ye0xBhX_m3ss"
   },
   "outputs": [],
   "source": [
    "cols = selected_cols"
   ]
  },
  {
   "cell_type": "code",
   "execution_count": 24,
   "metadata": {
    "id": "1qugjBfFyo5q"
   },
   "outputs": [],
   "source": [
    "# saved_cols = list(set(selected_cols + ['index', target[0], 'lat_index', 'lon_index', 'startdate']))"
   ]
  },
  {
   "cell_type": "code",
   "execution_count": 25,
   "metadata": {
    "id": "20r0TmPqy9EM"
   },
   "outputs": [],
   "source": [
    "# train_df[saved_cols].to_csv('./fe_train_v2.csv', index=False)\n",
    "# test_df[saved_cols].to_csv('./fe_test_v2.csv', index=False)"
   ]
  },
  {
   "cell_type": "code",
   "execution_count": 26,
   "metadata": {
    "id": "_KgXcldsMnS1"
   },
   "outputs": [],
   "source": [
    "# ! git clone --recursive https://github.com/Microsoft/LightGBM\n",
    "# ! cd LightGBM && rm -rf build && mkdir build && cd build && cmake -DUSE_GPU=1 ../../LightGBM && make -j4 && cd ../python-package && python3 setup.py install --precompile --gpu;"
   ]
  },
  {
   "cell_type": "code",
   "execution_count": 27,
   "metadata": {
    "id": "tLGhwHlaN9YZ"
   },
   "outputs": [],
   "source": [
    "# import lightgbm as lgb"
   ]
  },
  {
   "cell_type": "code",
   "execution_count": 28,
   "metadata": {
    "id": "g8rUErOhoGoJ"
   },
   "outputs": [],
   "source": [
    "def train_test_by_df(train_df_, test_df_, iterations):\n",
    "  X = train_df_[cols].values\n",
    "  y = train_df_[target[0]].values\n",
    "\n",
    "  skf = KFold(n_splits=5, random_state=2048, shuffle=True)\n",
    "  skf.get_n_splits(X, y)\n",
    "\n",
    "  train_index_list = []\n",
    "  test_index_list = []\n",
    "  train_x_list = []\n",
    "  val_x_list = []\n",
    "  train_y_list = []\n",
    "  val_y_list = []\n",
    "\n",
    "  for i, (train_index, test_index) in tqdm(enumerate(skf.split(X, y))):\n",
    "    train_index_list.append(train_index)\n",
    "    test_index_list.append(test_index)\n",
    "\n",
    "    train_x_list.append(X[train_index, :])\n",
    "    val_x_list.append(X[test_index, :])\n",
    "    train_y_list.append(y[train_index])\n",
    "    val_y_list.append(y[test_index]) \n",
    "  \n",
    "    \n",
    "  cat_models = []\n",
    "  for i in tqdm(range(5)):\n",
    "    train_x, val_x = train_x_list[i], val_x_list[i]\n",
    "    train_y, val_y = train_y_list[i], val_y_list[i]\n",
    "    clf = CatBoostRegressor(iterations=iterations, verbose=1000, task_type=\"GPU\", \n",
    "                        devices='0')\n",
    "    clf.fit(train_x, train_y, eval_set=[(val_x, val_y)])\n",
    "    cat_models.append(clf)\n",
    "\n",
    "  preds = []\n",
    "  for cat_model in tqdm(cat_models):\n",
    "      preds.append(cat_model.predict(test_df_[cols].values))\n",
    "  s = 0\n",
    "  for pred in preds:\n",
    "      s += pred\n",
    "  s = s/5\n",
    "  \n",
    "  return s, cat_models\n"
   ]
  },
  {
   "cell_type": "code",
   "execution_count": null,
   "metadata": {
    "colab": {
     "base_uri": "https://localhost:8080/"
    },
    "id": "gA0cuANTo35F",
    "outputId": "385e7fc6-ac2a-4a87-cea7-6af57b534607"
   },
   "outputs": [
    {
     "name": "stderr",
     "output_type": "stream",
     "text": [
      "5it [00:37,  7.58s/it]\n",
      "  0%|                                                                                                | 0/5 [00:00<?, ?it/s]"
     ]
    },
    {
     "name": "stdout",
     "output_type": "stream",
     "text": [
      "Learning rate set to 0.022221\n",
      "0:\tlearn: 9.6754298\ttest: 9.7081080\tbest: 9.7081080 (0)\ttotal: 10.7ms\tremaining: 57m 9s\n",
      "1000:\tlearn: 0.8920274\ttest: 0.9018392\tbest: 0.9018392 (1000)\ttotal: 6.13s\tremaining: 32m 31s\n",
      "2000:\tlearn: 0.6559267\ttest: 0.6684705\tbest: 0.6684705 (2000)\ttotal: 12.1s\tremaining: 32m 5s\n",
      "3000:\tlearn: 0.5510536\ttest: 0.5658156\tbest: 0.5658156 (3000)\ttotal: 18s\tremaining: 31m 36s\n",
      "4000:\tlearn: 0.4872262\ttest: 0.5037742\tbest: 0.5037742 (4000)\ttotal: 23.7s\tremaining: 31m 12s\n",
      "5000:\tlearn: 0.4424926\ttest: 0.4608479\tbest: 0.4608479 (5000)\ttotal: 29.4s\tremaining: 30m 54s\n",
      "6000:\tlearn: 0.4091294\ttest: 0.4290402\tbest: 0.4290402 (6000)\ttotal: 35.3s\tremaining: 30m 46s\n",
      "7000:\tlearn: 0.3822143\ttest: 0.4035821\tbest: 0.4035821 (7000)\ttotal: 41.1s\tremaining: 30m 37s\n",
      "8000:\tlearn: 0.3599327\ttest: 0.3827763\tbest: 0.3827763 (8000)\ttotal: 46.7s\tremaining: 30m 22s\n",
      "9000:\tlearn: 0.3408423\ttest: 0.3649748\tbest: 0.3649748 (9000)\ttotal: 52.5s\tremaining: 30m 13s\n",
      "10000:\tlearn: 0.3249661\ttest: 0.3502840\tbest: 0.3502840 (10000)\ttotal: 58.1s\tremaining: 30m\n",
      "11000:\tlearn: 0.3106246\ttest: 0.3370150\tbest: 0.3370150 (11000)\ttotal: 1m 3s\tremaining: 29m 51s\n",
      "12000:\tlearn: 0.2982067\ttest: 0.3256781\tbest: 0.3256781 (12000)\ttotal: 1m 9s\tremaining: 29m 46s\n",
      "13000:\tlearn: 0.2868789\ttest: 0.3153329\tbest: 0.3153329 (13000)\ttotal: 1m 15s\tremaining: 29m 38s\n",
      "14000:\tlearn: 0.2768219\ttest: 0.3062178\tbest: 0.3062178 (14000)\ttotal: 1m 21s\tremaining: 29m 33s\n",
      "15000:\tlearn: 0.2676898\ttest: 0.2979597\tbest: 0.2979597 (15000)\ttotal: 1m 26s\tremaining: 29m 25s\n",
      "16000:\tlearn: 0.2594646\ttest: 0.2905674\tbest: 0.2905674 (16000)\ttotal: 1m 32s\tremaining: 29m 18s\n",
      "17000:\tlearn: 0.2518996\ttest: 0.2838069\tbest: 0.2838069 (17000)\ttotal: 1m 38s\tremaining: 29m 11s\n",
      "18000:\tlearn: 0.2449330\ttest: 0.2776004\tbest: 0.2776004 (18000)\ttotal: 1m 44s\tremaining: 29m 4s\n",
      "19000:\tlearn: 0.2384450\ttest: 0.2718508\tbest: 0.2718508 (19000)\ttotal: 1m 49s\tremaining: 28m 58s\n",
      "20000:\tlearn: 0.2324665\ttest: 0.2665610\tbest: 0.2665610 (20000)\ttotal: 1m 55s\tremaining: 28m 50s\n",
      "21000:\tlearn: 0.2268296\ttest: 0.2615883\tbest: 0.2615883 (21000)\ttotal: 2m 1s\tremaining: 28m 44s\n",
      "22000:\tlearn: 0.2215715\ttest: 0.2569933\tbest: 0.2569933 (22000)\ttotal: 2m 7s\tremaining: 28m 41s\n",
      "23000:\tlearn: 0.2166239\ttest: 0.2526769\tbest: 0.2526769 (23000)\ttotal: 2m 12s\tremaining: 28m 34s\n",
      "24000:\tlearn: 0.2119115\ttest: 0.2485834\tbest: 0.2485834 (24000)\ttotal: 2m 18s\tremaining: 28m 29s\n",
      "25000:\tlearn: 0.2074800\ttest: 0.2447268\tbest: 0.2447268 (25000)\ttotal: 2m 24s\tremaining: 28m 22s\n",
      "26000:\tlearn: 0.2032634\ttest: 0.2410842\tbest: 0.2410842 (26000)\ttotal: 2m 29s\tremaining: 28m 16s\n",
      "27000:\tlearn: 0.1993246\ttest: 0.2376799\tbest: 0.2376799 (27000)\ttotal: 2m 35s\tremaining: 28m 11s\n",
      "28000:\tlearn: 0.1955417\ttest: 0.2344659\tbest: 0.2344659 (28000)\ttotal: 2m 41s\tremaining: 28m 6s\n",
      "29000:\tlearn: 0.1919593\ttest: 0.2314234\tbest: 0.2314234 (29000)\ttotal: 2m 47s\tremaining: 28m\n",
      "30000:\tlearn: 0.1885712\ttest: 0.2285750\tbest: 0.2285750 (30000)\ttotal: 2m 53s\tremaining: 27m 53s\n",
      "31000:\tlearn: 0.1853560\ttest: 0.2258755\tbest: 0.2258755 (31000)\ttotal: 2m 58s\tremaining: 27m 46s\n",
      "32000:\tlearn: 0.1822260\ttest: 0.2232533\tbest: 0.2232533 (32000)\ttotal: 3m 4s\tremaining: 27m 40s\n",
      "33000:\tlearn: 0.1792933\ttest: 0.2208201\tbest: 0.2208201 (33000)\ttotal: 3m 10s\tremaining: 27m 35s\n",
      "34000:\tlearn: 0.1764902\ttest: 0.2185034\tbest: 0.2185034 (34000)\ttotal: 3m 16s\tremaining: 27m 29s\n",
      "35000:\tlearn: 0.1737784\ttest: 0.2162684\tbest: 0.2162684 (35000)\ttotal: 3m 21s\tremaining: 27m 23s\n",
      "36000:\tlearn: 0.1711659\ttest: 0.2141141\tbest: 0.2141141 (36000)\ttotal: 3m 27s\tremaining: 27m 17s\n",
      "37000:\tlearn: 0.1686568\ttest: 0.2120641\tbest: 0.2120641 (37000)\ttotal: 3m 33s\tremaining: 27m 11s\n",
      "38000:\tlearn: 0.1662324\ttest: 0.2100731\tbest: 0.2100731 (38000)\ttotal: 3m 39s\tremaining: 27m 6s\n",
      "39000:\tlearn: 0.1639334\ttest: 0.2082143\tbest: 0.2082143 (39000)\ttotal: 3m 44s\tremaining: 26m 59s\n",
      "40000:\tlearn: 0.1617066\ttest: 0.2064023\tbest: 0.2064023 (40000)\ttotal: 3m 50s\tremaining: 26m 52s\n",
      "41000:\tlearn: 0.1595486\ttest: 0.2046385\tbest: 0.2046385 (41000)\ttotal: 3m 55s\tremaining: 26m 45s\n",
      "42000:\tlearn: 0.1574362\ttest: 0.2029227\tbest: 0.2029227 (42000)\ttotal: 4m 1s\tremaining: 26m 39s\n",
      "43000:\tlearn: 0.1554435\ttest: 0.2013421\tbest: 0.2013421 (43000)\ttotal: 4m 7s\tremaining: 26m 33s\n",
      "44000:\tlearn: 0.1534904\ttest: 0.1997842\tbest: 0.1997842 (44000)\ttotal: 4m 13s\tremaining: 26m 27s\n",
      "45000:\tlearn: 0.1515790\ttest: 0.1982632\tbest: 0.1982632 (45000)\ttotal: 4m 18s\tremaining: 26m 21s\n",
      "46000:\tlearn: 0.1497278\ttest: 0.1968007\tbest: 0.1968007 (46000)\ttotal: 4m 24s\tremaining: 26m 14s\n",
      "47000:\tlearn: 0.1479446\ttest: 0.1954030\tbest: 0.1954030 (47000)\ttotal: 4m 30s\tremaining: 26m 8s\n",
      "48000:\tlearn: 0.1462217\ttest: 0.1940588\tbest: 0.1940588 (48000)\ttotal: 4m 35s\tremaining: 26m 2s\n",
      "49000:\tlearn: 0.1445452\ttest: 0.1927551\tbest: 0.1927551 (49000)\ttotal: 4m 43s\tremaining: 26m 8s\n",
      "50000:\tlearn: 0.1429020\ttest: 0.1914660\tbest: 0.1914660 (50000)\ttotal: 4m 49s\tremaining: 26m 2s\n",
      "51000:\tlearn: 0.1413334\ttest: 0.1902539\tbest: 0.1902539 (51000)\ttotal: 4m 55s\tremaining: 25m 55s\n",
      "52000:\tlearn: 0.1397857\ttest: 0.1890355\tbest: 0.1890355 (52000)\ttotal: 5m\tremaining: 25m 49s\n",
      "53000:\tlearn: 0.1383133\ttest: 0.1878975\tbest: 0.1878975 (53000)\ttotal: 5m 6s\tremaining: 25m 43s\n",
      "54000:\tlearn: 0.1368753\ttest: 0.1867797\tbest: 0.1867797 (54000)\ttotal: 5m 12s\tremaining: 25m 37s\n",
      "55000:\tlearn: 0.1354668\ttest: 0.1856873\tbest: 0.1856873 (55000)\ttotal: 5m 17s\tremaining: 25m 31s\n",
      "56000:\tlearn: 0.1340816\ttest: 0.1846281\tbest: 0.1846281 (56000)\ttotal: 5m 23s\tremaining: 25m 25s\n",
      "57000:\tlearn: 0.1327597\ttest: 0.1836409\tbest: 0.1836409 (57000)\ttotal: 5m 29s\tremaining: 25m 18s\n",
      "58000:\tlearn: 0.1314526\ttest: 0.1826518\tbest: 0.1826518 (58000)\ttotal: 5m 35s\tremaining: 25m 14s\n",
      "59000:\tlearn: 0.1301845\ttest: 0.1816832\tbest: 0.1816832 (59000)\ttotal: 5m 40s\tremaining: 25m 8s\n",
      "60000:\tlearn: 0.1289420\ttest: 0.1807370\tbest: 0.1807370 (60000)\ttotal: 5m 46s\tremaining: 25m 2s\n",
      "61000:\tlearn: 0.1277440\ttest: 0.1798273\tbest: 0.1798273 (61000)\ttotal: 5m 52s\tremaining: 24m 56s\n",
      "62000:\tlearn: 0.1265563\ttest: 0.1789470\tbest: 0.1789470 (62000)\ttotal: 5m 58s\tremaining: 24m 49s\n",
      "63000:\tlearn: 0.1253971\ttest: 0.1780828\tbest: 0.1780828 (63000)\ttotal: 6m 3s\tremaining: 24m 43s\n",
      "64000:\tlearn: 0.1242547\ttest: 0.1772461\tbest: 0.1772461 (64000)\ttotal: 6m 9s\tremaining: 24m 37s\n",
      "65000:\tlearn: 0.1231627\ttest: 0.1764479\tbest: 0.1764479 (65000)\ttotal: 6m 15s\tremaining: 24m 31s\n",
      "66000:\tlearn: 0.1220712\ttest: 0.1756528\tbest: 0.1756528 (66000)\ttotal: 6m 20s\tremaining: 24m 25s\n",
      "67000:\tlearn: 0.1210045\ttest: 0.1748627\tbest: 0.1748627 (67000)\ttotal: 6m 26s\tremaining: 24m 19s\n",
      "68000:\tlearn: 0.1199849\ttest: 0.1741351\tbest: 0.1741351 (68000)\ttotal: 6m 32s\tremaining: 24m 13s\n",
      "69000:\tlearn: 0.1189671\ttest: 0.1733835\tbest: 0.1733835 (69000)\ttotal: 6m 38s\tremaining: 24m 7s\n",
      "70000:\tlearn: 0.1179658\ttest: 0.1726555\tbest: 0.1726555 (70000)\ttotal: 6m 43s\tremaining: 24m 1s\n",
      "71000:\tlearn: 0.1169948\ttest: 0.1719677\tbest: 0.1719677 (71000)\ttotal: 6m 49s\tremaining: 23m 55s\n",
      "72000:\tlearn: 0.1160407\ttest: 0.1712930\tbest: 0.1712930 (72000)\ttotal: 6m 54s\tremaining: 23m 49s\n",
      "73000:\tlearn: 0.1150992\ttest: 0.1706139\tbest: 0.1706139 (73000)\ttotal: 7m\tremaining: 23m 43s\n",
      "74000:\tlearn: 0.1141717\ttest: 0.1699420\tbest: 0.1699420 (74000)\ttotal: 7m 6s\tremaining: 23m 37s\n",
      "75000:\tlearn: 0.1132724\ttest: 0.1693002\tbest: 0.1693002 (75000)\ttotal: 7m 12s\tremaining: 23m 32s\n",
      "76000:\tlearn: 0.1123850\ttest: 0.1686635\tbest: 0.1686635 (76000)\ttotal: 7m 17s\tremaining: 23m 26s\n",
      "77000:\tlearn: 0.1115214\ttest: 0.1680484\tbest: 0.1680484 (77000)\ttotal: 7m 23s\tremaining: 23m 19s\n",
      "78000:\tlearn: 0.1106691\ttest: 0.1674529\tbest: 0.1674529 (78000)\ttotal: 7m 29s\tremaining: 23m 13s\n",
      "79000:\tlearn: 0.1098193\ttest: 0.1668529\tbest: 0.1668529 (79000)\ttotal: 7m 34s\tremaining: 23m 7s\n",
      "80000:\tlearn: 0.1089928\ttest: 0.1662551\tbest: 0.1662551 (80000)\ttotal: 7m 40s\tremaining: 23m 1s\n",
      "81000:\tlearn: 0.1081763\ttest: 0.1656822\tbest: 0.1656822 (81000)\ttotal: 7m 46s\tremaining: 22m 55s\n",
      "82000:\tlearn: 0.1073814\ttest: 0.1651266\tbest: 0.1651266 (82000)\ttotal: 7m 52s\tremaining: 22m 50s\n",
      "83000:\tlearn: 0.1066130\ttest: 0.1645968\tbest: 0.1645968 (83000)\ttotal: 7m 57s\tremaining: 22m 44s\n",
      "84000:\tlearn: 0.1058511\ttest: 0.1640764\tbest: 0.1640764 (84000)\ttotal: 8m 3s\tremaining: 22m 38s\n"
     ]
    },
    {
     "name": "stdout",
     "output_type": "stream",
     "text": [
      "85000:\tlearn: 0.1050950\ttest: 0.1635540\tbest: 0.1635540 (85000)\ttotal: 8m 9s\tremaining: 22m 33s\n",
      "86000:\tlearn: 0.1043602\ttest: 0.1630587\tbest: 0.1630587 (86000)\ttotal: 8m 15s\tremaining: 22m 27s\n",
      "87000:\tlearn: 0.1036350\ttest: 0.1625652\tbest: 0.1625652 (87000)\ttotal: 8m 21s\tremaining: 22m 22s\n",
      "88000:\tlearn: 0.1029186\ttest: 0.1620738\tbest: 0.1620738 (88000)\ttotal: 8m 27s\tremaining: 22m 17s\n",
      "89000:\tlearn: 0.1022044\ttest: 0.1615823\tbest: 0.1615823 (89000)\ttotal: 8m 33s\tremaining: 22m 11s\n",
      "90000:\tlearn: 0.1015097\ttest: 0.1611051\tbest: 0.1611051 (90000)\ttotal: 8m 38s\tremaining: 22m 6s\n",
      "91000:\tlearn: 0.1008180\ttest: 0.1606433\tbest: 0.1606433 (91000)\ttotal: 8m 44s\tremaining: 22m\n",
      "92000:\tlearn: 0.1001455\ttest: 0.1601939\tbest: 0.1601939 (92000)\ttotal: 8m 50s\tremaining: 21m 55s\n",
      "93000:\tlearn: 0.0994726\ttest: 0.1597362\tbest: 0.1597362 (93000)\ttotal: 8m 56s\tremaining: 21m 49s\n",
      "94000:\tlearn: 0.0988256\ttest: 0.1593031\tbest: 0.1593031 (94000)\ttotal: 9m 2s\tremaining: 21m 44s\n",
      "95000:\tlearn: 0.0981789\ttest: 0.1588668\tbest: 0.1588668 (95000)\ttotal: 9m 8s\tremaining: 21m 38s\n",
      "96000:\tlearn: 0.0975445\ttest: 0.1584534\tbest: 0.1584534 (96000)\ttotal: 9m 14s\tremaining: 21m 33s\n",
      "97000:\tlearn: 0.0969242\ttest: 0.1580478\tbest: 0.1580478 (97000)\ttotal: 9m 20s\tremaining: 21m 27s\n",
      "98000:\tlearn: 0.0962996\ttest: 0.1576375\tbest: 0.1576375 (98000)\ttotal: 9m 25s\tremaining: 21m 21s\n",
      "99000:\tlearn: 0.0956957\ttest: 0.1572436\tbest: 0.1572436 (99000)\ttotal: 9m 31s\tremaining: 21m 15s\n",
      "100000:\tlearn: 0.0950999\ttest: 0.1568498\tbest: 0.1568498 (100000)\ttotal: 9m 37s\tremaining: 21m 9s\n",
      "101000:\tlearn: 0.0945077\ttest: 0.1564666\tbest: 0.1564666 (101000)\ttotal: 9m 45s\tremaining: 21m 8s\n",
      "102000:\tlearn: 0.0939291\ttest: 0.1560884\tbest: 0.1560884 (102000)\ttotal: 9m 50s\tremaining: 21m 2s\n",
      "103000:\tlearn: 0.0933641\ttest: 0.1557301\tbest: 0.1557301 (103000)\ttotal: 9m 56s\tremaining: 20m 56s\n",
      "104000:\tlearn: 0.0928035\ttest: 0.1553703\tbest: 0.1553703 (104000)\ttotal: 10m 2s\tremaining: 20m 51s\n",
      "105000:\tlearn: 0.0922358\ttest: 0.1550051\tbest: 0.1550051 (105000)\ttotal: 10m 8s\tremaining: 20m 45s\n",
      "106000:\tlearn: 0.0916873\ttest: 0.1546569\tbest: 0.1546569 (106000)\ttotal: 10m 14s\tremaining: 20m 40s\n",
      "107000:\tlearn: 0.0911430\ttest: 0.1543143\tbest: 0.1543143 (107000)\ttotal: 10m 20s\tremaining: 20m 34s\n",
      "108000:\tlearn: 0.0906044\ttest: 0.1539764\tbest: 0.1539764 (108000)\ttotal: 10m 25s\tremaining: 20m 28s\n",
      "109000:\tlearn: 0.0900743\ttest: 0.1536373\tbest: 0.1536373 (109000)\ttotal: 10m 31s\tremaining: 20m 22s\n",
      "110000:\tlearn: 0.0895603\ttest: 0.1533078\tbest: 0.1533078 (110000)\ttotal: 10m 37s\tremaining: 20m 17s\n",
      "111000:\tlearn: 0.0890443\ttest: 0.1529814\tbest: 0.1529814 (111000)\ttotal: 10m 43s\tremaining: 20m 11s\n",
      "112000:\tlearn: 0.0885414\ttest: 0.1526600\tbest: 0.1526600 (112000)\ttotal: 10m 49s\tremaining: 20m 6s\n",
      "113000:\tlearn: 0.0880363\ttest: 0.1523473\tbest: 0.1523473 (113000)\ttotal: 10m 55s\tremaining: 20m\n",
      "114000:\tlearn: 0.0875304\ttest: 0.1520278\tbest: 0.1520278 (114000)\ttotal: 11m 1s\tremaining: 19m 55s\n",
      "115000:\tlearn: 0.0870420\ttest: 0.1517246\tbest: 0.1517246 (115000)\ttotal: 11m 7s\tremaining: 19m 49s\n",
      "116000:\tlearn: 0.0865560\ttest: 0.1514230\tbest: 0.1514230 (116000)\ttotal: 11m 13s\tremaining: 19m 44s\n",
      "117000:\tlearn: 0.0860811\ttest: 0.1511376\tbest: 0.1511376 (117000)\ttotal: 11m 19s\tremaining: 19m 39s\n",
      "118000:\tlearn: 0.0856130\ttest: 0.1508595\tbest: 0.1508595 (118000)\ttotal: 11m 25s\tremaining: 19m 33s\n",
      "119000:\tlearn: 0.0851493\ttest: 0.1505705\tbest: 0.1505705 (119000)\ttotal: 11m 31s\tremaining: 19m 27s\n",
      "120000:\tlearn: 0.0846810\ttest: 0.1502850\tbest: 0.1502850 (120000)\ttotal: 11m 37s\tremaining: 19m 22s\n",
      "121000:\tlearn: 0.0842249\ttest: 0.1500087\tbest: 0.1500087 (121000)\ttotal: 11m 43s\tremaining: 19m 16s\n",
      "122000:\tlearn: 0.0837805\ttest: 0.1497297\tbest: 0.1497297 (122000)\ttotal: 11m 49s\tremaining: 19m 10s\n",
      "123000:\tlearn: 0.0833411\ttest: 0.1494669\tbest: 0.1494669 (123000)\ttotal: 11m 54s\tremaining: 19m 4s\n",
      "124000:\tlearn: 0.0828994\ttest: 0.1491986\tbest: 0.1491986 (124000)\ttotal: 12m\tremaining: 18m 59s\n",
      "125000:\tlearn: 0.0824662\ttest: 0.1489325\tbest: 0.1489325 (125000)\ttotal: 12m 6s\tremaining: 18m 53s\n",
      "126000:\tlearn: 0.0820379\ttest: 0.1486802\tbest: 0.1486802 (126000)\ttotal: 12m 12s\tremaining: 18m 48s\n",
      "127000:\tlearn: 0.0816089\ttest: 0.1484248\tbest: 0.1484248 (127000)\ttotal: 12m 18s\tremaining: 18m 42s\n",
      "128000:\tlearn: 0.0811857\ttest: 0.1481618\tbest: 0.1481618 (128000)\ttotal: 12m 24s\tremaining: 18m 37s\n",
      "129000:\tlearn: 0.0807632\ttest: 0.1479121\tbest: 0.1479121 (129000)\ttotal: 12m 31s\tremaining: 18m 32s\n",
      "130000:\tlearn: 0.0803500\ttest: 0.1476596\tbest: 0.1476596 (130000)\ttotal: 12m 37s\tremaining: 18m 26s\n",
      "131000:\tlearn: 0.0799450\ttest: 0.1474184\tbest: 0.1474184 (131000)\ttotal: 12m 43s\tremaining: 18m 21s\n",
      "132000:\tlearn: 0.0795354\ttest: 0.1471727\tbest: 0.1471727 (132000)\ttotal: 12m 49s\tremaining: 18m 15s\n",
      "133000:\tlearn: 0.0791378\ttest: 0.1469322\tbest: 0.1469322 (133000)\ttotal: 12m 55s\tremaining: 18m 10s\n",
      "134000:\tlearn: 0.0787357\ttest: 0.1466867\tbest: 0.1466867 (134000)\ttotal: 13m 1s\tremaining: 18m 4s\n",
      "135000:\tlearn: 0.0783476\ttest: 0.1464619\tbest: 0.1464619 (135000)\ttotal: 13m 7s\tremaining: 17m 59s\n",
      "136000:\tlearn: 0.0779566\ttest: 0.1462367\tbest: 0.1462367 (136000)\ttotal: 13m 13s\tremaining: 17m 53s\n",
      "137000:\tlearn: 0.0775779\ttest: 0.1460261\tbest: 0.1460261 (137000)\ttotal: 13m 19s\tremaining: 17m 47s\n",
      "138000:\tlearn: 0.0771944\ttest: 0.1458015\tbest: 0.1458015 (138000)\ttotal: 13m 25s\tremaining: 17m 41s\n",
      "139000:\tlearn: 0.0768163\ttest: 0.1455940\tbest: 0.1455940 (139000)\ttotal: 13m 30s\tremaining: 17m 35s\n",
      "140000:\tlearn: 0.0764440\ttest: 0.1453779\tbest: 0.1453779 (140000)\ttotal: 13m 36s\tremaining: 17m 29s\n",
      "141000:\tlearn: 0.0760832\ttest: 0.1451687\tbest: 0.1451687 (141000)\ttotal: 13m 42s\tremaining: 17m 23s\n",
      "142000:\tlearn: 0.0757155\ttest: 0.1449614\tbest: 0.1449614 (142000)\ttotal: 13m 47s\tremaining: 17m 17s\n",
      "143000:\tlearn: 0.0753545\ttest: 0.1447515\tbest: 0.1447515 (143000)\ttotal: 13m 53s\tremaining: 17m 12s\n",
      "144000:\tlearn: 0.0749990\ttest: 0.1445469\tbest: 0.1445469 (144000)\ttotal: 13m 59s\tremaining: 17m 5s\n",
      "145000:\tlearn: 0.0746454\ttest: 0.1443458\tbest: 0.1443458 (145000)\ttotal: 14m 5s\tremaining: 17m\n",
      "146000:\tlearn: 0.0742954\ttest: 0.1441487\tbest: 0.1441487 (146000)\ttotal: 14m 10s\tremaining: 16m 53s\n",
      "147000:\tlearn: 0.0739490\ttest: 0.1439542\tbest: 0.1439542 (147000)\ttotal: 14m 16s\tremaining: 16m 47s\n",
      "148000:\tlearn: 0.0736044\ttest: 0.1437597\tbest: 0.1437597 (148000)\ttotal: 14m 22s\tremaining: 16m 41s\n",
      "149000:\tlearn: 0.0732589\ttest: 0.1435633\tbest: 0.1435633 (149000)\ttotal: 14m 27s\tremaining: 16m 36s\n",
      "150000:\tlearn: 0.0729150\ttest: 0.1433733\tbest: 0.1433733 (150000)\ttotal: 14m 33s\tremaining: 16m 30s\n",
      "151000:\tlearn: 0.0725835\ttest: 0.1431837\tbest: 0.1431837 (151000)\ttotal: 14m 39s\tremaining: 16m 24s\n",
      "152000:\tlearn: 0.0722476\ttest: 0.1429922\tbest: 0.1429922 (152000)\ttotal: 14m 46s\tremaining: 16m 20s\n",
      "153000:\tlearn: 0.0719157\ttest: 0.1428087\tbest: 0.1428087 (153000)\ttotal: 14m 52s\tremaining: 16m 14s\n",
      "154000:\tlearn: 0.0715881\ttest: 0.1426250\tbest: 0.1426249 (153999)\ttotal: 14m 58s\tremaining: 16m 8s\n",
      "155000:\tlearn: 0.0712663\ttest: 0.1424469\tbest: 0.1424469 (155000)\ttotal: 15m 4s\tremaining: 16m 2s\n",
      "156000:\tlearn: 0.0709464\ttest: 0.1422682\tbest: 0.1422682 (156000)\ttotal: 15m 9s\tremaining: 15m 56s\n",
      "157000:\tlearn: 0.0706322\ttest: 0.1420939\tbest: 0.1420939 (157000)\ttotal: 15m 15s\tremaining: 15m 50s\n",
      "158000:\tlearn: 0.0703166\ttest: 0.1419195\tbest: 0.1419195 (158000)\ttotal: 15m 21s\tremaining: 15m 44s\n",
      "159000:\tlearn: 0.0700030\ttest: 0.1417458\tbest: 0.1417458 (159000)\ttotal: 15m 26s\tremaining: 15m 38s\n",
      "160000:\tlearn: 0.0696913\ttest: 0.1415781\tbest: 0.1415781 (160000)\ttotal: 15m 32s\tremaining: 15m 32s\n",
      "161000:\tlearn: 0.0693817\ttest: 0.1414128\tbest: 0.1414128 (161000)\ttotal: 15m 38s\tremaining: 15m 26s\n",
      "162000:\tlearn: 0.0690765\ttest: 0.1412427\tbest: 0.1412427 (162000)\ttotal: 15m 43s\tremaining: 15m 20s\n",
      "163000:\tlearn: 0.0687772\ttest: 0.1410867\tbest: 0.1410867 (163000)\ttotal: 15m 49s\tremaining: 15m 14s\n",
      "164000:\tlearn: 0.0684801\ttest: 0.1409262\tbest: 0.1409262 (164000)\ttotal: 15m 55s\tremaining: 15m 8s\n",
      "165000:\tlearn: 0.0681866\ttest: 0.1407689\tbest: 0.1407689 (165000)\ttotal: 16m 1s\tremaining: 15m 3s\n",
      "166000:\tlearn: 0.0678976\ttest: 0.1406158\tbest: 0.1406158 (166000)\ttotal: 16m 6s\tremaining: 14m 57s\n",
      "167000:\tlearn: 0.0676058\ttest: 0.1404638\tbest: 0.1404638 (167000)\ttotal: 16m 12s\tremaining: 14m 51s\n"
     ]
    },
    {
     "name": "stdout",
     "output_type": "stream",
     "text": [
      "168000:\tlearn: 0.0673190\ttest: 0.1403132\tbest: 0.1403132 (168000)\ttotal: 16m 18s\tremaining: 14m 45s\n",
      "169000:\tlearn: 0.0670330\ttest: 0.1401635\tbest: 0.1401635 (169000)\ttotal: 16m 23s\tremaining: 14m 39s\n",
      "170000:\tlearn: 0.0667518\ttest: 0.1400156\tbest: 0.1400156 (170000)\ttotal: 16m 29s\tremaining: 14m 33s\n",
      "171000:\tlearn: 0.0664710\ttest: 0.1398702\tbest: 0.1398702 (171000)\ttotal: 16m 35s\tremaining: 14m 27s\n",
      "172000:\tlearn: 0.0661955\ttest: 0.1397240\tbest: 0.1397240 (171999)\ttotal: 16m 41s\tremaining: 14m 21s\n",
      "173000:\tlearn: 0.0659160\ttest: 0.1395722\tbest: 0.1395722 (173000)\ttotal: 16m 46s\tremaining: 14m 15s\n",
      "174000:\tlearn: 0.0656402\ttest: 0.1394266\tbest: 0.1394266 (174000)\ttotal: 16m 52s\tremaining: 14m 9s\n",
      "175000:\tlearn: 0.0653676\ttest: 0.1392824\tbest: 0.1392824 (175000)\ttotal: 16m 58s\tremaining: 14m 3s\n",
      "176000:\tlearn: 0.0650978\ttest: 0.1391395\tbest: 0.1391395 (176000)\ttotal: 17m 3s\tremaining: 13m 57s\n",
      "177000:\tlearn: 0.0648277\ttest: 0.1389961\tbest: 0.1389961 (177000)\ttotal: 17m 9s\tremaining: 13m 51s\n",
      "178000:\tlearn: 0.0645604\ttest: 0.1388536\tbest: 0.1388536 (178000)\ttotal: 17m 15s\tremaining: 13m 45s\n",
      "179000:\tlearn: 0.0642979\ttest: 0.1387112\tbest: 0.1387112 (178999)\ttotal: 17m 20s\tremaining: 13m 39s\n",
      "180000:\tlearn: 0.0640385\ttest: 0.1385749\tbest: 0.1385749 (180000)\ttotal: 17m 26s\tremaining: 13m 33s\n",
      "181000:\tlearn: 0.0637815\ttest: 0.1384387\tbest: 0.1384387 (181000)\ttotal: 17m 32s\tremaining: 13m 28s\n",
      "182000:\tlearn: 0.0635224\ttest: 0.1383016\tbest: 0.1383016 (182000)\ttotal: 17m 37s\tremaining: 13m 22s\n",
      "183000:\tlearn: 0.0632711\ttest: 0.1381716\tbest: 0.1381716 (183000)\ttotal: 17m 43s\tremaining: 13m 16s\n",
      "184000:\tlearn: 0.0630174\ttest: 0.1380399\tbest: 0.1380399 (183998)\ttotal: 17m 49s\tremaining: 13m 10s\n",
      "185000:\tlearn: 0.0627659\ttest: 0.1379139\tbest: 0.1379139 (185000)\ttotal: 17m 55s\tremaining: 13m 4s\n",
      "186000:\tlearn: 0.0625161\ttest: 0.1377863\tbest: 0.1377863 (186000)\ttotal: 18m\tremaining: 12m 58s\n",
      "187000:\tlearn: 0.0622673\ttest: 0.1376596\tbest: 0.1376596 (187000)\ttotal: 18m 6s\tremaining: 12m 52s\n",
      "188000:\tlearn: 0.0620229\ttest: 0.1375350\tbest: 0.1375350 (188000)\ttotal: 18m 12s\tremaining: 12m 46s\n",
      "189000:\tlearn: 0.0617778\ttest: 0.1374098\tbest: 0.1374097 (188999)\ttotal: 18m 17s\tremaining: 12m 41s\n",
      "190000:\tlearn: 0.0615370\ttest: 0.1372925\tbest: 0.1372925 (190000)\ttotal: 18m 23s\tremaining: 12m 35s\n",
      "191000:\tlearn: 0.0612977\ttest: 0.1371687\tbest: 0.1371687 (191000)\ttotal: 18m 29s\tremaining: 12m 29s\n",
      "192000:\tlearn: 0.0610600\ttest: 0.1370490\tbest: 0.1370490 (191999)\ttotal: 18m 35s\tremaining: 12m 23s\n",
      "193000:\tlearn: 0.0608249\ttest: 0.1369322\tbest: 0.1369322 (193000)\ttotal: 18m 41s\tremaining: 12m 18s\n",
      "194000:\tlearn: 0.0605908\ttest: 0.1368161\tbest: 0.1368161 (193999)\ttotal: 18m 48s\tremaining: 12m 12s\n",
      "195000:\tlearn: 0.0603569\ttest: 0.1367003\tbest: 0.1367003 (195000)\ttotal: 18m 55s\tremaining: 12m 7s\n",
      "196000:\tlearn: 0.0601233\ttest: 0.1365841\tbest: 0.1365841 (196000)\ttotal: 19m 2s\tremaining: 12m 2s\n",
      "197000:\tlearn: 0.0598931\ttest: 0.1364715\tbest: 0.1364715 (197000)\ttotal: 19m 8s\tremaining: 11m 56s\n",
      "198000:\tlearn: 0.0596634\ttest: 0.1363514\tbest: 0.1363514 (198000)\ttotal: 19m 14s\tremaining: 11m 51s\n",
      "199000:\tlearn: 0.0594358\ttest: 0.1362365\tbest: 0.1362365 (199000)\ttotal: 19m 19s\tremaining: 11m 45s\n",
      "200000:\tlearn: 0.0592114\ttest: 0.1361263\tbest: 0.1361262 (199999)\ttotal: 19m 25s\tremaining: 11m 39s\n",
      "201000:\tlearn: 0.0589912\ttest: 0.1360154\tbest: 0.1360154 (201000)\ttotal: 19m 31s\tremaining: 11m 33s\n",
      "202000:\tlearn: 0.0587732\ttest: 0.1359068\tbest: 0.1359067 (201999)\ttotal: 19m 36s\tremaining: 11m 27s\n",
      "203000:\tlearn: 0.0585539\ttest: 0.1357994\tbest: 0.1357994 (203000)\ttotal: 19m 42s\tremaining: 11m 21s\n",
      "204000:\tlearn: 0.0583373\ttest: 0.1356914\tbest: 0.1356914 (204000)\ttotal: 19m 50s\tremaining: 11m 16s\n",
      "205000:\tlearn: 0.0581198\ttest: 0.1355799\tbest: 0.1355799 (205000)\ttotal: 19m 56s\tremaining: 11m 10s\n",
      "206000:\tlearn: 0.0579013\ttest: 0.1354740\tbest: 0.1354740 (206000)\ttotal: 20m 1s\tremaining: 11m 5s\n",
      "207000:\tlearn: 0.0576875\ttest: 0.1353693\tbest: 0.1353693 (207000)\ttotal: 20m 7s\tremaining: 10m 59s\n",
      "208000:\tlearn: 0.0574730\ttest: 0.1352631\tbest: 0.1352631 (208000)\ttotal: 20m 12s\tremaining: 10m 53s\n",
      "209000:\tlearn: 0.0572638\ttest: 0.1351590\tbest: 0.1351590 (209000)\ttotal: 20m 18s\tremaining: 10m 47s\n",
      "210000:\tlearn: 0.0570565\ttest: 0.1350625\tbest: 0.1350625 (210000)\ttotal: 20m 24s\tremaining: 10m 41s\n",
      "211000:\tlearn: 0.0568474\ttest: 0.1349558\tbest: 0.1349558 (211000)\ttotal: 20m 30s\tremaining: 10m 35s\n",
      "212000:\tlearn: 0.0566431\ttest: 0.1348563\tbest: 0.1348563 (212000)\ttotal: 20m 35s\tremaining: 10m 29s\n",
      "213000:\tlearn: 0.0564365\ttest: 0.1347555\tbest: 0.1347555 (213000)\ttotal: 20m 41s\tremaining: 10m 23s\n",
      "214000:\tlearn: 0.0562332\ttest: 0.1346570\tbest: 0.1346570 (214000)\ttotal: 20m 46s\tremaining: 10m 17s\n",
      "215000:\tlearn: 0.0560298\ttest: 0.1345598\tbest: 0.1345598 (215000)\ttotal: 20m 52s\tremaining: 10m 11s\n",
      "216000:\tlearn: 0.0558310\ttest: 0.1344629\tbest: 0.1344629 (216000)\ttotal: 20m 58s\tremaining: 10m 5s\n",
      "217000:\tlearn: 0.0556321\ttest: 0.1343710\tbest: 0.1343710 (217000)\ttotal: 21m 3s\tremaining: 9m 59s\n",
      "218000:\tlearn: 0.0554334\ttest: 0.1342765\tbest: 0.1342765 (218000)\ttotal: 21m 9s\tremaining: 9m 54s\n",
      "219000:\tlearn: 0.0552357\ttest: 0.1341800\tbest: 0.1341800 (219000)\ttotal: 21m 15s\tremaining: 9m 48s\n",
      "220000:\tlearn: 0.0550381\ttest: 0.1340892\tbest: 0.1340892 (220000)\ttotal: 21m 21s\tremaining: 9m 42s\n",
      "221000:\tlearn: 0.0548425\ttest: 0.1339929\tbest: 0.1339929 (221000)\ttotal: 21m 26s\tremaining: 9m 36s\n",
      "222000:\tlearn: 0.0546498\ttest: 0.1339013\tbest: 0.1339013 (222000)\ttotal: 21m 32s\tremaining: 9m 30s\n",
      "223000:\tlearn: 0.0544577\ttest: 0.1338103\tbest: 0.1338103 (223000)\ttotal: 21m 38s\tremaining: 9m 24s\n",
      "224000:\tlearn: 0.0542684\ttest: 0.1337199\tbest: 0.1337199 (224000)\ttotal: 21m 44s\tremaining: 9m 19s\n",
      "225000:\tlearn: 0.0540800\ttest: 0.1336334\tbest: 0.1336334 (225000)\ttotal: 21m 51s\tremaining: 9m 13s\n",
      "226000:\tlearn: 0.0538924\ttest: 0.1335448\tbest: 0.1335448 (226000)\ttotal: 21m 57s\tremaining: 9m 8s\n",
      "227000:\tlearn: 0.0537030\ttest: 0.1334586\tbest: 0.1334586 (227000)\ttotal: 22m 4s\tremaining: 9m 2s\n",
      "228000:\tlearn: 0.0535198\ttest: 0.1333765\tbest: 0.1333765 (228000)\ttotal: 22m 10s\tremaining: 8m 56s\n",
      "229000:\tlearn: 0.0533367\ttest: 0.1332927\tbest: 0.1332927 (229000)\ttotal: 22m 17s\tremaining: 8m 51s\n",
      "230000:\tlearn: 0.0531544\ttest: 0.1332084\tbest: 0.1332084 (230000)\ttotal: 22m 23s\tremaining: 8m 45s\n",
      "231000:\tlearn: 0.0529686\ttest: 0.1331240\tbest: 0.1331240 (231000)\ttotal: 22m 29s\tremaining: 8m 39s\n",
      "232000:\tlearn: 0.0527873\ttest: 0.1330366\tbest: 0.1330366 (232000)\ttotal: 22m 35s\tremaining: 8m 34s\n",
      "233000:\tlearn: 0.0526049\ttest: 0.1329504\tbest: 0.1329504 (233000)\ttotal: 22m 41s\tremaining: 8m 28s\n",
      "234000:\tlearn: 0.0524262\ttest: 0.1328713\tbest: 0.1328713 (234000)\ttotal: 22m 48s\tremaining: 8m 22s\n",
      "235000:\tlearn: 0.0522473\ttest: 0.1327884\tbest: 0.1327884 (235000)\ttotal: 22m 54s\tremaining: 8m 17s\n",
      "236000:\tlearn: 0.0520702\ttest: 0.1327057\tbest: 0.1327057 (235999)\ttotal: 23m\tremaining: 8m 11s\n",
      "237000:\tlearn: 0.0518929\ttest: 0.1326263\tbest: 0.1326263 (237000)\ttotal: 23m 7s\tremaining: 8m 5s\n",
      "238000:\tlearn: 0.0517175\ttest: 0.1325433\tbest: 0.1325433 (238000)\ttotal: 23m 13s\tremaining: 8m\n",
      "239000:\tlearn: 0.0515416\ttest: 0.1324642\tbest: 0.1324642 (239000)\ttotal: 23m 19s\tremaining: 7m 54s\n"
     ]
    }
   ],
   "source": [
    "# s = train_test_by_df(train_df_0, test_df_0, 3000)\n",
    "# test_df_0['pred'] = s\n",
    "\n",
    "# s = train_test_by_df(train_df_1, test_df_1, 2000)\n",
    "# test_df_1['pred'] = s\n",
    "\n",
    "# s = train_test_by_df(train_df_2, test_df_2, 2000)\n",
    "# test_df_2['pred'] = s\n",
    "\n",
    "s, cat_models = train_test_by_df(train_df, test_df, 320000)"
   ]
  },
  {
   "cell_type": "code",
   "execution_count": null,
   "metadata": {
    "id": "-BCF56ALAsVc"
   },
   "outputs": [],
   "source": [
    "# predict_train = 0\n",
    "\n",
    "# train_preds = []\n",
    "# for cat_model in tqdm(cat_models):\n",
    "#     train_preds.append(cat_model.predict(train_df[cols].values))\n",
    "\n",
    "# for pred in train_preds:\n",
    "#     predict_train += pred\n",
    "# predict_train = predict_train/5\n",
    "# train_df['pred'] = predict_train\n",
    "# train_df['res'] = np.abs(train_df[target[0]] - train_df['pred'])"
   ]
  },
  {
   "cell_type": "code",
   "execution_count": null,
   "metadata": {
    "id": "IQUcvqVoC1k5"
   },
   "outputs": [],
   "source": [
    "# new_train_df = train_df[train_df['res'] <= 0.6]"
   ]
  },
  {
   "cell_type": "code",
   "execution_count": null,
   "metadata": {
    "id": "g43MbxtwDqQc"
   },
   "outputs": [],
   "source": [
    "# new_s, new_cat_models = train_test_by_df(new_train_df, test_df, 4500)"
   ]
  },
  {
   "cell_type": "code",
   "execution_count": null,
   "metadata": {
    "id": "HqSA7Bk99mt3"
   },
   "outputs": [],
   "source": [
    "output_df = pd.DataFrame(columns = ['index', 'pred'])\n",
    "output_df['index'] = [int(i) for i in test_df['index']]\n",
    "output_df['pred'] = s\n",
    "res_df = pd.read_csv('./sample_solution.csv')\n",
    "res_df = res_df.merge(output_df, how='left', on = ['index'])\n",
    "res_df['contest-tmp2m-14d__tmp2m'] = res_df['pred']\n",
    "res_df[[target[0], 'index']].to_csv('submission_fe_lat_lon_region_v3.csv', index=False)\n",
    "\n",
    "best_df = pd.read_csv('best_sub.csv')\n",
    "y_best = best_df[target[0]].values\n",
    "\n",
    "from numpy import dot\n",
    "from numpy.linalg import norm\n",
    "t = np.array(res_df['contest-tmp2m-14d__tmp2m'].tolist())\n",
    "cos_sim = dot(y_best, t)/(norm(y_best)*norm(t))\n",
    "print(\"cos_sim with best submission:\", cos_sim)"
   ]
  },
  {
   "cell_type": "code",
   "execution_count": null,
   "metadata": {
    "id": "NmG3RFPtpHJG"
   },
   "outputs": [],
   "source": [
    "# output_df = pd.concat([test_df_0[['pred', 'index']], test_df_1[['pred', 'index']], test_df_2[['pred', 'index']]])\n",
    "# output_df['index'] = [int(i) for i in output_df['index']]"
   ]
  },
  {
   "cell_type": "code",
   "execution_count": null,
   "metadata": {
    "id": "d8qN0Ns12YAB"
   },
   "outputs": [],
   "source": [
    "# t_0 = test_df_0[['pred', 'index']]\n",
    "# t_0['index'] = [int(i) for i in t_0['index']]"
   ]
  },
  {
   "cell_type": "code",
   "execution_count": null,
   "metadata": {
    "id": "Bzeepqi41zX5"
   },
   "outputs": [],
   "source": [
    "# cat_df = pd.read_csv('./cat_all.csv')\n",
    "# cat_df = cat_df.merge(t_0, on=['index'], how='left')"
   ]
  },
  {
   "cell_type": "code",
   "execution_count": null,
   "metadata": {
    "id": "1GtEFbup2tOU"
   },
   "outputs": [],
   "source": [
    "# import math\n",
    "# def process_result(x1, x2):\n",
    "#   if math.isnan(x2):\n",
    "#     return x1\n",
    "#   return x2 * 0.1 + x1 * 0.9"
   ]
  },
  {
   "cell_type": "code",
   "execution_count": null,
   "metadata": {
    "id": "8fWQplnU2g9N"
   },
   "outputs": [],
   "source": [
    "# cat_df['final'] = cat_df.apply(lambda x: process_result(x[target[0]], x['pred']), axis=1)"
   ]
  },
  {
   "cell_type": "code",
   "execution_count": null,
   "metadata": {
    "id": "HEFIqUmJ1wFT"
   },
   "outputs": [],
   "source": [
    "# res_df = pd.read_csv('./sample_solution.csv')\n",
    "# res_df['contest-tmp2m-14d__tmp2m'] = cat_df['final']\n",
    "# res_df[[target[0], 'index']].to_csv('submission_sub.csv', index=False)\n",
    "\n",
    "# best_df = pd.read_csv('best_sub.csv')\n",
    "# y_best = best_df[target[0]].values\n",
    "\n",
    "# from numpy import dot\n",
    "# from numpy.linalg import norm\n",
    "# t = np.array(res_df['contest-tmp2m-14d__tmp2m'].tolist())\n",
    "# cos_sim = dot(y_best, t)/(norm(y_best)*norm(t))\n",
    "# print(\"cos_sim with best submission:\", cos_sim)"
   ]
  },
  {
   "cell_type": "code",
   "execution_count": null,
   "metadata": {
    "id": "sIP-hKlnZ5Rk"
   },
   "outputs": [],
   "source": [
    "# res_df = pd.read_csv('./sample_solution.csv')\n",
    "# cat_df = pd.read_csv('./submission_fe_lat_lon_region.csv')\n",
    "# lgb_df = pd.read_csv('./best_lgb.csv')\n",
    "# xgb_df = pd.read_csv('./best_xgb.csv')\n",
    "# s = cat_df[target[0]] * 0.7 + lgb_df[target[0]] * 0.3\n",
    "# res_df[target[0]] = s\n",
    "# res_df[[target[0], 'index']].to_csv('submission_ensemble.csv', index=False)\n"
   ]
  },
  {
   "cell_type": "code",
   "execution_count": 4,
   "metadata": {},
   "outputs": [],
   "source": [
    "res_df = pd.read_csv('./sample_solution.csv')\n",
    "cat_df = pd.read_csv('./my_best.csv')\n",
    "lgb_df = pd.read_csv('./best_lgb.csv')\n",
    "xgb_df = pd.read_csv('./best_xgb.csv')\n",
    "drf_df = pd.read_csv('./submission_drf.csv')\n",
    "glm_df = pd.read_csv('./submission_glm.csv')\n",
    "cat_df_2 = pd.read_csv('./submission_generalize.csv')\n",
    "\n",
    "s = cat_df[target[0]] * 0.68 + lgb_df[target[0]] * 0.25 + xgb_df[target[0]] * 0.03 + drf_df[target[0]] * 0.02 + cat_df_2[target[0]] * 0.02\n",
    "res_df[target[0]] = s\n",
    "res_df[[target[0], 'index']].to_csv('submission_ensemble.csv', index=False)\n"
   ]
  }
 ],
 "metadata": {
  "accelerator": "GPU",
  "colab": {
   "provenance": []
  },
  "gpuClass": "standard",
  "kernelspec": {
   "display_name": "ml-env",
   "language": "python",
   "name": "ml-env"
  },
  "language_info": {
   "codemirror_mode": {
    "name": "ipython",
    "version": 3
   },
   "file_extension": ".py",
   "mimetype": "text/x-python",
   "name": "python",
   "nbconvert_exporter": "python",
   "pygments_lexer": "ipython3",
   "version": "3.9.7"
  }
 },
 "nbformat": 4,
 "nbformat_minor": 1
}
